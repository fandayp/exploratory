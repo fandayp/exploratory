{
  "cells": [
    {
      "cell_type": "markdown",
      "id": "FjIPfO44_AqU",
      "metadata": {
        "id": "FjIPfO44_AqU"
      },
      "source": [
        "# Introduction"
      ]
    },
    {
      "cell_type": "markdown",
      "id": "_tP_lpdgl-Dy",
      "metadata": {
        "id": "_tP_lpdgl-Dy"
      },
      "source": [
        "As a business owner, customer reviews can be a valuable source of insight. Imagine being able to gradually monitor areas for improvement that increase customer satisfaction and highlight the best parts of the business for effective branding.\n",
        "\n",
        "This project aims to segment user reviews into several topics for easier analysis.\n",
        "\n",
        "The key components of our project include:\n",
        "- **Review clustering**: to segment customer reviews into distinct clusters by representing the reviews as word embedding (combination of pre-trained LLM and self-train model),\n",
        "- **Sentiment analysis**: to classify the sentiment of a review as positive or negative,\n",
        "- **Topic labeling**: to label review topics within each cluster using a large language model (LLM).\n"
      ]
    },
    {
      "cell_type": "markdown",
      "id": "dX0D25xviE8t",
      "metadata": {
        "id": "dX0D25xviE8t"
      },
      "source": [
        "## Dataset"
      ]
    },
    {
      "cell_type": "markdown",
      "id": "wSygl3nUiHQs",
      "metadata": {
        "id": "wSygl3nUiHQs"
      },
      "source": [
        "The dataset for this project is [Google Local dataset](https://cseweb.ucsd.edu/~jmcauley/datasets.html#google_local) obtained from J. McAuley lab.\n",
        "\n",
        "Originally, the dataset contains millions of business reviews from across the United States up to 2021. However, for the sake of simplicity and due to limited resources for this project, we focus exclusively on one state and one business type: **tourist attractions in Hawaii**.\n",
        "\n",
        "In the end, we limit to 1000 locations with approximately 144k reviews."
      ]
    },
    {
      "cell_type": "code",
      "execution_count": 1,
      "id": "t_emiPNMX52l",
      "metadata": {
        "colab": {
          "base_uri": "https://localhost:8080/"
        },
        "executionInfo": {
          "elapsed": 6372,
          "status": "ok",
          "timestamp": 1730857525682,
          "user": {
            "displayName": "",
            "userId": ""
          },
          "user_tz": -420
        },
        "id": "t_emiPNMX52l",
        "outputId": "d66b6288-24bf-4632-dd48-8ee632d2ddfc"
      },
      "outputs": [
        {
          "name": "stdout",
          "output_type": "stream",
          "text": [
            "\u001b[?25l   \u001b[90m━━━━━━━━━━━━━━━━━━━━━━━━━━━━━━━━━━━━━━━━\u001b[0m \u001b[32m0.0/255.8 kB\u001b[0m \u001b[31m?\u001b[0m eta \u001b[36m-:--:--\u001b[0m\r\u001b[2K   \u001b[90m━━━━━━━━━━━━━━━━━━━━━━━━━━━━━━━━━━━━━━━━\u001b[0m \u001b[32m255.8/255.8 kB\u001b[0m \u001b[31m10.5 MB/s\u001b[0m eta \u001b[36m0:00:00\u001b[0m\n",
            "\u001b[?25h\u001b[?25l   \u001b[90m━━━━━━━━━━━━━━━━━━━━━━━━━━━━━━━━━━━━━━━━\u001b[0m \u001b[32m0.0/389.3 kB\u001b[0m \u001b[31m?\u001b[0m eta \u001b[36m-:--:--\u001b[0m\r\u001b[2K   \u001b[90m━━━━━━━━━━━━━━━━━━━━━━━━━━━━━━━━━━━━━━━━\u001b[0m \u001b[32m389.3/389.3 kB\u001b[0m \u001b[31m19.8 MB/s\u001b[0m eta \u001b[36m0:00:00\u001b[0m\n",
            "\u001b[?25h\u001b[?25l   \u001b[90m━━━━━━━━━━━━━━━━━━━━━━━━━━━━━━━━━━━━━━━━\u001b[0m \u001b[32m0.0/76.4 kB\u001b[0m \u001b[31m?\u001b[0m eta \u001b[36m-:--:--\u001b[0m\r\u001b[2K   \u001b[90m━━━━━━━━━━━━━━━━━━━━━━━━━━━━━━━━━━━━━━━━\u001b[0m \u001b[32m76.4/76.4 kB\u001b[0m \u001b[31m8.5 MB/s\u001b[0m eta \u001b[36m0:00:00\u001b[0m\n",
            "\u001b[?25h\u001b[?25l   \u001b[90m━━━━━━━━━━━━━━━━━━━━━━━━━━━━━━━━━━━━━━━━\u001b[0m \u001b[32m0.0/78.0 kB\u001b[0m \u001b[31m?\u001b[0m eta \u001b[36m-:--:--\u001b[0m\r\u001b[2K   \u001b[90m━━━━━━━━━━━━━━━━━━━━━━━━━━━━━━━━━━━━━━━━\u001b[0m \u001b[32m78.0/78.0 kB\u001b[0m \u001b[31m9.2 MB/s\u001b[0m eta \u001b[36m0:00:00\u001b[0m\n",
            "\u001b[2K   \u001b[90m━━━━━━━━━━━━━━━━━━━━━━━━━━━━━━━━━━━━━━━━\u001b[0m \u001b[32m327.5/327.5 kB\u001b[0m \u001b[31m29.0 MB/s\u001b[0m eta \u001b[36m0:00:00\u001b[0m\n",
            "\u001b[2K   \u001b[90m━━━━━━━━━━━━━━━━━━━━━━━━━━━━━━━━━━━━━━━━\u001b[0m \u001b[32m58.3/58.3 kB\u001b[0m \u001b[31m6.5 MB/s\u001b[0m eta \u001b[36m0:00:00\u001b[0m\n",
            "\u001b[?25h"
          ]
        }
      ],
      "source": [
        "!pip install -q en_core_web_sm transformers sentence-transformers openai"
      ]
    },
    {
      "cell_type": "code",
      "execution_count": 2,
      "id": "IodBe-ogXqee",
      "metadata": {
        "executionInfo": {
          "elapsed": 4099,
          "status": "ok",
          "timestamp": 1730857529778,
          "user": {
            "displayName": "",
            "userId": ""
          },
          "user_tz": -420
        },
        "id": "IodBe-ogXqee"
      },
      "outputs": [],
      "source": [
        "from google.cloud import storage\n",
        "from datetime import datetime\n",
        "\n",
        "import matplotlib.pyplot as plt\n",
        "import plotly.express as px\n",
        "import pandas as pd\n",
        "import numpy as np\n",
        "import openai\n",
        "import io"
      ]
    },
    {
      "cell_type": "code",
      "execution_count": 3,
      "id": "FCIJ2em7_HwN",
      "metadata": {
        "executionInfo": {
          "elapsed": 5,
          "status": "ok",
          "timestamp": 1730857529778,
          "user": {
            "displayName": "",
            "userId": ""
          },
          "user_tz": -420
        },
        "id": "FCIJ2em7_HwN"
      },
      "outputs": [],
      "source": [
        "def download_csv_from_gcs(bucket, file_name,\n",
        "                          date_columns=None, col_names=None):\n",
        "    \"\"\" A function to download dataset from GCS. \"\"\"\n",
        "\n",
        "    blob = bucket.blob(file_name)\n",
        "    data = blob.download_as_text()\n",
        "    df = pd.read_csv(io.StringIO(data),\n",
        "                     parse_dates=date_columns,\n",
        "                     usecols=col_names)\n",
        "    return df"
      ]
    },
    {
      "cell_type": "code",
      "execution_count": 5,
      "id": "OME02_Hw_HoR",
      "metadata": {
        "executionInfo": {
          "elapsed": 4,
          "status": "ok",
          "timestamp": 1730857529778,
          "user": {
            "displayName": "",
            "userId": ""
          },
          "user_tz": -420
        },
        "id": "OME02_Hw_HoR"
      },
      "outputs": [],
      "source": [
        "# Create a client GCS and get the specified bucket\n",
        "client = storage.Client()\n",
        "bucket = client.get_bucket(BUCKET_NAME)"
      ]
    },
    {
      "cell_type": "code",
      "execution_count": 6,
      "id": "tOtb1Bp4_Hqn",
      "metadata": {
        "executionInfo": {
          "elapsed": 2015,
          "status": "ok",
          "timestamp": 1730857531789,
          "user": {
            "displayName": "",
            "userId": ""
          },
          "user_tz": -420
        },
        "id": "tOtb1Bp4_Hqn"
      },
      "outputs": [],
      "source": [
        "# Download the dataset from GCS\n",
        "reviews_df = download_csv_from_gcs(bucket, REVIEW_CSV)"
      ]
    },
    {
      "cell_type": "code",
      "execution_count": 7,
      "id": "oHaPw5RF_Hlz",
      "metadata": {
        "colab": {
          "base_uri": "https://localhost:8080/",
          "height": 206
        },
        "executionInfo": {
          "elapsed": 13,
          "status": "ok",
          "timestamp": 1730857531789,
          "user": {
            "displayName": "",
            "userId": ""
          },
          "user_tz": -420
        },
        "id": "oHaPw5RF_Hlz",
        "outputId": "5af913eb-e821-4d61-b773-0f00ecd28001"
      },
      "outputs": [
        {
          "data": {
            "text/html": [
              "\n",
              "  <div id=\"df-1ccca5b8-cd50-4362-8daf-17d0cfee54d2\" class=\"colab-df-container\">\n",
              "    <div>\n",
              "<style scoped>\n",
              "    .dataframe tbody tr th:only-of-type {\n",
              "        vertical-align: middle;\n",
              "    }\n",
              "\n",
              "    .dataframe tbody tr th {\n",
              "        vertical-align: top;\n",
              "    }\n",
              "\n",
              "    .dataframe thead th {\n",
              "        text-align: right;\n",
              "    }\n",
              "</style>\n",
              "<table border=\"1\" class=\"dataframe\">\n",
              "  <thead>\n",
              "    <tr style=\"text-align: right;\">\n",
              "      <th></th>\n",
              "      <th>business_id</th>\n",
              "      <th>user_id</th>\n",
              "      <th>time</th>\n",
              "      <th>text</th>\n",
              "    </tr>\n",
              "  </thead>\n",
              "  <tbody>\n",
              "    <tr>\n",
              "      <th>0</th>\n",
              "      <td>0x7c006afc71065bd1:0x7a706dc72f4623ee</td>\n",
              "      <td>113728016128003691063</td>\n",
              "      <td>2021-08-31 04:41:40.565</td>\n",
              "      <td>We needed sun glasses before a boat ride and n...</td>\n",
              "    </tr>\n",
              "    <tr>\n",
              "      <th>1</th>\n",
              "      <td>0x7c006afc71065bd1:0x7a706dc72f4623ee</td>\n",
              "      <td>101488063088102775913</td>\n",
              "      <td>2021-08-24 07:48:29.263</td>\n",
              "      <td>Reasonable Prices Has quick food to go</td>\n",
              "    </tr>\n",
              "    <tr>\n",
              "      <th>2</th>\n",
              "      <td>0x7c006afc71065bd1:0x7a706dc72f4623ee</td>\n",
              "      <td>100536389119109882523</td>\n",
              "      <td>2021-07-25 00:58:57.672</td>\n",
              "      <td>Convenient liquor store with a little of every...</td>\n",
              "    </tr>\n",
              "    <tr>\n",
              "      <th>3</th>\n",
              "      <td>0x7c006afc71065bd1:0x7a706dc72f4623ee</td>\n",
              "      <td>110229694025406635705</td>\n",
              "      <td>2021-07-24 19:28:41.268</td>\n",
              "      <td>I love the spam musubis It's the bomb</td>\n",
              "    </tr>\n",
              "    <tr>\n",
              "      <th>4</th>\n",
              "      <td>0x7c006afc71065bd1:0x7a706dc72f4623ee</td>\n",
              "      <td>108697060494095206753</td>\n",
              "      <td>2021-04-08 21:00:29.786</td>\n",
              "      <td>Had a good selection of items at fairly decent...</td>\n",
              "    </tr>\n",
              "  </tbody>\n",
              "</table>\n",
              "</div>\n",
              "    <div class=\"colab-df-buttons\">\n",
              "\n",
              "  <div class=\"colab-df-container\">\n",
              "    <button class=\"colab-df-convert\" onclick=\"convertToInteractive('df-1ccca5b8-cd50-4362-8daf-17d0cfee54d2')\"\n",
              "            title=\"Convert this dataframe to an interactive table.\"\n",
              "            style=\"display:none;\">\n",
              "\n",
              "  <svg xmlns=\"http://www.w3.org/2000/svg\" height=\"24px\" viewBox=\"0 -960 960 960\">\n",
              "    <path d=\"M120-120v-720h720v720H120Zm60-500h600v-160H180v160Zm220 220h160v-160H400v160Zm0 220h160v-160H400v160ZM180-400h160v-160H180v160Zm440 0h160v-160H620v160ZM180-180h160v-160H180v160Zm440 0h160v-160H620v160Z\"/>\n",
              "  </svg>\n",
              "    </button>\n",
              "\n",
              "  <style>\n",
              "    .colab-df-container {\n",
              "      display:flex;\n",
              "      gap: 12px;\n",
              "    }\n",
              "\n",
              "    .colab-df-convert {\n",
              "      background-color: #E8F0FE;\n",
              "      border: none;\n",
              "      border-radius: 50%;\n",
              "      cursor: pointer;\n",
              "      display: none;\n",
              "      fill: #1967D2;\n",
              "      height: 32px;\n",
              "      padding: 0 0 0 0;\n",
              "      width: 32px;\n",
              "    }\n",
              "\n",
              "    .colab-df-convert:hover {\n",
              "      background-color: #E2EBFA;\n",
              "      box-shadow: 0px 1px 2px rgba(60, 64, 67, 0.3), 0px 1px 3px 1px rgba(60, 64, 67, 0.15);\n",
              "      fill: #174EA6;\n",
              "    }\n",
              "\n",
              "    .colab-df-buttons div {\n",
              "      margin-bottom: 4px;\n",
              "    }\n",
              "\n",
              "    [theme=dark] .colab-df-convert {\n",
              "      background-color: #3B4455;\n",
              "      fill: #D2E3FC;\n",
              "    }\n",
              "\n",
              "    [theme=dark] .colab-df-convert:hover {\n",
              "      background-color: #434B5C;\n",
              "      box-shadow: 0px 1px 3px 1px rgba(0, 0, 0, 0.15);\n",
              "      filter: drop-shadow(0px 1px 2px rgba(0, 0, 0, 0.3));\n",
              "      fill: #FFFFFF;\n",
              "    }\n",
              "  </style>\n",
              "\n",
              "    <script>\n",
              "      const buttonEl =\n",
              "        document.querySelector('#df-1ccca5b8-cd50-4362-8daf-17d0cfee54d2 button.colab-df-convert');\n",
              "      buttonEl.style.display =\n",
              "        google.colab.kernel.accessAllowed ? 'block' : 'none';\n",
              "\n",
              "      async function convertToInteractive(key) {\n",
              "        const element = document.querySelector('#df-1ccca5b8-cd50-4362-8daf-17d0cfee54d2');\n",
              "        const dataTable =\n",
              "          await google.colab.kernel.invokeFunction('convertToInteractive',\n",
              "                                                    [key], {});\n",
              "        if (!dataTable) return;\n",
              "\n",
              "        const docLinkHtml = 'Like what you see? Visit the ' +\n",
              "          '<a target=\"_blank\" href=https://colab.research.google.com/notebooks/data_table.ipynb>data table notebook</a>'\n",
              "          + ' to learn more about interactive tables.';\n",
              "        element.innerHTML = '';\n",
              "        dataTable['output_type'] = 'display_data';\n",
              "        await google.colab.output.renderOutput(dataTable, element);\n",
              "        const docLink = document.createElement('div');\n",
              "        docLink.innerHTML = docLinkHtml;\n",
              "        element.appendChild(docLink);\n",
              "      }\n",
              "    </script>\n",
              "  </div>\n",
              "\n",
              "\n",
              "<div id=\"df-4d990a19-3331-4dde-94b1-26afad705fd5\">\n",
              "  <button class=\"colab-df-quickchart\" onclick=\"quickchart('df-4d990a19-3331-4dde-94b1-26afad705fd5')\"\n",
              "            title=\"Suggest charts\"\n",
              "            style=\"display:none;\">\n",
              "\n",
              "<svg xmlns=\"http://www.w3.org/2000/svg\" height=\"24px\"viewBox=\"0 0 24 24\"\n",
              "     width=\"24px\">\n",
              "    <g>\n",
              "        <path d=\"M19 3H5c-1.1 0-2 .9-2 2v14c0 1.1.9 2 2 2h14c1.1 0 2-.9 2-2V5c0-1.1-.9-2-2-2zM9 17H7v-7h2v7zm4 0h-2V7h2v10zm4 0h-2v-4h2v4z\"/>\n",
              "    </g>\n",
              "</svg>\n",
              "  </button>\n",
              "\n",
              "<style>\n",
              "  .colab-df-quickchart {\n",
              "      --bg-color: #E8F0FE;\n",
              "      --fill-color: #1967D2;\n",
              "      --hover-bg-color: #E2EBFA;\n",
              "      --hover-fill-color: #174EA6;\n",
              "      --disabled-fill-color: #AAA;\n",
              "      --disabled-bg-color: #DDD;\n",
              "  }\n",
              "\n",
              "  [theme=dark] .colab-df-quickchart {\n",
              "      --bg-color: #3B4455;\n",
              "      --fill-color: #D2E3FC;\n",
              "      --hover-bg-color: #434B5C;\n",
              "      --hover-fill-color: #FFFFFF;\n",
              "      --disabled-bg-color: #3B4455;\n",
              "      --disabled-fill-color: #666;\n",
              "  }\n",
              "\n",
              "  .colab-df-quickchart {\n",
              "    background-color: var(--bg-color);\n",
              "    border: none;\n",
              "    border-radius: 50%;\n",
              "    cursor: pointer;\n",
              "    display: none;\n",
              "    fill: var(--fill-color);\n",
              "    height: 32px;\n",
              "    padding: 0;\n",
              "    width: 32px;\n",
              "  }\n",
              "\n",
              "  .colab-df-quickchart:hover {\n",
              "    background-color: var(--hover-bg-color);\n",
              "    box-shadow: 0 1px 2px rgba(60, 64, 67, 0.3), 0 1px 3px 1px rgba(60, 64, 67, 0.15);\n",
              "    fill: var(--button-hover-fill-color);\n",
              "  }\n",
              "\n",
              "  .colab-df-quickchart-complete:disabled,\n",
              "  .colab-df-quickchart-complete:disabled:hover {\n",
              "    background-color: var(--disabled-bg-color);\n",
              "    fill: var(--disabled-fill-color);\n",
              "    box-shadow: none;\n",
              "  }\n",
              "\n",
              "  .colab-df-spinner {\n",
              "    border: 2px solid var(--fill-color);\n",
              "    border-color: transparent;\n",
              "    border-bottom-color: var(--fill-color);\n",
              "    animation:\n",
              "      spin 1s steps(1) infinite;\n",
              "  }\n",
              "\n",
              "  @keyframes spin {\n",
              "    0% {\n",
              "      border-color: transparent;\n",
              "      border-bottom-color: var(--fill-color);\n",
              "      border-left-color: var(--fill-color);\n",
              "    }\n",
              "    20% {\n",
              "      border-color: transparent;\n",
              "      border-left-color: var(--fill-color);\n",
              "      border-top-color: var(--fill-color);\n",
              "    }\n",
              "    30% {\n",
              "      border-color: transparent;\n",
              "      border-left-color: var(--fill-color);\n",
              "      border-top-color: var(--fill-color);\n",
              "      border-right-color: var(--fill-color);\n",
              "    }\n",
              "    40% {\n",
              "      border-color: transparent;\n",
              "      border-right-color: var(--fill-color);\n",
              "      border-top-color: var(--fill-color);\n",
              "    }\n",
              "    60% {\n",
              "      border-color: transparent;\n",
              "      border-right-color: var(--fill-color);\n",
              "    }\n",
              "    80% {\n",
              "      border-color: transparent;\n",
              "      border-right-color: var(--fill-color);\n",
              "      border-bottom-color: var(--fill-color);\n",
              "    }\n",
              "    90% {\n",
              "      border-color: transparent;\n",
              "      border-bottom-color: var(--fill-color);\n",
              "    }\n",
              "  }\n",
              "</style>\n",
              "\n",
              "  <script>\n",
              "    async function quickchart(key) {\n",
              "      const quickchartButtonEl =\n",
              "        document.querySelector('#' + key + ' button');\n",
              "      quickchartButtonEl.disabled = true;  // To prevent multiple clicks.\n",
              "      quickchartButtonEl.classList.add('colab-df-spinner');\n",
              "      try {\n",
              "        const charts = await google.colab.kernel.invokeFunction(\n",
              "            'suggestCharts', [key], {});\n",
              "      } catch (error) {\n",
              "        console.error('Error during call to suggestCharts:', error);\n",
              "      }\n",
              "      quickchartButtonEl.classList.remove('colab-df-spinner');\n",
              "      quickchartButtonEl.classList.add('colab-df-quickchart-complete');\n",
              "    }\n",
              "    (() => {\n",
              "      let quickchartButtonEl =\n",
              "        document.querySelector('#df-4d990a19-3331-4dde-94b1-26afad705fd5 button');\n",
              "      quickchartButtonEl.style.display =\n",
              "        google.colab.kernel.accessAllowed ? 'block' : 'none';\n",
              "    })();\n",
              "  </script>\n",
              "</div>\n",
              "    </div>\n",
              "  </div>\n"
            ],
            "text/plain": [
              "                             business_id                user_id  \\\n",
              "0  0x7c006afc71065bd1:0x7a706dc72f4623ee  113728016128003691063   \n",
              "1  0x7c006afc71065bd1:0x7a706dc72f4623ee  101488063088102775913   \n",
              "2  0x7c006afc71065bd1:0x7a706dc72f4623ee  100536389119109882523   \n",
              "3  0x7c006afc71065bd1:0x7a706dc72f4623ee  110229694025406635705   \n",
              "4  0x7c006afc71065bd1:0x7a706dc72f4623ee  108697060494095206753   \n",
              "\n",
              "                      time                                               text  \n",
              "0  2021-08-31 04:41:40.565  We needed sun glasses before a boat ride and n...  \n",
              "1  2021-08-24 07:48:29.263             Reasonable Prices Has quick food to go  \n",
              "2  2021-07-25 00:58:57.672  Convenient liquor store with a little of every...  \n",
              "3  2021-07-24 19:28:41.268              I love the spam musubis It's the bomb  \n",
              "4  2021-04-08 21:00:29.786  Had a good selection of items at fairly decent...  "
            ]
          },
          "execution_count": 7,
          "metadata": {},
          "output_type": "execute_result"
        }
      ],
      "source": [
        "reviews_df.head()"
      ]
    },
    {
      "cell_type": "code",
      "execution_count": 8,
      "id": "O2gmwiFvdiqO",
      "metadata": {
        "colab": {
          "base_uri": "https://localhost:8080/"
        },
        "executionInfo": {
          "elapsed": 12,
          "status": "ok",
          "timestamp": 1730857531789,
          "user": {
            "displayName": "",
            "userId": ""
          },
          "user_tz": -420
        },
        "id": "O2gmwiFvdiqO",
        "outputId": "b1bfcffc-ab16-4285-c232-91c7cab69f76"
      },
      "outputs": [
        {
          "name": "stdout",
          "output_type": "stream",
          "text": [
            "<class 'pandas.core.frame.DataFrame'>\n",
            "RangeIndex: 144762 entries, 0 to 144761\n",
            "Data columns (total 4 columns):\n",
            " #   Column       Non-Null Count   Dtype \n",
            "---  ------       --------------   ----- \n",
            " 0   business_id  144762 non-null  object\n",
            " 1   user_id      144762 non-null  object\n",
            " 2   time         144762 non-null  object\n",
            " 3   text         144762 non-null  object\n",
            "dtypes: object(4)\n",
            "memory usage: 4.4+ MB\n"
          ]
        }
      ],
      "source": [
        "reviews_df.info()"
      ]
    },
    {
      "cell_type": "code",
      "execution_count": 40,
      "id": "GTVxpjT4O_5Y",
      "metadata": {
        "executionInfo": {
          "elapsed": 1188,
          "status": "ok",
          "timestamp": 1730875774676,
          "user": {
            "displayName": "",
            "userId": ""
          },
          "user_tz": -420
        },
        "id": "GTVxpjT4O_5Y"
      },
      "outputs": [],
      "source": [
        "reviews_df[\"time\"] = pd.to_datetime(reviews_df[\"time\"])"
      ]
    },
    {
      "cell_type": "code",
      "execution_count": 9,
      "id": "KPRw9XI2_HjO",
      "metadata": {
        "colab": {
          "base_uri": "https://localhost:8080/",
          "height": 147
        },
        "executionInfo": {
          "elapsed": 10,
          "status": "ok",
          "timestamp": 1730857531789,
          "user": {
            "displayName": "",
            "userId": ""
          },
          "user_tz": -420
        },
        "id": "KPRw9XI2_HjO",
        "outputId": "4cbd0a97-0b14-4ead-f0cb-2025e7230f64"
      },
      "outputs": [
        {
          "data": {
            "text/html": [
              "<div>\n",
              "<style scoped>\n",
              "    .dataframe tbody tr th:only-of-type {\n",
              "        vertical-align: middle;\n",
              "    }\n",
              "\n",
              "    .dataframe tbody tr th {\n",
              "        vertical-align: top;\n",
              "    }\n",
              "\n",
              "    .dataframe thead th {\n",
              "        text-align: right;\n",
              "    }\n",
              "</style>\n",
              "<table border=\"1\" class=\"dataframe\">\n",
              "  <thead>\n",
              "    <tr style=\"text-align: right;\">\n",
              "      <th></th>\n",
              "      <th>0</th>\n",
              "    </tr>\n",
              "  </thead>\n",
              "  <tbody>\n",
              "    <tr>\n",
              "      <th>business_id</th>\n",
              "      <td>1035</td>\n",
              "    </tr>\n",
              "    <tr>\n",
              "      <th>user_id</th>\n",
              "      <td>72582</td>\n",
              "    </tr>\n",
              "  </tbody>\n",
              "</table>\n",
              "</div><br><label><b>dtype:</b> int64</label>"
            ],
            "text/plain": [
              "business_id     1035\n",
              "user_id        72582\n",
              "dtype: int64"
            ]
          },
          "execution_count": 9,
          "metadata": {},
          "output_type": "execute_result"
        }
      ],
      "source": [
        "# Count the number of unique businesses and users\n",
        "reviews_df[[\"business_id\", \"user_id\"]].nunique()"
      ]
    },
    {
      "cell_type": "code",
      "execution_count": 10,
      "id": "L3S0mNei3Kqz",
      "metadata": {
        "colab": {
          "base_uri": "https://localhost:8080/"
        },
        "executionInfo": {
          "elapsed": 9,
          "status": "ok",
          "timestamp": 1730857531789,
          "user": {
            "displayName": "",
            "userId": ""
          },
          "user_tz": -420
        },
        "id": "L3S0mNei3Kqz",
        "outputId": "ae57e1cf-2029-4a1e-f595-2eb8ed71e432"
      },
      "outputs": [
        {
          "data": {
            "text/plain": [
              "139"
            ]
          },
          "execution_count": 10,
          "metadata": {},
          "output_type": "execute_result"
        }
      ],
      "source": [
        "# Count the average number of reviews for each business\n",
        "int(reviews_df.groupby(\"business_id\")[\"text\"].count().mean())"
      ]
    },
    {
      "cell_type": "code",
      "execution_count": 11,
      "id": "Ujj8J11s4vrK",
      "metadata": {
        "colab": {
          "base_uri": "https://localhost:8080/",
          "height": 210
        },
        "executionInfo": {
          "elapsed": 9,
          "status": "ok",
          "timestamp": 1730857531790,
          "user": {
            "displayName": "",
            "userId": ""
          },
          "user_tz": -420
        },
        "id": "Ujj8J11s4vrK",
        "outputId": "1b310717-43eb-47ff-cbc7-7ee5764a4665"
      },
      "outputs": [
        {
          "data": {
            "text/html": [
              "<div>\n",
              "<style scoped>\n",
              "    .dataframe tbody tr th:only-of-type {\n",
              "        vertical-align: middle;\n",
              "    }\n",
              "\n",
              "    .dataframe tbody tr th {\n",
              "        vertical-align: top;\n",
              "    }\n",
              "\n",
              "    .dataframe thead th {\n",
              "        text-align: right;\n",
              "    }\n",
              "</style>\n",
              "<table border=\"1\" class=\"dataframe\">\n",
              "  <thead>\n",
              "    <tr style=\"text-align: right;\">\n",
              "      <th></th>\n",
              "      <th>0</th>\n",
              "    </tr>\n",
              "  </thead>\n",
              "  <tbody>\n",
              "    <tr>\n",
              "      <th>business_id</th>\n",
              "      <td>0</td>\n",
              "    </tr>\n",
              "    <tr>\n",
              "      <th>user_id</th>\n",
              "      <td>0</td>\n",
              "    </tr>\n",
              "    <tr>\n",
              "      <th>time</th>\n",
              "      <td>0</td>\n",
              "    </tr>\n",
              "    <tr>\n",
              "      <th>text</th>\n",
              "      <td>0</td>\n",
              "    </tr>\n",
              "  </tbody>\n",
              "</table>\n",
              "</div><br><label><b>dtype:</b> int64</label>"
            ],
            "text/plain": [
              "business_id    0\n",
              "user_id        0\n",
              "time           0\n",
              "text           0\n",
              "dtype: int64"
            ]
          },
          "execution_count": 11,
          "metadata": {},
          "output_type": "execute_result"
        }
      ],
      "source": [
        "# Check the missing values\n",
        "reviews_df.isna().sum()"
      ]
    },
    {
      "cell_type": "markdown",
      "id": "ej88z2ZtQAxy",
      "metadata": {
        "id": "ej88z2ZtQAxy"
      },
      "source": [
        "# Dataset Preparation"
      ]
    },
    {
      "cell_type": "code",
      "execution_count": 12,
      "id": "P_NvXNOUaOlj",
      "metadata": {
        "executionInfo": {
          "elapsed": 33194,
          "status": "ok",
          "timestamp": 1730857564976,
          "user": {
            "displayName": "",
            "userId": ""
          },
          "user_tz": -420
        },
        "id": "P_NvXNOUaOlj"
      },
      "outputs": [],
      "source": [
        "from transformers import pipeline\n",
        "\n",
        "import en_core_web_sm\n",
        "import re"
      ]
    },
    {
      "cell_type": "code",
      "execution_count": 13,
      "id": "I6vZfjOqnq85",
      "metadata": {
        "executionInfo": {
          "elapsed": 1988,
          "status": "ok",
          "timestamp": 1730857566961,
          "user": {
            "displayName": "",
            "userId": ""
          },
          "user_tz": -420
        },
        "id": "I6vZfjOqnq85"
      },
      "outputs": [],
      "source": [
        "spacy_nlp = en_core_web_sm.load()"
      ]
    },
    {
      "cell_type": "code",
      "execution_count": 17,
      "id": "cGrU4woL_Hgu",
      "metadata": {
        "executionInfo": {
          "elapsed": 3,
          "status": "ok",
          "timestamp": 1730858139877,
          "user": {
            "displayName": "",
            "userId": ""
          },
          "user_tz": -420
        },
        "id": "cGrU4woL_Hgu"
      },
      "outputs": [],
      "source": [
        "class ProcessDataset():\n",
        "    \"\"\"\n",
        "      A class for preprocessing Reviews data for training downstream models.\n",
        "      Preprocessing includes:\n",
        "        - clean, split, and expand setences,\n",
        "        - tokenize, lemmatize, and remove stop words from sentences\n",
        "    \"\"\"\n",
        "\n",
        "    def __init__(self, spacy_nlp):\n",
        "\n",
        "        self.nlp = spacy_nlp\n",
        "\n",
        "    def _clean_text(self, text):\n",
        "        \"\"\" Clean text from unnecessary tokens/substrings \"\"\"\n",
        "\n",
        "        # Remove emoji patterns\n",
        "        emoji_pattern = re.compile(\n",
        "            \"[\"\n",
        "            \"\\U0001F600-\\U0001F64F\"  # Emoticons\n",
        "            \"\\U0001F300-\\U0001F5FF\"  # Symbols & pictographs\n",
        "            \"\\U0001F680-\\U0001F6FF\"  # Transport & map symbols\n",
        "            \"\\U0001F1E0-\\U0001F1FF\"  # Flags (iOS)\n",
        "            \"\\U00002700-\\U000027BF\"  # Dingbats\n",
        "            \"\\U0001F900-\\U0001F9FF\"  # Supplemental Symbols and Pictographs\n",
        "            \"\\U00002600-\\U000026FF\"  # Misc symbols\n",
        "            \"\\U00002B50-\\U00002B59\"  # Stars\n",
        "            \"]+\", flags=re.UNICODE\n",
        "        )\n",
        "        text = emoji_pattern.sub(r\"\", text)\n",
        "\n",
        "        # Extracts text between '(Translated by Google)' and '(Original)'.\n",
        "        match = re.search(r\"\\(Translated by Google\\)(.+?)  \", text)\n",
        "        if match:\n",
        "            text = match.group(1)\n",
        "\n",
        "        return text\n",
        "\n",
        "    def _split_and_tokenize(self, text):\n",
        "        \"\"\"\n",
        "          Splits text into sentences using the spaCy model.\n",
        "          Also tokenize and lemmatize.\n",
        "        \"\"\"\n",
        "\n",
        "        sents = [sent for sent in self.nlp(text.lower()).sents if sent.text]\n",
        "\n",
        "        full_sents = [sent.text for sent in sents]\n",
        "\n",
        "        tokenized = [[ token.lemma_ for token in sent\n",
        "                      if token.is_alpha and not token.is_punct ]\n",
        "                     for sent in sents ]\n",
        "        tokenized = [\" \".join(sent) for sent in tokenized]\n",
        "        # We do the above operation so that it can be exploded later\n",
        "\n",
        "        return full_sents, tokenized\n",
        "\n",
        "    def transform(self, dataset):\n",
        "        \"\"\" The main text processing function. \"\"\"\n",
        "\n",
        "        data = dataset.copy()\n",
        "\n",
        "        # Clean, split, and expand sentences\n",
        "        data[\"text\"] = data[\"text\"].apply(self._clean_text)\n",
        "        data.loc[:, [\"processed_text\", \"tokens\"]] = data[\"text\"].apply(\n",
        "            self._split_and_tokenize).apply(\n",
        "                lambda x: pd.Series(x, index=[\"processed_text\", \"tokens\"]))\n",
        "\n",
        "        data = data.explode([\"processed_text\", \"tokens\"]).reset_index(drop=True)\n",
        "        data = data[data[\"processed_text\"].str.len() >= 10]\n",
        "\n",
        "        # Tokenize sentence\n",
        "        data[\"tokens\"] = data[\"tokens\"].apply(lambda x: x.split())\n",
        "        data = data[data[\"tokens\"].apply(lambda x: len(x) >= 2)]\n",
        "\n",
        "        return data"
      ]
    },
    {
      "cell_type": "code",
      "execution_count": 18,
      "id": "l7FJ0Won_Hdr",
      "metadata": {
        "executionInfo": {
          "elapsed": 2,
          "status": "ok",
          "timestamp": 1730858139877,
          "user": {
            "displayName": "",
            "userId": ""
          },
          "user_tz": -420
        },
        "id": "l7FJ0Won_Hdr"
      },
      "outputs": [],
      "source": [
        "data_processor = ProcessDataset(spacy_nlp)"
      ]
    },
    {
      "cell_type": "code",
      "execution_count": 19,
      "id": "1vdGnLQ9Tjm_",
      "metadata": {
        "executionInfo": {
          "elapsed": 1670655,
          "status": "ok",
          "timestamp": 1730859817102,
          "user": {
            "displayName": "",
            "userId": ""
          },
          "user_tz": -420
        },
        "id": "1vdGnLQ9Tjm_"
      },
      "outputs": [],
      "source": [
        "processed_dataset = data_processor.transform(reviews_df)"
      ]
    },
    {
      "cell_type": "code",
      "execution_count": 20,
      "id": "yoEGANozlovE",
      "metadata": {
        "colab": {
          "base_uri": "https://localhost:8080/",
          "height": 206
        },
        "executionInfo": {
          "elapsed": 10,
          "status": "ok",
          "timestamp": 1730859817103,
          "user": {
            "displayName": "",
            "userId": ""
          },
          "user_tz": -420
        },
        "id": "yoEGANozlovE",
        "outputId": "443d8e60-3618-4673-fef4-33b0bca5a987"
      },
      "outputs": [
        {
          "data": {
            "text/html": [
              "\n",
              "  <div id=\"df-781dac7f-e6b0-4331-a221-3ece7ef1d698\" class=\"colab-df-container\">\n",
              "    <div>\n",
              "<style scoped>\n",
              "    .dataframe tbody tr th:only-of-type {\n",
              "        vertical-align: middle;\n",
              "    }\n",
              "\n",
              "    .dataframe tbody tr th {\n",
              "        vertical-align: top;\n",
              "    }\n",
              "\n",
              "    .dataframe thead th {\n",
              "        text-align: right;\n",
              "    }\n",
              "</style>\n",
              "<table border=\"1\" class=\"dataframe\">\n",
              "  <thead>\n",
              "    <tr style=\"text-align: right;\">\n",
              "      <th></th>\n",
              "      <th>processed_text</th>\n",
              "      <th>tokens</th>\n",
              "    </tr>\n",
              "  </thead>\n",
              "  <tbody>\n",
              "    <tr>\n",
              "      <th>0</th>\n",
              "      <td>we needed sun glasses before a boat ride and n...</td>\n",
              "      <td>[we, need, sun, glass, before, a, boat, ride, ...</td>\n",
              "    </tr>\n",
              "    <tr>\n",
              "      <th>1</th>\n",
              "      <td>this little mom and pop convenience store had ...</td>\n",
              "      <td>[this, little, mom, and, pop, convenience, sto...</td>\n",
              "    </tr>\n",
              "    <tr>\n",
              "      <th>2</th>\n",
              "      <td>we both got our sunglasses for a great price a...</td>\n",
              "      <td>[we, both, get, our, sunglass, for, a, great, ...</td>\n",
              "    </tr>\n",
              "    <tr>\n",
              "      <th>3</th>\n",
              "      <td>reasonable prices has quick food to go</td>\n",
              "      <td>[reasonable, price, have, quick, food, to, go]</td>\n",
              "    </tr>\n",
              "    <tr>\n",
              "      <th>4</th>\n",
              "      <td>convenient liquor store with a little of every...</td>\n",
              "      <td>[convenient, liquor, store, with, a, little, o...</td>\n",
              "    </tr>\n",
              "  </tbody>\n",
              "</table>\n",
              "</div>\n",
              "    <div class=\"colab-df-buttons\">\n",
              "\n",
              "  <div class=\"colab-df-container\">\n",
              "    <button class=\"colab-df-convert\" onclick=\"convertToInteractive('df-781dac7f-e6b0-4331-a221-3ece7ef1d698')\"\n",
              "            title=\"Convert this dataframe to an interactive table.\"\n",
              "            style=\"display:none;\">\n",
              "\n",
              "  <svg xmlns=\"http://www.w3.org/2000/svg\" height=\"24px\" viewBox=\"0 -960 960 960\">\n",
              "    <path d=\"M120-120v-720h720v720H120Zm60-500h600v-160H180v160Zm220 220h160v-160H400v160Zm0 220h160v-160H400v160ZM180-400h160v-160H180v160Zm440 0h160v-160H620v160ZM180-180h160v-160H180v160Zm440 0h160v-160H620v160Z\"/>\n",
              "  </svg>\n",
              "    </button>\n",
              "\n",
              "  <style>\n",
              "    .colab-df-container {\n",
              "      display:flex;\n",
              "      gap: 12px;\n",
              "    }\n",
              "\n",
              "    .colab-df-convert {\n",
              "      background-color: #E8F0FE;\n",
              "      border: none;\n",
              "      border-radius: 50%;\n",
              "      cursor: pointer;\n",
              "      display: none;\n",
              "      fill: #1967D2;\n",
              "      height: 32px;\n",
              "      padding: 0 0 0 0;\n",
              "      width: 32px;\n",
              "    }\n",
              "\n",
              "    .colab-df-convert:hover {\n",
              "      background-color: #E2EBFA;\n",
              "      box-shadow: 0px 1px 2px rgba(60, 64, 67, 0.3), 0px 1px 3px 1px rgba(60, 64, 67, 0.15);\n",
              "      fill: #174EA6;\n",
              "    }\n",
              "\n",
              "    .colab-df-buttons div {\n",
              "      margin-bottom: 4px;\n",
              "    }\n",
              "\n",
              "    [theme=dark] .colab-df-convert {\n",
              "      background-color: #3B4455;\n",
              "      fill: #D2E3FC;\n",
              "    }\n",
              "\n",
              "    [theme=dark] .colab-df-convert:hover {\n",
              "      background-color: #434B5C;\n",
              "      box-shadow: 0px 1px 3px 1px rgba(0, 0, 0, 0.15);\n",
              "      filter: drop-shadow(0px 1px 2px rgba(0, 0, 0, 0.3));\n",
              "      fill: #FFFFFF;\n",
              "    }\n",
              "  </style>\n",
              "\n",
              "    <script>\n",
              "      const buttonEl =\n",
              "        document.querySelector('#df-781dac7f-e6b0-4331-a221-3ece7ef1d698 button.colab-df-convert');\n",
              "      buttonEl.style.display =\n",
              "        google.colab.kernel.accessAllowed ? 'block' : 'none';\n",
              "\n",
              "      async function convertToInteractive(key) {\n",
              "        const element = document.querySelector('#df-781dac7f-e6b0-4331-a221-3ece7ef1d698');\n",
              "        const dataTable =\n",
              "          await google.colab.kernel.invokeFunction('convertToInteractive',\n",
              "                                                    [key], {});\n",
              "        if (!dataTable) return;\n",
              "\n",
              "        const docLinkHtml = 'Like what you see? Visit the ' +\n",
              "          '<a target=\"_blank\" href=https://colab.research.google.com/notebooks/data_table.ipynb>data table notebook</a>'\n",
              "          + ' to learn more about interactive tables.';\n",
              "        element.innerHTML = '';\n",
              "        dataTable['output_type'] = 'display_data';\n",
              "        await google.colab.output.renderOutput(dataTable, element);\n",
              "        const docLink = document.createElement('div');\n",
              "        docLink.innerHTML = docLinkHtml;\n",
              "        element.appendChild(docLink);\n",
              "      }\n",
              "    </script>\n",
              "  </div>\n",
              "\n",
              "\n",
              "<div id=\"df-d0126e39-ed69-4127-afa9-bfdac781d2e3\">\n",
              "  <button class=\"colab-df-quickchart\" onclick=\"quickchart('df-d0126e39-ed69-4127-afa9-bfdac781d2e3')\"\n",
              "            title=\"Suggest charts\"\n",
              "            style=\"display:none;\">\n",
              "\n",
              "<svg xmlns=\"http://www.w3.org/2000/svg\" height=\"24px\"viewBox=\"0 0 24 24\"\n",
              "     width=\"24px\">\n",
              "    <g>\n",
              "        <path d=\"M19 3H5c-1.1 0-2 .9-2 2v14c0 1.1.9 2 2 2h14c1.1 0 2-.9 2-2V5c0-1.1-.9-2-2-2zM9 17H7v-7h2v7zm4 0h-2V7h2v10zm4 0h-2v-4h2v4z\"/>\n",
              "    </g>\n",
              "</svg>\n",
              "  </button>\n",
              "\n",
              "<style>\n",
              "  .colab-df-quickchart {\n",
              "      --bg-color: #E8F0FE;\n",
              "      --fill-color: #1967D2;\n",
              "      --hover-bg-color: #E2EBFA;\n",
              "      --hover-fill-color: #174EA6;\n",
              "      --disabled-fill-color: #AAA;\n",
              "      --disabled-bg-color: #DDD;\n",
              "  }\n",
              "\n",
              "  [theme=dark] .colab-df-quickchart {\n",
              "      --bg-color: #3B4455;\n",
              "      --fill-color: #D2E3FC;\n",
              "      --hover-bg-color: #434B5C;\n",
              "      --hover-fill-color: #FFFFFF;\n",
              "      --disabled-bg-color: #3B4455;\n",
              "      --disabled-fill-color: #666;\n",
              "  }\n",
              "\n",
              "  .colab-df-quickchart {\n",
              "    background-color: var(--bg-color);\n",
              "    border: none;\n",
              "    border-radius: 50%;\n",
              "    cursor: pointer;\n",
              "    display: none;\n",
              "    fill: var(--fill-color);\n",
              "    height: 32px;\n",
              "    padding: 0;\n",
              "    width: 32px;\n",
              "  }\n",
              "\n",
              "  .colab-df-quickchart:hover {\n",
              "    background-color: var(--hover-bg-color);\n",
              "    box-shadow: 0 1px 2px rgba(60, 64, 67, 0.3), 0 1px 3px 1px rgba(60, 64, 67, 0.15);\n",
              "    fill: var(--button-hover-fill-color);\n",
              "  }\n",
              "\n",
              "  .colab-df-quickchart-complete:disabled,\n",
              "  .colab-df-quickchart-complete:disabled:hover {\n",
              "    background-color: var(--disabled-bg-color);\n",
              "    fill: var(--disabled-fill-color);\n",
              "    box-shadow: none;\n",
              "  }\n",
              "\n",
              "  .colab-df-spinner {\n",
              "    border: 2px solid var(--fill-color);\n",
              "    border-color: transparent;\n",
              "    border-bottom-color: var(--fill-color);\n",
              "    animation:\n",
              "      spin 1s steps(1) infinite;\n",
              "  }\n",
              "\n",
              "  @keyframes spin {\n",
              "    0% {\n",
              "      border-color: transparent;\n",
              "      border-bottom-color: var(--fill-color);\n",
              "      border-left-color: var(--fill-color);\n",
              "    }\n",
              "    20% {\n",
              "      border-color: transparent;\n",
              "      border-left-color: var(--fill-color);\n",
              "      border-top-color: var(--fill-color);\n",
              "    }\n",
              "    30% {\n",
              "      border-color: transparent;\n",
              "      border-left-color: var(--fill-color);\n",
              "      border-top-color: var(--fill-color);\n",
              "      border-right-color: var(--fill-color);\n",
              "    }\n",
              "    40% {\n",
              "      border-color: transparent;\n",
              "      border-right-color: var(--fill-color);\n",
              "      border-top-color: var(--fill-color);\n",
              "    }\n",
              "    60% {\n",
              "      border-color: transparent;\n",
              "      border-right-color: var(--fill-color);\n",
              "    }\n",
              "    80% {\n",
              "      border-color: transparent;\n",
              "      border-right-color: var(--fill-color);\n",
              "      border-bottom-color: var(--fill-color);\n",
              "    }\n",
              "    90% {\n",
              "      border-color: transparent;\n",
              "      border-bottom-color: var(--fill-color);\n",
              "    }\n",
              "  }\n",
              "</style>\n",
              "\n",
              "  <script>\n",
              "    async function quickchart(key) {\n",
              "      const quickchartButtonEl =\n",
              "        document.querySelector('#' + key + ' button');\n",
              "      quickchartButtonEl.disabled = true;  // To prevent multiple clicks.\n",
              "      quickchartButtonEl.classList.add('colab-df-spinner');\n",
              "      try {\n",
              "        const charts = await google.colab.kernel.invokeFunction(\n",
              "            'suggestCharts', [key], {});\n",
              "      } catch (error) {\n",
              "        console.error('Error during call to suggestCharts:', error);\n",
              "      }\n",
              "      quickchartButtonEl.classList.remove('colab-df-spinner');\n",
              "      quickchartButtonEl.classList.add('colab-df-quickchart-complete');\n",
              "    }\n",
              "    (() => {\n",
              "      let quickchartButtonEl =\n",
              "        document.querySelector('#df-d0126e39-ed69-4127-afa9-bfdac781d2e3 button');\n",
              "      quickchartButtonEl.style.display =\n",
              "        google.colab.kernel.accessAllowed ? 'block' : 'none';\n",
              "    })();\n",
              "  </script>\n",
              "</div>\n",
              "    </div>\n",
              "  </div>\n"
            ],
            "text/plain": [
              "                                      processed_text  \\\n",
              "0  we needed sun glasses before a boat ride and n...   \n",
              "1  this little mom and pop convenience store had ...   \n",
              "2  we both got our sunglasses for a great price a...   \n",
              "3             reasonable prices has quick food to go   \n",
              "4  convenient liquor store with a little of every...   \n",
              "\n",
              "                                              tokens  \n",
              "0  [we, need, sun, glass, before, a, boat, ride, ...  \n",
              "1  [this, little, mom, and, pop, convenience, sto...  \n",
              "2  [we, both, get, our, sunglass, for, a, great, ...  \n",
              "3     [reasonable, price, have, quick, food, to, go]  \n",
              "4  [convenient, liquor, store, with, a, little, o...  "
            ]
          },
          "execution_count": 20,
          "metadata": {},
          "output_type": "execute_result"
        }
      ],
      "source": [
        "# NOTE: we use `processed_text` as the transformer input and `tokens` for w2v\n",
        "processed_dataset[[\"processed_text\", \"tokens\"]].head()"
      ]
    },
    {
      "cell_type": "code",
      "execution_count": 21,
      "id": "vyoa7edGpAb3",
      "metadata": {
        "colab": {
          "base_uri": "https://localhost:8080/"
        },
        "executionInfo": {
          "elapsed": 7,
          "status": "ok",
          "timestamp": 1730859817103,
          "user": {
            "displayName": "",
            "userId": ""
          },
          "user_tz": -420
        },
        "id": "vyoa7edGpAb3",
        "outputId": "8fb48a5d-6626-42f7-92f7-d9c47c0850cc"
      },
      "outputs": [
        {
          "name": "stdout",
          "output_type": "stream",
          "text": [
            "<class 'pandas.core.frame.DataFrame'>\n",
            "Index: 323490 entries, 0 to 340746\n",
            "Data columns (total 6 columns):\n",
            " #   Column          Non-Null Count   Dtype \n",
            "---  ------          --------------   ----- \n",
            " 0   business_id     323490 non-null  object\n",
            " 1   user_id         323490 non-null  object\n",
            " 2   time            323490 non-null  object\n",
            " 3   text            323490 non-null  object\n",
            " 4   processed_text  323490 non-null  object\n",
            " 5   tokens          323490 non-null  object\n",
            "dtypes: object(6)\n",
            "memory usage: 17.3+ MB\n"
          ]
        }
      ],
      "source": [
        "processed_dataset.info()"
      ]
    },
    {
      "cell_type": "code",
      "execution_count": 22,
      "id": "U-erl2UiraCb",
      "metadata": {
        "colab": {
          "base_uri": "https://localhost:8080/"
        },
        "executionInfo": {
          "elapsed": 4524,
          "status": "ok",
          "timestamp": 1730859821623,
          "user": {
            "displayName": "",
            "userId": ""
          },
          "user_tz": -420
        },
        "id": "U-erl2UiraCb",
        "outputId": "d8f5fc3e-42d0-4c06-f0a7-eba0a325d4e4"
      },
      "outputs": [
        {
          "name": "stdout",
          "output_type": "stream",
          "text": [
            "Copying file://processed_dataset_ckpt.parquet [Content-Type=application/octet-stream]...\n",
            "-\n",
            "Operation completed over 1 objects/16.5 MiB.                                     \n"
          ]
        }
      ],
      "source": [
        "cols = [\"processed_text\", \"tokens\"]\n",
        "processed_dataset[cols].to_parquet(\"processed_dataset_ckpt.parquet\",\n",
        "                                   index=False)\n",
        "!gsutil cp \"processed_dataset_ckpt.parquet\" \"gs://customer_review_hawaii/data/\""
      ]
    },
    {
      "cell_type": "markdown",
      "id": "YZZDgQLAZ3Gp",
      "metadata": {
        "id": "YZZDgQLAZ3Gp"
      },
      "source": [
        "# Word2Vec Model"
      ]
    },
    {
      "cell_type": "markdown",
      "id": "X5mcb5rdT6C5",
      "metadata": {
        "id": "X5mcb5rdT6C5"
      },
      "source": [
        "In this section, we train custom word embeddings using skip-gram Word2Vec on our review dataset.\n",
        "\n",
        "We apply preprocessing steps including cleaning, sentence splitting, tokenization, and lemmatization to the original dataset.\n",
        "\n",
        "This process resutls approximately 588k sentences for training our Word2Vec model."
      ]
    },
    {
      "cell_type": "markdown",
      "id": "plYfhF5-RvC3",
      "metadata": {
        "id": "plYfhF5-RvC3"
      },
      "source": [
        "## Training"
      ]
    },
    {
      "cell_type": "code",
      "execution_count": 23,
      "id": "Y_wuxYQFRxGI",
      "metadata": {
        "executionInfo": {
          "elapsed": 501,
          "status": "ok",
          "timestamp": 1730862267233,
          "user": {
            "displayName": "",
            "userId": ""
          },
          "user_tz": -420
        },
        "id": "Y_wuxYQFRxGI"
      },
      "outputs": [],
      "source": [
        "from gensim.models import Word2Vec\n",
        "from sklearn.base import BaseEstimator, TransformerMixin\n",
        "from sklearn.cluster import HDBSCAN\n",
        "from sklearn.metrics import silhouette_score, davies_bouldin_score, calinski_harabasz_score\n",
        "from sklearn.pipeline import Pipeline\n",
        "from sklearn.decomposition import PCA"
      ]
    },
    {
      "cell_type": "code",
      "execution_count": 24,
      "id": "oWFSS7FJQcJW",
      "metadata": {
        "executionInfo": {
          "elapsed": 5,
          "status": "ok",
          "timestamp": 1730862267233,
          "user": {
            "displayName": "",
            "userId": ""
          },
          "user_tz": -420
        },
        "id": "oWFSS7FJQcJW"
      },
      "outputs": [],
      "source": [
        "class W2VEncoder(BaseEstimator, TransformerMixin):\n",
        "\n",
        "    def __init__(self, model=None, normalize=True):\n",
        "        # Use any existing w2v model\n",
        "        self.model = model\n",
        "        self.normalize = normalize\n",
        "\n",
        "    def fit(self, X, y=None):\n",
        "        \"\"\" Train the w2v model. \"\"\"\n",
        "\n",
        "        if not self.model:\n",
        "            self.model = Word2Vec(X, vector_size=300,\n",
        "                                  window=5, min_count=1,\n",
        "                                  compute_loss=True, epochs=100,\n",
        "                                  alpha=0.01, min_alpha=0.001)\n",
        "        print(\"Finished training!\")\n",
        "        print(f\"Latest training loss (cumulative): {self.model.get_latest_training_loss()}\")\n",
        "\n",
        "        return self\n",
        "\n",
        "    def transform(self, X):\n",
        "        \"\"\" Transform the data using the learned w2v model. \"\"\"\n",
        "\n",
        "        wv = X.apply(lambda tokens: [self.model.wv[token] for token in tokens\n",
        "                                     if token in self.model.wv])\n",
        "        if self.normalize:\n",
        "            # Normalize the vector\n",
        "            wv = wv.apply(lambda v: v / np.linalg.norm(v))\n",
        "        wv = wv.apply(lambda v: np.array(v).mean(axis=0))\n",
        "        return wv"
      ]
    },
    {
      "cell_type": "code",
      "execution_count": 25,
      "id": "POoqZf_2U23n",
      "metadata": {
        "colab": {
          "base_uri": "https://localhost:8080/",
          "height": 115
        },
        "executionInfo": {
          "elapsed": 394403,
          "status": "ok",
          "timestamp": 1730862661632,
          "user": {
            "displayName": "",
            "userId": ""
          },
          "user_tz": -420
        },
        "id": "POoqZf_2U23n",
        "outputId": "29642147-62a8-40cd-ef4a-dc429a2af61e"
      },
      "outputs": [
        {
          "name": "stdout",
          "output_type": "stream",
          "text": [
            "Finished training!\n",
            "Latest training loss (cumulative): 66142100.0\n"
          ]
        },
        {
          "data": {
            "text/html": [
              "<style>#sk-container-id-1 {\n",
              "  /* Definition of color scheme common for light and dark mode */\n",
              "  --sklearn-color-text: black;\n",
              "  --sklearn-color-line: gray;\n",
              "  /* Definition of color scheme for unfitted estimators */\n",
              "  --sklearn-color-unfitted-level-0: #fff5e6;\n",
              "  --sklearn-color-unfitted-level-1: #f6e4d2;\n",
              "  --sklearn-color-unfitted-level-2: #ffe0b3;\n",
              "  --sklearn-color-unfitted-level-3: chocolate;\n",
              "  /* Definition of color scheme for fitted estimators */\n",
              "  --sklearn-color-fitted-level-0: #f0f8ff;\n",
              "  --sklearn-color-fitted-level-1: #d4ebff;\n",
              "  --sklearn-color-fitted-level-2: #b3dbfd;\n",
              "  --sklearn-color-fitted-level-3: cornflowerblue;\n",
              "\n",
              "  /* Specific color for light theme */\n",
              "  --sklearn-color-text-on-default-background: var(--sg-text-color, var(--theme-code-foreground, var(--jp-content-font-color1, black)));\n",
              "  --sklearn-color-background: var(--sg-background-color, var(--theme-background, var(--jp-layout-color0, white)));\n",
              "  --sklearn-color-border-box: var(--sg-text-color, var(--theme-code-foreground, var(--jp-content-font-color1, black)));\n",
              "  --sklearn-color-icon: #696969;\n",
              "\n",
              "  @media (prefers-color-scheme: dark) {\n",
              "    /* Redefinition of color scheme for dark theme */\n",
              "    --sklearn-color-text-on-default-background: var(--sg-text-color, var(--theme-code-foreground, var(--jp-content-font-color1, white)));\n",
              "    --sklearn-color-background: var(--sg-background-color, var(--theme-background, var(--jp-layout-color0, #111)));\n",
              "    --sklearn-color-border-box: var(--sg-text-color, var(--theme-code-foreground, var(--jp-content-font-color1, white)));\n",
              "    --sklearn-color-icon: #878787;\n",
              "  }\n",
              "}\n",
              "\n",
              "#sk-container-id-1 {\n",
              "  color: var(--sklearn-color-text);\n",
              "}\n",
              "\n",
              "#sk-container-id-1 pre {\n",
              "  padding: 0;\n",
              "}\n",
              "\n",
              "#sk-container-id-1 input.sk-hidden--visually {\n",
              "  border: 0;\n",
              "  clip: rect(1px 1px 1px 1px);\n",
              "  clip: rect(1px, 1px, 1px, 1px);\n",
              "  height: 1px;\n",
              "  margin: -1px;\n",
              "  overflow: hidden;\n",
              "  padding: 0;\n",
              "  position: absolute;\n",
              "  width: 1px;\n",
              "}\n",
              "\n",
              "#sk-container-id-1 div.sk-dashed-wrapped {\n",
              "  border: 1px dashed var(--sklearn-color-line);\n",
              "  margin: 0 0.4em 0.5em 0.4em;\n",
              "  box-sizing: border-box;\n",
              "  padding-bottom: 0.4em;\n",
              "  background-color: var(--sklearn-color-background);\n",
              "}\n",
              "\n",
              "#sk-container-id-1 div.sk-container {\n",
              "  /* jupyter's `normalize.less` sets `[hidden] { display: none; }`\n",
              "     but bootstrap.min.css set `[hidden] { display: none !important; }`\n",
              "     so we also need the `!important` here to be able to override the\n",
              "     default hidden behavior on the sphinx rendered scikit-learn.org.\n",
              "     See: https://github.com/scikit-learn/scikit-learn/issues/21755 */\n",
              "  display: inline-block !important;\n",
              "  position: relative;\n",
              "}\n",
              "\n",
              "#sk-container-id-1 div.sk-text-repr-fallback {\n",
              "  display: none;\n",
              "}\n",
              "\n",
              "div.sk-parallel-item,\n",
              "div.sk-serial,\n",
              "div.sk-item {\n",
              "  /* draw centered vertical line to link estimators */\n",
              "  background-image: linear-gradient(var(--sklearn-color-text-on-default-background), var(--sklearn-color-text-on-default-background));\n",
              "  background-size: 2px 100%;\n",
              "  background-repeat: no-repeat;\n",
              "  background-position: center center;\n",
              "}\n",
              "\n",
              "/* Parallel-specific style estimator block */\n",
              "\n",
              "#sk-container-id-1 div.sk-parallel-item::after {\n",
              "  content: \"\";\n",
              "  width: 100%;\n",
              "  border-bottom: 2px solid var(--sklearn-color-text-on-default-background);\n",
              "  flex-grow: 1;\n",
              "}\n",
              "\n",
              "#sk-container-id-1 div.sk-parallel {\n",
              "  display: flex;\n",
              "  align-items: stretch;\n",
              "  justify-content: center;\n",
              "  background-color: var(--sklearn-color-background);\n",
              "  position: relative;\n",
              "}\n",
              "\n",
              "#sk-container-id-1 div.sk-parallel-item {\n",
              "  display: flex;\n",
              "  flex-direction: column;\n",
              "}\n",
              "\n",
              "#sk-container-id-1 div.sk-parallel-item:first-child::after {\n",
              "  align-self: flex-end;\n",
              "  width: 50%;\n",
              "}\n",
              "\n",
              "#sk-container-id-1 div.sk-parallel-item:last-child::after {\n",
              "  align-self: flex-start;\n",
              "  width: 50%;\n",
              "}\n",
              "\n",
              "#sk-container-id-1 div.sk-parallel-item:only-child::after {\n",
              "  width: 0;\n",
              "}\n",
              "\n",
              "/* Serial-specific style estimator block */\n",
              "\n",
              "#sk-container-id-1 div.sk-serial {\n",
              "  display: flex;\n",
              "  flex-direction: column;\n",
              "  align-items: center;\n",
              "  background-color: var(--sklearn-color-background);\n",
              "  padding-right: 1em;\n",
              "  padding-left: 1em;\n",
              "}\n",
              "\n",
              "\n",
              "/* Toggleable style: style used for estimator/Pipeline/ColumnTransformer box that is\n",
              "clickable and can be expanded/collapsed.\n",
              "- Pipeline and ColumnTransformer use this feature and define the default style\n",
              "- Estimators will overwrite some part of the style using the `sk-estimator` class\n",
              "*/\n",
              "\n",
              "/* Pipeline and ColumnTransformer style (default) */\n",
              "\n",
              "#sk-container-id-1 div.sk-toggleable {\n",
              "  /* Default theme specific background. It is overwritten whether we have a\n",
              "  specific estimator or a Pipeline/ColumnTransformer */\n",
              "  background-color: var(--sklearn-color-background);\n",
              "}\n",
              "\n",
              "/* Toggleable label */\n",
              "#sk-container-id-1 label.sk-toggleable__label {\n",
              "  cursor: pointer;\n",
              "  display: block;\n",
              "  width: 100%;\n",
              "  margin-bottom: 0;\n",
              "  padding: 0.5em;\n",
              "  box-sizing: border-box;\n",
              "  text-align: center;\n",
              "}\n",
              "\n",
              "#sk-container-id-1 label.sk-toggleable__label-arrow:before {\n",
              "  /* Arrow on the left of the label */\n",
              "  content: \"▸\";\n",
              "  float: left;\n",
              "  margin-right: 0.25em;\n",
              "  color: var(--sklearn-color-icon);\n",
              "}\n",
              "\n",
              "#sk-container-id-1 label.sk-toggleable__label-arrow:hover:before {\n",
              "  color: var(--sklearn-color-text);\n",
              "}\n",
              "\n",
              "/* Toggleable content - dropdown */\n",
              "\n",
              "#sk-container-id-1 div.sk-toggleable__content {\n",
              "  max-height: 0;\n",
              "  max-width: 0;\n",
              "  overflow: hidden;\n",
              "  text-align: left;\n",
              "  /* unfitted */\n",
              "  background-color: var(--sklearn-color-unfitted-level-0);\n",
              "}\n",
              "\n",
              "#sk-container-id-1 div.sk-toggleable__content.fitted {\n",
              "  /* fitted */\n",
              "  background-color: var(--sklearn-color-fitted-level-0);\n",
              "}\n",
              "\n",
              "#sk-container-id-1 div.sk-toggleable__content pre {\n",
              "  margin: 0.2em;\n",
              "  border-radius: 0.25em;\n",
              "  color: var(--sklearn-color-text);\n",
              "  /* unfitted */\n",
              "  background-color: var(--sklearn-color-unfitted-level-0);\n",
              "}\n",
              "\n",
              "#sk-container-id-1 div.sk-toggleable__content.fitted pre {\n",
              "  /* unfitted */\n",
              "  background-color: var(--sklearn-color-fitted-level-0);\n",
              "}\n",
              "\n",
              "#sk-container-id-1 input.sk-toggleable__control:checked~div.sk-toggleable__content {\n",
              "  /* Expand drop-down */\n",
              "  max-height: 200px;\n",
              "  max-width: 100%;\n",
              "  overflow: auto;\n",
              "}\n",
              "\n",
              "#sk-container-id-1 input.sk-toggleable__control:checked~label.sk-toggleable__label-arrow:before {\n",
              "  content: \"▾\";\n",
              "}\n",
              "\n",
              "/* Pipeline/ColumnTransformer-specific style */\n",
              "\n",
              "#sk-container-id-1 div.sk-label input.sk-toggleable__control:checked~label.sk-toggleable__label {\n",
              "  color: var(--sklearn-color-text);\n",
              "  background-color: var(--sklearn-color-unfitted-level-2);\n",
              "}\n",
              "\n",
              "#sk-container-id-1 div.sk-label.fitted input.sk-toggleable__control:checked~label.sk-toggleable__label {\n",
              "  background-color: var(--sklearn-color-fitted-level-2);\n",
              "}\n",
              "\n",
              "/* Estimator-specific style */\n",
              "\n",
              "/* Colorize estimator box */\n",
              "#sk-container-id-1 div.sk-estimator input.sk-toggleable__control:checked~label.sk-toggleable__label {\n",
              "  /* unfitted */\n",
              "  background-color: var(--sklearn-color-unfitted-level-2);\n",
              "}\n",
              "\n",
              "#sk-container-id-1 div.sk-estimator.fitted input.sk-toggleable__control:checked~label.sk-toggleable__label {\n",
              "  /* fitted */\n",
              "  background-color: var(--sklearn-color-fitted-level-2);\n",
              "}\n",
              "\n",
              "#sk-container-id-1 div.sk-label label.sk-toggleable__label,\n",
              "#sk-container-id-1 div.sk-label label {\n",
              "  /* The background is the default theme color */\n",
              "  color: var(--sklearn-color-text-on-default-background);\n",
              "}\n",
              "\n",
              "/* On hover, darken the color of the background */\n",
              "#sk-container-id-1 div.sk-label:hover label.sk-toggleable__label {\n",
              "  color: var(--sklearn-color-text);\n",
              "  background-color: var(--sklearn-color-unfitted-level-2);\n",
              "}\n",
              "\n",
              "/* Label box, darken color on hover, fitted */\n",
              "#sk-container-id-1 div.sk-label.fitted:hover label.sk-toggleable__label.fitted {\n",
              "  color: var(--sklearn-color-text);\n",
              "  background-color: var(--sklearn-color-fitted-level-2);\n",
              "}\n",
              "\n",
              "/* Estimator label */\n",
              "\n",
              "#sk-container-id-1 div.sk-label label {\n",
              "  font-family: monospace;\n",
              "  font-weight: bold;\n",
              "  display: inline-block;\n",
              "  line-height: 1.2em;\n",
              "}\n",
              "\n",
              "#sk-container-id-1 div.sk-label-container {\n",
              "  text-align: center;\n",
              "}\n",
              "\n",
              "/* Estimator-specific */\n",
              "#sk-container-id-1 div.sk-estimator {\n",
              "  font-family: monospace;\n",
              "  border: 1px dotted var(--sklearn-color-border-box);\n",
              "  border-radius: 0.25em;\n",
              "  box-sizing: border-box;\n",
              "  margin-bottom: 0.5em;\n",
              "  /* unfitted */\n",
              "  background-color: var(--sklearn-color-unfitted-level-0);\n",
              "}\n",
              "\n",
              "#sk-container-id-1 div.sk-estimator.fitted {\n",
              "  /* fitted */\n",
              "  background-color: var(--sklearn-color-fitted-level-0);\n",
              "}\n",
              "\n",
              "/* on hover */\n",
              "#sk-container-id-1 div.sk-estimator:hover {\n",
              "  /* unfitted */\n",
              "  background-color: var(--sklearn-color-unfitted-level-2);\n",
              "}\n",
              "\n",
              "#sk-container-id-1 div.sk-estimator.fitted:hover {\n",
              "  /* fitted */\n",
              "  background-color: var(--sklearn-color-fitted-level-2);\n",
              "}\n",
              "\n",
              "/* Specification for estimator info (e.g. \"i\" and \"?\") */\n",
              "\n",
              "/* Common style for \"i\" and \"?\" */\n",
              "\n",
              ".sk-estimator-doc-link,\n",
              "a:link.sk-estimator-doc-link,\n",
              "a:visited.sk-estimator-doc-link {\n",
              "  float: right;\n",
              "  font-size: smaller;\n",
              "  line-height: 1em;\n",
              "  font-family: monospace;\n",
              "  background-color: var(--sklearn-color-background);\n",
              "  border-radius: 1em;\n",
              "  height: 1em;\n",
              "  width: 1em;\n",
              "  text-decoration: none !important;\n",
              "  margin-left: 1ex;\n",
              "  /* unfitted */\n",
              "  border: var(--sklearn-color-unfitted-level-1) 1pt solid;\n",
              "  color: var(--sklearn-color-unfitted-level-1);\n",
              "}\n",
              "\n",
              ".sk-estimator-doc-link.fitted,\n",
              "a:link.sk-estimator-doc-link.fitted,\n",
              "a:visited.sk-estimator-doc-link.fitted {\n",
              "  /* fitted */\n",
              "  border: var(--sklearn-color-fitted-level-1) 1pt solid;\n",
              "  color: var(--sklearn-color-fitted-level-1);\n",
              "}\n",
              "\n",
              "/* On hover */\n",
              "div.sk-estimator:hover .sk-estimator-doc-link:hover,\n",
              ".sk-estimator-doc-link:hover,\n",
              "div.sk-label-container:hover .sk-estimator-doc-link:hover,\n",
              ".sk-estimator-doc-link:hover {\n",
              "  /* unfitted */\n",
              "  background-color: var(--sklearn-color-unfitted-level-3);\n",
              "  color: var(--sklearn-color-background);\n",
              "  text-decoration: none;\n",
              "}\n",
              "\n",
              "div.sk-estimator.fitted:hover .sk-estimator-doc-link.fitted:hover,\n",
              ".sk-estimator-doc-link.fitted:hover,\n",
              "div.sk-label-container:hover .sk-estimator-doc-link.fitted:hover,\n",
              ".sk-estimator-doc-link.fitted:hover {\n",
              "  /* fitted */\n",
              "  background-color: var(--sklearn-color-fitted-level-3);\n",
              "  color: var(--sklearn-color-background);\n",
              "  text-decoration: none;\n",
              "}\n",
              "\n",
              "/* Span, style for the box shown on hovering the info icon */\n",
              ".sk-estimator-doc-link span {\n",
              "  display: none;\n",
              "  z-index: 9999;\n",
              "  position: relative;\n",
              "  font-weight: normal;\n",
              "  right: .2ex;\n",
              "  padding: .5ex;\n",
              "  margin: .5ex;\n",
              "  width: min-content;\n",
              "  min-width: 20ex;\n",
              "  max-width: 50ex;\n",
              "  color: var(--sklearn-color-text);\n",
              "  box-shadow: 2pt 2pt 4pt #999;\n",
              "  /* unfitted */\n",
              "  background: var(--sklearn-color-unfitted-level-0);\n",
              "  border: .5pt solid var(--sklearn-color-unfitted-level-3);\n",
              "}\n",
              "\n",
              ".sk-estimator-doc-link.fitted span {\n",
              "  /* fitted */\n",
              "  background: var(--sklearn-color-fitted-level-0);\n",
              "  border: var(--sklearn-color-fitted-level-3);\n",
              "}\n",
              "\n",
              ".sk-estimator-doc-link:hover span {\n",
              "  display: block;\n",
              "}\n",
              "\n",
              "/* \"?\"-specific style due to the `<a>` HTML tag */\n",
              "\n",
              "#sk-container-id-1 a.estimator_doc_link {\n",
              "  float: right;\n",
              "  font-size: 1rem;\n",
              "  line-height: 1em;\n",
              "  font-family: monospace;\n",
              "  background-color: var(--sklearn-color-background);\n",
              "  border-radius: 1rem;\n",
              "  height: 1rem;\n",
              "  width: 1rem;\n",
              "  text-decoration: none;\n",
              "  /* unfitted */\n",
              "  color: var(--sklearn-color-unfitted-level-1);\n",
              "  border: var(--sklearn-color-unfitted-level-1) 1pt solid;\n",
              "}\n",
              "\n",
              "#sk-container-id-1 a.estimator_doc_link.fitted {\n",
              "  /* fitted */\n",
              "  border: var(--sklearn-color-fitted-level-1) 1pt solid;\n",
              "  color: var(--sklearn-color-fitted-level-1);\n",
              "}\n",
              "\n",
              "/* On hover */\n",
              "#sk-container-id-1 a.estimator_doc_link:hover {\n",
              "  /* unfitted */\n",
              "  background-color: var(--sklearn-color-unfitted-level-3);\n",
              "  color: var(--sklearn-color-background);\n",
              "  text-decoration: none;\n",
              "}\n",
              "\n",
              "#sk-container-id-1 a.estimator_doc_link.fitted:hover {\n",
              "  /* fitted */\n",
              "  background-color: var(--sklearn-color-fitted-level-3);\n",
              "}\n",
              "</style><div id=\"sk-container-id-1\" class=\"sk-top-container\"><div class=\"sk-text-repr-fallback\"><pre>W2VEncoder(model=&lt;gensim.models.word2vec.Word2Vec object at 0x7e701005d090&gt;)</pre><b>In a Jupyter environment, please rerun this cell to show the HTML representation or trust the notebook. <br />On GitHub, the HTML representation is unable to render, please try loading this page with nbviewer.org.</b></div><div class=\"sk-container\" hidden><div class=\"sk-item\"><div class=\"sk-estimator  sk-toggleable\"><input class=\"sk-toggleable__control sk-hidden--visually\" id=\"sk-estimator-id-1\" type=\"checkbox\" checked><label for=\"sk-estimator-id-1\" class=\"sk-toggleable__label  sk-toggleable__label-arrow \">&nbsp;W2VEncoder<span class=\"sk-estimator-doc-link \">i<span>Not fitted</span></span></label><div class=\"sk-toggleable__content \"><pre>W2VEncoder(model=&lt;gensim.models.word2vec.Word2Vec object at 0x7e701005d090&gt;)</pre></div> </div></div></div></div>"
            ],
            "text/plain": [
              "W2VEncoder(model=<gensim.models.word2vec.Word2Vec object at 0x7e701005d090>)"
            ]
          },
          "execution_count": 25,
          "metadata": {},
          "output_type": "execute_result"
        }
      ],
      "source": [
        "# Train the Word2Vec model\n",
        "w2v_encoder = W2VEncoder()\n",
        "w2v_encoder.fit(processed_dataset[\"tokens\"])"
      ]
    },
    {
      "cell_type": "code",
      "execution_count": 26,
      "id": "X5tlR8TDU6fi",
      "metadata": {
        "executionInfo": {
          "elapsed": 5,
          "status": "ok",
          "timestamp": 1730862661632,
          "user": {
            "displayName": "",
            "userId": ""
          },
          "user_tz": -420
        },
        "id": "X5tlR8TDU6fi"
      },
      "outputs": [],
      "source": [
        "# Save model to GCS for future access\n",
        "# w2v_encoder.model.save(f\"model_w2v\")"
      ]
    },
    {
      "cell_type": "markdown",
      "id": "Szy42kONPrbh",
      "metadata": {
        "id": "Szy42kONPrbh"
      },
      "source": [
        "## Clustering"
      ]
    },
    {
      "cell_type": "code",
      "execution_count": null,
      "id": "cLERCUP8NHT7",
      "metadata": {
        "id": "cLERCUP8NHT7"
      },
      "outputs": [],
      "source": [
        "model_sentiment = pipeline(model=\"cardiffnlp/twitter-roberta-base-sentiment-latest\")"
      ]
    },
    {
      "cell_type": "code",
      "execution_count": 141,
      "id": "94f2L4bia83W",
      "metadata": {
        "executionInfo": {
          "elapsed": 448,
          "status": "ok",
          "timestamp": 1730878284275,
          "user": {
            "displayName": "",
            "userId": ""
          },
          "user_tz": -420
        },
        "id": "94f2L4bia83W"
      },
      "outputs": [],
      "source": [
        "selected_id = np.random.choice(processed_dataset[\"business_id\"])"
      ]
    },
    {
      "cell_type": "code",
      "execution_count": 142,
      "id": "8iZPIqcaYtnD",
      "metadata": {
        "executionInfo": {
          "elapsed": 2,
          "status": "ok",
          "timestamp": 1730878284275,
          "user": {
            "displayName": "",
            "userId": ""
          },
          "user_tz": -420
        },
        "id": "8iZPIqcaYtnD"
      },
      "outputs": [],
      "source": [
        "# Helper functions for data selection, cluster evaluation, and visualization\n",
        "\n",
        "def select_dataset(dataset, selected_id, model_sentiment,\n",
        "                   sentiment=\"Positive\"):\n",
        "\n",
        "    # Select data based on `business_id`\n",
        "    data = dataset[dataset[\"business_id\"] == selected_id].copy()\n",
        "\n",
        "    # Select reviews from the last six months\n",
        "    data[\"time\"] = pd.to_datetime(data[\"time\"])\n",
        "    time_limit = data[\"time\"].max() - pd.DateOffset(months=6)\n",
        "    data = data[data[\"time\"] >= time_limit]\n",
        "\n",
        "    # Extract the sentiment using a pretrained model\n",
        "    data[\"sentiment\"] = data[\"processed_text\"].apply(lambda x: model_sentiment(x))\n",
        "    data[\"sentiment\"] = data[\"sentiment\"].apply(lambda x: x[0][\"label\"])\n",
        "\n",
        "    # Select only the matching sentiment\n",
        "    data = data[data[\"sentiment\"] == sentiment]\n",
        "\n",
        "    return data\n",
        "\n",
        "def evaluate_cluster(X, y):\n",
        "    \"\"\"\n",
        "        Evaluate clustering result using 3 evaluation metrics:\n",
        "        1. `silhouette_score`: a metric used to calculate the goodness of fit\n",
        "            of a clustering algorithm. Its value ranges from -1 to 1.\n",
        "        2. `davies_bouldin_score`: the average similarity measure of each cluster\n",
        "            with its most similar cluster. The minimum value is 0, indicating better model.\n",
        "        3. `calinski_harabasz_score`: the ratio of the sum of between-cluster dispersion\n",
        "            and of within-cluster dispersion. Higher index indicates separable clusters.\n",
        "    \"\"\"\n",
        "    evaluation_scores = {}\n",
        "    evaluation_scores[\"silhouette_score\"] = [silhouette_score(X, y)]\n",
        "    evaluation_scores[\"davies_bouldin_score\"] = [davies_bouldin_score(X, y)]\n",
        "    evaluation_scores[\"calinski_harabasz_score\"] = [calinski_harabasz_score(X, y)]\n",
        "\n",
        "    return pd.DataFrame(evaluation_scores).T\n",
        "\n",
        "def visualize_cluster(df, x_column, y_column):\n",
        "    pca = PCA(n_components=2)\n",
        "    # df[x_column].apply(lambda x: print(x.shape))\n",
        "    df[\"w2v_pca\"] = list(pca.fit_transform(np.vstack(df[x_column].values)))\n",
        "    df[[\"w2v_pca_x\", \"w2v_pca_y\"]] = pd.DataFrame(df[\"w2v_pca\"].tolist(), index=df.index)\n",
        "\n",
        "    # Plot with px.scatter using the new PCA columns\n",
        "    fig = px.scatter(df,\n",
        "                    x=\"w2v_pca_x\",\n",
        "                    y=\"w2v_pca_y\",\n",
        "                    color=df[y_column],\n",
        "                    hover_data={\"processed_text\": True},\n",
        "                    title=\"Customer Review - Cluster Distribution\")\n",
        "    fig.show()"
      ]
    },
    {
      "cell_type": "code",
      "execution_count": 143,
      "id": "DWJHRjI9XlUL",
      "metadata": {
        "executionInfo": {
          "elapsed": 2,
          "status": "ok",
          "timestamp": 1730878284275,
          "user": {
            "displayName": "",
            "userId": ""
          },
          "user_tz": -420
        },
        "id": "DWJHRjI9XlUL"
      },
      "outputs": [],
      "source": [
        "class HDBSCANClustering(BaseEstimator, TransformerMixin):\n",
        "    def __init__(self, apply_pca=False):\n",
        "        self.model = HDBSCAN(metric=\"cosine\",\n",
        "                             min_cluster_size=3)\n",
        "        self.labels_ = None\n",
        "\n",
        "        self.apply_pca = apply_pca\n",
        "        self.pca = PCA()\n",
        "\n",
        "    def fit(self, X, y=None):\n",
        "        \"\"\" Fit the cluster. \"\"\"\n",
        "        if self.apply_pca:\n",
        "            X = self.pca.fit_transform(X)\n",
        "            explained_variance = np.cumsum(self.pca.explained_variance_ratio_)\n",
        "            print(f\"Explained variance: {explained_variance[-1]:.3f}\")\n",
        "\n",
        "        self.labels_ = self.model.fit_predict(X)\n",
        "        return self\n",
        "\n",
        "    def transform(self, X):\n",
        "        \"\"\" Return the label \"\"\"\n",
        "\n",
        "        return self.labels_"
      ]
    },
    {
      "cell_type": "code",
      "execution_count": 145,
      "id": "6wKQ3yiqh-hJ",
      "metadata": {
        "colab": {
          "base_uri": "https://localhost:8080/",
          "height": 559
        },
        "executionInfo": {
          "elapsed": 13410,
          "status": "ok",
          "timestamp": 1730878358845,
          "user": {
            "displayName": "",
            "userId": ""
          },
          "user_tz": -420
        },
        "id": "6wKQ3yiqh-hJ",
        "outputId": "58d751fd-bdec-4225-98f5-a352cdacd663"
      },
      "outputs": [
        {
          "name": "stdout",
          "output_type": "stream",
          "text": [
            "Explained variance: 1.000\n"
          ]
        },
        {
          "data": {
            "text/html": [
              "<html>\n",
              "<head><meta charset=\"utf-8\" /></head>\n",
              "<body>\n",
              "    <div>            <script src=\"https://cdnjs.cloudflare.com/ajax/libs/mathjax/2.7.5/MathJax.js?config=TeX-AMS-MML_SVG\"></script><script type=\"text/javascript\">if (window.MathJax && window.MathJax.Hub && window.MathJax.Hub.Config) {window.MathJax.Hub.Config({SVG: {font: \"STIX-Web\"}});}</script>                <script type=\"text/javascript\">window.PlotlyConfig = {MathJaxConfig: 'local'};</script>\n",
              "        <script charset=\"utf-8\" src=\"https://cdn.plot.ly/plotly-2.35.2.min.js\"></script>                <div id=\"ba372e53-7f91-4bfc-8463-0c6ae243970c\" class=\"plotly-graph-div\" style=\"height:525px; width:100%;\"></div>            <script type=\"text/javascript\">                                    window.PLOTLYENV=window.PLOTLYENV || {};                                    if (document.getElementById(\"ba372e53-7f91-4bfc-8463-0c6ae243970c\")) {                    Plotly.newPlot(                        \"ba372e53-7f91-4bfc-8463-0c6ae243970c\",                        [{\"customdata\":[[\"worth the hike down or having a 4x4 to drive down the spectacular road.\"],[\"the black sand beach stretches out with beautiful surf.\"],[\"plants are incredible of course.\"],[\"it was a must stop on our list of places to see.\"],[\"even just from the lookout at the top it is worth the pleasant drive out.\"],[\"beautiful lookout spot with picnic tables and lots of signs explaining the scenery.\"],[\"if you're a cat lover there are also tons of wild cats that live in the area, and they will even come to you!\"],[\"great hike down to the valley from the top.\"],[\"then we walked back and turned to the right, that 1\\u002f2 mile path took is to a nice black sand beach, water was rough, not much of a beach to swim but still nice.\"],[\"enjoy the beautiful wild horses.\"],[\"beautiful site.\"],[\"sharp hill for 4-wheel drive vehicles only but totally worth the hike down and up.\"],[\"great experience.\"],[\"and i am really glad i did.\"],[\"the view throughout the hike are stunning.\"],[\"one of my favorite hike during my trip to the island.\"],[\"definitely give it a try.\"],[\"beautiful view.\"],[\"we did see some cute feral kittens in the bushes off to the side though.\"],[\"this is a beautiful place with soft sands and horses.\"],[\"beautiful and secluded.\"],[\"one of my favorites on the hilo side.\"],[\"beautiful day in hawaii capturing this stunning view!  \"],[\"as you can see from my captured photos, the view did not disappoint\"],[\"amazing view.\"],[\"you can feel your legs next day :p\"],[\"the most beautiful scenic point i have ever seen.\"],[\"the lookout had a great view.\"],[\"we didnt hike all of it but the first stretchback..  there is a soft trail in the woods do not take the rocks on the beach to get to the trail.. definitely worth hiking to see the excellent view.\"],[\"also there are beautiful wild horses here.\"],[\"pretty amazing place... very powerful mana on the valley floor.\"],[\"amazing views, steep hike from the top of the mountain to the beach.  \"],[\"gorgeous spot.\"],[\"well worth the trip.\"],[\"beautiful lookout on a clear day.\"],[\"absolutely incredible!\"],[\"make sure you take the walk down the valley, where you\\u2019ll have the opportunity to reach the black sand beach and if you go into the valley you\\u2019ll be able to see some waterfalls!\"],[\"worth the drive.  \"],[\"best valley views in hawaii.\"],[\"great lookout, the walk to the beach below is intense.  \"],[\"stunning views!\"],[\"truly one of the most beautiful places in the world.\"],[\"an incredible view that is absolutely worth checking out.\"],[\"however this view and the scenery along the way is worth it...careful driving around the \\\"3 horse shoes\\\"\"],[\"lookout is great, but i'd recommend the step walk down and back up to the beautiful black sand beach below.\"],[\"very pretty.\"],[\"such a beautiful place make sure to drive down if you have a 4x4\"],[\"must visit on the big island!\"],[\"sights and a cute cat colony at the lookout!\"],[\"nice and beautiful lookout of the valley.\"],[\"great hike down to the waterfall and\\u002for black sand beach.\"],[\"but the views are worth the workout.\"],[\"beautiful views, bring plenty of water if walking down and up entire hill\"],[\"great views.\"],[\"mother nature continues to amaze!\"],[\"be ready for steep walk down to lookout but definitely worth it , has bathroom\"],[\"amazing views.\"],[\"spectacular views.\"],[\"really beautiful view.\"],[\"it\\u2019s a nice serene view, wish i made it to the bottom, but it was closed before 7 am.\"],[\"great view point.\"],[\"amazing but a really steep drive to the beach.  \"],[\"even if you don\\u2019t hike down bring some lunch and eat at the benches with the amazing view of the valley.\"],[\"i'm sure much better if you drive on in to the valley (4wd required).\"],[\"it is breathtaking view from atop.\"],[\"this is a \\\"dont miss\\\" spot on the big island...well worth the time\\u002fdrive...\"],[\"the scenic experience is top notch\"],[\"we fell in love with the big island and our stay at the waipi'o valley ridge house by the over look.  \"],[\"if you love the outdoors and nature this is so for you.\"],[\"it is so peaceful here on this side of the island.\"],[\"a must see and explore when on the big iland, is the ypo valley.\"],[\"but it's still majestic.\"],[\"it was a good day to hike to the valley.\"],[\"gorgeous sweeping views of the valley!\"],[\"stunning view.\"],[\"stunning views.\"],[\"natures beauty in full effect\"],[\"great time n view\"],[\"amazing view.\"],[\"such view!  \"],[\"absolutely beautiful place\"],[\"so beautiful!\"],[\"this is a must see photo stop.\"],[\"worth the short drive for the view.\"],[\"amazing view 10\\u002f10\"],[\"great view.\"],[\"beautiful, bring a 4wd if you want to go to the beach.\"],[\" it is a very beautiful viewpoint since from the highest part you can see the entire valley, elmar as well as a waterfall that rises from the top of the mountains is absolutely impressive, it is well worth seeing that beautiful scene that there is.\"],[\" you can go down to the 4-wheel drive to see the superb view, and the view from the top to the bottom is not bad.\"],[\"it would be nice to buy a lunch box and sit down on the lawn and chat with the cats.\"],[\" a really beautiful place please go.\"],[\" very nice place, i recommend checking the weather first before visiting.\"]],\"hovertemplate\":\"w2v_pca_x=%{x}\\u003cbr\\u003ew2v_pca_y=%{y}\\u003cbr\\u003eprocessed_text=%{customdata[0]}\\u003cbr\\u003ew2v_label=%{marker.color}\\u003cextra\\u003e\\u003c\\u002fextra\\u003e\",\"legendgroup\":\"\",\"marker\":{\"color\":[1,1,-1,1,1,1,1,1,1,-1,0,1,-1,1,-1,1,1,3,1,1,-1,1,-1,1,4,1,1,-1,1,1,1,1,0,1,-1,-1,1,1,-1,1,3,1,1,1,1,-1,1,1,1,-1,1,1,1,2,1,1,4,3,-1,1,2,1,1,1,-1,1,-1,1,1,1,1,1,1,-1,3,3,-1,-1,4,-1,0,-1,1,1,4,2,1,1,1,1,1,1],\"coloraxis\":\"coloraxis\",\"symbol\":\"circle\"},\"mode\":\"markers\",\"name\":\"\",\"orientation\":\"v\",\"showlegend\":false,\"x\":[-0.0747947096824646,-0.060578010976314545,-0.03794427588582039,-0.10665534436702728,-0.07555528730154037,-0.05684318765997887,-0.09971342235803604,-0.048141174018383026,-0.08646009117364883,-0.030171148478984833,0.07038744539022446,-0.08459720760583878,-0.006848588585853577,-0.16223642230033875,0.010458135046064854,-0.09117646515369415,-0.1536618024110794,0.3837814927101135,-0.08813425898551941,-0.08786370605230331,0.005772567819803953,-0.08825517445802689,-0.012595536187291145,-0.08123525232076645,0.35701364278793335,-0.1346503347158432,-0.05623042955994606,-0.0005790999857708812,-0.0801573172211647,-0.08104781806468964,-0.05238328501582146,-0.032094139605760574,0.08180087059736252,-0.08255782723426819,-0.03918997570872307,0.1633227914571762,-0.08193294703960419,-0.06062772125005722,0.0029286027420312166,-0.05272693186998367,0.4153095483779907,-0.06500085443258286,-0.053872477263212204,-0.06507769227027893,-0.07682587206363678,-0.08332228660583496,-0.09852423518896103,-0.09530618786811829,-0.06590273976325989,-0.021961836144328117,-0.047371432185173035,-0.043711889535188675,-0.055916085839271545,0.27971309423446655,-0.07913311570882797,-0.09078951925039291,0.35701364278793335,0.3871174454689026,0.17106635868549347,-0.08527960628271103,0.14325593411922455,-0.07127431780099869,-0.07387332618236542,-0.10187757760286331,-0.007457868196070194,-0.09493284672498703,-0.03042866289615631,-0.08286549150943756,-0.11012925952672958,-0.09425026923418045,-0.08912264555692673,-0.09184259176254272,-0.08499182760715485,0.04969928413629532,0.4153095483779907,0.4153095483779907,-0.030732372775673866,0.02540437877178192,0.35701361298561096,0.23874099552631378,0.022561555728316307,-0.02464529126882553,-0.08984450250864029,-0.030072953552007675,0.35701361298561096,0.27971309423446655,-0.10891857743263245,-0.0755067989230156,-0.0693642720580101,-0.09524399042129517,-0.10639669001102448,-0.11030074208974838],\"xaxis\":\"x\",\"y\":[-0.0038879637140780687,0.034801822155714035,-0.021464049816131592,-0.026657549664378166,-0.007943641394376755,0.008103512227535248,-0.015433000400662422,-0.00893235020339489,-0.00250573200173676,0.01779046654701233,0.15018433332443237,-0.0063654170371592045,-0.1927640438079834,-0.03553896024823189,0.019172605127096176,-0.036655742675065994,-0.06284932047128677,0.1339864730834961,-0.00615757005289197,0.013592693023383617,0.12107706069946289,-0.020341331139206886,-0.007806424517184496,-0.016617927700281143,-0.09283210337162018,-0.025593947619199753,-0.011208144016563892,-0.019339414313435555,-0.011145618744194508,0.03104982152581215,0.009387349709868431,-0.0027209329418838024,0.21758316457271576,-0.031878143548965454,0.021701941266655922,-0.2638435363769531,-0.013181176967918873,-0.0005320784403011203,-0.03157711774110794,0.010548898950219154,0.07328386604785919,-0.00817768182605505,-0.03717843070626259,-0.005155605264008045,-0.0014911646721884608,0.3549247980117798,-0.018504034727811813,-0.03871472179889679,-0.005417734384536743,0.030863827094435692,0.024417242035269737,0.008738354779779911,-0.0019515821477398276,-0.04849621653556824,-0.05337778851389885,-0.0032743040937930346,-0.09283208101987839,0.031045032665133476,0.0841732993721962,-0.00845476146787405,-0.028041576966643333,0.0026031960733234882,-0.015101565048098564,-0.023659078404307365,0.016620436683297157,-0.015784084796905518,-0.03776581212878227,-0.022333526983857155,-0.019416967406868935,0.0028497041203081608,-0.01271998044103384,0.04880131036043167,-0.003919561859220266,0.022357089444994926,0.07328387349843979,0.07328387349843979,-0.019730865955352783,-0.03558700531721115,-0.09283209592103958,-0.05121026933193207,0.006615992169827223,0.24213139712810516,-0.025347480550408363,-0.005649265833199024,-0.09283210337162018,-0.04849620908498764,-0.005073638167232275,-0.01047065295279026,-0.009983918629586697,-0.013763557188212872,0.022228391841053963,-0.018683215603232384],\"yaxis\":\"y\",\"type\":\"scatter\"}],                        {\"template\":{\"data\":{\"histogram2dcontour\":[{\"type\":\"histogram2dcontour\",\"colorbar\":{\"outlinewidth\":0,\"ticks\":\"\"},\"colorscale\":[[0.0,\"#0d0887\"],[0.1111111111111111,\"#46039f\"],[0.2222222222222222,\"#7201a8\"],[0.3333333333333333,\"#9c179e\"],[0.4444444444444444,\"#bd3786\"],[0.5555555555555556,\"#d8576b\"],[0.6666666666666666,\"#ed7953\"],[0.7777777777777778,\"#fb9f3a\"],[0.8888888888888888,\"#fdca26\"],[1.0,\"#f0f921\"]]}],\"choropleth\":[{\"type\":\"choropleth\",\"colorbar\":{\"outlinewidth\":0,\"ticks\":\"\"}}],\"histogram2d\":[{\"type\":\"histogram2d\",\"colorbar\":{\"outlinewidth\":0,\"ticks\":\"\"},\"colorscale\":[[0.0,\"#0d0887\"],[0.1111111111111111,\"#46039f\"],[0.2222222222222222,\"#7201a8\"],[0.3333333333333333,\"#9c179e\"],[0.4444444444444444,\"#bd3786\"],[0.5555555555555556,\"#d8576b\"],[0.6666666666666666,\"#ed7953\"],[0.7777777777777778,\"#fb9f3a\"],[0.8888888888888888,\"#fdca26\"],[1.0,\"#f0f921\"]]}],\"heatmap\":[{\"type\":\"heatmap\",\"colorbar\":{\"outlinewidth\":0,\"ticks\":\"\"},\"colorscale\":[[0.0,\"#0d0887\"],[0.1111111111111111,\"#46039f\"],[0.2222222222222222,\"#7201a8\"],[0.3333333333333333,\"#9c179e\"],[0.4444444444444444,\"#bd3786\"],[0.5555555555555556,\"#d8576b\"],[0.6666666666666666,\"#ed7953\"],[0.7777777777777778,\"#fb9f3a\"],[0.8888888888888888,\"#fdca26\"],[1.0,\"#f0f921\"]]}],\"heatmapgl\":[{\"type\":\"heatmapgl\",\"colorbar\":{\"outlinewidth\":0,\"ticks\":\"\"},\"colorscale\":[[0.0,\"#0d0887\"],[0.1111111111111111,\"#46039f\"],[0.2222222222222222,\"#7201a8\"],[0.3333333333333333,\"#9c179e\"],[0.4444444444444444,\"#bd3786\"],[0.5555555555555556,\"#d8576b\"],[0.6666666666666666,\"#ed7953\"],[0.7777777777777778,\"#fb9f3a\"],[0.8888888888888888,\"#fdca26\"],[1.0,\"#f0f921\"]]}],\"contourcarpet\":[{\"type\":\"contourcarpet\",\"colorbar\":{\"outlinewidth\":0,\"ticks\":\"\"}}],\"contour\":[{\"type\":\"contour\",\"colorbar\":{\"outlinewidth\":0,\"ticks\":\"\"},\"colorscale\":[[0.0,\"#0d0887\"],[0.1111111111111111,\"#46039f\"],[0.2222222222222222,\"#7201a8\"],[0.3333333333333333,\"#9c179e\"],[0.4444444444444444,\"#bd3786\"],[0.5555555555555556,\"#d8576b\"],[0.6666666666666666,\"#ed7953\"],[0.7777777777777778,\"#fb9f3a\"],[0.8888888888888888,\"#fdca26\"],[1.0,\"#f0f921\"]]}],\"surface\":[{\"type\":\"surface\",\"colorbar\":{\"outlinewidth\":0,\"ticks\":\"\"},\"colorscale\":[[0.0,\"#0d0887\"],[0.1111111111111111,\"#46039f\"],[0.2222222222222222,\"#7201a8\"],[0.3333333333333333,\"#9c179e\"],[0.4444444444444444,\"#bd3786\"],[0.5555555555555556,\"#d8576b\"],[0.6666666666666666,\"#ed7953\"],[0.7777777777777778,\"#fb9f3a\"],[0.8888888888888888,\"#fdca26\"],[1.0,\"#f0f921\"]]}],\"mesh3d\":[{\"type\":\"mesh3d\",\"colorbar\":{\"outlinewidth\":0,\"ticks\":\"\"}}],\"scatter\":[{\"fillpattern\":{\"fillmode\":\"overlay\",\"size\":10,\"solidity\":0.2},\"type\":\"scatter\"}],\"parcoords\":[{\"type\":\"parcoords\",\"line\":{\"colorbar\":{\"outlinewidth\":0,\"ticks\":\"\"}}}],\"scatterpolargl\":[{\"type\":\"scatterpolargl\",\"marker\":{\"colorbar\":{\"outlinewidth\":0,\"ticks\":\"\"}}}],\"bar\":[{\"error_x\":{\"color\":\"#2a3f5f\"},\"error_y\":{\"color\":\"#2a3f5f\"},\"marker\":{\"line\":{\"color\":\"#E5ECF6\",\"width\":0.5},\"pattern\":{\"fillmode\":\"overlay\",\"size\":10,\"solidity\":0.2}},\"type\":\"bar\"}],\"scattergeo\":[{\"type\":\"scattergeo\",\"marker\":{\"colorbar\":{\"outlinewidth\":0,\"ticks\":\"\"}}}],\"scatterpolar\":[{\"type\":\"scatterpolar\",\"marker\":{\"colorbar\":{\"outlinewidth\":0,\"ticks\":\"\"}}}],\"histogram\":[{\"marker\":{\"pattern\":{\"fillmode\":\"overlay\",\"size\":10,\"solidity\":0.2}},\"type\":\"histogram\"}],\"scattergl\":[{\"type\":\"scattergl\",\"marker\":{\"colorbar\":{\"outlinewidth\":0,\"ticks\":\"\"}}}],\"scatter3d\":[{\"type\":\"scatter3d\",\"line\":{\"colorbar\":{\"outlinewidth\":0,\"ticks\":\"\"}},\"marker\":{\"colorbar\":{\"outlinewidth\":0,\"ticks\":\"\"}}}],\"scattermapbox\":[{\"type\":\"scattermapbox\",\"marker\":{\"colorbar\":{\"outlinewidth\":0,\"ticks\":\"\"}}}],\"scatterternary\":[{\"type\":\"scatterternary\",\"marker\":{\"colorbar\":{\"outlinewidth\":0,\"ticks\":\"\"}}}],\"scattercarpet\":[{\"type\":\"scattercarpet\",\"marker\":{\"colorbar\":{\"outlinewidth\":0,\"ticks\":\"\"}}}],\"carpet\":[{\"aaxis\":{\"endlinecolor\":\"#2a3f5f\",\"gridcolor\":\"white\",\"linecolor\":\"white\",\"minorgridcolor\":\"white\",\"startlinecolor\":\"#2a3f5f\"},\"baxis\":{\"endlinecolor\":\"#2a3f5f\",\"gridcolor\":\"white\",\"linecolor\":\"white\",\"minorgridcolor\":\"white\",\"startlinecolor\":\"#2a3f5f\"},\"type\":\"carpet\"}],\"table\":[{\"cells\":{\"fill\":{\"color\":\"#EBF0F8\"},\"line\":{\"color\":\"white\"}},\"header\":{\"fill\":{\"color\":\"#C8D4E3\"},\"line\":{\"color\":\"white\"}},\"type\":\"table\"}],\"barpolar\":[{\"marker\":{\"line\":{\"color\":\"#E5ECF6\",\"width\":0.5},\"pattern\":{\"fillmode\":\"overlay\",\"size\":10,\"solidity\":0.2}},\"type\":\"barpolar\"}],\"pie\":[{\"automargin\":true,\"type\":\"pie\"}]},\"layout\":{\"autotypenumbers\":\"strict\",\"colorway\":[\"#636efa\",\"#EF553B\",\"#00cc96\",\"#ab63fa\",\"#FFA15A\",\"#19d3f3\",\"#FF6692\",\"#B6E880\",\"#FF97FF\",\"#FECB52\"],\"font\":{\"color\":\"#2a3f5f\"},\"hovermode\":\"closest\",\"hoverlabel\":{\"align\":\"left\"},\"paper_bgcolor\":\"white\",\"plot_bgcolor\":\"#E5ECF6\",\"polar\":{\"bgcolor\":\"#E5ECF6\",\"angularaxis\":{\"gridcolor\":\"white\",\"linecolor\":\"white\",\"ticks\":\"\"},\"radialaxis\":{\"gridcolor\":\"white\",\"linecolor\":\"white\",\"ticks\":\"\"}},\"ternary\":{\"bgcolor\":\"#E5ECF6\",\"aaxis\":{\"gridcolor\":\"white\",\"linecolor\":\"white\",\"ticks\":\"\"},\"baxis\":{\"gridcolor\":\"white\",\"linecolor\":\"white\",\"ticks\":\"\"},\"caxis\":{\"gridcolor\":\"white\",\"linecolor\":\"white\",\"ticks\":\"\"}},\"coloraxis\":{\"colorbar\":{\"outlinewidth\":0,\"ticks\":\"\"}},\"colorscale\":{\"sequential\":[[0.0,\"#0d0887\"],[0.1111111111111111,\"#46039f\"],[0.2222222222222222,\"#7201a8\"],[0.3333333333333333,\"#9c179e\"],[0.4444444444444444,\"#bd3786\"],[0.5555555555555556,\"#d8576b\"],[0.6666666666666666,\"#ed7953\"],[0.7777777777777778,\"#fb9f3a\"],[0.8888888888888888,\"#fdca26\"],[1.0,\"#f0f921\"]],\"sequentialminus\":[[0.0,\"#0d0887\"],[0.1111111111111111,\"#46039f\"],[0.2222222222222222,\"#7201a8\"],[0.3333333333333333,\"#9c179e\"],[0.4444444444444444,\"#bd3786\"],[0.5555555555555556,\"#d8576b\"],[0.6666666666666666,\"#ed7953\"],[0.7777777777777778,\"#fb9f3a\"],[0.8888888888888888,\"#fdca26\"],[1.0,\"#f0f921\"]],\"diverging\":[[0,\"#8e0152\"],[0.1,\"#c51b7d\"],[0.2,\"#de77ae\"],[0.3,\"#f1b6da\"],[0.4,\"#fde0ef\"],[0.5,\"#f7f7f7\"],[0.6,\"#e6f5d0\"],[0.7,\"#b8e186\"],[0.8,\"#7fbc41\"],[0.9,\"#4d9221\"],[1,\"#276419\"]]},\"xaxis\":{\"gridcolor\":\"white\",\"linecolor\":\"white\",\"ticks\":\"\",\"title\":{\"standoff\":15},\"zerolinecolor\":\"white\",\"automargin\":true,\"zerolinewidth\":2},\"yaxis\":{\"gridcolor\":\"white\",\"linecolor\":\"white\",\"ticks\":\"\",\"title\":{\"standoff\":15},\"zerolinecolor\":\"white\",\"automargin\":true,\"zerolinewidth\":2},\"scene\":{\"xaxis\":{\"backgroundcolor\":\"#E5ECF6\",\"gridcolor\":\"white\",\"linecolor\":\"white\",\"showbackground\":true,\"ticks\":\"\",\"zerolinecolor\":\"white\",\"gridwidth\":2},\"yaxis\":{\"backgroundcolor\":\"#E5ECF6\",\"gridcolor\":\"white\",\"linecolor\":\"white\",\"showbackground\":true,\"ticks\":\"\",\"zerolinecolor\":\"white\",\"gridwidth\":2},\"zaxis\":{\"backgroundcolor\":\"#E5ECF6\",\"gridcolor\":\"white\",\"linecolor\":\"white\",\"showbackground\":true,\"ticks\":\"\",\"zerolinecolor\":\"white\",\"gridwidth\":2}},\"shapedefaults\":{\"line\":{\"color\":\"#2a3f5f\"}},\"annotationdefaults\":{\"arrowcolor\":\"#2a3f5f\",\"arrowhead\":0,\"arrowwidth\":1},\"geo\":{\"bgcolor\":\"white\",\"landcolor\":\"#E5ECF6\",\"subunitcolor\":\"white\",\"showland\":true,\"showlakes\":true,\"lakecolor\":\"white\"},\"title\":{\"x\":0.05},\"mapbox\":{\"style\":\"light\"}}},\"xaxis\":{\"anchor\":\"y\",\"domain\":[0.0,1.0],\"title\":{\"text\":\"w2v_pca_x\"}},\"yaxis\":{\"anchor\":\"x\",\"domain\":[0.0,1.0],\"title\":{\"text\":\"w2v_pca_y\"}},\"coloraxis\":{\"colorbar\":{\"title\":{\"text\":\"w2v_label\"}},\"colorscale\":[[0.0,\"#0d0887\"],[0.1111111111111111,\"#46039f\"],[0.2222222222222222,\"#7201a8\"],[0.3333333333333333,\"#9c179e\"],[0.4444444444444444,\"#bd3786\"],[0.5555555555555556,\"#d8576b\"],[0.6666666666666666,\"#ed7953\"],[0.7777777777777778,\"#fb9f3a\"],[0.8888888888888888,\"#fdca26\"],[1.0,\"#f0f921\"]]},\"legend\":{\"tracegroupgap\":0},\"title\":{\"text\":\"Customer Review - Cluster Distribution\"}},                        {\"responsive\": true}                    ).then(function(){\n",
              "                            \n",
              "var gd = document.getElementById('ba372e53-7f91-4bfc-8463-0c6ae243970c');\n",
              "var x = new MutationObserver(function (mutations, observer) {{\n",
              "        var display = window.getComputedStyle(gd).display;\n",
              "        if (!display || display === 'none') {{\n",
              "            console.log([gd, 'removed!']);\n",
              "            Plotly.purge(gd);\n",
              "            observer.disconnect();\n",
              "        }}\n",
              "}});\n",
              "\n",
              "// Listen for the removal of the full notebook cells\n",
              "var notebookContainer = gd.closest('#notebook-container');\n",
              "if (notebookContainer) {{\n",
              "    x.observe(notebookContainer, {childList: true});\n",
              "}}\n",
              "\n",
              "// Listen for the clearing of the current output cell\n",
              "var outputEl = gd.closest('.output');\n",
              "if (outputEl) {{\n",
              "    x.observe(outputEl, {childList: true});\n",
              "}}\n",
              "\n",
              "                        })                };                            </script>        </div>\n",
              "</body>\n",
              "</html>"
            ]
          },
          "metadata": {},
          "output_type": "display_data"
        }
      ],
      "source": [
        "# Get the word vector from the trained Word2Vec model\n",
        "selected_data = select_dataset(processed_dataset,\n",
        "                               selected_id,\n",
        "                               model_sentiment,\n",
        "                               sentiment=\"positive\")\n",
        "selected_data[\"w2v\"] = w2v_encoder.transform(selected_data[\"tokens\"])\n",
        "\n",
        "# Clustering\n",
        "clust = HDBSCANClustering(apply_pca=True)\n",
        "\n",
        "X = np.vstack(selected_data[\"w2v\"].values)\n",
        "selected_data[\"w2v_label\"] = clust.fit_transform(X)\n",
        "\n",
        "# Visualization\n",
        "visualize_cluster(selected_data, \"w2v\", \"w2v_label\")"
      ]
    },
    {
      "cell_type": "code",
      "execution_count": 146,
      "id": "MrZSvYsJiB4X",
      "metadata": {
        "colab": {
          "base_uri": "https://localhost:8080/",
          "height": 143
        },
        "executionInfo": {
          "elapsed": 5,
          "status": "ok",
          "timestamp": 1730878358845,
          "user": {
            "displayName": "",
            "userId": ""
          },
          "user_tz": -420
        },
        "id": "MrZSvYsJiB4X",
        "outputId": "9df2b717-dbbe-4d25-b19b-c1bb5b9a709b"
      },
      "outputs": [
        {
          "data": {
            "text/html": [
              "\n",
              "  <div id=\"df-5fb2b74f-65ab-4012-9450-fe9c681fb7d0\" class=\"colab-df-container\">\n",
              "    <div>\n",
              "<style scoped>\n",
              "    .dataframe tbody tr th:only-of-type {\n",
              "        vertical-align: middle;\n",
              "    }\n",
              "\n",
              "    .dataframe tbody tr th {\n",
              "        vertical-align: top;\n",
              "    }\n",
              "\n",
              "    .dataframe thead th {\n",
              "        text-align: right;\n",
              "    }\n",
              "</style>\n",
              "<table border=\"1\" class=\"dataframe\">\n",
              "  <thead>\n",
              "    <tr style=\"text-align: right;\">\n",
              "      <th></th>\n",
              "      <th>0</th>\n",
              "    </tr>\n",
              "  </thead>\n",
              "  <tbody>\n",
              "    <tr>\n",
              "      <th>silhouette_score</th>\n",
              "      <td>0.337746</td>\n",
              "    </tr>\n",
              "    <tr>\n",
              "      <th>davies_bouldin_score</th>\n",
              "      <td>1.635140</td>\n",
              "    </tr>\n",
              "    <tr>\n",
              "      <th>calinski_harabasz_score</th>\n",
              "      <td>17.123084</td>\n",
              "    </tr>\n",
              "  </tbody>\n",
              "</table>\n",
              "</div>\n",
              "    <div class=\"colab-df-buttons\">\n",
              "\n",
              "  <div class=\"colab-df-container\">\n",
              "    <button class=\"colab-df-convert\" onclick=\"convertToInteractive('df-5fb2b74f-65ab-4012-9450-fe9c681fb7d0')\"\n",
              "            title=\"Convert this dataframe to an interactive table.\"\n",
              "            style=\"display:none;\">\n",
              "\n",
              "  <svg xmlns=\"http://www.w3.org/2000/svg\" height=\"24px\" viewBox=\"0 -960 960 960\">\n",
              "    <path d=\"M120-120v-720h720v720H120Zm60-500h600v-160H180v160Zm220 220h160v-160H400v160Zm0 220h160v-160H400v160ZM180-400h160v-160H180v160Zm440 0h160v-160H620v160ZM180-180h160v-160H180v160Zm440 0h160v-160H620v160Z\"/>\n",
              "  </svg>\n",
              "    </button>\n",
              "\n",
              "  <style>\n",
              "    .colab-df-container {\n",
              "      display:flex;\n",
              "      gap: 12px;\n",
              "    }\n",
              "\n",
              "    .colab-df-convert {\n",
              "      background-color: #E8F0FE;\n",
              "      border: none;\n",
              "      border-radius: 50%;\n",
              "      cursor: pointer;\n",
              "      display: none;\n",
              "      fill: #1967D2;\n",
              "      height: 32px;\n",
              "      padding: 0 0 0 0;\n",
              "      width: 32px;\n",
              "    }\n",
              "\n",
              "    .colab-df-convert:hover {\n",
              "      background-color: #E2EBFA;\n",
              "      box-shadow: 0px 1px 2px rgba(60, 64, 67, 0.3), 0px 1px 3px 1px rgba(60, 64, 67, 0.15);\n",
              "      fill: #174EA6;\n",
              "    }\n",
              "\n",
              "    .colab-df-buttons div {\n",
              "      margin-bottom: 4px;\n",
              "    }\n",
              "\n",
              "    [theme=dark] .colab-df-convert {\n",
              "      background-color: #3B4455;\n",
              "      fill: #D2E3FC;\n",
              "    }\n",
              "\n",
              "    [theme=dark] .colab-df-convert:hover {\n",
              "      background-color: #434B5C;\n",
              "      box-shadow: 0px 1px 3px 1px rgba(0, 0, 0, 0.15);\n",
              "      filter: drop-shadow(0px 1px 2px rgba(0, 0, 0, 0.3));\n",
              "      fill: #FFFFFF;\n",
              "    }\n",
              "  </style>\n",
              "\n",
              "    <script>\n",
              "      const buttonEl =\n",
              "        document.querySelector('#df-5fb2b74f-65ab-4012-9450-fe9c681fb7d0 button.colab-df-convert');\n",
              "      buttonEl.style.display =\n",
              "        google.colab.kernel.accessAllowed ? 'block' : 'none';\n",
              "\n",
              "      async function convertToInteractive(key) {\n",
              "        const element = document.querySelector('#df-5fb2b74f-65ab-4012-9450-fe9c681fb7d0');\n",
              "        const dataTable =\n",
              "          await google.colab.kernel.invokeFunction('convertToInteractive',\n",
              "                                                    [key], {});\n",
              "        if (!dataTable) return;\n",
              "\n",
              "        const docLinkHtml = 'Like what you see? Visit the ' +\n",
              "          '<a target=\"_blank\" href=https://colab.research.google.com/notebooks/data_table.ipynb>data table notebook</a>'\n",
              "          + ' to learn more about interactive tables.';\n",
              "        element.innerHTML = '';\n",
              "        dataTable['output_type'] = 'display_data';\n",
              "        await google.colab.output.renderOutput(dataTable, element);\n",
              "        const docLink = document.createElement('div');\n",
              "        docLink.innerHTML = docLinkHtml;\n",
              "        element.appendChild(docLink);\n",
              "      }\n",
              "    </script>\n",
              "  </div>\n",
              "\n",
              "\n",
              "<div id=\"df-83acea07-19ef-474c-8241-72909fd063a5\">\n",
              "  <button class=\"colab-df-quickchart\" onclick=\"quickchart('df-83acea07-19ef-474c-8241-72909fd063a5')\"\n",
              "            title=\"Suggest charts\"\n",
              "            style=\"display:none;\">\n",
              "\n",
              "<svg xmlns=\"http://www.w3.org/2000/svg\" height=\"24px\"viewBox=\"0 0 24 24\"\n",
              "     width=\"24px\">\n",
              "    <g>\n",
              "        <path d=\"M19 3H5c-1.1 0-2 .9-2 2v14c0 1.1.9 2 2 2h14c1.1 0 2-.9 2-2V5c0-1.1-.9-2-2-2zM9 17H7v-7h2v7zm4 0h-2V7h2v10zm4 0h-2v-4h2v4z\"/>\n",
              "    </g>\n",
              "</svg>\n",
              "  </button>\n",
              "\n",
              "<style>\n",
              "  .colab-df-quickchart {\n",
              "      --bg-color: #E8F0FE;\n",
              "      --fill-color: #1967D2;\n",
              "      --hover-bg-color: #E2EBFA;\n",
              "      --hover-fill-color: #174EA6;\n",
              "      --disabled-fill-color: #AAA;\n",
              "      --disabled-bg-color: #DDD;\n",
              "  }\n",
              "\n",
              "  [theme=dark] .colab-df-quickchart {\n",
              "      --bg-color: #3B4455;\n",
              "      --fill-color: #D2E3FC;\n",
              "      --hover-bg-color: #434B5C;\n",
              "      --hover-fill-color: #FFFFFF;\n",
              "      --disabled-bg-color: #3B4455;\n",
              "      --disabled-fill-color: #666;\n",
              "  }\n",
              "\n",
              "  .colab-df-quickchart {\n",
              "    background-color: var(--bg-color);\n",
              "    border: none;\n",
              "    border-radius: 50%;\n",
              "    cursor: pointer;\n",
              "    display: none;\n",
              "    fill: var(--fill-color);\n",
              "    height: 32px;\n",
              "    padding: 0;\n",
              "    width: 32px;\n",
              "  }\n",
              "\n",
              "  .colab-df-quickchart:hover {\n",
              "    background-color: var(--hover-bg-color);\n",
              "    box-shadow: 0 1px 2px rgba(60, 64, 67, 0.3), 0 1px 3px 1px rgba(60, 64, 67, 0.15);\n",
              "    fill: var(--button-hover-fill-color);\n",
              "  }\n",
              "\n",
              "  .colab-df-quickchart-complete:disabled,\n",
              "  .colab-df-quickchart-complete:disabled:hover {\n",
              "    background-color: var(--disabled-bg-color);\n",
              "    fill: var(--disabled-fill-color);\n",
              "    box-shadow: none;\n",
              "  }\n",
              "\n",
              "  .colab-df-spinner {\n",
              "    border: 2px solid var(--fill-color);\n",
              "    border-color: transparent;\n",
              "    border-bottom-color: var(--fill-color);\n",
              "    animation:\n",
              "      spin 1s steps(1) infinite;\n",
              "  }\n",
              "\n",
              "  @keyframes spin {\n",
              "    0% {\n",
              "      border-color: transparent;\n",
              "      border-bottom-color: var(--fill-color);\n",
              "      border-left-color: var(--fill-color);\n",
              "    }\n",
              "    20% {\n",
              "      border-color: transparent;\n",
              "      border-left-color: var(--fill-color);\n",
              "      border-top-color: var(--fill-color);\n",
              "    }\n",
              "    30% {\n",
              "      border-color: transparent;\n",
              "      border-left-color: var(--fill-color);\n",
              "      border-top-color: var(--fill-color);\n",
              "      border-right-color: var(--fill-color);\n",
              "    }\n",
              "    40% {\n",
              "      border-color: transparent;\n",
              "      border-right-color: var(--fill-color);\n",
              "      border-top-color: var(--fill-color);\n",
              "    }\n",
              "    60% {\n",
              "      border-color: transparent;\n",
              "      border-right-color: var(--fill-color);\n",
              "    }\n",
              "    80% {\n",
              "      border-color: transparent;\n",
              "      border-right-color: var(--fill-color);\n",
              "      border-bottom-color: var(--fill-color);\n",
              "    }\n",
              "    90% {\n",
              "      border-color: transparent;\n",
              "      border-bottom-color: var(--fill-color);\n",
              "    }\n",
              "  }\n",
              "</style>\n",
              "\n",
              "  <script>\n",
              "    async function quickchart(key) {\n",
              "      const quickchartButtonEl =\n",
              "        document.querySelector('#' + key + ' button');\n",
              "      quickchartButtonEl.disabled = true;  // To prevent multiple clicks.\n",
              "      quickchartButtonEl.classList.add('colab-df-spinner');\n",
              "      try {\n",
              "        const charts = await google.colab.kernel.invokeFunction(\n",
              "            'suggestCharts', [key], {});\n",
              "      } catch (error) {\n",
              "        console.error('Error during call to suggestCharts:', error);\n",
              "      }\n",
              "      quickchartButtonEl.classList.remove('colab-df-spinner');\n",
              "      quickchartButtonEl.classList.add('colab-df-quickchart-complete');\n",
              "    }\n",
              "    (() => {\n",
              "      let quickchartButtonEl =\n",
              "        document.querySelector('#df-83acea07-19ef-474c-8241-72909fd063a5 button');\n",
              "      quickchartButtonEl.style.display =\n",
              "        google.colab.kernel.accessAllowed ? 'block' : 'none';\n",
              "    })();\n",
              "  </script>\n",
              "</div>\n",
              "    </div>\n",
              "  </div>\n"
            ],
            "text/plain": [
              "                                 0\n",
              "silhouette_score          0.337746\n",
              "davies_bouldin_score      1.635140\n",
              "calinski_harabasz_score  17.123084"
            ]
          },
          "execution_count": 146,
          "metadata": {},
          "output_type": "execute_result"
        }
      ],
      "source": [
        "evaluate_cluster(X, selected_data[\"w2v_label\"])"
      ]
    },
    {
      "cell_type": "markdown",
      "id": "7ETB5AQmP3eB",
      "metadata": {
        "id": "7ETB5AQmP3eB"
      },
      "source": [
        "# `SentenceTransformer` Model"
      ]
    },
    {
      "cell_type": "code",
      "execution_count": 149,
      "id": "DTt8QK3mZVlf",
      "metadata": {
        "executionInfo": {
          "elapsed": 441,
          "status": "ok",
          "timestamp": 1730878464731,
          "user": {
            "displayName": "",
            "userId": ""
          },
          "user_tz": -420
        },
        "id": "DTt8QK3mZVlf"
      },
      "outputs": [],
      "source": [
        "from sentence_transformers import SentenceTransformer"
      ]
    },
    {
      "cell_type": "markdown",
      "id": "kVpU8-D9P9Ee",
      "metadata": {
        "id": "kVpU8-D9P9Ee"
      },
      "source": [
        "## Clustering"
      ]
    },
    {
      "cell_type": "code",
      "execution_count": 150,
      "id": "6-kwcak9jDkh",
      "metadata": {
        "executionInfo": {
          "elapsed": 416,
          "status": "ok",
          "timestamp": 1730878467276,
          "user": {
            "displayName": "",
            "userId": ""
          },
          "user_tz": -420
        },
        "id": "6-kwcak9jDkh"
      },
      "outputs": [],
      "source": [
        "class LLMEncoder(BaseEstimator, TransformerMixin):\n",
        "\n",
        "    def __init__(self, model):\n",
        "        # Load the Transformer model\n",
        "        self.model = model\n",
        "\n",
        "    def fit(self, X, y=None):\n",
        "        return self\n",
        "\n",
        "    def transform(self, X):\n",
        "        \"\"\" Transform the data using the transformer model. \"\"\"\n",
        "\n",
        "        wv = X.apply(self.model.encode)\n",
        "        return wv"
      ]
    },
    {
      "cell_type": "code",
      "execution_count": null,
      "id": "bT26QRCfqcet",
      "metadata": {
        "id": "bT26QRCfqcet"
      },
      "outputs": [],
      "source": [
        "model_llm = SentenceTransformer(\"sentence-transformers/all-MiniLM-L6-v2\")"
      ]
    },
    {
      "cell_type": "code",
      "execution_count": 152,
      "id": "25CKWNwAVkO0",
      "metadata": {
        "executionInfo": {
          "elapsed": 444,
          "status": "ok",
          "timestamp": 1730878476980,
          "user": {
            "displayName": "",
            "userId": ""
          },
          "user_tz": -420
        },
        "id": "25CKWNwAVkO0"
      },
      "outputs": [],
      "source": [
        "llm_encoder = LLMEncoder(model_llm)"
      ]
    },
    {
      "cell_type": "code",
      "execution_count": 153,
      "id": "w31s4Pkgjq0n",
      "metadata": {
        "colab": {
          "base_uri": "https://localhost:8080/",
          "height": 559
        },
        "executionInfo": {
          "elapsed": 14995,
          "status": "ok",
          "timestamp": 1730878574260,
          "user": {
            "displayName": "",
            "userId": ""
          },
          "user_tz": -420
        },
        "id": "w31s4Pkgjq0n",
        "outputId": "9aa3e860-2393-41cd-9a52-f87a38ea7343"
      },
      "outputs": [
        {
          "name": "stdout",
          "output_type": "stream",
          "text": [
            "Explained variance: 1.000\n"
          ]
        },
        {
          "data": {
            "text/html": [
              "<html>\n",
              "<head><meta charset=\"utf-8\" /></head>\n",
              "<body>\n",
              "    <div>            <script src=\"https://cdnjs.cloudflare.com/ajax/libs/mathjax/2.7.5/MathJax.js?config=TeX-AMS-MML_SVG\"></script><script type=\"text/javascript\">if (window.MathJax && window.MathJax.Hub && window.MathJax.Hub.Config) {window.MathJax.Hub.Config({SVG: {font: \"STIX-Web\"}});}</script>                <script type=\"text/javascript\">window.PlotlyConfig = {MathJaxConfig: 'local'};</script>\n",
              "        <script charset=\"utf-8\" src=\"https://cdn.plot.ly/plotly-2.35.2.min.js\"></script>                <div id=\"32a88d4e-2a50-4d68-b266-9a7b6162b126\" class=\"plotly-graph-div\" style=\"height:525px; width:100%;\"></div>            <script type=\"text/javascript\">                                    window.PLOTLYENV=window.PLOTLYENV || {};                                    if (document.getElementById(\"32a88d4e-2a50-4d68-b266-9a7b6162b126\")) {                    Plotly.newPlot(                        \"32a88d4e-2a50-4d68-b266-9a7b6162b126\",                        [{\"customdata\":[[\"worth the hike down or having a 4x4 to drive down the spectacular road.\"],[\"the black sand beach stretches out with beautiful surf.\"],[\"plants are incredible of course.\"],[\"it was a must stop on our list of places to see.\"],[\"even just from the lookout at the top it is worth the pleasant drive out.\"],[\"beautiful lookout spot with picnic tables and lots of signs explaining the scenery.\"],[\"if you're a cat lover there are also tons of wild cats that live in the area, and they will even come to you!\"],[\"great hike down to the valley from the top.\"],[\"then we walked back and turned to the right, that 1\\u002f2 mile path took is to a nice black sand beach, water was rough, not much of a beach to swim but still nice.\"],[\"enjoy the beautiful wild horses.\"],[\"beautiful site.\"],[\"sharp hill for 4-wheel drive vehicles only but totally worth the hike down and up.\"],[\"great experience.\"],[\"and i am really glad i did.\"],[\"the view throughout the hike are stunning.\"],[\"one of my favorite hike during my trip to the island.\"],[\"definitely give it a try.\"],[\"beautiful view.\"],[\"we did see some cute feral kittens in the bushes off to the side though.\"],[\"this is a beautiful place with soft sands and horses.\"],[\"beautiful and secluded.\"],[\"one of my favorites on the hilo side.\"],[\"beautiful day in hawaii capturing this stunning view!  \"],[\"as you can see from my captured photos, the view did not disappoint\"],[\"amazing view.\"],[\"you can feel your legs next day :p\"],[\"the most beautiful scenic point i have ever seen.\"],[\"the lookout had a great view.\"],[\"we didnt hike all of it but the first stretchback..  there is a soft trail in the woods do not take the rocks on the beach to get to the trail.. definitely worth hiking to see the excellent view.\"],[\"also there are beautiful wild horses here.\"],[\"pretty amazing place... very powerful mana on the valley floor.\"],[\"amazing views, steep hike from the top of the mountain to the beach.  \"],[\"gorgeous spot.\"],[\"well worth the trip.\"],[\"beautiful lookout on a clear day.\"],[\"absolutely incredible!\"],[\"make sure you take the walk down the valley, where you\\u2019ll have the opportunity to reach the black sand beach and if you go into the valley you\\u2019ll be able to see some waterfalls!\"],[\"worth the drive.  \"],[\"best valley views in hawaii.\"],[\"great lookout, the walk to the beach below is intense.  \"],[\"stunning views!\"],[\"truly one of the most beautiful places in the world.\"],[\"an incredible view that is absolutely worth checking out.\"],[\"however this view and the scenery along the way is worth it...careful driving around the \\\"3 horse shoes\\\"\"],[\"lookout is great, but i'd recommend the step walk down and back up to the beautiful black sand beach below.\"],[\"very pretty.\"],[\"such a beautiful place make sure to drive down if you have a 4x4\"],[\"must visit on the big island!\"],[\"sights and a cute cat colony at the lookout!\"],[\"nice and beautiful lookout of the valley.\"],[\"great hike down to the waterfall and\\u002for black sand beach.\"],[\"but the views are worth the workout.\"],[\"beautiful views, bring plenty of water if walking down and up entire hill\"],[\"great views.\"],[\"mother nature continues to amaze!\"],[\"be ready for steep walk down to lookout but definitely worth it , has bathroom\"],[\"amazing views.\"],[\"spectacular views.\"],[\"really beautiful view.\"],[\"it\\u2019s a nice serene view, wish i made it to the bottom, but it was closed before 7 am.\"],[\"great view point.\"],[\"amazing but a really steep drive to the beach.  \"],[\"even if you don\\u2019t hike down bring some lunch and eat at the benches with the amazing view of the valley.\"],[\"i'm sure much better if you drive on in to the valley (4wd required).\"],[\"it is breathtaking view from atop.\"],[\"this is a \\\"dont miss\\\" spot on the big island...well worth the time\\u002fdrive...\"],[\"the scenic experience is top notch\"],[\"we fell in love with the big island and our stay at the waipi'o valley ridge house by the over look.  \"],[\"if you love the outdoors and nature this is so for you.\"],[\"it is so peaceful here on this side of the island.\"],[\"a must see and explore when on the big iland, is the ypo valley.\"],[\"but it's still majestic.\"],[\"it was a good day to hike to the valley.\"],[\"gorgeous sweeping views of the valley!\"],[\"stunning view.\"],[\"stunning views.\"],[\"natures beauty in full effect\"],[\"great time n view\"],[\"amazing view.\"],[\"such view!  \"],[\"absolutely beautiful place\"],[\"so beautiful!\"],[\"this is a must see photo stop.\"],[\"worth the short drive for the view.\"],[\"amazing view 10\\u002f10\"],[\"great view.\"],[\"beautiful, bring a 4wd if you want to go to the beach.\"],[\" it is a very beautiful viewpoint since from the highest part you can see the entire valley, elmar as well as a waterfall that rises from the top of the mountains is absolutely impressive, it is well worth seeing that beautiful scene that there is.\"],[\" you can go down to the 4-wheel drive to see the superb view, and the view from the top to the bottom is not bad.\"],[\"it would be nice to buy a lunch box and sit down on the lawn and chat with the cats.\"],[\" a really beautiful place please go.\"],[\" very nice place, i recommend checking the weather first before visiting.\"]],\"hovertemplate\":\"w2v_pca_x=%{x}\\u003cbr\\u003ew2v_pca_y=%{y}\\u003cbr\\u003eprocessed_text=%{customdata[0]}\\u003cbr\\u003ellm_label=%{marker.color}\\u003cextra\\u003e\\u003c\\u002fextra\\u003e\",\"legendgroup\":\"\",\"marker\":{\"color\":[4,4,0,-1,-1,4,5,4,4,5,2,4,-1,-1,4,-1,-1,2,-1,5,-1,-1,-1,-1,2,-1,1,4,4,5,-1,4,-1,-1,4,2,4,3,4,4,2,1,2,-1,4,2,4,4,4,4,4,3,-1,2,0,-1,2,2,2,-1,2,4,-1,4,-1,-1,-1,4,-1,-1,-1,-1,4,4,2,2,0,2,2,2,1,-1,-1,3,2,2,4,-1,-1,-1,1,1],\"coloraxis\":\"coloraxis\",\"symbol\":\"circle\"},\"mode\":\"markers\",\"name\":\"\",\"orientation\":\"v\",\"showlegend\":false,\"x\":[0.23027724027633667,0.22779376804828644,0.0411885529756546,0.039366789162158966,0.1628577709197998,0.19250935316085815,0.2571994662284851,0.33378416299819946,0.3306363821029663,0.06427472829818726,-0.3184940218925476,0.28828996419906616,-0.23171892762184143,-0.07548496872186661,0.007519931998103857,0.276585191488266,0.08861799538135529,-0.6362893581390381,0.08248639851808548,0.27674591541290283,0.12641480565071106,0.016595201566815376,0.052522722631692886,-0.3503612279891968,-0.6633392572402954,0.04250159487128258,0.1773524135351181,-0.010636675171554089,0.2968273460865021,0.1710081845521927,0.22386975586414337,0.1595589965581894,-0.06899659335613251,-0.005976245738565922,0.03449145331978798,-0.2610618472099304,0.3823266327381134,-0.021724402904510498,0.19033271074295044,0.30615144968032837,-0.4126729965209961,0.17071972787380219,-0.27336186170578003,0.04191110283136368,0.42300230264663696,-0.3179299831390381,0.24199673533439636,0.2549733519554138,0.11279149353504181,0.24034960567951202,0.378143310546875,-0.25831666588783264,0.16506892442703247,-0.5653936266899109,0.0309043750166893,0.2846434712409973,-0.5672527551651001,-0.39876073598861694,-0.6068243384361267,-0.014767348766326904,-0.5020706057548523,0.29846706986427307,0.2676478326320648,0.32653483748435974,-0.1851598620414734,0.26223471760749817,0.13246648013591766,0.2598840296268463,0.25214821100234985,0.2576688826084137,0.23903660476207733,0.02486918680369854,0.32918259501457214,0.12611767649650574,-0.5318305492401123,-0.49116235971450806,-0.033378079533576965,-0.3872247040271759,-0.6633391976356506,-0.49517950415611267,0.008564016781747341,-0.2488240748643875,-0.19158287346363068,-0.20462897419929504,-0.4511837661266327,-0.6171712875366211,0.273828387260437,0.04365263506770134,-0.17727124691009521,0.1591726392507553,0.285317987203598,0.26798591017723083],\"xaxis\":\"x\",\"y\":[-0.4594354033470154,0.006428814493119717,0.3331269323825836,0.038063134998083115,-0.3212072551250458,0.047394800931215286,0.32457587122917175,-0.054572589695453644,-0.12818332016468048,0.27206307649612427,0.28884607553482056,-0.36673107743263245,-0.0191056989133358,0.039899732917547226,-0.11296670883893967,0.04449869319796562,-0.11989086121320724,0.043863777071237564,0.1704031378030777,0.2879382073879242,0.2884082496166229,0.09224440902471542,0.15432235598564148,-0.22398222982883453,-0.008472776971757412,-0.0009061453165486455,0.0381685309112072,-0.1788548231124878,-0.3478430509567261,0.321212500333786,0.14990723133087158,-0.1289331614971161,0.2485072910785675,-0.1566934883594513,0.011417835019528866,0.2714749276638031,-0.09679406881332397,-0.3676936626434326,-0.0007051996071822941,-0.10313888639211655,0.11346927285194397,0.4053972065448761,-0.1782824695110321,-0.31556999683380127,-0.20236167311668396,0.21303866803646088,-0.12659719586372375,0.18718795478343964,0.1720121204853058,0.06639476865530014,-0.07031013071537018,-0.41630205512046814,-0.0792209804058075,-0.07753396034240723,0.2468932867050171,-0.20478051900863647,-0.021427500993013382,-0.036507926881313324,0.06925559788942337,0.05083930492401123,-0.19098134338855743,-0.14324340224266052,-0.07690807431936264,-0.420855313539505,-0.047820448875427246,-0.12375374138355255,-0.05228487029671669,0.20792019367218018,0.14725415408611298,0.30208975076675415,-0.050349004566669464,0.10728283226490021,-0.08136402070522308,0.12615235149860382,0.04615439474582672,0.032708823680877686,0.2802383005619049,-0.1047627404332161,-0.008472778834402561,-0.032184310257434845,0.39670029282569885,0.3489416241645813,0.05517800152301788,-0.5146952271461487,-0.03146035596728325,-0.09088978171348572,-0.29218173027038574,0.03242701664566994,-0.4941454529762268,0.17246076464653015,0.2912237048149109,0.13737130165100098],\"yaxis\":\"y\",\"type\":\"scatter\"}],                        {\"template\":{\"data\":{\"histogram2dcontour\":[{\"type\":\"histogram2dcontour\",\"colorbar\":{\"outlinewidth\":0,\"ticks\":\"\"},\"colorscale\":[[0.0,\"#0d0887\"],[0.1111111111111111,\"#46039f\"],[0.2222222222222222,\"#7201a8\"],[0.3333333333333333,\"#9c179e\"],[0.4444444444444444,\"#bd3786\"],[0.5555555555555556,\"#d8576b\"],[0.6666666666666666,\"#ed7953\"],[0.7777777777777778,\"#fb9f3a\"],[0.8888888888888888,\"#fdca26\"],[1.0,\"#f0f921\"]]}],\"choropleth\":[{\"type\":\"choropleth\",\"colorbar\":{\"outlinewidth\":0,\"ticks\":\"\"}}],\"histogram2d\":[{\"type\":\"histogram2d\",\"colorbar\":{\"outlinewidth\":0,\"ticks\":\"\"},\"colorscale\":[[0.0,\"#0d0887\"],[0.1111111111111111,\"#46039f\"],[0.2222222222222222,\"#7201a8\"],[0.3333333333333333,\"#9c179e\"],[0.4444444444444444,\"#bd3786\"],[0.5555555555555556,\"#d8576b\"],[0.6666666666666666,\"#ed7953\"],[0.7777777777777778,\"#fb9f3a\"],[0.8888888888888888,\"#fdca26\"],[1.0,\"#f0f921\"]]}],\"heatmap\":[{\"type\":\"heatmap\",\"colorbar\":{\"outlinewidth\":0,\"ticks\":\"\"},\"colorscale\":[[0.0,\"#0d0887\"],[0.1111111111111111,\"#46039f\"],[0.2222222222222222,\"#7201a8\"],[0.3333333333333333,\"#9c179e\"],[0.4444444444444444,\"#bd3786\"],[0.5555555555555556,\"#d8576b\"],[0.6666666666666666,\"#ed7953\"],[0.7777777777777778,\"#fb9f3a\"],[0.8888888888888888,\"#fdca26\"],[1.0,\"#f0f921\"]]}],\"heatmapgl\":[{\"type\":\"heatmapgl\",\"colorbar\":{\"outlinewidth\":0,\"ticks\":\"\"},\"colorscale\":[[0.0,\"#0d0887\"],[0.1111111111111111,\"#46039f\"],[0.2222222222222222,\"#7201a8\"],[0.3333333333333333,\"#9c179e\"],[0.4444444444444444,\"#bd3786\"],[0.5555555555555556,\"#d8576b\"],[0.6666666666666666,\"#ed7953\"],[0.7777777777777778,\"#fb9f3a\"],[0.8888888888888888,\"#fdca26\"],[1.0,\"#f0f921\"]]}],\"contourcarpet\":[{\"type\":\"contourcarpet\",\"colorbar\":{\"outlinewidth\":0,\"ticks\":\"\"}}],\"contour\":[{\"type\":\"contour\",\"colorbar\":{\"outlinewidth\":0,\"ticks\":\"\"},\"colorscale\":[[0.0,\"#0d0887\"],[0.1111111111111111,\"#46039f\"],[0.2222222222222222,\"#7201a8\"],[0.3333333333333333,\"#9c179e\"],[0.4444444444444444,\"#bd3786\"],[0.5555555555555556,\"#d8576b\"],[0.6666666666666666,\"#ed7953\"],[0.7777777777777778,\"#fb9f3a\"],[0.8888888888888888,\"#fdca26\"],[1.0,\"#f0f921\"]]}],\"surface\":[{\"type\":\"surface\",\"colorbar\":{\"outlinewidth\":0,\"ticks\":\"\"},\"colorscale\":[[0.0,\"#0d0887\"],[0.1111111111111111,\"#46039f\"],[0.2222222222222222,\"#7201a8\"],[0.3333333333333333,\"#9c179e\"],[0.4444444444444444,\"#bd3786\"],[0.5555555555555556,\"#d8576b\"],[0.6666666666666666,\"#ed7953\"],[0.7777777777777778,\"#fb9f3a\"],[0.8888888888888888,\"#fdca26\"],[1.0,\"#f0f921\"]]}],\"mesh3d\":[{\"type\":\"mesh3d\",\"colorbar\":{\"outlinewidth\":0,\"ticks\":\"\"}}],\"scatter\":[{\"fillpattern\":{\"fillmode\":\"overlay\",\"size\":10,\"solidity\":0.2},\"type\":\"scatter\"}],\"parcoords\":[{\"type\":\"parcoords\",\"line\":{\"colorbar\":{\"outlinewidth\":0,\"ticks\":\"\"}}}],\"scatterpolargl\":[{\"type\":\"scatterpolargl\",\"marker\":{\"colorbar\":{\"outlinewidth\":0,\"ticks\":\"\"}}}],\"bar\":[{\"error_x\":{\"color\":\"#2a3f5f\"},\"error_y\":{\"color\":\"#2a3f5f\"},\"marker\":{\"line\":{\"color\":\"#E5ECF6\",\"width\":0.5},\"pattern\":{\"fillmode\":\"overlay\",\"size\":10,\"solidity\":0.2}},\"type\":\"bar\"}],\"scattergeo\":[{\"type\":\"scattergeo\",\"marker\":{\"colorbar\":{\"outlinewidth\":0,\"ticks\":\"\"}}}],\"scatterpolar\":[{\"type\":\"scatterpolar\",\"marker\":{\"colorbar\":{\"outlinewidth\":0,\"ticks\":\"\"}}}],\"histogram\":[{\"marker\":{\"pattern\":{\"fillmode\":\"overlay\",\"size\":10,\"solidity\":0.2}},\"type\":\"histogram\"}],\"scattergl\":[{\"type\":\"scattergl\",\"marker\":{\"colorbar\":{\"outlinewidth\":0,\"ticks\":\"\"}}}],\"scatter3d\":[{\"type\":\"scatter3d\",\"line\":{\"colorbar\":{\"outlinewidth\":0,\"ticks\":\"\"}},\"marker\":{\"colorbar\":{\"outlinewidth\":0,\"ticks\":\"\"}}}],\"scattermapbox\":[{\"type\":\"scattermapbox\",\"marker\":{\"colorbar\":{\"outlinewidth\":0,\"ticks\":\"\"}}}],\"scatterternary\":[{\"type\":\"scatterternary\",\"marker\":{\"colorbar\":{\"outlinewidth\":0,\"ticks\":\"\"}}}],\"scattercarpet\":[{\"type\":\"scattercarpet\",\"marker\":{\"colorbar\":{\"outlinewidth\":0,\"ticks\":\"\"}}}],\"carpet\":[{\"aaxis\":{\"endlinecolor\":\"#2a3f5f\",\"gridcolor\":\"white\",\"linecolor\":\"white\",\"minorgridcolor\":\"white\",\"startlinecolor\":\"#2a3f5f\"},\"baxis\":{\"endlinecolor\":\"#2a3f5f\",\"gridcolor\":\"white\",\"linecolor\":\"white\",\"minorgridcolor\":\"white\",\"startlinecolor\":\"#2a3f5f\"},\"type\":\"carpet\"}],\"table\":[{\"cells\":{\"fill\":{\"color\":\"#EBF0F8\"},\"line\":{\"color\":\"white\"}},\"header\":{\"fill\":{\"color\":\"#C8D4E3\"},\"line\":{\"color\":\"white\"}},\"type\":\"table\"}],\"barpolar\":[{\"marker\":{\"line\":{\"color\":\"#E5ECF6\",\"width\":0.5},\"pattern\":{\"fillmode\":\"overlay\",\"size\":10,\"solidity\":0.2}},\"type\":\"barpolar\"}],\"pie\":[{\"automargin\":true,\"type\":\"pie\"}]},\"layout\":{\"autotypenumbers\":\"strict\",\"colorway\":[\"#636efa\",\"#EF553B\",\"#00cc96\",\"#ab63fa\",\"#FFA15A\",\"#19d3f3\",\"#FF6692\",\"#B6E880\",\"#FF97FF\",\"#FECB52\"],\"font\":{\"color\":\"#2a3f5f\"},\"hovermode\":\"closest\",\"hoverlabel\":{\"align\":\"left\"},\"paper_bgcolor\":\"white\",\"plot_bgcolor\":\"#E5ECF6\",\"polar\":{\"bgcolor\":\"#E5ECF6\",\"angularaxis\":{\"gridcolor\":\"white\",\"linecolor\":\"white\",\"ticks\":\"\"},\"radialaxis\":{\"gridcolor\":\"white\",\"linecolor\":\"white\",\"ticks\":\"\"}},\"ternary\":{\"bgcolor\":\"#E5ECF6\",\"aaxis\":{\"gridcolor\":\"white\",\"linecolor\":\"white\",\"ticks\":\"\"},\"baxis\":{\"gridcolor\":\"white\",\"linecolor\":\"white\",\"ticks\":\"\"},\"caxis\":{\"gridcolor\":\"white\",\"linecolor\":\"white\",\"ticks\":\"\"}},\"coloraxis\":{\"colorbar\":{\"outlinewidth\":0,\"ticks\":\"\"}},\"colorscale\":{\"sequential\":[[0.0,\"#0d0887\"],[0.1111111111111111,\"#46039f\"],[0.2222222222222222,\"#7201a8\"],[0.3333333333333333,\"#9c179e\"],[0.4444444444444444,\"#bd3786\"],[0.5555555555555556,\"#d8576b\"],[0.6666666666666666,\"#ed7953\"],[0.7777777777777778,\"#fb9f3a\"],[0.8888888888888888,\"#fdca26\"],[1.0,\"#f0f921\"]],\"sequentialminus\":[[0.0,\"#0d0887\"],[0.1111111111111111,\"#46039f\"],[0.2222222222222222,\"#7201a8\"],[0.3333333333333333,\"#9c179e\"],[0.4444444444444444,\"#bd3786\"],[0.5555555555555556,\"#d8576b\"],[0.6666666666666666,\"#ed7953\"],[0.7777777777777778,\"#fb9f3a\"],[0.8888888888888888,\"#fdca26\"],[1.0,\"#f0f921\"]],\"diverging\":[[0,\"#8e0152\"],[0.1,\"#c51b7d\"],[0.2,\"#de77ae\"],[0.3,\"#f1b6da\"],[0.4,\"#fde0ef\"],[0.5,\"#f7f7f7\"],[0.6,\"#e6f5d0\"],[0.7,\"#b8e186\"],[0.8,\"#7fbc41\"],[0.9,\"#4d9221\"],[1,\"#276419\"]]},\"xaxis\":{\"gridcolor\":\"white\",\"linecolor\":\"white\",\"ticks\":\"\",\"title\":{\"standoff\":15},\"zerolinecolor\":\"white\",\"automargin\":true,\"zerolinewidth\":2},\"yaxis\":{\"gridcolor\":\"white\",\"linecolor\":\"white\",\"ticks\":\"\",\"title\":{\"standoff\":15},\"zerolinecolor\":\"white\",\"automargin\":true,\"zerolinewidth\":2},\"scene\":{\"xaxis\":{\"backgroundcolor\":\"#E5ECF6\",\"gridcolor\":\"white\",\"linecolor\":\"white\",\"showbackground\":true,\"ticks\":\"\",\"zerolinecolor\":\"white\",\"gridwidth\":2},\"yaxis\":{\"backgroundcolor\":\"#E5ECF6\",\"gridcolor\":\"white\",\"linecolor\":\"white\",\"showbackground\":true,\"ticks\":\"\",\"zerolinecolor\":\"white\",\"gridwidth\":2},\"zaxis\":{\"backgroundcolor\":\"#E5ECF6\",\"gridcolor\":\"white\",\"linecolor\":\"white\",\"showbackground\":true,\"ticks\":\"\",\"zerolinecolor\":\"white\",\"gridwidth\":2}},\"shapedefaults\":{\"line\":{\"color\":\"#2a3f5f\"}},\"annotationdefaults\":{\"arrowcolor\":\"#2a3f5f\",\"arrowhead\":0,\"arrowwidth\":1},\"geo\":{\"bgcolor\":\"white\",\"landcolor\":\"#E5ECF6\",\"subunitcolor\":\"white\",\"showland\":true,\"showlakes\":true,\"lakecolor\":\"white\"},\"title\":{\"x\":0.05},\"mapbox\":{\"style\":\"light\"}}},\"xaxis\":{\"anchor\":\"y\",\"domain\":[0.0,1.0],\"title\":{\"text\":\"w2v_pca_x\"}},\"yaxis\":{\"anchor\":\"x\",\"domain\":[0.0,1.0],\"title\":{\"text\":\"w2v_pca_y\"}},\"coloraxis\":{\"colorbar\":{\"title\":{\"text\":\"llm_label\"}},\"colorscale\":[[0.0,\"#0d0887\"],[0.1111111111111111,\"#46039f\"],[0.2222222222222222,\"#7201a8\"],[0.3333333333333333,\"#9c179e\"],[0.4444444444444444,\"#bd3786\"],[0.5555555555555556,\"#d8576b\"],[0.6666666666666666,\"#ed7953\"],[0.7777777777777778,\"#fb9f3a\"],[0.8888888888888888,\"#fdca26\"],[1.0,\"#f0f921\"]]},\"legend\":{\"tracegroupgap\":0},\"title\":{\"text\":\"Customer Review - Cluster Distribution\"}},                        {\"responsive\": true}                    ).then(function(){\n",
              "                            \n",
              "var gd = document.getElementById('32a88d4e-2a50-4d68-b266-9a7b6162b126');\n",
              "var x = new MutationObserver(function (mutations, observer) {{\n",
              "        var display = window.getComputedStyle(gd).display;\n",
              "        if (!display || display === 'none') {{\n",
              "            console.log([gd, 'removed!']);\n",
              "            Plotly.purge(gd);\n",
              "            observer.disconnect();\n",
              "        }}\n",
              "}});\n",
              "\n",
              "// Listen for the removal of the full notebook cells\n",
              "var notebookContainer = gd.closest('#notebook-container');\n",
              "if (notebookContainer) {{\n",
              "    x.observe(notebookContainer, {childList: true});\n",
              "}}\n",
              "\n",
              "// Listen for the clearing of the current output cell\n",
              "var outputEl = gd.closest('.output');\n",
              "if (outputEl) {{\n",
              "    x.observe(outputEl, {childList: true});\n",
              "}}\n",
              "\n",
              "                        })                };                            </script>        </div>\n",
              "</body>\n",
              "</html>"
            ]
          },
          "metadata": {},
          "output_type": "display_data"
        }
      ],
      "source": [
        "selected_data = select_dataset(processed_dataset,\n",
        "                               selected_id,\n",
        "                               model_sentiment,\n",
        "                               sentiment=\"positive\")\n",
        "selected_data[\"llm\"] = llm_encoder.transform(selected_data[\"processed_text\"])\n",
        "\n",
        "# Clustering\n",
        "clust = HDBSCANClustering(apply_pca=True)\n",
        "\n",
        "X = np.vstack(selected_data[\"llm\"].values)\n",
        "selected_data[\"llm_label\"] = clust.fit_transform(X)\n",
        "\n",
        "# Visualization\n",
        "visualize_cluster(selected_data, \"llm\", \"llm_label\")"
      ]
    },
    {
      "cell_type": "code",
      "execution_count": 155,
      "id": "Yww8ziU1kqAe",
      "metadata": {
        "colab": {
          "base_uri": "https://localhost:8080/",
          "height": 143
        },
        "executionInfo": {
          "elapsed": 453,
          "status": "ok",
          "timestamp": 1730878601450,
          "user": {
            "displayName": "",
            "userId": ""
          },
          "user_tz": -420
        },
        "id": "Yww8ziU1kqAe",
        "outputId": "bd8b9441-ecde-4e6f-b0d1-04467853ea74"
      },
      "outputs": [
        {
          "data": {
            "text/html": [
              "\n",
              "  <div id=\"df-3a2e40e6-1f3a-4aa7-82f4-ddbbf7a38412\" class=\"colab-df-container\">\n",
              "    <div>\n",
              "<style scoped>\n",
              "    .dataframe tbody tr th:only-of-type {\n",
              "        vertical-align: middle;\n",
              "    }\n",
              "\n",
              "    .dataframe tbody tr th {\n",
              "        vertical-align: top;\n",
              "    }\n",
              "\n",
              "    .dataframe thead th {\n",
              "        text-align: right;\n",
              "    }\n",
              "</style>\n",
              "<table border=\"1\" class=\"dataframe\">\n",
              "  <thead>\n",
              "    <tr style=\"text-align: right;\">\n",
              "      <th></th>\n",
              "      <th>0</th>\n",
              "    </tr>\n",
              "  </thead>\n",
              "  <tbody>\n",
              "    <tr>\n",
              "      <th>silhouette_score</th>\n",
              "      <td>0.041643</td>\n",
              "    </tr>\n",
              "    <tr>\n",
              "      <th>davies_bouldin_score</th>\n",
              "      <td>2.857382</td>\n",
              "    </tr>\n",
              "    <tr>\n",
              "      <th>calinski_harabasz_score</th>\n",
              "      <td>4.004492</td>\n",
              "    </tr>\n",
              "  </tbody>\n",
              "</table>\n",
              "</div>\n",
              "    <div class=\"colab-df-buttons\">\n",
              "\n",
              "  <div class=\"colab-df-container\">\n",
              "    <button class=\"colab-df-convert\" onclick=\"convertToInteractive('df-3a2e40e6-1f3a-4aa7-82f4-ddbbf7a38412')\"\n",
              "            title=\"Convert this dataframe to an interactive table.\"\n",
              "            style=\"display:none;\">\n",
              "\n",
              "  <svg xmlns=\"http://www.w3.org/2000/svg\" height=\"24px\" viewBox=\"0 -960 960 960\">\n",
              "    <path d=\"M120-120v-720h720v720H120Zm60-500h600v-160H180v160Zm220 220h160v-160H400v160Zm0 220h160v-160H400v160ZM180-400h160v-160H180v160Zm440 0h160v-160H620v160ZM180-180h160v-160H180v160Zm440 0h160v-160H620v160Z\"/>\n",
              "  </svg>\n",
              "    </button>\n",
              "\n",
              "  <style>\n",
              "    .colab-df-container {\n",
              "      display:flex;\n",
              "      gap: 12px;\n",
              "    }\n",
              "\n",
              "    .colab-df-convert {\n",
              "      background-color: #E8F0FE;\n",
              "      border: none;\n",
              "      border-radius: 50%;\n",
              "      cursor: pointer;\n",
              "      display: none;\n",
              "      fill: #1967D2;\n",
              "      height: 32px;\n",
              "      padding: 0 0 0 0;\n",
              "      width: 32px;\n",
              "    }\n",
              "\n",
              "    .colab-df-convert:hover {\n",
              "      background-color: #E2EBFA;\n",
              "      box-shadow: 0px 1px 2px rgba(60, 64, 67, 0.3), 0px 1px 3px 1px rgba(60, 64, 67, 0.15);\n",
              "      fill: #174EA6;\n",
              "    }\n",
              "\n",
              "    .colab-df-buttons div {\n",
              "      margin-bottom: 4px;\n",
              "    }\n",
              "\n",
              "    [theme=dark] .colab-df-convert {\n",
              "      background-color: #3B4455;\n",
              "      fill: #D2E3FC;\n",
              "    }\n",
              "\n",
              "    [theme=dark] .colab-df-convert:hover {\n",
              "      background-color: #434B5C;\n",
              "      box-shadow: 0px 1px 3px 1px rgba(0, 0, 0, 0.15);\n",
              "      filter: drop-shadow(0px 1px 2px rgba(0, 0, 0, 0.3));\n",
              "      fill: #FFFFFF;\n",
              "    }\n",
              "  </style>\n",
              "\n",
              "    <script>\n",
              "      const buttonEl =\n",
              "        document.querySelector('#df-3a2e40e6-1f3a-4aa7-82f4-ddbbf7a38412 button.colab-df-convert');\n",
              "      buttonEl.style.display =\n",
              "        google.colab.kernel.accessAllowed ? 'block' : 'none';\n",
              "\n",
              "      async function convertToInteractive(key) {\n",
              "        const element = document.querySelector('#df-3a2e40e6-1f3a-4aa7-82f4-ddbbf7a38412');\n",
              "        const dataTable =\n",
              "          await google.colab.kernel.invokeFunction('convertToInteractive',\n",
              "                                                    [key], {});\n",
              "        if (!dataTable) return;\n",
              "\n",
              "        const docLinkHtml = 'Like what you see? Visit the ' +\n",
              "          '<a target=\"_blank\" href=https://colab.research.google.com/notebooks/data_table.ipynb>data table notebook</a>'\n",
              "          + ' to learn more about interactive tables.';\n",
              "        element.innerHTML = '';\n",
              "        dataTable['output_type'] = 'display_data';\n",
              "        await google.colab.output.renderOutput(dataTable, element);\n",
              "        const docLink = document.createElement('div');\n",
              "        docLink.innerHTML = docLinkHtml;\n",
              "        element.appendChild(docLink);\n",
              "      }\n",
              "    </script>\n",
              "  </div>\n",
              "\n",
              "\n",
              "<div id=\"df-f9370bda-b74e-4cce-9d43-d059d3f5d3f8\">\n",
              "  <button class=\"colab-df-quickchart\" onclick=\"quickchart('df-f9370bda-b74e-4cce-9d43-d059d3f5d3f8')\"\n",
              "            title=\"Suggest charts\"\n",
              "            style=\"display:none;\">\n",
              "\n",
              "<svg xmlns=\"http://www.w3.org/2000/svg\" height=\"24px\"viewBox=\"0 0 24 24\"\n",
              "     width=\"24px\">\n",
              "    <g>\n",
              "        <path d=\"M19 3H5c-1.1 0-2 .9-2 2v14c0 1.1.9 2 2 2h14c1.1 0 2-.9 2-2V5c0-1.1-.9-2-2-2zM9 17H7v-7h2v7zm4 0h-2V7h2v10zm4 0h-2v-4h2v4z\"/>\n",
              "    </g>\n",
              "</svg>\n",
              "  </button>\n",
              "\n",
              "<style>\n",
              "  .colab-df-quickchart {\n",
              "      --bg-color: #E8F0FE;\n",
              "      --fill-color: #1967D2;\n",
              "      --hover-bg-color: #E2EBFA;\n",
              "      --hover-fill-color: #174EA6;\n",
              "      --disabled-fill-color: #AAA;\n",
              "      --disabled-bg-color: #DDD;\n",
              "  }\n",
              "\n",
              "  [theme=dark] .colab-df-quickchart {\n",
              "      --bg-color: #3B4455;\n",
              "      --fill-color: #D2E3FC;\n",
              "      --hover-bg-color: #434B5C;\n",
              "      --hover-fill-color: #FFFFFF;\n",
              "      --disabled-bg-color: #3B4455;\n",
              "      --disabled-fill-color: #666;\n",
              "  }\n",
              "\n",
              "  .colab-df-quickchart {\n",
              "    background-color: var(--bg-color);\n",
              "    border: none;\n",
              "    border-radius: 50%;\n",
              "    cursor: pointer;\n",
              "    display: none;\n",
              "    fill: var(--fill-color);\n",
              "    height: 32px;\n",
              "    padding: 0;\n",
              "    width: 32px;\n",
              "  }\n",
              "\n",
              "  .colab-df-quickchart:hover {\n",
              "    background-color: var(--hover-bg-color);\n",
              "    box-shadow: 0 1px 2px rgba(60, 64, 67, 0.3), 0 1px 3px 1px rgba(60, 64, 67, 0.15);\n",
              "    fill: var(--button-hover-fill-color);\n",
              "  }\n",
              "\n",
              "  .colab-df-quickchart-complete:disabled,\n",
              "  .colab-df-quickchart-complete:disabled:hover {\n",
              "    background-color: var(--disabled-bg-color);\n",
              "    fill: var(--disabled-fill-color);\n",
              "    box-shadow: none;\n",
              "  }\n",
              "\n",
              "  .colab-df-spinner {\n",
              "    border: 2px solid var(--fill-color);\n",
              "    border-color: transparent;\n",
              "    border-bottom-color: var(--fill-color);\n",
              "    animation:\n",
              "      spin 1s steps(1) infinite;\n",
              "  }\n",
              "\n",
              "  @keyframes spin {\n",
              "    0% {\n",
              "      border-color: transparent;\n",
              "      border-bottom-color: var(--fill-color);\n",
              "      border-left-color: var(--fill-color);\n",
              "    }\n",
              "    20% {\n",
              "      border-color: transparent;\n",
              "      border-left-color: var(--fill-color);\n",
              "      border-top-color: var(--fill-color);\n",
              "    }\n",
              "    30% {\n",
              "      border-color: transparent;\n",
              "      border-left-color: var(--fill-color);\n",
              "      border-top-color: var(--fill-color);\n",
              "      border-right-color: var(--fill-color);\n",
              "    }\n",
              "    40% {\n",
              "      border-color: transparent;\n",
              "      border-right-color: var(--fill-color);\n",
              "      border-top-color: var(--fill-color);\n",
              "    }\n",
              "    60% {\n",
              "      border-color: transparent;\n",
              "      border-right-color: var(--fill-color);\n",
              "    }\n",
              "    80% {\n",
              "      border-color: transparent;\n",
              "      border-right-color: var(--fill-color);\n",
              "      border-bottom-color: var(--fill-color);\n",
              "    }\n",
              "    90% {\n",
              "      border-color: transparent;\n",
              "      border-bottom-color: var(--fill-color);\n",
              "    }\n",
              "  }\n",
              "</style>\n",
              "\n",
              "  <script>\n",
              "    async function quickchart(key) {\n",
              "      const quickchartButtonEl =\n",
              "        document.querySelector('#' + key + ' button');\n",
              "      quickchartButtonEl.disabled = true;  // To prevent multiple clicks.\n",
              "      quickchartButtonEl.classList.add('colab-df-spinner');\n",
              "      try {\n",
              "        const charts = await google.colab.kernel.invokeFunction(\n",
              "            'suggestCharts', [key], {});\n",
              "      } catch (error) {\n",
              "        console.error('Error during call to suggestCharts:', error);\n",
              "      }\n",
              "      quickchartButtonEl.classList.remove('colab-df-spinner');\n",
              "      quickchartButtonEl.classList.add('colab-df-quickchart-complete');\n",
              "    }\n",
              "    (() => {\n",
              "      let quickchartButtonEl =\n",
              "        document.querySelector('#df-f9370bda-b74e-4cce-9d43-d059d3f5d3f8 button');\n",
              "      quickchartButtonEl.style.display =\n",
              "        google.colab.kernel.accessAllowed ? 'block' : 'none';\n",
              "    })();\n",
              "  </script>\n",
              "</div>\n",
              "    </div>\n",
              "  </div>\n"
            ],
            "text/plain": [
              "                                0\n",
              "silhouette_score         0.041643\n",
              "davies_bouldin_score     2.857382\n",
              "calinski_harabasz_score  4.004492"
            ]
          },
          "execution_count": 155,
          "metadata": {},
          "output_type": "execute_result"
        }
      ],
      "source": [
        "evaluate_cluster(X, selected_data[\"llm_label\"])"
      ]
    },
    {
      "cell_type": "markdown",
      "id": "uM3o4EnNTtfH",
      "metadata": {
        "id": "uM3o4EnNTtfH"
      },
      "source": [
        "# Concatenated Word Vectors"
      ]
    },
    {
      "cell_type": "markdown",
      "id": "Dhw7N0oiWWaJ",
      "metadata": {
        "id": "Dhw7N0oiWWaJ"
      },
      "source": [
        "In this section, we *concatenate* the Word2Vec embedding with the one generated by `SentenceTransformers`.\n",
        "\n",
        "We also train an autoencoder model to reduce the dimensionality of our combined embeddings, as in theory it can effectively handles complex, non-linear relationships that traditional linear methods like PCA may not fully capture.\n",
        "\n",
        "Before training the autoencoder, we apply PCA to determine the optimal dimensionality required to retain sufficient information from the embeddings."
      ]
    },
    {
      "cell_type": "markdown",
      "id": "wKUEF5WWvjuU",
      "metadata": {
        "id": "wKUEF5WWvjuU"
      },
      "source": [
        "## Determine the size of the latent vars"
      ]
    },
    {
      "cell_type": "markdown",
      "id": "cTMFHnVcyLx1",
      "metadata": {
        "id": "cTMFHnVcyLx1"
      },
      "source": [
        "We estimate the size of the latent variables using PCA.\n",
        "\n",
        "However, due to the size of our dataset, we only use a fraction of it for this analysis. We tested PCA with several fractions of the dataset and found that a 100-dimensions vector is sufficient to capture 98% of the total variance."
      ]
    },
    {
      "cell_type": "code",
      "execution_count": null,
      "id": "EhKYUAGo0wgM",
      "metadata": {
        "id": "EhKYUAGo0wgM"
      },
      "outputs": [],
      "source": [
        "processed_dataset[\"mix\"] = processed_dataset[[\"w2v\", \"llm\"]].apply(lambda x: np.hstack(x.values),\n",
        "                                                                   axis=1)"
      ]
    },
    {
      "cell_type": "code",
      "execution_count": null,
      "id": "VG5mNz3vhd3C",
      "metadata": {
        "id": "VG5mNz3vhd3C"
      },
      "outputs": [],
      "source": [
        "cumulative_vars = {}\n",
        "for f in [.1, .3]:\n",
        "    X = np.vstack(processed_dataset[\"mix\"].values)\n",
        "\n",
        "    pca = PCA()\n",
        "    pca.fit(X)\n",
        "    cumulative_vars[f] = np.cumsum(pca.explained_variance_ratio_)"
      ]
    },
    {
      "cell_type": "markdown",
      "id": "9NzBapglomGx",
      "metadata": {
        "id": "9NzBapglomGx"
      },
      "source": [
        " Here, we apply PCA to estimate the dimensionality of the latent variable."
      ]
    },
    {
      "cell_type": "code",
      "execution_count": null,
      "id": "nBsvMvjEmLKf",
      "metadata": {
        "id": "nBsvMvjEmLKf"
      },
      "outputs": [],
      "source": [
        "# plot the cummulative variance with different dataset sizes\n",
        "colors = [\"D76C82\", \"7ED4AD\"]\n",
        "\n",
        "cumulative_vars_df = pd.DataFrame(cumulative_vars)\n",
        "cumulative_vars_df.plot(color=colors)\n",
        "plt.xlim(0, 100)\n",
        "\n",
        "threshold = 0.98\n",
        "least_n = cumulative_vars_df.apply(lambda x: np.argmax(x >= threshold) + 1)\n",
        "for idx, n in enumerate(least_n):\n",
        "    plt.axvline(x=n, linestyle='--', color=colors[idx], label=n)"
      ]
    },
    {
      "cell_type": "markdown",
      "id": "-x1XmwPBvrx8",
      "metadata": {
        "id": "-x1XmwPBvrx8"
      },
      "source": [
        "We can see from the plot above that the number to get at least 95% variance from the original data need around 80 dimension.\n",
        "\n",
        "With this information, we will train autoencoder accordingly."
      ]
    },
    {
      "cell_type": "code",
      "execution_count": null,
      "id": "yhafjLRNDBoZ",
      "metadata": {
        "id": "yhafjLRNDBoZ"
      },
      "outputs": [],
      "source": [
        "# class PCAEncoder(BaseEstimator, TransformerMixin):\n",
        "#     def __init__(self, n):\n",
        "#         self.pca = PCA(n_components=n)\n",
        "\n",
        "#     def fit(self, X, y=None):\n",
        "#         return self\n",
        "\n",
        "#     def transform(self, X):\n",
        "#         encoded = self.pca.fit_transform(batch)\n",
        "\n",
        "#         return encoded"
      ]
    },
    {
      "cell_type": "markdown",
      "id": "6RpilVfXmZya",
      "metadata": {
        "id": "6RpilVfXmZya"
      },
      "source": [
        "## Dataset preparation"
      ]
    },
    {
      "cell_type": "code",
      "execution_count": null,
      "id": "_Til0qd-W3K0",
      "metadata": {
        "colab": {
          "base_uri": "https://localhost:8080/"
        },
        "executionInfo": {
          "elapsed": 23373,
          "status": "ok",
          "timestamp": 1730787969250,
          "user": {
            "displayName": "",
            "userId": ""
          },
          "user_tz": -420
        },
        "id": "_Til0qd-W3K0",
        "outputId": "18808353-5bb2-48e2-ed1c-e88212366221"
      },
      "outputs": [
        {
          "name": "stderr",
          "output_type": "stream",
          "text": [
            "/usr/local/lib/python3.10/dist-packages/sentence_transformers/cross_encoder/CrossEncoder.py:13: TqdmExperimentalWarning: Using `tqdm.autonotebook.tqdm` in notebook mode. Use `tqdm.tqdm` instead to force console mode (e.g. in jupyter console)\n",
            "  from tqdm.autonotebook import tqdm, trange\n"
          ]
        }
      ],
      "source": [
        "from sklearn.decomposition import PCA\n",
        "from torch.utils.data import Dataset, DataLoader\n",
        "from tqdm import tqdm\n",
        "\n",
        "import torch\n",
        "import torch.nn as nn\n",
        "import torch.optim as optim"
      ]
    },
    {
      "cell_type": "code",
      "execution_count": null,
      "id": "TuTcyOYjT2nl",
      "metadata": {
        "colab": {
          "base_uri": "https://localhost:8080/"
        },
        "executionInfo": {
          "elapsed": 1325,
          "status": "ok",
          "timestamp": 1730728824670,
          "user": {
            "displayName": "",
            "userId": ""
          },
          "user_tz": -420
        },
        "id": "TuTcyOYjT2nl",
        "outputId": "012a70c5-dd3e-4d2c-9ab1-bd62abf1009b"
      },
      "outputs": [
        {
          "name": "stderr",
          "output_type": "stream",
          "text": [
            "/usr/local/lib/python3.10/dist-packages/transformers/tokenization_utils_base.py:1601: FutureWarning: `clean_up_tokenization_spaces` was not set. It will be set to `True` by default. This behavior will be depracted in transformers v4.45, and will be then set to `False` by default. For more details check this issue: https://github.com/huggingface/transformers/issues/31884\n",
            "  warnings.warn(\n"
          ]
        }
      ],
      "source": []
    },
    {
      "cell_type": "code",
      "execution_count": null,
      "id": "q6LxzXz4bpkl",
      "metadata": {
        "id": "q6LxzXz4bpkl"
      },
      "outputs": [],
      "source": [
        "# Turn the DataFrame to Pytorch Dataset\n",
        "\n",
        "class AutoEncoderDataset(Dataset):\n",
        "    def __init__(self, dataset, source=\"mix\"):\n",
        "        self.data = dataset\n",
        "\n",
        "        assert source in [\"w2v\", \"llm\", \"mix\"]\n",
        "        self.source = source\n",
        "\n",
        "    def get_feature_dim(self):\n",
        "        \"\"\" Return the feature (word vector) dimension \"\"\"\n",
        "\n",
        "        return len(self.__getitem__(0))\n",
        "\n",
        "    def __len__(self):\n",
        "        \"\"\" Return the length of the dataset \"\"\"\n",
        "\n",
        "        return len(self.data)\n",
        "\n",
        "    def __getitem__(self, idx):\n",
        "        \"\"\" Return row data \"\"\"\n",
        "\n",
        "        data = self.data.iloc[idx, :]\n",
        "\n",
        "        # Return the dataset according to wordvecs' source\n",
        "        return torch.tensor(data[self.source], dtype=torch.float32)"
      ]
    },
    {
      "cell_type": "code",
      "execution_count": null,
      "id": "CiU5AMMdi-a5",
      "metadata": {
        "id": "CiU5AMMdi-a5"
      },
      "outputs": [],
      "source": [
        "dataset_ae = AutoEncoderDataset(processed_dataset, source=\"mix\")"
      ]
    },
    {
      "cell_type": "markdown",
      "id": "c3etzk3Lwkwq",
      "metadata": {
        "id": "c3etzk3Lwkwq"
      },
      "source": [
        "## Autoencoder training"
      ]
    },
    {
      "cell_type": "code",
      "execution_count": null,
      "id": "fOgbtMPOXbuz",
      "metadata": {
        "id": "fOgbtMPOXbuz"
      },
      "outputs": [],
      "source": [
        "class Autoencoder(BaseEstimator, TransformerMixin, nn.Module):\n",
        "    def __init__(self, input_dim, hidden_dim, latent_dim,\n",
        "                 lr=1e-4, epochs=1, batch_size=256):\n",
        "\n",
        "        super().__init__()\n",
        "        self.input_dim = input_dim\n",
        "        self.hidden_dim = hidden_dim\n",
        "        self.latent_dim = latent_dim\n",
        "        self.lr = lr\n",
        "        self.epochs = epochs\n",
        "        self.batch_size = batch_size\n",
        "\n",
        "        # Encoder\n",
        "        self.encoder = nn.Sequential(\n",
        "            nn.Linear(input_dim, hidden_dim),\n",
        "            nn.LeakyReLU(),\n",
        "            nn.Linear(hidden_dim, latent_dim)\n",
        "        )\n",
        "\n",
        "        # Decoder\n",
        "        self.decoder = nn.Sequential(\n",
        "            nn.Linear(latent_dim, hidden_dim),\n",
        "            nn.LeakyReLU(),\n",
        "            nn.Linear(hidden_dim, input_dim),\n",
        "            nn.Sigmoid()  # Output range [0,1]\n",
        "        )\n",
        "\n",
        "    def forward(self, X):\n",
        "        encoded = self.encoder(X)\n",
        "        decoded = self.decoder(encoded)\n",
        "        return decoded\n",
        "\n",
        "    def encode(self, X):\n",
        "        return self.encoder(X)\n",
        "\n",
        "    def fit(self, X):\n",
        "        dataloader = DataLoader(X, batch_size=self.batch_size, shuffle=True)\n",
        "\n",
        "        # Define optimizer and loss function\n",
        "        criterion = nn.MSELoss()\n",
        "        optimizer = optim.Adam(self.parameters(), lr=self.lr)\n",
        "\n",
        "        # Training loop\n",
        "        self.train()\n",
        "        for epoch in range(self.epochs):\n",
        "            losses = 0\n",
        "            with tqdm(total=len(dataloader),\n",
        "                      desc=f\"Epoch {epoch + 1}\", unit=\"batch\") as pbar:\n",
        "\n",
        "                for X_batch in dataloader:\n",
        "                    # Forward pass\n",
        "                    reconstructed_X = self.forward(X_batch)\n",
        "                    loss = criterion(reconstructed_X, X_batch)\n",
        "\n",
        "                    # Backward pass and optimize\n",
        "                    optimizer.zero_grad()\n",
        "                    loss.backward()\n",
        "                    optimizer.step()\n",
        "\n",
        "                    losses += loss.item()\n",
        "\n",
        "                    pbar.set_postfix({'Loss': loss.item()})\n",
        "                    pbar.update(1)\n",
        "\n",
        "                print(f\"Epoch {epoch + 1}/{self.epochs}, Loss: {(losses/len(dataloader)):.3f}\")\n",
        "\n",
        "        return self\n",
        "\n",
        "    def transform(self, X):\n",
        "        # Switch to evaluation mode and encode\n",
        "        self.eval()\n",
        "\n",
        "        dataloader = DataLoader(X, batch_size=self.batch_size, shuffle=False)\n",
        "\n",
        "        encoded = []\n",
        "        for X_batch in dataloader:\n",
        "            with torch.no_grad():\n",
        "                encoded.append(self.encode(X_batch).cpu().numpy())\n",
        "\n",
        "        return np.vstack(encoded)"
      ]
    },
    {
      "cell_type": "code",
      "execution_count": null,
      "id": "DBtPZxsCgPD4",
      "metadata": {
        "id": "DBtPZxsCgPD4"
      },
      "outputs": [],
      "source": [
        "# Define the hyperparameters for autoencoder training\n",
        "ae_hyperparams = {\n",
        "    \"input_dim\": dataset_ae.get_feature_dim(),\n",
        "    \"hidden_dim\": 1024,\n",
        "    \"latent_dim\": 100,\n",
        "    \"lr\": 1e-4,\n",
        "    \"epochs\": 1,\n",
        "    \"batch_size\": 256\n",
        "}"
      ]
    },
    {
      "cell_type": "code",
      "execution_count": null,
      "id": "7YfwmHhs8BaM",
      "metadata": {
        "id": "7YfwmHhs8BaM"
      },
      "outputs": [],
      "source": [
        "# Train autoencoder\n",
        "model_ae = Autoencoder(**ae_hyperparams)\n",
        "wv_ae = model_ae.fit_transform(dataset_ae)"
      ]
    },
    {
      "cell_type": "code",
      "execution_count": null,
      "id": "ZL7lludoCeFZ",
      "metadata": {
        "id": "ZL7lludoCeFZ"
      },
      "outputs": [],
      "source": [
        "# Save model to GCS for future access\n",
        "# timestamp = datetime.now().strftime(\"%d%m%H\")\n",
        "\n",
        "# torch.save(model_ae.state_dict(), f\"autoencoder-{timestamp}\")"
      ]
    },
    {
      "cell_type": "code",
      "execution_count": null,
      "id": "ASp38KruoKC-",
      "metadata": {
        "colab": {
          "base_uri": "https://localhost:8080/"
        },
        "executionInfo": {
          "elapsed": 5,
          "status": "ok",
          "timestamp": 1730719925669,
          "user": {
            "displayName": "",
            "userId": ""
          },
          "user_tz": -420
        },
        "id": "ASp38KruoKC-",
        "outputId": "61dec8f5-2fa4-4656-f3d9-2fdd255e7411"
      },
      "outputs": [
        {
          "name": "stdout",
          "output_type": "stream",
          "text": [
            "autoencoder-041111  word2vec_amazon_reviews-041109\n"
          ]
        }
      ],
      "source": [
        "# !gsutil cp \"autoencoder\"* \"gs://customer_review_hawaii/models/\"\n",
        "# !rm \"autoencoder\"*"
      ]
    },
    {
      "cell_type": "markdown",
      "id": "upM1C65tRCN4",
      "metadata": {
        "id": "upM1C65tRCN4"
      },
      "source": [
        "## Clustering"
      ]
    },
    {
      "cell_type": "code",
      "execution_count": null,
      "id": "NWjauOke_Peo",
      "metadata": {
        "id": "NWjauOke_Peo"
      },
      "outputs": [],
      "source": [
        "# Start clustering\n",
        "clustering = HDBSCANClustering()"
      ]
    },
    {
      "cell_type": "code",
      "execution_count": null,
      "id": "0PPuUP1z_Rg2",
      "metadata": {
        "id": "0PPuUP1z_Rg2"
      },
      "outputs": [],
      "source": [
        "# Only select a certain location\n",
        "selected_data = processed_dataset[\n",
        "                        (processed_dataset[\"business_id\"] == selected_id) &\n",
        "                        (processed_dataset[\"time\"] >= timestamp_limit)\n",
        "                ]\n",
        "len(selected_data)"
      ]
    },
    {
      "cell_type": "code",
      "execution_count": null,
      "id": "-M43JdN7_V1k",
      "metadata": {
        "id": "-M43JdN7_V1k"
      },
      "outputs": [],
      "source": [
        "X = np.vstack(selected_data[\"w2v\"].values)\n",
        "selected_data[\"w2v_cluster\"] = clustering.fit_transform(X)"
      ]
    },
    {
      "cell_type": "code",
      "execution_count": null,
      "id": "FGyLVkWP_XCY",
      "metadata": {
        "id": "FGyLVkWP_XCY"
      },
      "outputs": [],
      "source": [
        "evaluate_cluster(X, selected_data[\"w2v_cluster\"])"
      ]
    },
    {
      "cell_type": "code",
      "execution_count": null,
      "id": "DbG2A0f2_ZHh",
      "metadata": {
        "id": "DbG2A0f2_ZHh"
      },
      "outputs": [],
      "source": [
        "visualize_cluster(X, selected_data[\"w2v_cluster\"])"
      ]
    },
    {
      "cell_type": "markdown",
      "id": "SN94fev9FOZM",
      "metadata": {
        "id": "SN94fev9FOZM"
      },
      "source": [
        "## Cluster labeling"
      ]
    },
    {
      "cell_type": "code",
      "execution_count": null,
      "id": "g1kVh8YjQb77",
      "metadata": {
        "id": "g1kVh8YjQb77"
      },
      "outputs": [],
      "source": [
        "# import openai\n",
        "\n",
        "# def get_cluster_name(text_samples):\n",
        "#     prompt = f\"\"\"\n",
        "#         You are an expert in giving a descriptive topic to a given list of sentences.\n",
        "#         The sentences may have different topics, so choose one that is the most commonly shared.\n",
        "#         Please return the topic as consice as possible, maximum in 3 words.\n",
        "#         Please also avoid a vague topic.\n",
        "\n",
        "#         There are 5 sentences as the input.\n",
        "#         The content of the sentences is limited to customer reviews for a tourist attraction.\n",
        "#         So, please only choose the topic according to possible aspects in this business.\n",
        "\n",
        "#         Here is an example with just 3 setences:\n",
        "\n",
        "#         INPUT\n",
        "#         'Gorgeous place to visit, it can get crowded on holidays.'\n",
        "#         'Great hike and beautiful views.'\n",
        "#         'Awesome view.'\n",
        "#         ENDINPUT\n",
        "\n",
        "#         LABEL 'Scenic view'\n",
        "\n",
        "#         So here is the sentences:\n",
        "#         INPUT\n",
        "#         {'\\n'.join(text_samples)}\n",
        "#         ENDINPUT\n",
        "\n",
        "#         LABEL ...\n",
        "#     \"\"\"\n",
        "#     response = openai.ChatCompletion.create(\n",
        "#         model=\"gpt-3.5-turbo\",\n",
        "#         messages=[{\"role\": \"user\", \"content\": prompt}]\n",
        "#     )\n",
        "#     return response.choices[0].message['content'].strip()"
      ]
    },
    {
      "cell_type": "markdown",
      "id": "qvi1RqzhX085",
      "metadata": {
        "id": "qvi1RqzhX085"
      },
      "source": [
        "TODO\n",
        "- review clustering methods with one core example on each method\n",
        "- make sure the statistics are the same (wv and transformer)\n",
        "\n",
        "TODO:\n",
        "- (opt) ask for cluster fixing from OpenAI"
      ]
    },
    {
      "cell_type": "code",
      "execution_count": null,
      "id": "dpS8aY1BYB6E",
      "metadata": {
        "id": "dpS8aY1BYB6E"
      },
      "outputs": [],
      "source": []
    }
  ],
  "metadata": {
    "colab": {
      "name": "user-review-topic-clustering",
      "provenance": []
    },
    "kernelspec": {
      "display_name": "Python 3",
      "language": "python",
      "name": "python3"
    },
    "language_info": {
      "codemirror_mode": {
        "name": "ipython",
        "version": 3
      },
      "file_extension": ".py",
      "mimetype": "text/x-python",
      "name": "python",
      "nbconvert_exporter": "python",
      "pygments_lexer": "ipython3",
      "version": "3.10.10"
    }
  },
  "nbformat": 4,
  "nbformat_minor": 5
}
