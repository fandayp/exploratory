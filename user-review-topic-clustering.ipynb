{
  "cells": [
    {
      "cell_type": "markdown",
      "source": [
        "# Introduction"
      ],
      "metadata": {
        "id": "FjIPfO44_AqU"
      },
      "id": "FjIPfO44_AqU"
    },
    {
      "cell_type": "markdown",
      "source": [
        "As a business owner, customer reviews can be a valuable source of insight. Imagine being able to gradually monitor areas for improvement that increase customer satisfaction and highlight the best parts of the business for effective branding.\n",
        "\n",
        "This project aims to segment user reviews into several topics for easier analysis.\n",
        "\n",
        "The key components of our project include:\n",
        "- **Review clustering**: to segment customer reviews into distinct clusters by representing the reviews as word embedding (pre-trained LLM + self-train model),\n",
        "- **Sentiment analysis**: to classify the sentiment of a review as positive or negative,\n",
        "- **Topic labeling**: to label review topics within each cluster using a large language model (LLM).\n"
      ],
      "metadata": {
        "id": "_tP_lpdgl-Dy"
      },
      "id": "_tP_lpdgl-Dy"
    },
    {
      "cell_type": "markdown",
      "source": [
        "## Dataset Introduction"
      ],
      "metadata": {
        "id": "dX0D25xviE8t"
      },
      "id": "dX0D25xviE8t"
    },
    {
      "cell_type": "markdown",
      "source": [
        "Originally, the dataset contains millions of business reviews from across the United States up to 2021. However, for the sake of simplicity and due to limited resources for this project, we focus exclusively on one state and one business type: resturants in Hawaii.\n",
        "\n",
        "In the end, we settle on approximately 260k reviews covering about 1200 restaurants.\n",
        "\n",
        "TODO:\n",
        "- autoencoder for dimension reduction.\n",
        "- only covers until last 6-month reviews during cluster prediction."
      ],
      "metadata": {
        "id": "wSygl3nUiHQs"
      },
      "id": "wSygl3nUiHQs"
    },
    {
      "cell_type": "code",
      "source": [
        "!pip install google-cloud-storage\n",
        "!pip install en_core_web_sm\n",
        "!pip install langdetect\n",
        "!pip install -q transformers\n",
        "!pip install sentence-transformers"
      ],
      "metadata": {
        "id": "t_emiPNMX52l"
      },
      "id": "t_emiPNMX52l",
      "execution_count": null,
      "outputs": []
    },
    {
      "cell_type": "code",
      "source": [
        "from google.cloud import storage\n",
        "from datetime import datetime\n",
        "\n",
        "import pandas as pd\n",
        "import numpy as np\n",
        "import io"
      ],
      "metadata": {
        "id": "IodBe-ogXqee",
        "executionInfo": {
          "status": "ok",
          "timestamp": 1730466677953,
          "user_tz": -420,
          "elapsed": 2,
          "user": {
            "displayName": "",
            "userId": ""
          }
        }
      },
      "id": "IodBe-ogXqee",
      "execution_count": 155,
      "outputs": []
    },
    {
      "cell_type": "code",
      "source": [
        "def download_csv_from_gcs(bucket, file_name, date_columns=None, col_names=None):\n",
        "    blob = bucket.blob(file_name)\n",
        "    data = blob.download_as_text()\n",
        "    df = pd.read_csv(io.StringIO(data),\n",
        "                     parse_dates=date_columns,\n",
        "                     usecols=col_names)\n",
        "    return df"
      ],
      "metadata": {
        "id": "FCIJ2em7_HwN",
        "executionInfo": {
          "status": "ok",
          "timestamp": 1730466504175,
          "user_tz": -420,
          "elapsed": 3,
          "user": {
            "displayName": "",
            "userId": ""
          }
        }
      },
      "id": "FCIJ2em7_HwN",
      "execution_count": 146,
      "outputs": []
    },
    {
      "cell_type": "code",
      "source": [
        "PROJECT_ID=\"machine-learning-toy-project\"\n",
        "LOCATION=\"us-west1\"\n",
        "SERVICE_ACCOUNT=\"ml-project-user@machine-learning-toy-project.iam.gserviceaccount.com\""
      ],
      "metadata": {
        "id": "TKhLvLK__Hs1",
        "executionInfo": {
          "status": "ok",
          "timestamp": 1730466506127,
          "user_tz": -420,
          "elapsed": 3,
          "user": {
            "displayName": "",
            "userId": ""
          }
        }
      },
      "id": "TKhLvLK__Hs1",
      "execution_count": 147,
      "outputs": []
    },
    {
      "cell_type": "code",
      "source": [
        "BUCKET_NAME=\"customer_review_hawaii\"\n",
        "\n",
        "client = storage.Client()\n",
        "bucket = client.get_bucket(BUCKET_NAME)"
      ],
      "metadata": {
        "id": "OME02_Hw_HoR",
        "executionInfo": {
          "status": "ok",
          "timestamp": 1730466512194,
          "user_tz": -420,
          "elapsed": 2,
          "user": {
            "displayName": "",
            "userId": ""
          }
        }
      },
      "id": "OME02_Hw_HoR",
      "execution_count": 148,
      "outputs": []
    },
    {
      "cell_type": "code",
      "source": [
        "REVIEW_CSV=\"customer_review.csv\"\n",
        "\n",
        "reviews_df = download_csv_from_gcs(bucket, REVIEW_CSV)"
      ],
      "metadata": {
        "id": "tOtb1Bp4_Hqn",
        "executionInfo": {
          "status": "ok",
          "timestamp": 1730466974572,
          "user_tz": -420,
          "elapsed": 3153,
          "user": {
            "displayName": "",
            "userId": ""
          }
        }
      },
      "id": "tOtb1Bp4_Hqn",
      "execution_count": 159,
      "outputs": []
    },
    {
      "cell_type": "code",
      "source": [
        "reviews_df.head()"
      ],
      "metadata": {
        "colab": {
          "base_uri": "https://localhost:8080/",
          "height": 206
        },
        "id": "oHaPw5RF_Hlz",
        "executionInfo": {
          "status": "ok",
          "timestamp": 1730466974572,
          "user_tz": -420,
          "elapsed": 10,
          "user": {
            "displayName": "",
            "userId": ""
          }
        },
        "outputId": "eea5657e-08ad-430e-d5ce-6327dd8fd784"
      },
      "id": "oHaPw5RF_Hlz",
      "execution_count": 160,
      "outputs": [
        {
          "output_type": "execute_result",
          "data": {
            "text/plain": [
              "                             business_id                user_id  \\\n",
              "0  0x7954d184b450b1e7:0x4bee7e570ae07db8  109709907397075607894   \n",
              "1  0x7954d184b450b1e7:0x4bee7e570ae07db8  108968256029885805791   \n",
              "2  0x7954d184b450b1e7:0x4bee7e570ae07db8  113167915373388818291   \n",
              "3  0x7954d184b450b1e7:0x4bee7e570ae07db8  117153367922518677632   \n",
              "4  0x7954d184b450b1e7:0x4bee7e570ae07db8  112253051829957730666   \n",
              "\n",
              "            time                                               text  \n",
              "0  1521793918433  Went their for a field trip. It was awesome! s...  \n",
              "1  1574633258124  Nice interpretation center, hard to find the w...  \n",
              "2  1583292550820   Great water birds!  Clean place and easy access!  \n",
              "3  1528995771126  Be sure to stop by the visitors center first. ...  \n",
              "4  1549652370655  Great outdoor excursion. Ponds next to the oce...  "
            ],
            "text/html": [
              "\n",
              "  <div id=\"df-2382260e-e6f5-4e6d-8622-3f81564da111\" class=\"colab-df-container\">\n",
              "    <div>\n",
              "<style scoped>\n",
              "    .dataframe tbody tr th:only-of-type {\n",
              "        vertical-align: middle;\n",
              "    }\n",
              "\n",
              "    .dataframe tbody tr th {\n",
              "        vertical-align: top;\n",
              "    }\n",
              "\n",
              "    .dataframe thead th {\n",
              "        text-align: right;\n",
              "    }\n",
              "</style>\n",
              "<table border=\"1\" class=\"dataframe\">\n",
              "  <thead>\n",
              "    <tr style=\"text-align: right;\">\n",
              "      <th></th>\n",
              "      <th>business_id</th>\n",
              "      <th>user_id</th>\n",
              "      <th>time</th>\n",
              "      <th>text</th>\n",
              "    </tr>\n",
              "  </thead>\n",
              "  <tbody>\n",
              "    <tr>\n",
              "      <th>0</th>\n",
              "      <td>0x7954d184b450b1e7:0x4bee7e570ae07db8</td>\n",
              "      <td>109709907397075607894</td>\n",
              "      <td>1521793918433</td>\n",
              "      <td>Went their for a field trip. It was awesome! s...</td>\n",
              "    </tr>\n",
              "    <tr>\n",
              "      <th>1</th>\n",
              "      <td>0x7954d184b450b1e7:0x4bee7e570ae07db8</td>\n",
              "      <td>108968256029885805791</td>\n",
              "      <td>1574633258124</td>\n",
              "      <td>Nice interpretation center, hard to find the w...</td>\n",
              "    </tr>\n",
              "    <tr>\n",
              "      <th>2</th>\n",
              "      <td>0x7954d184b450b1e7:0x4bee7e570ae07db8</td>\n",
              "      <td>113167915373388818291</td>\n",
              "      <td>1583292550820</td>\n",
              "      <td>Great water birds!  Clean place and easy access!</td>\n",
              "    </tr>\n",
              "    <tr>\n",
              "      <th>3</th>\n",
              "      <td>0x7954d184b450b1e7:0x4bee7e570ae07db8</td>\n",
              "      <td>117153367922518677632</td>\n",
              "      <td>1528995771126</td>\n",
              "      <td>Be sure to stop by the visitors center first. ...</td>\n",
              "    </tr>\n",
              "    <tr>\n",
              "      <th>4</th>\n",
              "      <td>0x7954d184b450b1e7:0x4bee7e570ae07db8</td>\n",
              "      <td>112253051829957730666</td>\n",
              "      <td>1549652370655</td>\n",
              "      <td>Great outdoor excursion. Ponds next to the oce...</td>\n",
              "    </tr>\n",
              "  </tbody>\n",
              "</table>\n",
              "</div>\n",
              "    <div class=\"colab-df-buttons\">\n",
              "\n",
              "  <div class=\"colab-df-container\">\n",
              "    <button class=\"colab-df-convert\" onclick=\"convertToInteractive('df-2382260e-e6f5-4e6d-8622-3f81564da111')\"\n",
              "            title=\"Convert this dataframe to an interactive table.\"\n",
              "            style=\"display:none;\">\n",
              "\n",
              "  <svg xmlns=\"http://www.w3.org/2000/svg\" height=\"24px\" viewBox=\"0 -960 960 960\">\n",
              "    <path d=\"M120-120v-720h720v720H120Zm60-500h600v-160H180v160Zm220 220h160v-160H400v160Zm0 220h160v-160H400v160ZM180-400h160v-160H180v160Zm440 0h160v-160H620v160ZM180-180h160v-160H180v160Zm440 0h160v-160H620v160Z\"/>\n",
              "  </svg>\n",
              "    </button>\n",
              "\n",
              "  <style>\n",
              "    .colab-df-container {\n",
              "      display:flex;\n",
              "      gap: 12px;\n",
              "    }\n",
              "\n",
              "    .colab-df-convert {\n",
              "      background-color: #E8F0FE;\n",
              "      border: none;\n",
              "      border-radius: 50%;\n",
              "      cursor: pointer;\n",
              "      display: none;\n",
              "      fill: #1967D2;\n",
              "      height: 32px;\n",
              "      padding: 0 0 0 0;\n",
              "      width: 32px;\n",
              "    }\n",
              "\n",
              "    .colab-df-convert:hover {\n",
              "      background-color: #E2EBFA;\n",
              "      box-shadow: 0px 1px 2px rgba(60, 64, 67, 0.3), 0px 1px 3px 1px rgba(60, 64, 67, 0.15);\n",
              "      fill: #174EA6;\n",
              "    }\n",
              "\n",
              "    .colab-df-buttons div {\n",
              "      margin-bottom: 4px;\n",
              "    }\n",
              "\n",
              "    [theme=dark] .colab-df-convert {\n",
              "      background-color: #3B4455;\n",
              "      fill: #D2E3FC;\n",
              "    }\n",
              "\n",
              "    [theme=dark] .colab-df-convert:hover {\n",
              "      background-color: #434B5C;\n",
              "      box-shadow: 0px 1px 3px 1px rgba(0, 0, 0, 0.15);\n",
              "      filter: drop-shadow(0px 1px 2px rgba(0, 0, 0, 0.3));\n",
              "      fill: #FFFFFF;\n",
              "    }\n",
              "  </style>\n",
              "\n",
              "    <script>\n",
              "      const buttonEl =\n",
              "        document.querySelector('#df-2382260e-e6f5-4e6d-8622-3f81564da111 button.colab-df-convert');\n",
              "      buttonEl.style.display =\n",
              "        google.colab.kernel.accessAllowed ? 'block' : 'none';\n",
              "\n",
              "      async function convertToInteractive(key) {\n",
              "        const element = document.querySelector('#df-2382260e-e6f5-4e6d-8622-3f81564da111');\n",
              "        const dataTable =\n",
              "          await google.colab.kernel.invokeFunction('convertToInteractive',\n",
              "                                                    [key], {});\n",
              "        if (!dataTable) return;\n",
              "\n",
              "        const docLinkHtml = 'Like what you see? Visit the ' +\n",
              "          '<a target=\"_blank\" href=https://colab.research.google.com/notebooks/data_table.ipynb>data table notebook</a>'\n",
              "          + ' to learn more about interactive tables.';\n",
              "        element.innerHTML = '';\n",
              "        dataTable['output_type'] = 'display_data';\n",
              "        await google.colab.output.renderOutput(dataTable, element);\n",
              "        const docLink = document.createElement('div');\n",
              "        docLink.innerHTML = docLinkHtml;\n",
              "        element.appendChild(docLink);\n",
              "      }\n",
              "    </script>\n",
              "  </div>\n",
              "\n",
              "\n",
              "<div id=\"df-a5b37eb0-a7ea-45f5-bfb9-15de0a664f0e\">\n",
              "  <button class=\"colab-df-quickchart\" onclick=\"quickchart('df-a5b37eb0-a7ea-45f5-bfb9-15de0a664f0e')\"\n",
              "            title=\"Suggest charts\"\n",
              "            style=\"display:none;\">\n",
              "\n",
              "<svg xmlns=\"http://www.w3.org/2000/svg\" height=\"24px\"viewBox=\"0 0 24 24\"\n",
              "     width=\"24px\">\n",
              "    <g>\n",
              "        <path d=\"M19 3H5c-1.1 0-2 .9-2 2v14c0 1.1.9 2 2 2h14c1.1 0 2-.9 2-2V5c0-1.1-.9-2-2-2zM9 17H7v-7h2v7zm4 0h-2V7h2v10zm4 0h-2v-4h2v4z\"/>\n",
              "    </g>\n",
              "</svg>\n",
              "  </button>\n",
              "\n",
              "<style>\n",
              "  .colab-df-quickchart {\n",
              "      --bg-color: #E8F0FE;\n",
              "      --fill-color: #1967D2;\n",
              "      --hover-bg-color: #E2EBFA;\n",
              "      --hover-fill-color: #174EA6;\n",
              "      --disabled-fill-color: #AAA;\n",
              "      --disabled-bg-color: #DDD;\n",
              "  }\n",
              "\n",
              "  [theme=dark] .colab-df-quickchart {\n",
              "      --bg-color: #3B4455;\n",
              "      --fill-color: #D2E3FC;\n",
              "      --hover-bg-color: #434B5C;\n",
              "      --hover-fill-color: #FFFFFF;\n",
              "      --disabled-bg-color: #3B4455;\n",
              "      --disabled-fill-color: #666;\n",
              "  }\n",
              "\n",
              "  .colab-df-quickchart {\n",
              "    background-color: var(--bg-color);\n",
              "    border: none;\n",
              "    border-radius: 50%;\n",
              "    cursor: pointer;\n",
              "    display: none;\n",
              "    fill: var(--fill-color);\n",
              "    height: 32px;\n",
              "    padding: 0;\n",
              "    width: 32px;\n",
              "  }\n",
              "\n",
              "  .colab-df-quickchart:hover {\n",
              "    background-color: var(--hover-bg-color);\n",
              "    box-shadow: 0 1px 2px rgba(60, 64, 67, 0.3), 0 1px 3px 1px rgba(60, 64, 67, 0.15);\n",
              "    fill: var(--button-hover-fill-color);\n",
              "  }\n",
              "\n",
              "  .colab-df-quickchart-complete:disabled,\n",
              "  .colab-df-quickchart-complete:disabled:hover {\n",
              "    background-color: var(--disabled-bg-color);\n",
              "    fill: var(--disabled-fill-color);\n",
              "    box-shadow: none;\n",
              "  }\n",
              "\n",
              "  .colab-df-spinner {\n",
              "    border: 2px solid var(--fill-color);\n",
              "    border-color: transparent;\n",
              "    border-bottom-color: var(--fill-color);\n",
              "    animation:\n",
              "      spin 1s steps(1) infinite;\n",
              "  }\n",
              "\n",
              "  @keyframes spin {\n",
              "    0% {\n",
              "      border-color: transparent;\n",
              "      border-bottom-color: var(--fill-color);\n",
              "      border-left-color: var(--fill-color);\n",
              "    }\n",
              "    20% {\n",
              "      border-color: transparent;\n",
              "      border-left-color: var(--fill-color);\n",
              "      border-top-color: var(--fill-color);\n",
              "    }\n",
              "    30% {\n",
              "      border-color: transparent;\n",
              "      border-left-color: var(--fill-color);\n",
              "      border-top-color: var(--fill-color);\n",
              "      border-right-color: var(--fill-color);\n",
              "    }\n",
              "    40% {\n",
              "      border-color: transparent;\n",
              "      border-right-color: var(--fill-color);\n",
              "      border-top-color: var(--fill-color);\n",
              "    }\n",
              "    60% {\n",
              "      border-color: transparent;\n",
              "      border-right-color: var(--fill-color);\n",
              "    }\n",
              "    80% {\n",
              "      border-color: transparent;\n",
              "      border-right-color: var(--fill-color);\n",
              "      border-bottom-color: var(--fill-color);\n",
              "    }\n",
              "    90% {\n",
              "      border-color: transparent;\n",
              "      border-bottom-color: var(--fill-color);\n",
              "    }\n",
              "  }\n",
              "</style>\n",
              "\n",
              "  <script>\n",
              "    async function quickchart(key) {\n",
              "      const quickchartButtonEl =\n",
              "        document.querySelector('#' + key + ' button');\n",
              "      quickchartButtonEl.disabled = true;  // To prevent multiple clicks.\n",
              "      quickchartButtonEl.classList.add('colab-df-spinner');\n",
              "      try {\n",
              "        const charts = await google.colab.kernel.invokeFunction(\n",
              "            'suggestCharts', [key], {});\n",
              "      } catch (error) {\n",
              "        console.error('Error during call to suggestCharts:', error);\n",
              "      }\n",
              "      quickchartButtonEl.classList.remove('colab-df-spinner');\n",
              "      quickchartButtonEl.classList.add('colab-df-quickchart-complete');\n",
              "    }\n",
              "    (() => {\n",
              "      let quickchartButtonEl =\n",
              "        document.querySelector('#df-a5b37eb0-a7ea-45f5-bfb9-15de0a664f0e button');\n",
              "      quickchartButtonEl.style.display =\n",
              "        google.colab.kernel.accessAllowed ? 'block' : 'none';\n",
              "    })();\n",
              "  </script>\n",
              "</div>\n",
              "    </div>\n",
              "  </div>\n"
            ]
          },
          "metadata": {},
          "execution_count": 160
        }
      ]
    },
    {
      "cell_type": "code",
      "source": [
        "reviews_df.info()"
      ],
      "metadata": {
        "colab": {
          "base_uri": "https://localhost:8080/"
        },
        "id": "ST_zchBqNrJu",
        "executionInfo": {
          "status": "ok",
          "timestamp": 1730466974572,
          "user_tz": -420,
          "elapsed": 8,
          "user": {
            "displayName": "",
            "userId": ""
          }
        },
        "outputId": "1605f38d-09ee-4064-b055-38685b9663a4"
      },
      "id": "ST_zchBqNrJu",
      "execution_count": 161,
      "outputs": [
        {
          "output_type": "stream",
          "name": "stdout",
          "text": [
            "<class 'pandas.core.frame.DataFrame'>\n",
            "RangeIndex: 259581 entries, 0 to 259580\n",
            "Data columns (total 4 columns):\n",
            " #   Column       Non-Null Count   Dtype \n",
            "---  ------       --------------   ----- \n",
            " 0   business_id  259581 non-null  object\n",
            " 1   user_id      259581 non-null  object\n",
            " 2   time         259581 non-null  int64 \n",
            " 3   text         259579 non-null  object\n",
            "dtypes: int64(1), object(3)\n",
            "memory usage: 7.9+ MB\n"
          ]
        }
      ]
    },
    {
      "cell_type": "code",
      "source": [
        "reviews_df.shape"
      ],
      "metadata": {
        "colab": {
          "base_uri": "https://localhost:8080/"
        },
        "id": "tHBJeu2Z2p7E",
        "executionInfo": {
          "status": "ok",
          "timestamp": 1730466974573,
          "user_tz": -420,
          "elapsed": 8,
          "user": {
            "displayName": "",
            "userId": ""
          }
        },
        "outputId": "aef4354d-3f05-4d53-f485-ac3c2653497b"
      },
      "id": "tHBJeu2Z2p7E",
      "execution_count": 162,
      "outputs": [
        {
          "output_type": "execute_result",
          "data": {
            "text/plain": [
              "(259581, 4)"
            ]
          },
          "metadata": {},
          "execution_count": 162
        }
      ]
    },
    {
      "cell_type": "code",
      "source": [
        "reviews_df[[\"business_id\", \"user_id\"]].nunique()"
      ],
      "metadata": {
        "colab": {
          "base_uri": "https://localhost:8080/",
          "height": 147
        },
        "id": "KPRw9XI2_HjO",
        "executionInfo": {
          "status": "ok",
          "timestamp": 1730466974573,
          "user_tz": -420,
          "elapsed": 7,
          "user": {
            "displayName": "",
            "userId": ""
          }
        },
        "outputId": "e1226b2f-871b-4393-aa1d-f759a0d36083"
      },
      "id": "KPRw9XI2_HjO",
      "execution_count": 163,
      "outputs": [
        {
          "output_type": "execute_result",
          "data": {
            "text/plain": [
              "business_id      1235\n",
              "user_id        127721\n",
              "dtype: int64"
            ],
            "text/html": [
              "<div>\n",
              "<style scoped>\n",
              "    .dataframe tbody tr th:only-of-type {\n",
              "        vertical-align: middle;\n",
              "    }\n",
              "\n",
              "    .dataframe tbody tr th {\n",
              "        vertical-align: top;\n",
              "    }\n",
              "\n",
              "    .dataframe thead th {\n",
              "        text-align: right;\n",
              "    }\n",
              "</style>\n",
              "<table border=\"1\" class=\"dataframe\">\n",
              "  <thead>\n",
              "    <tr style=\"text-align: right;\">\n",
              "      <th></th>\n",
              "      <th>0</th>\n",
              "    </tr>\n",
              "  </thead>\n",
              "  <tbody>\n",
              "    <tr>\n",
              "      <th>business_id</th>\n",
              "      <td>1235</td>\n",
              "    </tr>\n",
              "    <tr>\n",
              "      <th>user_id</th>\n",
              "      <td>127721</td>\n",
              "    </tr>\n",
              "  </tbody>\n",
              "</table>\n",
              "</div><br><label><b>dtype:</b> int64</label>"
            ]
          },
          "metadata": {},
          "execution_count": 163
        }
      ]
    },
    {
      "cell_type": "code",
      "source": [
        "reviews_df.groupby(\"business_id\")[\"user_id\"].count().mean()"
      ],
      "metadata": {
        "colab": {
          "base_uri": "https://localhost:8080/"
        },
        "id": "L3S0mNei3Kqz",
        "executionInfo": {
          "status": "ok",
          "timestamp": 1730466974573,
          "user_tz": -420,
          "elapsed": 6,
          "user": {
            "displayName": "",
            "userId": ""
          }
        },
        "outputId": "8e675b9b-e66f-4496-d115-6181ad8b8dbf"
      },
      "id": "L3S0mNei3Kqz",
      "execution_count": 164,
      "outputs": [
        {
          "output_type": "execute_result",
          "data": {
            "text/plain": [
              "210.18704453441296"
            ]
          },
          "metadata": {},
          "execution_count": 164
        }
      ]
    },
    {
      "cell_type": "code",
      "source": [
        "reviews_df.isna().sum()"
      ],
      "metadata": {
        "colab": {
          "base_uri": "https://localhost:8080/",
          "height": 210
        },
        "id": "Ujj8J11s4vrK",
        "executionInfo": {
          "status": "ok",
          "timestamp": 1730467272896,
          "user_tz": -420,
          "elapsed": 6,
          "user": {
            "displayName": "",
            "userId": ""
          }
        },
        "outputId": "89b45b8b-4d5a-41e4-c229-b24c78fb29b1"
      },
      "id": "Ujj8J11s4vrK",
      "execution_count": 177,
      "outputs": [
        {
          "output_type": "execute_result",
          "data": {
            "text/plain": [
              "business_id    0\n",
              "user_id        0\n",
              "time           0\n",
              "text           2\n",
              "dtype: int64"
            ],
            "text/html": [
              "<div>\n",
              "<style scoped>\n",
              "    .dataframe tbody tr th:only-of-type {\n",
              "        vertical-align: middle;\n",
              "    }\n",
              "\n",
              "    .dataframe tbody tr th {\n",
              "        vertical-align: top;\n",
              "    }\n",
              "\n",
              "    .dataframe thead th {\n",
              "        text-align: right;\n",
              "    }\n",
              "</style>\n",
              "<table border=\"1\" class=\"dataframe\">\n",
              "  <thead>\n",
              "    <tr style=\"text-align: right;\">\n",
              "      <th></th>\n",
              "      <th>0</th>\n",
              "    </tr>\n",
              "  </thead>\n",
              "  <tbody>\n",
              "    <tr>\n",
              "      <th>business_id</th>\n",
              "      <td>0</td>\n",
              "    </tr>\n",
              "    <tr>\n",
              "      <th>user_id</th>\n",
              "      <td>0</td>\n",
              "    </tr>\n",
              "    <tr>\n",
              "      <th>time</th>\n",
              "      <td>0</td>\n",
              "    </tr>\n",
              "    <tr>\n",
              "      <th>text</th>\n",
              "      <td>2</td>\n",
              "    </tr>\n",
              "  </tbody>\n",
              "</table>\n",
              "</div><br><label><b>dtype:</b> int64</label>"
            ]
          },
          "metadata": {},
          "execution_count": 177
        }
      ]
    },
    {
      "cell_type": "code",
      "source": [
        "reviews_df.dropna(subset=\"text\", inplace=True)"
      ],
      "metadata": {
        "id": "E1-0Q7Yt4zwW",
        "executionInfo": {
          "status": "ok",
          "timestamp": 1730467304965,
          "user_tz": -420,
          "elapsed": 1301,
          "user": {
            "displayName": "",
            "userId": ""
          }
        }
      },
      "id": "E1-0Q7Yt4zwW",
      "execution_count": 178,
      "outputs": []
    },
    {
      "cell_type": "markdown",
      "source": [
        "# Word2Vec Training"
      ],
      "metadata": {
        "id": "YZZDgQLAZ3Gp"
      },
      "id": "YZZDgQLAZ3Gp"
    },
    {
      "cell_type": "markdown",
      "source": [
        "In this section, we will train our own word embedding using Word2Vec with our restaurant dataset.\n",
        "\n",
        "From the original review dataset, we apply prepricessing such as cleaning, splitting into individual sentence, tokenization, and lemmatization.\n",
        "\n",
        "In the end, we obtain around 550k sentences to train our language model."
      ],
      "metadata": {
        "id": "X5mcb5rdT6C5"
      },
      "id": "X5mcb5rdT6C5"
    },
    {
      "cell_type": "markdown",
      "source": [
        "## Dataset Preparation"
      ],
      "metadata": {
        "id": "ej88z2ZtQAxy"
      },
      "id": "ej88z2ZtQAxy"
    },
    {
      "cell_type": "code",
      "source": [
        "from langdetect import detect, DetectorFactory\n",
        "from transformers import pipeline\n",
        "\n",
        "import en_core_web_sm\n",
        "import re"
      ],
      "metadata": {
        "id": "P_NvXNOUaOlj",
        "executionInfo": {
          "status": "ok",
          "timestamp": 1730466995498,
          "user_tz": -420,
          "elapsed": 1,
          "user": {
            "displayName": "",
            "userId": ""
          }
        }
      },
      "id": "P_NvXNOUaOlj",
      "execution_count": 165,
      "outputs": []
    },
    {
      "cell_type": "code",
      "source": [
        "spacy_nlp = en_core_web_sm.load()"
      ],
      "metadata": {
        "id": "I6vZfjOqnq85",
        "executionInfo": {
          "status": "ok",
          "timestamp": 1730466997689,
          "user_tz": -420,
          "elapsed": 1186,
          "user": {
            "displayName": "",
            "userId": ""
          }
        }
      },
      "id": "I6vZfjOqnq85",
      "execution_count": 166,
      "outputs": []
    },
    {
      "cell_type": "code",
      "source": [
        "class Word2VecDataset():\n",
        "    \"\"\"\n",
        "      A class for preprocessing Reviews data for training Word2Vec Model.\n",
        "      Preprocessing includes:\n",
        "        - clean, split, and expand setences,\n",
        "        - tokenize, lemmatize, and remove stop words from sentences\n",
        "    \"\"\"\n",
        "\n",
        "    def __init__(self, dataset, spacy_nlp):\n",
        "\n",
        "        self.nlp = spacy_nlp\n",
        "        self.data = self.fit(dataset)\n",
        "\n",
        "    def _clean_text(self, text):\n",
        "        \"\"\" Clean text from unnecessary tokens/substrings \"\"\"\n",
        "\n",
        "        # Remove emoji patterns\n",
        "        emoji_pattern = re.compile(\n",
        "            \"[\"\n",
        "            \"\\U0001F600-\\U0001F64F\"  # Emoticons\n",
        "            \"\\U0001F300-\\U0001F5FF\"  # Symbols & pictographs\n",
        "            \"\\U0001F680-\\U0001F6FF\"  # Transport & map symbols\n",
        "            \"\\U0001F1E0-\\U0001F1FF\"  # Flags (iOS)\n",
        "            \"\\U00002700-\\U000027BF\"  # Dingbats\n",
        "            \"\\U0001F900-\\U0001F9FF\"  # Supplemental Symbols and Pictographs\n",
        "            \"\\U00002600-\\U000026FF\"  # Misc symbols\n",
        "            \"\\U00002B50-\\U00002B59\"  # Stars\n",
        "            \"]+\", flags=re.UNICODE\n",
        "        )\n",
        "        text = emoji_pattern.sub(r\"\", text)\n",
        "\n",
        "        # Extracts text between '(Translated by Google)' and '(Original)'.\n",
        "        match = re.search(r\"\\(Translated by Google\\)(.+?)  \", text)\n",
        "        if match:\n",
        "            text = match.group(1)\n",
        "\n",
        "        return text\n",
        "\n",
        "    def _split_and_tokenize(self, text):\n",
        "        \"\"\"\n",
        "          Splits text into sentences using the spaCy model.\n",
        "          Also tokenize and lemmatize\n",
        "        \"\"\"\n",
        "\n",
        "        sents = [sent for sent in self.nlp(text.lower()).sents if sent.text]\n",
        "\n",
        "        full_sents = [sent.text for sent in sents]\n",
        "\n",
        "        tokenized = [[ token.lemma_ for token in sent\n",
        "                    if token.is_alpha\n",
        "                     and (not token.is_stop)\n",
        "                     and (not token.is_punct) ] for sent in sents]\n",
        "        tokenized = [\" \".join(sent) for sent in tokenized]\n",
        "        # We do the above operation so that it can be exploded later\n",
        "\n",
        "        return full_sents, tokenized\n",
        "\n",
        "    def fit(self, dataset):\n",
        "        \"\"\" The main text processing function. \"\"\"\n",
        "\n",
        "        data = dataset.copy()\n",
        "\n",
        "        # Clean, split, and expand sentences\n",
        "        data[\"text\"] = data[\"text\"].apply(self._clean_text)\n",
        "        data.loc[:, [\"processed_text\", \"tokens\"]] = data[\"text\"].apply(\n",
        "            self._split_and_tokenize).apply(\n",
        "                lambda x: pd.Series(x, index=[\"processed_text\", \"tokens\"]))\n",
        "\n",
        "        data = data.explode([\"processed_text\", \"tokens\"]).reset_index(drop=True)\n",
        "        data = data[data[\"processed_text\"].str.len() >= 10]\n",
        "\n",
        "        data[\"tokens\"] = data[\"tokens\"].apply(lambda x: x.split())\n",
        "        data = data[data[\"tokens\"].apply(lambda x: len(x) >= 2)]\n",
        "\n",
        "        return data"
      ],
      "metadata": {
        "id": "cGrU4woL_Hgu",
        "executionInfo": {
          "status": "ok",
          "timestamp": 1730470904388,
          "user_tz": -420,
          "elapsed": 1279,
          "user": {
            "displayName": "",
            "userId": ""
          }
        }
      },
      "id": "cGrU4woL_Hgu",
      "execution_count": 186,
      "outputs": []
    },
    {
      "cell_type": "code",
      "source": [
        "dataset_wv = Word2VecDataset(reviews_df, spacy_nlp)\n",
        "\n",
        "print(f\"Finished at {datetime.now().strftime('%H:%M %S')}\")"
      ],
      "metadata": {
        "id": "l7FJ0Won_Hdr",
        "executionInfo": {
          "status": "ok",
          "timestamp": 1730474125379,
          "user_tz": -420,
          "elapsed": 3204764,
          "user": {
            "displayName": "",
            "userId": ""
          }
        },
        "colab": {
          "base_uri": "https://localhost:8080/"
        },
        "outputId": "d0228e91-c258-4ac3-a17a-a8c2fe51ab7a"
      },
      "id": "l7FJ0Won_Hdr",
      "execution_count": 188,
      "outputs": [
        {
          "output_type": "stream",
          "name": "stdout",
          "text": [
            "Finished at 15:15 24\n"
          ]
        }
      ]
    },
    {
      "cell_type": "code",
      "source": [
        "dataset_wv.data.head()"
      ],
      "metadata": {
        "id": "yoEGANozlovE",
        "executionInfo": {
          "status": "ok",
          "timestamp": 1730474125379,
          "user_tz": -420,
          "elapsed": 3,
          "user": {
            "displayName": "",
            "userId": ""
          }
        },
        "colab": {
          "base_uri": "https://localhost:8080/",
          "height": 380
        },
        "outputId": "80202a21-4d76-4eee-c4e0-7594084364e1"
      },
      "id": "yoEGANozlovE",
      "execution_count": 189,
      "outputs": [
        {
          "output_type": "execute_result",
          "data": {
            "text/plain": [
              "                             business_id                user_id  \\\n",
              "0  0x7954d184b450b1e7:0x4bee7e570ae07db8  109709907397075607894   \n",
              "2  0x7954d184b450b1e7:0x4bee7e570ae07db8  109709907397075607894   \n",
              "3  0x7954d184b450b1e7:0x4bee7e570ae07db8  109709907397075607894   \n",
              "4  0x7954d184b450b1e7:0x4bee7e570ae07db8  109709907397075607894   \n",
              "5  0x7954d184b450b1e7:0x4bee7e570ae07db8  108968256029885805791   \n",
              "\n",
              "            time                                               text  \\\n",
              "0  1521793918433  Went their for a field trip. It was awesome! s...   \n",
              "2  1521793918433  Went their for a field trip. It was awesome! s...   \n",
              "3  1521793918433  Went their for a field trip. It was awesome! s...   \n",
              "4  1521793918433  Went their for a field trip. It was awesome! s...   \n",
              "5  1574633258124  Nice interpretation center, hard to find the w...   \n",
              "\n",
              "                                      processed_text  \\\n",
              "0                       went their for a field trip.   \n",
              "2  sometimes the road to the pond is flooded so y...   \n",
              "3                    plus, the birds there are cute!   \n",
              "4  i recommend this place for tourists and i do n...   \n",
              "5  nice interpretation center, hard to find the w...   \n",
              "\n",
              "                                              tokens  \n",
              "0                                  [go, field, trip]  \n",
              "2  [road, pond, flood, balance, concrete, block, ...  \n",
              "3                                 [plus, bird, cute]  \n",
              "4  [recommend, place, tourist, recommend, litter,...  \n",
              "5  [nice, interpretation, center, hard, find, wil...  "
            ],
            "text/html": [
              "\n",
              "  <div id=\"df-5604dda4-da0f-444d-9c2b-9314892da39c\" class=\"colab-df-container\">\n",
              "    <div>\n",
              "<style scoped>\n",
              "    .dataframe tbody tr th:only-of-type {\n",
              "        vertical-align: middle;\n",
              "    }\n",
              "\n",
              "    .dataframe tbody tr th {\n",
              "        vertical-align: top;\n",
              "    }\n",
              "\n",
              "    .dataframe thead th {\n",
              "        text-align: right;\n",
              "    }\n",
              "</style>\n",
              "<table border=\"1\" class=\"dataframe\">\n",
              "  <thead>\n",
              "    <tr style=\"text-align: right;\">\n",
              "      <th></th>\n",
              "      <th>business_id</th>\n",
              "      <th>user_id</th>\n",
              "      <th>time</th>\n",
              "      <th>text</th>\n",
              "      <th>processed_text</th>\n",
              "      <th>tokens</th>\n",
              "    </tr>\n",
              "  </thead>\n",
              "  <tbody>\n",
              "    <tr>\n",
              "      <th>0</th>\n",
              "      <td>0x7954d184b450b1e7:0x4bee7e570ae07db8</td>\n",
              "      <td>109709907397075607894</td>\n",
              "      <td>1521793918433</td>\n",
              "      <td>Went their for a field trip. It was awesome! s...</td>\n",
              "      <td>went their for a field trip.</td>\n",
              "      <td>[go, field, trip]</td>\n",
              "    </tr>\n",
              "    <tr>\n",
              "      <th>2</th>\n",
              "      <td>0x7954d184b450b1e7:0x4bee7e570ae07db8</td>\n",
              "      <td>109709907397075607894</td>\n",
              "      <td>1521793918433</td>\n",
              "      <td>Went their for a field trip. It was awesome! s...</td>\n",
              "      <td>sometimes the road to the pond is flooded so y...</td>\n",
              "      <td>[road, pond, flood, balance, concrete, block, ...</td>\n",
              "    </tr>\n",
              "    <tr>\n",
              "      <th>3</th>\n",
              "      <td>0x7954d184b450b1e7:0x4bee7e570ae07db8</td>\n",
              "      <td>109709907397075607894</td>\n",
              "      <td>1521793918433</td>\n",
              "      <td>Went their for a field trip. It was awesome! s...</td>\n",
              "      <td>plus, the birds there are cute!</td>\n",
              "      <td>[plus, bird, cute]</td>\n",
              "    </tr>\n",
              "    <tr>\n",
              "      <th>4</th>\n",
              "      <td>0x7954d184b450b1e7:0x4bee7e570ae07db8</td>\n",
              "      <td>109709907397075607894</td>\n",
              "      <td>1521793918433</td>\n",
              "      <td>Went their for a field trip. It was awesome! s...</td>\n",
              "      <td>i recommend this place for tourists and i do n...</td>\n",
              "      <td>[recommend, place, tourist, recommend, litter,...</td>\n",
              "    </tr>\n",
              "    <tr>\n",
              "      <th>5</th>\n",
              "      <td>0x7954d184b450b1e7:0x4bee7e570ae07db8</td>\n",
              "      <td>108968256029885805791</td>\n",
              "      <td>1574633258124</td>\n",
              "      <td>Nice interpretation center, hard to find the w...</td>\n",
              "      <td>nice interpretation center, hard to find the w...</td>\n",
              "      <td>[nice, interpretation, center, hard, find, wil...</td>\n",
              "    </tr>\n",
              "  </tbody>\n",
              "</table>\n",
              "</div>\n",
              "    <div class=\"colab-df-buttons\">\n",
              "\n",
              "  <div class=\"colab-df-container\">\n",
              "    <button class=\"colab-df-convert\" onclick=\"convertToInteractive('df-5604dda4-da0f-444d-9c2b-9314892da39c')\"\n",
              "            title=\"Convert this dataframe to an interactive table.\"\n",
              "            style=\"display:none;\">\n",
              "\n",
              "  <svg xmlns=\"http://www.w3.org/2000/svg\" height=\"24px\" viewBox=\"0 -960 960 960\">\n",
              "    <path d=\"M120-120v-720h720v720H120Zm60-500h600v-160H180v160Zm220 220h160v-160H400v160Zm0 220h160v-160H400v160ZM180-400h160v-160H180v160Zm440 0h160v-160H620v160ZM180-180h160v-160H180v160Zm440 0h160v-160H620v160Z\"/>\n",
              "  </svg>\n",
              "    </button>\n",
              "\n",
              "  <style>\n",
              "    .colab-df-container {\n",
              "      display:flex;\n",
              "      gap: 12px;\n",
              "    }\n",
              "\n",
              "    .colab-df-convert {\n",
              "      background-color: #E8F0FE;\n",
              "      border: none;\n",
              "      border-radius: 50%;\n",
              "      cursor: pointer;\n",
              "      display: none;\n",
              "      fill: #1967D2;\n",
              "      height: 32px;\n",
              "      padding: 0 0 0 0;\n",
              "      width: 32px;\n",
              "    }\n",
              "\n",
              "    .colab-df-convert:hover {\n",
              "      background-color: #E2EBFA;\n",
              "      box-shadow: 0px 1px 2px rgba(60, 64, 67, 0.3), 0px 1px 3px 1px rgba(60, 64, 67, 0.15);\n",
              "      fill: #174EA6;\n",
              "    }\n",
              "\n",
              "    .colab-df-buttons div {\n",
              "      margin-bottom: 4px;\n",
              "    }\n",
              "\n",
              "    [theme=dark] .colab-df-convert {\n",
              "      background-color: #3B4455;\n",
              "      fill: #D2E3FC;\n",
              "    }\n",
              "\n",
              "    [theme=dark] .colab-df-convert:hover {\n",
              "      background-color: #434B5C;\n",
              "      box-shadow: 0px 1px 3px 1px rgba(0, 0, 0, 0.15);\n",
              "      filter: drop-shadow(0px 1px 2px rgba(0, 0, 0, 0.3));\n",
              "      fill: #FFFFFF;\n",
              "    }\n",
              "  </style>\n",
              "\n",
              "    <script>\n",
              "      const buttonEl =\n",
              "        document.querySelector('#df-5604dda4-da0f-444d-9c2b-9314892da39c button.colab-df-convert');\n",
              "      buttonEl.style.display =\n",
              "        google.colab.kernel.accessAllowed ? 'block' : 'none';\n",
              "\n",
              "      async function convertToInteractive(key) {\n",
              "        const element = document.querySelector('#df-5604dda4-da0f-444d-9c2b-9314892da39c');\n",
              "        const dataTable =\n",
              "          await google.colab.kernel.invokeFunction('convertToInteractive',\n",
              "                                                    [key], {});\n",
              "        if (!dataTable) return;\n",
              "\n",
              "        const docLinkHtml = 'Like what you see? Visit the ' +\n",
              "          '<a target=\"_blank\" href=https://colab.research.google.com/notebooks/data_table.ipynb>data table notebook</a>'\n",
              "          + ' to learn more about interactive tables.';\n",
              "        element.innerHTML = '';\n",
              "        dataTable['output_type'] = 'display_data';\n",
              "        await google.colab.output.renderOutput(dataTable, element);\n",
              "        const docLink = document.createElement('div');\n",
              "        docLink.innerHTML = docLinkHtml;\n",
              "        element.appendChild(docLink);\n",
              "      }\n",
              "    </script>\n",
              "  </div>\n",
              "\n",
              "\n",
              "<div id=\"df-b4e5ba24-58a0-4745-8a60-3d65b8d7c2cd\">\n",
              "  <button class=\"colab-df-quickchart\" onclick=\"quickchart('df-b4e5ba24-58a0-4745-8a60-3d65b8d7c2cd')\"\n",
              "            title=\"Suggest charts\"\n",
              "            style=\"display:none;\">\n",
              "\n",
              "<svg xmlns=\"http://www.w3.org/2000/svg\" height=\"24px\"viewBox=\"0 0 24 24\"\n",
              "     width=\"24px\">\n",
              "    <g>\n",
              "        <path d=\"M19 3H5c-1.1 0-2 .9-2 2v14c0 1.1.9 2 2 2h14c1.1 0 2-.9 2-2V5c0-1.1-.9-2-2-2zM9 17H7v-7h2v7zm4 0h-2V7h2v10zm4 0h-2v-4h2v4z\"/>\n",
              "    </g>\n",
              "</svg>\n",
              "  </button>\n",
              "\n",
              "<style>\n",
              "  .colab-df-quickchart {\n",
              "      --bg-color: #E8F0FE;\n",
              "      --fill-color: #1967D2;\n",
              "      --hover-bg-color: #E2EBFA;\n",
              "      --hover-fill-color: #174EA6;\n",
              "      --disabled-fill-color: #AAA;\n",
              "      --disabled-bg-color: #DDD;\n",
              "  }\n",
              "\n",
              "  [theme=dark] .colab-df-quickchart {\n",
              "      --bg-color: #3B4455;\n",
              "      --fill-color: #D2E3FC;\n",
              "      --hover-bg-color: #434B5C;\n",
              "      --hover-fill-color: #FFFFFF;\n",
              "      --disabled-bg-color: #3B4455;\n",
              "      --disabled-fill-color: #666;\n",
              "  }\n",
              "\n",
              "  .colab-df-quickchart {\n",
              "    background-color: var(--bg-color);\n",
              "    border: none;\n",
              "    border-radius: 50%;\n",
              "    cursor: pointer;\n",
              "    display: none;\n",
              "    fill: var(--fill-color);\n",
              "    height: 32px;\n",
              "    padding: 0;\n",
              "    width: 32px;\n",
              "  }\n",
              "\n",
              "  .colab-df-quickchart:hover {\n",
              "    background-color: var(--hover-bg-color);\n",
              "    box-shadow: 0 1px 2px rgba(60, 64, 67, 0.3), 0 1px 3px 1px rgba(60, 64, 67, 0.15);\n",
              "    fill: var(--button-hover-fill-color);\n",
              "  }\n",
              "\n",
              "  .colab-df-quickchart-complete:disabled,\n",
              "  .colab-df-quickchart-complete:disabled:hover {\n",
              "    background-color: var(--disabled-bg-color);\n",
              "    fill: var(--disabled-fill-color);\n",
              "    box-shadow: none;\n",
              "  }\n",
              "\n",
              "  .colab-df-spinner {\n",
              "    border: 2px solid var(--fill-color);\n",
              "    border-color: transparent;\n",
              "    border-bottom-color: var(--fill-color);\n",
              "    animation:\n",
              "      spin 1s steps(1) infinite;\n",
              "  }\n",
              "\n",
              "  @keyframes spin {\n",
              "    0% {\n",
              "      border-color: transparent;\n",
              "      border-bottom-color: var(--fill-color);\n",
              "      border-left-color: var(--fill-color);\n",
              "    }\n",
              "    20% {\n",
              "      border-color: transparent;\n",
              "      border-left-color: var(--fill-color);\n",
              "      border-top-color: var(--fill-color);\n",
              "    }\n",
              "    30% {\n",
              "      border-color: transparent;\n",
              "      border-left-color: var(--fill-color);\n",
              "      border-top-color: var(--fill-color);\n",
              "      border-right-color: var(--fill-color);\n",
              "    }\n",
              "    40% {\n",
              "      border-color: transparent;\n",
              "      border-right-color: var(--fill-color);\n",
              "      border-top-color: var(--fill-color);\n",
              "    }\n",
              "    60% {\n",
              "      border-color: transparent;\n",
              "      border-right-color: var(--fill-color);\n",
              "    }\n",
              "    80% {\n",
              "      border-color: transparent;\n",
              "      border-right-color: var(--fill-color);\n",
              "      border-bottom-color: var(--fill-color);\n",
              "    }\n",
              "    90% {\n",
              "      border-color: transparent;\n",
              "      border-bottom-color: var(--fill-color);\n",
              "    }\n",
              "  }\n",
              "</style>\n",
              "\n",
              "  <script>\n",
              "    async function quickchart(key) {\n",
              "      const quickchartButtonEl =\n",
              "        document.querySelector('#' + key + ' button');\n",
              "      quickchartButtonEl.disabled = true;  // To prevent multiple clicks.\n",
              "      quickchartButtonEl.classList.add('colab-df-spinner');\n",
              "      try {\n",
              "        const charts = await google.colab.kernel.invokeFunction(\n",
              "            'suggestCharts', [key], {});\n",
              "      } catch (error) {\n",
              "        console.error('Error during call to suggestCharts:', error);\n",
              "      }\n",
              "      quickchartButtonEl.classList.remove('colab-df-spinner');\n",
              "      quickchartButtonEl.classList.add('colab-df-quickchart-complete');\n",
              "    }\n",
              "    (() => {\n",
              "      let quickchartButtonEl =\n",
              "        document.querySelector('#df-b4e5ba24-58a0-4745-8a60-3d65b8d7c2cd button');\n",
              "      quickchartButtonEl.style.display =\n",
              "        google.colab.kernel.accessAllowed ? 'block' : 'none';\n",
              "    })();\n",
              "  </script>\n",
              "</div>\n",
              "    </div>\n",
              "  </div>\n"
            ]
          },
          "metadata": {},
          "execution_count": 189
        }
      ]
    },
    {
      "cell_type": "code",
      "source": [
        "dataset_wv.data.info()"
      ],
      "metadata": {
        "colab": {
          "base_uri": "https://localhost:8080/"
        },
        "id": "vyoa7edGpAb3",
        "executionInfo": {
          "status": "ok",
          "timestamp": 1730474125795,
          "user_tz": -420,
          "elapsed": 3,
          "user": {
            "displayName": "",
            "userId": ""
          }
        },
        "outputId": "450372db-29c1-4f0d-e8fa-bcea62a87555"
      },
      "id": "vyoa7edGpAb3",
      "execution_count": 190,
      "outputs": [
        {
          "output_type": "stream",
          "name": "stdout",
          "text": [
            "<class 'pandas.core.frame.DataFrame'>\n",
            "Index: 553246 entries, 0 to 618377\n",
            "Data columns (total 6 columns):\n",
            " #   Column          Non-Null Count   Dtype \n",
            "---  ------          --------------   ----- \n",
            " 0   business_id     553246 non-null  object\n",
            " 1   user_id         553246 non-null  object\n",
            " 2   time            553246 non-null  int64 \n",
            " 3   text            553246 non-null  object\n",
            " 4   processed_text  553246 non-null  object\n",
            " 5   tokens          553246 non-null  object\n",
            "dtypes: int64(1), object(5)\n",
            "memory usage: 29.5+ MB\n"
          ]
        }
      ]
    },
    {
      "cell_type": "markdown",
      "source": [
        "## Training"
      ],
      "metadata": {
        "id": "plYfhF5-RvC3"
      },
      "id": "plYfhF5-RvC3"
    },
    {
      "cell_type": "code",
      "source": [
        "from gensim.models import Word2Vec"
      ],
      "metadata": {
        "id": "Y_wuxYQFRxGI",
        "executionInfo": {
          "status": "ok",
          "timestamp": 1730474125795,
          "user_tz": -420,
          "elapsed": 2,
          "user": {
            "displayName": "",
            "userId": ""
          }
        }
      },
      "id": "Y_wuxYQFRxGI",
      "execution_count": 191,
      "outputs": []
    },
    {
      "cell_type": "code",
      "source": [
        "model_wv = Word2Vec(dataset_wv.data[\"tokens\"], vector_size=100, window=5, min_count=1, workers=4)"
      ],
      "metadata": {
        "id": "F52WcDQAR5ZI",
        "executionInfo": {
          "status": "ok",
          "timestamp": 1730474146499,
          "user_tz": -420,
          "elapsed": 20706,
          "user": {
            "displayName": "",
            "userId": ""
          }
        }
      },
      "id": "F52WcDQAR5ZI",
      "execution_count": 192,
      "outputs": []
    },
    {
      "cell_type": "code",
      "source": [
        "# Save model to GCS for future access\n",
        "timestamp = datetime.now().strftime(\"%H%M%S\")\n",
        "\n",
        "model_wv.save(f\"word2vec_amazon_reviews-{timestamp}\")"
      ],
      "metadata": {
        "id": "X5tlR8TDU6fi",
        "executionInfo": {
          "status": "ok",
          "timestamp": 1730474146499,
          "user_tz": -420,
          "elapsed": 3,
          "user": {
            "displayName": "",
            "userId": ""
          }
        }
      },
      "id": "X5tlR8TDU6fi",
      "execution_count": 193,
      "outputs": []
    },
    {
      "cell_type": "code",
      "source": [
        "!gsutil cp \"word2vec_amazon_reviews\"* \"gs://customer_review_hawaii/models/\"\n",
        "!rm \"word2vec_amazon_reviews\"*"
      ],
      "metadata": {
        "id": "Z7-l2HKsVL71",
        "executionInfo": {
          "status": "ok",
          "timestamp": 1730474149297,
          "user_tz": -420,
          "elapsed": 2800,
          "user": {
            "displayName": "",
            "userId": ""
          }
        },
        "colab": {
          "base_uri": "https://localhost:8080/"
        },
        "outputId": "9e78f772-946f-41c3-d61c-ffee5c6ea186"
      },
      "id": "Z7-l2HKsVL71",
      "execution_count": 194,
      "outputs": [
        {
          "output_type": "stream",
          "name": "stdout",
          "text": [
            "Copying file://word2vec_amazon_reviews-151545 [Content-Type=application/octet-stream]...\n",
            "-\n",
            "Operation completed over 1 objects/28.9 MiB.                                     \n"
          ]
        }
      ]
    },
    {
      "cell_type": "markdown",
      "source": [
        "# Autoencoder for Dimensionality Reduction"
      ],
      "metadata": {
        "id": "uM3o4EnNTtfH"
      },
      "id": "uM3o4EnNTtfH"
    },
    {
      "cell_type": "markdown",
      "source": [
        "In this section, we will merge the Word2Vec word embedding with an embedding from LLM `SentenceTransformers`.\n",
        "\n",
        "After that, we will train an autoencoder model to reduce the dimensionality of our input embedding.\n",
        "\n",
        "The autoencoder model is chosen as it works well for complex, non-linear datasets where traditional methods like PCA may not capture the full complexity.\n",
        "\n",
        "TODO: Comparison with PCA?"
      ],
      "metadata": {
        "id": "WkYFC3JhT4CI"
      },
      "id": "WkYFC3JhT4CI"
    },
    {
      "cell_type": "code",
      "source": [
        "from sentence_transformers import SentenceTransformer"
      ],
      "metadata": {
        "id": "_Til0qd-W3K0",
        "executionInfo": {
          "status": "ok",
          "timestamp": 1730475194720,
          "user_tz": -420,
          "elapsed": 1225,
          "user": {
            "displayName": "",
            "userId": ""
          }
        }
      },
      "id": "_Til0qd-W3K0",
      "execution_count": 198,
      "outputs": []
    },
    {
      "cell_type": "code",
      "source": [
        "model_transformer = SentenceTransformer(\"sentence-transformers/all-MiniLM-L6-v2\")"
      ],
      "metadata": {
        "id": "TuTcyOYjT2nl"
      },
      "id": "TuTcyOYjT2nl",
      "execution_count": null,
      "outputs": []
    },
    {
      "cell_type": "code",
      "source": [
        "embeddings = sentence_transformer_model.encode(dataset.data[\"processed_text\"].sample(10).tolist())"
      ],
      "metadata": {
        "id": "FhMN_5JHWwxL",
        "executionInfo": {
          "status": "ok",
          "timestamp": 1730475302534,
          "user_tz": -420,
          "elapsed": 2,
          "user": {
            "displayName": "",
            "userId": ""
          }
        }
      },
      "id": "FhMN_5JHWwxL",
      "execution_count": 203,
      "outputs": []
    },
    {
      "cell_type": "code",
      "source": [
        "embeddings.min(), embeddings.max()"
      ],
      "metadata": {
        "colab": {
          "base_uri": "https://localhost:8080/"
        },
        "id": "ivSSIvqnXMZE",
        "executionInfo": {
          "status": "ok",
          "timestamp": 1730475574289,
          "user_tz": -420,
          "elapsed": 3,
          "user": {
            "displayName": "",
            "userId": ""
          }
        },
        "outputId": "4fc03347-8c0e-4e30-dfd0-0d66d3db6e9e"
      },
      "id": "ivSSIvqnXMZE",
      "execution_count": 205,
      "outputs": [
        {
          "output_type": "execute_result",
          "data": {
            "text/plain": [
              "(-0.19199066, 0.2247755)"
            ]
          },
          "metadata": {},
          "execution_count": 205
        }
      ]
    },
    {
      "cell_type": "code",
      "source": [],
      "metadata": {
        "id": "fOgbtMPOXbuz"
      },
      "id": "fOgbtMPOXbuz",
      "execution_count": null,
      "outputs": []
    }
  ],
  "metadata": {
    "kernelspec": {
      "display_name": "Python 3",
      "language": "python",
      "name": "python3"
    },
    "language_info": {
      "codemirror_mode": {
        "name": "ipython",
        "version": 3
      },
      "file_extension": ".py",
      "mimetype": "text/x-python",
      "name": "python",
      "nbconvert_exporter": "python",
      "pygments_lexer": "ipython3",
      "version": "3.10.10"
    },
    "colab": {
      "provenance": [],
      "name": "user-review-topic-clustering"
    }
  },
  "nbformat": 4,
  "nbformat_minor": 5
}