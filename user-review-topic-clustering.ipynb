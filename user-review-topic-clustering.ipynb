{
  "cells": [
    {
      "cell_type": "markdown",
      "id": "FjIPfO44_AqU",
      "metadata": {
        "id": "FjIPfO44_AqU"
      },
      "source": [
        "# Introduction"
      ]
    },
    {
      "cell_type": "markdown",
      "id": "_tP_lpdgl-Dy",
      "metadata": {
        "id": "_tP_lpdgl-Dy"
      },
      "source": [
        "As a business owner, customer reviews can be a valuable source of insight. Imagine being able to gradually monitor areas for improvement that increase customer satisfaction and highlight the best parts of the business for effective branding.\n",
        "\n",
        "This project aims to segment user reviews into several topics for easier analysis.\n",
        "\n",
        "The key components of our project include:\n",
        "- **Review clustering**: to segment customer reviews into distinct clusters by representing the reviews as word embedding (combination of pre-trained LLM and self-train model),\n",
        "- **Sentiment analysis**: to classify the sentiment of a review as positive or negative,\n",
        "- **Topic labeling**: to label review topics within each cluster using a large language model (LLM).\n"
      ]
    },
    {
      "cell_type": "markdown",
      "id": "dX0D25xviE8t",
      "metadata": {
        "id": "dX0D25xviE8t"
      },
      "source": [
        "## Dataset Introduction"
      ]
    },
    {
      "cell_type": "markdown",
      "id": "wSygl3nUiHQs",
      "metadata": {
        "id": "wSygl3nUiHQs"
      },
      "source": [
        "The dataset for this project is [Google Local dataset](https://cseweb.ucsd.edu/~jmcauley/datasets.html#google_local) obtained from J. McAuley lab.\n",
        "\n",
        "Originally, the dataset contains millions of business reviews from across the United States up to 2021. However, for the sake of simplicity and due to limited resources for this project, we focus exclusively on one state and one business type: **tourist attractions in Hawaii**.\n",
        "\n",
        "In the end, we settle on approximately 260k reviews covering about 1200 locations."
      ]
    },
    {
      "cell_type": "code",
      "execution_count": null,
      "id": "t_emiPNMX52l",
      "metadata": {
        "id": "t_emiPNMX52l"
      },
      "outputs": [],
      "source": [
        "!pip install google-cloud-storage\n",
        "!pip install en_core_web_sm\n",
        "!pip install langdetect\n",
        "!pip install -q transformers\n",
        "!pip install sentence-transformers\n",
        "!pip install hdbscan\n",
        "!pip install skorch\n",
        "!pip install openai"
      ]
    },
    {
      "cell_type": "code",
      "execution_count": 69,
      "id": "IodBe-ogXqee",
      "metadata": {
        "executionInfo": {
          "elapsed": 7,
          "status": "ok",
          "timestamp": 1730694994053,
          "user": {
            "displayName": "",
            "userId": ""
          },
          "user_tz": -420
        },
        "id": "IodBe-ogXqee"
      },
      "outputs": [],
      "source": [
        "from google.cloud import storage\n",
        "from datetime import datetime\n",
        "\n",
        "import matplotlib.pyplot as plt\n",
        "import seaborn as sns\n",
        "import pandas as pd\n",
        "import numpy as np\n",
        "import io"
      ]
    },
    {
      "cell_type": "code",
      "execution_count": 449,
      "id": "FCIJ2em7_HwN",
      "metadata": {
        "executionInfo": {
          "elapsed": 2,
          "status": "ok",
          "timestamp": 1730725190517,
          "user": {
            "displayName": "",
            "userId": ""
          },
          "user_tz": -420
        },
        "id": "FCIJ2em7_HwN"
      },
      "outputs": [],
      "source": [
        "def download_csv_from_gcs(bucket, file_name,\n",
        "                          date_columns=None, col_names=None):\n",
        "    \"\"\" A function to download dataset from GCS. \"\"\"\n",
        "\n",
        "    blob = bucket.blob(file_name)\n",
        "    data = blob.download_as_text()\n",
        "    df = pd.read_csv(io.StringIO(data),\n",
        "                     parse_dates=date_columns,\n",
        "                     usecols=col_names)\n",
        "    return df"
      ]
    },
    {
      "cell_type": "code",
      "execution_count": 452,
      "id": "TKhLvLK__Hs1",
      "metadata": {
        "executionInfo": {
          "elapsed": 2,
          "status": "ok",
          "timestamp": 1730725266895,
          "user": {
            "displayName": "",
            "userId": ""
          },
          "user_tz": -420
        },
        "id": "TKhLvLK__Hs1"
      },
      "outputs": [],
      "source": []
    },
    {
      "cell_type": "code",
      "execution_count": 453,
      "id": "OME02_Hw_HoR",
      "metadata": {
        "executionInfo": {
          "elapsed": 2,
          "status": "ok",
          "timestamp": 1730725365528,
          "user": {
            "displayName": "",
            "userId": ""
          },
          "user_tz": -420
        },
        "id": "OME02_Hw_HoR"
      },
      "outputs": [],
      "source": [
        "# Create a client GCS and get the specified bucket\n",
        "client = storage.Client()\n",
        "bucket = client.get_bucket(BUCKET_NAME)"
      ]
    },
    {
      "cell_type": "code",
      "execution_count": 454,
      "id": "tOtb1Bp4_Hqn",
      "metadata": {
        "executionInfo": {
          "elapsed": 2903,
          "status": "ok",
          "timestamp": 1730725387754,
          "user": {
            "displayName": "",
            "userId": ""
          },
          "user_tz": -420
        },
        "id": "tOtb1Bp4_Hqn"
      },
      "outputs": [],
      "source": [
        "# Download the dataset from GCS\n",
        "reviews_df = download_csv_from_gcs(bucket, REVIEW_CSV)"
      ]
    },
    {
      "cell_type": "code",
      "execution_count": 455,
      "id": "oHaPw5RF_Hlz",
      "metadata": {
        "colab": {
          "base_uri": "https://localhost:8080/",
          "height": 380
        },
        "executionInfo": {
          "elapsed": 5,
          "status": "ok",
          "timestamp": 1730725387755,
          "user": {
            "displayName": "",
            "userId": ""
          },
          "user_tz": -420
        },
        "id": "oHaPw5RF_Hlz",
        "outputId": "e419b5d8-aa02-43fa-d86f-a848619371b5"
      },
      "outputs": [
        {
          "data": {
            "text/html": [
              "\n",
              "  <div id=\"df-1f01dfdc-f5af-4892-aee2-856f3f1543bd\" class=\"colab-df-container\">\n",
              "    <div>\n",
              "<style scoped>\n",
              "    .dataframe tbody tr th:only-of-type {\n",
              "        vertical-align: middle;\n",
              "    }\n",
              "\n",
              "    .dataframe tbody tr th {\n",
              "        vertical-align: top;\n",
              "    }\n",
              "\n",
              "    .dataframe thead th {\n",
              "        text-align: right;\n",
              "    }\n",
              "</style>\n",
              "<table border=\"1\" class=\"dataframe\">\n",
              "  <thead>\n",
              "    <tr style=\"text-align: right;\">\n",
              "      <th></th>\n",
              "      <th>business_id</th>\n",
              "      <th>user_id</th>\n",
              "      <th>time</th>\n",
              "      <th>text</th>\n",
              "    </tr>\n",
              "  </thead>\n",
              "  <tbody>\n",
              "    <tr>\n",
              "      <th>0</th>\n",
              "      <td>0x7954d184b450b1e7:0x4bee7e570ae07db8</td>\n",
              "      <td>109709907397075607894</td>\n",
              "      <td>1521793918433</td>\n",
              "      <td>Went their for a field trip. It was awesome! s...</td>\n",
              "    </tr>\n",
              "    <tr>\n",
              "      <th>1</th>\n",
              "      <td>0x7954d184b450b1e7:0x4bee7e570ae07db8</td>\n",
              "      <td>108968256029885805791</td>\n",
              "      <td>1574633258124</td>\n",
              "      <td>Nice interpretation center, hard to find the w...</td>\n",
              "    </tr>\n",
              "    <tr>\n",
              "      <th>2</th>\n",
              "      <td>0x7954d184b450b1e7:0x4bee7e570ae07db8</td>\n",
              "      <td>113167915373388818291</td>\n",
              "      <td>1583292550820</td>\n",
              "      <td>Great water birds!  Clean place and easy access!</td>\n",
              "    </tr>\n",
              "    <tr>\n",
              "      <th>3</th>\n",
              "      <td>0x7954d184b450b1e7:0x4bee7e570ae07db8</td>\n",
              "      <td>117153367922518677632</td>\n",
              "      <td>1528995771126</td>\n",
              "      <td>Be sure to stop by the visitors center first. ...</td>\n",
              "    </tr>\n",
              "    <tr>\n",
              "      <th>4</th>\n",
              "      <td>0x7954d184b450b1e7:0x4bee7e570ae07db8</td>\n",
              "      <td>112253051829957730666</td>\n",
              "      <td>1549652370655</td>\n",
              "      <td>Great outdoor excursion. Ponds next to the oce...</td>\n",
              "    </tr>\n",
              "  </tbody>\n",
              "</table>\n",
              "</div>\n",
              "    <div class=\"colab-df-buttons\">\n",
              "\n",
              "  <div class=\"colab-df-container\">\n",
              "    <button class=\"colab-df-convert\" onclick=\"convertToInteractive('df-1f01dfdc-f5af-4892-aee2-856f3f1543bd')\"\n",
              "            title=\"Convert this dataframe to an interactive table.\"\n",
              "            style=\"display:none;\">\n",
              "\n",
              "  <svg xmlns=\"http://www.w3.org/2000/svg\" height=\"24px\" viewBox=\"0 -960 960 960\">\n",
              "    <path d=\"M120-120v-720h720v720H120Zm60-500h600v-160H180v160Zm220 220h160v-160H400v160Zm0 220h160v-160H400v160ZM180-400h160v-160H180v160Zm440 0h160v-160H620v160ZM180-180h160v-160H180v160Zm440 0h160v-160H620v160Z\"/>\n",
              "  </svg>\n",
              "    </button>\n",
              "\n",
              "  <style>\n",
              "    .colab-df-container {\n",
              "      display:flex;\n",
              "      gap: 12px;\n",
              "    }\n",
              "\n",
              "    .colab-df-convert {\n",
              "      background-color: #E8F0FE;\n",
              "      border: none;\n",
              "      border-radius: 50%;\n",
              "      cursor: pointer;\n",
              "      display: none;\n",
              "      fill: #1967D2;\n",
              "      height: 32px;\n",
              "      padding: 0 0 0 0;\n",
              "      width: 32px;\n",
              "    }\n",
              "\n",
              "    .colab-df-convert:hover {\n",
              "      background-color: #E2EBFA;\n",
              "      box-shadow: 0px 1px 2px rgba(60, 64, 67, 0.3), 0px 1px 3px 1px rgba(60, 64, 67, 0.15);\n",
              "      fill: #174EA6;\n",
              "    }\n",
              "\n",
              "    .colab-df-buttons div {\n",
              "      margin-bottom: 4px;\n",
              "    }\n",
              "\n",
              "    [theme=dark] .colab-df-convert {\n",
              "      background-color: #3B4455;\n",
              "      fill: #D2E3FC;\n",
              "    }\n",
              "\n",
              "    [theme=dark] .colab-df-convert:hover {\n",
              "      background-color: #434B5C;\n",
              "      box-shadow: 0px 1px 3px 1px rgba(0, 0, 0, 0.15);\n",
              "      filter: drop-shadow(0px 1px 2px rgba(0, 0, 0, 0.3));\n",
              "      fill: #FFFFFF;\n",
              "    }\n",
              "  </style>\n",
              "\n",
              "    <script>\n",
              "      const buttonEl =\n",
              "        document.querySelector('#df-1f01dfdc-f5af-4892-aee2-856f3f1543bd button.colab-df-convert');\n",
              "      buttonEl.style.display =\n",
              "        google.colab.kernel.accessAllowed ? 'block' : 'none';\n",
              "\n",
              "      async function convertToInteractive(key) {\n",
              "        const element = document.querySelector('#df-1f01dfdc-f5af-4892-aee2-856f3f1543bd');\n",
              "        const dataTable =\n",
              "          await google.colab.kernel.invokeFunction('convertToInteractive',\n",
              "                                                    [key], {});\n",
              "        if (!dataTable) return;\n",
              "\n",
              "        const docLinkHtml = 'Like what you see? Visit the ' +\n",
              "          '<a target=\"_blank\" href=https://colab.research.google.com/notebooks/data_table.ipynb>data table notebook</a>'\n",
              "          + ' to learn more about interactive tables.';\n",
              "        element.innerHTML = '';\n",
              "        dataTable['output_type'] = 'display_data';\n",
              "        await google.colab.output.renderOutput(dataTable, element);\n",
              "        const docLink = document.createElement('div');\n",
              "        docLink.innerHTML = docLinkHtml;\n",
              "        element.appendChild(docLink);\n",
              "      }\n",
              "    </script>\n",
              "  </div>\n",
              "\n",
              "\n",
              "<div id=\"df-f89d59e8-2f32-428e-b62c-51b8dfb5669e\">\n",
              "  <button class=\"colab-df-quickchart\" onclick=\"quickchart('df-f89d59e8-2f32-428e-b62c-51b8dfb5669e')\"\n",
              "            title=\"Suggest charts\"\n",
              "            style=\"display:none;\">\n",
              "\n",
              "<svg xmlns=\"http://www.w3.org/2000/svg\" height=\"24px\"viewBox=\"0 0 24 24\"\n",
              "     width=\"24px\">\n",
              "    <g>\n",
              "        <path d=\"M19 3H5c-1.1 0-2 .9-2 2v14c0 1.1.9 2 2 2h14c1.1 0 2-.9 2-2V5c0-1.1-.9-2-2-2zM9 17H7v-7h2v7zm4 0h-2V7h2v10zm4 0h-2v-4h2v4z\"/>\n",
              "    </g>\n",
              "</svg>\n",
              "  </button>\n",
              "\n",
              "<style>\n",
              "  .colab-df-quickchart {\n",
              "      --bg-color: #E8F0FE;\n",
              "      --fill-color: #1967D2;\n",
              "      --hover-bg-color: #E2EBFA;\n",
              "      --hover-fill-color: #174EA6;\n",
              "      --disabled-fill-color: #AAA;\n",
              "      --disabled-bg-color: #DDD;\n",
              "  }\n",
              "\n",
              "  [theme=dark] .colab-df-quickchart {\n",
              "      --bg-color: #3B4455;\n",
              "      --fill-color: #D2E3FC;\n",
              "      --hover-bg-color: #434B5C;\n",
              "      --hover-fill-color: #FFFFFF;\n",
              "      --disabled-bg-color: #3B4455;\n",
              "      --disabled-fill-color: #666;\n",
              "  }\n",
              "\n",
              "  .colab-df-quickchart {\n",
              "    background-color: var(--bg-color);\n",
              "    border: none;\n",
              "    border-radius: 50%;\n",
              "    cursor: pointer;\n",
              "    display: none;\n",
              "    fill: var(--fill-color);\n",
              "    height: 32px;\n",
              "    padding: 0;\n",
              "    width: 32px;\n",
              "  }\n",
              "\n",
              "  .colab-df-quickchart:hover {\n",
              "    background-color: var(--hover-bg-color);\n",
              "    box-shadow: 0 1px 2px rgba(60, 64, 67, 0.3), 0 1px 3px 1px rgba(60, 64, 67, 0.15);\n",
              "    fill: var(--button-hover-fill-color);\n",
              "  }\n",
              "\n",
              "  .colab-df-quickchart-complete:disabled,\n",
              "  .colab-df-quickchart-complete:disabled:hover {\n",
              "    background-color: var(--disabled-bg-color);\n",
              "    fill: var(--disabled-fill-color);\n",
              "    box-shadow: none;\n",
              "  }\n",
              "\n",
              "  .colab-df-spinner {\n",
              "    border: 2px solid var(--fill-color);\n",
              "    border-color: transparent;\n",
              "    border-bottom-color: var(--fill-color);\n",
              "    animation:\n",
              "      spin 1s steps(1) infinite;\n",
              "  }\n",
              "\n",
              "  @keyframes spin {\n",
              "    0% {\n",
              "      border-color: transparent;\n",
              "      border-bottom-color: var(--fill-color);\n",
              "      border-left-color: var(--fill-color);\n",
              "    }\n",
              "    20% {\n",
              "      border-color: transparent;\n",
              "      border-left-color: var(--fill-color);\n",
              "      border-top-color: var(--fill-color);\n",
              "    }\n",
              "    30% {\n",
              "      border-color: transparent;\n",
              "      border-left-color: var(--fill-color);\n",
              "      border-top-color: var(--fill-color);\n",
              "      border-right-color: var(--fill-color);\n",
              "    }\n",
              "    40% {\n",
              "      border-color: transparent;\n",
              "      border-right-color: var(--fill-color);\n",
              "      border-top-color: var(--fill-color);\n",
              "    }\n",
              "    60% {\n",
              "      border-color: transparent;\n",
              "      border-right-color: var(--fill-color);\n",
              "    }\n",
              "    80% {\n",
              "      border-color: transparent;\n",
              "      border-right-color: var(--fill-color);\n",
              "      border-bottom-color: var(--fill-color);\n",
              "    }\n",
              "    90% {\n",
              "      border-color: transparent;\n",
              "      border-bottom-color: var(--fill-color);\n",
              "    }\n",
              "  }\n",
              "</style>\n",
              "\n",
              "  <script>\n",
              "    async function quickchart(key) {\n",
              "      const quickchartButtonEl =\n",
              "        document.querySelector('#' + key + ' button');\n",
              "      quickchartButtonEl.disabled = true;  // To prevent multiple clicks.\n",
              "      quickchartButtonEl.classList.add('colab-df-spinner');\n",
              "      try {\n",
              "        const charts = await google.colab.kernel.invokeFunction(\n",
              "            'suggestCharts', [key], {});\n",
              "      } catch (error) {\n",
              "        console.error('Error during call to suggestCharts:', error);\n",
              "      }\n",
              "      quickchartButtonEl.classList.remove('colab-df-spinner');\n",
              "      quickchartButtonEl.classList.add('colab-df-quickchart-complete');\n",
              "    }\n",
              "    (() => {\n",
              "      let quickchartButtonEl =\n",
              "        document.querySelector('#df-f89d59e8-2f32-428e-b62c-51b8dfb5669e button');\n",
              "      quickchartButtonEl.style.display =\n",
              "        google.colab.kernel.accessAllowed ? 'block' : 'none';\n",
              "    })();\n",
              "  </script>\n",
              "</div>\n",
              "    </div>\n",
              "  </div>\n"
            ],
            "text/plain": [
              "                             business_id                user_id  \\\n",
              "0  0x7954d184b450b1e7:0x4bee7e570ae07db8  109709907397075607894   \n",
              "1  0x7954d184b450b1e7:0x4bee7e570ae07db8  108968256029885805791   \n",
              "2  0x7954d184b450b1e7:0x4bee7e570ae07db8  113167915373388818291   \n",
              "3  0x7954d184b450b1e7:0x4bee7e570ae07db8  117153367922518677632   \n",
              "4  0x7954d184b450b1e7:0x4bee7e570ae07db8  112253051829957730666   \n",
              "\n",
              "            time                                               text  \n",
              "0  1521793918433  Went their for a field trip. It was awesome! s...  \n",
              "1  1574633258124  Nice interpretation center, hard to find the w...  \n",
              "2  1583292550820   Great water birds!  Clean place and easy access!  \n",
              "3  1528995771126  Be sure to stop by the visitors center first. ...  \n",
              "4  1549652370655  Great outdoor excursion. Ponds next to the oce...  "
            ]
          },
          "execution_count": 455,
          "metadata": {},
          "output_type": "execute_result"
        }
      ],
      "source": [
        "reviews_df.head()"
      ]
    },
    {
      "cell_type": "code",
      "execution_count": 456,
      "id": "vtVM8VzUaG6Q",
      "metadata": {
        "executionInfo": {
          "elapsed": 2,
          "status": "ok",
          "timestamp": 1730725421713,
          "user": {
            "displayName": "",
            "userId": ""
          },
          "user_tz": -420
        },
        "id": "vtVM8VzUaG6Q"
      },
      "outputs": [],
      "source": [
        "# Convert the `time` from 'ms' to datetime\n",
        "reviews_df[\"time\"] = pd.to_datetime(reviews_df[\"time\"], unit=\"ms\")"
      ]
    },
    {
      "cell_type": "code",
      "execution_count": 457,
      "id": "O2gmwiFvdiqO",
      "metadata": {
        "colab": {
          "base_uri": "https://localhost:8080/"
        },
        "executionInfo": {
          "elapsed": 3,
          "status": "ok",
          "timestamp": 1730725426127,
          "user": {
            "displayName": "",
            "userId": ""
          },
          "user_tz": -420
        },
        "id": "O2gmwiFvdiqO",
        "outputId": "3b090b5a-a602-4ff9-e391-eb9c98eef860"
      },
      "outputs": [
        {
          "name": "stdout",
          "output_type": "stream",
          "text": [
            "<class 'pandas.core.frame.DataFrame'>\n",
            "RangeIndex: 259581 entries, 0 to 259580\n",
            "Data columns (total 4 columns):\n",
            " #   Column       Non-Null Count   Dtype         \n",
            "---  ------       --------------   -----         \n",
            " 0   business_id  259581 non-null  object        \n",
            " 1   user_id      259581 non-null  object        \n",
            " 2   time         259581 non-null  datetime64[ns]\n",
            " 3   text         259579 non-null  object        \n",
            "dtypes: datetime64[ns](1), object(3)\n",
            "memory usage: 7.9+ MB\n"
          ]
        }
      ],
      "source": [
        "reviews_df.info()"
      ]
    },
    {
      "cell_type": "code",
      "execution_count": 458,
      "id": "KPRw9XI2_HjO",
      "metadata": {
        "colab": {
          "base_uri": "https://localhost:8080/",
          "height": 147
        },
        "executionInfo": {
          "elapsed": 4,
          "status": "ok",
          "timestamp": 1730725457034,
          "user": {
            "displayName": "",
            "userId": ""
          },
          "user_tz": -420
        },
        "id": "KPRw9XI2_HjO",
        "outputId": "afb394dc-5622-4709-8aec-c019a8257876"
      },
      "outputs": [
        {
          "data": {
            "text/html": [
              "<div>\n",
              "<style scoped>\n",
              "    .dataframe tbody tr th:only-of-type {\n",
              "        vertical-align: middle;\n",
              "    }\n",
              "\n",
              "    .dataframe tbody tr th {\n",
              "        vertical-align: top;\n",
              "    }\n",
              "\n",
              "    .dataframe thead th {\n",
              "        text-align: right;\n",
              "    }\n",
              "</style>\n",
              "<table border=\"1\" class=\"dataframe\">\n",
              "  <thead>\n",
              "    <tr style=\"text-align: right;\">\n",
              "      <th></th>\n",
              "      <th>0</th>\n",
              "    </tr>\n",
              "  </thead>\n",
              "  <tbody>\n",
              "    <tr>\n",
              "      <th>business_id</th>\n",
              "      <td>1235</td>\n",
              "    </tr>\n",
              "    <tr>\n",
              "      <th>user_id</th>\n",
              "      <td>127721</td>\n",
              "    </tr>\n",
              "  </tbody>\n",
              "</table>\n",
              "</div><br><label><b>dtype:</b> int64</label>"
            ],
            "text/plain": [
              "business_id      1235\n",
              "user_id        127721\n",
              "dtype: int64"
            ]
          },
          "execution_count": 458,
          "metadata": {},
          "output_type": "execute_result"
        }
      ],
      "source": [
        "# Count the number of unique businesses and users\n",
        "reviews_df[[\"business_id\", \"user_id\"]].nunique()"
      ]
    },
    {
      "cell_type": "code",
      "execution_count": 460,
      "id": "L3S0mNei3Kqz",
      "metadata": {
        "colab": {
          "base_uri": "https://localhost:8080/"
        },
        "executionInfo": {
          "elapsed": 4,
          "status": "ok",
          "timestamp": 1730725554004,
          "user": {
            "displayName": "",
            "userId": ""
          },
          "user_tz": -420
        },
        "id": "L3S0mNei3Kqz",
        "outputId": "8ed9ff5d-0511-4cd8-8f65-048dff2877fd"
      },
      "outputs": [
        {
          "data": {
            "text/plain": [
              "210"
            ]
          },
          "execution_count": 460,
          "metadata": {},
          "output_type": "execute_result"
        }
      ],
      "source": [
        "# Count the average number of reviews for each business\n",
        "int(reviews_df.groupby(\"business_id\")[\"text\"].count().mean())"
      ]
    },
    {
      "cell_type": "code",
      "execution_count": 461,
      "id": "Ujj8J11s4vrK",
      "metadata": {
        "colab": {
          "base_uri": "https://localhost:8080/",
          "height": 210
        },
        "executionInfo": {
          "elapsed": 4,
          "status": "ok",
          "timestamp": 1730725598073,
          "user": {
            "displayName": "",
            "userId": ""
          },
          "user_tz": -420
        },
        "id": "Ujj8J11s4vrK",
        "outputId": "801bf327-0ee4-420b-b780-f6faf5736526"
      },
      "outputs": [
        {
          "data": {
            "text/html": [
              "<div>\n",
              "<style scoped>\n",
              "    .dataframe tbody tr th:only-of-type {\n",
              "        vertical-align: middle;\n",
              "    }\n",
              "\n",
              "    .dataframe tbody tr th {\n",
              "        vertical-align: top;\n",
              "    }\n",
              "\n",
              "    .dataframe thead th {\n",
              "        text-align: right;\n",
              "    }\n",
              "</style>\n",
              "<table border=\"1\" class=\"dataframe\">\n",
              "  <thead>\n",
              "    <tr style=\"text-align: right;\">\n",
              "      <th></th>\n",
              "      <th>0</th>\n",
              "    </tr>\n",
              "  </thead>\n",
              "  <tbody>\n",
              "    <tr>\n",
              "      <th>business_id</th>\n",
              "      <td>0</td>\n",
              "    </tr>\n",
              "    <tr>\n",
              "      <th>user_id</th>\n",
              "      <td>0</td>\n",
              "    </tr>\n",
              "    <tr>\n",
              "      <th>time</th>\n",
              "      <td>0</td>\n",
              "    </tr>\n",
              "    <tr>\n",
              "      <th>text</th>\n",
              "      <td>2</td>\n",
              "    </tr>\n",
              "  </tbody>\n",
              "</table>\n",
              "</div><br><label><b>dtype:</b> int64</label>"
            ],
            "text/plain": [
              "business_id    0\n",
              "user_id        0\n",
              "time           0\n",
              "text           2\n",
              "dtype: int64"
            ]
          },
          "execution_count": 461,
          "metadata": {},
          "output_type": "execute_result"
        }
      ],
      "source": [
        "# Check the missing values\n",
        "reviews_df.isna().sum()"
      ]
    },
    {
      "cell_type": "code",
      "execution_count": 462,
      "id": "E1-0Q7Yt4zwW",
      "metadata": {
        "executionInfo": {
          "elapsed": 2,
          "status": "ok",
          "timestamp": 1730725603369,
          "user": {
            "displayName": "",
            "userId": ""
          },
          "user_tz": -420
        },
        "id": "E1-0Q7Yt4zwW"
      },
      "outputs": [],
      "source": [
        "# Dropt the missing values\n",
        "reviews_df.dropna(subset=\"text\", inplace=True)"
      ]
    },
    {
      "cell_type": "markdown",
      "id": "YZZDgQLAZ3Gp",
      "metadata": {
        "id": "YZZDgQLAZ3Gp"
      },
      "source": [
        "# Word2Vec Model"
      ]
    },
    {
      "cell_type": "markdown",
      "id": "X5mcb5rdT6C5",
      "metadata": {
        "id": "X5mcb5rdT6C5"
      },
      "source": [
        "In this section, we will train our own word embedding using Word2Vec with our restaurant dataset.\n",
        "\n",
        "From the original review dataset, we apply prepricessing such as cleaning, splitting into individual sentence, tokenization, and lemmatization.\n",
        "\n",
        "In the end, we obtain around 550k sentences to train our language model."
      ]
    },
    {
      "cell_type": "markdown",
      "id": "ej88z2ZtQAxy",
      "metadata": {
        "id": "ej88z2ZtQAxy"
      },
      "source": [
        "## Dataset Preparation"
      ]
    },
    {
      "cell_type": "code",
      "execution_count": 14,
      "id": "P_NvXNOUaOlj",
      "metadata": {
        "executionInfo": {
          "elapsed": 36547,
          "status": "ok",
          "timestamp": 1730678480847,
          "user": {
            "displayName": "",
            "userId": ""
          },
          "user_tz": -420
        },
        "id": "P_NvXNOUaOlj"
      },
      "outputs": [],
      "source": [
        "from langdetect import detect, DetectorFactory\n",
        "from transformers import pipeline\n",
        "\n",
        "import en_core_web_sm\n",
        "import re"
      ]
    },
    {
      "cell_type": "code",
      "execution_count": 15,
      "id": "I6vZfjOqnq85",
      "metadata": {
        "executionInfo": {
          "elapsed": 2036,
          "status": "ok",
          "timestamp": 1730678482880,
          "user": {
            "displayName": "",
            "userId": ""
          },
          "user_tz": -420
        },
        "id": "I6vZfjOqnq85"
      },
      "outputs": [],
      "source": [
        "spacy_nlp = en_core_web_sm.load()"
      ]
    },
    {
      "cell_type": "code",
      "execution_count": 467,
      "id": "cGrU4woL_Hgu",
      "metadata": {
        "executionInfo": {
          "elapsed": 3,
          "status": "ok",
          "timestamp": 1730726061311,
          "user": {
            "displayName": "",
            "userId": ""
          },
          "user_tz": -420
        },
        "id": "cGrU4woL_Hgu"
      },
      "outputs": [],
      "source": [
        "class ProcessDataset():\n",
        "    \"\"\"\n",
        "      A class for preprocessing Reviews data for training downstream models.\n",
        "      Preprocessing includes:\n",
        "        - clean, split, and expand setences,\n",
        "        - tokenize, lemmatize, and remove stop words from sentences\n",
        "    \"\"\"\n",
        "\n",
        "    def __init__(self, spacy_nlp):\n",
        "\n",
        "        self.nlp = spacy_nlp\n",
        "\n",
        "    def _clean_text(self, text):\n",
        "        \"\"\" Clean text from unnecessary tokens/substrings \"\"\"\n",
        "\n",
        "        # Remove emoji patterns\n",
        "        emoji_pattern = re.compile(\n",
        "            \"[\"\n",
        "            \"\\U0001F600-\\U0001F64F\"  # Emoticons\n",
        "            \"\\U0001F300-\\U0001F5FF\"  # Symbols & pictographs\n",
        "            \"\\U0001F680-\\U0001F6FF\"  # Transport & map symbols\n",
        "            \"\\U0001F1E0-\\U0001F1FF\"  # Flags (iOS)\n",
        "            \"\\U00002700-\\U000027BF\"  # Dingbats\n",
        "            \"\\U0001F900-\\U0001F9FF\"  # Supplemental Symbols and Pictographs\n",
        "            \"\\U00002600-\\U000026FF\"  # Misc symbols\n",
        "            \"\\U00002B50-\\U00002B59\"  # Stars\n",
        "            \"]+\", flags=re.UNICODE\n",
        "        )\n",
        "        text = emoji_pattern.sub(r\"\", text)\n",
        "\n",
        "        # Extracts text between '(Translated by Google)' and '(Original)'.\n",
        "        match = re.search(r\"\\(Translated by Google\\)(.+?)  \", text)\n",
        "        if match:\n",
        "            text = match.group(1)\n",
        "\n",
        "        return text\n",
        "\n",
        "    def _split_and_tokenize(self, text):\n",
        "        \"\"\"\n",
        "          Splits text into sentences using the spaCy model.\n",
        "          Also tokenize and lemmatize.\n",
        "        \"\"\"\n",
        "\n",
        "        sents = [sent for sent in self.nlp(text.lower()).sents if sent.text]\n",
        "\n",
        "        full_sents = [sent.text for sent in sents]\n",
        "\n",
        "        tokenized = [[ token.lemma_ for token in sent\n",
        "                    if token.is_alpha\n",
        "                     and (not token.is_stop)\n",
        "                     and (not token.is_punct) ] for sent in sents]\n",
        "        tokenized = [\" \".join(sent) for sent in tokenized]\n",
        "        # We do the above operation so that it can be exploded later\n",
        "\n",
        "        return full_sents, tokenized\n",
        "\n",
        "    def transform(self, dataset):\n",
        "        \"\"\" The main text processing function. \"\"\"\n",
        "\n",
        "        data = dataset.copy()\n",
        "\n",
        "        # Clean, split, and expand sentences\n",
        "        data[\"text\"] = data[\"text\"].apply(self._clean_text)\n",
        "        data.loc[:, [\"processed_text\", \"tokens\"]] = data[\"text\"].apply(\n",
        "            self._split_and_tokenize).apply(\n",
        "                lambda x: pd.Series(x, index=[\"processed_text\", \"tokens\"]))\n",
        "\n",
        "        data = data.explode([\"processed_text\", \"tokens\"]).reset_index(drop=True)\n",
        "        data = data[data[\"processed_text\"].str.len() >= 10]\n",
        "\n",
        "        data[\"tokens\"] = data[\"tokens\"].apply(lambda x: x.split())\n",
        "        data = data[data[\"tokens\"].apply(lambda x: len(x) >= 2)]\n",
        "\n",
        "        return data"
      ]
    },
    {
      "cell_type": "code",
      "execution_count": 468,
      "id": "l7FJ0Won_Hdr",
      "metadata": {
        "executionInfo": {
          "elapsed": 2068,
          "status": "ok",
          "timestamp": 1730726065007,
          "user": {
            "displayName": "",
            "userId": ""
          },
          "user_tz": -420
        },
        "id": "l7FJ0Won_Hdr"
      },
      "outputs": [],
      "source": [
        "data_processor = ProcessDataset(spacy_nlp)"
      ]
    },
    {
      "cell_type": "code",
      "execution_count": 470,
      "id": "1vdGnLQ9Tjm_",
      "metadata": {
        "executionInfo": {
          "elapsed": 1664,
          "status": "ok",
          "timestamp": 1730728618170,
          "user": {
            "displayName": "",
            "userId": ""
          },
          "user_tz": -420
        },
        "id": "1vdGnLQ9Tjm_"
      },
      "outputs": [],
      "source": [
        "processed_dataset = data_processor.transform(reviews_df.sample(100))"
      ]
    },
    {
      "cell_type": "code",
      "execution_count": 471,
      "id": "yoEGANozlovE",
      "metadata": {
        "colab": {
          "base_uri": "https://localhost:8080/",
          "height": 539
        },
        "executionInfo": {
          "elapsed": 3,
          "status": "ok",
          "timestamp": 1730728619940,
          "user": {
            "displayName": "",
            "userId": ""
          },
          "user_tz": -420
        },
        "id": "yoEGANozlovE",
        "outputId": "cb2a46e8-7e78-4879-99c6-ccfdd7e0b6c1"
      },
      "outputs": [
        {
          "data": {
            "text/html": [
              "\n",
              "  <div id=\"df-498172a4-9606-423e-a354-6d4d40044199\" class=\"colab-df-container\">\n",
              "    <div>\n",
              "<style scoped>\n",
              "    .dataframe tbody tr th:only-of-type {\n",
              "        vertical-align: middle;\n",
              "    }\n",
              "\n",
              "    .dataframe tbody tr th {\n",
              "        vertical-align: top;\n",
              "    }\n",
              "\n",
              "    .dataframe thead th {\n",
              "        text-align: right;\n",
              "    }\n",
              "</style>\n",
              "<table border=\"1\" class=\"dataframe\">\n",
              "  <thead>\n",
              "    <tr style=\"text-align: right;\">\n",
              "      <th></th>\n",
              "      <th>business_id</th>\n",
              "      <th>user_id</th>\n",
              "      <th>time</th>\n",
              "      <th>text</th>\n",
              "      <th>processed_text</th>\n",
              "      <th>tokens</th>\n",
              "    </tr>\n",
              "  </thead>\n",
              "  <tbody>\n",
              "    <tr>\n",
              "      <th>0</th>\n",
              "      <td>0x7c006f4309506633:0xb8c592a70d9c602c</td>\n",
              "      <td>103337304568968502574</td>\n",
              "      <td>2016-11-24 15:21:38.914</td>\n",
              "      <td>Went twice with my family growing up</td>\n",
              "      <td>went twice with my family growing up</td>\n",
              "      <td>[go, twice, family, grow]</td>\n",
              "    </tr>\n",
              "    <tr>\n",
              "      <th>1</th>\n",
              "      <td>0x7c00128bab113437:0x63ffd0979b5620cb</td>\n",
              "      <td>111676273773967615495</td>\n",
              "      <td>2018-06-14 08:06:02.687</td>\n",
              "      <td>Very good place to launch a jet ski</td>\n",
              "      <td>very good place to launch a jet ski</td>\n",
              "      <td>[good, place, launch, jet, ski]</td>\n",
              "    </tr>\n",
              "    <tr>\n",
              "      <th>3</th>\n",
              "      <td>0x7954b73425a04bd1:0x9c23fd88e8f5f4ca</td>\n",
              "      <td>108903954090738421114</td>\n",
              "      <td>2019-09-15 22:04:24.139</td>\n",
              "      <td>Stunning. Definitely layer up appropriately. W...</td>\n",
              "      <td>definitely layer up appropriately.</td>\n",
              "      <td>[definitely, layer, appropriately]</td>\n",
              "    </tr>\n",
              "    <tr>\n",
              "      <th>4</th>\n",
              "      <td>0x7954b73425a04bd1:0x9c23fd88e8f5f4ca</td>\n",
              "      <td>108903954090738421114</td>\n",
              "      <td>2019-09-15 22:04:24.139</td>\n",
              "      <td>Stunning. Definitely layer up appropriately. W...</td>\n",
              "      <td>we went from hiking shorts and t-shirts to swe...</td>\n",
              "      <td>[go, hiking, short, t, shirt, sweater, jacket,...</td>\n",
              "    </tr>\n",
              "    <tr>\n",
              "      <th>5</th>\n",
              "      <td>0x7954b73425a04bd1:0x9c23fd88e8f5f4ca</td>\n",
              "      <td>108903954090738421114</td>\n",
              "      <td>2019-09-15 22:04:24.139</td>\n",
              "      <td>Stunning. Definitely layer up appropriately. W...</td>\n",
              "      <td>bring lots of water, the air is pretty dry at ...</td>\n",
              "      <td>[bring, lot, water, air, pretty, dry, ft]</td>\n",
              "    </tr>\n",
              "  </tbody>\n",
              "</table>\n",
              "</div>\n",
              "    <div class=\"colab-df-buttons\">\n",
              "\n",
              "  <div class=\"colab-df-container\">\n",
              "    <button class=\"colab-df-convert\" onclick=\"convertToInteractive('df-498172a4-9606-423e-a354-6d4d40044199')\"\n",
              "            title=\"Convert this dataframe to an interactive table.\"\n",
              "            style=\"display:none;\">\n",
              "\n",
              "  <svg xmlns=\"http://www.w3.org/2000/svg\" height=\"24px\" viewBox=\"0 -960 960 960\">\n",
              "    <path d=\"M120-120v-720h720v720H120Zm60-500h600v-160H180v160Zm220 220h160v-160H400v160Zm0 220h160v-160H400v160ZM180-400h160v-160H180v160Zm440 0h160v-160H620v160ZM180-180h160v-160H180v160Zm440 0h160v-160H620v160Z\"/>\n",
              "  </svg>\n",
              "    </button>\n",
              "\n",
              "  <style>\n",
              "    .colab-df-container {\n",
              "      display:flex;\n",
              "      gap: 12px;\n",
              "    }\n",
              "\n",
              "    .colab-df-convert {\n",
              "      background-color: #E8F0FE;\n",
              "      border: none;\n",
              "      border-radius: 50%;\n",
              "      cursor: pointer;\n",
              "      display: none;\n",
              "      fill: #1967D2;\n",
              "      height: 32px;\n",
              "      padding: 0 0 0 0;\n",
              "      width: 32px;\n",
              "    }\n",
              "\n",
              "    .colab-df-convert:hover {\n",
              "      background-color: #E2EBFA;\n",
              "      box-shadow: 0px 1px 2px rgba(60, 64, 67, 0.3), 0px 1px 3px 1px rgba(60, 64, 67, 0.15);\n",
              "      fill: #174EA6;\n",
              "    }\n",
              "\n",
              "    .colab-df-buttons div {\n",
              "      margin-bottom: 4px;\n",
              "    }\n",
              "\n",
              "    [theme=dark] .colab-df-convert {\n",
              "      background-color: #3B4455;\n",
              "      fill: #D2E3FC;\n",
              "    }\n",
              "\n",
              "    [theme=dark] .colab-df-convert:hover {\n",
              "      background-color: #434B5C;\n",
              "      box-shadow: 0px 1px 3px 1px rgba(0, 0, 0, 0.15);\n",
              "      filter: drop-shadow(0px 1px 2px rgba(0, 0, 0, 0.3));\n",
              "      fill: #FFFFFF;\n",
              "    }\n",
              "  </style>\n",
              "\n",
              "    <script>\n",
              "      const buttonEl =\n",
              "        document.querySelector('#df-498172a4-9606-423e-a354-6d4d40044199 button.colab-df-convert');\n",
              "      buttonEl.style.display =\n",
              "        google.colab.kernel.accessAllowed ? 'block' : 'none';\n",
              "\n",
              "      async function convertToInteractive(key) {\n",
              "        const element = document.querySelector('#df-498172a4-9606-423e-a354-6d4d40044199');\n",
              "        const dataTable =\n",
              "          await google.colab.kernel.invokeFunction('convertToInteractive',\n",
              "                                                    [key], {});\n",
              "        if (!dataTable) return;\n",
              "\n",
              "        const docLinkHtml = 'Like what you see? Visit the ' +\n",
              "          '<a target=\"_blank\" href=https://colab.research.google.com/notebooks/data_table.ipynb>data table notebook</a>'\n",
              "          + ' to learn more about interactive tables.';\n",
              "        element.innerHTML = '';\n",
              "        dataTable['output_type'] = 'display_data';\n",
              "        await google.colab.output.renderOutput(dataTable, element);\n",
              "        const docLink = document.createElement('div');\n",
              "        docLink.innerHTML = docLinkHtml;\n",
              "        element.appendChild(docLink);\n",
              "      }\n",
              "    </script>\n",
              "  </div>\n",
              "\n",
              "\n",
              "<div id=\"df-906e70bc-2f4a-46ec-b200-b06a0abc347d\">\n",
              "  <button class=\"colab-df-quickchart\" onclick=\"quickchart('df-906e70bc-2f4a-46ec-b200-b06a0abc347d')\"\n",
              "            title=\"Suggest charts\"\n",
              "            style=\"display:none;\">\n",
              "\n",
              "<svg xmlns=\"http://www.w3.org/2000/svg\" height=\"24px\"viewBox=\"0 0 24 24\"\n",
              "     width=\"24px\">\n",
              "    <g>\n",
              "        <path d=\"M19 3H5c-1.1 0-2 .9-2 2v14c0 1.1.9 2 2 2h14c1.1 0 2-.9 2-2V5c0-1.1-.9-2-2-2zM9 17H7v-7h2v7zm4 0h-2V7h2v10zm4 0h-2v-4h2v4z\"/>\n",
              "    </g>\n",
              "</svg>\n",
              "  </button>\n",
              "\n",
              "<style>\n",
              "  .colab-df-quickchart {\n",
              "      --bg-color: #E8F0FE;\n",
              "      --fill-color: #1967D2;\n",
              "      --hover-bg-color: #E2EBFA;\n",
              "      --hover-fill-color: #174EA6;\n",
              "      --disabled-fill-color: #AAA;\n",
              "      --disabled-bg-color: #DDD;\n",
              "  }\n",
              "\n",
              "  [theme=dark] .colab-df-quickchart {\n",
              "      --bg-color: #3B4455;\n",
              "      --fill-color: #D2E3FC;\n",
              "      --hover-bg-color: #434B5C;\n",
              "      --hover-fill-color: #FFFFFF;\n",
              "      --disabled-bg-color: #3B4455;\n",
              "      --disabled-fill-color: #666;\n",
              "  }\n",
              "\n",
              "  .colab-df-quickchart {\n",
              "    background-color: var(--bg-color);\n",
              "    border: none;\n",
              "    border-radius: 50%;\n",
              "    cursor: pointer;\n",
              "    display: none;\n",
              "    fill: var(--fill-color);\n",
              "    height: 32px;\n",
              "    padding: 0;\n",
              "    width: 32px;\n",
              "  }\n",
              "\n",
              "  .colab-df-quickchart:hover {\n",
              "    background-color: var(--hover-bg-color);\n",
              "    box-shadow: 0 1px 2px rgba(60, 64, 67, 0.3), 0 1px 3px 1px rgba(60, 64, 67, 0.15);\n",
              "    fill: var(--button-hover-fill-color);\n",
              "  }\n",
              "\n",
              "  .colab-df-quickchart-complete:disabled,\n",
              "  .colab-df-quickchart-complete:disabled:hover {\n",
              "    background-color: var(--disabled-bg-color);\n",
              "    fill: var(--disabled-fill-color);\n",
              "    box-shadow: none;\n",
              "  }\n",
              "\n",
              "  .colab-df-spinner {\n",
              "    border: 2px solid var(--fill-color);\n",
              "    border-color: transparent;\n",
              "    border-bottom-color: var(--fill-color);\n",
              "    animation:\n",
              "      spin 1s steps(1) infinite;\n",
              "  }\n",
              "\n",
              "  @keyframes spin {\n",
              "    0% {\n",
              "      border-color: transparent;\n",
              "      border-bottom-color: var(--fill-color);\n",
              "      border-left-color: var(--fill-color);\n",
              "    }\n",
              "    20% {\n",
              "      border-color: transparent;\n",
              "      border-left-color: var(--fill-color);\n",
              "      border-top-color: var(--fill-color);\n",
              "    }\n",
              "    30% {\n",
              "      border-color: transparent;\n",
              "      border-left-color: var(--fill-color);\n",
              "      border-top-color: var(--fill-color);\n",
              "      border-right-color: var(--fill-color);\n",
              "    }\n",
              "    40% {\n",
              "      border-color: transparent;\n",
              "      border-right-color: var(--fill-color);\n",
              "      border-top-color: var(--fill-color);\n",
              "    }\n",
              "    60% {\n",
              "      border-color: transparent;\n",
              "      border-right-color: var(--fill-color);\n",
              "    }\n",
              "    80% {\n",
              "      border-color: transparent;\n",
              "      border-right-color: var(--fill-color);\n",
              "      border-bottom-color: var(--fill-color);\n",
              "    }\n",
              "    90% {\n",
              "      border-color: transparent;\n",
              "      border-bottom-color: var(--fill-color);\n",
              "    }\n",
              "  }\n",
              "</style>\n",
              "\n",
              "  <script>\n",
              "    async function quickchart(key) {\n",
              "      const quickchartButtonEl =\n",
              "        document.querySelector('#' + key + ' button');\n",
              "      quickchartButtonEl.disabled = true;  // To prevent multiple clicks.\n",
              "      quickchartButtonEl.classList.add('colab-df-spinner');\n",
              "      try {\n",
              "        const charts = await google.colab.kernel.invokeFunction(\n",
              "            'suggestCharts', [key], {});\n",
              "      } catch (error) {\n",
              "        console.error('Error during call to suggestCharts:', error);\n",
              "      }\n",
              "      quickchartButtonEl.classList.remove('colab-df-spinner');\n",
              "      quickchartButtonEl.classList.add('colab-df-quickchart-complete');\n",
              "    }\n",
              "    (() => {\n",
              "      let quickchartButtonEl =\n",
              "        document.querySelector('#df-906e70bc-2f4a-46ec-b200-b06a0abc347d button');\n",
              "      quickchartButtonEl.style.display =\n",
              "        google.colab.kernel.accessAllowed ? 'block' : 'none';\n",
              "    })();\n",
              "  </script>\n",
              "</div>\n",
              "    </div>\n",
              "  </div>\n"
            ],
            "text/plain": [
              "                             business_id                user_id  \\\n",
              "0  0x7c006f4309506633:0xb8c592a70d9c602c  103337304568968502574   \n",
              "1  0x7c00128bab113437:0x63ffd0979b5620cb  111676273773967615495   \n",
              "3  0x7954b73425a04bd1:0x9c23fd88e8f5f4ca  108903954090738421114   \n",
              "4  0x7954b73425a04bd1:0x9c23fd88e8f5f4ca  108903954090738421114   \n",
              "5  0x7954b73425a04bd1:0x9c23fd88e8f5f4ca  108903954090738421114   \n",
              "\n",
              "                     time                                               text  \\\n",
              "0 2016-11-24 15:21:38.914               Went twice with my family growing up   \n",
              "1 2018-06-14 08:06:02.687                Very good place to launch a jet ski   \n",
              "3 2019-09-15 22:04:24.139  Stunning. Definitely layer up appropriately. W...   \n",
              "4 2019-09-15 22:04:24.139  Stunning. Definitely layer up appropriately. W...   \n",
              "5 2019-09-15 22:04:24.139  Stunning. Definitely layer up appropriately. W...   \n",
              "\n",
              "                                      processed_text  \\\n",
              "0               went twice with my family growing up   \n",
              "1                very good place to launch a jet ski   \n",
              "3                 definitely layer up appropriately.   \n",
              "4  we went from hiking shorts and t-shirts to swe...   \n",
              "5  bring lots of water, the air is pretty dry at ...   \n",
              "\n",
              "                                              tokens  \n",
              "0                          [go, twice, family, grow]  \n",
              "1                    [good, place, launch, jet, ski]  \n",
              "3                 [definitely, layer, appropriately]  \n",
              "4  [go, hiking, short, t, shirt, sweater, jacket,...  \n",
              "5          [bring, lot, water, air, pretty, dry, ft]  "
            ]
          },
          "execution_count": 471,
          "metadata": {},
          "output_type": "execute_result"
        }
      ],
      "source": [
        "processed_dataset.head()"
      ]
    },
    {
      "cell_type": "code",
      "execution_count": 473,
      "id": "vyoa7edGpAb3",
      "metadata": {
        "colab": {
          "base_uri": "https://localhost:8080/"
        },
        "executionInfo": {
          "elapsed": 1238,
          "status": "ok",
          "timestamp": 1730728673941,
          "user": {
            "displayName": "",
            "userId": ""
          },
          "user_tz": -420
        },
        "id": "vyoa7edGpAb3",
        "outputId": "e418eedf-30e9-4a5a-a56b-412e56bcf525"
      },
      "outputs": [
        {
          "name": "stdout",
          "output_type": "stream",
          "text": [
            "<class 'pandas.core.frame.DataFrame'>\n",
            "Index: 213 entries, 0 to 233\n",
            "Data columns (total 6 columns):\n",
            " #   Column          Non-Null Count  Dtype         \n",
            "---  ------          --------------  -----         \n",
            " 0   business_id     213 non-null    object        \n",
            " 1   user_id         213 non-null    object        \n",
            " 2   time            213 non-null    datetime64[ns]\n",
            " 3   text            213 non-null    object        \n",
            " 4   processed_text  213 non-null    object        \n",
            " 5   tokens          213 non-null    object        \n",
            "dtypes: datetime64[ns](1), object(5)\n",
            "memory usage: 11.6+ KB\n"
          ]
        }
      ],
      "source": [
        "processed_dataset.info()"
      ]
    },
    {
      "cell_type": "markdown",
      "id": "plYfhF5-RvC3",
      "metadata": {
        "id": "plYfhF5-RvC3"
      },
      "source": [
        "## Training"
      ]
    },
    {
      "cell_type": "code",
      "execution_count": 20,
      "id": "Y_wuxYQFRxGI",
      "metadata": {
        "executionInfo": {
          "elapsed": 441,
          "status": "ok",
          "timestamp": 1730681662357,
          "user": {
            "displayName": "",
            "userId": ""
          },
          "user_tz": -420
        },
        "id": "Y_wuxYQFRxGI"
      },
      "outputs": [],
      "source": [
        "from gensim.models import Word2Vec"
      ]
    },
    {
      "cell_type": "code",
      "execution_count": 474,
      "id": "F52WcDQAR5ZI",
      "metadata": {
        "executionInfo": {
          "elapsed": 1274,
          "status": "ok",
          "timestamp": 1730728683408,
          "user": {
            "displayName": "",
            "userId": ""
          },
          "user_tz": -420
        },
        "id": "F52WcDQAR5ZI"
      },
      "outputs": [],
      "source": [
        "model_w2v = Word2Vec(processed_dataset[\"tokens\"], vector_size=300, window=1, min_count=1, workers=4)"
      ]
    },
    {
      "cell_type": "code",
      "execution_count": null,
      "id": "X5tlR8TDU6fi",
      "metadata": {
        "executionInfo": {
          "elapsed": 6,
          "status": "aborted",
          "timestamp": 1730727623849,
          "user": {
            "displayName": "",
            "userId": ""
          },
          "user_tz": -420
        },
        "id": "X5tlR8TDU6fi"
      },
      "outputs": [],
      "source": [
        "# Save model to GCS for future access\n",
        "timestamp = datetime.now().strftime(\"%d%m%H\")\n",
        "\n",
        "model_w2v.save(f\"word2vec_amazon_reviews-{timestamp}\")"
      ]
    },
    {
      "cell_type": "code",
      "execution_count": null,
      "id": "Z7-l2HKsVL71",
      "metadata": {
        "id": "Z7-l2HKsVL71"
      },
      "outputs": [],
      "source": [
        "!gsutil cp \"word2vec_amazon_reviews\"* \"gs://customer_review_hawaii/models/\"\n",
        "!rm \"word2vec_amazon_reviews\"*"
      ]
    },
    {
      "cell_type": "markdown",
      "id": "uM3o4EnNTtfH",
      "metadata": {
        "id": "uM3o4EnNTtfH"
      },
      "source": [
        "# Autoencoder for Dimensionality Reduction"
      ]
    },
    {
      "cell_type": "markdown",
      "id": "Dhw7N0oiWWaJ",
      "metadata": {
        "id": "Dhw7N0oiWWaJ"
      },
      "source": [
        "In this section, we *merge* the Word2Vec embedding with the one generated by `SentenceTransformers`.\n",
        "\n",
        "Next, we train an autoencoder model to reduce the dimensionality of our combined embeddings, as in theory it can effectively handles complex, non-linear relationships that traditional linear methods like PCA may not fully capture.\n",
        "\n",
        "Before training the autoencoder, we apply PCA to determine the optimal dimensionality required to retain sufficient information from the embeddings, providing a basis for comparison between the autoencoder and PCA."
      ]
    },
    {
      "cell_type": "markdown",
      "id": "6RpilVfXmZya",
      "metadata": {
        "id": "6RpilVfXmZya"
      },
      "source": [
        "## Dataset preparation"
      ]
    },
    {
      "cell_type": "code",
      "execution_count": 145,
      "id": "_Til0qd-W3K0",
      "metadata": {
        "executionInfo": {
          "elapsed": 2,
          "status": "ok",
          "timestamp": 1730703994992,
          "user": {
            "displayName": "",
            "userId": ""
          },
          "user_tz": -420
        },
        "id": "_Til0qd-W3K0"
      },
      "outputs": [],
      "source": [
        "from sentence_transformers import SentenceTransformer\n",
        "from sklearn.base import BaseEstimator, TransformerMixin\n",
        "from sklearn.decomposition import PCA\n",
        "from skorch import NeuralNet\n",
        "from torch.utils.data import Dataset, DataLoader\n",
        "from tqdm import tqdm\n",
        "\n",
        "import torch\n",
        "import torch.nn as nn\n",
        "import torch.optim as optim"
      ]
    },
    {
      "cell_type": "code",
      "execution_count": 477,
      "id": "TuTcyOYjT2nl",
      "metadata": {
        "colab": {
          "base_uri": "https://localhost:8080/"
        },
        "executionInfo": {
          "elapsed": 1325,
          "status": "ok",
          "timestamp": 1730728824670,
          "user": {
            "displayName": "",
            "userId": ""
          },
          "user_tz": -420
        },
        "id": "TuTcyOYjT2nl",
        "outputId": "012a70c5-dd3e-4d2c-9ab1-bd62abf1009b"
      },
      "outputs": [
        {
          "name": "stderr",
          "output_type": "stream",
          "text": [
            "/usr/local/lib/python3.10/dist-packages/transformers/tokenization_utils_base.py:1601: FutureWarning: `clean_up_tokenization_spaces` was not set. It will be set to `True` by default. This behavior will be depracted in transformers v4.45, and will be then set to `False` by default. For more details check this issue: https://github.com/huggingface/transformers/issues/31884\n",
            "  warnings.warn(\n"
          ]
        }
      ],
      "source": [
        "model_llm = SentenceTransformer(\"sentence-transformers/all-MiniLM-L6-v2\")"
      ]
    },
    {
      "cell_type": "code",
      "execution_count": 489,
      "id": "q6LxzXz4bpkl",
      "metadata": {
        "executionInfo": {
          "elapsed": 2,
          "status": "ok",
          "timestamp": 1730729022908,
          "user": {
            "displayName": "",
            "userId": ""
          },
          "user_tz": -420
        },
        "id": "q6LxzXz4bpkl"
      },
      "outputs": [],
      "source": [
        "class AutoEncoderDataset(Dataset):\n",
        "    def __init__(self, dataset, model_wv, model_llm, source=\"mix\"):\n",
        "        self.model_llm = model_llm\n",
        "        self.model_wv = model_wv\n",
        "        self.vocab_wv = model_wv.wv.index_to_key\n",
        "\n",
        "        self.data = dataset.copy()\n",
        "        self.data[\"w2v\"] = self.data[\"processed_text\"].apply(self._get_word_vector)\n",
        "        self.data[\"llm\"] = self.data[\"processed_text\"].apply(self.model_llm.encode)\n",
        "\n",
        "        assert source in [\"w2v\", \"llm\", \"mix\"]\n",
        "        self.source = source\n",
        "\n",
        "    def __len__(self):\n",
        "        return len(self.data)\n",
        "\n",
        "    def _get_word_vector(self, sentence):\n",
        "        words = [w for w in sentence.strip().split()]\n",
        "\n",
        "        wv = [self.model_wv.wv[w] for w in words if w in self.vocab_wv]\n",
        "        if wv:\n",
        "            wv_mean = np.array(wv).mean(axis=0)\n",
        "        else:\n",
        "            wv_mean = np.zeros((100))\n",
        "\n",
        "        return wv_mean\n",
        "\n",
        "    def get_feature_dim(self):\n",
        "        return len(self.__getitem__(0))\n",
        "\n",
        "    def get_dataset(self):\n",
        "        return self.data\n",
        "\n",
        "    def get_full_wordvec(self):\n",
        "        if self.source == \"w2v\":\n",
        "            return self.data[\"w2v\"]\n",
        "        elif self.source == \"llm\":\n",
        "            return self.data[\"llm\"]\n",
        "        else:\n",
        "            return self.data[[\"w2v\", \"llm\"]].apply(lambda x: np.hstack(x.values),\n",
        "                                                   axis=1)\n",
        "\n",
        "    def __getitem__(self, idx):\n",
        "        data = self.data.iloc[idx, :]\n",
        "\n",
        "        wv_mean = data[\"w2v\"]\n",
        "        embed = data[\"llm\"]\n",
        "\n",
        "        # Return the dataset according to wordvecs' source\n",
        "        if self.source == \"w2v\":\n",
        "            return torch.tensor(wv_mean, dtype=torch.float32)\n",
        "        elif self.source == \"llm\":\n",
        "            return torch.tensor(embed, dtype=torch.float32)\n",
        "        else:\n",
        "            return torch.tensor(np.hstack([wv_mean, embed]),\n",
        "                                dtype=torch.float32)\n"
      ]
    },
    {
      "cell_type": "code",
      "execution_count": 500,
      "id": "CiU5AMMdi-a5",
      "metadata": {
        "executionInfo": {
          "elapsed": 2615,
          "status": "ok",
          "timestamp": 1730729119130,
          "user": {
            "displayName": "",
            "userId": ""
          },
          "user_tz": -420
        },
        "id": "CiU5AMMdi-a5"
      },
      "outputs": [],
      "source": [
        "sample_100k = processed_dataset.sample(100, random_state=2024)\n",
        "dataset_ae = AutoEncoderDataset(sample_100k,\n",
        "                                model_w2v,\n",
        "                                model_llm,\n",
        "                                source=\"llm\")"
      ]
    },
    {
      "cell_type": "code",
      "execution_count": 501,
      "id": "r5j3Il4Ja7fz",
      "metadata": {
        "executionInfo": {
          "elapsed": 2,
          "status": "ok",
          "timestamp": 1730729119130,
          "user": {
            "displayName": "",
            "userId": ""
          },
          "user_tz": -420
        },
        "id": "r5j3Il4Ja7fz"
      },
      "outputs": [],
      "source": [
        "full_wordvec = dataset_ae.get_full_wordvec()"
      ]
    },
    {
      "cell_type": "code",
      "execution_count": 502,
      "id": "vlTUlEkUfTHo",
      "metadata": {
        "colab": {
          "base_uri": "https://localhost:8080/"
        },
        "executionInfo": {
          "elapsed": 1228,
          "status": "ok",
          "timestamp": 1730729133654,
          "user": {
            "displayName": "",
            "userId": ""
          },
          "user_tz": -420
        },
        "id": "vlTUlEkUfTHo",
        "outputId": "171a7431-c2d5-4113-9f35-aed008172652"
      },
      "outputs": [
        {
          "data": {
            "text/plain": [
              "(384,)"
            ]
          },
          "execution_count": 502,
          "metadata": {},
          "output_type": "execute_result"
        }
      ],
      "source": [
        "full_wordvec.iloc[0].shape"
      ]
    },
    {
      "cell_type": "markdown",
      "id": "wKUEF5WWvjuU",
      "metadata": {
        "id": "wKUEF5WWvjuU"
      },
      "source": [
        "## Determine the size of the latent vars"
      ]
    },
    {
      "cell_type": "markdown",
      "id": "cTMFHnVcyLx1",
      "metadata": {
        "id": "cTMFHnVcyLx1"
      },
      "source": [
        "To determine the size of the latent variables, we estimate it using PCA.\n",
        "\n",
        "However, due to the size of our dataset, we only use a fraction of it for this analysis. We tested PCA with several fractions of the dataset and found that a 100-dimensions vector is sufficient to capture 98% of the total variance."
      ]
    },
    {
      "cell_type": "code",
      "execution_count": 513,
      "id": "VG5mNz3vhd3C",
      "metadata": {
        "executionInfo": {
          "elapsed": 1,
          "status": "ok",
          "timestamp": 1730729404446,
          "user": {
            "displayName": "",
            "userId": ""
          },
          "user_tz": -420
        },
        "id": "VG5mNz3vhd3C"
      },
      "outputs": [],
      "source": [
        "cumulative_vars = {}\n",
        "for f in [.1, .3]:\n",
        "    sample_len = int(f*len(full_wordvec))\n",
        "    X_subset = full_wordvec.sample(sample_len, random_state=2024)\n",
        "    X_subset = np.vstack(X_subset.values)\n",
        "\n",
        "    pca = PCA()\n",
        "    pca.fit(X_subset)\n",
        "    cumulative_vars[f] = np.cumsum(pca.explained_variance_ratio_)"
      ]
    },
    {
      "cell_type": "code",
      "execution_count": 514,
      "id": "2r7QGReHgm6Q",
      "metadata": {
        "colab": {
          "base_uri": "https://localhost:8080/"
        },
        "executionInfo": {
          "elapsed": 2,
          "status": "ok",
          "timestamp": 1730729411464,
          "user": {
            "displayName": "",
            "userId": ""
          },
          "user_tz": -420
        },
        "id": "2r7QGReHgm6Q",
        "outputId": "3a6478e7-5610-4e06-fb80-d00488ce45dc"
      },
      "outputs": [
        {
          "data": {
            "text/plain": [
              "{0.1: array([0.1735438 , 0.3252003 , 0.46562293, 0.57443386, 0.67813617,\n",
              "        0.7735233 , 0.86048883, 0.9339694 , 1.        , 1.        ],\n",
              "       dtype=float32),\n",
              " 0.3: array([0.10898483, 0.18409833, 0.25152448, 0.31464347, 0.37339377,\n",
              "        0.42180645, 0.46933395, 0.5126991 , 0.55329597, 0.5900661 ,\n",
              "        0.6254321 , 0.65939033, 0.69083256, 0.71995485, 0.7469614 ,\n",
              "        0.7732771 , 0.7988464 , 0.822934  , 0.8456104 , 0.8672795 ,\n",
              "        0.88832945, 0.9079746 , 0.92594796, 0.9417274 , 0.9556282 ,\n",
              "        0.9687686 , 0.98158205, 0.9916443 , 0.99999994, 0.99999994],\n",
              "       dtype=float32)}"
            ]
          },
          "execution_count": 514,
          "metadata": {},
          "output_type": "execute_result"
        }
      ],
      "source": [
        "cumulative_vars"
      ]
    },
    {
      "cell_type": "markdown",
      "id": "9NzBapglomGx",
      "metadata": {
        "id": "9NzBapglomGx"
      },
      "source": [
        " Here, we apply PCA to estimate the dimensionality of the latent variable."
      ]
    },
    {
      "cell_type": "code",
      "execution_count": null,
      "id": "nBsvMvjEmLKf",
      "metadata": {
        "id": "nBsvMvjEmLKf"
      },
      "outputs": [],
      "source": [
        "# plot the cummulative variance with different dataset sizes\n",
        "colors = ['red', 'green', 'blue']\n",
        "\n",
        "cumulative_vars_df = pd.DataFrame(cumulative_vars)\n",
        "cumulative_vars_df.plot(color=colors)\n",
        "plt.xlim(0, 100)\n",
        "\n",
        "threshold = 0.98\n",
        "least_n = cumulative_vars_df.apply(lambda x: np.argmax(x >= threshold) + 1)\n",
        "for idx, n in enumerate(least_n):\n",
        "    plt.axvline(x=n, linestyle='--', color=colors[idx], label=n)"
      ]
    },
    {
      "cell_type": "markdown",
      "id": "-x1XmwPBvrx8",
      "metadata": {
        "id": "-x1XmwPBvrx8"
      },
      "source": [
        "We can see from the plot above that the number to get at least 95% variance from the original data need around 80 dimension.\n",
        "\n",
        "With this information, we will train autoencoder accordingly."
      ]
    },
    {
      "cell_type": "markdown",
      "id": "c3etzk3Lwkwq",
      "metadata": {
        "id": "c3etzk3Lwkwq"
      },
      "source": [
        "## Autoencoder training"
      ]
    },
    {
      "cell_type": "code",
      "execution_count": 516,
      "id": "fOgbtMPOXbuz",
      "metadata": {
        "executionInfo": {
          "elapsed": 4,
          "status": "ok",
          "timestamp": 1730729468913,
          "user": {
            "displayName": "",
            "userId": ""
          },
          "user_tz": -420
        },
        "id": "fOgbtMPOXbuz"
      },
      "outputs": [],
      "source": [
        "class Autoencoder(BaseEstimator, TransformerMixin, nn.Module):\n",
        "    def __init__(self,\n",
        "                 input_dim,\n",
        "                 hidden_dim,\n",
        "                 latent_dim,\n",
        "                 lr=1e-4,\n",
        "                 epochs=1,\n",
        "                 batch_size=256):\n",
        "\n",
        "        super().__init__()\n",
        "        self.input_dim = input_dim\n",
        "        self.hidden_dim = hidden_dim\n",
        "        self.latent_dim = latent_dim\n",
        "        self.lr = lr\n",
        "        self.epochs = epochs\n",
        "        self.batch_size = batch_size\n",
        "\n",
        "        # Encoder\n",
        "        self.encoder = nn.Sequential(\n",
        "            nn.Linear(input_dim, hidden_dim),\n",
        "            nn.LeakyReLU(),\n",
        "            nn.Linear(hidden_dim, latent_dim)\n",
        "        )\n",
        "\n",
        "        # Decoder\n",
        "        self.decoder = nn.Sequential(\n",
        "            nn.Linear(latent_dim, hidden_dim),\n",
        "            nn.LeakyReLU(),\n",
        "            nn.Linear(hidden_dim, input_dim),\n",
        "            nn.Sigmoid()  # Output range [0,1]\n",
        "        )\n",
        "\n",
        "    def forward(self, X):\n",
        "        encoded = self.encoder(X)\n",
        "        decoded = self.decoder(encoded)\n",
        "        return decoded\n",
        "\n",
        "    def encode(self, X):\n",
        "        return self.encoder(X)\n",
        "\n",
        "    def fit(self, X):\n",
        "        dataloader = DataLoader(X, batch_size=self.batch_size, shuffle=True)\n",
        "\n",
        "        # Define optimizer and loss function\n",
        "        criterion = nn.MSELoss()\n",
        "        optimizer = optim.Adam(self.parameters(), lr=self.lr)\n",
        "\n",
        "        # Training loop\n",
        "        self.train()\n",
        "        for epoch in range(self.epochs):\n",
        "            losses = 0\n",
        "            with tqdm(total=len(dataloader),\n",
        "                      desc=f\"Epoch {epoch + 1}\", unit=\"batch\") as pbar:\n",
        "\n",
        "                for X_batch in dataloader:\n",
        "                    # Forward pass\n",
        "                    reconstructed_X = self.forward(X_batch)\n",
        "                    loss = criterion(reconstructed_X, X_batch)\n",
        "\n",
        "                    # Backward pass and optimize\n",
        "                    optimizer.zero_grad()\n",
        "                    loss.backward()\n",
        "                    optimizer.step()\n",
        "\n",
        "                    losses += loss.item()\n",
        "\n",
        "                    pbar.set_postfix({'Loss': loss.item()})\n",
        "                    pbar.update(1)\n",
        "\n",
        "                print(f\"Epoch {epoch + 1}/{self.epochs}, Loss: {(losses/len(dataloader)):.3f}\")\n",
        "\n",
        "        return self\n",
        "\n",
        "    def transform(self, X):\n",
        "        # Switch to evaluation mode and encode\n",
        "        self.eval()\n",
        "\n",
        "        dataloader = DataLoader(X, batch_size=len(X), shuffle=True)\n",
        "        for X_batch in dataloader:\n",
        "            with torch.no_grad():\n",
        "                encoded = self.encode(X_batch).cpu().numpy()\n",
        "        return encoded\n",
        "\n",
        "    def predict(self, X):\n",
        "        # This is used for reconstruction\n",
        "        self.eval()\n",
        "\n",
        "        dataloader = DataLoader(X, batch_size=len(X), shuffle=True)\n",
        "        for X_batch in dataloader:\n",
        "            with torch.no_grad():\n",
        "                reconstructed = self.forward(X_batch).cpu().numpy()\n",
        "        return reconstructed"
      ]
    },
    {
      "cell_type": "code",
      "execution_count": 518,
      "id": "DBtPZxsCgPD4",
      "metadata": {
        "executionInfo": {
          "elapsed": 2,
          "status": "ok",
          "timestamp": 1730729491524,
          "user": {
            "displayName": "",
            "userId": ""
          },
          "user_tz": -420
        },
        "id": "DBtPZxsCgPD4"
      },
      "outputs": [],
      "source": [
        "input_dim = dataset_ae.get_feature_dim()\n",
        "hidden_dim = 1024\n",
        "latent_dim = 100"
      ]
    },
    {
      "cell_type": "code",
      "execution_count": 519,
      "id": "7YfwmHhs8BaM",
      "metadata": {
        "executionInfo": {
          "elapsed": 1236,
          "status": "ok",
          "timestamp": 1730729502982,
          "user": {
            "displayName": "",
            "userId": ""
          },
          "user_tz": -420
        },
        "id": "7YfwmHhs8BaM"
      },
      "outputs": [],
      "source": [
        "model_ae = Autoencoder(input_dim=input_dim,\n",
        "                  hidden_dim=hidden_dim,\n",
        "                  latent_dim=latent_dim,\n",
        "                  lr=1e-4,\n",
        "                  epochs=1,\n",
        "                  batch_size=256)"
      ]
    },
    {
      "cell_type": "code",
      "execution_count": 520,
      "id": "OqrFpcc2kp1N",
      "metadata": {
        "colab": {
          "base_uri": "https://localhost:8080/",
          "height": 115
        },
        "executionInfo": {
          "elapsed": 4,
          "status": "ok",
          "timestamp": 1730729502983,
          "user": {
            "displayName": "",
            "userId": ""
          },
          "user_tz": -420
        },
        "id": "OqrFpcc2kp1N",
        "outputId": "060e59fc-d3b0-4b7c-b5ae-4d20c002eb84"
      },
      "outputs": [
        {
          "name": "stderr",
          "output_type": "stream",
          "text": [
            "Epoch 1: 100%|██████████| 1/1 [00:00<00:00, 24.30batch/s, Loss=0.252]"
          ]
        },
        {
          "name": "stdout",
          "output_type": "stream",
          "text": [
            "Epoch 1/1, Loss: 0.252\n"
          ]
        },
        {
          "name": "stderr",
          "output_type": "stream",
          "text": [
            "\n"
          ]
        },
        {
          "data": {
            "text/html": [
              "<style>#sk-container-id-3 {\n",
              "  /* Definition of color scheme common for light and dark mode */\n",
              "  --sklearn-color-text: black;\n",
              "  --sklearn-color-line: gray;\n",
              "  /* Definition of color scheme for unfitted estimators */\n",
              "  --sklearn-color-unfitted-level-0: #fff5e6;\n",
              "  --sklearn-color-unfitted-level-1: #f6e4d2;\n",
              "  --sklearn-color-unfitted-level-2: #ffe0b3;\n",
              "  --sklearn-color-unfitted-level-3: chocolate;\n",
              "  /* Definition of color scheme for fitted estimators */\n",
              "  --sklearn-color-fitted-level-0: #f0f8ff;\n",
              "  --sklearn-color-fitted-level-1: #d4ebff;\n",
              "  --sklearn-color-fitted-level-2: #b3dbfd;\n",
              "  --sklearn-color-fitted-level-3: cornflowerblue;\n",
              "\n",
              "  /* Specific color for light theme */\n",
              "  --sklearn-color-text-on-default-background: var(--sg-text-color, var(--theme-code-foreground, var(--jp-content-font-color1, black)));\n",
              "  --sklearn-color-background: var(--sg-background-color, var(--theme-background, var(--jp-layout-color0, white)));\n",
              "  --sklearn-color-border-box: var(--sg-text-color, var(--theme-code-foreground, var(--jp-content-font-color1, black)));\n",
              "  --sklearn-color-icon: #696969;\n",
              "\n",
              "  @media (prefers-color-scheme: dark) {\n",
              "    /* Redefinition of color scheme for dark theme */\n",
              "    --sklearn-color-text-on-default-background: var(--sg-text-color, var(--theme-code-foreground, var(--jp-content-font-color1, white)));\n",
              "    --sklearn-color-background: var(--sg-background-color, var(--theme-background, var(--jp-layout-color0, #111)));\n",
              "    --sklearn-color-border-box: var(--sg-text-color, var(--theme-code-foreground, var(--jp-content-font-color1, white)));\n",
              "    --sklearn-color-icon: #878787;\n",
              "  }\n",
              "}\n",
              "\n",
              "#sk-container-id-3 {\n",
              "  color: var(--sklearn-color-text);\n",
              "}\n",
              "\n",
              "#sk-container-id-3 pre {\n",
              "  padding: 0;\n",
              "}\n",
              "\n",
              "#sk-container-id-3 input.sk-hidden--visually {\n",
              "  border: 0;\n",
              "  clip: rect(1px 1px 1px 1px);\n",
              "  clip: rect(1px, 1px, 1px, 1px);\n",
              "  height: 1px;\n",
              "  margin: -1px;\n",
              "  overflow: hidden;\n",
              "  padding: 0;\n",
              "  position: absolute;\n",
              "  width: 1px;\n",
              "}\n",
              "\n",
              "#sk-container-id-3 div.sk-dashed-wrapped {\n",
              "  border: 1px dashed var(--sklearn-color-line);\n",
              "  margin: 0 0.4em 0.5em 0.4em;\n",
              "  box-sizing: border-box;\n",
              "  padding-bottom: 0.4em;\n",
              "  background-color: var(--sklearn-color-background);\n",
              "}\n",
              "\n",
              "#sk-container-id-3 div.sk-container {\n",
              "  /* jupyter's `normalize.less` sets `[hidden] { display: none; }`\n",
              "     but bootstrap.min.css set `[hidden] { display: none !important; }`\n",
              "     so we also need the `!important` here to be able to override the\n",
              "     default hidden behavior on the sphinx rendered scikit-learn.org.\n",
              "     See: https://github.com/scikit-learn/scikit-learn/issues/21755 */\n",
              "  display: inline-block !important;\n",
              "  position: relative;\n",
              "}\n",
              "\n",
              "#sk-container-id-3 div.sk-text-repr-fallback {\n",
              "  display: none;\n",
              "}\n",
              "\n",
              "div.sk-parallel-item,\n",
              "div.sk-serial,\n",
              "div.sk-item {\n",
              "  /* draw centered vertical line to link estimators */\n",
              "  background-image: linear-gradient(var(--sklearn-color-text-on-default-background), var(--sklearn-color-text-on-default-background));\n",
              "  background-size: 2px 100%;\n",
              "  background-repeat: no-repeat;\n",
              "  background-position: center center;\n",
              "}\n",
              "\n",
              "/* Parallel-specific style estimator block */\n",
              "\n",
              "#sk-container-id-3 div.sk-parallel-item::after {\n",
              "  content: \"\";\n",
              "  width: 100%;\n",
              "  border-bottom: 2px solid var(--sklearn-color-text-on-default-background);\n",
              "  flex-grow: 1;\n",
              "}\n",
              "\n",
              "#sk-container-id-3 div.sk-parallel {\n",
              "  display: flex;\n",
              "  align-items: stretch;\n",
              "  justify-content: center;\n",
              "  background-color: var(--sklearn-color-background);\n",
              "  position: relative;\n",
              "}\n",
              "\n",
              "#sk-container-id-3 div.sk-parallel-item {\n",
              "  display: flex;\n",
              "  flex-direction: column;\n",
              "}\n",
              "\n",
              "#sk-container-id-3 div.sk-parallel-item:first-child::after {\n",
              "  align-self: flex-end;\n",
              "  width: 50%;\n",
              "}\n",
              "\n",
              "#sk-container-id-3 div.sk-parallel-item:last-child::after {\n",
              "  align-self: flex-start;\n",
              "  width: 50%;\n",
              "}\n",
              "\n",
              "#sk-container-id-3 div.sk-parallel-item:only-child::after {\n",
              "  width: 0;\n",
              "}\n",
              "\n",
              "/* Serial-specific style estimator block */\n",
              "\n",
              "#sk-container-id-3 div.sk-serial {\n",
              "  display: flex;\n",
              "  flex-direction: column;\n",
              "  align-items: center;\n",
              "  background-color: var(--sklearn-color-background);\n",
              "  padding-right: 1em;\n",
              "  padding-left: 1em;\n",
              "}\n",
              "\n",
              "\n",
              "/* Toggleable style: style used for estimator/Pipeline/ColumnTransformer box that is\n",
              "clickable and can be expanded/collapsed.\n",
              "- Pipeline and ColumnTransformer use this feature and define the default style\n",
              "- Estimators will overwrite some part of the style using the `sk-estimator` class\n",
              "*/\n",
              "\n",
              "/* Pipeline and ColumnTransformer style (default) */\n",
              "\n",
              "#sk-container-id-3 div.sk-toggleable {\n",
              "  /* Default theme specific background. It is overwritten whether we have a\n",
              "  specific estimator or a Pipeline/ColumnTransformer */\n",
              "  background-color: var(--sklearn-color-background);\n",
              "}\n",
              "\n",
              "/* Toggleable label */\n",
              "#sk-container-id-3 label.sk-toggleable__label {\n",
              "  cursor: pointer;\n",
              "  display: block;\n",
              "  width: 100%;\n",
              "  margin-bottom: 0;\n",
              "  padding: 0.5em;\n",
              "  box-sizing: border-box;\n",
              "  text-align: center;\n",
              "}\n",
              "\n",
              "#sk-container-id-3 label.sk-toggleable__label-arrow:before {\n",
              "  /* Arrow on the left of the label */\n",
              "  content: \"▸\";\n",
              "  float: left;\n",
              "  margin-right: 0.25em;\n",
              "  color: var(--sklearn-color-icon);\n",
              "}\n",
              "\n",
              "#sk-container-id-3 label.sk-toggleable__label-arrow:hover:before {\n",
              "  color: var(--sklearn-color-text);\n",
              "}\n",
              "\n",
              "/* Toggleable content - dropdown */\n",
              "\n",
              "#sk-container-id-3 div.sk-toggleable__content {\n",
              "  max-height: 0;\n",
              "  max-width: 0;\n",
              "  overflow: hidden;\n",
              "  text-align: left;\n",
              "  /* unfitted */\n",
              "  background-color: var(--sklearn-color-unfitted-level-0);\n",
              "}\n",
              "\n",
              "#sk-container-id-3 div.sk-toggleable__content.fitted {\n",
              "  /* fitted */\n",
              "  background-color: var(--sklearn-color-fitted-level-0);\n",
              "}\n",
              "\n",
              "#sk-container-id-3 div.sk-toggleable__content pre {\n",
              "  margin: 0.2em;\n",
              "  border-radius: 0.25em;\n",
              "  color: var(--sklearn-color-text);\n",
              "  /* unfitted */\n",
              "  background-color: var(--sklearn-color-unfitted-level-0);\n",
              "}\n",
              "\n",
              "#sk-container-id-3 div.sk-toggleable__content.fitted pre {\n",
              "  /* unfitted */\n",
              "  background-color: var(--sklearn-color-fitted-level-0);\n",
              "}\n",
              "\n",
              "#sk-container-id-3 input.sk-toggleable__control:checked~div.sk-toggleable__content {\n",
              "  /* Expand drop-down */\n",
              "  max-height: 200px;\n",
              "  max-width: 100%;\n",
              "  overflow: auto;\n",
              "}\n",
              "\n",
              "#sk-container-id-3 input.sk-toggleable__control:checked~label.sk-toggleable__label-arrow:before {\n",
              "  content: \"▾\";\n",
              "}\n",
              "\n",
              "/* Pipeline/ColumnTransformer-specific style */\n",
              "\n",
              "#sk-container-id-3 div.sk-label input.sk-toggleable__control:checked~label.sk-toggleable__label {\n",
              "  color: var(--sklearn-color-text);\n",
              "  background-color: var(--sklearn-color-unfitted-level-2);\n",
              "}\n",
              "\n",
              "#sk-container-id-3 div.sk-label.fitted input.sk-toggleable__control:checked~label.sk-toggleable__label {\n",
              "  background-color: var(--sklearn-color-fitted-level-2);\n",
              "}\n",
              "\n",
              "/* Estimator-specific style */\n",
              "\n",
              "/* Colorize estimator box */\n",
              "#sk-container-id-3 div.sk-estimator input.sk-toggleable__control:checked~label.sk-toggleable__label {\n",
              "  /* unfitted */\n",
              "  background-color: var(--sklearn-color-unfitted-level-2);\n",
              "}\n",
              "\n",
              "#sk-container-id-3 div.sk-estimator.fitted input.sk-toggleable__control:checked~label.sk-toggleable__label {\n",
              "  /* fitted */\n",
              "  background-color: var(--sklearn-color-fitted-level-2);\n",
              "}\n",
              "\n",
              "#sk-container-id-3 div.sk-label label.sk-toggleable__label,\n",
              "#sk-container-id-3 div.sk-label label {\n",
              "  /* The background is the default theme color */\n",
              "  color: var(--sklearn-color-text-on-default-background);\n",
              "}\n",
              "\n",
              "/* On hover, darken the color of the background */\n",
              "#sk-container-id-3 div.sk-label:hover label.sk-toggleable__label {\n",
              "  color: var(--sklearn-color-text);\n",
              "  background-color: var(--sklearn-color-unfitted-level-2);\n",
              "}\n",
              "\n",
              "/* Label box, darken color on hover, fitted */\n",
              "#sk-container-id-3 div.sk-label.fitted:hover label.sk-toggleable__label.fitted {\n",
              "  color: var(--sklearn-color-text);\n",
              "  background-color: var(--sklearn-color-fitted-level-2);\n",
              "}\n",
              "\n",
              "/* Estimator label */\n",
              "\n",
              "#sk-container-id-3 div.sk-label label {\n",
              "  font-family: monospace;\n",
              "  font-weight: bold;\n",
              "  display: inline-block;\n",
              "  line-height: 1.2em;\n",
              "}\n",
              "\n",
              "#sk-container-id-3 div.sk-label-container {\n",
              "  text-align: center;\n",
              "}\n",
              "\n",
              "/* Estimator-specific */\n",
              "#sk-container-id-3 div.sk-estimator {\n",
              "  font-family: monospace;\n",
              "  border: 1px dotted var(--sklearn-color-border-box);\n",
              "  border-radius: 0.25em;\n",
              "  box-sizing: border-box;\n",
              "  margin-bottom: 0.5em;\n",
              "  /* unfitted */\n",
              "  background-color: var(--sklearn-color-unfitted-level-0);\n",
              "}\n",
              "\n",
              "#sk-container-id-3 div.sk-estimator.fitted {\n",
              "  /* fitted */\n",
              "  background-color: var(--sklearn-color-fitted-level-0);\n",
              "}\n",
              "\n",
              "/* on hover */\n",
              "#sk-container-id-3 div.sk-estimator:hover {\n",
              "  /* unfitted */\n",
              "  background-color: var(--sklearn-color-unfitted-level-2);\n",
              "}\n",
              "\n",
              "#sk-container-id-3 div.sk-estimator.fitted:hover {\n",
              "  /* fitted */\n",
              "  background-color: var(--sklearn-color-fitted-level-2);\n",
              "}\n",
              "\n",
              "/* Specification for estimator info (e.g. \"i\" and \"?\") */\n",
              "\n",
              "/* Common style for \"i\" and \"?\" */\n",
              "\n",
              ".sk-estimator-doc-link,\n",
              "a:link.sk-estimator-doc-link,\n",
              "a:visited.sk-estimator-doc-link {\n",
              "  float: right;\n",
              "  font-size: smaller;\n",
              "  line-height: 1em;\n",
              "  font-family: monospace;\n",
              "  background-color: var(--sklearn-color-background);\n",
              "  border-radius: 1em;\n",
              "  height: 1em;\n",
              "  width: 1em;\n",
              "  text-decoration: none !important;\n",
              "  margin-left: 1ex;\n",
              "  /* unfitted */\n",
              "  border: var(--sklearn-color-unfitted-level-1) 1pt solid;\n",
              "  color: var(--sklearn-color-unfitted-level-1);\n",
              "}\n",
              "\n",
              ".sk-estimator-doc-link.fitted,\n",
              "a:link.sk-estimator-doc-link.fitted,\n",
              "a:visited.sk-estimator-doc-link.fitted {\n",
              "  /* fitted */\n",
              "  border: var(--sklearn-color-fitted-level-1) 1pt solid;\n",
              "  color: var(--sklearn-color-fitted-level-1);\n",
              "}\n",
              "\n",
              "/* On hover */\n",
              "div.sk-estimator:hover .sk-estimator-doc-link:hover,\n",
              ".sk-estimator-doc-link:hover,\n",
              "div.sk-label-container:hover .sk-estimator-doc-link:hover,\n",
              ".sk-estimator-doc-link:hover {\n",
              "  /* unfitted */\n",
              "  background-color: var(--sklearn-color-unfitted-level-3);\n",
              "  color: var(--sklearn-color-background);\n",
              "  text-decoration: none;\n",
              "}\n",
              "\n",
              "div.sk-estimator.fitted:hover .sk-estimator-doc-link.fitted:hover,\n",
              ".sk-estimator-doc-link.fitted:hover,\n",
              "div.sk-label-container:hover .sk-estimator-doc-link.fitted:hover,\n",
              ".sk-estimator-doc-link.fitted:hover {\n",
              "  /* fitted */\n",
              "  background-color: var(--sklearn-color-fitted-level-3);\n",
              "  color: var(--sklearn-color-background);\n",
              "  text-decoration: none;\n",
              "}\n",
              "\n",
              "/* Span, style for the box shown on hovering the info icon */\n",
              ".sk-estimator-doc-link span {\n",
              "  display: none;\n",
              "  z-index: 9999;\n",
              "  position: relative;\n",
              "  font-weight: normal;\n",
              "  right: .2ex;\n",
              "  padding: .5ex;\n",
              "  margin: .5ex;\n",
              "  width: min-content;\n",
              "  min-width: 20ex;\n",
              "  max-width: 50ex;\n",
              "  color: var(--sklearn-color-text);\n",
              "  box-shadow: 2pt 2pt 4pt #999;\n",
              "  /* unfitted */\n",
              "  background: var(--sklearn-color-unfitted-level-0);\n",
              "  border: .5pt solid var(--sklearn-color-unfitted-level-3);\n",
              "}\n",
              "\n",
              ".sk-estimator-doc-link.fitted span {\n",
              "  /* fitted */\n",
              "  background: var(--sklearn-color-fitted-level-0);\n",
              "  border: var(--sklearn-color-fitted-level-3);\n",
              "}\n",
              "\n",
              ".sk-estimator-doc-link:hover span {\n",
              "  display: block;\n",
              "}\n",
              "\n",
              "/* \"?\"-specific style due to the `<a>` HTML tag */\n",
              "\n",
              "#sk-container-id-3 a.estimator_doc_link {\n",
              "  float: right;\n",
              "  font-size: 1rem;\n",
              "  line-height: 1em;\n",
              "  font-family: monospace;\n",
              "  background-color: var(--sklearn-color-background);\n",
              "  border-radius: 1rem;\n",
              "  height: 1rem;\n",
              "  width: 1rem;\n",
              "  text-decoration: none;\n",
              "  /* unfitted */\n",
              "  color: var(--sklearn-color-unfitted-level-1);\n",
              "  border: var(--sklearn-color-unfitted-level-1) 1pt solid;\n",
              "}\n",
              "\n",
              "#sk-container-id-3 a.estimator_doc_link.fitted {\n",
              "  /* fitted */\n",
              "  border: var(--sklearn-color-fitted-level-1) 1pt solid;\n",
              "  color: var(--sklearn-color-fitted-level-1);\n",
              "}\n",
              "\n",
              "/* On hover */\n",
              "#sk-container-id-3 a.estimator_doc_link:hover {\n",
              "  /* unfitted */\n",
              "  background-color: var(--sklearn-color-unfitted-level-3);\n",
              "  color: var(--sklearn-color-background);\n",
              "  text-decoration: none;\n",
              "}\n",
              "\n",
              "#sk-container-id-3 a.estimator_doc_link.fitted:hover {\n",
              "  /* fitted */\n",
              "  background-color: var(--sklearn-color-fitted-level-3);\n",
              "}\n",
              "</style><div id=\"sk-container-id-3\" class=\"sk-top-container\"><div class=\"sk-text-repr-fallback\"><pre>Autoencoder(hidden_dim=1024, input_dim=384, latent_dim=100)</pre><b>In a Jupyter environment, please rerun this cell to show the HTML representation or trust the notebook. <br />On GitHub, the HTML representation is unable to render, please try loading this page with nbviewer.org.</b></div><div class=\"sk-container\" hidden><div class=\"sk-item\"><div class=\"sk-estimator  sk-toggleable\"><input class=\"sk-toggleable__control sk-hidden--visually\" id=\"sk-estimator-id-6\" type=\"checkbox\" checked><label for=\"sk-estimator-id-6\" class=\"sk-toggleable__label  sk-toggleable__label-arrow \">&nbsp;Autoencoder<span class=\"sk-estimator-doc-link \">i<span>Not fitted</span></span></label><div class=\"sk-toggleable__content \"><pre>Autoencoder(hidden_dim=1024, input_dim=384, latent_dim=100)</pre></div> </div></div></div></div>"
            ],
            "text/plain": [
              "Autoencoder(hidden_dim=1024, input_dim=384, latent_dim=100)"
            ]
          },
          "execution_count": 520,
          "metadata": {},
          "output_type": "execute_result"
        }
      ],
      "source": [
        "model_ae.fit(dataset_ae)"
      ]
    },
    {
      "cell_type": "code",
      "execution_count": 360,
      "id": "ZL7lludoCeFZ",
      "metadata": {
        "executionInfo": {
          "elapsed": 2,
          "status": "ok",
          "timestamp": 1730719907826,
          "user": {
            "displayName": "",
            "userId": ""
          },
          "user_tz": -420
        },
        "id": "ZL7lludoCeFZ"
      },
      "outputs": [],
      "source": [
        "# Save model to GCS for future access\n",
        "timestamp = datetime.now().strftime(\"%d%m%H\")\n",
        "\n",
        "torch.save(model_ae.state_dict(), f\"autoencoder-{timestamp}\")"
      ]
    },
    {
      "cell_type": "code",
      "execution_count": 362,
      "id": "ASp38KruoKC-",
      "metadata": {
        "colab": {
          "base_uri": "https://localhost:8080/"
        },
        "executionInfo": {
          "elapsed": 5,
          "status": "ok",
          "timestamp": 1730719925669,
          "user": {
            "displayName": "",
            "userId": ""
          },
          "user_tz": -420
        },
        "id": "ASp38KruoKC-",
        "outputId": "61dec8f5-2fa4-4656-f3d9-2fdd255e7411"
      },
      "outputs": [
        {
          "name": "stdout",
          "output_type": "stream",
          "text": [
            "autoencoder-041111  word2vec_amazon_reviews-041109\n"
          ]
        }
      ],
      "source": [
        "!gsutil cp \"autoencoder\"* \"gs://customer_review_hawaii/models/\"\n",
        "!rm \"autoencoder\"*"
      ]
    },
    {
      "cell_type": "markdown",
      "id": "upM1C65tRCN4",
      "metadata": {
        "id": "upM1C65tRCN4"
      },
      "source": [
        "# Clustering\n",
        "\n",
        "Task TODO:\n",
        "- (opt) ask for cluster fixing from OpenAI"
      ]
    },
    {
      "cell_type": "code",
      "execution_count": 386,
      "id": "TQRJvk6jREen",
      "metadata": {
        "executionInfo": {
          "elapsed": 3,
          "status": "ok",
          "timestamp": 1730720404603,
          "user": {
            "displayName": "",
            "userId": ""
          },
          "user_tz": -420
        },
        "id": "TQRJvk6jREen"
      },
      "outputs": [],
      "source": [
        "from sklearn.pipeline import Pipeline\n",
        "from sklearn.cluster import HDBSCAN"
      ]
    },
    {
      "cell_type": "code",
      "execution_count": 364,
      "id": "sJ2gxQGDXBr4",
      "metadata": {
        "executionInfo": {
          "elapsed": 1,
          "status": "ok",
          "timestamp": 1730719955324,
          "user": {
            "displayName": "",
            "userId": ""
          },
          "user_tz": -420
        },
        "id": "sJ2gxQGDXBr4"
      },
      "outputs": [],
      "source": [
        "business_id = np.random.choice(processed_dataset[\"business_id\"])\n",
        "business_reviews = processed_dataset[processed_dataset[\"business_id\"] == business_id]"
      ]
    },
    {
      "cell_type": "code",
      "execution_count": 365,
      "id": "AtVuLm1mXrmM",
      "metadata": {
        "executionInfo": {
          "elapsed": 2,
          "status": "ok",
          "timestamp": 1730719957406,
          "user": {
            "displayName": "",
            "userId": ""
          },
          "user_tz": -420
        },
        "id": "AtVuLm1mXrmM"
      },
      "outputs": [],
      "source": [
        "# we will only cluster the reviews from the last 6 months\n",
        "min_review_date = business_reviews[\"time\"].max() - pd.DateOffset(months=3)\n",
        "business_reviews = business_reviews[business_reviews[\"time\"] >= min_review_date]"
      ]
    },
    {
      "cell_type": "code",
      "execution_count": 366,
      "id": "IuuOznRCiCU6",
      "metadata": {
        "colab": {
          "base_uri": "https://localhost:8080/"
        },
        "executionInfo": {
          "elapsed": 3,
          "status": "ok",
          "timestamp": 1730719959539,
          "user": {
            "displayName": "",
            "userId": ""
          },
          "user_tz": -420
        },
        "id": "IuuOznRCiCU6",
        "outputId": "1011b167-68c5-4eb6-bb9b-c00b4acb0e39"
      },
      "outputs": [
        {
          "data": {
            "text/plain": [
              "(188, 6)"
            ]
          },
          "execution_count": 366,
          "metadata": {},
          "output_type": "execute_result"
        }
      ],
      "source": [
        "business_reviews.shape"
      ]
    },
    {
      "cell_type": "code",
      "execution_count": 1,
      "id": "9uR9iw05a_Cv",
      "metadata": {
        "executionInfo": {
          "elapsed": 2176,
          "status": "ok",
          "timestamp": 1730720102664,
          "user": {
            "displayName": "",
            "userId": ""
          },
          "user_tz": -420
        },
        "id": "9uR9iw05a_Cv"
      },
      "outputs": [],
      "source": [
        "# class WordVectorEncoder(BaseEstimator, TransformerMixin):\n",
        "#     def __init__(self, autoencoder):\n",
        "#         self.autoencoder = autoencoder\n",
        "\n",
        "#     def fit(self, X, y=None):\n",
        "#         return self\n",
        "\n",
        "#     def transform(self, X):\n",
        "#         dl = DataLoader(X, batch_size=len(X), shuffle=False)\n",
        "#         encoded_list = []\n",
        "\n",
        "#         for batch in dl:\n",
        "#             encoded_batch = self.autoencoder.encode(batch).detach().cpu().numpy()\n",
        "#             encoded_list.append(encoded_batch)\n",
        "\n",
        "#         encoded = np.vstack(encoded_list)\n",
        "#         return encoded"
      ]
    },
    {
      "cell_type": "code",
      "execution_count": 2,
      "id": "yhafjLRNDBoZ",
      "metadata": {
        "executionInfo": {
          "elapsed": 2,
          "status": "ok",
          "timestamp": 1730721941557,
          "user": {
            "displayName": "",
            "userId": ""
          },
          "user_tz": -420
        },
        "id": "yhafjLRNDBoZ"
      },
      "outputs": [],
      "source": [
        "# class PCAEncoder(BaseEstimator, TransformerMixin):\n",
        "#     def __init__(self):\n",
        "#         self.autoencoder = PCA(n_components=85)\n",
        "\n",
        "#     def fit(self, X, y=None):\n",
        "#         return self\n",
        "\n",
        "#     def transform(self, X):\n",
        "#         dl = DataLoader(X, batch_size=len(X), shuffle=False)\n",
        "#         for batch in dl:\n",
        "#             print(batch.shape)\n",
        "#             encoded_batch = self.autoencoder.fit_transform(batch)\n",
        "#             print(encoded_batch.shape)\n",
        "\n",
        "#         return encoded_batch"
      ]
    },
    {
      "cell_type": "code",
      "execution_count": 3,
      "id": "BfmCgokJjcRI",
      "metadata": {
        "executionInfo": {
          "elapsed": 3,
          "status": "ok",
          "timestamp": 1730721876021,
          "user": {
            "displayName": "",
            "userId": ""
          },
          "user_tz": -420
        },
        "id": "BfmCgokJjcRI"
      },
      "outputs": [],
      "source": [
        "# class HDBSCANClustering(BaseEstimator, TransformerMixin):\n",
        "#     def __init__(self):\n",
        "#         self.model = HDBSCAN(min_cluster_size=5,\n",
        "#                              min_samples=3,\n",
        "#                              cluster_selection_epsilon=0.5)\n",
        "#         self.labels_ = None\n",
        "\n",
        "#     def fit(self, X, y=None):\n",
        "#         dl = DataLoader(X, batch_size=len(X), shuffle=False)\n",
        "#         for x in dl:\n",
        "#             self.labels_ = self.model.fit_predict(x)\n",
        "#         return self\n",
        "\n",
        "#     def transform(self, X):\n",
        "#         # Return the labels as a column\n",
        "#         return self.labels_.reshape(-1, 1)"
      ]
    },
    {
      "cell_type": "code",
      "execution_count": 4,
      "id": "ZSQX-fW0_nZt",
      "metadata": {
        "executionInfo": {
          "elapsed": 3,
          "status": "ok",
          "timestamp": 1730721876021,
          "user": {
            "displayName": "",
            "userId": ""
          },
          "user_tz": -420
        },
        "id": "ZSQX-fW0_nZt"
      },
      "outputs": [],
      "source": [
        "# class PCAVisualization(BaseEstimator, TransformerMixin):\n",
        "#     def __init__(self):\n",
        "#         self.model = PCA(n_components=2)\n",
        "\n",
        "#     def fit(self, X, y=None):\n",
        "#         return self\n",
        "\n",
        "#     def transform(self, X):\n",
        "#         # Return the labels as a column\n",
        "#         dl = DataLoader(X, batch_size=len(X), shuffle=False)\n",
        "#         for x in dl:\n",
        "#             reduced = self.model.fit_predict(x)\n",
        "#         return reduced"
      ]
    },
    {
      "cell_type": "code",
      "execution_count": 5,
      "id": "Dh2QZo6kHUIp",
      "metadata": {
        "executionInfo": {
          "elapsed": 437,
          "status": "ok",
          "timestamp": 1730722468582,
          "user": {
            "displayName": "",
            "userId": ""
          },
          "user_tz": -420
        },
        "id": "Dh2QZo6kHUIp"
      },
      "outputs": [],
      "source": [
        "# pipeline = Pipeline([\n",
        "#     ('autoencoder', WordVectorEncoder(net)),\n",
        "#     ('clustering', HDBSCANClustering())\n",
        "# ])"
      ]
    },
    {
      "cell_type": "code",
      "execution_count": 6,
      "id": "40UitDPLDU1Y",
      "metadata": {
        "executionInfo": {
          "elapsed": 1,
          "status": "ok",
          "timestamp": 1730722468582,
          "user": {
            "displayName": "",
            "userId": ""
          },
          "user_tz": -420
        },
        "id": "40UitDPLDU1Y"
      },
      "outputs": [],
      "source": [
        "# pipeline_pca = Pipeline([\n",
        "#     ('autoencoder', PCAEncoder()),\n",
        "#     ('clustering', HDBSCANClustering())\n",
        "# ])"
      ]
    },
    {
      "cell_type": "code",
      "execution_count": 7,
      "id": "2zHZlgb5HV-3",
      "metadata": {
        "executionInfo": {
          "elapsed": 2,
          "status": "ok",
          "timestamp": 1730722470658,
          "user": {
            "displayName": "",
            "userId": ""
          },
          "user_tz": -420
        },
        "id": "2zHZlgb5HV-3"
      },
      "outputs": [],
      "source": [
        "# # Convert the DataFrame to Pytorch dataset\n",
        "# restaurant_dataset = AutoEncoderDataset(restaurant_reviews.copy().reset_index(),\n",
        "#                                         model_wv,\n",
        "#                                         model_transformer)"
      ]
    },
    {
      "cell_type": "code",
      "execution_count": 8,
      "id": "YwUsNOFHgPkx",
      "metadata": {
        "colab": {
          "base_uri": "https://localhost:8080/"
        },
        "executionInfo": {
          "elapsed": 5590,
          "status": "ok",
          "timestamp": 1730720648861,
          "user": {
            "displayName": "",
            "userId": ""
          },
          "user_tz": -420
        },
        "id": "YwUsNOFHgPkx",
        "outputId": "f860fd68-cbed-4ed9-9568-f0a9cb7a39e4"
      },
      "outputs": [],
      "source": [
        "# pipeline.fit(restaurant_dataset)\n",
        "# restaurant_reviews[\"labels\"] = pipeline['clustering'].model.labels_"
      ]
    },
    {
      "cell_type": "code",
      "execution_count": 9,
      "id": "kdHOcFZuDewE",
      "metadata": {
        "colab": {
          "base_uri": "https://localhost:8080/"
        },
        "executionInfo": {
          "elapsed": 1303,
          "status": "ok",
          "timestamp": 1730722477166,
          "user": {
            "displayName": "",
            "userId": ""
          },
          "user_tz": -420
        },
        "id": "kdHOcFZuDewE",
        "outputId": "d6bed10b-e71d-4696-ccf2-1ce3a7b49896"
      },
      "outputs": [],
      "source": [
        "# pipeline_pca.fit(restaurant_dataset)\n",
        "# restaurant_reviews[\"labels_pca\"] = pipeline_pca['clustering'].model.labels_"
      ]
    },
    {
      "cell_type": "code",
      "execution_count": 10,
      "id": "GRbXjL5xAmPp",
      "metadata": {
        "colab": {
          "base_uri": "https://localhost:8080/"
        },
        "executionInfo": {
          "elapsed": 6729,
          "status": "ok",
          "timestamp": 1730721165152,
          "user": {
            "displayName": "",
            "userId": ""
          },
          "user_tz": -420
        },
        "id": "GRbXjL5xAmPp",
        "outputId": "6aff892d-8fb5-4fca-dd80-ccfd5cc323f0"
      },
      "outputs": [],
      "source": [
        "# wve = WordVectorEncoder(net)\n",
        "# encoded = wve.fit_transform(restaurant_dataset)\n",
        "# print(encoded.shape)\n",
        "\n",
        "# pca = PCA(n_components=2)\n",
        "# reduced = pca.fit_transform(encoded)\n",
        "# print(reduced.shape)"
      ]
    },
    {
      "cell_type": "code",
      "execution_count": 11,
      "id": "_gGNxCAi9UrX",
      "metadata": {
        "colab": {
          "base_uri": "https://localhost:8080/",
          "height": 210
        },
        "executionInfo": {
          "elapsed": 3,
          "status": "ok",
          "timestamp": 1730722149475,
          "user": {
            "displayName": "",
            "userId": ""
          },
          "user_tz": -420
        },
        "id": "_gGNxCAi9UrX",
        "outputId": "1a164e25-e136-49fd-8e2e-266db6703d44"
      },
      "outputs": [],
      "source": [
        "# restaurant_reviews[\"labels\"].value_counts()"
      ]
    },
    {
      "cell_type": "code",
      "execution_count": 12,
      "id": "OcVKaxb9DnkV",
      "metadata": {
        "colab": {
          "base_uri": "https://localhost:8080/",
          "height": 210
        },
        "executionInfo": {
          "elapsed": 5,
          "status": "ok",
          "timestamp": 1730722480152,
          "user": {
            "displayName": "",
            "userId": ""
          },
          "user_tz": -420
        },
        "id": "OcVKaxb9DnkV",
        "outputId": "40040e6f-e4b8-4e18-ce5a-e90feaa18c89"
      },
      "outputs": [],
      "source": [
        "# restaurant_reviews[\"labels_pca\"].value_counts()"
      ]
    },
    {
      "cell_type": "code",
      "execution_count": 13,
      "id": "5IfFr14BDvWF",
      "metadata": {
        "colab": {
          "base_uri": "https://localhost:8080/",
          "height": 447
        },
        "executionInfo": {
          "elapsed": 632,
          "status": "ok",
          "timestamp": 1730722491263,
          "user": {
            "displayName": "",
            "userId": ""
          },
          "user_tz": -420
        },
        "id": "5IfFr14BDvWF",
        "outputId": "b56ce799-052d-430e-e5b9-47eafe55d0e5"
      },
      "outputs": [],
      "source": [
        "# plt.scatter(x=reduced[:, 0], y=reduced[:, 1], c=restaurant_reviews[\"labels_pca\"])"
      ]
    },
    {
      "cell_type": "code",
      "execution_count": 14,
      "id": "pVKxtim-CmEb",
      "metadata": {
        "colab": {
          "base_uri": "https://localhost:8080/",
          "height": 447
        },
        "executionInfo": {
          "elapsed": 5,
          "status": "ok",
          "timestamp": 1730721590165,
          "user": {
            "displayName": "",
            "userId": ""
          },
          "user_tz": -420
        },
        "id": "pVKxtim-CmEb",
        "outputId": "b3f0dfb9-9ce1-4beb-b974-17ab1b00e7af"
      },
      "outputs": [],
      "source": [
        "# plt.scatter(x=reduced[:, 0], y=reduced[:, 1], c=restaurant_reviews[\"labels\"])"
      ]
    },
    {
      "cell_type": "code",
      "execution_count": 15,
      "id": "nstKeACdFeAx",
      "metadata": {
        "executionInfo": {
          "elapsed": 3,
          "status": "ok",
          "timestamp": 1730722350004,
          "user": {
            "displayName": "",
            "userId": ""
          },
          "user_tz": -420
        },
        "id": "nstKeACdFeAx"
      },
      "outputs": [],
      "source": [
        "# from sklearn.metrics import silhouette_score, davies_bouldin_score, calinski_harabasz_score"
      ]
    },
    {
      "cell_type": "code",
      "execution_count": 16,
      "id": "s-Z7ns2AF0dj",
      "metadata": {
        "colab": {
          "base_uri": "https://localhost:8080/"
        },
        "executionInfo": {
          "elapsed": 2,
          "status": "ok",
          "timestamp": 1730722510494,
          "user": {
            "displayName": "",
            "userId": ""
          },
          "user_tz": -420
        },
        "id": "s-Z7ns2AF0dj",
        "outputId": "f7c15407-a193-406e-9e8a-59008425e691"
      },
      "outputs": [],
      "source": [
        "# silhouette_score(reduced, restaurant_reviews[\"labels\"]), silhouette_score(reduced, restaurant_reviews[\"labels_pca\"])"
      ]
    },
    {
      "cell_type": "markdown",
      "id": "SN94fev9FOZM",
      "metadata": {
        "id": "SN94fev9FOZM"
      },
      "source": [
        "## Cluster labeling"
      ]
    },
    {
      "cell_type": "code",
      "execution_count": 17,
      "id": "g1kVh8YjQb77",
      "metadata": {
        "executionInfo": {
          "elapsed": 3,
          "status": "aborted",
          "timestamp": 1730713954546,
          "user": {
            "displayName": "",
            "userId": ""
          },
          "user_tz": -420
        },
        "id": "g1kVh8YjQb77"
      },
      "outputs": [],
      "source": [
        "# import openai\n",
        "\n",
        "# def get_cluster_name(text_samples):\n",
        "#     prompt = f\"\"\"\n",
        "#         You are an expert in giving a descriptive topic to a given list of sentences.\n",
        "#         The sentences may have different topics, so choose one that is the most commonly shared.\n",
        "#         Please return the topic as consice as possible, maximum in 3 words.\n",
        "#         Please also avoid a vague topic.\n",
        "\n",
        "#         There are 5 sentences as the input.\n",
        "#         The content of the sentences is limited to customer reviews for a tourist attraction.\n",
        "#         So, please only choose the topic according to possible aspects in this business.\n",
        "\n",
        "#         Here is an example with just 3 setences:\n",
        "\n",
        "#         INPUT\n",
        "#         'Gorgeous place to visit, it can get crowded on holidays.'\n",
        "#         'Great hike and beautiful views.'\n",
        "#         'Awesome view.'\n",
        "#         ENDINPUT\n",
        "\n",
        "#         LABEL 'Scenic view'\n",
        "\n",
        "#         So here is the sentences:\n",
        "#         INPUT\n",
        "#         {'\\n'.join(text_samples)}\n",
        "#         ENDINPUT\n",
        "\n",
        "#         LABEL ...\n",
        "#     \"\"\"\n",
        "#     response = openai.ChatCompletion.create(\n",
        "#         model=\"gpt-3.5-turbo\",\n",
        "#         messages=[{\"role\": \"user\", \"content\": prompt}]\n",
        "#     )\n",
        "#     return response.choices[0].message['content'].strip()"
      ]
    },
    {
      "cell_type": "markdown",
      "id": "qvi1RqzhX085",
      "metadata": {
        "id": "qvi1RqzhX085"
      },
      "source": [
        "TODO:\n",
        "- check again the youtube code\n",
        "- review clustering methods with one core example on each method\n",
        "- review again PCA vs autoencoder\n",
        "- make sure the statistics are the same (wv and transformer)"
      ]
    },
    {
      "cell_type": "code",
      "execution_count": null,
      "id": "dpS8aY1BYB6E",
      "metadata": {
        "id": "dpS8aY1BYB6E"
      },
      "outputs": [],
      "source": []
    }
  ],
  "metadata": {
    "colab": {
      "name": "user-review-topic-clustering",
      "provenance": []
    },
    "kernelspec": {
      "display_name": "tf",
      "language": "python",
      "name": "python3"
    },
    "language_info": {
      "codemirror_mode": {
        "name": "ipython",
        "version": 3
      },
      "file_extension": ".py",
      "mimetype": "text/x-python",
      "name": "python",
      "nbconvert_exporter": "python",
      "pygments_lexer": "ipython3",
      "version": "3.7.9"
    }
  },
  "nbformat": 4,
  "nbformat_minor": 5
}
