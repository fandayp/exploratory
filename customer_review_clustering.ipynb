{
 "cells": [
  {
   "cell_type": "markdown",
   "id": "FjIPfO44_AqU",
   "metadata": {
    "id": "FjIPfO44_AqU"
   },
   "source": [
    "# Introduction\n",
    "\n",
    "---"
   ]
  },
  {
   "cell_type": "markdown",
   "id": "_tP_lpdgl-Dy",
   "metadata": {
    "id": "_tP_lpdgl-Dy"
   },
   "source": [
    "As a business owner, customer reviews can be a valuable source of insight. Imagine being able to gradually monitor areas for improvement that increase customer satisfaction and highlight the best parts of the business for effective branding.\n",
    "\n",
    "This project aims to segment user reviews into several topics for easier analysis.\n",
    "\n",
    "The key components of our project include:\n",
    "- **Review clustering**: to divide customer reviews into distinct clusters by representing the reviews as word vectors or word embeddings. The word vectors are obtained from several sources, such as pre-trained [Transformer model](https://huggingface.co/sentence-transformers/all-MiniLM-L6-v2), self-train [Word2Vec model](https://radimrehurek.com/gensim/models/word2vec.html), concatenated word vectors, and fine-tuned Transformer model\n",
    "- **Topic labeling**: to label review topics within each cluster using a large language model (LLM) API, such as OpenAI.\n",
    "\n",
    "**Keywords**: review clustering, word vector, embedding, word2vec, transformer, fine-tuning"
   ]
  },
  {
   "cell_type": "markdown",
   "id": "dX0D25xviE8t",
   "metadata": {
    "id": "dX0D25xviE8t"
   },
   "source": [
    "## Dataset"
   ]
  },
  {
   "cell_type": "markdown",
   "id": "wSygl3nUiHQs",
   "metadata": {
    "id": "wSygl3nUiHQs"
   },
   "source": [
    "The dataset for this project is [Google Local dataset](https://cseweb.ucsd.edu/~jmcauley/datasets.html#google_local) obtained from J. McAuley lab.\n",
    "\n",
    "Originally, the dataset contains millions of business reviews from across the United States up to 2021. However, for the sake of simplicity and due to limited resources for this project, we only choose the data from one state and one business type: **tourist attractions in Hawaii** ✨.\n",
    "\n",
    "In the end, we settle with 1235 tourist attractions with approximately 260k customer reviews."
   ]
  },
  {
   "cell_type": "code",
   "execution_count": null,
   "id": "t_emiPNMX52l",
   "metadata": {
    "colab": {
     "base_uri": "https://localhost:8080/"
    },
    "executionInfo": {
     "elapsed": 8086,
     "status": "ok",
     "timestamp": 1731969100630,
     "user": {
      "displayName": "",
      "userId": ""
     },
     "user_tz": -420
    },
    "id": "t_emiPNMX52l",
    "outputId": "87e17b21-edf4-4095-c2b6-318f772b6542",
    "tags": []
   },
   "outputs": [],
   "source": [
    "!pip install pyarrow==17.0.0 pyarrow-hotfix==0.6 numpy==1.26.4 scipy==1.13.1\n",
    "!pip install spacy==3.7.5 spacy-legacy==3.0.12 spacy-loggers==1.0.5\n",
    "!pip install gensim==4.3.3 transformers==4.44.2 datasets==3.1.0 sentence-transformers==3.2.1 accelerate==0.34.2\n",
    "!pip install openai==1.52.2\n",
    "!python -m spacy download en_core_web_sm"
   ]
  },
  {
   "cell_type": "code",
   "execution_count": 2,
   "id": "IodBe-ogXqee",
   "metadata": {
    "executionInfo": {
     "elapsed": 5369,
     "status": "ok",
     "timestamp": 1731969105992,
     "user": {
      "displayName": "",
      "userId": ""
     },
     "user_tz": -420
    },
    "id": "IodBe-ogXqee",
    "tags": []
   },
   "outputs": [],
   "source": [
    "from google.cloud import storage\n",
    "from datetime import datetime\n",
    "from openai import OpenAI\n",
    "\n",
    "from plotly.subplots import make_subplots\n",
    "import plotly.express as px\n",
    "import matplotlib.pyplot as plt\n",
    "import seaborn as sns\n",
    "import pandas as pd\n",
    "import numpy as np\n",
    "import csv\n",
    "import io"
   ]
  },
  {
   "cell_type": "code",
   "execution_count": 3,
   "id": "FCIJ2em7_HwN",
   "metadata": {
    "executionInfo": {
     "elapsed": 5,
     "status": "ok",
     "timestamp": 1731969105993,
     "user": {
      "displayName": "",
      "userId": ""
     },
     "user_tz": -420
    },
    "id": "FCIJ2em7_HwN"
   },
   "outputs": [],
   "source": [
    "# Helper function\n",
    "\n",
    "def download_csv_from_gcs(bucket, file_name,\n",
    "                          date_columns=None, col_names=None):\n",
    "    \"\"\" A function to download dataset from GCS. \"\"\"\n",
    "\n",
    "    blob = bucket.blob(file_name)\n",
    "    data = blob.download_as_text()\n",
    "    df = pd.read_csv(io.StringIO(data),\n",
    "                     parse_dates=date_columns,\n",
    "                     usecols=col_names)\n",
    "    return df\n",
    "\n",
    "def upload_csv_to_gcs(df, bucket, file_path, sep=','):\n",
    "    \"\"\" A function to upload dataset to GCS. \"\"\"\n",
    "\n",
    "    csv_buffer = io.StringIO()\n",
    "    df.to_csv(csv_buffer, index=False, quoting=csv.QUOTE_ALL, encoding='utf-8')\n",
    "\n",
    "    blob = bucket.blob(file_path)\n",
    "    blob.upload_from_string(csv_buffer.getvalue(), content_type='text/csv')\n",
    "\n",
    "    print(f\"Successfully uploaded: '{blob.name}' to '{bucket.name}'\")"
   ]
  },
  {
   "cell_type": "code",
   "execution_count": 5,
   "id": "OME02_Hw_HoR",
   "metadata": {
    "executionInfo": {
     "elapsed": 4,
     "status": "ok",
     "timestamp": 1731969105993,
     "user": {
      "displayName": "",
      "userId": ""
     },
     "user_tz": -420
    },
    "id": "OME02_Hw_HoR"
   },
   "outputs": [],
   "source": [
    "# Create a client GCS and get the specified bucket\n",
    "client = storage.Client()\n",
    "bucket = client.get_bucket(BUCKET_NAME)"
   ]
  },
  {
   "cell_type": "code",
   "execution_count": 6,
   "id": "tOtb1Bp4_Hqn",
   "metadata": {
    "executionInfo": {
     "elapsed": 2787,
     "status": "ok",
     "timestamp": 1731969108776,
     "user": {
      "displayName": "",
      "userId": ""
     },
     "user_tz": -420
    },
    "id": "tOtb1Bp4_Hqn"
   },
   "outputs": [],
   "source": [
    "# Download the dataset from GCS\n",
    "reviews_df = download_csv_from_gcs(bucket, REVIEW_CSV)"
   ]
  },
  {
   "cell_type": "code",
   "execution_count": 7,
   "id": "oHaPw5RF_Hlz",
   "metadata": {
    "colab": {
     "base_uri": "https://localhost:8080/",
     "height": 556
    },
    "executionInfo": {
     "elapsed": 26,
     "status": "ok",
     "timestamp": 1731969108776,
     "user": {
      "displayName": "",
      "userId": ""
     },
     "user_tz": -420
    },
    "id": "oHaPw5RF_Hlz",
    "outputId": "81bee535-b4a5-4dbc-c314-6cd656f43d11"
   },
   "outputs": [
    {
     "data": {
      "text/html": [
       "<div>\n",
       "<style scoped>\n",
       "    .dataframe tbody tr th:only-of-type {\n",
       "        vertical-align: middle;\n",
       "    }\n",
       "\n",
       "    .dataframe tbody tr th {\n",
       "        vertical-align: top;\n",
       "    }\n",
       "\n",
       "    .dataframe thead th {\n",
       "        text-align: right;\n",
       "    }\n",
       "</style>\n",
       "<table border=\"1\" class=\"dataframe\">\n",
       "  <thead>\n",
       "    <tr style=\"text-align: right;\">\n",
       "      <th></th>\n",
       "      <th>business_id</th>\n",
       "      <th>business_name</th>\n",
       "      <th>user_id</th>\n",
       "      <th>time</th>\n",
       "      <th>text</th>\n",
       "    </tr>\n",
       "  </thead>\n",
       "  <tbody>\n",
       "    <tr>\n",
       "      <th>0</th>\n",
       "      <td>0x7954d184b450b1e7:0x4bee7e570ae07db8</td>\n",
       "      <td>Maui National Wildlife Refuge Complex</td>\n",
       "      <td>109709907397075607894</td>\n",
       "      <td>1521793918433</td>\n",
       "      <td>Went their for a field trip. It was awesome! s...</td>\n",
       "    </tr>\n",
       "    <tr>\n",
       "      <th>1</th>\n",
       "      <td>0x7954d184b450b1e7:0x4bee7e570ae07db8</td>\n",
       "      <td>Maui National Wildlife Refuge Complex</td>\n",
       "      <td>108968256029885805791</td>\n",
       "      <td>1574633258124</td>\n",
       "      <td>Nice interpretation center, hard to find the w...</td>\n",
       "    </tr>\n",
       "    <tr>\n",
       "      <th>2</th>\n",
       "      <td>0x7954d184b450b1e7:0x4bee7e570ae07db8</td>\n",
       "      <td>Maui National Wildlife Refuge Complex</td>\n",
       "      <td>113167915373388818291</td>\n",
       "      <td>1583292550820</td>\n",
       "      <td>Great water birds!  Clean place and easy access!</td>\n",
       "    </tr>\n",
       "    <tr>\n",
       "      <th>3</th>\n",
       "      <td>0x7954d184b450b1e7:0x4bee7e570ae07db8</td>\n",
       "      <td>Maui National Wildlife Refuge Complex</td>\n",
       "      <td>117153367922518677632</td>\n",
       "      <td>1528995771126</td>\n",
       "      <td>Be sure to stop by the visitors center first. ...</td>\n",
       "    </tr>\n",
       "    <tr>\n",
       "      <th>4</th>\n",
       "      <td>0x7954d184b450b1e7:0x4bee7e570ae07db8</td>\n",
       "      <td>Maui National Wildlife Refuge Complex</td>\n",
       "      <td>112253051829957730666</td>\n",
       "      <td>1549652370655</td>\n",
       "      <td>Great outdoor excursion. Ponds next to the oce...</td>\n",
       "    </tr>\n",
       "  </tbody>\n",
       "</table>\n",
       "</div>"
      ],
      "text/plain": [
       "                             business_id  \\\n",
       "0  0x7954d184b450b1e7:0x4bee7e570ae07db8   \n",
       "1  0x7954d184b450b1e7:0x4bee7e570ae07db8   \n",
       "2  0x7954d184b450b1e7:0x4bee7e570ae07db8   \n",
       "3  0x7954d184b450b1e7:0x4bee7e570ae07db8   \n",
       "4  0x7954d184b450b1e7:0x4bee7e570ae07db8   \n",
       "\n",
       "                           business_name                user_id  \\\n",
       "0  Maui National Wildlife Refuge Complex  109709907397075607894   \n",
       "1  Maui National Wildlife Refuge Complex  108968256029885805791   \n",
       "2  Maui National Wildlife Refuge Complex  113167915373388818291   \n",
       "3  Maui National Wildlife Refuge Complex  117153367922518677632   \n",
       "4  Maui National Wildlife Refuge Complex  112253051829957730666   \n",
       "\n",
       "            time                                               text  \n",
       "0  1521793918433  Went their for a field trip. It was awesome! s...  \n",
       "1  1574633258124  Nice interpretation center, hard to find the w...  \n",
       "2  1583292550820   Great water birds!  Clean place and easy access!  \n",
       "3  1528995771126  Be sure to stop by the visitors center first. ...  \n",
       "4  1549652370655  Great outdoor excursion. Ponds next to the oce...  "
      ]
     },
     "execution_count": 7,
     "metadata": {},
     "output_type": "execute_result"
    }
   ],
   "source": [
    "reviews_df.head()"
   ]
  },
  {
   "cell_type": "code",
   "execution_count": 8,
   "id": "O2gmwiFvdiqO",
   "metadata": {
    "colab": {
     "base_uri": "https://localhost:8080/"
    },
    "executionInfo": {
     "elapsed": 24,
     "status": "ok",
     "timestamp": 1731969108776,
     "user": {
      "displayName": "",
      "userId": ""
     },
     "user_tz": -420
    },
    "id": "O2gmwiFvdiqO",
    "outputId": "4302b68a-73d5-4276-ffe3-a0117295a967"
   },
   "outputs": [
    {
     "name": "stdout",
     "output_type": "stream",
     "text": [
      "<class 'pandas.core.frame.DataFrame'>\n",
      "RangeIndex: 259581 entries, 0 to 259580\n",
      "Data columns (total 5 columns):\n",
      " #   Column         Non-Null Count   Dtype \n",
      "---  ------         --------------   ----- \n",
      " 0   business_id    259581 non-null  object\n",
      " 1   business_name  259581 non-null  object\n",
      " 2   user_id        259581 non-null  object\n",
      " 3   time           259581 non-null  int64 \n",
      " 4   text           259579 non-null  object\n",
      "dtypes: int64(1), object(4)\n",
      "memory usage: 9.9+ MB\n"
     ]
    }
   ],
   "source": [
    "reviews_df.info()"
   ]
  },
  {
   "cell_type": "code",
   "execution_count": 9,
   "id": "GTVxpjT4O_5Y",
   "metadata": {
    "colab": {
     "base_uri": "https://localhost:8080/"
    },
    "executionInfo": {
     "elapsed": 24,
     "status": "ok",
     "timestamp": 1731969108777,
     "user": {
      "displayName": "",
      "userId": ""
     },
     "user_tz": -420
    },
    "id": "GTVxpjT4O_5Y",
    "outputId": "7660010e-abc2-4f6b-8893-f70e5fed9680"
   },
   "outputs": [
    {
     "data": {
      "text/plain": [
       "('2005-01-01', '2021-09-02')"
      ]
     },
     "execution_count": 9,
     "metadata": {},
     "output_type": "execute_result"
    }
   ],
   "source": [
    "# The dataset contains review from 2005-2021\n",
    "reviews_df[\"time\"] = pd.to_datetime(reviews_df[\"time\"], unit=\"ms\")\n",
    "reviews_df[\"time\"].min().strftime(\"%Y-%m-%d\"), reviews_df[\"time\"].max().strftime(\"%Y-%m-%d\")"
   ]
  },
  {
   "cell_type": "code",
   "execution_count": 10,
   "id": "KPRw9XI2_HjO",
   "metadata": {
    "colab": {
     "base_uri": "https://localhost:8080/",
     "height": 147
    },
    "executionInfo": {
     "elapsed": 22,
     "status": "ok",
     "timestamp": 1731969108777,
     "user": {
      "displayName": "",
      "userId": ""
     },
     "user_tz": -420
    },
    "id": "KPRw9XI2_HjO",
    "outputId": "4555e17a-1cb3-4b90-8ede-1aad3a6e1e36"
   },
   "outputs": [
    {
     "data": {
      "text/plain": [
       "business_id      1235\n",
       "user_id        127721\n",
       "dtype: int64"
      ]
     },
     "execution_count": 10,
     "metadata": {},
     "output_type": "execute_result"
    }
   ],
   "source": [
    "# Count the number of unique businesses and users\n",
    "reviews_df[[\"business_id\", \"user_id\"]].nunique()"
   ]
  },
  {
   "cell_type": "code",
   "execution_count": 11,
   "id": "L3S0mNei3Kqz",
   "metadata": {
    "colab": {
     "base_uri": "https://localhost:8080/"
    },
    "executionInfo": {
     "elapsed": 21,
     "status": "ok",
     "timestamp": 1731969108777,
     "user": {
      "displayName": "",
      "userId": ""
     },
     "user_tz": -420
    },
    "id": "L3S0mNei3Kqz",
    "outputId": "52631e9c-d118-4bb4-d6c5-1bed1d7ae19f"
   },
   "outputs": [
    {
     "data": {
      "text/plain": [
       "210"
      ]
     },
     "execution_count": 11,
     "metadata": {},
     "output_type": "execute_result"
    }
   ],
   "source": [
    "# Count the average number of reviews for each business\n",
    "int(reviews_df.groupby(\"business_id\")[\"text\"].count().mean())"
   ]
  },
  {
   "cell_type": "code",
   "execution_count": 12,
   "id": "Ujj8J11s4vrK",
   "metadata": {
    "colab": {
     "base_uri": "https://localhost:8080/",
     "height": 241
    },
    "executionInfo": {
     "elapsed": 20,
     "status": "ok",
     "timestamp": 1731969108777,
     "user": {
      "displayName": "",
      "userId": ""
     },
     "user_tz": -420
    },
    "id": "Ujj8J11s4vrK",
    "outputId": "feb52424-2ff3-4c9c-d6ae-556cd98295a6"
   },
   "outputs": [
    {
     "data": {
      "text/plain": [
       "business_id      0\n",
       "business_name    0\n",
       "user_id          0\n",
       "time             0\n",
       "text             2\n",
       "dtype: int64"
      ]
     },
     "execution_count": 12,
     "metadata": {},
     "output_type": "execute_result"
    }
   ],
   "source": [
    "# Check the missing values\n",
    "reviews_df.isna().sum()"
   ]
  },
  {
   "cell_type": "code",
   "execution_count": 13,
   "id": "gt1lz-LYsfvR",
   "metadata": {
    "executionInfo": {
     "elapsed": 19,
     "status": "ok",
     "timestamp": 1731969108777,
     "user": {
      "displayName": "",
      "userId": ""
     },
     "user_tz": -420
    },
    "id": "gt1lz-LYsfvR"
   },
   "outputs": [],
   "source": [
    "reviews_df = reviews_df.dropna(subset=[\"text\"])"
   ]
  },
  {
   "cell_type": "markdown",
   "id": "l3QRO_88snVv",
   "metadata": {
    "id": "l3QRO_88snVv"
   },
   "source": [
    "Next, we divide the dataset into train and test data."
   ]
  },
  {
   "cell_type": "code",
   "execution_count": 14,
   "id": "ewJLsUCT9M4L",
   "metadata": {
    "executionInfo": {
     "elapsed": 2889,
     "status": "ok",
     "timestamp": 1731969111647,
     "user": {
      "displayName": "",
      "userId": ""
     },
     "user_tz": -420
    },
    "id": "ewJLsUCT9M4L"
   },
   "outputs": [],
   "source": [
    "# The test sample is 10% from the entire dataset (around 120 business)\n",
    "np.random.seed(2024)\n",
    "\n",
    "n_sample = int(0.1 * reviews_df[\"business_id\"].nunique())\n",
    "test_data = np.random.choice(reviews_df[\"business_id\"].unique(), n_sample, replace=False)"
   ]
  },
  {
   "cell_type": "code",
   "execution_count": 15,
   "id": "BZGNCbiztO7W",
   "metadata": {
    "executionInfo": {
     "elapsed": 9,
     "status": "ok",
     "timestamp": 1731969111647,
     "user": {
      "displayName": "",
      "userId": ""
     },
     "user_tz": -420
    },
    "id": "BZGNCbiztO7W"
   },
   "outputs": [],
   "source": [
    "test_df = reviews_df[reviews_df[\"business_id\"].isin(test_data)]\n",
    "train_df = reviews_df[~reviews_df[\"business_id\"].isin(test_data)]"
   ]
  },
  {
   "cell_type": "code",
   "execution_count": 16,
   "id": "s9aWAmtbtksR",
   "metadata": {
    "colab": {
     "base_uri": "https://localhost:8080/"
    },
    "executionInfo": {
     "elapsed": 8,
     "status": "ok",
     "timestamp": 1731969111647,
     "user": {
      "displayName": "",
      "userId": ""
     },
     "user_tz": -420
    },
    "id": "s9aWAmtbtksR",
    "outputId": "590ee7c9-ee78-48c3-fbf5-edc8a17efbaf"
   },
   "outputs": [
    {
     "data": {
      "text/plain": [
       "((238358, 5), (21221, 5))"
      ]
     },
     "execution_count": 16,
     "metadata": {},
     "output_type": "execute_result"
    }
   ],
   "source": [
    "train_df.shape, test_df.shape"
   ]
  },
  {
   "cell_type": "markdown",
   "id": "ej88z2ZtQAxy",
   "metadata": {
    "id": "ej88z2ZtQAxy"
   },
   "source": [
    "# Dataset Preparation\n",
    "\n",
    "---\n",
    "\n"
   ]
  },
  {
   "cell_type": "markdown",
   "id": "d6Io62g3L6ns",
   "metadata": {
    "id": "d6Io62g3L6ns"
   },
   "source": [
    "Before we begin word vector modeling and clustering, we preprocess our text dataset to prepare it for modeling. We apply general natural language processing (NLP) techniques, such as text cleaning, sentence segmentation, and tokenization. For this, we use Python library for NLP [Spacy](https://spacy.io/).\n",
    "\n",
    "We noticed that the dataset treatment for the Transformer model is slightly different from that of the Word2Vec model, as stop words are not removed for the Transformer model in order to retain the full context. Hence we provide two outputs:\n",
    "- Tokens: tokenized clean sentences without stop words for Word2Vec training.\n",
    "- Clean text: clean sentence with most words are retained for fine-tuning or decoding with Transformer model."
   ]
  },
  {
   "cell_type": "code",
   "execution_count": 17,
   "id": "P_NvXNOUaOlj",
   "metadata": {
    "executionInfo": {
     "elapsed": 26421,
     "status": "ok",
     "timestamp": 1731969138060,
     "user": {
      "displayName": "",
      "userId": ""
     },
     "user_tz": -420
    },
    "id": "P_NvXNOUaOlj",
    "tags": []
   },
   "outputs": [],
   "source": [
    "import en_core_web_sm\n",
    "\n",
    "import re"
   ]
  },
  {
   "cell_type": "code",
   "execution_count": 18,
   "id": "I6vZfjOqnq85",
   "metadata": {
    "executionInfo": {
     "elapsed": 4,
     "status": "ok",
     "timestamp": 1731969138060,
     "user": {
      "displayName": "",
      "userId": ""
     },
     "user_tz": -420
    },
    "id": "I6vZfjOqnq85"
   },
   "outputs": [],
   "source": [
    "spacy_nlp = en_core_web_sm.load()"
   ]
  },
  {
   "cell_type": "code",
   "execution_count": 19,
   "id": "cGrU4woL_Hgu",
   "metadata": {
    "executionInfo": {
     "elapsed": 4,
     "status": "ok",
     "timestamp": 1731969138061,
     "user": {
      "displayName": "",
      "userId": ""
     },
     "user_tz": -420
    },
    "id": "cGrU4woL_Hgu"
   },
   "outputs": [],
   "source": [
    "class ProcessDataset():\n",
    "    \"\"\"\n",
    "      A class for preprocessing review data for training downstream models.\n",
    "      Preprocessing includes:\n",
    "        - Cleaning, splitting, and expanding sentences\n",
    "        - Tokenizing and removing stop words from sentences\n",
    "    \"\"\"\n",
    "\n",
    "    def __init__(self, spacy_nlp):\n",
    "\n",
    "        self.nlp = spacy_nlp\n",
    "\n",
    "    def _clean_text(self, text):\n",
    "        \"\"\" Clean text from unnecessary tokens/substrings \"\"\"\n",
    "\n",
    "        # Remove emoji patterns\n",
    "        emoji_pattern = re.compile(\n",
    "            \"[\"\n",
    "            \"\\U0001F600-\\U0001F64F\"  # Emoticons\n",
    "            \"\\U0001F300-\\U0001F5FF\"  # Symbols & pictographs\n",
    "            \"\\U0001F680-\\U0001F6FF\"  # Transport & map symbols\n",
    "            \"\\U0001F1E0-\\U0001F1FF\"  # Flags (iOS)\n",
    "            \"\\U00002700-\\U000027BF\"  # Dingbats\n",
    "            \"\\U0001F900-\\U0001F9FF\"  # Supplemental Symbols and Pictographs\n",
    "            \"\\U00002600-\\U000026FF\"  # Misc symbols\n",
    "            \"\\U00002B50-\\U00002B59\"  # Stars\n",
    "            \"]+\", flags=re.UNICODE\n",
    "        )\n",
    "        text = emoji_pattern.sub(r\"\", text)\n",
    "\n",
    "        # Extracts text between '(Translated by Google)' and '(Original)'.\n",
    "        match = re.search(r\"\\(Translated by Google\\)(.+?)  \", text)\n",
    "        if match:\n",
    "            text = match.group(1)\n",
    "\n",
    "        return text\n",
    "\n",
    "    def _split_and_tokenize(self, text):\n",
    "        \"\"\"\n",
    "          Splits text into sentences using the spaCy model.\n",
    "          Also tokenize and lemmatize.\n",
    "        \"\"\"\n",
    "\n",
    "        sents = [sent for sent in self.nlp(text.lower()).sents if sent.text]\n",
    "\n",
    "        full_sents = [sent.text for sent in sents]\n",
    "\n",
    "        tokenized = [[ token.lemma_ for token in sent\n",
    "                      if token.is_alpha\n",
    "                        and not token.is_punct\n",
    "                        and not token.is_stop ]\n",
    "                     for sent in sents ]\n",
    "        tokenized = [\" \".join(sent) for sent in tokenized]\n",
    "        # We do the above operation so that it can be exploded later\n",
    "\n",
    "        return full_sents, tokenized\n",
    "\n",
    "    def transform(self, dataset):\n",
    "        \"\"\" The main text processing function. \"\"\"\n",
    "\n",
    "        data = dataset.copy()\n",
    "\n",
    "        # Clean, split, and expand sentences\n",
    "        data[\"text\"] = data[\"text\"].apply(self._clean_text)\n",
    "        data.loc[:, [\"clean_text\", \"tokens\"]] = data[\"text\"].apply(\n",
    "            self._split_and_tokenize).apply(\n",
    "                lambda x: pd.Series(x, index=[\"clean_text\", \"tokens\"]))\n",
    "\n",
    "        # Sentences with less than 10 letters are filtered out since it is assumed\n",
    "        # that they contain less information\n",
    "        data = data.explode([\"clean_text\", \"tokens\"]).reset_index(drop=True)\n",
    "        data = data[data[\"clean_text\"].str.len() >= 10]\n",
    "\n",
    "        # Tokenize sentence\n",
    "        # Sentences with less than 5 words are also filtered out with the same reasoning\n",
    "        data[\"tokens\"] = data[\"tokens\"].apply(lambda x: x.split())\n",
    "        data = data[data[\"tokens\"].apply(lambda x: len(x) >= 5)]\n",
    "\n",
    "        return data"
   ]
  },
  {
   "cell_type": "code",
   "execution_count": 20,
   "id": "l7FJ0Won_Hdr",
   "metadata": {
    "executionInfo": {
     "elapsed": 4,
     "status": "ok",
     "timestamp": 1731969138061,
     "user": {
      "displayName": "",
      "userId": ""
     },
     "user_tz": -420
    },
    "id": "l7FJ0Won_Hdr"
   },
   "outputs": [],
   "source": [
    "data_processor = ProcessDataset(spacy_nlp)"
   ]
  },
  {
   "cell_type": "code",
   "execution_count": 21,
   "id": "1vdGnLQ9Tjm_",
   "metadata": {
    "colab": {
     "base_uri": "https://localhost:8080/",
     "height": 356
    },
    "executionInfo": {
     "elapsed": 109384,
     "status": "error",
     "timestamp": 1731969247441,
     "user": {
      "displayName": "",
      "userId": ""
     },
     "user_tz": -420
    },
    "id": "1vdGnLQ9Tjm_",
    "outputId": "0c1b38c6-f55c-4339-8964-43a2f4afcb13"
   },
   "outputs": [],
   "source": [
    "train_dataset = data_processor.transform(train_df)"
   ]
  },
  {
   "cell_type": "code",
   "execution_count": 22,
   "id": "yoEGANozlovE",
   "metadata": {
    "executionInfo": {
     "elapsed": 19,
     "status": "aborted",
     "timestamp": 1731969247441,
     "user": {
      "displayName": "",
      "userId": ""
     },
     "user_tz": -420
    },
    "id": "yoEGANozlovE"
   },
   "outputs": [
    {
     "data": {
      "text/html": [
       "<div>\n",
       "<style scoped>\n",
       "    .dataframe tbody tr th:only-of-type {\n",
       "        vertical-align: middle;\n",
       "    }\n",
       "\n",
       "    .dataframe tbody tr th {\n",
       "        vertical-align: top;\n",
       "    }\n",
       "\n",
       "    .dataframe thead th {\n",
       "        text-align: right;\n",
       "    }\n",
       "</style>\n",
       "<table border=\"1\" class=\"dataframe\">\n",
       "  <thead>\n",
       "    <tr style=\"text-align: right;\">\n",
       "      <th></th>\n",
       "      <th>clean_text</th>\n",
       "      <th>tokens</th>\n",
       "    </tr>\n",
       "  </thead>\n",
       "  <tbody>\n",
       "    <tr>\n",
       "      <th>2</th>\n",
       "      <td>sometimes the road to the pond is flooded so y...</td>\n",
       "      <td>[road, pond, flood, balance, concrete, block, ...</td>\n",
       "    </tr>\n",
       "    <tr>\n",
       "      <th>4</th>\n",
       "      <td>i recommend this place for tourists and i do n...</td>\n",
       "      <td>[recommend, place, tourist, recommend, litter,...</td>\n",
       "    </tr>\n",
       "    <tr>\n",
       "      <th>5</th>\n",
       "      <td>nice interpretation center, hard to find the w...</td>\n",
       "      <td>[nice, interpretation, center, hard, find, wil...</td>\n",
       "    </tr>\n",
       "    <tr>\n",
       "      <th>11</th>\n",
       "      <td>free to visit and they supply you with binocul...</td>\n",
       "      <td>[free, visit, supply, binocular, bird, identif...</td>\n",
       "    </tr>\n",
       "    <tr>\n",
       "      <th>12</th>\n",
       "      <td>if the water level is high, be prepared to get...</td>\n",
       "      <td>[water, level, high, prepared, little, wet, wa...</td>\n",
       "    </tr>\n",
       "  </tbody>\n",
       "</table>\n",
       "</div>"
      ],
      "text/plain": [
       "                                           clean_text  \\\n",
       "2   sometimes the road to the pond is flooded so y...   \n",
       "4   i recommend this place for tourists and i do n...   \n",
       "5   nice interpretation center, hard to find the w...   \n",
       "11  free to visit and they supply you with binocul...   \n",
       "12  if the water level is high, be prepared to get...   \n",
       "\n",
       "                                               tokens  \n",
       "2   [road, pond, flood, balance, concrete, block, ...  \n",
       "4   [recommend, place, tourist, recommend, litter,...  \n",
       "5   [nice, interpretation, center, hard, find, wil...  \n",
       "11  [free, visit, supply, binocular, bird, identif...  \n",
       "12  [water, level, high, prepared, little, wet, wa...  "
      ]
     },
     "execution_count": 22,
     "metadata": {},
     "output_type": "execute_result"
    }
   ],
   "source": [
    "train_dataset[[\"clean_text\", \"tokens\"]].head()"
   ]
  },
  {
   "cell_type": "code",
   "execution_count": 23,
   "id": "vyoa7edGpAb3",
   "metadata": {
    "executionInfo": {
     "elapsed": 19,
     "status": "aborted",
     "timestamp": 1731969247442,
     "user": {
      "displayName": "",
      "userId": ""
     },
     "user_tz": -420
    },
    "id": "vyoa7edGpAb3"
   },
   "outputs": [
    {
     "name": "stdout",
     "output_type": "stream",
     "text": [
      "<class 'pandas.core.frame.DataFrame'>\n",
      "Index: 229781 entries, 2 to 567575\n",
      "Data columns (total 7 columns):\n",
      " #   Column         Non-Null Count   Dtype         \n",
      "---  ------         --------------   -----         \n",
      " 0   business_id    229781 non-null  object        \n",
      " 1   business_name  229781 non-null  object        \n",
      " 2   user_id        229781 non-null  object        \n",
      " 3   time           229781 non-null  datetime64[ns]\n",
      " 4   text           229781 non-null  object        \n",
      " 5   clean_text     229781 non-null  object        \n",
      " 6   tokens         229781 non-null  object        \n",
      "dtypes: datetime64[ns](1), object(6)\n",
      "memory usage: 14.0+ MB\n"
     ]
    }
   ],
   "source": [
    "train_dataset.info()"
   ]
  },
  {
   "cell_type": "markdown",
   "id": "6dO6Wo9HCFJJ",
   "metadata": {
    "id": "6dO6Wo9HCFJJ"
   },
   "source": [
    "# Helper Functions\n",
    "\n",
    "---\n",
    "\n"
   ]
  },
  {
   "cell_type": "markdown",
   "id": "04ZwSan9NzPD",
   "metadata": {
    "id": "04ZwSan9NzPD"
   },
   "source": [
    "This section contains some helper functions, including review selection, cluster evaluation, cluster visualization, and cluster naming.\n",
    "\n",
    "For cluster visualization, we use the Python library [Plotly](https://plotly.com/). For cluster naming, we use the [OpenAI API](https://platform.openai.com/docs/overview). The details can be found in the function implementations below."
   ]
  },
  {
   "cell_type": "code",
   "execution_count": 24,
   "id": "Y_wuxYQFRxGI",
   "metadata": {
    "executionInfo": {
     "elapsed": 19,
     "status": "aborted",
     "timestamp": 1731969247442,
     "user": {
      "displayName": "",
      "userId": ""
     },
     "user_tz": -420
    },
    "id": "Y_wuxYQFRxGI",
    "tags": []
   },
   "outputs": [],
   "source": [
    "from sklearn.base import BaseEstimator, TransformerMixin\n",
    "from sklearn.pipeline import Pipeline\n",
    "\n",
    "from sklearn.cluster import HDBSCAN\n",
    "from sklearn.decomposition import PCA\n",
    "\n",
    "from sklearn.metrics import silhouette_score, davies_bouldin_score, calinski_harabasz_score"
   ]
  },
  {
   "cell_type": "code",
   "execution_count": 98,
   "id": "8iZPIqcaYtnD",
   "metadata": {
    "executionInfo": {
     "elapsed": 19,
     "status": "aborted",
     "timestamp": 1731969247442,
     "user": {
      "displayName": "",
      "userId": ""
     },
     "user_tz": -420
    },
    "id": "8iZPIqcaYtnD"
   },
   "outputs": [],
   "source": [
    "# Helper functions for data selection, cluster evaluation, and visualization\n",
    "class HDBSCANClustering(BaseEstimator, TransformerMixin):\n",
    "\n",
    "    def __init__(self, apply_dim_reduction=False):\n",
    "        self.model = HDBSCAN(metric=\"cosine\",\n",
    "                             min_cluster_size=2,\n",
    "                             cluster_selection_epsilon=0.1)\n",
    "        self.labels_ = None\n",
    "\n",
    "        # Apply PCA to remove correlation and reduce dimension. \n",
    "        # This supposedly improve clustering result.\n",
    "        self.apply_dim_reduction = apply_dim_reduction\n",
    "        self.reducer = PCA()\n",
    "\n",
    "    def fit(self, X, y=None):\n",
    "        \"\"\" Fit the cluster. \"\"\"\n",
    "\n",
    "        # Optionally apply PCA before clustering\n",
    "        if self.apply_dim_reduction:\n",
    "            X = self.reducer.fit_transform(X)\n",
    "\n",
    "        # Predict the label\n",
    "        self.labels_ = self.model.fit_predict(X)\n",
    "        return self\n",
    "\n",
    "    def transform(self, X):\n",
    "        \"\"\" Return the label \"\"\"\n",
    "        \n",
    "        return self.labels_\n",
    "\n",
    "def select_dataset(dataset, business_id, sentiment_model):\n",
    "    \"\"\"\n",
    "      Select dataset based on the business_id on the past 6 months time period,\n",
    "      also encode the sentiment using a pretrained model.\n",
    "    \"\"\"\n",
    "\n",
    "    # Select data based on `business_id`\n",
    "    data = dataset[dataset[\"business_id\"] == business_id].copy()\n",
    "\n",
    "    # Select reviews from last years\n",
    "    time_limit = data[\"time\"].max() - pd.DateOffset(months=12)\n",
    "    data = data[data[\"time\"] >= time_limit]\n",
    "\n",
    "    # Extract the sentiment using a pretrained model\n",
    "    data[\"sentiment\"] = data[\"clean_text\"].apply(lambda x: sentiment_model(x))\n",
    "    data[\"sentiment\"] = data[\"sentiment\"].apply(lambda x: x[0][\"label\"])\n",
    "\n",
    "    return data\n",
    "\n",
    "def evaluate_cluster(X, y, name):\n",
    "    \"\"\"\n",
    "        Evaluate clustering result using 3 evaluation metrics:\n",
    "        1. `silhouette_score`: a metric used to calculate the goodness of fit\n",
    "            of a clustering algorithm. Its value ranges from -1 to 1.\n",
    "        2. `davies_bouldin_score`: the average similarity measure of each cluster\n",
    "            with its most similar cluster. The minimum value is 0 for better model.\n",
    "        3. `calinski_harabasz_score`: the ratio of the sum of between-cluster dispersion\n",
    "            and of within-cluster dispersion. Higher index indicates separable clusters.\n",
    "    \"\"\"\n",
    "    evaluation_scores = {}\n",
    "    evaluation_scores[\"silhouette_score\"] = [silhouette_score(X, y)]\n",
    "    evaluation_scores[\"davies_bouldin_score\"] = [davies_bouldin_score(X, y)]\n",
    "    evaluation_scores[\"calinski_harabasz_score\"] = [calinski_harabasz_score(X, y)]\n",
    "\n",
    "    return pd.DataFrame(evaluation_scores,\n",
    "                        index=[f\"{name.title()} Reviews\"]).T\n",
    "\n",
    "def visualize_cluster(fig, df, x_column, y_column,\n",
    "                      row=None, sentiment=\"positive\", show_outliers=True):\n",
    "    \n",
    "    \"\"\" Visualize the review clusters \"\"\"\n",
    "    \n",
    "    # To exclude or include the data labeled as \"noise\"\n",
    "    if not show_outliers:\n",
    "        n_noise = df[df[y_column] == \"Other\"][y_column].count()\n",
    "        print(f\"Outliers ratio ({sentiment}): {n_noise}/{len(df)}\")\n",
    "        \n",
    "        df = df[df[y_column] != \"Other\"].copy()\n",
    "\n",
    "    # Perform PCA transformation for visualization\n",
    "    pca = PCA(n_components=2)\n",
    "    df[\"pca\"] = list(pca.fit_transform(np.vstack(df[x_column].values)))\n",
    "    df[[\"pca_x\", \"pca_y\"]] = pd.DataFrame(df[\"pca\"].tolist(), index=df.index)\n",
    "\n",
    "    # Encode the cluster label as category\n",
    "    df[y_column] = df[y_column].astype(\"category\")\n",
    "\n",
    "    # Plot with px.scatter using the new PCA columns\n",
    "    fig_px = px.scatter(df,\n",
    "                        x=\"pca_x\",\n",
    "                        y=\"pca_y\",\n",
    "                        color=df[y_column],\n",
    "                        hover_data={\"clean_text\": True, y_column: True,\n",
    "                                    \"pca_x\": False, \"pca_y\": False},\n",
    "                        color_discrete_sequence=px.colors.qualitative.Set1)\n",
    "\n",
    "    # Add this plot to the subplot column\n",
    "    for trace in fig_px.data:\n",
    "        trace.legendgroup = row\n",
    "        trace.showlegend = True\n",
    "        fig.add_trace(trace, row=row, col=1)\n",
    "\n",
    "client = OpenAI(\n",
    "    api_key = api_key\n",
    ")\n",
    "\n",
    "def get_cluster_centroids(data, wv_col, label_col, n):\n",
    "    \"\"\" Get the top n-items closest to the cluster. \"\"\"\n",
    "\n",
    "    # Remove the items labeled as \"noise\", this will be labeled as \"Other\".\n",
    "    data = data[data[label_col] > 0]\n",
    "\n",
    "    # Get the unique cluster\n",
    "    unique_clusters = np.unique(data[label_col])\n",
    "\n",
    "    text_data = {}\n",
    "    for id_ in unique_clusters:\n",
    "        # Get the cluster data\n",
    "        cluster_data = data[data[label_col] == id_]\n",
    "        cluster_wv = np.array(cluster_data[wv_col].tolist())\n",
    "\n",
    "        # Calculate the centroid by taking the mean\n",
    "        centroid = np.mean(cluster_wv, axis=0)\n",
    "\n",
    "        # Compute the distance to the centroid for each item\n",
    "        distances = np.linalg.norm(cluster_wv - centroid, axis=1)\n",
    "\n",
    "        # Get the top n-items\n",
    "        closest_indices = np.argsort(distances)[:n]\n",
    "\n",
    "        # Collect the text\n",
    "        closest_texts = cluster_data.iloc[closest_indices][\"clean_text\"].tolist()\n",
    "        text_data[id_] = closest_texts\n",
    "\n",
    "    return text_data\n",
    "\n",
    "def name_cluster(text_samples):\n",
    "    \"\"\"\n",
    "      Name the cluster based on the review's content using OpenAI API.\n",
    "    \"\"\"\n",
    "\n",
    "    prompt = f\"\"\"\n",
    "        You are an expert in giving a descriptive topic to a given list of sentences.\n",
    "        The sentences may have different topics, so choose the commonly shared one.\n",
    "        Please return the topic as consice as possible, maximum in 3 words.\n",
    "\n",
    "        There are maximum of 5 sentences as the input.\n",
    "        The content of the sentences is limited to customer reviews for a tourist attraction sites.\n",
    "\n",
    "        Here is an example with 3 setences:\n",
    "\n",
    "        INPUT\n",
    "        'Gorgeous place to visit, it can get crowded on holidays.'\n",
    "        'Great hike and beautiful views.'\n",
    "        'Awesome view.'\n",
    "        ENDINPUT\n",
    "\n",
    "        LABEL 'Scenic view'\n",
    "\n",
    "        So here is the sentences:\n",
    "        INPUT\n",
    "        {text_samples}\n",
    "        ENDINPUT\n",
    "\n",
    "        LABEL ...\n",
    "    \"\"\"\n",
    "    # Create a request\n",
    "    response = client.chat.completions.create(\n",
    "        model=\"gpt-3.5-turbo\",\n",
    "        messages=[{\"role\": \"user\", \"content\": prompt}]\n",
    "    )\n",
    "\n",
    "    return response.choices[0].message.content"
   ]
  },
  {
   "cell_type": "markdown",
   "id": "7ETB5AQmP3eB",
   "metadata": {
    "id": "7ETB5AQmP3eB"
   },
   "source": [
    "# `SentenceTransformer` Model\n",
    "\n",
    "---\n",
    "\n"
   ]
  },
  {
   "cell_type": "markdown",
   "id": "bvNAkdi52giB",
   "metadata": {
    "id": "bvNAkdi52giB"
   },
   "source": [
    "Our goal in this project is to group customer reviews into clusters based on the topics of the reviews. To do this, the appropriate feature representation is **word vectors**.\n",
    "\n",
    "To obtain word vectors from a sentence, we commonly use deep neural networks, either by training a model ourself or by using a pretrained one. Nowadays, several pretrained models are available for extracting word vectors.\n",
    "\n",
    "The advantage of using a pretrained model is that its trained using advanced network on a large and diverse dataset. Though, the disavantage is that it may be less specific to the dataset. However, in general, these pretrained models perform well in most cases.\n",
    "\n",
    "In this project, we use a pre-trained lightweight but high-performing model, [sentence-transformers/all-MiniLM-L6-v2](https://huggingface.co/sentence-transformers/all-MiniLM-L6-v2). To make the **sentence-level embedding extraction** easier, we use the [`SentenceTransformer` framework](https://github.com/UKPLab/sentence-transformers).\n",
    "\n",
    "Before we do the clustering, we divided the reviews based on its sentiment (positive/negative). For this task, we also use a pre-trained sentiment model, `cardiffnlp/twitter-roberta-base-sentiment-latest`."
   ]
  },
  {
   "cell_type": "markdown",
   "id": "kVpU8-D9P9Ee",
   "metadata": {
    "id": "kVpU8-D9P9Ee"
   },
   "source": [
    "## Clustering"
   ]
  },
  {
   "cell_type": "code",
   "execution_count": 26,
   "id": "8e8d345e-89fc-4646-b0d0-08e0f8247133",
   "metadata": {
    "tags": []
   },
   "outputs": [
    {
     "name": "stderr",
     "output_type": "stream",
     "text": [
      "/opt/conda/lib/python3.10/site-packages/sentence_transformers/cross_encoder/CrossEncoder.py:13: TqdmExperimentalWarning: Using `tqdm.autonotebook.tqdm` in notebook mode. Use `tqdm.tqdm` instead to force console mode (e.g. in jupyter console)\n",
      "  from tqdm.autonotebook import tqdm, trange\n"
     ]
    }
   ],
   "source": [
    "from sentence_transformers import SentenceTransformer\n",
    "from transformers import pipeline"
   ]
  },
  {
   "cell_type": "code",
   "execution_count": 27,
   "id": "dc8d2188-dc32-42c1-9002-2aac9d170971",
   "metadata": {
    "executionInfo": {
     "elapsed": 19,
     "status": "aborted",
     "timestamp": 1731969247442,
     "user": {
      "displayName": "",
      "userId": ""
     },
     "user_tz": -420
    },
    "id": "bT26QRCfqcet",
    "tags": []
   },
   "outputs": [
    {
     "name": "stderr",
     "output_type": "stream",
     "text": [
      "/opt/conda/lib/python3.10/site-packages/transformers/tokenization_utils_base.py:1601: FutureWarning: `clean_up_tokenization_spaces` was not set. It will be set to `True` by default. This behavior will be depracted in transformers v4.45, and will be then set to `False` by default. For more details check this issue: https://github.com/huggingface/transformers/issues/31884\n",
      "  warnings.warn(\n"
     ]
    }
   ],
   "source": [
    "transformer_wv_model = SentenceTransformer(\"sentence-transformers/all-MiniLM-L6-v2\")"
   ]
  },
  {
   "cell_type": "code",
   "execution_count": 28,
   "id": "374b48f6-8c00-4ca9-812d-d4dd21c83e60",
   "metadata": {
    "executionInfo": {
     "elapsed": 18,
     "status": "aborted",
     "timestamp": 1731969247442,
     "user": {
      "displayName": "",
      "userId": ""
     },
     "user_tz": -420
    },
    "id": "cLERCUP8NHT7",
    "tags": []
   },
   "outputs": [
    {
     "name": "stderr",
     "output_type": "stream",
     "text": [
      "Some weights of the model checkpoint at cardiffnlp/twitter-roberta-base-sentiment-latest were not used when initializing RobertaForSequenceClassification: ['roberta.pooler.dense.bias', 'roberta.pooler.dense.weight']\n",
      "- This IS expected if you are initializing RobertaForSequenceClassification from the checkpoint of a model trained on another task or with another architecture (e.g. initializing a BertForSequenceClassification model from a BertForPreTraining model).\n",
      "- This IS NOT expected if you are initializing RobertaForSequenceClassification from the checkpoint of a model that you expect to be exactly identical (initializing a BertForSequenceClassification model from a BertForSequenceClassification model).\n"
     ]
    }
   ],
   "source": [
    "sentiment_model = pipeline(model=\"cardiffnlp/twitter-roberta-base-sentiment-latest\")"
   ]
  },
  {
   "cell_type": "code",
   "execution_count": 29,
   "id": "a1a446b1-7d3a-48c5-80c3-356023228a2d",
   "metadata": {
    "executionInfo": {
     "elapsed": 18,
     "status": "aborted",
     "timestamp": 1731969247442,
     "user": {
      "displayName": "",
      "userId": ""
     },
     "user_tz": -420
    },
    "id": "6-kwcak9jDkh",
    "tags": []
   },
   "outputs": [],
   "source": [
    "class TransformerWVEncoder(BaseEstimator, TransformerMixin):\n",
    "    \"\"\" Wrap the transformer model to make it compatible with scikit-learn. \"\"\"\n",
    "\n",
    "    def __init__(self, model):\n",
    "        # Load the Transformer model\n",
    "        self.model = model\n",
    "\n",
    "    def fit(self, X, y=None):\n",
    "        return self\n",
    "\n",
    "    def transform(self, X):\n",
    "        \"\"\" Transform the data using the transformer model. \"\"\"\n",
    "\n",
    "        # We use the unit vector of the word embedding (magnitude=1)\n",
    "        wv = X.apply(lambda x: self.model.encode(x, normalize_embeddings=True))\n",
    "        return wv"
   ]
  },
  {
   "cell_type": "code",
   "execution_count": 30,
   "id": "1707ff0a-2aaf-43cd-a09b-ddd9f59cb405",
   "metadata": {
    "executionInfo": {
     "elapsed": 18,
     "status": "aborted",
     "timestamp": 1731969247442,
     "user": {
      "displayName": "",
      "userId": ""
     },
     "user_tz": -420
    },
    "id": "25CKWNwAVkO0",
    "tags": []
   },
   "outputs": [],
   "source": [
    "transformer_encoder = TransformerWVEncoder(transformer_wv_model)"
   ]
  },
  {
   "cell_type": "code",
   "execution_count": 91,
   "id": "ee3aa14c-90b8-4f66-bc74-fc27f8395472",
   "metadata": {
    "executionInfo": {
     "elapsed": 19,
     "status": "aborted",
     "timestamp": 1731969247443,
     "user": {
      "displayName": "",
      "userId": ""
     },
     "user_tz": -420
    },
    "id": "fgawwu5T1rKU",
    "tags": []
   },
   "outputs": [],
   "source": [
    "business_id = np.random.choice(train_dataset[\"business_id\"])"
   ]
  },
  {
   "cell_type": "code",
   "execution_count": 99,
   "id": "e974641a-6b86-40c3-8664-31e130f646e6",
   "metadata": {
    "executionInfo": {
     "elapsed": 18,
     "status": "aborted",
     "timestamp": 1731969247442,
     "user": {
      "displayName": "",
      "userId": ""
     },
     "user_tz": -420
    },
    "id": "w31s4Pkgjq0n",
    "tags": []
   },
   "outputs": [
    {
     "name": "stdout",
     "output_type": "stream",
     "text": [
      "Business name: Haleakalā National Park\n",
      "\n",
      "Number of positive reviews: 69\n",
      "Outliers ratio (positive): 22/69\n",
      "\n",
      "Number of negative reviews: 12\n",
      "Outliers ratio (negative): 3/12\n",
      "\n"
     ]
    },
    {
     "data": {
      "application/vnd.plotly.v1+json": {
       "config": {
        "plotlyServerURL": "https://plot.ly"
       },
       "data": [
        {
         "customdata": [
          [
           "the summit at just over 10k feet makes you work for your hikes, especially the climb back out of the crater!  ",
           "'Scenic drive'"
          ],
          [
           "if there are a very small group of you with two cars, one-way trips from top to bottom or bottom to top may be more enjoyable.",
           "'Scenic drive'"
          ],
          [
           "beautiful drive up the mountain through many distinct environments.",
           "'Scenic drive'"
          ],
          [
           "i strongly recommend renting a convertible for the day and drop that top.",
           "'Scenic drive'"
          ],
          [
           "beautiful drive with amazing scene of the coastline, roaming cattle, and tasty fruit stands.",
           "'Scenic drive'"
          ],
          [
           "long drive up the mountain but well worth the trip.",
           "'Scenic drive'"
          ],
          [
           "it is a long winding drive to the summit, but it is really worth it.",
           "'Scenic drive'"
          ]
         ],
         "hovertemplate": "label=%{customdata[1]}<br>clean_text=%{customdata[0]}<extra></extra>",
         "legendgroup": "1",
         "marker": {
          "color": "rgb(228,26,28)",
          "symbol": "circle"
         },
         "mode": "markers",
         "name": "'Scenic drive'",
         "orientation": "v",
         "showlegend": true,
         "type": "scatter",
         "x": [
          0.2892400324344635,
          0.3179358243942261,
          0.18497003614902496,
          -0.05410946533083916,
          0.17965227365493774,
          0.28792762756347656,
          0.4195348024368286
         ],
         "xaxis": "x",
         "y": [
          -0.06801804900169373,
          -0.39313575625419617,
          0.1358775645494461,
          -0.33661118149757385,
          0.15548980236053467,
          -0.19563457369804382,
          -0.17339085042476654
         ],
         "yaxis": "y"
        },
        {
         "customdata": [
          [
           "the national park includes an extinct volcano on a tropical island and is one of the most stunning parks in the whole of the us.",
           "'National Park Beauty'"
          ],
          [
           "great visit but compared to other national parks, there isn't as much to see or do here",
           "'National Park Beauty'"
          ]
         ],
         "hovertemplate": "label=%{customdata[1]}<br>clean_text=%{customdata[0]}<extra></extra>",
         "legendgroup": "1",
         "marker": {
          "color": "rgb(55,126,184)",
          "symbol": "circle"
         },
         "mode": "markers",
         "name": "'National Park Beauty'",
         "orientation": "v",
         "showlegend": true,
         "type": "scatter",
         "x": [
          0.12677468359470367,
          0.07448766380548477
         ],
         "xaxis": "x",
         "y": [
          0.3239089250564575,
          0.07942666113376617
         ],
         "yaxis": "y"
        },
        {
         "customdata": [
          [
           "i highly recommend a visit for sunrise or sunset, too.",
           "'Sunrise view'"
          ],
          [
           "i think the sunsets are prettier, and you'll see more variation of colours; but there's something wonderful about seeing the sunrise from the summit before tackling a day-long hike!  ",
           "'Sunrise view'"
          ],
          [
           "i recommend this place, especially for sundown and most of all, sunrises here are amazing!!!",
           "'Sunrise view'"
          ],
          [
           "the sunset is beautiful, but be sure to wear warm clothes because the temperature drops once the sun starts setting.",
           "'Sunrise view'"
          ],
          [
           "i highly recommend reserving a spot to watch sunrise.",
           "'Sunrise view'"
          ],
          [
           "an amazing sight to see, i would highly highly recommend visiting.",
           "'Sunrise view'"
          ],
          [
           "best place to watch the sunrise,  pack warm!",
           "'Sunrise view'"
          ],
          [
           "must visit place  stunning sunrise , and be advised to dress very warm.",
           "'Sunrise view'"
          ],
          [
           "breathtaking experiences the sunset and sunrise make sure you dress appropriately very very warm clothes",
           "'Sunrise view'"
          ],
          [
           " to watch the sunrise, blankets are a must... even when the sun rises, you can still see the wonderful scenery.",
           "'Sunrise view'"
          ]
         ],
         "hovertemplate": "label=%{customdata[1]}<br>clean_text=%{customdata[0]}<extra></extra>",
         "legendgroup": "1",
         "marker": {
          "color": "rgb(77,175,74)",
          "symbol": "circle"
         },
         "mode": "markers",
         "name": "'Sunrise view'",
         "orientation": "v",
         "showlegend": true,
         "type": "scatter",
         "x": [
          -0.3577116131782532,
          -0.2827053666114807,
          -0.46399763226509094,
          -0.5509029030799866,
          -0.3649170398712158,
          -0.0006287290598265827,
          -0.44599074125289917,
          -0.5337377190589905,
          -0.48832106590270996,
          -0.5095952749252319
         ],
         "xaxis": "x",
         "y": [
          -0.14510804414749146,
          -0.12407174706459045,
          -0.0730053037405014,
          -0.17646820843219757,
          -0.17288511991500854,
          0.10282009094953537,
          -0.17124535143375397,
          -0.10906673222780228,
          -0.05728653818368912,
          -0.23064135015010834
         ],
         "yaxis": "y"
        },
        {
         "customdata": [
          [
           "we got clouds on our sunrise reservation but the pure quiet and seeing how small we all are is truly breathtaking.",
           "'Majestic sunrise'"
          ],
          [
           "got up at 3 and reached 10,000 feet above the sea to witness the most beautiful sunrise with clouds as audience.",
           "'Majestic sunrise'"
          ],
          [
           "elevated 10,000 ft above the  clouds great place.  ",
           "'Majestic sunrise'"
          ]
         ],
         "hovertemplate": "label=%{customdata[1]}<br>clean_text=%{customdata[0]}<extra></extra>",
         "legendgroup": "1",
         "marker": {
          "color": "rgb(152,78,163)",
          "symbol": "circle"
         },
         "mode": "markers",
         "name": "'Majestic sunrise'",
         "orientation": "v",
         "showlegend": true,
         "type": "scatter",
         "x": [
          -0.2614918351173401,
          -0.21098054945468903,
          -0.014342764392495155
         ],
         "xaxis": "x",
         "y": [
          0.12027127295732498,
          0.08526351302862167,
          0.1859598308801651
         ],
         "yaxis": "y"
        },
        {
         "customdata": [
          [
           "words cannot describe just how amazing our creator made such a lovely place...",
           "'Natural beauty'"
          ],
          [
           "words and pictures don't do justice for the beauty you experience here!",
           "'Natural beauty'"
          ]
         ],
         "hovertemplate": "label=%{customdata[1]}<br>clean_text=%{customdata[0]}<extra></extra>",
         "legendgroup": "1",
         "marker": {
          "color": "rgb(255,127,0)",
          "symbol": "circle"
         },
         "mode": "markers",
         "name": "'Natural beauty'",
         "orientation": "v",
         "showlegend": true,
         "type": "scatter",
         "x": [
          0.04569729045033455,
          0.006839417386800051
         ],
         "xaxis": "x",
         "y": [
          0.40998807549476624,
          0.3778327405452728
         ],
         "yaxis": "y"
        },
        {
         "customdata": [
          [
           "we entered on road to hana to access the pipiwai trail (best hike to see amazing waterfalls and bamboo forests).",
           "'National park visit'"
          ],
          [
           "great national park on the road to hana.",
           "'National park visit'"
          ],
          [
           "do this with the shaka guide app for extra fun hikes and information.",
           "'National park visit'"
          ]
         ],
         "hovertemplate": "label=%{customdata[1]}<br>clean_text=%{customdata[0]}<extra></extra>",
         "legendgroup": "1",
         "marker": {
          "color": "rgb(255,255,51)",
          "symbol": "circle"
         },
         "mode": "markers",
         "name": "'National park visit'",
         "orientation": "v",
         "showlegend": true,
         "type": "scatter",
         "x": [
          0.31765231490135193,
          0.19508442282676697,
          0.1787644773721695
         ],
         "xaxis": "x",
         "y": [
          0.0561884343624115,
          0.17716069519519806,
          -0.10819068551063538
         ],
         "yaxis": "y"
        },
        {
         "customdata": [
          [
           "it's a good change of scenery from your maui beaches.",
           "'Volcano visit'"
          ],
          [
           "truly inner if the highlights of my two week trip here to maui!",
           "'Volcano visit'"
          ],
          [
           "crazy cool volcano to visit when you're in maui.",
           "'Volcano visit'"
          ]
         ],
         "hovertemplate": "label=%{customdata[1]}<br>clean_text=%{customdata[0]}<extra></extra>",
         "legendgroup": "1",
         "marker": {
          "color": "rgb(166,86,40)",
          "symbol": "circle"
         },
         "mode": "markers",
         "name": "'Volcano visit'",
         "orientation": "v",
         "showlegend": true,
         "type": "scatter",
         "x": [
          0.051088619977235794,
          -0.002923516323789954,
          0.0933803841471672
         ],
         "xaxis": "x",
         "y": [
          0.17226670682430267,
          0.18111325800418854,
          0.3335115611553192
         ],
         "yaxis": "y"
        },
        {
         "customdata": [
          [
           "it was very windy and cold in december but worth every moment.",
           "'Climbing experience'"
          ],
          [
           "we arrived at the summit when it was sunny, so the wind was not high, and the temperature was cool - not cold as we thought.",
           "'Climbing experience'"
          ]
         ],
         "hovertemplate": "label=%{customdata[1]}<br>clean_text=%{customdata[0]}<extra></extra>",
         "legendgroup": "1",
         "marker": {
          "color": "rgb(247,129,191)",
          "symbol": "circle"
         },
         "mode": "markers",
         "name": "'Climbing experience'",
         "orientation": "v",
         "showlegend": true,
         "type": "scatter",
         "x": [
          -0.022104406729340553,
          -0.19389531016349792
         ],
         "xaxis": "x",
         "y": [
          -0.2837315797805786,
          -0.19545143842697144
         ],
         "yaxis": "y"
        },
        {
         "customdata": [
          [
           "great and awesome amazing experience that only a frew in the world have been.. a must have on your bucket list.....",
           "'National Park Amenities'"
          ],
          [
           "i felt like my car was safe parked at the national park parking lot and the restrooms were pristine and fully stocked.",
           "'National Park Amenities'"
          ]
         ],
         "hovertemplate": "label=%{customdata[1]}<br>clean_text=%{customdata[0]}<extra></extra>",
         "legendgroup": "1",
         "marker": {
          "color": "rgb(153,153,153)",
          "symbol": "circle"
         },
         "mode": "markers",
         "name": "'National Park Amenities'",
         "orientation": "v",
         "showlegend": true,
         "type": "scatter",
         "x": [
          0.13980919122695923,
          0.19307269155979156
         ],
         "xaxis": "x",
         "y": [
          0.13684280216693878,
          -0.008685946464538574
         ],
         "yaxis": "y"
        },
        {
         "customdata": [
          [
           "was a cool place, almost had hypothermia from the bad weather though so be super prepared!",
           "'Extreme weather'"
          ],
          [
           "amazing experience, be prepared it really cold before sun rises.",
           "'Extreme weather'"
          ]
         ],
         "hovertemplate": "label=%{customdata[1]}<br>clean_text=%{customdata[0]}<extra></extra>",
         "legendgroup": "1",
         "marker": {
          "color": "rgb(228,26,28)",
          "symbol": "circle"
         },
         "mode": "markers",
         "name": "'Extreme weather'",
         "orientation": "v",
         "showlegend": true,
         "type": "scatter",
         "x": [
          -0.2079867422580719,
          -0.2863074243068695
         ],
         "xaxis": "x",
         "y": [
          -0.15321984887123108,
          -0.2523249089717865
         ],
         "yaxis": "y"
        },
        {
         "customdata": [
          [
           "the road was a little scary but so worth getting to the top.",
           "'Challenging drive'"
          ],
          [
           "the drive up is a little scary, but totally worth the effort.",
           "'Challenging drive'"
          ],
          [
           "the drive up was long for us, but because we took our time to enjoy the changing sceneries.  highly recommended.",
           "'Challenging drive'"
          ]
         ],
         "hovertemplate": "label=%{customdata[1]}<br>clean_text=%{customdata[0]}<extra></extra>",
         "legendgroup": "1",
         "marker": {
          "color": "rgb(55,126,184)",
          "symbol": "circle"
         },
         "mode": "markers",
         "name": "'Challenging drive'",
         "orientation": "v",
         "showlegend": true,
         "type": "scatter",
         "x": [
          0.381202757358551,
          0.40430477261543274,
          0.3675602376461029
         ],
         "xaxis": "x",
         "y": [
          -0.2232731729745865,
          -0.31764501333236694,
          -0.30575549602508545
         ],
         "yaxis": "y"
        },
        {
         "customdata": [
          [
           "wow, wow spectacular, the most breathtaking views you would ever see.",
           "'Panoramic views'"
          ],
          [
           "majestic views which ordinarily could only be seen through an airplane's windows - so  wonderful.  ",
           "'Panoramic views'"
          ],
          [
           " beautiful place beautiful views above the clouds worth seeing if someone else can see this place",
           "'Panoramic views'"
          ]
         ],
         "hovertemplate": "label=%{customdata[1]}<br>clean_text=%{customdata[0]}<extra></extra>",
         "legendgroup": "1",
         "marker": {
          "color": "rgb(77,175,74)",
          "symbol": "circle"
         },
         "mode": "markers",
         "name": "'Panoramic views'",
         "orientation": "v",
         "showlegend": true,
         "type": "scatter",
         "x": [
          0.031633783131837845,
          -0.04992828518152237,
          -0.17191319167613983
         ],
         "xaxis": "x",
         "y": [
          0.40762946009635925,
          0.3337661325931549,
          0.33796805143356323
         ],
         "yaxis": "y"
        },
        {
         "customdata": [
          [
           "the hike was amazing, but the kids weren't quite up to going 11 miles.",
           "'Hiking trail conditions'"
          ],
          [
           "it was a moderate hike during the wet months as it was fairly slippery for 3.7 miles roundtrip, but totally doable.",
           "'Hiking trail conditions'"
          ],
          [
           "great hike to falls trail was muddy and can be very challenging at times.",
           "'Hiking trail conditions'"
          ]
         ],
         "hovertemplate": "label=%{customdata[1]}<br>clean_text=%{customdata[0]}<extra></extra>",
         "legendgroup": "1",
         "marker": {
          "color": "rgb(152,78,163)",
          "symbol": "circle"
         },
         "mode": "markers",
         "name": "'Hiking trail conditions'",
         "orientation": "v",
         "showlegend": true,
         "type": "scatter",
         "x": [
          0.4189859926700592,
          0.35135674476623535,
          0.4191330075263977
         ],
         "xaxis": "x",
         "y": [
          -0.17117717862129211,
          -0.25844624638557434,
          -0.13990606367588043
         ],
         "yaxis": "y"
        },
        {
         "customdata": [
          [
           "beautiful volcano....looks like you're on mars....",
           "'Volcano views'"
          ],
          [
           "amazing views of a dormant super volcano sitting above the clouds!",
           "'Volcano views'"
          ]
         ],
         "hovertemplate": "label=%{customdata[1]}<br>clean_text=%{customdata[0]}<extra></extra>",
         "legendgroup": "1",
         "marker": {
          "color": "rgb(255,127,0)",
          "symbol": "circle"
         },
         "mode": "markers",
         "name": "'Volcano views'",
         "orientation": "v",
         "showlegend": true,
         "type": "scatter",
         "x": [
          0.05030378699302673,
          -0.051901549100875854
         ],
         "xaxis": "x",
         "y": [
          0.3302840292453766,
          0.40080732107162476
         ],
         "yaxis": "y"
        },
        {
         "customdata": [
          [
           "however, parking can be a severe problem, so you may have to drop passengers off before finding a space in one of the lower car parks.",
           "'Mountain weather'"
          ],
          [
           "you don't want to drive all the way up there and be socked in with clouds.  ",
           "'Mountain weather'"
          ],
          [
           "it's windy and the cold blows right through to your bones",
           "'Mountain weather'"
          ],
          [
           "i was here january 2021 and the waters were raging, so no swimming allowed.",
           "'Mountain weather'"
          ],
          [
           "if everyone is silent then there is truly silence up there and that is hard to find",
           "'Mountain weather'"
          ]
         ],
         "hovertemplate": "label=%{customdata[1]}<br>clean_text=%{customdata[0]}<extra></extra>",
         "legendgroup": "2",
         "marker": {
          "color": "rgb(228,26,28)",
          "symbol": "circle"
         },
         "mode": "markers",
         "name": "'Mountain weather'",
         "orientation": "v",
         "showlegend": true,
         "type": "scatter",
         "x": [
          -0.6850672960281372,
          -0.3524790406227112,
          0.1888110339641571,
          0.1312015801668167,
          -0.29519638419151306
         ],
         "xaxis": "x2",
         "y": [
          0.28572767972946167,
          -0.284883975982666,
          -0.4381920397281647,
          -0.5294987559318542,
          0.2397555708885193
         ],
         "yaxis": "y2"
        },
        {
         "customdata": [
          [
           "wish the crater had more hot lava spewing on us",
           "'Volcano experience'"
          ],
          [
           "it was a long and winding road to get to this point, and taking the road to hana had it's challenges during covid as many bathroom locations were closed.",
           "'Volcano experience'"
          ]
         ],
         "hovertemplate": "label=%{customdata[1]}<br>clean_text=%{customdata[0]}<extra></extra>",
         "legendgroup": "2",
         "marker": {
          "color": "rgb(55,126,184)",
          "symbol": "circle"
         },
         "mode": "markers",
         "name": "'Volcano experience'",
         "orientation": "v",
         "showlegend": true,
         "type": "scatter",
         "x": [
          0.2649140954017639,
          -0.1461765468120575
         ],
         "xaxis": "x2",
         "y": [
          -0.18927542865276337,
          -0.017253775149583817
         ],
         "yaxis": "y2"
        },
        {
         "customdata": [
          [
           "silver sword....looks like it was spray painted....dont touch...",
           "'Hawaiian souvenir'"
          ],
          [
           "kinda wrong to charge kamaina really ridiculous!",
           "'Hawaiian souvenir'"
          ]
         ],
         "hovertemplate": "label=%{customdata[1]}<br>clean_text=%{customdata[0]}<extra></extra>",
         "legendgroup": "2",
         "marker": {
          "color": "rgb(77,175,74)",
          "symbol": "circle"
         },
         "mode": "markers",
         "name": "'Hawaiian souvenir'",
         "orientation": "v",
         "showlegend": true,
         "type": "scatter",
         "x": [
          0.708090603351593,
          0.18590211868286133
         ],
         "xaxis": "x2",
         "y": [
          0.3683844804763794,
          0.5652362704277039
         ],
         "yaxis": "y2"
        }
       ],
       "layout": {
        "annotations": [
         {
          "font": {
           "size": 16
          },
          "showarrow": false,
          "text": "Positive Reviews",
          "x": 0.5,
          "xanchor": "center",
          "xref": "paper",
          "y": 1,
          "yanchor": "bottom",
          "yref": "paper"
         },
         {
          "font": {
           "size": 16
          },
          "showarrow": false,
          "text": "Negative Reviews",
          "x": 0.5,
          "xanchor": "center",
          "xref": "paper",
          "y": 0.375,
          "yanchor": "bottom",
          "yref": "paper"
         }
        ],
        "height": 800,
        "legend": {
         "tracegroupgap": 100,
         "x": 1.05,
         "xanchor": "left",
         "y": 1,
         "yanchor": "top"
        },
        "template": {
         "data": {
          "bar": [
           {
            "error_x": {
             "color": "#2a3f5f"
            },
            "error_y": {
             "color": "#2a3f5f"
            },
            "marker": {
             "line": {
              "color": "#E5ECF6",
              "width": 0.5
             },
             "pattern": {
              "fillmode": "overlay",
              "size": 10,
              "solidity": 0.2
             }
            },
            "type": "bar"
           }
          ],
          "barpolar": [
           {
            "marker": {
             "line": {
              "color": "#E5ECF6",
              "width": 0.5
             },
             "pattern": {
              "fillmode": "overlay",
              "size": 10,
              "solidity": 0.2
             }
            },
            "type": "barpolar"
           }
          ],
          "carpet": [
           {
            "aaxis": {
             "endlinecolor": "#2a3f5f",
             "gridcolor": "white",
             "linecolor": "white",
             "minorgridcolor": "white",
             "startlinecolor": "#2a3f5f"
            },
            "baxis": {
             "endlinecolor": "#2a3f5f",
             "gridcolor": "white",
             "linecolor": "white",
             "minorgridcolor": "white",
             "startlinecolor": "#2a3f5f"
            },
            "type": "carpet"
           }
          ],
          "choropleth": [
           {
            "colorbar": {
             "outlinewidth": 0,
             "ticks": ""
            },
            "type": "choropleth"
           }
          ],
          "contour": [
           {
            "colorbar": {
             "outlinewidth": 0,
             "ticks": ""
            },
            "colorscale": [
             [
              0,
              "#0d0887"
             ],
             [
              0.1111111111111111,
              "#46039f"
             ],
             [
              0.2222222222222222,
              "#7201a8"
             ],
             [
              0.3333333333333333,
              "#9c179e"
             ],
             [
              0.4444444444444444,
              "#bd3786"
             ],
             [
              0.5555555555555556,
              "#d8576b"
             ],
             [
              0.6666666666666666,
              "#ed7953"
             ],
             [
              0.7777777777777778,
              "#fb9f3a"
             ],
             [
              0.8888888888888888,
              "#fdca26"
             ],
             [
              1,
              "#f0f921"
             ]
            ],
            "type": "contour"
           }
          ],
          "contourcarpet": [
           {
            "colorbar": {
             "outlinewidth": 0,
             "ticks": ""
            },
            "type": "contourcarpet"
           }
          ],
          "heatmap": [
           {
            "colorbar": {
             "outlinewidth": 0,
             "ticks": ""
            },
            "colorscale": [
             [
              0,
              "#0d0887"
             ],
             [
              0.1111111111111111,
              "#46039f"
             ],
             [
              0.2222222222222222,
              "#7201a8"
             ],
             [
              0.3333333333333333,
              "#9c179e"
             ],
             [
              0.4444444444444444,
              "#bd3786"
             ],
             [
              0.5555555555555556,
              "#d8576b"
             ],
             [
              0.6666666666666666,
              "#ed7953"
             ],
             [
              0.7777777777777778,
              "#fb9f3a"
             ],
             [
              0.8888888888888888,
              "#fdca26"
             ],
             [
              1,
              "#f0f921"
             ]
            ],
            "type": "heatmap"
           }
          ],
          "heatmapgl": [
           {
            "colorbar": {
             "outlinewidth": 0,
             "ticks": ""
            },
            "colorscale": [
             [
              0,
              "#0d0887"
             ],
             [
              0.1111111111111111,
              "#46039f"
             ],
             [
              0.2222222222222222,
              "#7201a8"
             ],
             [
              0.3333333333333333,
              "#9c179e"
             ],
             [
              0.4444444444444444,
              "#bd3786"
             ],
             [
              0.5555555555555556,
              "#d8576b"
             ],
             [
              0.6666666666666666,
              "#ed7953"
             ],
             [
              0.7777777777777778,
              "#fb9f3a"
             ],
             [
              0.8888888888888888,
              "#fdca26"
             ],
             [
              1,
              "#f0f921"
             ]
            ],
            "type": "heatmapgl"
           }
          ],
          "histogram": [
           {
            "marker": {
             "pattern": {
              "fillmode": "overlay",
              "size": 10,
              "solidity": 0.2
             }
            },
            "type": "histogram"
           }
          ],
          "histogram2d": [
           {
            "colorbar": {
             "outlinewidth": 0,
             "ticks": ""
            },
            "colorscale": [
             [
              0,
              "#0d0887"
             ],
             [
              0.1111111111111111,
              "#46039f"
             ],
             [
              0.2222222222222222,
              "#7201a8"
             ],
             [
              0.3333333333333333,
              "#9c179e"
             ],
             [
              0.4444444444444444,
              "#bd3786"
             ],
             [
              0.5555555555555556,
              "#d8576b"
             ],
             [
              0.6666666666666666,
              "#ed7953"
             ],
             [
              0.7777777777777778,
              "#fb9f3a"
             ],
             [
              0.8888888888888888,
              "#fdca26"
             ],
             [
              1,
              "#f0f921"
             ]
            ],
            "type": "histogram2d"
           }
          ],
          "histogram2dcontour": [
           {
            "colorbar": {
             "outlinewidth": 0,
             "ticks": ""
            },
            "colorscale": [
             [
              0,
              "#0d0887"
             ],
             [
              0.1111111111111111,
              "#46039f"
             ],
             [
              0.2222222222222222,
              "#7201a8"
             ],
             [
              0.3333333333333333,
              "#9c179e"
             ],
             [
              0.4444444444444444,
              "#bd3786"
             ],
             [
              0.5555555555555556,
              "#d8576b"
             ],
             [
              0.6666666666666666,
              "#ed7953"
             ],
             [
              0.7777777777777778,
              "#fb9f3a"
             ],
             [
              0.8888888888888888,
              "#fdca26"
             ],
             [
              1,
              "#f0f921"
             ]
            ],
            "type": "histogram2dcontour"
           }
          ],
          "mesh3d": [
           {
            "colorbar": {
             "outlinewidth": 0,
             "ticks": ""
            },
            "type": "mesh3d"
           }
          ],
          "parcoords": [
           {
            "line": {
             "colorbar": {
              "outlinewidth": 0,
              "ticks": ""
             }
            },
            "type": "parcoords"
           }
          ],
          "pie": [
           {
            "automargin": true,
            "type": "pie"
           }
          ],
          "scatter": [
           {
            "fillpattern": {
             "fillmode": "overlay",
             "size": 10,
             "solidity": 0.2
            },
            "type": "scatter"
           }
          ],
          "scatter3d": [
           {
            "line": {
             "colorbar": {
              "outlinewidth": 0,
              "ticks": ""
             }
            },
            "marker": {
             "colorbar": {
              "outlinewidth": 0,
              "ticks": ""
             }
            },
            "type": "scatter3d"
           }
          ],
          "scattercarpet": [
           {
            "marker": {
             "colorbar": {
              "outlinewidth": 0,
              "ticks": ""
             }
            },
            "type": "scattercarpet"
           }
          ],
          "scattergeo": [
           {
            "marker": {
             "colorbar": {
              "outlinewidth": 0,
              "ticks": ""
             }
            },
            "type": "scattergeo"
           }
          ],
          "scattergl": [
           {
            "marker": {
             "colorbar": {
              "outlinewidth": 0,
              "ticks": ""
             }
            },
            "type": "scattergl"
           }
          ],
          "scattermapbox": [
           {
            "marker": {
             "colorbar": {
              "outlinewidth": 0,
              "ticks": ""
             }
            },
            "type": "scattermapbox"
           }
          ],
          "scatterpolar": [
           {
            "marker": {
             "colorbar": {
              "outlinewidth": 0,
              "ticks": ""
             }
            },
            "type": "scatterpolar"
           }
          ],
          "scatterpolargl": [
           {
            "marker": {
             "colorbar": {
              "outlinewidth": 0,
              "ticks": ""
             }
            },
            "type": "scatterpolargl"
           }
          ],
          "scatterternary": [
           {
            "marker": {
             "colorbar": {
              "outlinewidth": 0,
              "ticks": ""
             }
            },
            "type": "scatterternary"
           }
          ],
          "surface": [
           {
            "colorbar": {
             "outlinewidth": 0,
             "ticks": ""
            },
            "colorscale": [
             [
              0,
              "#0d0887"
             ],
             [
              0.1111111111111111,
              "#46039f"
             ],
             [
              0.2222222222222222,
              "#7201a8"
             ],
             [
              0.3333333333333333,
              "#9c179e"
             ],
             [
              0.4444444444444444,
              "#bd3786"
             ],
             [
              0.5555555555555556,
              "#d8576b"
             ],
             [
              0.6666666666666666,
              "#ed7953"
             ],
             [
              0.7777777777777778,
              "#fb9f3a"
             ],
             [
              0.8888888888888888,
              "#fdca26"
             ],
             [
              1,
              "#f0f921"
             ]
            ],
            "type": "surface"
           }
          ],
          "table": [
           {
            "cells": {
             "fill": {
              "color": "#EBF0F8"
             },
             "line": {
              "color": "white"
             }
            },
            "header": {
             "fill": {
              "color": "#C8D4E3"
             },
             "line": {
              "color": "white"
             }
            },
            "type": "table"
           }
          ]
         },
         "layout": {
          "annotationdefaults": {
           "arrowcolor": "#2a3f5f",
           "arrowhead": 0,
           "arrowwidth": 1
          },
          "autotypenumbers": "strict",
          "coloraxis": {
           "colorbar": {
            "outlinewidth": 0,
            "ticks": ""
           }
          },
          "colorscale": {
           "diverging": [
            [
             0,
             "#8e0152"
            ],
            [
             0.1,
             "#c51b7d"
            ],
            [
             0.2,
             "#de77ae"
            ],
            [
             0.3,
             "#f1b6da"
            ],
            [
             0.4,
             "#fde0ef"
            ],
            [
             0.5,
             "#f7f7f7"
            ],
            [
             0.6,
             "#e6f5d0"
            ],
            [
             0.7,
             "#b8e186"
            ],
            [
             0.8,
             "#7fbc41"
            ],
            [
             0.9,
             "#4d9221"
            ],
            [
             1,
             "#276419"
            ]
           ],
           "sequential": [
            [
             0,
             "#0d0887"
            ],
            [
             0.1111111111111111,
             "#46039f"
            ],
            [
             0.2222222222222222,
             "#7201a8"
            ],
            [
             0.3333333333333333,
             "#9c179e"
            ],
            [
             0.4444444444444444,
             "#bd3786"
            ],
            [
             0.5555555555555556,
             "#d8576b"
            ],
            [
             0.6666666666666666,
             "#ed7953"
            ],
            [
             0.7777777777777778,
             "#fb9f3a"
            ],
            [
             0.8888888888888888,
             "#fdca26"
            ],
            [
             1,
             "#f0f921"
            ]
           ],
           "sequentialminus": [
            [
             0,
             "#0d0887"
            ],
            [
             0.1111111111111111,
             "#46039f"
            ],
            [
             0.2222222222222222,
             "#7201a8"
            ],
            [
             0.3333333333333333,
             "#9c179e"
            ],
            [
             0.4444444444444444,
             "#bd3786"
            ],
            [
             0.5555555555555556,
             "#d8576b"
            ],
            [
             0.6666666666666666,
             "#ed7953"
            ],
            [
             0.7777777777777778,
             "#fb9f3a"
            ],
            [
             0.8888888888888888,
             "#fdca26"
            ],
            [
             1,
             "#f0f921"
            ]
           ]
          },
          "colorway": [
           "#636efa",
           "#EF553B",
           "#00cc96",
           "#ab63fa",
           "#FFA15A",
           "#19d3f3",
           "#FF6692",
           "#B6E880",
           "#FF97FF",
           "#FECB52"
          ],
          "font": {
           "color": "#2a3f5f"
          },
          "geo": {
           "bgcolor": "white",
           "lakecolor": "white",
           "landcolor": "#E5ECF6",
           "showlakes": true,
           "showland": true,
           "subunitcolor": "white"
          },
          "hoverlabel": {
           "align": "left"
          },
          "hovermode": "closest",
          "mapbox": {
           "style": "light"
          },
          "paper_bgcolor": "white",
          "plot_bgcolor": "#E5ECF6",
          "polar": {
           "angularaxis": {
            "gridcolor": "white",
            "linecolor": "white",
            "ticks": ""
           },
           "bgcolor": "#E5ECF6",
           "radialaxis": {
            "gridcolor": "white",
            "linecolor": "white",
            "ticks": ""
           }
          },
          "scene": {
           "xaxis": {
            "backgroundcolor": "#E5ECF6",
            "gridcolor": "white",
            "gridwidth": 2,
            "linecolor": "white",
            "showbackground": true,
            "ticks": "",
            "zerolinecolor": "white"
           },
           "yaxis": {
            "backgroundcolor": "#E5ECF6",
            "gridcolor": "white",
            "gridwidth": 2,
            "linecolor": "white",
            "showbackground": true,
            "ticks": "",
            "zerolinecolor": "white"
           },
           "zaxis": {
            "backgroundcolor": "#E5ECF6",
            "gridcolor": "white",
            "gridwidth": 2,
            "linecolor": "white",
            "showbackground": true,
            "ticks": "",
            "zerolinecolor": "white"
           }
          },
          "shapedefaults": {
           "line": {
            "color": "#2a3f5f"
           }
          },
          "ternary": {
           "aaxis": {
            "gridcolor": "white",
            "linecolor": "white",
            "ticks": ""
           },
           "baxis": {
            "gridcolor": "white",
            "linecolor": "white",
            "ticks": ""
           },
           "bgcolor": "#E5ECF6",
           "caxis": {
            "gridcolor": "white",
            "linecolor": "white",
            "ticks": ""
           }
          },
          "title": {
           "x": 0.05
          },
          "xaxis": {
           "automargin": true,
           "gridcolor": "white",
           "linecolor": "white",
           "ticks": "",
           "title": {
            "standoff": 15
           },
           "zerolinecolor": "white",
           "zerolinewidth": 2
          },
          "yaxis": {
           "automargin": true,
           "gridcolor": "white",
           "linecolor": "white",
           "ticks": "",
           "title": {
            "standoff": 15
           },
           "zerolinecolor": "white",
           "zerolinewidth": 2
          }
         }
        },
        "title": {
         "text": "Customer Review Clusters using Transfomer Word Vector"
        },
        "width": 1000,
        "xaxis": {
         "anchor": "y",
         "autorange": true,
         "domain": [
          0,
          1
         ],
         "range": [
          -0.6115250693529384,
          0.4801569687097805
         ],
         "type": "linear"
        },
        "xaxis2": {
         "anchor": "y2",
         "autorange": true,
         "domain": [
          0,
          1
         ],
         "range": [
          -0.7720963235901861,
          0.7951196309136419
         ],
         "type": "linear"
        },
        "yaxis": {
         "anchor": "x",
         "autorange": true,
         "domain": [
          0.625,
          1
         ],
         "range": [
          -0.4543403605324628,
          0.47119267977303286
         ],
         "type": "linear"
        },
        "yaxis2": {
         "anchor": "x2",
         "autorange": true,
         "domain": [
          0,
          0.375
         ],
         "range": [
          -0.6129265181637165,
          0.6486640326595661
         ],
         "type": "linear"
        }
       }
      },
      "image/png": "[encoded data removed]",
      "text/html": [
       "<div>                            <div id=\"3d455a69-4246-4c2d-bff1-24747324316b\" class=\"plotly-graph-div\" style=\"height:800px; width:1000px;\"></div>            <script type=\"text/javascript\">                require([\"plotly\"], function(Plotly) {                    window.PLOTLYENV=window.PLOTLYENV || {};                                    if (document.getElementById(\"3d455a69-4246-4c2d-bff1-24747324316b\")) {                    Plotly.newPlot(                        \"3d455a69-4246-4c2d-bff1-24747324316b\",                        [{\"customdata\":[[\"the summit at just over 10k feet makes you work for your hikes, especially the climb back out of the crater!  \",\"'Scenic drive'\"],[\"if there are a very small group of you with two cars, one-way trips from top to bottom or bottom to top may be more enjoyable.\",\"'Scenic drive'\"],[\"beautiful drive up the mountain through many distinct environments.\",\"'Scenic drive'\"],[\"i strongly recommend renting a convertible for the day and drop that top.\",\"'Scenic drive'\"],[\"beautiful drive with amazing scene of the coastline, roaming cattle, and tasty fruit stands.\",\"'Scenic drive'\"],[\"long drive up the mountain but well worth the trip.\",\"'Scenic drive'\"],[\"it is a long winding drive to the summit, but it is really worth it.\",\"'Scenic drive'\"]],\"hovertemplate\":\"label=%{customdata[1]}\\u003cbr\\u003eclean_text=%{customdata[0]}\\u003cextra\\u003e\\u003c\\u002fextra\\u003e\",\"legendgroup\":\"1\",\"marker\":{\"color\":\"rgb(228,26,28)\",\"symbol\":\"circle\"},\"mode\":\"markers\",\"name\":\"'Scenic drive'\",\"orientation\":\"v\",\"showlegend\":true,\"x\":[0.2892400324344635,0.3179358243942261,0.18497003614902496,-0.05410946533083916,0.17965227365493774,0.28792762756347656,0.4195348024368286],\"xaxis\":\"x\",\"y\":[-0.06801804900169373,-0.39313575625419617,0.1358775645494461,-0.33661118149757385,0.15548980236053467,-0.19563457369804382,-0.17339085042476654],\"yaxis\":\"y\",\"type\":\"scatter\"},{\"customdata\":[[\"the national park includes an extinct volcano on a tropical island and is one of the most stunning parks in the whole of the us.\",\"'National Park Beauty'\"],[\"great visit but compared to other national parks, there isn't as much to see or do here\",\"'National Park Beauty'\"]],\"hovertemplate\":\"label=%{customdata[1]}\\u003cbr\\u003eclean_text=%{customdata[0]}\\u003cextra\\u003e\\u003c\\u002fextra\\u003e\",\"legendgroup\":\"1\",\"marker\":{\"color\":\"rgb(55,126,184)\",\"symbol\":\"circle\"},\"mode\":\"markers\",\"name\":\"'National Park Beauty'\",\"orientation\":\"v\",\"showlegend\":true,\"x\":[0.12677468359470367,0.07448766380548477],\"xaxis\":\"x\",\"y\":[0.3239089250564575,0.07942666113376617],\"yaxis\":\"y\",\"type\":\"scatter\"},{\"customdata\":[[\"i highly recommend a visit for sunrise or sunset, too.\",\"'Sunrise view'\"],[\"i think the sunsets are prettier, and you'll see more variation of colours; but there's something wonderful about seeing the sunrise from the summit before tackling a day-long hike!  \",\"'Sunrise view'\"],[\"i recommend this place, especially for sundown and most of all, sunrises here are amazing!!!\",\"'Sunrise view'\"],[\"the sunset is beautiful, but be sure to wear warm clothes because the temperature drops once the sun starts setting.\",\"'Sunrise view'\"],[\"i highly recommend reserving a spot to watch sunrise.\",\"'Sunrise view'\"],[\"an amazing sight to see, i would highly highly recommend visiting.\",\"'Sunrise view'\"],[\"best place to watch the sunrise,  pack warm!\",\"'Sunrise view'\"],[\"must visit place  stunning sunrise , and be advised to dress very warm.\",\"'Sunrise view'\"],[\"breathtaking experiences the sunset and sunrise make sure you dress appropriately very very warm clothes\",\"'Sunrise view'\"],[\" to watch the sunrise, blankets are a must... even when the sun rises, you can still see the wonderful scenery.\",\"'Sunrise view'\"]],\"hovertemplate\":\"label=%{customdata[1]}\\u003cbr\\u003eclean_text=%{customdata[0]}\\u003cextra\\u003e\\u003c\\u002fextra\\u003e\",\"legendgroup\":\"1\",\"marker\":{\"color\":\"rgb(77,175,74)\",\"symbol\":\"circle\"},\"mode\":\"markers\",\"name\":\"'Sunrise view'\",\"orientation\":\"v\",\"showlegend\":true,\"x\":[-0.3577116131782532,-0.2827053666114807,-0.46399763226509094,-0.5509029030799866,-0.3649170398712158,-0.0006287290598265827,-0.44599074125289917,-0.5337377190589905,-0.48832106590270996,-0.5095952749252319],\"xaxis\":\"x\",\"y\":[-0.14510804414749146,-0.12407174706459045,-0.0730053037405014,-0.17646820843219757,-0.17288511991500854,0.10282009094953537,-0.17124535143375397,-0.10906673222780228,-0.05728653818368912,-0.23064135015010834],\"yaxis\":\"y\",\"type\":\"scatter\"},{\"customdata\":[[\"we got clouds on our sunrise reservation but the pure quiet and seeing how small we all are is truly breathtaking.\",\"'Majestic sunrise'\"],[\"got up at 3 and reached 10,000 feet above the sea to witness the most beautiful sunrise with clouds as audience.\",\"'Majestic sunrise'\"],[\"elevated 10,000 ft above the  clouds great place.  \",\"'Majestic sunrise'\"]],\"hovertemplate\":\"label=%{customdata[1]}\\u003cbr\\u003eclean_text=%{customdata[0]}\\u003cextra\\u003e\\u003c\\u002fextra\\u003e\",\"legendgroup\":\"1\",\"marker\":{\"color\":\"rgb(152,78,163)\",\"symbol\":\"circle\"},\"mode\":\"markers\",\"name\":\"'Majestic sunrise'\",\"orientation\":\"v\",\"showlegend\":true,\"x\":[-0.2614918351173401,-0.21098054945468903,-0.014342764392495155],\"xaxis\":\"x\",\"y\":[0.12027127295732498,0.08526351302862167,0.1859598308801651],\"yaxis\":\"y\",\"type\":\"scatter\"},{\"customdata\":[[\"words cannot describe just how amazing our creator made such a lovely place...\",\"'Natural beauty'\"],[\"words and pictures don't do justice for the beauty you experience here!\",\"'Natural beauty'\"]],\"hovertemplate\":\"label=%{customdata[1]}\\u003cbr\\u003eclean_text=%{customdata[0]}\\u003cextra\\u003e\\u003c\\u002fextra\\u003e\",\"legendgroup\":\"1\",\"marker\":{\"color\":\"rgb(255,127,0)\",\"symbol\":\"circle\"},\"mode\":\"markers\",\"name\":\"'Natural beauty'\",\"orientation\":\"v\",\"showlegend\":true,\"x\":[0.04569729045033455,0.006839417386800051],\"xaxis\":\"x\",\"y\":[0.40998807549476624,0.3778327405452728],\"yaxis\":\"y\",\"type\":\"scatter\"},{\"customdata\":[[\"we entered on road to hana to access the pipiwai trail (best hike to see amazing waterfalls and bamboo forests).\",\"'National park visit'\"],[\"great national park on the road to hana.\",\"'National park visit'\"],[\"do this with the shaka guide app for extra fun hikes and information.\",\"'National park visit'\"]],\"hovertemplate\":\"label=%{customdata[1]}\\u003cbr\\u003eclean_text=%{customdata[0]}\\u003cextra\\u003e\\u003c\\u002fextra\\u003e\",\"legendgroup\":\"1\",\"marker\":{\"color\":\"rgb(255,255,51)\",\"symbol\":\"circle\"},\"mode\":\"markers\",\"name\":\"'National park visit'\",\"orientation\":\"v\",\"showlegend\":true,\"x\":[0.31765231490135193,0.19508442282676697,0.1787644773721695],\"xaxis\":\"x\",\"y\":[0.0561884343624115,0.17716069519519806,-0.10819068551063538],\"yaxis\":\"y\",\"type\":\"scatter\"},{\"customdata\":[[\"it's a good change of scenery from your maui beaches.\",\"'Volcano visit'\"],[\"truly inner if the highlights of my two week trip here to maui!\",\"'Volcano visit'\"],[\"crazy cool volcano to visit when you're in maui.\",\"'Volcano visit'\"]],\"hovertemplate\":\"label=%{customdata[1]}\\u003cbr\\u003eclean_text=%{customdata[0]}\\u003cextra\\u003e\\u003c\\u002fextra\\u003e\",\"legendgroup\":\"1\",\"marker\":{\"color\":\"rgb(166,86,40)\",\"symbol\":\"circle\"},\"mode\":\"markers\",\"name\":\"'Volcano visit'\",\"orientation\":\"v\",\"showlegend\":true,\"x\":[0.051088619977235794,-0.002923516323789954,0.0933803841471672],\"xaxis\":\"x\",\"y\":[0.17226670682430267,0.18111325800418854,0.3335115611553192],\"yaxis\":\"y\",\"type\":\"scatter\"},{\"customdata\":[[\"it was very windy and cold in december but worth every moment.\",\"'Climbing experience'\"],[\"we arrived at the summit when it was sunny, so the wind was not high, and the temperature was cool - not cold as we thought.\",\"'Climbing experience'\"]],\"hovertemplate\":\"label=%{customdata[1]}\\u003cbr\\u003eclean_text=%{customdata[0]}\\u003cextra\\u003e\\u003c\\u002fextra\\u003e\",\"legendgroup\":\"1\",\"marker\":{\"color\":\"rgb(247,129,191)\",\"symbol\":\"circle\"},\"mode\":\"markers\",\"name\":\"'Climbing experience'\",\"orientation\":\"v\",\"showlegend\":true,\"x\":[-0.022104406729340553,-0.19389531016349792],\"xaxis\":\"x\",\"y\":[-0.2837315797805786,-0.19545143842697144],\"yaxis\":\"y\",\"type\":\"scatter\"},{\"customdata\":[[\"great and awesome amazing experience that only a frew in the world have been.. a must have on your bucket list.....\",\"'National Park Amenities'\"],[\"i felt like my car was safe parked at the national park parking lot and the restrooms were pristine and fully stocked.\",\"'National Park Amenities'\"]],\"hovertemplate\":\"label=%{customdata[1]}\\u003cbr\\u003eclean_text=%{customdata[0]}\\u003cextra\\u003e\\u003c\\u002fextra\\u003e\",\"legendgroup\":\"1\",\"marker\":{\"color\":\"rgb(153,153,153)\",\"symbol\":\"circle\"},\"mode\":\"markers\",\"name\":\"'National Park Amenities'\",\"orientation\":\"v\",\"showlegend\":true,\"x\":[0.13980919122695923,0.19307269155979156],\"xaxis\":\"x\",\"y\":[0.13684280216693878,-0.008685946464538574],\"yaxis\":\"y\",\"type\":\"scatter\"},{\"customdata\":[[\"was a cool place, almost had hypothermia from the bad weather though so be super prepared!\",\"'Extreme weather'\"],[\"amazing experience, be prepared it really cold before sun rises.\",\"'Extreme weather'\"]],\"hovertemplate\":\"label=%{customdata[1]}\\u003cbr\\u003eclean_text=%{customdata[0]}\\u003cextra\\u003e\\u003c\\u002fextra\\u003e\",\"legendgroup\":\"1\",\"marker\":{\"color\":\"rgb(228,26,28)\",\"symbol\":\"circle\"},\"mode\":\"markers\",\"name\":\"'Extreme weather'\",\"orientation\":\"v\",\"showlegend\":true,\"x\":[-0.2079867422580719,-0.2863074243068695],\"xaxis\":\"x\",\"y\":[-0.15321984887123108,-0.2523249089717865],\"yaxis\":\"y\",\"type\":\"scatter\"},{\"customdata\":[[\"the road was a little scary but so worth getting to the top.\",\"'Challenging drive'\"],[\"the drive up is a little scary, but totally worth the effort.\",\"'Challenging drive'\"],[\"the drive up was long for us, but because we took our time to enjoy the changing sceneries.  highly recommended.\",\"'Challenging drive'\"]],\"hovertemplate\":\"label=%{customdata[1]}\\u003cbr\\u003eclean_text=%{customdata[0]}\\u003cextra\\u003e\\u003c\\u002fextra\\u003e\",\"legendgroup\":\"1\",\"marker\":{\"color\":\"rgb(55,126,184)\",\"symbol\":\"circle\"},\"mode\":\"markers\",\"name\":\"'Challenging drive'\",\"orientation\":\"v\",\"showlegend\":true,\"x\":[0.381202757358551,0.40430477261543274,0.3675602376461029],\"xaxis\":\"x\",\"y\":[-0.2232731729745865,-0.31764501333236694,-0.30575549602508545],\"yaxis\":\"y\",\"type\":\"scatter\"},{\"customdata\":[[\"wow, wow spectacular, the most breathtaking views you would ever see.\",\"'Panoramic views'\"],[\"majestic views which ordinarily could only be seen through an airplane's windows - so  wonderful.  \",\"'Panoramic views'\"],[\" beautiful place beautiful views above the clouds worth seeing if someone else can see this place\",\"'Panoramic views'\"]],\"hovertemplate\":\"label=%{customdata[1]}\\u003cbr\\u003eclean_text=%{customdata[0]}\\u003cextra\\u003e\\u003c\\u002fextra\\u003e\",\"legendgroup\":\"1\",\"marker\":{\"color\":\"rgb(77,175,74)\",\"symbol\":\"circle\"},\"mode\":\"markers\",\"name\":\"'Panoramic views'\",\"orientation\":\"v\",\"showlegend\":true,\"x\":[0.031633783131837845,-0.04992828518152237,-0.17191319167613983],\"xaxis\":\"x\",\"y\":[0.40762946009635925,0.3337661325931549,0.33796805143356323],\"yaxis\":\"y\",\"type\":\"scatter\"},{\"customdata\":[[\"the hike was amazing, but the kids weren't quite up to going 11 miles.\",\"'Hiking trail conditions'\"],[\"it was a moderate hike during the wet months as it was fairly slippery for 3.7 miles roundtrip, but totally doable.\",\"'Hiking trail conditions'\"],[\"great hike to falls trail was muddy and can be very challenging at times.\",\"'Hiking trail conditions'\"]],\"hovertemplate\":\"label=%{customdata[1]}\\u003cbr\\u003eclean_text=%{customdata[0]}\\u003cextra\\u003e\\u003c\\u002fextra\\u003e\",\"legendgroup\":\"1\",\"marker\":{\"color\":\"rgb(152,78,163)\",\"symbol\":\"circle\"},\"mode\":\"markers\",\"name\":\"'Hiking trail conditions'\",\"orientation\":\"v\",\"showlegend\":true,\"x\":[0.4189859926700592,0.35135674476623535,0.4191330075263977],\"xaxis\":\"x\",\"y\":[-0.17117717862129211,-0.25844624638557434,-0.13990606367588043],\"yaxis\":\"y\",\"type\":\"scatter\"},{\"customdata\":[[\"beautiful volcano....looks like you're on mars....\",\"'Volcano views'\"],[\"amazing views of a dormant super volcano sitting above the clouds!\",\"'Volcano views'\"]],\"hovertemplate\":\"label=%{customdata[1]}\\u003cbr\\u003eclean_text=%{customdata[0]}\\u003cextra\\u003e\\u003c\\u002fextra\\u003e\",\"legendgroup\":\"1\",\"marker\":{\"color\":\"rgb(255,127,0)\",\"symbol\":\"circle\"},\"mode\":\"markers\",\"name\":\"'Volcano views'\",\"orientation\":\"v\",\"showlegend\":true,\"x\":[0.05030378699302673,-0.051901549100875854],\"xaxis\":\"x\",\"y\":[0.3302840292453766,0.40080732107162476],\"yaxis\":\"y\",\"type\":\"scatter\"},{\"customdata\":[[\"however, parking can be a severe problem, so you may have to drop passengers off before finding a space in one of the lower car parks.\",\"'Mountain weather'\"],[\"you don't want to drive all the way up there and be socked in with clouds.  \",\"'Mountain weather'\"],[\"it's windy and the cold blows right through to your bones\",\"'Mountain weather'\"],[\"i was here january 2021 and the waters were raging, so no swimming allowed.\",\"'Mountain weather'\"],[\"if everyone is silent then there is truly silence up there and that is hard to find\",\"'Mountain weather'\"]],\"hovertemplate\":\"label=%{customdata[1]}\\u003cbr\\u003eclean_text=%{customdata[0]}\\u003cextra\\u003e\\u003c\\u002fextra\\u003e\",\"legendgroup\":\"2\",\"marker\":{\"color\":\"rgb(228,26,28)\",\"symbol\":\"circle\"},\"mode\":\"markers\",\"name\":\"'Mountain weather'\",\"orientation\":\"v\",\"showlegend\":true,\"x\":[-0.6850672960281372,-0.3524790406227112,0.1888110339641571,0.1312015801668167,-0.29519638419151306],\"xaxis\":\"x2\",\"y\":[0.28572767972946167,-0.284883975982666,-0.4381920397281647,-0.5294987559318542,0.2397555708885193],\"yaxis\":\"y2\",\"type\":\"scatter\"},{\"customdata\":[[\"wish the crater had more hot lava spewing on us\",\"'Volcano experience'\"],[\"it was a long and winding road to get to this point, and taking the road to hana had it's challenges during covid as many bathroom locations were closed.\",\"'Volcano experience'\"]],\"hovertemplate\":\"label=%{customdata[1]}\\u003cbr\\u003eclean_text=%{customdata[0]}\\u003cextra\\u003e\\u003c\\u002fextra\\u003e\",\"legendgroup\":\"2\",\"marker\":{\"color\":\"rgb(55,126,184)\",\"symbol\":\"circle\"},\"mode\":\"markers\",\"name\":\"'Volcano experience'\",\"orientation\":\"v\",\"showlegend\":true,\"x\":[0.2649140954017639,-0.1461765468120575],\"xaxis\":\"x2\",\"y\":[-0.18927542865276337,-0.017253775149583817],\"yaxis\":\"y2\",\"type\":\"scatter\"},{\"customdata\":[[\"silver sword....looks like it was spray painted....dont touch...\",\"'Hawaiian souvenir'\"],[\"kinda wrong to charge kamaina really ridiculous!\",\"'Hawaiian souvenir'\"]],\"hovertemplate\":\"label=%{customdata[1]}\\u003cbr\\u003eclean_text=%{customdata[0]}\\u003cextra\\u003e\\u003c\\u002fextra\\u003e\",\"legendgroup\":\"2\",\"marker\":{\"color\":\"rgb(77,175,74)\",\"symbol\":\"circle\"},\"mode\":\"markers\",\"name\":\"'Hawaiian souvenir'\",\"orientation\":\"v\",\"showlegend\":true,\"x\":[0.708090603351593,0.18590211868286133],\"xaxis\":\"x2\",\"y\":[0.3683844804763794,0.5652362704277039],\"yaxis\":\"y2\",\"type\":\"scatter\"}],                        {\"template\":{\"data\":{\"histogram2dcontour\":[{\"type\":\"histogram2dcontour\",\"colorbar\":{\"outlinewidth\":0,\"ticks\":\"\"},\"colorscale\":[[0.0,\"#0d0887\"],[0.1111111111111111,\"#46039f\"],[0.2222222222222222,\"#7201a8\"],[0.3333333333333333,\"#9c179e\"],[0.4444444444444444,\"#bd3786\"],[0.5555555555555556,\"#d8576b\"],[0.6666666666666666,\"#ed7953\"],[0.7777777777777778,\"#fb9f3a\"],[0.8888888888888888,\"#fdca26\"],[1.0,\"#f0f921\"]]}],\"choropleth\":[{\"type\":\"choropleth\",\"colorbar\":{\"outlinewidth\":0,\"ticks\":\"\"}}],\"histogram2d\":[{\"type\":\"histogram2d\",\"colorbar\":{\"outlinewidth\":0,\"ticks\":\"\"},\"colorscale\":[[0.0,\"#0d0887\"],[0.1111111111111111,\"#46039f\"],[0.2222222222222222,\"#7201a8\"],[0.3333333333333333,\"#9c179e\"],[0.4444444444444444,\"#bd3786\"],[0.5555555555555556,\"#d8576b\"],[0.6666666666666666,\"#ed7953\"],[0.7777777777777778,\"#fb9f3a\"],[0.8888888888888888,\"#fdca26\"],[1.0,\"#f0f921\"]]}],\"heatmap\":[{\"type\":\"heatmap\",\"colorbar\":{\"outlinewidth\":0,\"ticks\":\"\"},\"colorscale\":[[0.0,\"#0d0887\"],[0.1111111111111111,\"#46039f\"],[0.2222222222222222,\"#7201a8\"],[0.3333333333333333,\"#9c179e\"],[0.4444444444444444,\"#bd3786\"],[0.5555555555555556,\"#d8576b\"],[0.6666666666666666,\"#ed7953\"],[0.7777777777777778,\"#fb9f3a\"],[0.8888888888888888,\"#fdca26\"],[1.0,\"#f0f921\"]]}],\"heatmapgl\":[{\"type\":\"heatmapgl\",\"colorbar\":{\"outlinewidth\":0,\"ticks\":\"\"},\"colorscale\":[[0.0,\"#0d0887\"],[0.1111111111111111,\"#46039f\"],[0.2222222222222222,\"#7201a8\"],[0.3333333333333333,\"#9c179e\"],[0.4444444444444444,\"#bd3786\"],[0.5555555555555556,\"#d8576b\"],[0.6666666666666666,\"#ed7953\"],[0.7777777777777778,\"#fb9f3a\"],[0.8888888888888888,\"#fdca26\"],[1.0,\"#f0f921\"]]}],\"contourcarpet\":[{\"type\":\"contourcarpet\",\"colorbar\":{\"outlinewidth\":0,\"ticks\":\"\"}}],\"contour\":[{\"type\":\"contour\",\"colorbar\":{\"outlinewidth\":0,\"ticks\":\"\"},\"colorscale\":[[0.0,\"#0d0887\"],[0.1111111111111111,\"#46039f\"],[0.2222222222222222,\"#7201a8\"],[0.3333333333333333,\"#9c179e\"],[0.4444444444444444,\"#bd3786\"],[0.5555555555555556,\"#d8576b\"],[0.6666666666666666,\"#ed7953\"],[0.7777777777777778,\"#fb9f3a\"],[0.8888888888888888,\"#fdca26\"],[1.0,\"#f0f921\"]]}],\"surface\":[{\"type\":\"surface\",\"colorbar\":{\"outlinewidth\":0,\"ticks\":\"\"},\"colorscale\":[[0.0,\"#0d0887\"],[0.1111111111111111,\"#46039f\"],[0.2222222222222222,\"#7201a8\"],[0.3333333333333333,\"#9c179e\"],[0.4444444444444444,\"#bd3786\"],[0.5555555555555556,\"#d8576b\"],[0.6666666666666666,\"#ed7953\"],[0.7777777777777778,\"#fb9f3a\"],[0.8888888888888888,\"#fdca26\"],[1.0,\"#f0f921\"]]}],\"mesh3d\":[{\"type\":\"mesh3d\",\"colorbar\":{\"outlinewidth\":0,\"ticks\":\"\"}}],\"scatter\":[{\"fillpattern\":{\"fillmode\":\"overlay\",\"size\":10,\"solidity\":0.2},\"type\":\"scatter\"}],\"parcoords\":[{\"type\":\"parcoords\",\"line\":{\"colorbar\":{\"outlinewidth\":0,\"ticks\":\"\"}}}],\"scatterpolargl\":[{\"type\":\"scatterpolargl\",\"marker\":{\"colorbar\":{\"outlinewidth\":0,\"ticks\":\"\"}}}],\"bar\":[{\"error_x\":{\"color\":\"#2a3f5f\"},\"error_y\":{\"color\":\"#2a3f5f\"},\"marker\":{\"line\":{\"color\":\"#E5ECF6\",\"width\":0.5},\"pattern\":{\"fillmode\":\"overlay\",\"size\":10,\"solidity\":0.2}},\"type\":\"bar\"}],\"scattergeo\":[{\"type\":\"scattergeo\",\"marker\":{\"colorbar\":{\"outlinewidth\":0,\"ticks\":\"\"}}}],\"scatterpolar\":[{\"type\":\"scatterpolar\",\"marker\":{\"colorbar\":{\"outlinewidth\":0,\"ticks\":\"\"}}}],\"histogram\":[{\"marker\":{\"pattern\":{\"fillmode\":\"overlay\",\"size\":10,\"solidity\":0.2}},\"type\":\"histogram\"}],\"scattergl\":[{\"type\":\"scattergl\",\"marker\":{\"colorbar\":{\"outlinewidth\":0,\"ticks\":\"\"}}}],\"scatter3d\":[{\"type\":\"scatter3d\",\"line\":{\"colorbar\":{\"outlinewidth\":0,\"ticks\":\"\"}},\"marker\":{\"colorbar\":{\"outlinewidth\":0,\"ticks\":\"\"}}}],\"scattermapbox\":[{\"type\":\"scattermapbox\",\"marker\":{\"colorbar\":{\"outlinewidth\":0,\"ticks\":\"\"}}}],\"scatterternary\":[{\"type\":\"scatterternary\",\"marker\":{\"colorbar\":{\"outlinewidth\":0,\"ticks\":\"\"}}}],\"scattercarpet\":[{\"type\":\"scattercarpet\",\"marker\":{\"colorbar\":{\"outlinewidth\":0,\"ticks\":\"\"}}}],\"carpet\":[{\"aaxis\":{\"endlinecolor\":\"#2a3f5f\",\"gridcolor\":\"white\",\"linecolor\":\"white\",\"minorgridcolor\":\"white\",\"startlinecolor\":\"#2a3f5f\"},\"baxis\":{\"endlinecolor\":\"#2a3f5f\",\"gridcolor\":\"white\",\"linecolor\":\"white\",\"minorgridcolor\":\"white\",\"startlinecolor\":\"#2a3f5f\"},\"type\":\"carpet\"}],\"table\":[{\"cells\":{\"fill\":{\"color\":\"#EBF0F8\"},\"line\":{\"color\":\"white\"}},\"header\":{\"fill\":{\"color\":\"#C8D4E3\"},\"line\":{\"color\":\"white\"}},\"type\":\"table\"}],\"barpolar\":[{\"marker\":{\"line\":{\"color\":\"#E5ECF6\",\"width\":0.5},\"pattern\":{\"fillmode\":\"overlay\",\"size\":10,\"solidity\":0.2}},\"type\":\"barpolar\"}],\"pie\":[{\"automargin\":true,\"type\":\"pie\"}]},\"layout\":{\"autotypenumbers\":\"strict\",\"colorway\":[\"#636efa\",\"#EF553B\",\"#00cc96\",\"#ab63fa\",\"#FFA15A\",\"#19d3f3\",\"#FF6692\",\"#B6E880\",\"#FF97FF\",\"#FECB52\"],\"font\":{\"color\":\"#2a3f5f\"},\"hovermode\":\"closest\",\"hoverlabel\":{\"align\":\"left\"},\"paper_bgcolor\":\"white\",\"plot_bgcolor\":\"#E5ECF6\",\"polar\":{\"bgcolor\":\"#E5ECF6\",\"angularaxis\":{\"gridcolor\":\"white\",\"linecolor\":\"white\",\"ticks\":\"\"},\"radialaxis\":{\"gridcolor\":\"white\",\"linecolor\":\"white\",\"ticks\":\"\"}},\"ternary\":{\"bgcolor\":\"#E5ECF6\",\"aaxis\":{\"gridcolor\":\"white\",\"linecolor\":\"white\",\"ticks\":\"\"},\"baxis\":{\"gridcolor\":\"white\",\"linecolor\":\"white\",\"ticks\":\"\"},\"caxis\":{\"gridcolor\":\"white\",\"linecolor\":\"white\",\"ticks\":\"\"}},\"coloraxis\":{\"colorbar\":{\"outlinewidth\":0,\"ticks\":\"\"}},\"colorscale\":{\"sequential\":[[0.0,\"#0d0887\"],[0.1111111111111111,\"#46039f\"],[0.2222222222222222,\"#7201a8\"],[0.3333333333333333,\"#9c179e\"],[0.4444444444444444,\"#bd3786\"],[0.5555555555555556,\"#d8576b\"],[0.6666666666666666,\"#ed7953\"],[0.7777777777777778,\"#fb9f3a\"],[0.8888888888888888,\"#fdca26\"],[1.0,\"#f0f921\"]],\"sequentialminus\":[[0.0,\"#0d0887\"],[0.1111111111111111,\"#46039f\"],[0.2222222222222222,\"#7201a8\"],[0.3333333333333333,\"#9c179e\"],[0.4444444444444444,\"#bd3786\"],[0.5555555555555556,\"#d8576b\"],[0.6666666666666666,\"#ed7953\"],[0.7777777777777778,\"#fb9f3a\"],[0.8888888888888888,\"#fdca26\"],[1.0,\"#f0f921\"]],\"diverging\":[[0,\"#8e0152\"],[0.1,\"#c51b7d\"],[0.2,\"#de77ae\"],[0.3,\"#f1b6da\"],[0.4,\"#fde0ef\"],[0.5,\"#f7f7f7\"],[0.6,\"#e6f5d0\"],[0.7,\"#b8e186\"],[0.8,\"#7fbc41\"],[0.9,\"#4d9221\"],[1,\"#276419\"]]},\"xaxis\":{\"gridcolor\":\"white\",\"linecolor\":\"white\",\"ticks\":\"\",\"title\":{\"standoff\":15},\"zerolinecolor\":\"white\",\"automargin\":true,\"zerolinewidth\":2},\"yaxis\":{\"gridcolor\":\"white\",\"linecolor\":\"white\",\"ticks\":\"\",\"title\":{\"standoff\":15},\"zerolinecolor\":\"white\",\"automargin\":true,\"zerolinewidth\":2},\"scene\":{\"xaxis\":{\"backgroundcolor\":\"#E5ECF6\",\"gridcolor\":\"white\",\"linecolor\":\"white\",\"showbackground\":true,\"ticks\":\"\",\"zerolinecolor\":\"white\",\"gridwidth\":2},\"yaxis\":{\"backgroundcolor\":\"#E5ECF6\",\"gridcolor\":\"white\",\"linecolor\":\"white\",\"showbackground\":true,\"ticks\":\"\",\"zerolinecolor\":\"white\",\"gridwidth\":2},\"zaxis\":{\"backgroundcolor\":\"#E5ECF6\",\"gridcolor\":\"white\",\"linecolor\":\"white\",\"showbackground\":true,\"ticks\":\"\",\"zerolinecolor\":\"white\",\"gridwidth\":2}},\"shapedefaults\":{\"line\":{\"color\":\"#2a3f5f\"}},\"annotationdefaults\":{\"arrowcolor\":\"#2a3f5f\",\"arrowhead\":0,\"arrowwidth\":1},\"geo\":{\"bgcolor\":\"white\",\"landcolor\":\"#E5ECF6\",\"subunitcolor\":\"white\",\"showland\":true,\"showlakes\":true,\"lakecolor\":\"white\"},\"title\":{\"x\":0.05},\"mapbox\":{\"style\":\"light\"}}},\"xaxis\":{\"anchor\":\"y\",\"domain\":[0.0,1.0]},\"yaxis\":{\"anchor\":\"x\",\"domain\":[0.625,1.0]},\"xaxis2\":{\"anchor\":\"y2\",\"domain\":[0.0,1.0]},\"yaxis2\":{\"anchor\":\"x2\",\"domain\":[0.0,0.375]},\"annotations\":[{\"font\":{\"size\":16},\"showarrow\":false,\"text\":\"Positive Reviews\",\"x\":0.5,\"xanchor\":\"center\",\"xref\":\"paper\",\"y\":1.0,\"yanchor\":\"bottom\",\"yref\":\"paper\"},{\"font\":{\"size\":16},\"showarrow\":false,\"text\":\"Negative Reviews\",\"x\":0.5,\"xanchor\":\"center\",\"xref\":\"paper\",\"y\":0.375,\"yanchor\":\"bottom\",\"yref\":\"paper\"}],\"legend\":{\"yanchor\":\"top\",\"y\":1.0,\"xanchor\":\"left\",\"x\":1.05,\"tracegroupgap\":100},\"height\":800,\"width\":1000,\"title\":{\"text\":\"Customer Review Clusters using Transfomer Word Vector\"}},                        {\"responsive\": true}                    ).then(function(){\n",
       "                            \n",
       "var gd = document.getElementById('3d455a69-4246-4c2d-bff1-24747324316b');\n",
       "var x = new MutationObserver(function (mutations, observer) {{\n",
       "        var display = window.getComputedStyle(gd).display;\n",
       "        if (!display || display === 'none') {{\n",
       "            console.log([gd, 'removed!']);\n",
       "            Plotly.purge(gd);\n",
       "            observer.disconnect();\n",
       "        }}\n",
       "}});\n",
       "\n",
       "// Listen for the removal of the full notebook cells\n",
       "var notebookContainer = gd.closest('#notebook-container');\n",
       "if (notebookContainer) {{\n",
       "    x.observe(notebookContainer, {childList: true});\n",
       "}}\n",
       "\n",
       "// Listen for the clearing of the current output cell\n",
       "var outputEl = gd.closest('.output');\n",
       "if (outputEl) {{\n",
       "    x.observe(outputEl, {childList: true});\n",
       "}}\n",
       "\n",
       "                        })                };                });            </script>        </div>"
      ]
     },
     "metadata": {},
     "output_type": "display_data"
    }
   ],
   "source": [
    "# Filter the dataset based on \"business_id\"\n",
    "selected_data = select_dataset(train_dataset, business_id, sentiment_model)\n",
    "print(f\"Business name: {selected_data['business_name'].unique()[0]}\\n\")\n",
    "\n",
    "# Get the word vector from the pretrained transformer model\n",
    "selected_data[\"tfm\"] = transformer_encoder.transform(selected_data[\"clean_text\"])\n",
    "\n",
    "# Initialize evaluation results\n",
    "evaluation = []\n",
    "\n",
    "# Initialize subplots\n",
    "fig = make_subplots(rows=2, cols=1, \n",
    "                    subplot_titles=[\"Positive Reviews\", \"Negative Reviews\"])\n",
    "\n",
    "for i, sentiment in enumerate([\"positive\", \"negative\"], start=1):\n",
    "\n",
    "    # Prepare data for clustering by filtering it based on the sentiment\n",
    "    X = selected_data[selected_data[\"sentiment\"] == sentiment].copy()\n",
    "    X_ = np.vstack(X[\"tfm\"].values)\n",
    "    print(f\"Number of {sentiment} reviews: {len(X)}\")\n",
    "\n",
    "    # Clustering\n",
    "    clust = HDBSCANClustering(apply_dim_reduction=True)\n",
    "    X[\"label\"] = clust.fit_transform(X_)\n",
    "\n",
    "    # Evaluation\n",
    "    evaluation.append(evaluate_cluster(X_, X[\"label\"], sentiment))\n",
    "\n",
    "    # Clusters' topic extraction\n",
    "    cluster_text = get_cluster_centroids(X, \"tfm\", \"label\", n=2)\n",
    "    cluster_label = {}\n",
    "    for key in cluster_text:\n",
    "        cluster_label[key] = name_cluster(\"\\n\".join(cluster_text[key]))\n",
    "    \n",
    "    # Fill label as \"Other\" for reviews considered as noise by HDBSCAN\n",
    "    X[\"label\"] = X[\"label\"].map(cluster_label).fillna(\"Other\")\n",
    "\n",
    "    # Visualization\n",
    "    visualize_cluster(fig, X, \"tfm\", \"label\",\n",
    "                      row=i, sentiment=sentiment, show_outliers=False)\n",
    "\n",
    "    print()\n",
    "\n",
    "fig.update_layout(\n",
    "    height=800,\n",
    "    width=1000,\n",
    "    title=\"Customer Review Clusters using Transfomer Word Vector\",\n",
    "    legend=dict(\n",
    "        yanchor=\"top\",\n",
    "        y=1.0,\n",
    "        xanchor=\"left\",\n",
    "        x=1.05,\n",
    "        tracegroupgap=100\n",
    "    )\n",
    ")\n",
    "fig.show()"
   ]
  },
  {
   "cell_type": "markdown",
   "id": "h1JpCcwXecuP",
   "metadata": {
    "id": "h1JpCcwXecuP"
   },
   "source": [
    "![tfm](https://github.com/fandayp/exploratory_projects/blob/main/img/wv_tfm.png?raw=true)"
   ]
  },
  {
   "cell_type": "code",
   "execution_count": 100,
   "id": "bd9e8064-4189-4f0a-9b2f-4939f30566c1",
   "metadata": {
    "executionInfo": {
     "elapsed": 19,
     "status": "aborted",
     "timestamp": 1731969247443,
     "user": {
      "displayName": "",
      "userId": ""
     },
     "user_tz": -420
    },
    "id": "krWnwcpqz_de",
    "tags": []
   },
   "outputs": [
    {
     "data": {
      "text/html": [
       "<div>\n",
       "<style scoped>\n",
       "    .dataframe tbody tr th:only-of-type {\n",
       "        vertical-align: middle;\n",
       "    }\n",
       "\n",
       "    .dataframe tbody tr th {\n",
       "        vertical-align: top;\n",
       "    }\n",
       "\n",
       "    .dataframe thead th {\n",
       "        text-align: right;\n",
       "    }\n",
       "</style>\n",
       "<table border=\"1\" class=\"dataframe\">\n",
       "  <thead>\n",
       "    <tr style=\"text-align: right;\">\n",
       "      <th></th>\n",
       "      <th>Positive Reviews</th>\n",
       "      <th>Negative Reviews</th>\n",
       "    </tr>\n",
       "  </thead>\n",
       "  <tbody>\n",
       "    <tr>\n",
       "      <th>silhouette_score</th>\n",
       "      <td>0.042847</td>\n",
       "      <td>0.026767</td>\n",
       "    </tr>\n",
       "    <tr>\n",
       "      <th>davies_bouldin_score</th>\n",
       "      <td>2.047620</td>\n",
       "      <td>1.513416</td>\n",
       "    </tr>\n",
       "    <tr>\n",
       "      <th>calinski_harabasz_score</th>\n",
       "      <td>2.201999</td>\n",
       "      <td>1.267612</td>\n",
       "    </tr>\n",
       "  </tbody>\n",
       "</table>\n",
       "</div>"
      ],
      "text/plain": [
       "                         Positive Reviews  Negative Reviews\n",
       "silhouette_score                 0.042847          0.026767\n",
       "davies_bouldin_score             2.047620          1.513416\n",
       "calinski_harabasz_score          2.201999          1.267612"
      ]
     },
     "execution_count": 100,
     "metadata": {},
     "output_type": "execute_result"
    }
   ],
   "source": [
    "# Evaluation\n",
    "tfm_eval = pd.concat(evaluation, axis=1)\n",
    "tfm_eval"
   ]
  },
  {
   "cell_type": "markdown",
   "id": "YZZDgQLAZ3Gp",
   "metadata": {
    "id": "YZZDgQLAZ3Gp"
   },
   "source": [
    "# Word2Vec Model\n",
    "\n",
    "---\n",
    "\n"
   ]
  },
  {
   "cell_type": "markdown",
   "id": "X5mcb5rdT6C5",
   "metadata": {
    "id": "X5mcb5rdT6C5"
   },
   "source": [
    "In the previous section, we saw that clustering with word vectors from Transformer model provides some separation. However, the result is unsatisfactory, especially the number reviews labeled as noise/outliers by the clustering model.\n",
    "\n",
    "A common approach to improve the fit of a pretrained model to a specific dataset is fine-tuning. However, this requires large computational resources.\n",
    "\n",
    "Alternatively, we can train a custom model and then **concatenate** its word vectors with those from the pretrained model before clustering. We trained a custom Word2Vec model on our review dataset to create word vectors specific to our data. This option (Word2Vec) is worth to be explored since the training time is much faster than fine-tuning Transformer model. The result is also comparable, if not, better."
   ]
  },
  {
   "cell_type": "markdown",
   "id": "plYfhF5-RvC3",
   "metadata": {
    "id": "plYfhF5-RvC3"
   },
   "source": [
    "## Training"
   ]
  },
  {
   "cell_type": "code",
   "execution_count": 34,
   "id": "f6234298-deee-4334-8b93-3ed4bd202b32",
   "metadata": {
    "tags": []
   },
   "outputs": [],
   "source": [
    "from gensim.models import Word2Vec"
   ]
  },
  {
   "cell_type": "code",
   "execution_count": 35,
   "id": "oWFSS7FJQcJW",
   "metadata": {
    "executionInfo": {
     "elapsed": 19,
     "status": "aborted",
     "timestamp": 1731969247443,
     "user": {
      "displayName": "",
      "userId": ""
     },
     "user_tz": -420
    },
    "id": "oWFSS7FJQcJW"
   },
   "outputs": [],
   "source": [
    "class W2VEncoder(BaseEstimator, TransformerMixin):\n",
    "    \"\"\" Wrap the Word2Vec model to make it compatible with scikit-learn. \"\"\"\n",
    "\n",
    "    def __init__(self, model=None, norm=True):\n",
    "        # Use any existing w2v model\n",
    "        self.model = model\n",
    "        self.norm = norm\n",
    "\n",
    "        # Model hyperparameters\n",
    "        self.vector_size = 384\n",
    "        self.window = 3\n",
    "        self.min_count = 3\n",
    "        self.epochs = 5\n",
    "        self.alpha = 0.01\n",
    "        self.min_alpha = 0.001\n",
    "\n",
    "    def fit(self, X, y=None):\n",
    "        \"\"\" Train the w2v model. \"\"\"\n",
    "\n",
    "        # If not pretrained model isn't provided, train a new model\n",
    "        if not self.model:\n",
    "            self.model = Word2Vec(X,\n",
    "                                  vector_size=self.vector_size,\n",
    "                                  window=self.window,\n",
    "                                  min_count=self.min_count,\n",
    "                                  compute_loss=True,\n",
    "                                  epochs=self.epochs,\n",
    "                                  alpha=self.alpha,\n",
    "                                  min_alpha=self.min_alpha)\n",
    "\n",
    "        print(\"Finished training!\")\n",
    "        print(f\"Latest training loss (cumulative): {self.model.get_latest_training_loss()}\")\n",
    "\n",
    "        return self\n",
    "\n",
    "    def transform(self, X):\n",
    "        \"\"\"\n",
    "            Transform the data using the learned w2v model.\n",
    "            X is a Series\n",
    "        \"\"\"\n",
    "\n",
    "        # Extract the word vector for each token\n",
    "        wv = X.apply(lambda tokens: [self.model.wv.get_vector(token)\n",
    "                                    for token in tokens if token in self.model.wv])\n",
    "\n",
    "        # Take the average of the word vectors\n",
    "        wv = wv.apply(lambda v: np.array(v).mean(0) if len(v)\n",
    "                                else np.zeros(self.vector_size))\n",
    "        \n",
    "        # Normalize the averaged word vectors\n",
    "        if self.norm:\n",
    "            wv = wv.apply(lambda v: v / np.linalg.norm(v))\n",
    "\n",
    "        return wv"
   ]
  },
  {
   "cell_type": "code",
   "execution_count": 36,
   "id": "POoqZf_2U23n",
   "metadata": {
    "executionInfo": {
     "elapsed": 18,
     "status": "aborted",
     "timestamp": 1731969247443,
     "user": {
      "displayName": "",
      "userId": ""
     },
     "user_tz": -420
    },
    "id": "POoqZf_2U23n"
   },
   "outputs": [
    {
     "name": "stdout",
     "output_type": "stream",
     "text": [
      "Finished training!\n",
      "Latest training loss (cumulative): 5725937.0\n"
     ]
    },
    {
     "data": {
      "text/html": [
       "<style>#sk-container-id-1 {\n",
       "  /* Definition of color scheme common for light and dark mode */\n",
       "  --sklearn-color-text: black;\n",
       "  --sklearn-color-line: gray;\n",
       "  /* Definition of color scheme for unfitted estimators */\n",
       "  --sklearn-color-unfitted-level-0: #fff5e6;\n",
       "  --sklearn-color-unfitted-level-1: #f6e4d2;\n",
       "  --sklearn-color-unfitted-level-2: #ffe0b3;\n",
       "  --sklearn-color-unfitted-level-3: chocolate;\n",
       "  /* Definition of color scheme for fitted estimators */\n",
       "  --sklearn-color-fitted-level-0: #f0f8ff;\n",
       "  --sklearn-color-fitted-level-1: #d4ebff;\n",
       "  --sklearn-color-fitted-level-2: #b3dbfd;\n",
       "  --sklearn-color-fitted-level-3: cornflowerblue;\n",
       "\n",
       "  /* Specific color for light theme */\n",
       "  --sklearn-color-text-on-default-background: var(--sg-text-color, var(--theme-code-foreground, var(--jp-content-font-color1, black)));\n",
       "  --sklearn-color-background: var(--sg-background-color, var(--theme-background, var(--jp-layout-color0, white)));\n",
       "  --sklearn-color-border-box: var(--sg-text-color, var(--theme-code-foreground, var(--jp-content-font-color1, black)));\n",
       "  --sklearn-color-icon: #696969;\n",
       "\n",
       "  @media (prefers-color-scheme: dark) {\n",
       "    /* Redefinition of color scheme for dark theme */\n",
       "    --sklearn-color-text-on-default-background: var(--sg-text-color, var(--theme-code-foreground, var(--jp-content-font-color1, white)));\n",
       "    --sklearn-color-background: var(--sg-background-color, var(--theme-background, var(--jp-layout-color0, #111)));\n",
       "    --sklearn-color-border-box: var(--sg-text-color, var(--theme-code-foreground, var(--jp-content-font-color1, white)));\n",
       "    --sklearn-color-icon: #878787;\n",
       "  }\n",
       "}\n",
       "\n",
       "#sk-container-id-1 {\n",
       "  color: var(--sklearn-color-text);\n",
       "}\n",
       "\n",
       "#sk-container-id-1 pre {\n",
       "  padding: 0;\n",
       "}\n",
       "\n",
       "#sk-container-id-1 input.sk-hidden--visually {\n",
       "  border: 0;\n",
       "  clip: rect(1px 1px 1px 1px);\n",
       "  clip: rect(1px, 1px, 1px, 1px);\n",
       "  height: 1px;\n",
       "  margin: -1px;\n",
       "  overflow: hidden;\n",
       "  padding: 0;\n",
       "  position: absolute;\n",
       "  width: 1px;\n",
       "}\n",
       "\n",
       "#sk-container-id-1 div.sk-dashed-wrapped {\n",
       "  border: 1px dashed var(--sklearn-color-line);\n",
       "  margin: 0 0.4em 0.5em 0.4em;\n",
       "  box-sizing: border-box;\n",
       "  padding-bottom: 0.4em;\n",
       "  background-color: var(--sklearn-color-background);\n",
       "}\n",
       "\n",
       "#sk-container-id-1 div.sk-container {\n",
       "  /* jupyter's `normalize.less` sets `[hidden] { display: none; }`\n",
       "     but bootstrap.min.css set `[hidden] { display: none !important; }`\n",
       "     so we also need the `!important` here to be able to override the\n",
       "     default hidden behavior on the sphinx rendered scikit-learn.org.\n",
       "     See: https://github.com/scikit-learn/scikit-learn/issues/21755 */\n",
       "  display: inline-block !important;\n",
       "  position: relative;\n",
       "}\n",
       "\n",
       "#sk-container-id-1 div.sk-text-repr-fallback {\n",
       "  display: none;\n",
       "}\n",
       "\n",
       "div.sk-parallel-item,\n",
       "div.sk-serial,\n",
       "div.sk-item {\n",
       "  /* draw centered vertical line to link estimators */\n",
       "  background-image: linear-gradient(var(--sklearn-color-text-on-default-background), var(--sklearn-color-text-on-default-background));\n",
       "  background-size: 2px 100%;\n",
       "  background-repeat: no-repeat;\n",
       "  background-position: center center;\n",
       "}\n",
       "\n",
       "/* Parallel-specific style estimator block */\n",
       "\n",
       "#sk-container-id-1 div.sk-parallel-item::after {\n",
       "  content: \"\";\n",
       "  width: 100%;\n",
       "  border-bottom: 2px solid var(--sklearn-color-text-on-default-background);\n",
       "  flex-grow: 1;\n",
       "}\n",
       "\n",
       "#sk-container-id-1 div.sk-parallel {\n",
       "  display: flex;\n",
       "  align-items: stretch;\n",
       "  justify-content: center;\n",
       "  background-color: var(--sklearn-color-background);\n",
       "  position: relative;\n",
       "}\n",
       "\n",
       "#sk-container-id-1 div.sk-parallel-item {\n",
       "  display: flex;\n",
       "  flex-direction: column;\n",
       "}\n",
       "\n",
       "#sk-container-id-1 div.sk-parallel-item:first-child::after {\n",
       "  align-self: flex-end;\n",
       "  width: 50%;\n",
       "}\n",
       "\n",
       "#sk-container-id-1 div.sk-parallel-item:last-child::after {\n",
       "  align-self: flex-start;\n",
       "  width: 50%;\n",
       "}\n",
       "\n",
       "#sk-container-id-1 div.sk-parallel-item:only-child::after {\n",
       "  width: 0;\n",
       "}\n",
       "\n",
       "/* Serial-specific style estimator block */\n",
       "\n",
       "#sk-container-id-1 div.sk-serial {\n",
       "  display: flex;\n",
       "  flex-direction: column;\n",
       "  align-items: center;\n",
       "  background-color: var(--sklearn-color-background);\n",
       "  padding-right: 1em;\n",
       "  padding-left: 1em;\n",
       "}\n",
       "\n",
       "\n",
       "/* Toggleable style: style used for estimator/Pipeline/ColumnTransformer box that is\n",
       "clickable and can be expanded/collapsed.\n",
       "- Pipeline and ColumnTransformer use this feature and define the default style\n",
       "- Estimators will overwrite some part of the style using the `sk-estimator` class\n",
       "*/\n",
       "\n",
       "/* Pipeline and ColumnTransformer style (default) */\n",
       "\n",
       "#sk-container-id-1 div.sk-toggleable {\n",
       "  /* Default theme specific background. It is overwritten whether we have a\n",
       "  specific estimator or a Pipeline/ColumnTransformer */\n",
       "  background-color: var(--sklearn-color-background);\n",
       "}\n",
       "\n",
       "/* Toggleable label */\n",
       "#sk-container-id-1 label.sk-toggleable__label {\n",
       "  cursor: pointer;\n",
       "  display: block;\n",
       "  width: 100%;\n",
       "  margin-bottom: 0;\n",
       "  padding: 0.5em;\n",
       "  box-sizing: border-box;\n",
       "  text-align: center;\n",
       "}\n",
       "\n",
       "#sk-container-id-1 label.sk-toggleable__label-arrow:before {\n",
       "  /* Arrow on the left of the label */\n",
       "  content: \"▸\";\n",
       "  float: left;\n",
       "  margin-right: 0.25em;\n",
       "  color: var(--sklearn-color-icon);\n",
       "}\n",
       "\n",
       "#sk-container-id-1 label.sk-toggleable__label-arrow:hover:before {\n",
       "  color: var(--sklearn-color-text);\n",
       "}\n",
       "\n",
       "/* Toggleable content - dropdown */\n",
       "\n",
       "#sk-container-id-1 div.sk-toggleable__content {\n",
       "  max-height: 0;\n",
       "  max-width: 0;\n",
       "  overflow: hidden;\n",
       "  text-align: left;\n",
       "  /* unfitted */\n",
       "  background-color: var(--sklearn-color-unfitted-level-0);\n",
       "}\n",
       "\n",
       "#sk-container-id-1 div.sk-toggleable__content.fitted {\n",
       "  /* fitted */\n",
       "  background-color: var(--sklearn-color-fitted-level-0);\n",
       "}\n",
       "\n",
       "#sk-container-id-1 div.sk-toggleable__content pre {\n",
       "  margin: 0.2em;\n",
       "  border-radius: 0.25em;\n",
       "  color: var(--sklearn-color-text);\n",
       "  /* unfitted */\n",
       "  background-color: var(--sklearn-color-unfitted-level-0);\n",
       "}\n",
       "\n",
       "#sk-container-id-1 div.sk-toggleable__content.fitted pre {\n",
       "  /* unfitted */\n",
       "  background-color: var(--sklearn-color-fitted-level-0);\n",
       "}\n",
       "\n",
       "#sk-container-id-1 input.sk-toggleable__control:checked~div.sk-toggleable__content {\n",
       "  /* Expand drop-down */\n",
       "  max-height: 200px;\n",
       "  max-width: 100%;\n",
       "  overflow: auto;\n",
       "}\n",
       "\n",
       "#sk-container-id-1 input.sk-toggleable__control:checked~label.sk-toggleable__label-arrow:before {\n",
       "  content: \"▾\";\n",
       "}\n",
       "\n",
       "/* Pipeline/ColumnTransformer-specific style */\n",
       "\n",
       "#sk-container-id-1 div.sk-label input.sk-toggleable__control:checked~label.sk-toggleable__label {\n",
       "  color: var(--sklearn-color-text);\n",
       "  background-color: var(--sklearn-color-unfitted-level-2);\n",
       "}\n",
       "\n",
       "#sk-container-id-1 div.sk-label.fitted input.sk-toggleable__control:checked~label.sk-toggleable__label {\n",
       "  background-color: var(--sklearn-color-fitted-level-2);\n",
       "}\n",
       "\n",
       "/* Estimator-specific style */\n",
       "\n",
       "/* Colorize estimator box */\n",
       "#sk-container-id-1 div.sk-estimator input.sk-toggleable__control:checked~label.sk-toggleable__label {\n",
       "  /* unfitted */\n",
       "  background-color: var(--sklearn-color-unfitted-level-2);\n",
       "}\n",
       "\n",
       "#sk-container-id-1 div.sk-estimator.fitted input.sk-toggleable__control:checked~label.sk-toggleable__label {\n",
       "  /* fitted */\n",
       "  background-color: var(--sklearn-color-fitted-level-2);\n",
       "}\n",
       "\n",
       "#sk-container-id-1 div.sk-label label.sk-toggleable__label,\n",
       "#sk-container-id-1 div.sk-label label {\n",
       "  /* The background is the default theme color */\n",
       "  color: var(--sklearn-color-text-on-default-background);\n",
       "}\n",
       "\n",
       "/* On hover, darken the color of the background */\n",
       "#sk-container-id-1 div.sk-label:hover label.sk-toggleable__label {\n",
       "  color: var(--sklearn-color-text);\n",
       "  background-color: var(--sklearn-color-unfitted-level-2);\n",
       "}\n",
       "\n",
       "/* Label box, darken color on hover, fitted */\n",
       "#sk-container-id-1 div.sk-label.fitted:hover label.sk-toggleable__label.fitted {\n",
       "  color: var(--sklearn-color-text);\n",
       "  background-color: var(--sklearn-color-fitted-level-2);\n",
       "}\n",
       "\n",
       "/* Estimator label */\n",
       "\n",
       "#sk-container-id-1 div.sk-label label {\n",
       "  font-family: monospace;\n",
       "  font-weight: bold;\n",
       "  display: inline-block;\n",
       "  line-height: 1.2em;\n",
       "}\n",
       "\n",
       "#sk-container-id-1 div.sk-label-container {\n",
       "  text-align: center;\n",
       "}\n",
       "\n",
       "/* Estimator-specific */\n",
       "#sk-container-id-1 div.sk-estimator {\n",
       "  font-family: monospace;\n",
       "  border: 1px dotted var(--sklearn-color-border-box);\n",
       "  border-radius: 0.25em;\n",
       "  box-sizing: border-box;\n",
       "  margin-bottom: 0.5em;\n",
       "  /* unfitted */\n",
       "  background-color: var(--sklearn-color-unfitted-level-0);\n",
       "}\n",
       "\n",
       "#sk-container-id-1 div.sk-estimator.fitted {\n",
       "  /* fitted */\n",
       "  background-color: var(--sklearn-color-fitted-level-0);\n",
       "}\n",
       "\n",
       "/* on hover */\n",
       "#sk-container-id-1 div.sk-estimator:hover {\n",
       "  /* unfitted */\n",
       "  background-color: var(--sklearn-color-unfitted-level-2);\n",
       "}\n",
       "\n",
       "#sk-container-id-1 div.sk-estimator.fitted:hover {\n",
       "  /* fitted */\n",
       "  background-color: var(--sklearn-color-fitted-level-2);\n",
       "}\n",
       "\n",
       "/* Specification for estimator info (e.g. \"i\" and \"?\") */\n",
       "\n",
       "/* Common style for \"i\" and \"?\" */\n",
       "\n",
       ".sk-estimator-doc-link,\n",
       "a:link.sk-estimator-doc-link,\n",
       "a:visited.sk-estimator-doc-link {\n",
       "  float: right;\n",
       "  font-size: smaller;\n",
       "  line-height: 1em;\n",
       "  font-family: monospace;\n",
       "  background-color: var(--sklearn-color-background);\n",
       "  border-radius: 1em;\n",
       "  height: 1em;\n",
       "  width: 1em;\n",
       "  text-decoration: none !important;\n",
       "  margin-left: 1ex;\n",
       "  /* unfitted */\n",
       "  border: var(--sklearn-color-unfitted-level-1) 1pt solid;\n",
       "  color: var(--sklearn-color-unfitted-level-1);\n",
       "}\n",
       "\n",
       ".sk-estimator-doc-link.fitted,\n",
       "a:link.sk-estimator-doc-link.fitted,\n",
       "a:visited.sk-estimator-doc-link.fitted {\n",
       "  /* fitted */\n",
       "  border: var(--sklearn-color-fitted-level-1) 1pt solid;\n",
       "  color: var(--sklearn-color-fitted-level-1);\n",
       "}\n",
       "\n",
       "/* On hover */\n",
       "div.sk-estimator:hover .sk-estimator-doc-link:hover,\n",
       ".sk-estimator-doc-link:hover,\n",
       "div.sk-label-container:hover .sk-estimator-doc-link:hover,\n",
       ".sk-estimator-doc-link:hover {\n",
       "  /* unfitted */\n",
       "  background-color: var(--sklearn-color-unfitted-level-3);\n",
       "  color: var(--sklearn-color-background);\n",
       "  text-decoration: none;\n",
       "}\n",
       "\n",
       "div.sk-estimator.fitted:hover .sk-estimator-doc-link.fitted:hover,\n",
       ".sk-estimator-doc-link.fitted:hover,\n",
       "div.sk-label-container:hover .sk-estimator-doc-link.fitted:hover,\n",
       ".sk-estimator-doc-link.fitted:hover {\n",
       "  /* fitted */\n",
       "  background-color: var(--sklearn-color-fitted-level-3);\n",
       "  color: var(--sklearn-color-background);\n",
       "  text-decoration: none;\n",
       "}\n",
       "\n",
       "/* Span, style for the box shown on hovering the info icon */\n",
       ".sk-estimator-doc-link span {\n",
       "  display: none;\n",
       "  z-index: 9999;\n",
       "  position: relative;\n",
       "  font-weight: normal;\n",
       "  right: .2ex;\n",
       "  padding: .5ex;\n",
       "  margin: .5ex;\n",
       "  width: min-content;\n",
       "  min-width: 20ex;\n",
       "  max-width: 50ex;\n",
       "  color: var(--sklearn-color-text);\n",
       "  box-shadow: 2pt 2pt 4pt #999;\n",
       "  /* unfitted */\n",
       "  background: var(--sklearn-color-unfitted-level-0);\n",
       "  border: .5pt solid var(--sklearn-color-unfitted-level-3);\n",
       "}\n",
       "\n",
       ".sk-estimator-doc-link.fitted span {\n",
       "  /* fitted */\n",
       "  background: var(--sklearn-color-fitted-level-0);\n",
       "  border: var(--sklearn-color-fitted-level-3);\n",
       "}\n",
       "\n",
       ".sk-estimator-doc-link:hover span {\n",
       "  display: block;\n",
       "}\n",
       "\n",
       "/* \"?\"-specific style due to the `<a>` HTML tag */\n",
       "\n",
       "#sk-container-id-1 a.estimator_doc_link {\n",
       "  float: right;\n",
       "  font-size: 1rem;\n",
       "  line-height: 1em;\n",
       "  font-family: monospace;\n",
       "  background-color: var(--sklearn-color-background);\n",
       "  border-radius: 1rem;\n",
       "  height: 1rem;\n",
       "  width: 1rem;\n",
       "  text-decoration: none;\n",
       "  /* unfitted */\n",
       "  color: var(--sklearn-color-unfitted-level-1);\n",
       "  border: var(--sklearn-color-unfitted-level-1) 1pt solid;\n",
       "}\n",
       "\n",
       "#sk-container-id-1 a.estimator_doc_link.fitted {\n",
       "  /* fitted */\n",
       "  border: var(--sklearn-color-fitted-level-1) 1pt solid;\n",
       "  color: var(--sklearn-color-fitted-level-1);\n",
       "}\n",
       "\n",
       "/* On hover */\n",
       "#sk-container-id-1 a.estimator_doc_link:hover {\n",
       "  /* unfitted */\n",
       "  background-color: var(--sklearn-color-unfitted-level-3);\n",
       "  color: var(--sklearn-color-background);\n",
       "  text-decoration: none;\n",
       "}\n",
       "\n",
       "#sk-container-id-1 a.estimator_doc_link.fitted:hover {\n",
       "  /* fitted */\n",
       "  background-color: var(--sklearn-color-fitted-level-3);\n",
       "}\n",
       "</style><div id=\"sk-container-id-1\" class=\"sk-top-container\"><div class=\"sk-text-repr-fallback\"><pre>W2VEncoder(model=&lt;gensim.models.word2vec.Word2Vec object at 0x7f46972165c0&gt;)</pre><b>In a Jupyter environment, please rerun this cell to show the HTML representation or trust the notebook. <br />On GitHub, the HTML representation is unable to render, please try loading this page with nbviewer.org.</b></div><div class=\"sk-container\" hidden><div class=\"sk-item\"><div class=\"sk-estimator  sk-toggleable\"><input class=\"sk-toggleable__control sk-hidden--visually\" id=\"sk-estimator-id-1\" type=\"checkbox\" checked><label for=\"sk-estimator-id-1\" class=\"sk-toggleable__label  sk-toggleable__label-arrow \">&nbsp;W2VEncoder<span class=\"sk-estimator-doc-link \">i<span>Not fitted</span></span></label><div class=\"sk-toggleable__content \"><pre>W2VEncoder(model=&lt;gensim.models.word2vec.Word2Vec object at 0x7f46972165c0&gt;)</pre></div> </div></div></div></div>"
      ],
      "text/plain": [
       "W2VEncoder(model=<gensim.models.word2vec.Word2Vec object at 0x7f46972165c0>)"
      ]
     },
     "execution_count": 36,
     "metadata": {},
     "output_type": "execute_result"
    }
   ],
   "source": [
    "# Train the Word2Vec model\n",
    "w2v_encoder = W2VEncoder()\n",
    "w2v_encoder.fit(train_dataset[\"tokens\"])"
   ]
  },
  {
   "cell_type": "markdown",
   "id": "Szy42kONPrbh",
   "metadata": {
    "id": "Szy42kONPrbh"
   },
   "source": [
    "## Clustering"
   ]
  },
  {
   "cell_type": "code",
   "execution_count": 110,
   "id": "6wKQ3yiqh-hJ",
   "metadata": {
    "executionInfo": {
     "elapsed": 18,
     "status": "aborted",
     "timestamp": 1731969247443,
     "user": {
      "displayName": "",
      "userId": ""
     },
     "user_tz": -420
    },
    "id": "6wKQ3yiqh-hJ"
   },
   "outputs": [
    {
     "name": "stdout",
     "output_type": "stream",
     "text": [
      "Business name: Haleakalā National Park\n",
      "\n",
      "Number of positive reviews: 69\n",
      "Outliers ratio (positive): 17/69\n",
      "\n",
      "Number of negative reviews: 12\n",
      "Outliers ratio (negative): 6/12\n",
      "\n"
     ]
    },
    {
     "data": {
      "application/vnd.plotly.v1+json": {
       "config": {
        "plotlyServerURL": "https://plot.ly"
       },
       "data": [
        {
         "customdata": [
          [
           "the summit at just over 10k feet makes you work for your hikes, especially the climb back out of the crater!  ",
           "'Challenging hike'"
          ],
          [
           "was a cool place, almost had hypothermia from the bad weather though so be super prepared!",
           "'Challenging hike'"
          ],
          [
           "ultra rad! wickedly mystic spot!",
           "'Challenging hike'"
          ],
          [
           "the bamboo forest was dark as you make your way through to some incredible waterfall views.",
           "'Challenging hike'"
          ],
          [
           "it was a moderate hike during the wet months as it was fairly slippery for 3.7 miles roundtrip, but totally doable.",
           "'Challenging hike'"
          ],
          [
           "it's a beautiful place, has couple of trails which starts from here.",
           "'Challenging hike'"
          ]
         ],
         "hovertemplate": "label=%{customdata[1]}<br>clean_text=%{customdata[0]}<extra></extra>",
         "legendgroup": "1",
         "marker": {
          "color": "rgb(228,26,28)",
          "symbol": "circle"
         },
         "mode": "markers",
         "name": "'Challenging hike'",
         "orientation": "v",
         "showlegend": true,
         "type": "scatter",
         "x": [
          0.0877024456858635,
          0.08455632627010345,
          0.04590539634227753,
          0.05255025997757912,
          0.029607614502310753,
          0.043929290026426315
         ],
         "xaxis": "x",
         "y": [
          -0.016049589961767197,
          -0.03911448270082474,
          0.030583128333091736,
          -0.045912813395261765,
          0.019658738747239113,
          0.004456148017197847
         ],
         "yaxis": "y"
        },
        {
         "customdata": [
          [
           "the national park includes an extinct volcano on a tropical island and is one of the most stunning parks in the whole of the us.",
           "'National park experience'"
          ],
          [
           "i did the sunset and star gazing your on halloween with a full moon!",
           "'National park experience'"
          ]
         ],
         "hovertemplate": "label=%{customdata[1]}<br>clean_text=%{customdata[0]}<extra></extra>",
         "legendgroup": "1",
         "marker": {
          "color": "rgb(55,126,184)",
          "symbol": "circle"
         },
         "mode": "markers",
         "name": "'National park experience'",
         "orientation": "v",
         "showlegend": true,
         "type": "scatter",
         "x": [
          -0.06728468835353851,
          -0.059286635369062424
         ],
         "xaxis": "x",
         "y": [
          0.005646330304443836,
          -0.016421157866716385
         ],
         "yaxis": "y"
        },
        {
         "customdata": [
          [
           "the summit can be easily reached by car, so that everyone can enjoy the views from the peaks, which usually involve being higher than the clouds and can include the whole island and beyond without.",
           "Panoramic views"
          ],
          [
           "great and awesome amazing experience that only a frew in the world have been.. a must have on your bucket list.....",
           "Panoramic views"
          ],
          [
           "we did the sunrise and then the bike ride down the mountain very fun and also challenging",
           "Panoramic views"
          ]
         ],
         "hovertemplate": "label=%{customdata[1]}<br>clean_text=%{customdata[0]}<extra></extra>",
         "legendgroup": "1",
         "marker": {
          "color": "rgb(77,175,74)",
          "symbol": "circle"
         },
         "mode": "markers",
         "name": "Panoramic views",
         "orientation": "v",
         "showlegend": true,
         "type": "scatter",
         "x": [
          -0.036044295877218246,
          -0.021759988740086555,
          -0.10140515118837357
         ],
         "xaxis": "x",
         "y": [
          -0.011627561412751675,
          -0.005424813367426395,
          0.0063671632669866085
         ],
         "yaxis": "y"
        },
        {
         "customdata": [
          [
           "if there are a very small group of you with two cars, one-way trips from top to bottom or bottom to top may be more enjoyable.",
           "'Panoramic experience'"
          ],
          [
           "there are several lookout points on your way up to the crater which are great and offer amazing views!",
           "'Panoramic experience'"
          ],
          [
           "a great place to change your outlook on life.",
           "'Panoramic experience'"
          ]
         ],
         "hovertemplate": "label=%{customdata[1]}<br>clean_text=%{customdata[0]}<extra></extra>",
         "legendgroup": "1",
         "marker": {
          "color": "rgb(152,78,163)",
          "symbol": "circle"
         },
         "mode": "markers",
         "name": "'Panoramic experience'",
         "orientation": "v",
         "showlegend": true,
         "type": "scatter",
         "x": [
          0.12639953196048737,
          0.037737395614385605,
          0.0885104238986969
         ],
         "xaxis": "x",
         "y": [
          -0.03572273254394531,
          -0.015441742725670338,
          -0.05484485253691673
         ],
         "yaxis": "y"
        },
        {
         "customdata": [
          [
           "i highly recommend a visit for sunrise or sunset, too.",
           "'Sunrise/sunset view'"
          ],
          [
           "i think the sunsets are prettier, and you'll see more variation of colours; but there's something wonderful about seeing the sunrise from the summit before tackling a day-long hike!  ",
           "'Sunrise/sunset view'"
          ]
         ],
         "hovertemplate": "label=%{customdata[1]}<br>clean_text=%{customdata[0]}<extra></extra>",
         "legendgroup": "1",
         "marker": {
          "color": "rgb(255,127,0)",
          "symbol": "circle"
         },
         "mode": "markers",
         "name": "'Sunrise/sunset view'",
         "orientation": "v",
         "showlegend": true,
         "type": "scatter",
         "x": [
          -0.014182692393660545,
          -0.0049614086747169495
         ],
         "xaxis": "x",
         "y": [
          -0.044518813490867615,
          -0.008449045941233635
         ],
         "yaxis": "y"
        },
        {
         "customdata": [
          [
           "we got clouds on our sunrise reservation but the pure quiet and seeing how small we all are is truly breathtaking.",
           "'Beautiful sunrise view'"
          ],
          [
           "it has astonishing views, the driving up the mountain was a little long, but amusing for my kids, also entertaining and great view all the way.",
           "'Beautiful sunrise view'"
          ],
          [
           "must visit place  stunning sunrise , and be advised to dress very warm.",
           "'Beautiful sunrise view'"
          ],
          [
           "breathtaking experiences the sunset and sunrise make sure you dress appropriately very very warm clothes",
           "'Beautiful sunrise view'"
          ],
          [
           " to watch the sunrise, blankets are a must... even when the sun rises, you can still see the wonderful scenery.",
           "'Beautiful sunrise view'"
          ]
         ],
         "hovertemplate": "label=%{customdata[1]}<br>clean_text=%{customdata[0]}<extra></extra>",
         "legendgroup": "1",
         "marker": {
          "color": "rgb(255,255,51)",
          "symbol": "circle"
         },
         "mode": "markers",
         "name": "'Beautiful sunrise view'",
         "orientation": "v",
         "showlegend": true,
         "type": "scatter",
         "x": [
          -0.030205227434635162,
          -0.06795760244131088,
          -0.10896129161119461,
          -0.04171068221330643,
          -0.08074464648962021
         ],
         "xaxis": "x",
         "y": [
          -0.0013908896362408996,
          0.032923828810453415,
          0.009548182599246502,
          -0.0052377209067344666,
          0.018356241285800934
         ],
         "yaxis": "y"
        },
        {
         "customdata": [
          [
           "words cannot describe just how amazing our creator made such a lovely place...",
           "'Natural beauty'"
          ],
          [
           "it's a good change of scenery from your maui beaches.",
           "'Natural beauty'"
          ],
          [
           "beautiful drive up the mountain through many distinct environments.",
           "'Natural beauty'"
          ],
          [
           "the drive up was long for us, but because we took our time to enjoy the changing sceneries.  highly recommended.",
           "'Natural beauty'"
          ],
          [
           "crazy cool volcano to visit when you're in maui.",
           "'Natural beauty'"
          ],
          [
           "but about the scared mountain its beautiful..if going be respectful also no taking rocks or sand",
           "'Natural beauty'"
          ],
          [
           "beautiful volcano....looks like you're on mars....",
           "'Natural beauty'"
          ],
          [
           "amazing views of a dormant super volcano sitting above the clouds!",
           "'Natural beauty'"
          ]
         ],
         "hovertemplate": "label=%{customdata[1]}<br>clean_text=%{customdata[0]}<extra></extra>",
         "legendgroup": "1",
         "marker": {
          "color": "rgb(166,86,40)",
          "symbol": "circle"
         },
         "mode": "markers",
         "name": "'Natural beauty'",
         "orientation": "v",
         "showlegend": true,
         "type": "scatter",
         "x": [
          0.004374273587018251,
          0.014317786321043968,
          -0.05207055062055588,
          -0.00403111707419157,
          0.02748396247625351,
          -0.01793869398534298,
          0.032723572105169296,
          -0.005879553034901619
         ],
         "xaxis": "x",
         "y": [
          -0.0513392873108387,
          -0.09515860676765442,
          0.016701331362128258,
          -0.03588522970676422,
          -0.08443022519350052,
          -0.0030197068117558956,
          -0.11291418969631195,
          -0.035689353942871094
         ],
         "yaxis": "y"
        },
        {
         "customdata": [
          [
           "we entered on road to hana to access the pipiwai trail (best hike to see amazing waterfalls and bamboo forests).",
           "'Outdoor activities'"
          ],
          [
           "also folks bicycle to the top, this is considered as one of the greatest bike climbs in the world.",
           "'Outdoor activities'"
          ],
          [
           " i don’t hesitate to pick the best place in hawaii haley color is picked.",
           "'Outdoor activities'"
          ]
         ],
         "hovertemplate": "label=%{customdata[1]}<br>clean_text=%{customdata[0]}<extra></extra>",
         "legendgroup": "1",
         "marker": {
          "color": "rgb(247,129,191)",
          "symbol": "circle"
         },
         "mode": "markers",
         "name": "'Outdoor activities'",
         "orientation": "v",
         "showlegend": true,
         "type": "scatter",
         "x": [
          0.014723780564963818,
          0.035823918879032135,
          0.05305780842900276
         ],
         "xaxis": "x",
         "y": [
          0.012129934504628181,
          0.0034757747780531645,
          0.031042039394378662
         ],
         "yaxis": "y"
        },
        {
         "customdata": [
          [
           "got up at 3 and reached 10,000 feet above the sea to witness the most beautiful sunrise with clouds as audience.",
           "'Sunrise hike'"
          ],
          [
           "the sunset is beautiful, but be sure to wear warm clothes because the temperature drops once the sun starts setting.",
           "'Sunrise hike'"
          ],
          [
           "the hike was amazing, but the kids weren't quite up to going 11 miles.",
           "'Sunrise hike'"
          ],
          [
           "best place to watch the sunrise,  pack warm!",
           "'Sunrise hike'"
          ]
         ],
         "hovertemplate": "label=%{customdata[1]}<br>clean_text=%{customdata[0]}<extra></extra>",
         "legendgroup": "1",
         "marker": {
          "color": "rgb(153,153,153)",
          "symbol": "circle"
         },
         "mode": "markers",
         "name": "'Sunrise hike'",
         "orientation": "v",
         "showlegend": true,
         "type": "scatter",
         "x": [
          -0.0015260030049830675,
          -0.00574507936835289,
          -0.013523545116186142,
          0.0008424707339145243
         ],
         "xaxis": "x",
         "y": [
          0.026680322363972664,
          0.044584497809410095,
          0.030989665538072586,
          0.04129880294203758
         ],
         "yaxis": "y"
        },
        {
         "customdata": [
          [
           "you don't want to miss this day trip while on the island.",
           "'Scenic summit view'"
          ],
          [
           "beautiful drive with amazing scene of the coastline, roaming cattle, and tasty fruit stands.",
           "'Scenic summit view'"
          ],
          [
           "we arrived at the summit when it was sunny, so the wind was not high, and the temperature was cool - not cold as we thought.",
           "'Scenic summit view'"
          ],
          [
           "long drive up the mountain but well worth the trip.",
           "'Scenic summit view'"
          ],
          [
           "it is a long winding drive to the summit, but it is really worth it.",
           "'Scenic summit view'"
          ]
         ],
         "hovertemplate": "label=%{customdata[1]}<br>clean_text=%{customdata[0]}<extra></extra>",
         "legendgroup": "1",
         "marker": {
          "color": "rgb(228,26,28)",
          "symbol": "circle"
         },
         "mode": "markers",
         "name": "'Scenic summit view'",
         "orientation": "v",
         "showlegend": true,
         "type": "scatter",
         "x": [
          -0.02224782109260559,
          -0.026232140138745308,
          -0.015048285946249962,
          0.025298625230789185,
          0.013119707815349102
         ],
         "xaxis": "x",
         "y": [
          0.03961490839719772,
          0.05423291400074959,
          0.02900857664644718,
          0.03535644710063934,
          0.05966155230998993
         ],
         "yaxis": "y"
        },
        {
         "customdata": [
          [
           "never changes , great park lot warmer than the last time we were there.",
           "'Park facilities'"
          ],
          [
           "i felt like my car was safe parked at the national park parking lot and the restrooms were pristine and fully stocked.",
           "'Park facilities'"
          ]
         ],
         "hovertemplate": "label=%{customdata[1]}<br>clean_text=%{customdata[0]}<extra></extra>",
         "legendgroup": "1",
         "marker": {
          "color": "rgb(55,126,184)",
          "symbol": "circle"
         },
         "mode": "markers",
         "name": "'Park facilities'",
         "orientation": "v",
         "showlegend": true,
         "type": "scatter",
         "x": [
          0.007629787549376488,
          -0.007854078896343708
         ],
         "xaxis": "x",
         "y": [
          0.05624084174633026,
          0.021814892068505287
         ],
         "yaxis": "y"
        },
        {
         "customdata": [
          [
           "the road was a little scary but so worth getting to the top.",
           "'Challenging drive'"
          ],
          [
           "great visit but compared to other national parks, there isn't as much to see or do here",
           "'Challenging drive'"
          ],
          [
           "the drive up is a little scary, but totally worth the effort.",
           "'Challenging drive'"
          ]
         ],
         "hovertemplate": "label=%{customdata[1]}<br>clean_text=%{customdata[0]}<extra></extra>",
         "legendgroup": "1",
         "marker": {
          "color": "rgb(77,175,74)",
          "symbol": "circle"
         },
         "mode": "markers",
         "name": "'Challenging drive'",
         "orientation": "v",
         "showlegend": true,
         "type": "scatter",
         "x": [
          0.0990702286362648,
          0.05625535175204277,
          0.11120998114347458
         ],
         "xaxis": "x",
         "y": [
          0.08601213246583939,
          0.017357544973492622,
          0.08229570090770721
         ],
         "yaxis": "y"
        },
        {
         "customdata": [
          [
           "i recommend this place, especially for sundown and most of all, sunrises here are amazing!!!",
           "'Sunset recommendation'"
          ],
          [
           "majestic views which ordinarily could only be seen through an airplane's windows - so  wonderful.  ",
           "'Sunset recommendation'"
          ],
          [
           "i highly recommend reserving a spot to watch sunrise.",
           "'Sunset recommendation'"
          ],
          [
           "an amazing sight to see, i would highly highly recommend visiting.",
           "'Sunset recommendation'"
          ]
         ],
         "hovertemplate": "label=%{customdata[1]}<br>clean_text=%{customdata[0]}<extra></extra>",
         "legendgroup": "1",
         "marker": {
          "color": "rgb(152,78,163)",
          "symbol": "circle"
         },
         "mode": "markers",
         "name": "'Sunset recommendation'",
         "orientation": "v",
         "showlegend": true,
         "type": "scatter",
         "x": [
          -0.06692146509885788,
          -0.0704435482621193,
          -0.03205772489309311,
          -0.04357968643307686
         ],
         "xaxis": "x",
         "y": [
          -0.05503343045711517,
          -0.05299133062362671,
          -0.02090161107480526,
          -0.0299995020031929
         ],
         "yaxis": "y"
        },
        {
         "customdata": [
          [
           "the veiw is breath taking, calm and peacful.",
           "'Scenic Trails'"
          ],
          [
           "great hike to falls trail was muddy and can be very challenging at times.",
           "'Scenic Trails'"
          ]
         ],
         "hovertemplate": "label=%{customdata[1]}<br>clean_text=%{customdata[0]}<extra></extra>",
         "legendgroup": "1",
         "marker": {
          "color": "rgb(255,127,0)",
          "symbol": "circle"
         },
         "mode": "markers",
         "name": "'Scenic Trails'",
         "orientation": "v",
         "showlegend": true,
         "type": "scatter",
         "x": [
          -0.03150558099150658,
          -0.041720688343048096
         ],
         "xaxis": "x",
         "y": [
          0.03538033738732338,
          0.026100797578692436
         ],
         "yaxis": "y"
        },
        {
         "customdata": [
          [
           "book ahead, sold out in 23 minutes my first attempt (lost my spot while preparing my account).",
           "'Must-see attraction'"
          ],
          [
           "we even had my 73 year old mother on the hike, with little assistance.",
           "'Must-see attraction'"
          ],
          [
           "the tickets that cost bucks to get sell out in 90 seconds every day.",
           "'Must-see attraction'"
          ]
         ],
         "hovertemplate": "label=%{customdata[1]}<br>clean_text=%{customdata[0]}<extra></extra>",
         "legendgroup": "2",
         "marker": {
          "color": "rgb(228,26,28)",
          "symbol": "circle"
         },
         "mode": "markers",
         "name": "'Must-see attraction'",
         "orientation": "v",
         "showlegend": true,
         "type": "scatter",
         "x": [
          0.029006073251366615,
          0.0012043907772749662,
          0.045695364475250244
         ],
         "xaxis": "x2",
         "y": [
          -0.038869477808475494,
          0.030707947909832,
          0.017919834703207016
         ],
         "yaxis": "y2"
        },
        {
         "customdata": [
          [
           "you don't want to drive all the way up there and be socked in with clouds.  ",
           "'Scenic view'"
          ],
          [
           "it's windy and the cold blows right through to your bones",
           "'Scenic view'"
          ],
          [
           "silver sword....looks like it was spray painted....dont touch...",
           "'Scenic view'"
          ]
         ],
         "hovertemplate": "label=%{customdata[1]}<br>clean_text=%{customdata[0]}<extra></extra>",
         "legendgroup": "2",
         "marker": {
          "color": "rgb(55,126,184)",
          "symbol": "circle"
         },
         "mode": "markers",
         "name": "'Scenic view'",
         "orientation": "v",
         "showlegend": true,
         "type": "scatter",
         "x": [
          -0.024179112166166306,
          -0.026559246703982353,
          -0.02516750805079937
         ],
         "xaxis": "x2",
         "y": [
          0.008542942814528942,
          -0.012629584409296513,
          -0.005671697203069925
         ],
         "yaxis": "y2"
        }
       ],
       "layout": {
        "annotations": [
         {
          "font": {
           "size": 16
          },
          "showarrow": false,
          "text": "Positive Reviews",
          "x": 0.5,
          "xanchor": "center",
          "xref": "paper",
          "y": 1,
          "yanchor": "bottom",
          "yref": "paper"
         },
         {
          "font": {
           "size": 16
          },
          "showarrow": false,
          "text": "Negative Reviews",
          "x": 0.5,
          "xanchor": "center",
          "xref": "paper",
          "y": 0.375,
          "yanchor": "bottom",
          "yref": "paper"
         }
        ],
        "height": 800,
        "legend": {
         "tracegroupgap": 150,
         "x": 1.05,
         "xanchor": "left",
         "y": 1,
         "yanchor": "top"
        },
        "template": {
         "data": {
          "bar": [
           {
            "error_x": {
             "color": "#2a3f5f"
            },
            "error_y": {
             "color": "#2a3f5f"
            },
            "marker": {
             "line": {
              "color": "#E5ECF6",
              "width": 0.5
             },
             "pattern": {
              "fillmode": "overlay",
              "size": 10,
              "solidity": 0.2
             }
            },
            "type": "bar"
           }
          ],
          "barpolar": [
           {
            "marker": {
             "line": {
              "color": "#E5ECF6",
              "width": 0.5
             },
             "pattern": {
              "fillmode": "overlay",
              "size": 10,
              "solidity": 0.2
             }
            },
            "type": "barpolar"
           }
          ],
          "carpet": [
           {
            "aaxis": {
             "endlinecolor": "#2a3f5f",
             "gridcolor": "white",
             "linecolor": "white",
             "minorgridcolor": "white",
             "startlinecolor": "#2a3f5f"
            },
            "baxis": {
             "endlinecolor": "#2a3f5f",
             "gridcolor": "white",
             "linecolor": "white",
             "minorgridcolor": "white",
             "startlinecolor": "#2a3f5f"
            },
            "type": "carpet"
           }
          ],
          "choropleth": [
           {
            "colorbar": {
             "outlinewidth": 0,
             "ticks": ""
            },
            "type": "choropleth"
           }
          ],
          "contour": [
           {
            "colorbar": {
             "outlinewidth": 0,
             "ticks": ""
            },
            "colorscale": [
             [
              0,
              "#0d0887"
             ],
             [
              0.1111111111111111,
              "#46039f"
             ],
             [
              0.2222222222222222,
              "#7201a8"
             ],
             [
              0.3333333333333333,
              "#9c179e"
             ],
             [
              0.4444444444444444,
              "#bd3786"
             ],
             [
              0.5555555555555556,
              "#d8576b"
             ],
             [
              0.6666666666666666,
              "#ed7953"
             ],
             [
              0.7777777777777778,
              "#fb9f3a"
             ],
             [
              0.8888888888888888,
              "#fdca26"
             ],
             [
              1,
              "#f0f921"
             ]
            ],
            "type": "contour"
           }
          ],
          "contourcarpet": [
           {
            "colorbar": {
             "outlinewidth": 0,
             "ticks": ""
            },
            "type": "contourcarpet"
           }
          ],
          "heatmap": [
           {
            "colorbar": {
             "outlinewidth": 0,
             "ticks": ""
            },
            "colorscale": [
             [
              0,
              "#0d0887"
             ],
             [
              0.1111111111111111,
              "#46039f"
             ],
             [
              0.2222222222222222,
              "#7201a8"
             ],
             [
              0.3333333333333333,
              "#9c179e"
             ],
             [
              0.4444444444444444,
              "#bd3786"
             ],
             [
              0.5555555555555556,
              "#d8576b"
             ],
             [
              0.6666666666666666,
              "#ed7953"
             ],
             [
              0.7777777777777778,
              "#fb9f3a"
             ],
             [
              0.8888888888888888,
              "#fdca26"
             ],
             [
              1,
              "#f0f921"
             ]
            ],
            "type": "heatmap"
           }
          ],
          "heatmapgl": [
           {
            "colorbar": {
             "outlinewidth": 0,
             "ticks": ""
            },
            "colorscale": [
             [
              0,
              "#0d0887"
             ],
             [
              0.1111111111111111,
              "#46039f"
             ],
             [
              0.2222222222222222,
              "#7201a8"
             ],
             [
              0.3333333333333333,
              "#9c179e"
             ],
             [
              0.4444444444444444,
              "#bd3786"
             ],
             [
              0.5555555555555556,
              "#d8576b"
             ],
             [
              0.6666666666666666,
              "#ed7953"
             ],
             [
              0.7777777777777778,
              "#fb9f3a"
             ],
             [
              0.8888888888888888,
              "#fdca26"
             ],
             [
              1,
              "#f0f921"
             ]
            ],
            "type": "heatmapgl"
           }
          ],
          "histogram": [
           {
            "marker": {
             "pattern": {
              "fillmode": "overlay",
              "size": 10,
              "solidity": 0.2
             }
            },
            "type": "histogram"
           }
          ],
          "histogram2d": [
           {
            "colorbar": {
             "outlinewidth": 0,
             "ticks": ""
            },
            "colorscale": [
             [
              0,
              "#0d0887"
             ],
             [
              0.1111111111111111,
              "#46039f"
             ],
             [
              0.2222222222222222,
              "#7201a8"
             ],
             [
              0.3333333333333333,
              "#9c179e"
             ],
             [
              0.4444444444444444,
              "#bd3786"
             ],
             [
              0.5555555555555556,
              "#d8576b"
             ],
             [
              0.6666666666666666,
              "#ed7953"
             ],
             [
              0.7777777777777778,
              "#fb9f3a"
             ],
             [
              0.8888888888888888,
              "#fdca26"
             ],
             [
              1,
              "#f0f921"
             ]
            ],
            "type": "histogram2d"
           }
          ],
          "histogram2dcontour": [
           {
            "colorbar": {
             "outlinewidth": 0,
             "ticks": ""
            },
            "colorscale": [
             [
              0,
              "#0d0887"
             ],
             [
              0.1111111111111111,
              "#46039f"
             ],
             [
              0.2222222222222222,
              "#7201a8"
             ],
             [
              0.3333333333333333,
              "#9c179e"
             ],
             [
              0.4444444444444444,
              "#bd3786"
             ],
             [
              0.5555555555555556,
              "#d8576b"
             ],
             [
              0.6666666666666666,
              "#ed7953"
             ],
             [
              0.7777777777777778,
              "#fb9f3a"
             ],
             [
              0.8888888888888888,
              "#fdca26"
             ],
             [
              1,
              "#f0f921"
             ]
            ],
            "type": "histogram2dcontour"
           }
          ],
          "mesh3d": [
           {
            "colorbar": {
             "outlinewidth": 0,
             "ticks": ""
            },
            "type": "mesh3d"
           }
          ],
          "parcoords": [
           {
            "line": {
             "colorbar": {
              "outlinewidth": 0,
              "ticks": ""
             }
            },
            "type": "parcoords"
           }
          ],
          "pie": [
           {
            "automargin": true,
            "type": "pie"
           }
          ],
          "scatter": [
           {
            "fillpattern": {
             "fillmode": "overlay",
             "size": 10,
             "solidity": 0.2
            },
            "type": "scatter"
           }
          ],
          "scatter3d": [
           {
            "line": {
             "colorbar": {
              "outlinewidth": 0,
              "ticks": ""
             }
            },
            "marker": {
             "colorbar": {
              "outlinewidth": 0,
              "ticks": ""
             }
            },
            "type": "scatter3d"
           }
          ],
          "scattercarpet": [
           {
            "marker": {
             "colorbar": {
              "outlinewidth": 0,
              "ticks": ""
             }
            },
            "type": "scattercarpet"
           }
          ],
          "scattergeo": [
           {
            "marker": {
             "colorbar": {
              "outlinewidth": 0,
              "ticks": ""
             }
            },
            "type": "scattergeo"
           }
          ],
          "scattergl": [
           {
            "marker": {
             "colorbar": {
              "outlinewidth": 0,
              "ticks": ""
             }
            },
            "type": "scattergl"
           }
          ],
          "scattermapbox": [
           {
            "marker": {
             "colorbar": {
              "outlinewidth": 0,
              "ticks": ""
             }
            },
            "type": "scattermapbox"
           }
          ],
          "scatterpolar": [
           {
            "marker": {
             "colorbar": {
              "outlinewidth": 0,
              "ticks": ""
             }
            },
            "type": "scatterpolar"
           }
          ],
          "scatterpolargl": [
           {
            "marker": {
             "colorbar": {
              "outlinewidth": 0,
              "ticks": ""
             }
            },
            "type": "scatterpolargl"
           }
          ],
          "scatterternary": [
           {
            "marker": {
             "colorbar": {
              "outlinewidth": 0,
              "ticks": ""
             }
            },
            "type": "scatterternary"
           }
          ],
          "surface": [
           {
            "colorbar": {
             "outlinewidth": 0,
             "ticks": ""
            },
            "colorscale": [
             [
              0,
              "#0d0887"
             ],
             [
              0.1111111111111111,
              "#46039f"
             ],
             [
              0.2222222222222222,
              "#7201a8"
             ],
             [
              0.3333333333333333,
              "#9c179e"
             ],
             [
              0.4444444444444444,
              "#bd3786"
             ],
             [
              0.5555555555555556,
              "#d8576b"
             ],
             [
              0.6666666666666666,
              "#ed7953"
             ],
             [
              0.7777777777777778,
              "#fb9f3a"
             ],
             [
              0.8888888888888888,
              "#fdca26"
             ],
             [
              1,
              "#f0f921"
             ]
            ],
            "type": "surface"
           }
          ],
          "table": [
           {
            "cells": {
             "fill": {
              "color": "#EBF0F8"
             },
             "line": {
              "color": "white"
             }
            },
            "header": {
             "fill": {
              "color": "#C8D4E3"
             },
             "line": {
              "color": "white"
             }
            },
            "type": "table"
           }
          ]
         },
         "layout": {
          "annotationdefaults": {
           "arrowcolor": "#2a3f5f",
           "arrowhead": 0,
           "arrowwidth": 1
          },
          "autotypenumbers": "strict",
          "coloraxis": {
           "colorbar": {
            "outlinewidth": 0,
            "ticks": ""
           }
          },
          "colorscale": {
           "diverging": [
            [
             0,
             "#8e0152"
            ],
            [
             0.1,
             "#c51b7d"
            ],
            [
             0.2,
             "#de77ae"
            ],
            [
             0.3,
             "#f1b6da"
            ],
            [
             0.4,
             "#fde0ef"
            ],
            [
             0.5,
             "#f7f7f7"
            ],
            [
             0.6,
             "#e6f5d0"
            ],
            [
             0.7,
             "#b8e186"
            ],
            [
             0.8,
             "#7fbc41"
            ],
            [
             0.9,
             "#4d9221"
            ],
            [
             1,
             "#276419"
            ]
           ],
           "sequential": [
            [
             0,
             "#0d0887"
            ],
            [
             0.1111111111111111,
             "#46039f"
            ],
            [
             0.2222222222222222,
             "#7201a8"
            ],
            [
             0.3333333333333333,
             "#9c179e"
            ],
            [
             0.4444444444444444,
             "#bd3786"
            ],
            [
             0.5555555555555556,
             "#d8576b"
            ],
            [
             0.6666666666666666,
             "#ed7953"
            ],
            [
             0.7777777777777778,
             "#fb9f3a"
            ],
            [
             0.8888888888888888,
             "#fdca26"
            ],
            [
             1,
             "#f0f921"
            ]
           ],
           "sequentialminus": [
            [
             0,
             "#0d0887"
            ],
            [
             0.1111111111111111,
             "#46039f"
            ],
            [
             0.2222222222222222,
             "#7201a8"
            ],
            [
             0.3333333333333333,
             "#9c179e"
            ],
            [
             0.4444444444444444,
             "#bd3786"
            ],
            [
             0.5555555555555556,
             "#d8576b"
            ],
            [
             0.6666666666666666,
             "#ed7953"
            ],
            [
             0.7777777777777778,
             "#fb9f3a"
            ],
            [
             0.8888888888888888,
             "#fdca26"
            ],
            [
             1,
             "#f0f921"
            ]
           ]
          },
          "colorway": [
           "#636efa",
           "#EF553B",
           "#00cc96",
           "#ab63fa",
           "#FFA15A",
           "#19d3f3",
           "#FF6692",
           "#B6E880",
           "#FF97FF",
           "#FECB52"
          ],
          "font": {
           "color": "#2a3f5f"
          },
          "geo": {
           "bgcolor": "white",
           "lakecolor": "white",
           "landcolor": "#E5ECF6",
           "showlakes": true,
           "showland": true,
           "subunitcolor": "white"
          },
          "hoverlabel": {
           "align": "left"
          },
          "hovermode": "closest",
          "mapbox": {
           "style": "light"
          },
          "paper_bgcolor": "white",
          "plot_bgcolor": "#E5ECF6",
          "polar": {
           "angularaxis": {
            "gridcolor": "white",
            "linecolor": "white",
            "ticks": ""
           },
           "bgcolor": "#E5ECF6",
           "radialaxis": {
            "gridcolor": "white",
            "linecolor": "white",
            "ticks": ""
           }
          },
          "scene": {
           "xaxis": {
            "backgroundcolor": "#E5ECF6",
            "gridcolor": "white",
            "gridwidth": 2,
            "linecolor": "white",
            "showbackground": true,
            "ticks": "",
            "zerolinecolor": "white"
           },
           "yaxis": {
            "backgroundcolor": "#E5ECF6",
            "gridcolor": "white",
            "gridwidth": 2,
            "linecolor": "white",
            "showbackground": true,
            "ticks": "",
            "zerolinecolor": "white"
           },
           "zaxis": {
            "backgroundcolor": "#E5ECF6",
            "gridcolor": "white",
            "gridwidth": 2,
            "linecolor": "white",
            "showbackground": true,
            "ticks": "",
            "zerolinecolor": "white"
           }
          },
          "shapedefaults": {
           "line": {
            "color": "#2a3f5f"
           }
          },
          "ternary": {
           "aaxis": {
            "gridcolor": "white",
            "linecolor": "white",
            "ticks": ""
           },
           "baxis": {
            "gridcolor": "white",
            "linecolor": "white",
            "ticks": ""
           },
           "bgcolor": "#E5ECF6",
           "caxis": {
            "gridcolor": "white",
            "linecolor": "white",
            "ticks": ""
           }
          },
          "title": {
           "x": 0.05
          },
          "xaxis": {
           "automargin": true,
           "gridcolor": "white",
           "linecolor": "white",
           "ticks": "",
           "title": {
            "standoff": 15
           },
           "zerolinecolor": "white",
           "zerolinewidth": 2
          },
          "yaxis": {
           "automargin": true,
           "gridcolor": "white",
           "linecolor": "white",
           "ticks": "",
           "title": {
            "standoff": 15
           },
           "zerolinecolor": "white",
           "zerolinewidth": 2
          }
         }
        },
        "title": {
         "text": "Customer Review Clusters using Word2Vec Word Vector"
        },
        "width": 1000,
        "xaxis": {
         "anchor": "y",
         "autorange": true,
         "domain": [
          0,
          1
         ],
         "range": [
          -0.12367873135738969,
          0.14111697170668244
         ],
         "type": "linear"
        },
        "xaxis2": {
         "anchor": "y2",
         "autorange": true,
         "domain": [
          0,
          1
         ],
         "range": [
          -0.031077428066018747,
          0.05021354583728664
         ],
         "type": "linear"
        },
        "yaxis": {
         "anchor": "x",
         "autorange": true,
         "domain": [
          0.625,
          1
         ],
         "range": [
          -0.1280740023517919,
          0.10117194512131931
         ],
         "type": "linear"
        },
        "yaxis2": {
         "anchor": "x2",
         "autorange": true,
         "domain": [
          0,
          0.375
         ],
         "range": [
          -0.044171846682919,
          0.036010316784275506
         ],
         "type": "linear"
        }
       }
      },
      "image/png": "[encoded data removed]",
      "text/html": [
       "<div>                            <div id=\"a3aab7e8-dbdc-4901-8cff-5cba7a5646ba\" class=\"plotly-graph-div\" style=\"height:800px; width:1000px;\"></div>            <script type=\"text/javascript\">                require([\"plotly\"], function(Plotly) {                    window.PLOTLYENV=window.PLOTLYENV || {};                                    if (document.getElementById(\"a3aab7e8-dbdc-4901-8cff-5cba7a5646ba\")) {                    Plotly.newPlot(                        \"a3aab7e8-dbdc-4901-8cff-5cba7a5646ba\",                        [{\"customdata\":[[\"the summit at just over 10k feet makes you work for your hikes, especially the climb back out of the crater!  \",\"'Challenging hike'\"],[\"was a cool place, almost had hypothermia from the bad weather though so be super prepared!\",\"'Challenging hike'\"],[\"ultra rad! wickedly mystic spot!\",\"'Challenging hike'\"],[\"the bamboo forest was dark as you make your way through to some incredible waterfall views.\",\"'Challenging hike'\"],[\"it was a moderate hike during the wet months as it was fairly slippery for 3.7 miles roundtrip, but totally doable.\",\"'Challenging hike'\"],[\"it's a beautiful place, has couple of trails which starts from here.\",\"'Challenging hike'\"]],\"hovertemplate\":\"label=%{customdata[1]}\\u003cbr\\u003eclean_text=%{customdata[0]}\\u003cextra\\u003e\\u003c\\u002fextra\\u003e\",\"legendgroup\":\"1\",\"marker\":{\"color\":\"rgb(228,26,28)\",\"symbol\":\"circle\"},\"mode\":\"markers\",\"name\":\"'Challenging hike'\",\"orientation\":\"v\",\"showlegend\":true,\"x\":[0.0877024456858635,0.08455632627010345,0.04590539634227753,0.05255025997757912,0.029607614502310753,0.043929290026426315],\"xaxis\":\"x\",\"y\":[-0.016049589961767197,-0.03911448270082474,0.030583128333091736,-0.045912813395261765,0.019658738747239113,0.004456148017197847],\"yaxis\":\"y\",\"type\":\"scatter\"},{\"customdata\":[[\"the national park includes an extinct volcano on a tropical island and is one of the most stunning parks in the whole of the us.\",\"'National park experience'\"],[\"i did the sunset and star gazing your on halloween with a full moon!\",\"'National park experience'\"]],\"hovertemplate\":\"label=%{customdata[1]}\\u003cbr\\u003eclean_text=%{customdata[0]}\\u003cextra\\u003e\\u003c\\u002fextra\\u003e\",\"legendgroup\":\"1\",\"marker\":{\"color\":\"rgb(55,126,184)\",\"symbol\":\"circle\"},\"mode\":\"markers\",\"name\":\"'National park experience'\",\"orientation\":\"v\",\"showlegend\":true,\"x\":[-0.06728468835353851,-0.059286635369062424],\"xaxis\":\"x\",\"y\":[0.005646330304443836,-0.016421157866716385],\"yaxis\":\"y\",\"type\":\"scatter\"},{\"customdata\":[[\"the summit can be easily reached by car, so that everyone can enjoy the views from the peaks, which usually involve being higher than the clouds and can include the whole island and beyond without.\",\"Panoramic views\"],[\"great and awesome amazing experience that only a frew in the world have been.. a must have on your bucket list.....\",\"Panoramic views\"],[\"we did the sunrise and then the bike ride down the mountain very fun and also challenging\",\"Panoramic views\"]],\"hovertemplate\":\"label=%{customdata[1]}\\u003cbr\\u003eclean_text=%{customdata[0]}\\u003cextra\\u003e\\u003c\\u002fextra\\u003e\",\"legendgroup\":\"1\",\"marker\":{\"color\":\"rgb(77,175,74)\",\"symbol\":\"circle\"},\"mode\":\"markers\",\"name\":\"Panoramic views\",\"orientation\":\"v\",\"showlegend\":true,\"x\":[-0.036044295877218246,-0.021759988740086555,-0.10140515118837357],\"xaxis\":\"x\",\"y\":[-0.011627561412751675,-0.005424813367426395,0.0063671632669866085],\"yaxis\":\"y\",\"type\":\"scatter\"},{\"customdata\":[[\"if there are a very small group of you with two cars, one-way trips from top to bottom or bottom to top may be more enjoyable.\",\"'Panoramic experience'\"],[\"there are several lookout points on your way up to the crater which are great and offer amazing views!\",\"'Panoramic experience'\"],[\"a great place to change your outlook on life.\",\"'Panoramic experience'\"]],\"hovertemplate\":\"label=%{customdata[1]}\\u003cbr\\u003eclean_text=%{customdata[0]}\\u003cextra\\u003e\\u003c\\u002fextra\\u003e\",\"legendgroup\":\"1\",\"marker\":{\"color\":\"rgb(152,78,163)\",\"symbol\":\"circle\"},\"mode\":\"markers\",\"name\":\"'Panoramic experience'\",\"orientation\":\"v\",\"showlegend\":true,\"x\":[0.12639953196048737,0.037737395614385605,0.0885104238986969],\"xaxis\":\"x\",\"y\":[-0.03572273254394531,-0.015441742725670338,-0.05484485253691673],\"yaxis\":\"y\",\"type\":\"scatter\"},{\"customdata\":[[\"i highly recommend a visit for sunrise or sunset, too.\",\"'Sunrise\\u002fsunset view'\"],[\"i think the sunsets are prettier, and you'll see more variation of colours; but there's something wonderful about seeing the sunrise from the summit before tackling a day-long hike!  \",\"'Sunrise\\u002fsunset view'\"]],\"hovertemplate\":\"label=%{customdata[1]}\\u003cbr\\u003eclean_text=%{customdata[0]}\\u003cextra\\u003e\\u003c\\u002fextra\\u003e\",\"legendgroup\":\"1\",\"marker\":{\"color\":\"rgb(255,127,0)\",\"symbol\":\"circle\"},\"mode\":\"markers\",\"name\":\"'Sunrise\\u002fsunset view'\",\"orientation\":\"v\",\"showlegend\":true,\"x\":[-0.014182692393660545,-0.0049614086747169495],\"xaxis\":\"x\",\"y\":[-0.044518813490867615,-0.008449045941233635],\"yaxis\":\"y\",\"type\":\"scatter\"},{\"customdata\":[[\"we got clouds on our sunrise reservation but the pure quiet and seeing how small we all are is truly breathtaking.\",\"'Beautiful sunrise view'\"],[\"it has astonishing views, the driving up the mountain was a little long, but amusing for my kids, also entertaining and great view all the way.\",\"'Beautiful sunrise view'\"],[\"must visit place  stunning sunrise , and be advised to dress very warm.\",\"'Beautiful sunrise view'\"],[\"breathtaking experiences the sunset and sunrise make sure you dress appropriately very very warm clothes\",\"'Beautiful sunrise view'\"],[\" to watch the sunrise, blankets are a must... even when the sun rises, you can still see the wonderful scenery.\",\"'Beautiful sunrise view'\"]],\"hovertemplate\":\"label=%{customdata[1]}\\u003cbr\\u003eclean_text=%{customdata[0]}\\u003cextra\\u003e\\u003c\\u002fextra\\u003e\",\"legendgroup\":\"1\",\"marker\":{\"color\":\"rgb(255,255,51)\",\"symbol\":\"circle\"},\"mode\":\"markers\",\"name\":\"'Beautiful sunrise view'\",\"orientation\":\"v\",\"showlegend\":true,\"x\":[-0.030205227434635162,-0.06795760244131088,-0.10896129161119461,-0.04171068221330643,-0.08074464648962021],\"xaxis\":\"x\",\"y\":[-0.0013908896362408996,0.032923828810453415,0.009548182599246502,-0.0052377209067344666,0.018356241285800934],\"yaxis\":\"y\",\"type\":\"scatter\"},{\"customdata\":[[\"words cannot describe just how amazing our creator made such a lovely place...\",\"'Natural beauty'\"],[\"it's a good change of scenery from your maui beaches.\",\"'Natural beauty'\"],[\"beautiful drive up the mountain through many distinct environments.\",\"'Natural beauty'\"],[\"the drive up was long for us, but because we took our time to enjoy the changing sceneries.  highly recommended.\",\"'Natural beauty'\"],[\"crazy cool volcano to visit when you're in maui.\",\"'Natural beauty'\"],[\"but about the scared mountain its beautiful..if going be respectful also no taking rocks or sand\",\"'Natural beauty'\"],[\"beautiful volcano....looks like you're on mars....\",\"'Natural beauty'\"],[\"amazing views of a dormant super volcano sitting above the clouds!\",\"'Natural beauty'\"]],\"hovertemplate\":\"label=%{customdata[1]}\\u003cbr\\u003eclean_text=%{customdata[0]}\\u003cextra\\u003e\\u003c\\u002fextra\\u003e\",\"legendgroup\":\"1\",\"marker\":{\"color\":\"rgb(166,86,40)\",\"symbol\":\"circle\"},\"mode\":\"markers\",\"name\":\"'Natural beauty'\",\"orientation\":\"v\",\"showlegend\":true,\"x\":[0.004374273587018251,0.014317786321043968,-0.05207055062055588,-0.00403111707419157,0.02748396247625351,-0.01793869398534298,0.032723572105169296,-0.005879553034901619],\"xaxis\":\"x\",\"y\":[-0.0513392873108387,-0.09515860676765442,0.016701331362128258,-0.03588522970676422,-0.08443022519350052,-0.0030197068117558956,-0.11291418969631195,-0.035689353942871094],\"yaxis\":\"y\",\"type\":\"scatter\"},{\"customdata\":[[\"we entered on road to hana to access the pipiwai trail (best hike to see amazing waterfalls and bamboo forests).\",\"'Outdoor activities'\"],[\"also folks bicycle to the top, this is considered as one of the greatest bike climbs in the world.\",\"'Outdoor activities'\"],[\" i don\\u2019t hesitate to pick the best place in hawaii haley color is picked.\",\"'Outdoor activities'\"]],\"hovertemplate\":\"label=%{customdata[1]}\\u003cbr\\u003eclean_text=%{customdata[0]}\\u003cextra\\u003e\\u003c\\u002fextra\\u003e\",\"legendgroup\":\"1\",\"marker\":{\"color\":\"rgb(247,129,191)\",\"symbol\":\"circle\"},\"mode\":\"markers\",\"name\":\"'Outdoor activities'\",\"orientation\":\"v\",\"showlegend\":true,\"x\":[0.014723780564963818,0.035823918879032135,0.05305780842900276],\"xaxis\":\"x\",\"y\":[0.012129934504628181,0.0034757747780531645,0.031042039394378662],\"yaxis\":\"y\",\"type\":\"scatter\"},{\"customdata\":[[\"got up at 3 and reached 10,000 feet above the sea to witness the most beautiful sunrise with clouds as audience.\",\"'Sunrise hike'\"],[\"the sunset is beautiful, but be sure to wear warm clothes because the temperature drops once the sun starts setting.\",\"'Sunrise hike'\"],[\"the hike was amazing, but the kids weren't quite up to going 11 miles.\",\"'Sunrise hike'\"],[\"best place to watch the sunrise,  pack warm!\",\"'Sunrise hike'\"]],\"hovertemplate\":\"label=%{customdata[1]}\\u003cbr\\u003eclean_text=%{customdata[0]}\\u003cextra\\u003e\\u003c\\u002fextra\\u003e\",\"legendgroup\":\"1\",\"marker\":{\"color\":\"rgb(153,153,153)\",\"symbol\":\"circle\"},\"mode\":\"markers\",\"name\":\"'Sunrise hike'\",\"orientation\":\"v\",\"showlegend\":true,\"x\":[-0.0015260030049830675,-0.00574507936835289,-0.013523545116186142,0.0008424707339145243],\"xaxis\":\"x\",\"y\":[0.026680322363972664,0.044584497809410095,0.030989665538072586,0.04129880294203758],\"yaxis\":\"y\",\"type\":\"scatter\"},{\"customdata\":[[\"you don't want to miss this day trip while on the island.\",\"'Scenic summit view'\"],[\"beautiful drive with amazing scene of the coastline, roaming cattle, and tasty fruit stands.\",\"'Scenic summit view'\"],[\"we arrived at the summit when it was sunny, so the wind was not high, and the temperature was cool - not cold as we thought.\",\"'Scenic summit view'\"],[\"long drive up the mountain but well worth the trip.\",\"'Scenic summit view'\"],[\"it is a long winding drive to the summit, but it is really worth it.\",\"'Scenic summit view'\"]],\"hovertemplate\":\"label=%{customdata[1]}\\u003cbr\\u003eclean_text=%{customdata[0]}\\u003cextra\\u003e\\u003c\\u002fextra\\u003e\",\"legendgroup\":\"1\",\"marker\":{\"color\":\"rgb(228,26,28)\",\"symbol\":\"circle\"},\"mode\":\"markers\",\"name\":\"'Scenic summit view'\",\"orientation\":\"v\",\"showlegend\":true,\"x\":[-0.02224782109260559,-0.026232140138745308,-0.015048285946249962,0.025298625230789185,0.013119707815349102],\"xaxis\":\"x\",\"y\":[0.03961490839719772,0.05423291400074959,0.02900857664644718,0.03535644710063934,0.05966155230998993],\"yaxis\":\"y\",\"type\":\"scatter\"},{\"customdata\":[[\"never changes , great park lot warmer than the last time we were there.\",\"'Park facilities'\"],[\"i felt like my car was safe parked at the national park parking lot and the restrooms were pristine and fully stocked.\",\"'Park facilities'\"]],\"hovertemplate\":\"label=%{customdata[1]}\\u003cbr\\u003eclean_text=%{customdata[0]}\\u003cextra\\u003e\\u003c\\u002fextra\\u003e\",\"legendgroup\":\"1\",\"marker\":{\"color\":\"rgb(55,126,184)\",\"symbol\":\"circle\"},\"mode\":\"markers\",\"name\":\"'Park facilities'\",\"orientation\":\"v\",\"showlegend\":true,\"x\":[0.007629787549376488,-0.007854078896343708],\"xaxis\":\"x\",\"y\":[0.05624084174633026,0.021814892068505287],\"yaxis\":\"y\",\"type\":\"scatter\"},{\"customdata\":[[\"the road was a little scary but so worth getting to the top.\",\"'Challenging drive'\"],[\"great visit but compared to other national parks, there isn't as much to see or do here\",\"'Challenging drive'\"],[\"the drive up is a little scary, but totally worth the effort.\",\"'Challenging drive'\"]],\"hovertemplate\":\"label=%{customdata[1]}\\u003cbr\\u003eclean_text=%{customdata[0]}\\u003cextra\\u003e\\u003c\\u002fextra\\u003e\",\"legendgroup\":\"1\",\"marker\":{\"color\":\"rgb(77,175,74)\",\"symbol\":\"circle\"},\"mode\":\"markers\",\"name\":\"'Challenging drive'\",\"orientation\":\"v\",\"showlegend\":true,\"x\":[0.0990702286362648,0.05625535175204277,0.11120998114347458],\"xaxis\":\"x\",\"y\":[0.08601213246583939,0.017357544973492622,0.08229570090770721],\"yaxis\":\"y\",\"type\":\"scatter\"},{\"customdata\":[[\"i recommend this place, especially for sundown and most of all, sunrises here are amazing!!!\",\"'Sunset recommendation'\"],[\"majestic views which ordinarily could only be seen through an airplane's windows - so  wonderful.  \",\"'Sunset recommendation'\"],[\"i highly recommend reserving a spot to watch sunrise.\",\"'Sunset recommendation'\"],[\"an amazing sight to see, i would highly highly recommend visiting.\",\"'Sunset recommendation'\"]],\"hovertemplate\":\"label=%{customdata[1]}\\u003cbr\\u003eclean_text=%{customdata[0]}\\u003cextra\\u003e\\u003c\\u002fextra\\u003e\",\"legendgroup\":\"1\",\"marker\":{\"color\":\"rgb(152,78,163)\",\"symbol\":\"circle\"},\"mode\":\"markers\",\"name\":\"'Sunset recommendation'\",\"orientation\":\"v\",\"showlegend\":true,\"x\":[-0.06692146509885788,-0.0704435482621193,-0.03205772489309311,-0.04357968643307686],\"xaxis\":\"x\",\"y\":[-0.05503343045711517,-0.05299133062362671,-0.02090161107480526,-0.0299995020031929],\"yaxis\":\"y\",\"type\":\"scatter\"},{\"customdata\":[[\"the veiw is breath taking, calm and peacful.\",\"'Scenic Trails'\"],[\"great hike to falls trail was muddy and can be very challenging at times.\",\"'Scenic Trails'\"]],\"hovertemplate\":\"label=%{customdata[1]}\\u003cbr\\u003eclean_text=%{customdata[0]}\\u003cextra\\u003e\\u003c\\u002fextra\\u003e\",\"legendgroup\":\"1\",\"marker\":{\"color\":\"rgb(255,127,0)\",\"symbol\":\"circle\"},\"mode\":\"markers\",\"name\":\"'Scenic Trails'\",\"orientation\":\"v\",\"showlegend\":true,\"x\":[-0.03150558099150658,-0.041720688343048096],\"xaxis\":\"x\",\"y\":[0.03538033738732338,0.026100797578692436],\"yaxis\":\"y\",\"type\":\"scatter\"},{\"customdata\":[[\"book ahead, sold out in 23 minutes my first attempt (lost my spot while preparing my account).\",\"'Must-see attraction'\"],[\"we even had my 73 year old mother on the hike, with little assistance.\",\"'Must-see attraction'\"],[\"the tickets that cost bucks to get sell out in 90 seconds every day.\",\"'Must-see attraction'\"]],\"hovertemplate\":\"label=%{customdata[1]}\\u003cbr\\u003eclean_text=%{customdata[0]}\\u003cextra\\u003e\\u003c\\u002fextra\\u003e\",\"legendgroup\":\"2\",\"marker\":{\"color\":\"rgb(228,26,28)\",\"symbol\":\"circle\"},\"mode\":\"markers\",\"name\":\"'Must-see attraction'\",\"orientation\":\"v\",\"showlegend\":true,\"x\":[0.029006073251366615,0.0012043907772749662,0.045695364475250244],\"xaxis\":\"x2\",\"y\":[-0.038869477808475494,0.030707947909832,0.017919834703207016],\"yaxis\":\"y2\",\"type\":\"scatter\"},{\"customdata\":[[\"you don't want to drive all the way up there and be socked in with clouds.  \",\"'Scenic view'\"],[\"it's windy and the cold blows right through to your bones\",\"'Scenic view'\"],[\"silver sword....looks like it was spray painted....dont touch...\",\"'Scenic view'\"]],\"hovertemplate\":\"label=%{customdata[1]}\\u003cbr\\u003eclean_text=%{customdata[0]}\\u003cextra\\u003e\\u003c\\u002fextra\\u003e\",\"legendgroup\":\"2\",\"marker\":{\"color\":\"rgb(55,126,184)\",\"symbol\":\"circle\"},\"mode\":\"markers\",\"name\":\"'Scenic view'\",\"orientation\":\"v\",\"showlegend\":true,\"x\":[-0.024179112166166306,-0.026559246703982353,-0.02516750805079937],\"xaxis\":\"x2\",\"y\":[0.008542942814528942,-0.012629584409296513,-0.005671697203069925],\"yaxis\":\"y2\",\"type\":\"scatter\"}],                        {\"template\":{\"data\":{\"histogram2dcontour\":[{\"type\":\"histogram2dcontour\",\"colorbar\":{\"outlinewidth\":0,\"ticks\":\"\"},\"colorscale\":[[0.0,\"#0d0887\"],[0.1111111111111111,\"#46039f\"],[0.2222222222222222,\"#7201a8\"],[0.3333333333333333,\"#9c179e\"],[0.4444444444444444,\"#bd3786\"],[0.5555555555555556,\"#d8576b\"],[0.6666666666666666,\"#ed7953\"],[0.7777777777777778,\"#fb9f3a\"],[0.8888888888888888,\"#fdca26\"],[1.0,\"#f0f921\"]]}],\"choropleth\":[{\"type\":\"choropleth\",\"colorbar\":{\"outlinewidth\":0,\"ticks\":\"\"}}],\"histogram2d\":[{\"type\":\"histogram2d\",\"colorbar\":{\"outlinewidth\":0,\"ticks\":\"\"},\"colorscale\":[[0.0,\"#0d0887\"],[0.1111111111111111,\"#46039f\"],[0.2222222222222222,\"#7201a8\"],[0.3333333333333333,\"#9c179e\"],[0.4444444444444444,\"#bd3786\"],[0.5555555555555556,\"#d8576b\"],[0.6666666666666666,\"#ed7953\"],[0.7777777777777778,\"#fb9f3a\"],[0.8888888888888888,\"#fdca26\"],[1.0,\"#f0f921\"]]}],\"heatmap\":[{\"type\":\"heatmap\",\"colorbar\":{\"outlinewidth\":0,\"ticks\":\"\"},\"colorscale\":[[0.0,\"#0d0887\"],[0.1111111111111111,\"#46039f\"],[0.2222222222222222,\"#7201a8\"],[0.3333333333333333,\"#9c179e\"],[0.4444444444444444,\"#bd3786\"],[0.5555555555555556,\"#d8576b\"],[0.6666666666666666,\"#ed7953\"],[0.7777777777777778,\"#fb9f3a\"],[0.8888888888888888,\"#fdca26\"],[1.0,\"#f0f921\"]]}],\"heatmapgl\":[{\"type\":\"heatmapgl\",\"colorbar\":{\"outlinewidth\":0,\"ticks\":\"\"},\"colorscale\":[[0.0,\"#0d0887\"],[0.1111111111111111,\"#46039f\"],[0.2222222222222222,\"#7201a8\"],[0.3333333333333333,\"#9c179e\"],[0.4444444444444444,\"#bd3786\"],[0.5555555555555556,\"#d8576b\"],[0.6666666666666666,\"#ed7953\"],[0.7777777777777778,\"#fb9f3a\"],[0.8888888888888888,\"#fdca26\"],[1.0,\"#f0f921\"]]}],\"contourcarpet\":[{\"type\":\"contourcarpet\",\"colorbar\":{\"outlinewidth\":0,\"ticks\":\"\"}}],\"contour\":[{\"type\":\"contour\",\"colorbar\":{\"outlinewidth\":0,\"ticks\":\"\"},\"colorscale\":[[0.0,\"#0d0887\"],[0.1111111111111111,\"#46039f\"],[0.2222222222222222,\"#7201a8\"],[0.3333333333333333,\"#9c179e\"],[0.4444444444444444,\"#bd3786\"],[0.5555555555555556,\"#d8576b\"],[0.6666666666666666,\"#ed7953\"],[0.7777777777777778,\"#fb9f3a\"],[0.8888888888888888,\"#fdca26\"],[1.0,\"#f0f921\"]]}],\"surface\":[{\"type\":\"surface\",\"colorbar\":{\"outlinewidth\":0,\"ticks\":\"\"},\"colorscale\":[[0.0,\"#0d0887\"],[0.1111111111111111,\"#46039f\"],[0.2222222222222222,\"#7201a8\"],[0.3333333333333333,\"#9c179e\"],[0.4444444444444444,\"#bd3786\"],[0.5555555555555556,\"#d8576b\"],[0.6666666666666666,\"#ed7953\"],[0.7777777777777778,\"#fb9f3a\"],[0.8888888888888888,\"#fdca26\"],[1.0,\"#f0f921\"]]}],\"mesh3d\":[{\"type\":\"mesh3d\",\"colorbar\":{\"outlinewidth\":0,\"ticks\":\"\"}}],\"scatter\":[{\"fillpattern\":{\"fillmode\":\"overlay\",\"size\":10,\"solidity\":0.2},\"type\":\"scatter\"}],\"parcoords\":[{\"type\":\"parcoords\",\"line\":{\"colorbar\":{\"outlinewidth\":0,\"ticks\":\"\"}}}],\"scatterpolargl\":[{\"type\":\"scatterpolargl\",\"marker\":{\"colorbar\":{\"outlinewidth\":0,\"ticks\":\"\"}}}],\"bar\":[{\"error_x\":{\"color\":\"#2a3f5f\"},\"error_y\":{\"color\":\"#2a3f5f\"},\"marker\":{\"line\":{\"color\":\"#E5ECF6\",\"width\":0.5},\"pattern\":{\"fillmode\":\"overlay\",\"size\":10,\"solidity\":0.2}},\"type\":\"bar\"}],\"scattergeo\":[{\"type\":\"scattergeo\",\"marker\":{\"colorbar\":{\"outlinewidth\":0,\"ticks\":\"\"}}}],\"scatterpolar\":[{\"type\":\"scatterpolar\",\"marker\":{\"colorbar\":{\"outlinewidth\":0,\"ticks\":\"\"}}}],\"histogram\":[{\"marker\":{\"pattern\":{\"fillmode\":\"overlay\",\"size\":10,\"solidity\":0.2}},\"type\":\"histogram\"}],\"scattergl\":[{\"type\":\"scattergl\",\"marker\":{\"colorbar\":{\"outlinewidth\":0,\"ticks\":\"\"}}}],\"scatter3d\":[{\"type\":\"scatter3d\",\"line\":{\"colorbar\":{\"outlinewidth\":0,\"ticks\":\"\"}},\"marker\":{\"colorbar\":{\"outlinewidth\":0,\"ticks\":\"\"}}}],\"scattermapbox\":[{\"type\":\"scattermapbox\",\"marker\":{\"colorbar\":{\"outlinewidth\":0,\"ticks\":\"\"}}}],\"scatterternary\":[{\"type\":\"scatterternary\",\"marker\":{\"colorbar\":{\"outlinewidth\":0,\"ticks\":\"\"}}}],\"scattercarpet\":[{\"type\":\"scattercarpet\",\"marker\":{\"colorbar\":{\"outlinewidth\":0,\"ticks\":\"\"}}}],\"carpet\":[{\"aaxis\":{\"endlinecolor\":\"#2a3f5f\",\"gridcolor\":\"white\",\"linecolor\":\"white\",\"minorgridcolor\":\"white\",\"startlinecolor\":\"#2a3f5f\"},\"baxis\":{\"endlinecolor\":\"#2a3f5f\",\"gridcolor\":\"white\",\"linecolor\":\"white\",\"minorgridcolor\":\"white\",\"startlinecolor\":\"#2a3f5f\"},\"type\":\"carpet\"}],\"table\":[{\"cells\":{\"fill\":{\"color\":\"#EBF0F8\"},\"line\":{\"color\":\"white\"}},\"header\":{\"fill\":{\"color\":\"#C8D4E3\"},\"line\":{\"color\":\"white\"}},\"type\":\"table\"}],\"barpolar\":[{\"marker\":{\"line\":{\"color\":\"#E5ECF6\",\"width\":0.5},\"pattern\":{\"fillmode\":\"overlay\",\"size\":10,\"solidity\":0.2}},\"type\":\"barpolar\"}],\"pie\":[{\"automargin\":true,\"type\":\"pie\"}]},\"layout\":{\"autotypenumbers\":\"strict\",\"colorway\":[\"#636efa\",\"#EF553B\",\"#00cc96\",\"#ab63fa\",\"#FFA15A\",\"#19d3f3\",\"#FF6692\",\"#B6E880\",\"#FF97FF\",\"#FECB52\"],\"font\":{\"color\":\"#2a3f5f\"},\"hovermode\":\"closest\",\"hoverlabel\":{\"align\":\"left\"},\"paper_bgcolor\":\"white\",\"plot_bgcolor\":\"#E5ECF6\",\"polar\":{\"bgcolor\":\"#E5ECF6\",\"angularaxis\":{\"gridcolor\":\"white\",\"linecolor\":\"white\",\"ticks\":\"\"},\"radialaxis\":{\"gridcolor\":\"white\",\"linecolor\":\"white\",\"ticks\":\"\"}},\"ternary\":{\"bgcolor\":\"#E5ECF6\",\"aaxis\":{\"gridcolor\":\"white\",\"linecolor\":\"white\",\"ticks\":\"\"},\"baxis\":{\"gridcolor\":\"white\",\"linecolor\":\"white\",\"ticks\":\"\"},\"caxis\":{\"gridcolor\":\"white\",\"linecolor\":\"white\",\"ticks\":\"\"}},\"coloraxis\":{\"colorbar\":{\"outlinewidth\":0,\"ticks\":\"\"}},\"colorscale\":{\"sequential\":[[0.0,\"#0d0887\"],[0.1111111111111111,\"#46039f\"],[0.2222222222222222,\"#7201a8\"],[0.3333333333333333,\"#9c179e\"],[0.4444444444444444,\"#bd3786\"],[0.5555555555555556,\"#d8576b\"],[0.6666666666666666,\"#ed7953\"],[0.7777777777777778,\"#fb9f3a\"],[0.8888888888888888,\"#fdca26\"],[1.0,\"#f0f921\"]],\"sequentialminus\":[[0.0,\"#0d0887\"],[0.1111111111111111,\"#46039f\"],[0.2222222222222222,\"#7201a8\"],[0.3333333333333333,\"#9c179e\"],[0.4444444444444444,\"#bd3786\"],[0.5555555555555556,\"#d8576b\"],[0.6666666666666666,\"#ed7953\"],[0.7777777777777778,\"#fb9f3a\"],[0.8888888888888888,\"#fdca26\"],[1.0,\"#f0f921\"]],\"diverging\":[[0,\"#8e0152\"],[0.1,\"#c51b7d\"],[0.2,\"#de77ae\"],[0.3,\"#f1b6da\"],[0.4,\"#fde0ef\"],[0.5,\"#f7f7f7\"],[0.6,\"#e6f5d0\"],[0.7,\"#b8e186\"],[0.8,\"#7fbc41\"],[0.9,\"#4d9221\"],[1,\"#276419\"]]},\"xaxis\":{\"gridcolor\":\"white\",\"linecolor\":\"white\",\"ticks\":\"\",\"title\":{\"standoff\":15},\"zerolinecolor\":\"white\",\"automargin\":true,\"zerolinewidth\":2},\"yaxis\":{\"gridcolor\":\"white\",\"linecolor\":\"white\",\"ticks\":\"\",\"title\":{\"standoff\":15},\"zerolinecolor\":\"white\",\"automargin\":true,\"zerolinewidth\":2},\"scene\":{\"xaxis\":{\"backgroundcolor\":\"#E5ECF6\",\"gridcolor\":\"white\",\"linecolor\":\"white\",\"showbackground\":true,\"ticks\":\"\",\"zerolinecolor\":\"white\",\"gridwidth\":2},\"yaxis\":{\"backgroundcolor\":\"#E5ECF6\",\"gridcolor\":\"white\",\"linecolor\":\"white\",\"showbackground\":true,\"ticks\":\"\",\"zerolinecolor\":\"white\",\"gridwidth\":2},\"zaxis\":{\"backgroundcolor\":\"#E5ECF6\",\"gridcolor\":\"white\",\"linecolor\":\"white\",\"showbackground\":true,\"ticks\":\"\",\"zerolinecolor\":\"white\",\"gridwidth\":2}},\"shapedefaults\":{\"line\":{\"color\":\"#2a3f5f\"}},\"annotationdefaults\":{\"arrowcolor\":\"#2a3f5f\",\"arrowhead\":0,\"arrowwidth\":1},\"geo\":{\"bgcolor\":\"white\",\"landcolor\":\"#E5ECF6\",\"subunitcolor\":\"white\",\"showland\":true,\"showlakes\":true,\"lakecolor\":\"white\"},\"title\":{\"x\":0.05},\"mapbox\":{\"style\":\"light\"}}},\"xaxis\":{\"anchor\":\"y\",\"domain\":[0.0,1.0]},\"yaxis\":{\"anchor\":\"x\",\"domain\":[0.625,1.0]},\"xaxis2\":{\"anchor\":\"y2\",\"domain\":[0.0,1.0]},\"yaxis2\":{\"anchor\":\"x2\",\"domain\":[0.0,0.375]},\"annotations\":[{\"font\":{\"size\":16},\"showarrow\":false,\"text\":\"Positive Reviews\",\"x\":0.5,\"xanchor\":\"center\",\"xref\":\"paper\",\"y\":1.0,\"yanchor\":\"bottom\",\"yref\":\"paper\"},{\"font\":{\"size\":16},\"showarrow\":false,\"text\":\"Negative Reviews\",\"x\":0.5,\"xanchor\":\"center\",\"xref\":\"paper\",\"y\":0.375,\"yanchor\":\"bottom\",\"yref\":\"paper\"}],\"legend\":{\"yanchor\":\"top\",\"y\":1.0,\"xanchor\":\"left\",\"x\":1.05,\"tracegroupgap\":150},\"height\":800,\"width\":1000,\"title\":{\"text\":\"Customer Review Clusters using Word2Vec Word Vector\"}},                        {\"responsive\": true}                    ).then(function(){\n",
       "                            \n",
       "var gd = document.getElementById('a3aab7e8-dbdc-4901-8cff-5cba7a5646ba');\n",
       "var x = new MutationObserver(function (mutations, observer) {{\n",
       "        var display = window.getComputedStyle(gd).display;\n",
       "        if (!display || display === 'none') {{\n",
       "            console.log([gd, 'removed!']);\n",
       "            Plotly.purge(gd);\n",
       "            observer.disconnect();\n",
       "        }}\n",
       "}});\n",
       "\n",
       "// Listen for the removal of the full notebook cells\n",
       "var notebookContainer = gd.closest('#notebook-container');\n",
       "if (notebookContainer) {{\n",
       "    x.observe(notebookContainer, {childList: true});\n",
       "}}\n",
       "\n",
       "// Listen for the clearing of the current output cell\n",
       "var outputEl = gd.closest('.output');\n",
       "if (outputEl) {{\n",
       "    x.observe(outputEl, {childList: true});\n",
       "}}\n",
       "\n",
       "                        })                };                });            </script>        </div>"
      ]
     },
     "metadata": {},
     "output_type": "display_data"
    }
   ],
   "source": [
    "# Filter the dataset based on \"business_id\"\n",
    "selected_data = select_dataset(train_dataset, business_id, sentiment_model)\n",
    "print(f\"Business name: {selected_data['business_name'].unique()[0]}\\n\")\n",
    "\n",
    "# Get the word vector from the pretrained transformer model\n",
    "selected_data[\"w2v\"] = w2v_encoder.transform(selected_data[\"clean_text\"])\n",
    "\n",
    "# Initialize evaluation results\n",
    "evaluation = []\n",
    "\n",
    "# Initialize subplots\n",
    "fig = make_subplots(rows=2, cols=1, \n",
    "                    subplot_titles=[\"Positive Reviews\", \"Negative Reviews\"])\n",
    "\n",
    "for i, sentiment in enumerate([\"positive\", \"negative\"], start=1):\n",
    "\n",
    "    # Prepare data for clustering by filtering it based on the sentiment\n",
    "    X = selected_data[selected_data[\"sentiment\"] == sentiment].copy()\n",
    "    X_ = np.vstack(X[\"w2v\"].values)\n",
    "    print(f\"Number of {sentiment} reviews: {len(X)}\")\n",
    "\n",
    "    # Clustering\n",
    "    clust = HDBSCANClustering(apply_dim_reduction=True)\n",
    "    X[\"label\"] = clust.fit_transform(X_)\n",
    "\n",
    "    # Evaluation\n",
    "    evaluation.append(evaluate_cluster(X_, X[\"label\"], sentiment))\n",
    "\n",
    "    # Clusters' topic extraction\n",
    "    cluster_text = get_cluster_centroids(X, \"w2v\", \"label\", n=2)\n",
    "    cluster_label = {}\n",
    "    for key in cluster_text:\n",
    "        cluster_label[key] = name_cluster(\"\\n\".join(cluster_text[key]))\n",
    "    \n",
    "    # Fill label as \"Other\" for reviews considered as noise by HDBSCAN\n",
    "    X[\"label\"] = X[\"label\"].map(cluster_label).fillna(\"Other\")\n",
    "\n",
    "    # Visualization\n",
    "    visualize_cluster(fig, X, \"w2v\", \"label\",\n",
    "                      row=i, sentiment=sentiment, show_outliers=False)\n",
    "\n",
    "    print()\n",
    "\n",
    "fig.update_layout(\n",
    "    height=800,\n",
    "    width=1000,\n",
    "    title=\"Customer Review Clusters using Word2Vec Word Vector\",\n",
    "    legend=dict(\n",
    "        yanchor=\"top\",\n",
    "        y=1.0,\n",
    "        xanchor=\"left\",\n",
    "        x=1.05,\n",
    "        tracegroupgap=150\n",
    "    )\n",
    ")\n",
    "fig.show()"
   ]
  },
  {
   "cell_type": "markdown",
   "id": "VBi0UVMveT8Q",
   "metadata": {
    "id": "VBi0UVMveT8Q"
   },
   "source": [
    "![w2v](https://github.com/fandayp/exploratory_projects/blob/main/img/wv_w2v.png?raw=true)"
   ]
  },
  {
   "cell_type": "code",
   "execution_count": 103,
   "id": "aee6831b-887e-4edb-bfb9-32d66e9e0903",
   "metadata": {
    "executionInfo": {
     "elapsed": 18,
     "status": "aborted",
     "timestamp": 1731969247443,
     "user": {
      "displayName": "",
      "userId": ""
     },
     "user_tz": -420
    },
    "id": "5H3TmWh50Br8",
    "tags": []
   },
   "outputs": [
    {
     "data": {
      "text/html": [
       "<div>\n",
       "<style scoped>\n",
       "    .dataframe tbody tr th:only-of-type {\n",
       "        vertical-align: middle;\n",
       "    }\n",
       "\n",
       "    .dataframe tbody tr th {\n",
       "        vertical-align: top;\n",
       "    }\n",
       "\n",
       "    .dataframe thead th {\n",
       "        text-align: right;\n",
       "    }\n",
       "</style>\n",
       "<table border=\"1\" class=\"dataframe\">\n",
       "  <thead>\n",
       "    <tr style=\"text-align: right;\">\n",
       "      <th></th>\n",
       "      <th>Positive Reviews</th>\n",
       "      <th>Negative Reviews</th>\n",
       "    </tr>\n",
       "  </thead>\n",
       "  <tbody>\n",
       "    <tr>\n",
       "      <th>silhouette_score</th>\n",
       "      <td>0.044464</td>\n",
       "      <td>0.120030</td>\n",
       "    </tr>\n",
       "    <tr>\n",
       "      <th>davies_bouldin_score</th>\n",
       "      <td>1.302124</td>\n",
       "      <td>1.328076</td>\n",
       "    </tr>\n",
       "    <tr>\n",
       "      <th>calinski_harabasz_score</th>\n",
       "      <td>7.526245</td>\n",
       "      <td>4.203363</td>\n",
       "    </tr>\n",
       "  </tbody>\n",
       "</table>\n",
       "</div>"
      ],
      "text/plain": [
       "                         Positive Reviews  Negative Reviews\n",
       "silhouette_score                 0.044464          0.120030\n",
       "davies_bouldin_score             1.302124          1.328076\n",
       "calinski_harabasz_score          7.526245          4.203363"
      ]
     },
     "execution_count": 103,
     "metadata": {},
     "output_type": "execute_result"
    }
   ],
   "source": [
    "# Evaluation\n",
    "w2v_eval = pd.concat(evaluation, axis=1)\n",
    "w2v_eval"
   ]
  },
  {
   "cell_type": "code",
   "execution_count": 104,
   "id": "34792f18-e6be-4bc7-aa54-436deb8efe4a",
   "metadata": {
    "tags": []
   },
   "outputs": [
    {
     "data": {
      "text/html": [
       "<div>\n",
       "<style scoped>\n",
       "    .dataframe tbody tr th:only-of-type {\n",
       "        vertical-align: middle;\n",
       "    }\n",
       "\n",
       "    .dataframe tbody tr th {\n",
       "        vertical-align: top;\n",
       "    }\n",
       "\n",
       "    .dataframe thead th {\n",
       "        text-align: right;\n",
       "    }\n",
       "</style>\n",
       "<table border=\"1\" class=\"dataframe\">\n",
       "  <thead>\n",
       "    <tr style=\"text-align: right;\">\n",
       "      <th></th>\n",
       "      <th>Positive Reviews</th>\n",
       "      <th>Negative Reviews</th>\n",
       "    </tr>\n",
       "  </thead>\n",
       "  <tbody>\n",
       "    <tr>\n",
       "      <th>silhouette_score</th>\n",
       "      <td>0.042847</td>\n",
       "      <td>0.026767</td>\n",
       "    </tr>\n",
       "    <tr>\n",
       "      <th>davies_bouldin_score</th>\n",
       "      <td>2.047620</td>\n",
       "      <td>1.513416</td>\n",
       "    </tr>\n",
       "    <tr>\n",
       "      <th>calinski_harabasz_score</th>\n",
       "      <td>2.201999</td>\n",
       "      <td>1.267612</td>\n",
       "    </tr>\n",
       "  </tbody>\n",
       "</table>\n",
       "</div>"
      ],
      "text/plain": [
       "                         Positive Reviews  Negative Reviews\n",
       "silhouette_score                 0.042847          0.026767\n",
       "davies_bouldin_score             2.047620          1.513416\n",
       "calinski_harabasz_score          2.201999          1.267612"
      ]
     },
     "execution_count": 104,
     "metadata": {},
     "output_type": "execute_result"
    }
   ],
   "source": [
    "tfm_eval"
   ]
  },
  {
   "cell_type": "markdown",
   "id": "5c5c5af6-7a43-4de8-ba7f-1c992f52c3a7",
   "metadata": {},
   "source": [
    "We can see some improvement in the evaluation score. Note that for `davies_bouldin_score`, smaller score is better."
   ]
  },
  {
   "cell_type": "markdown",
   "id": "uM3o4EnNTtfH",
   "metadata": {
    "id": "uM3o4EnNTtfH"
   },
   "source": [
    "# Concatenated Word Vectors\n",
    "\n",
    "---\n",
    "\n"
   ]
  },
  {
   "cell_type": "markdown",
   "id": "Dhw7N0oiWWaJ",
   "metadata": {
    "id": "Dhw7N0oiWWaJ"
   },
   "source": [
    "In this section, we **concatenate** the word vectors from Word2Vec with the one generated by Transformer model. \n",
    "We want to see if this can improve the result."
   ]
  },
  {
   "cell_type": "code",
   "execution_count": 111,
   "id": "KWoiMpgszWV4",
   "metadata": {
    "colab": {
     "base_uri": "https://localhost:8080/",
     "height": 976
    },
    "executionInfo": {
     "elapsed": 14029,
     "status": "ok",
     "timestamp": 1731915528458,
     "user": {
      "displayName": "",
      "userId": ""
     },
     "user_tz": -420
    },
    "id": "KWoiMpgszWV4",
    "outputId": "8090b322-fa87-4094-9fbf-0d098c5b61fa"
   },
   "outputs": [
    {
     "name": "stdout",
     "output_type": "stream",
     "text": [
      "Business name: Haleakalā National Park\n",
      "\n",
      "Number of positive reviews: 69\n",
      "Outliers ratio (positive): 23/69\n",
      "\n",
      "Number of negative reviews: 12\n",
      "Outliers ratio (negative): 2/12\n",
      "\n"
     ]
    },
    {
     "data": {
      "application/vnd.plotly.v1+json": {
       "config": {
        "plotlyServerURL": "https://plot.ly"
       },
       "data": [
        {
         "customdata": [
          [
           "the summit at just over 10k feet makes you work for your hikes, especially the climb back out of the crater!  ",
           "'Hiking trails'"
          ],
          [
           "the hike was amazing, but the kids weren't quite up to going 11 miles.",
           "'Hiking trails'"
          ],
          [
           "it was a moderate hike during the wet months as it was fairly slippery for 3.7 miles roundtrip, but totally doable.",
           "'Hiking trails'"
          ],
          [
           "great hike to falls trail was muddy and can be very challenging at times.",
           "'Hiking trails'"
          ]
         ],
         "hovertemplate": "label=%{customdata[1]}<br>clean_text=%{customdata[0]}<extra></extra>",
         "legendgroup": "1",
         "marker": {
          "color": "rgb(228,26,28)",
          "symbol": "circle"
         },
         "mode": "markers",
         "name": "'Hiking trails'",
         "orientation": "v",
         "showlegend": true,
         "type": "scatter",
         "x": [
          -0.3557300269603729,
          -0.4002929925918579,
          -0.4244156777858734,
          -0.43151578307151794
         ],
         "xaxis": "x",
         "y": [
          -0.10559390485286713,
          -0.05579336732625961,
          -0.24135717749595642,
          -0.12488409876823425
         ],
         "yaxis": "y"
        },
        {
         "customdata": [
          [
           "the national park includes an extinct volcano on a tropical island and is one of the most stunning parks in the whole of the us.",
           "'National park beauty'"
          ],
          [
           "great visit but compared to other national parks, there isn't as much to see or do here",
           "'National park beauty'"
          ]
         ],
         "hovertemplate": "label=%{customdata[1]}<br>clean_text=%{customdata[0]}<extra></extra>",
         "legendgroup": "1",
         "marker": {
          "color": "rgb(55,126,184)",
          "symbol": "circle"
         },
         "mode": "markers",
         "name": "'National park beauty'",
         "orientation": "v",
         "showlegend": true,
         "type": "scatter",
         "x": [
          -0.10052113234996796,
          -0.08337263762950897
         ],
         "xaxis": "x",
         "y": [
          0.4736770689487457,
          0.3262283504009247
         ],
         "yaxis": "y"
        },
        {
         "customdata": [
          [
           "if there are a very small group of you with two cars, one-way trips from top to bottom or bottom to top may be more enjoyable.",
           "'Scenic drive'"
          ],
          [
           "i strongly recommend renting a convertible for the day and drop that top.",
           "'Scenic drive'"
          ],
          [
           "long drive up the mountain but well worth the trip.",
           "'Scenic drive'"
          ],
          [
           "it is a long winding drive to the summit, but it is really worth it.",
           "'Scenic drive'"
          ]
         ],
         "hovertemplate": "label=%{customdata[1]}<br>clean_text=%{customdata[0]}<extra></extra>",
         "legendgroup": "1",
         "marker": {
          "color": "rgb(77,175,74)",
          "symbol": "circle"
         },
         "mode": "markers",
         "name": "'Scenic drive'",
         "orientation": "v",
         "showlegend": true,
         "type": "scatter",
         "x": [
          -0.32753878831863403,
          -0.0021573633421212435,
          -0.35870394110679626,
          -0.43427741527557373
         ],
         "xaxis": "x",
         "y": [
          -0.08332662284374237,
          -0.32754895091056824,
          -0.08217692375183105,
          -0.15544633567333221
         ],
         "yaxis": "y"
        },
        {
         "customdata": [
          [
           "i highly recommend a visit for sunrise or sunset, too.",
           "'Sunrise/sunset spot'"
          ],
          [
           "i recommend this place, especially for sundown and most of all, sunrises here are amazing!!!",
           "'Sunrise/sunset spot'"
          ],
          [
           "i highly recommend reserving a spot to watch sunrise.",
           "'Sunrise/sunset spot'"
          ],
          [
           "an amazing sight to see, i would highly highly recommend visiting.",
           "'Sunrise/sunset spot'"
          ],
          [
           "best place to watch the sunrise,  pack warm!",
           "'Sunrise/sunset spot'"
          ],
          [
           " to watch the sunrise, blankets are a must... even when the sun rises, you can still see the wonderful scenery.",
           "'Sunrise/sunset spot'"
          ]
         ],
         "hovertemplate": "label=%{customdata[1]}<br>clean_text=%{customdata[0]}<extra></extra>",
         "legendgroup": "1",
         "marker": {
          "color": "rgb(152,78,163)",
          "symbol": "circle"
         },
         "mode": "markers",
         "name": "'Sunrise/sunset spot'",
         "orientation": "v",
         "showlegend": true,
         "type": "scatter",
         "x": [
          0.29105907678604126,
          0.34184983372688293,
          0.2851632833480835,
          0.15236040949821472,
          0.3681236803531647,
          0.3964056372642517
         ],
         "xaxis": "x",
         "y": [
          -0.10479392111301422,
          -0.11126770079135895,
          -0.17349925637245178,
          0.16797958314418793,
          -0.2546956241130829,
          -0.2341957986354828
         ],
         "yaxis": "y"
        },
        {
         "customdata": [
          [
           "we got clouds on our sunrise reservation but the pure quiet and seeing how small we all are is truly breathtaking.",
           "'Sunrise view'"
          ],
          [
           "got up at 3 and reached 10,000 feet above the sea to witness the most beautiful sunrise with clouds as audience.",
           "'Sunrise view'"
          ],
          [
           "elevated 10,000 ft above the  clouds great place.  ",
           "'Sunrise view'"
          ],
          [
           " beautiful place beautiful views above the clouds worth seeing if someone else can see this place",
           "'Sunrise view'"
          ]
         ],
         "hovertemplate": "label=%{customdata[1]}<br>clean_text=%{customdata[0]}<extra></extra>",
         "legendgroup": "1",
         "marker": {
          "color": "rgb(255,127,0)",
          "symbol": "circle"
         },
         "mode": "markers",
         "name": "'Sunrise view'",
         "orientation": "v",
         "showlegend": true,
         "type": "scatter",
         "x": [
          0.188956618309021,
          0.11155373603105545,
          0.07643336802721024,
          0.16117388010025024
         ],
         "xaxis": "x",
         "y": [
          0.011173310689628124,
          -0.1243918389081955,
          0.00021285461843945086,
          0.18665838241577148
         ],
         "yaxis": "y"
        },
        {
         "customdata": [
          [
           "words cannot describe just how amazing our creator made such a lovely place...",
           "'Natural beauty'"
          ],
          [
           "wonderful experience that embraces the spirit of aloha!",
           "'Natural beauty'"
          ],
          [
           "words and pictures don't do justice for the beauty you experience here!",
           "'Natural beauty'"
          ],
          [
           "great and awesome amazing experience that only a frew in the world have been.. a must have on your bucket list.....",
           "'Natural beauty'"
          ]
         ],
         "hovertemplate": "label=%{customdata[1]}<br>clean_text=%{customdata[0]}<extra></extra>",
         "legendgroup": "1",
         "marker": {
          "color": "rgb(255,255,51)",
          "symbol": "circle"
         },
         "mode": "markers",
         "name": "'Natural beauty'",
         "orientation": "v",
         "showlegend": true,
         "type": "scatter",
         "x": [
          0.16884098947048187,
          0.2603960931301117,
          0.16308332979679108,
          0.12328067421913147
         ],
         "xaxis": "x",
         "y": [
          0.371888130903244,
          0.33383360505104065,
          0.3555503189563751,
          0.3221214711666107
         ],
         "yaxis": "y"
        },
        {
         "customdata": [
          [
           "we entered on road to hana to access the pipiwai trail (best hike to see amazing waterfalls and bamboo forests).",
           "'National Park Beauty'"
          ],
          [
           "great national park on the road to hana.",
           "'National Park Beauty'"
          ]
         ],
         "hovertemplate": "label=%{customdata[1]}<br>clean_text=%{customdata[0]}<extra></extra>",
         "legendgroup": "1",
         "marker": {
          "color": "rgb(166,86,40)",
          "symbol": "circle"
         },
         "mode": "markers",
         "name": "'National Park Beauty'",
         "orientation": "v",
         "showlegend": true,
         "type": "scatter",
         "x": [
          -0.37884747982025146,
          -0.2873275578022003
         ],
         "xaxis": "x",
         "y": [
          0.07637696713209152,
          0.260714054107666
         ],
         "yaxis": "y"
        },
        {
         "customdata": [
          [
           "it's a good change of scenery from your maui beaches.",
           "Maui Volcano Tours"
          ],
          [
           "you don't want to miss this day trip while on the island.",
           "Maui Volcano Tours"
          ],
          [
           "truly inner if the highlights of my two week trip here to maui!",
           "Maui Volcano Tours"
          ],
          [
           "crazy cool volcano to visit when you're in maui.",
           "Maui Volcano Tours"
          ],
          [
           "beautiful volcano....looks like you're on mars....",
           "Maui Volcano Tours"
          ]
         ],
         "hovertemplate": "label=%{customdata[1]}<br>clean_text=%{customdata[0]}<extra></extra>",
         "legendgroup": "1",
         "marker": {
          "color": "rgb(247,129,191)",
          "symbol": "circle"
         },
         "mode": "markers",
         "name": "Maui Volcano Tours",
         "orientation": "v",
         "showlegend": true,
         "type": "scatter",
         "x": [
          0.05367100238800049,
          -0.04320749640464783,
          0.08285192400217056,
          0.01814328134059906,
          0.004675287753343582
         ],
         "xaxis": "x",
         "y": [
          0.14790472388267517,
          0.0470590814948082,
          0.23444315791130066,
          0.33144843578338623,
          0.3364585340023041
         ],
         "yaxis": "y"
        },
        {
         "customdata": [
          [
           "it was very windy and cold in december but worth every moment.",
           "'Weather conditions'"
          ],
          [
           "we arrived at the summit when it was sunny, so the wind was not high, and the temperature was cool - not cold as we thought.",
           "'Weather conditions'"
          ]
         ],
         "hovertemplate": "label=%{customdata[1]}<br>clean_text=%{customdata[0]}<extra></extra>",
         "legendgroup": "1",
         "marker": {
          "color": "rgb(153,153,153)",
          "symbol": "circle"
         },
         "mode": "markers",
         "name": "'Weather conditions'",
         "orientation": "v",
         "showlegend": true,
         "type": "scatter",
         "x": [
          -0.06711544096469879,
          0.013092423789203167
         ],
         "xaxis": "x",
         "y": [
          -0.33395013213157654,
          -0.3750622570514679
         ],
         "yaxis": "y"
        },
        {
         "customdata": [
          [
           "was a cool place, almost had hypothermia from the bad weather though so be super prepared!",
           "'Extreme weather'"
          ],
          [
           "amazing experience, be prepared it really cold before sun rises.",
           "'Extreme weather'"
          ]
         ],
         "hovertemplate": "label=%{customdata[1]}<br>clean_text=%{customdata[0]}<extra></extra>",
         "legendgroup": "1",
         "marker": {
          "color": "rgb(228,26,28)",
          "symbol": "circle"
         },
         "mode": "markers",
         "name": "'Extreme weather'",
         "orientation": "v",
         "showlegend": true,
         "type": "scatter",
         "x": [
          0.10078506916761398,
          0.2559719979763031
         ],
         "xaxis": "x",
         "y": [
          -0.2711014151573181,
          -0.3390810191631317
         ],
         "yaxis": "y"
        },
        {
         "customdata": [
          [
           "never changes , great park lot warmer than the last time we were there.",
           "Safe Parking & Facilities"
          ],
          [
           "i felt like my car was safe parked at the national park parking lot and the restrooms were pristine and fully stocked.",
           "Safe Parking & Facilities"
          ]
         ],
         "hovertemplate": "label=%{customdata[1]}<br>clean_text=%{customdata[0]}<extra></extra>",
         "legendgroup": "1",
         "marker": {
          "color": "rgb(55,126,184)",
          "symbol": "circle"
         },
         "mode": "markers",
         "name": "Safe Parking & Facilities",
         "orientation": "v",
         "showlegend": true,
         "type": "scatter",
         "x": [
          -0.02496439404785633,
          -0.23462320864200592
         ],
         "xaxis": "x",
         "y": [
          -0.1093149483203888,
          0.08343443274497986
         ],
         "yaxis": "y"
        },
        {
         "customdata": [
          [
           "the road was a little scary but so worth getting to the top.",
           "'Challenging drive'"
          ],
          [
           "the drive up is a little scary, but totally worth the effort.",
           "'Challenging drive'"
          ],
          [
           "the drive up was long for us, but because we took our time to enjoy the changing sceneries.  highly recommended.",
           "'Challenging drive'"
          ]
         ],
         "hovertemplate": "label=%{customdata[1]}<br>clean_text=%{customdata[0]}<extra></extra>",
         "legendgroup": "1",
         "marker": {
          "color": "rgb(77,175,74)",
          "symbol": "circle"
         },
         "mode": "markers",
         "name": "'Challenging drive'",
         "orientation": "v",
         "showlegend": true,
         "type": "scatter",
         "x": [
          -0.4502044916152954,
          -0.4096994400024414,
          -0.22541163861751556
         ],
         "xaxis": "x",
         "y": [
          -0.14527210593223572,
          -0.09846828877925873,
          -0.10078728199005127
         ],
         "yaxis": "y"
        },
        {
         "customdata": [
          [
           "wow, wow spectacular, the most breathtaking views you would ever see.",
           "'Volcano views'"
          ],
          [
           "majestic views which ordinarily could only be seen through an airplane's windows - so  wonderful.  ",
           "'Volcano views'"
          ],
          [
           "amazing views of a dormant super volcano sitting above the clouds!",
           "'Volcano views'"
          ]
         ],
         "hovertemplate": "label=%{customdata[1]}<br>clean_text=%{customdata[0]}<extra></extra>",
         "legendgroup": "1",
         "marker": {
          "color": "rgb(152,78,163)",
          "symbol": "circle"
         },
         "mode": "markers",
         "name": "'Volcano views'",
         "orientation": "v",
         "showlegend": true,
         "type": "scatter",
         "x": [
          0.09725232422351837,
          0.16228482127189636,
          0.120009645819664
         ],
         "xaxis": "x",
         "y": [
          0.2853963077068329,
          0.28980985283851624,
          0.16858577728271484
         ],
         "yaxis": "y"
        },
        {
         "customdata": [
          [
           "the sunset is beautiful, but be sure to wear warm clothes because the temperature drops once the sun starts setting.",
           "'Sunset view'"
          ],
          [
           "must visit place  stunning sunrise , and be advised to dress very warm.",
           "'Sunset view'"
          ],
          [
           "breathtaking experiences the sunset and sunrise make sure you dress appropriately very very warm clothes",
           "'Sunset view'"
          ]
         ],
         "hovertemplate": "label=%{customdata[1]}<br>clean_text=%{customdata[0]}<extra></extra>",
         "legendgroup": "1",
         "marker": {
          "color": "rgb(255,127,0)",
          "symbol": "circle"
         },
         "mode": "markers",
         "name": "'Sunset view'",
         "orientation": "v",
         "showlegend": true,
         "type": "scatter",
         "x": [
          0.3100472688674927,
          0.3630196154117584,
          0.36944204568862915
         ],
         "xaxis": "x",
         "y": [
          -0.4033762514591217,
          -0.17993369698524475,
          -0.27563515305519104
         ],
         "yaxis": "y"
        },
        {
         "customdata": [
          [
           "however, parking can be a severe problem, so you may have to drop passengers off before finding a space in one of the lower car parks.",
           "'Weather conditions'"
          ],
          [
           "you don't want to drive all the way up there and be socked in with clouds.  ",
           "'Weather conditions'"
          ],
          [
           "wish the crater had more hot lava spewing on us",
           "'Weather conditions'"
          ],
          [
           "it's windy and the cold blows right through to your bones",
           "'Weather conditions'"
          ],
          [
           "silver sword....looks like it was spray painted....dont touch...",
           "'Weather conditions'"
          ],
          [
           "i was here january 2021 and the waters were raging, so no swimming allowed.",
           "'Weather conditions'"
          ],
          [
           "it was a long and winding road to get to this point, and taking the road to hana had it's challenges during covid as many bathroom locations were closed.",
           "'Weather conditions'"
          ]
         ],
         "hovertemplate": "label=%{customdata[1]}<br>clean_text=%{customdata[0]}<extra></extra>",
         "legendgroup": "2",
         "marker": {
          "color": "rgb(228,26,28)",
          "symbol": "circle"
         },
         "mode": "markers",
         "name": "'Weather conditions'",
         "orientation": "v",
         "showlegend": true,
         "type": "scatter",
         "x": [
          -0.24193285405635834,
          0.07911650836467743,
          0.36700141429901123,
          0.45652762055397034,
          0.24015077948570251,
          0.38954347372055054,
          -0.05039001628756523
         ],
         "xaxis": "x2",
         "y": [
          0.39306211471557617,
          0.3841268718242645,
          0.026289131492376328,
          -0.018007120117545128,
          -0.6295329928398132,
          0.018806006759405136,
          0.37893787026405334
         ],
         "yaxis": "y2"
        },
        {
         "customdata": [
          [
           "book ahead, sold out in 23 minutes my first attempt (lost my spot while preparing my account).",
           "'High demand tickets'"
          ],
          [
           "kinda wrong to charge kamaina really ridiculous!",
           "'High demand tickets'"
          ],
          [
           "the tickets that cost bucks to get sell out in 90 seconds every day.",
           "'High demand tickets'"
          ]
         ],
         "hovertemplate": "label=%{customdata[1]}<br>clean_text=%{customdata[0]}<extra></extra>",
         "legendgroup": "2",
         "marker": {
          "color": "rgb(55,126,184)",
          "symbol": "circle"
         },
         "mode": "markers",
         "name": "'High demand tickets'",
         "orientation": "v",
         "showlegend": true,
         "type": "scatter",
         "x": [
          -0.3589715361595154,
          -0.37083178758621216,
          -0.5102136135101318
         ],
         "xaxis": "x2",
         "y": [
          -0.2085193246603012,
          -0.17743262648582458,
          -0.16773009300231934
         ],
         "yaxis": "y2"
        }
       ],
       "layout": {
        "annotations": [
         {
          "font": {
           "size": 16
          },
          "showarrow": false,
          "text": "Positive Reviews",
          "x": 0.5,
          "xanchor": "center",
          "xref": "paper",
          "y": 1,
          "yanchor": "bottom",
          "yref": "paper"
         },
         {
          "font": {
           "size": 16
          },
          "showarrow": false,
          "text": "Negative Reviews",
          "x": 0.5,
          "xanchor": "center",
          "xref": "paper",
          "y": 0.375,
          "yanchor": "bottom",
          "yref": "paper"
         }
        ],
        "height": 800,
        "legend": {
         "tracegroupgap": 150,
         "x": 1.05,
         "xanchor": "left",
         "y": 1,
         "yanchor": "top"
        },
        "template": {
         "data": {
          "bar": [
           {
            "error_x": {
             "color": "#2a3f5f"
            },
            "error_y": {
             "color": "#2a3f5f"
            },
            "marker": {
             "line": {
              "color": "#E5ECF6",
              "width": 0.5
             },
             "pattern": {
              "fillmode": "overlay",
              "size": 10,
              "solidity": 0.2
             }
            },
            "type": "bar"
           }
          ],
          "barpolar": [
           {
            "marker": {
             "line": {
              "color": "#E5ECF6",
              "width": 0.5
             },
             "pattern": {
              "fillmode": "overlay",
              "size": 10,
              "solidity": 0.2
             }
            },
            "type": "barpolar"
           }
          ],
          "carpet": [
           {
            "aaxis": {
             "endlinecolor": "#2a3f5f",
             "gridcolor": "white",
             "linecolor": "white",
             "minorgridcolor": "white",
             "startlinecolor": "#2a3f5f"
            },
            "baxis": {
             "endlinecolor": "#2a3f5f",
             "gridcolor": "white",
             "linecolor": "white",
             "minorgridcolor": "white",
             "startlinecolor": "#2a3f5f"
            },
            "type": "carpet"
           }
          ],
          "choropleth": [
           {
            "colorbar": {
             "outlinewidth": 0,
             "ticks": ""
            },
            "type": "choropleth"
           }
          ],
          "contour": [
           {
            "colorbar": {
             "outlinewidth": 0,
             "ticks": ""
            },
            "colorscale": [
             [
              0,
              "#0d0887"
             ],
             [
              0.1111111111111111,
              "#46039f"
             ],
             [
              0.2222222222222222,
              "#7201a8"
             ],
             [
              0.3333333333333333,
              "#9c179e"
             ],
             [
              0.4444444444444444,
              "#bd3786"
             ],
             [
              0.5555555555555556,
              "#d8576b"
             ],
             [
              0.6666666666666666,
              "#ed7953"
             ],
             [
              0.7777777777777778,
              "#fb9f3a"
             ],
             [
              0.8888888888888888,
              "#fdca26"
             ],
             [
              1,
              "#f0f921"
             ]
            ],
            "type": "contour"
           }
          ],
          "contourcarpet": [
           {
            "colorbar": {
             "outlinewidth": 0,
             "ticks": ""
            },
            "type": "contourcarpet"
           }
          ],
          "heatmap": [
           {
            "colorbar": {
             "outlinewidth": 0,
             "ticks": ""
            },
            "colorscale": [
             [
              0,
              "#0d0887"
             ],
             [
              0.1111111111111111,
              "#46039f"
             ],
             [
              0.2222222222222222,
              "#7201a8"
             ],
             [
              0.3333333333333333,
              "#9c179e"
             ],
             [
              0.4444444444444444,
              "#bd3786"
             ],
             [
              0.5555555555555556,
              "#d8576b"
             ],
             [
              0.6666666666666666,
              "#ed7953"
             ],
             [
              0.7777777777777778,
              "#fb9f3a"
             ],
             [
              0.8888888888888888,
              "#fdca26"
             ],
             [
              1,
              "#f0f921"
             ]
            ],
            "type": "heatmap"
           }
          ],
          "heatmapgl": [
           {
            "colorbar": {
             "outlinewidth": 0,
             "ticks": ""
            },
            "colorscale": [
             [
              0,
              "#0d0887"
             ],
             [
              0.1111111111111111,
              "#46039f"
             ],
             [
              0.2222222222222222,
              "#7201a8"
             ],
             [
              0.3333333333333333,
              "#9c179e"
             ],
             [
              0.4444444444444444,
              "#bd3786"
             ],
             [
              0.5555555555555556,
              "#d8576b"
             ],
             [
              0.6666666666666666,
              "#ed7953"
             ],
             [
              0.7777777777777778,
              "#fb9f3a"
             ],
             [
              0.8888888888888888,
              "#fdca26"
             ],
             [
              1,
              "#f0f921"
             ]
            ],
            "type": "heatmapgl"
           }
          ],
          "histogram": [
           {
            "marker": {
             "pattern": {
              "fillmode": "overlay",
              "size": 10,
              "solidity": 0.2
             }
            },
            "type": "histogram"
           }
          ],
          "histogram2d": [
           {
            "colorbar": {
             "outlinewidth": 0,
             "ticks": ""
            },
            "colorscale": [
             [
              0,
              "#0d0887"
             ],
             [
              0.1111111111111111,
              "#46039f"
             ],
             [
              0.2222222222222222,
              "#7201a8"
             ],
             [
              0.3333333333333333,
              "#9c179e"
             ],
             [
              0.4444444444444444,
              "#bd3786"
             ],
             [
              0.5555555555555556,
              "#d8576b"
             ],
             [
              0.6666666666666666,
              "#ed7953"
             ],
             [
              0.7777777777777778,
              "#fb9f3a"
             ],
             [
              0.8888888888888888,
              "#fdca26"
             ],
             [
              1,
              "#f0f921"
             ]
            ],
            "type": "histogram2d"
           }
          ],
          "histogram2dcontour": [
           {
            "colorbar": {
             "outlinewidth": 0,
             "ticks": ""
            },
            "colorscale": [
             [
              0,
              "#0d0887"
             ],
             [
              0.1111111111111111,
              "#46039f"
             ],
             [
              0.2222222222222222,
              "#7201a8"
             ],
             [
              0.3333333333333333,
              "#9c179e"
             ],
             [
              0.4444444444444444,
              "#bd3786"
             ],
             [
              0.5555555555555556,
              "#d8576b"
             ],
             [
              0.6666666666666666,
              "#ed7953"
             ],
             [
              0.7777777777777778,
              "#fb9f3a"
             ],
             [
              0.8888888888888888,
              "#fdca26"
             ],
             [
              1,
              "#f0f921"
             ]
            ],
            "type": "histogram2dcontour"
           }
          ],
          "mesh3d": [
           {
            "colorbar": {
             "outlinewidth": 0,
             "ticks": ""
            },
            "type": "mesh3d"
           }
          ],
          "parcoords": [
           {
            "line": {
             "colorbar": {
              "outlinewidth": 0,
              "ticks": ""
             }
            },
            "type": "parcoords"
           }
          ],
          "pie": [
           {
            "automargin": true,
            "type": "pie"
           }
          ],
          "scatter": [
           {
            "fillpattern": {
             "fillmode": "overlay",
             "size": 10,
             "solidity": 0.2
            },
            "type": "scatter"
           }
          ],
          "scatter3d": [
           {
            "line": {
             "colorbar": {
              "outlinewidth": 0,
              "ticks": ""
             }
            },
            "marker": {
             "colorbar": {
              "outlinewidth": 0,
              "ticks": ""
             }
            },
            "type": "scatter3d"
           }
          ],
          "scattercarpet": [
           {
            "marker": {
             "colorbar": {
              "outlinewidth": 0,
              "ticks": ""
             }
            },
            "type": "scattercarpet"
           }
          ],
          "scattergeo": [
           {
            "marker": {
             "colorbar": {
              "outlinewidth": 0,
              "ticks": ""
             }
            },
            "type": "scattergeo"
           }
          ],
          "scattergl": [
           {
            "marker": {
             "colorbar": {
              "outlinewidth": 0,
              "ticks": ""
             }
            },
            "type": "scattergl"
           }
          ],
          "scattermapbox": [
           {
            "marker": {
             "colorbar": {
              "outlinewidth": 0,
              "ticks": ""
             }
            },
            "type": "scattermapbox"
           }
          ],
          "scatterpolar": [
           {
            "marker": {
             "colorbar": {
              "outlinewidth": 0,
              "ticks": ""
             }
            },
            "type": "scatterpolar"
           }
          ],
          "scatterpolargl": [
           {
            "marker": {
             "colorbar": {
              "outlinewidth": 0,
              "ticks": ""
             }
            },
            "type": "scatterpolargl"
           }
          ],
          "scatterternary": [
           {
            "marker": {
             "colorbar": {
              "outlinewidth": 0,
              "ticks": ""
             }
            },
            "type": "scatterternary"
           }
          ],
          "surface": [
           {
            "colorbar": {
             "outlinewidth": 0,
             "ticks": ""
            },
            "colorscale": [
             [
              0,
              "#0d0887"
             ],
             [
              0.1111111111111111,
              "#46039f"
             ],
             [
              0.2222222222222222,
              "#7201a8"
             ],
             [
              0.3333333333333333,
              "#9c179e"
             ],
             [
              0.4444444444444444,
              "#bd3786"
             ],
             [
              0.5555555555555556,
              "#d8576b"
             ],
             [
              0.6666666666666666,
              "#ed7953"
             ],
             [
              0.7777777777777778,
              "#fb9f3a"
             ],
             [
              0.8888888888888888,
              "#fdca26"
             ],
             [
              1,
              "#f0f921"
             ]
            ],
            "type": "surface"
           }
          ],
          "table": [
           {
            "cells": {
             "fill": {
              "color": "#EBF0F8"
             },
             "line": {
              "color": "white"
             }
            },
            "header": {
             "fill": {
              "color": "#C8D4E3"
             },
             "line": {
              "color": "white"
             }
            },
            "type": "table"
           }
          ]
         },
         "layout": {
          "annotationdefaults": {
           "arrowcolor": "#2a3f5f",
           "arrowhead": 0,
           "arrowwidth": 1
          },
          "autotypenumbers": "strict",
          "coloraxis": {
           "colorbar": {
            "outlinewidth": 0,
            "ticks": ""
           }
          },
          "colorscale": {
           "diverging": [
            [
             0,
             "#8e0152"
            ],
            [
             0.1,
             "#c51b7d"
            ],
            [
             0.2,
             "#de77ae"
            ],
            [
             0.3,
             "#f1b6da"
            ],
            [
             0.4,
             "#fde0ef"
            ],
            [
             0.5,
             "#f7f7f7"
            ],
            [
             0.6,
             "#e6f5d0"
            ],
            [
             0.7,
             "#b8e186"
            ],
            [
             0.8,
             "#7fbc41"
            ],
            [
             0.9,
             "#4d9221"
            ],
            [
             1,
             "#276419"
            ]
           ],
           "sequential": [
            [
             0,
             "#0d0887"
            ],
            [
             0.1111111111111111,
             "#46039f"
            ],
            [
             0.2222222222222222,
             "#7201a8"
            ],
            [
             0.3333333333333333,
             "#9c179e"
            ],
            [
             0.4444444444444444,
             "#bd3786"
            ],
            [
             0.5555555555555556,
             "#d8576b"
            ],
            [
             0.6666666666666666,
             "#ed7953"
            ],
            [
             0.7777777777777778,
             "#fb9f3a"
            ],
            [
             0.8888888888888888,
             "#fdca26"
            ],
            [
             1,
             "#f0f921"
            ]
           ],
           "sequentialminus": [
            [
             0,
             "#0d0887"
            ],
            [
             0.1111111111111111,
             "#46039f"
            ],
            [
             0.2222222222222222,
             "#7201a8"
            ],
            [
             0.3333333333333333,
             "#9c179e"
            ],
            [
             0.4444444444444444,
             "#bd3786"
            ],
            [
             0.5555555555555556,
             "#d8576b"
            ],
            [
             0.6666666666666666,
             "#ed7953"
            ],
            [
             0.7777777777777778,
             "#fb9f3a"
            ],
            [
             0.8888888888888888,
             "#fdca26"
            ],
            [
             1,
             "#f0f921"
            ]
           ]
          },
          "colorway": [
           "#636efa",
           "#EF553B",
           "#00cc96",
           "#ab63fa",
           "#FFA15A",
           "#19d3f3",
           "#FF6692",
           "#B6E880",
           "#FF97FF",
           "#FECB52"
          ],
          "font": {
           "color": "#2a3f5f"
          },
          "geo": {
           "bgcolor": "white",
           "lakecolor": "white",
           "landcolor": "#E5ECF6",
           "showlakes": true,
           "showland": true,
           "subunitcolor": "white"
          },
          "hoverlabel": {
           "align": "left"
          },
          "hovermode": "closest",
          "mapbox": {
           "style": "light"
          },
          "paper_bgcolor": "white",
          "plot_bgcolor": "#E5ECF6",
          "polar": {
           "angularaxis": {
            "gridcolor": "white",
            "linecolor": "white",
            "ticks": ""
           },
           "bgcolor": "#E5ECF6",
           "radialaxis": {
            "gridcolor": "white",
            "linecolor": "white",
            "ticks": ""
           }
          },
          "scene": {
           "xaxis": {
            "backgroundcolor": "#E5ECF6",
            "gridcolor": "white",
            "gridwidth": 2,
            "linecolor": "white",
            "showbackground": true,
            "ticks": "",
            "zerolinecolor": "white"
           },
           "yaxis": {
            "backgroundcolor": "#E5ECF6",
            "gridcolor": "white",
            "gridwidth": 2,
            "linecolor": "white",
            "showbackground": true,
            "ticks": "",
            "zerolinecolor": "white"
           },
           "zaxis": {
            "backgroundcolor": "#E5ECF6",
            "gridcolor": "white",
            "gridwidth": 2,
            "linecolor": "white",
            "showbackground": true,
            "ticks": "",
            "zerolinecolor": "white"
           }
          },
          "shapedefaults": {
           "line": {
            "color": "#2a3f5f"
           }
          },
          "ternary": {
           "aaxis": {
            "gridcolor": "white",
            "linecolor": "white",
            "ticks": ""
           },
           "baxis": {
            "gridcolor": "white",
            "linecolor": "white",
            "ticks": ""
           },
           "bgcolor": "#E5ECF6",
           "caxis": {
            "gridcolor": "white",
            "linecolor": "white",
            "ticks": ""
           }
          },
          "title": {
           "x": 0.05
          },
          "xaxis": {
           "automargin": true,
           "gridcolor": "white",
           "linecolor": "white",
           "ticks": "",
           "title": {
            "standoff": 15
           },
           "zerolinecolor": "white",
           "zerolinewidth": 2
          },
          "yaxis": {
           "automargin": true,
           "gridcolor": "white",
           "linecolor": "white",
           "ticks": "",
           "title": {
            "standoff": 15
           },
           "zerolinecolor": "white",
           "zerolinewidth": 2
          }
         }
        },
        "title": {
         "text": "Customer Review Clusters using Concatenated Word Vector"
        },
        "width": 1000,
        "xaxis": {
         "anchor": "y",
         "autorange": true,
         "domain": [
          0,
          1
         ],
         "range": [
          -0.5030307393943148,
          0.44923188504327105
         ],
         "type": "linear"
        },
        "xaxis2": {
         "anchor": "y2",
         "autorange": true,
         "domain": [
          0,
          1
         ],
         "range": [
          -0.5705357266372844,
          0.5168497336811229
         ],
         "type": "linear"
        },
        "yaxis": {
         "anchor": "x",
         "autorange": true,
         "domain": [
          0.625,
          1
         ],
         "range": [
          -0.4702148874009852,
          0.5405157048906092
         ],
         "type": "linear"
        },
        "yaxis2": {
         "anchor": "x2",
         "autorange": true,
         "domain": [
          0,
          0.375
         ],
         "range": [
          -0.7074631032668968,
          0.47099222514265976
         ],
         "type": "linear"
        }
       }
      },
      "image/png": "[encoded data removed]",
      "text/html": [
       "<div>                            <div id=\"e60e1df9-2b48-40cc-95b1-b63c1bdeafa6\" class=\"plotly-graph-div\" style=\"height:800px; width:1000px;\"></div>            <script type=\"text/javascript\">                require([\"plotly\"], function(Plotly) {                    window.PLOTLYENV=window.PLOTLYENV || {};                                    if (document.getElementById(\"e60e1df9-2b48-40cc-95b1-b63c1bdeafa6\")) {                    Plotly.newPlot(                        \"e60e1df9-2b48-40cc-95b1-b63c1bdeafa6\",                        [{\"customdata\":[[\"the summit at just over 10k feet makes you work for your hikes, especially the climb back out of the crater!  \",\"'Hiking trails'\"],[\"the hike was amazing, but the kids weren't quite up to going 11 miles.\",\"'Hiking trails'\"],[\"it was a moderate hike during the wet months as it was fairly slippery for 3.7 miles roundtrip, but totally doable.\",\"'Hiking trails'\"],[\"great hike to falls trail was muddy and can be very challenging at times.\",\"'Hiking trails'\"]],\"hovertemplate\":\"label=%{customdata[1]}\\u003cbr\\u003eclean_text=%{customdata[0]}\\u003cextra\\u003e\\u003c\\u002fextra\\u003e\",\"legendgroup\":\"1\",\"marker\":{\"color\":\"rgb(228,26,28)\",\"symbol\":\"circle\"},\"mode\":\"markers\",\"name\":\"'Hiking trails'\",\"orientation\":\"v\",\"showlegend\":true,\"x\":[-0.3557300269603729,-0.4002929925918579,-0.4244156777858734,-0.43151578307151794],\"xaxis\":\"x\",\"y\":[-0.10559390485286713,-0.05579336732625961,-0.24135717749595642,-0.12488409876823425],\"yaxis\":\"y\",\"type\":\"scatter\"},{\"customdata\":[[\"the national park includes an extinct volcano on a tropical island and is one of the most stunning parks in the whole of the us.\",\"'National park beauty'\"],[\"great visit but compared to other national parks, there isn't as much to see or do here\",\"'National park beauty'\"]],\"hovertemplate\":\"label=%{customdata[1]}\\u003cbr\\u003eclean_text=%{customdata[0]}\\u003cextra\\u003e\\u003c\\u002fextra\\u003e\",\"legendgroup\":\"1\",\"marker\":{\"color\":\"rgb(55,126,184)\",\"symbol\":\"circle\"},\"mode\":\"markers\",\"name\":\"'National park beauty'\",\"orientation\":\"v\",\"showlegend\":true,\"x\":[-0.10052113234996796,-0.08337263762950897],\"xaxis\":\"x\",\"y\":[0.4736770689487457,0.3262283504009247],\"yaxis\":\"y\",\"type\":\"scatter\"},{\"customdata\":[[\"if there are a very small group of you with two cars, one-way trips from top to bottom or bottom to top may be more enjoyable.\",\"'Scenic drive'\"],[\"i strongly recommend renting a convertible for the day and drop that top.\",\"'Scenic drive'\"],[\"long drive up the mountain but well worth the trip.\",\"'Scenic drive'\"],[\"it is a long winding drive to the summit, but it is really worth it.\",\"'Scenic drive'\"]],\"hovertemplate\":\"label=%{customdata[1]}\\u003cbr\\u003eclean_text=%{customdata[0]}\\u003cextra\\u003e\\u003c\\u002fextra\\u003e\",\"legendgroup\":\"1\",\"marker\":{\"color\":\"rgb(77,175,74)\",\"symbol\":\"circle\"},\"mode\":\"markers\",\"name\":\"'Scenic drive'\",\"orientation\":\"v\",\"showlegend\":true,\"x\":[-0.32753878831863403,-0.0021573633421212435,-0.35870394110679626,-0.43427741527557373],\"xaxis\":\"x\",\"y\":[-0.08332662284374237,-0.32754895091056824,-0.08217692375183105,-0.15544633567333221],\"yaxis\":\"y\",\"type\":\"scatter\"},{\"customdata\":[[\"i highly recommend a visit for sunrise or sunset, too.\",\"'Sunrise\\u002fsunset spot'\"],[\"i recommend this place, especially for sundown and most of all, sunrises here are amazing!!!\",\"'Sunrise\\u002fsunset spot'\"],[\"i highly recommend reserving a spot to watch sunrise.\",\"'Sunrise\\u002fsunset spot'\"],[\"an amazing sight to see, i would highly highly recommend visiting.\",\"'Sunrise\\u002fsunset spot'\"],[\"best place to watch the sunrise,  pack warm!\",\"'Sunrise\\u002fsunset spot'\"],[\" to watch the sunrise, blankets are a must... even when the sun rises, you can still see the wonderful scenery.\",\"'Sunrise\\u002fsunset spot'\"]],\"hovertemplate\":\"label=%{customdata[1]}\\u003cbr\\u003eclean_text=%{customdata[0]}\\u003cextra\\u003e\\u003c\\u002fextra\\u003e\",\"legendgroup\":\"1\",\"marker\":{\"color\":\"rgb(152,78,163)\",\"symbol\":\"circle\"},\"mode\":\"markers\",\"name\":\"'Sunrise\\u002fsunset spot'\",\"orientation\":\"v\",\"showlegend\":true,\"x\":[0.29105907678604126,0.34184983372688293,0.2851632833480835,0.15236040949821472,0.3681236803531647,0.3964056372642517],\"xaxis\":\"x\",\"y\":[-0.10479392111301422,-0.11126770079135895,-0.17349925637245178,0.16797958314418793,-0.2546956241130829,-0.2341957986354828],\"yaxis\":\"y\",\"type\":\"scatter\"},{\"customdata\":[[\"we got clouds on our sunrise reservation but the pure quiet and seeing how small we all are is truly breathtaking.\",\"'Sunrise view'\"],[\"got up at 3 and reached 10,000 feet above the sea to witness the most beautiful sunrise with clouds as audience.\",\"'Sunrise view'\"],[\"elevated 10,000 ft above the  clouds great place.  \",\"'Sunrise view'\"],[\" beautiful place beautiful views above the clouds worth seeing if someone else can see this place\",\"'Sunrise view'\"]],\"hovertemplate\":\"label=%{customdata[1]}\\u003cbr\\u003eclean_text=%{customdata[0]}\\u003cextra\\u003e\\u003c\\u002fextra\\u003e\",\"legendgroup\":\"1\",\"marker\":{\"color\":\"rgb(255,127,0)\",\"symbol\":\"circle\"},\"mode\":\"markers\",\"name\":\"'Sunrise view'\",\"orientation\":\"v\",\"showlegend\":true,\"x\":[0.188956618309021,0.11155373603105545,0.07643336802721024,0.16117388010025024],\"xaxis\":\"x\",\"y\":[0.011173310689628124,-0.1243918389081955,0.00021285461843945086,0.18665838241577148],\"yaxis\":\"y\",\"type\":\"scatter\"},{\"customdata\":[[\"words cannot describe just how amazing our creator made such a lovely place...\",\"'Natural beauty'\"],[\"wonderful experience that embraces the spirit of aloha!\",\"'Natural beauty'\"],[\"words and pictures don't do justice for the beauty you experience here!\",\"'Natural beauty'\"],[\"great and awesome amazing experience that only a frew in the world have been.. a must have on your bucket list.....\",\"'Natural beauty'\"]],\"hovertemplate\":\"label=%{customdata[1]}\\u003cbr\\u003eclean_text=%{customdata[0]}\\u003cextra\\u003e\\u003c\\u002fextra\\u003e\",\"legendgroup\":\"1\",\"marker\":{\"color\":\"rgb(255,255,51)\",\"symbol\":\"circle\"},\"mode\":\"markers\",\"name\":\"'Natural beauty'\",\"orientation\":\"v\",\"showlegend\":true,\"x\":[0.16884098947048187,0.2603960931301117,0.16308332979679108,0.12328067421913147],\"xaxis\":\"x\",\"y\":[0.371888130903244,0.33383360505104065,0.3555503189563751,0.3221214711666107],\"yaxis\":\"y\",\"type\":\"scatter\"},{\"customdata\":[[\"we entered on road to hana to access the pipiwai trail (best hike to see amazing waterfalls and bamboo forests).\",\"'National Park Beauty'\"],[\"great national park on the road to hana.\",\"'National Park Beauty'\"]],\"hovertemplate\":\"label=%{customdata[1]}\\u003cbr\\u003eclean_text=%{customdata[0]}\\u003cextra\\u003e\\u003c\\u002fextra\\u003e\",\"legendgroup\":\"1\",\"marker\":{\"color\":\"rgb(166,86,40)\",\"symbol\":\"circle\"},\"mode\":\"markers\",\"name\":\"'National Park Beauty'\",\"orientation\":\"v\",\"showlegend\":true,\"x\":[-0.37884747982025146,-0.2873275578022003],\"xaxis\":\"x\",\"y\":[0.07637696713209152,0.260714054107666],\"yaxis\":\"y\",\"type\":\"scatter\"},{\"customdata\":[[\"it's a good change of scenery from your maui beaches.\",\"Maui Volcano Tours\"],[\"you don't want to miss this day trip while on the island.\",\"Maui Volcano Tours\"],[\"truly inner if the highlights of my two week trip here to maui!\",\"Maui Volcano Tours\"],[\"crazy cool volcano to visit when you're in maui.\",\"Maui Volcano Tours\"],[\"beautiful volcano....looks like you're on mars....\",\"Maui Volcano Tours\"]],\"hovertemplate\":\"label=%{customdata[1]}\\u003cbr\\u003eclean_text=%{customdata[0]}\\u003cextra\\u003e\\u003c\\u002fextra\\u003e\",\"legendgroup\":\"1\",\"marker\":{\"color\":\"rgb(247,129,191)\",\"symbol\":\"circle\"},\"mode\":\"markers\",\"name\":\"Maui Volcano Tours\",\"orientation\":\"v\",\"showlegend\":true,\"x\":[0.05367100238800049,-0.04320749640464783,0.08285192400217056,0.01814328134059906,0.004675287753343582],\"xaxis\":\"x\",\"y\":[0.14790472388267517,0.0470590814948082,0.23444315791130066,0.33144843578338623,0.3364585340023041],\"yaxis\":\"y\",\"type\":\"scatter\"},{\"customdata\":[[\"it was very windy and cold in december but worth every moment.\",\"'Weather conditions'\"],[\"we arrived at the summit when it was sunny, so the wind was not high, and the temperature was cool - not cold as we thought.\",\"'Weather conditions'\"]],\"hovertemplate\":\"label=%{customdata[1]}\\u003cbr\\u003eclean_text=%{customdata[0]}\\u003cextra\\u003e\\u003c\\u002fextra\\u003e\",\"legendgroup\":\"1\",\"marker\":{\"color\":\"rgb(153,153,153)\",\"symbol\":\"circle\"},\"mode\":\"markers\",\"name\":\"'Weather conditions'\",\"orientation\":\"v\",\"showlegend\":true,\"x\":[-0.06711544096469879,0.013092423789203167],\"xaxis\":\"x\",\"y\":[-0.33395013213157654,-0.3750622570514679],\"yaxis\":\"y\",\"type\":\"scatter\"},{\"customdata\":[[\"was a cool place, almost had hypothermia from the bad weather though so be super prepared!\",\"'Extreme weather'\"],[\"amazing experience, be prepared it really cold before sun rises.\",\"'Extreme weather'\"]],\"hovertemplate\":\"label=%{customdata[1]}\\u003cbr\\u003eclean_text=%{customdata[0]}\\u003cextra\\u003e\\u003c\\u002fextra\\u003e\",\"legendgroup\":\"1\",\"marker\":{\"color\":\"rgb(228,26,28)\",\"symbol\":\"circle\"},\"mode\":\"markers\",\"name\":\"'Extreme weather'\",\"orientation\":\"v\",\"showlegend\":true,\"x\":[0.10078506916761398,0.2559719979763031],\"xaxis\":\"x\",\"y\":[-0.2711014151573181,-0.3390810191631317],\"yaxis\":\"y\",\"type\":\"scatter\"},{\"customdata\":[[\"never changes , great park lot warmer than the last time we were there.\",\"Safe Parking & Facilities\"],[\"i felt like my car was safe parked at the national park parking lot and the restrooms were pristine and fully stocked.\",\"Safe Parking & Facilities\"]],\"hovertemplate\":\"label=%{customdata[1]}\\u003cbr\\u003eclean_text=%{customdata[0]}\\u003cextra\\u003e\\u003c\\u002fextra\\u003e\",\"legendgroup\":\"1\",\"marker\":{\"color\":\"rgb(55,126,184)\",\"symbol\":\"circle\"},\"mode\":\"markers\",\"name\":\"Safe Parking & Facilities\",\"orientation\":\"v\",\"showlegend\":true,\"x\":[-0.02496439404785633,-0.23462320864200592],\"xaxis\":\"x\",\"y\":[-0.1093149483203888,0.08343443274497986],\"yaxis\":\"y\",\"type\":\"scatter\"},{\"customdata\":[[\"the road was a little scary but so worth getting to the top.\",\"'Challenging drive'\"],[\"the drive up is a little scary, but totally worth the effort.\",\"'Challenging drive'\"],[\"the drive up was long for us, but because we took our time to enjoy the changing sceneries.  highly recommended.\",\"'Challenging drive'\"]],\"hovertemplate\":\"label=%{customdata[1]}\\u003cbr\\u003eclean_text=%{customdata[0]}\\u003cextra\\u003e\\u003c\\u002fextra\\u003e\",\"legendgroup\":\"1\",\"marker\":{\"color\":\"rgb(77,175,74)\",\"symbol\":\"circle\"},\"mode\":\"markers\",\"name\":\"'Challenging drive'\",\"orientation\":\"v\",\"showlegend\":true,\"x\":[-0.4502044916152954,-0.4096994400024414,-0.22541163861751556],\"xaxis\":\"x\",\"y\":[-0.14527210593223572,-0.09846828877925873,-0.10078728199005127],\"yaxis\":\"y\",\"type\":\"scatter\"},{\"customdata\":[[\"wow, wow spectacular, the most breathtaking views you would ever see.\",\"'Volcano views'\"],[\"majestic views which ordinarily could only be seen through an airplane's windows - so  wonderful.  \",\"'Volcano views'\"],[\"amazing views of a dormant super volcano sitting above the clouds!\",\"'Volcano views'\"]],\"hovertemplate\":\"label=%{customdata[1]}\\u003cbr\\u003eclean_text=%{customdata[0]}\\u003cextra\\u003e\\u003c\\u002fextra\\u003e\",\"legendgroup\":\"1\",\"marker\":{\"color\":\"rgb(152,78,163)\",\"symbol\":\"circle\"},\"mode\":\"markers\",\"name\":\"'Volcano views'\",\"orientation\":\"v\",\"showlegend\":true,\"x\":[0.09725232422351837,0.16228482127189636,0.120009645819664],\"xaxis\":\"x\",\"y\":[0.2853963077068329,0.28980985283851624,0.16858577728271484],\"yaxis\":\"y\",\"type\":\"scatter\"},{\"customdata\":[[\"the sunset is beautiful, but be sure to wear warm clothes because the temperature drops once the sun starts setting.\",\"'Sunset view'\"],[\"must visit place  stunning sunrise , and be advised to dress very warm.\",\"'Sunset view'\"],[\"breathtaking experiences the sunset and sunrise make sure you dress appropriately very very warm clothes\",\"'Sunset view'\"]],\"hovertemplate\":\"label=%{customdata[1]}\\u003cbr\\u003eclean_text=%{customdata[0]}\\u003cextra\\u003e\\u003c\\u002fextra\\u003e\",\"legendgroup\":\"1\",\"marker\":{\"color\":\"rgb(255,127,0)\",\"symbol\":\"circle\"},\"mode\":\"markers\",\"name\":\"'Sunset view'\",\"orientation\":\"v\",\"showlegend\":true,\"x\":[0.3100472688674927,0.3630196154117584,0.36944204568862915],\"xaxis\":\"x\",\"y\":[-0.4033762514591217,-0.17993369698524475,-0.27563515305519104],\"yaxis\":\"y\",\"type\":\"scatter\"},{\"customdata\":[[\"however, parking can be a severe problem, so you may have to drop passengers off before finding a space in one of the lower car parks.\",\"'Weather conditions'\"],[\"you don't want to drive all the way up there and be socked in with clouds.  \",\"'Weather conditions'\"],[\"wish the crater had more hot lava spewing on us\",\"'Weather conditions'\"],[\"it's windy and the cold blows right through to your bones\",\"'Weather conditions'\"],[\"silver sword....looks like it was spray painted....dont touch...\",\"'Weather conditions'\"],[\"i was here january 2021 and the waters were raging, so no swimming allowed.\",\"'Weather conditions'\"],[\"it was a long and winding road to get to this point, and taking the road to hana had it's challenges during covid as many bathroom locations were closed.\",\"'Weather conditions'\"]],\"hovertemplate\":\"label=%{customdata[1]}\\u003cbr\\u003eclean_text=%{customdata[0]}\\u003cextra\\u003e\\u003c\\u002fextra\\u003e\",\"legendgroup\":\"2\",\"marker\":{\"color\":\"rgb(228,26,28)\",\"symbol\":\"circle\"},\"mode\":\"markers\",\"name\":\"'Weather conditions'\",\"orientation\":\"v\",\"showlegend\":true,\"x\":[-0.24193285405635834,0.07911650836467743,0.36700141429901123,0.45652762055397034,0.24015077948570251,0.38954347372055054,-0.05039001628756523],\"xaxis\":\"x2\",\"y\":[0.39306211471557617,0.3841268718242645,0.026289131492376328,-0.018007120117545128,-0.6295329928398132,0.018806006759405136,0.37893787026405334],\"yaxis\":\"y2\",\"type\":\"scatter\"},{\"customdata\":[[\"book ahead, sold out in 23 minutes my first attempt (lost my spot while preparing my account).\",\"'High demand tickets'\"],[\"kinda wrong to charge kamaina really ridiculous!\",\"'High demand tickets'\"],[\"the tickets that cost bucks to get sell out in 90 seconds every day.\",\"'High demand tickets'\"]],\"hovertemplate\":\"label=%{customdata[1]}\\u003cbr\\u003eclean_text=%{customdata[0]}\\u003cextra\\u003e\\u003c\\u002fextra\\u003e\",\"legendgroup\":\"2\",\"marker\":{\"color\":\"rgb(55,126,184)\",\"symbol\":\"circle\"},\"mode\":\"markers\",\"name\":\"'High demand tickets'\",\"orientation\":\"v\",\"showlegend\":true,\"x\":[-0.3589715361595154,-0.37083178758621216,-0.5102136135101318],\"xaxis\":\"x2\",\"y\":[-0.2085193246603012,-0.17743262648582458,-0.16773009300231934],\"yaxis\":\"y2\",\"type\":\"scatter\"}],                        {\"template\":{\"data\":{\"histogram2dcontour\":[{\"type\":\"histogram2dcontour\",\"colorbar\":{\"outlinewidth\":0,\"ticks\":\"\"},\"colorscale\":[[0.0,\"#0d0887\"],[0.1111111111111111,\"#46039f\"],[0.2222222222222222,\"#7201a8\"],[0.3333333333333333,\"#9c179e\"],[0.4444444444444444,\"#bd3786\"],[0.5555555555555556,\"#d8576b\"],[0.6666666666666666,\"#ed7953\"],[0.7777777777777778,\"#fb9f3a\"],[0.8888888888888888,\"#fdca26\"],[1.0,\"#f0f921\"]]}],\"choropleth\":[{\"type\":\"choropleth\",\"colorbar\":{\"outlinewidth\":0,\"ticks\":\"\"}}],\"histogram2d\":[{\"type\":\"histogram2d\",\"colorbar\":{\"outlinewidth\":0,\"ticks\":\"\"},\"colorscale\":[[0.0,\"#0d0887\"],[0.1111111111111111,\"#46039f\"],[0.2222222222222222,\"#7201a8\"],[0.3333333333333333,\"#9c179e\"],[0.4444444444444444,\"#bd3786\"],[0.5555555555555556,\"#d8576b\"],[0.6666666666666666,\"#ed7953\"],[0.7777777777777778,\"#fb9f3a\"],[0.8888888888888888,\"#fdca26\"],[1.0,\"#f0f921\"]]}],\"heatmap\":[{\"type\":\"heatmap\",\"colorbar\":{\"outlinewidth\":0,\"ticks\":\"\"},\"colorscale\":[[0.0,\"#0d0887\"],[0.1111111111111111,\"#46039f\"],[0.2222222222222222,\"#7201a8\"],[0.3333333333333333,\"#9c179e\"],[0.4444444444444444,\"#bd3786\"],[0.5555555555555556,\"#d8576b\"],[0.6666666666666666,\"#ed7953\"],[0.7777777777777778,\"#fb9f3a\"],[0.8888888888888888,\"#fdca26\"],[1.0,\"#f0f921\"]]}],\"heatmapgl\":[{\"type\":\"heatmapgl\",\"colorbar\":{\"outlinewidth\":0,\"ticks\":\"\"},\"colorscale\":[[0.0,\"#0d0887\"],[0.1111111111111111,\"#46039f\"],[0.2222222222222222,\"#7201a8\"],[0.3333333333333333,\"#9c179e\"],[0.4444444444444444,\"#bd3786\"],[0.5555555555555556,\"#d8576b\"],[0.6666666666666666,\"#ed7953\"],[0.7777777777777778,\"#fb9f3a\"],[0.8888888888888888,\"#fdca26\"],[1.0,\"#f0f921\"]]}],\"contourcarpet\":[{\"type\":\"contourcarpet\",\"colorbar\":{\"outlinewidth\":0,\"ticks\":\"\"}}],\"contour\":[{\"type\":\"contour\",\"colorbar\":{\"outlinewidth\":0,\"ticks\":\"\"},\"colorscale\":[[0.0,\"#0d0887\"],[0.1111111111111111,\"#46039f\"],[0.2222222222222222,\"#7201a8\"],[0.3333333333333333,\"#9c179e\"],[0.4444444444444444,\"#bd3786\"],[0.5555555555555556,\"#d8576b\"],[0.6666666666666666,\"#ed7953\"],[0.7777777777777778,\"#fb9f3a\"],[0.8888888888888888,\"#fdca26\"],[1.0,\"#f0f921\"]]}],\"surface\":[{\"type\":\"surface\",\"colorbar\":{\"outlinewidth\":0,\"ticks\":\"\"},\"colorscale\":[[0.0,\"#0d0887\"],[0.1111111111111111,\"#46039f\"],[0.2222222222222222,\"#7201a8\"],[0.3333333333333333,\"#9c179e\"],[0.4444444444444444,\"#bd3786\"],[0.5555555555555556,\"#d8576b\"],[0.6666666666666666,\"#ed7953\"],[0.7777777777777778,\"#fb9f3a\"],[0.8888888888888888,\"#fdca26\"],[1.0,\"#f0f921\"]]}],\"mesh3d\":[{\"type\":\"mesh3d\",\"colorbar\":{\"outlinewidth\":0,\"ticks\":\"\"}}],\"scatter\":[{\"fillpattern\":{\"fillmode\":\"overlay\",\"size\":10,\"solidity\":0.2},\"type\":\"scatter\"}],\"parcoords\":[{\"type\":\"parcoords\",\"line\":{\"colorbar\":{\"outlinewidth\":0,\"ticks\":\"\"}}}],\"scatterpolargl\":[{\"type\":\"scatterpolargl\",\"marker\":{\"colorbar\":{\"outlinewidth\":0,\"ticks\":\"\"}}}],\"bar\":[{\"error_x\":{\"color\":\"#2a3f5f\"},\"error_y\":{\"color\":\"#2a3f5f\"},\"marker\":{\"line\":{\"color\":\"#E5ECF6\",\"width\":0.5},\"pattern\":{\"fillmode\":\"overlay\",\"size\":10,\"solidity\":0.2}},\"type\":\"bar\"}],\"scattergeo\":[{\"type\":\"scattergeo\",\"marker\":{\"colorbar\":{\"outlinewidth\":0,\"ticks\":\"\"}}}],\"scatterpolar\":[{\"type\":\"scatterpolar\",\"marker\":{\"colorbar\":{\"outlinewidth\":0,\"ticks\":\"\"}}}],\"histogram\":[{\"marker\":{\"pattern\":{\"fillmode\":\"overlay\",\"size\":10,\"solidity\":0.2}},\"type\":\"histogram\"}],\"scattergl\":[{\"type\":\"scattergl\",\"marker\":{\"colorbar\":{\"outlinewidth\":0,\"ticks\":\"\"}}}],\"scatter3d\":[{\"type\":\"scatter3d\",\"line\":{\"colorbar\":{\"outlinewidth\":0,\"ticks\":\"\"}},\"marker\":{\"colorbar\":{\"outlinewidth\":0,\"ticks\":\"\"}}}],\"scattermapbox\":[{\"type\":\"scattermapbox\",\"marker\":{\"colorbar\":{\"outlinewidth\":0,\"ticks\":\"\"}}}],\"scatterternary\":[{\"type\":\"scatterternary\",\"marker\":{\"colorbar\":{\"outlinewidth\":0,\"ticks\":\"\"}}}],\"scattercarpet\":[{\"type\":\"scattercarpet\",\"marker\":{\"colorbar\":{\"outlinewidth\":0,\"ticks\":\"\"}}}],\"carpet\":[{\"aaxis\":{\"endlinecolor\":\"#2a3f5f\",\"gridcolor\":\"white\",\"linecolor\":\"white\",\"minorgridcolor\":\"white\",\"startlinecolor\":\"#2a3f5f\"},\"baxis\":{\"endlinecolor\":\"#2a3f5f\",\"gridcolor\":\"white\",\"linecolor\":\"white\",\"minorgridcolor\":\"white\",\"startlinecolor\":\"#2a3f5f\"},\"type\":\"carpet\"}],\"table\":[{\"cells\":{\"fill\":{\"color\":\"#EBF0F8\"},\"line\":{\"color\":\"white\"}},\"header\":{\"fill\":{\"color\":\"#C8D4E3\"},\"line\":{\"color\":\"white\"}},\"type\":\"table\"}],\"barpolar\":[{\"marker\":{\"line\":{\"color\":\"#E5ECF6\",\"width\":0.5},\"pattern\":{\"fillmode\":\"overlay\",\"size\":10,\"solidity\":0.2}},\"type\":\"barpolar\"}],\"pie\":[{\"automargin\":true,\"type\":\"pie\"}]},\"layout\":{\"autotypenumbers\":\"strict\",\"colorway\":[\"#636efa\",\"#EF553B\",\"#00cc96\",\"#ab63fa\",\"#FFA15A\",\"#19d3f3\",\"#FF6692\",\"#B6E880\",\"#FF97FF\",\"#FECB52\"],\"font\":{\"color\":\"#2a3f5f\"},\"hovermode\":\"closest\",\"hoverlabel\":{\"align\":\"left\"},\"paper_bgcolor\":\"white\",\"plot_bgcolor\":\"#E5ECF6\",\"polar\":{\"bgcolor\":\"#E5ECF6\",\"angularaxis\":{\"gridcolor\":\"white\",\"linecolor\":\"white\",\"ticks\":\"\"},\"radialaxis\":{\"gridcolor\":\"white\",\"linecolor\":\"white\",\"ticks\":\"\"}},\"ternary\":{\"bgcolor\":\"#E5ECF6\",\"aaxis\":{\"gridcolor\":\"white\",\"linecolor\":\"white\",\"ticks\":\"\"},\"baxis\":{\"gridcolor\":\"white\",\"linecolor\":\"white\",\"ticks\":\"\"},\"caxis\":{\"gridcolor\":\"white\",\"linecolor\":\"white\",\"ticks\":\"\"}},\"coloraxis\":{\"colorbar\":{\"outlinewidth\":0,\"ticks\":\"\"}},\"colorscale\":{\"sequential\":[[0.0,\"#0d0887\"],[0.1111111111111111,\"#46039f\"],[0.2222222222222222,\"#7201a8\"],[0.3333333333333333,\"#9c179e\"],[0.4444444444444444,\"#bd3786\"],[0.5555555555555556,\"#d8576b\"],[0.6666666666666666,\"#ed7953\"],[0.7777777777777778,\"#fb9f3a\"],[0.8888888888888888,\"#fdca26\"],[1.0,\"#f0f921\"]],\"sequentialminus\":[[0.0,\"#0d0887\"],[0.1111111111111111,\"#46039f\"],[0.2222222222222222,\"#7201a8\"],[0.3333333333333333,\"#9c179e\"],[0.4444444444444444,\"#bd3786\"],[0.5555555555555556,\"#d8576b\"],[0.6666666666666666,\"#ed7953\"],[0.7777777777777778,\"#fb9f3a\"],[0.8888888888888888,\"#fdca26\"],[1.0,\"#f0f921\"]],\"diverging\":[[0,\"#8e0152\"],[0.1,\"#c51b7d\"],[0.2,\"#de77ae\"],[0.3,\"#f1b6da\"],[0.4,\"#fde0ef\"],[0.5,\"#f7f7f7\"],[0.6,\"#e6f5d0\"],[0.7,\"#b8e186\"],[0.8,\"#7fbc41\"],[0.9,\"#4d9221\"],[1,\"#276419\"]]},\"xaxis\":{\"gridcolor\":\"white\",\"linecolor\":\"white\",\"ticks\":\"\",\"title\":{\"standoff\":15},\"zerolinecolor\":\"white\",\"automargin\":true,\"zerolinewidth\":2},\"yaxis\":{\"gridcolor\":\"white\",\"linecolor\":\"white\",\"ticks\":\"\",\"title\":{\"standoff\":15},\"zerolinecolor\":\"white\",\"automargin\":true,\"zerolinewidth\":2},\"scene\":{\"xaxis\":{\"backgroundcolor\":\"#E5ECF6\",\"gridcolor\":\"white\",\"linecolor\":\"white\",\"showbackground\":true,\"ticks\":\"\",\"zerolinecolor\":\"white\",\"gridwidth\":2},\"yaxis\":{\"backgroundcolor\":\"#E5ECF6\",\"gridcolor\":\"white\",\"linecolor\":\"white\",\"showbackground\":true,\"ticks\":\"\",\"zerolinecolor\":\"white\",\"gridwidth\":2},\"zaxis\":{\"backgroundcolor\":\"#E5ECF6\",\"gridcolor\":\"white\",\"linecolor\":\"white\",\"showbackground\":true,\"ticks\":\"\",\"zerolinecolor\":\"white\",\"gridwidth\":2}},\"shapedefaults\":{\"line\":{\"color\":\"#2a3f5f\"}},\"annotationdefaults\":{\"arrowcolor\":\"#2a3f5f\",\"arrowhead\":0,\"arrowwidth\":1},\"geo\":{\"bgcolor\":\"white\",\"landcolor\":\"#E5ECF6\",\"subunitcolor\":\"white\",\"showland\":true,\"showlakes\":true,\"lakecolor\":\"white\"},\"title\":{\"x\":0.05},\"mapbox\":{\"style\":\"light\"}}},\"xaxis\":{\"anchor\":\"y\",\"domain\":[0.0,1.0]},\"yaxis\":{\"anchor\":\"x\",\"domain\":[0.625,1.0]},\"xaxis2\":{\"anchor\":\"y2\",\"domain\":[0.0,1.0]},\"yaxis2\":{\"anchor\":\"x2\",\"domain\":[0.0,0.375]},\"annotations\":[{\"font\":{\"size\":16},\"showarrow\":false,\"text\":\"Positive Reviews\",\"x\":0.5,\"xanchor\":\"center\",\"xref\":\"paper\",\"y\":1.0,\"yanchor\":\"bottom\",\"yref\":\"paper\"},{\"font\":{\"size\":16},\"showarrow\":false,\"text\":\"Negative Reviews\",\"x\":0.5,\"xanchor\":\"center\",\"xref\":\"paper\",\"y\":0.375,\"yanchor\":\"bottom\",\"yref\":\"paper\"}],\"legend\":{\"yanchor\":\"top\",\"y\":1.0,\"xanchor\":\"left\",\"x\":1.05,\"tracegroupgap\":150},\"height\":800,\"width\":1000,\"title\":{\"text\":\"Customer Review Clusters using Concatenated Word Vector\"}},                        {\"responsive\": true}                    ).then(function(){\n",
       "                            \n",
       "var gd = document.getElementById('e60e1df9-2b48-40cc-95b1-b63c1bdeafa6');\n",
       "var x = new MutationObserver(function (mutations, observer) {{\n",
       "        var display = window.getComputedStyle(gd).display;\n",
       "        if (!display || display === 'none') {{\n",
       "            console.log([gd, 'removed!']);\n",
       "            Plotly.purge(gd);\n",
       "            observer.disconnect();\n",
       "        }}\n",
       "}});\n",
       "\n",
       "// Listen for the removal of the full notebook cells\n",
       "var notebookContainer = gd.closest('#notebook-container');\n",
       "if (notebookContainer) {{\n",
       "    x.observe(notebookContainer, {childList: true});\n",
       "}}\n",
       "\n",
       "// Listen for the clearing of the current output cell\n",
       "var outputEl = gd.closest('.output');\n",
       "if (outputEl) {{\n",
       "    x.observe(outputEl, {childList: true});\n",
       "}}\n",
       "\n",
       "                        })                };                });            </script>        </div>"
      ]
     },
     "metadata": {},
     "output_type": "display_data"
    }
   ],
   "source": [
    "# Filter the dataset based on \"business_id\"\n",
    "selected_data = select_dataset(train_dataset, business_id, sentiment_model)\n",
    "print(f\"Business name: {selected_data['business_name'].unique()[0]}\\n\")\n",
    "\n",
    "# Get the word vector from the pretrained transformer model and word2vec model\n",
    "selected_data[\"w2v\"] = w2v_encoder.transform(selected_data[\"tokens\"])\n",
    "selected_data[\"tfm\"] = transformer_encoder.transform(selected_data[\"clean_text\"])\n",
    "selected_data[\"concat\"] = selected_data[[\"w2v\", \"tfm\"]].apply(\n",
    "                          lambda x: np.hstack([x[\"w2v\"], x[\"tfm\"]]), axis=1\n",
    "                      )\n",
    "\n",
    "# Normalize the concatenated vectors\n",
    "selected_data[\"concat\"] = selected_data[\"concat\"].apply(\n",
    "                          lambda v: v / np.linalg.norm(v))\n",
    "\n",
    "# Initialize evaluation results\n",
    "evaluation = []\n",
    "\n",
    "# Initialize subplots\n",
    "fig = make_subplots(rows=2, cols=1, \n",
    "                    subplot_titles=[\"Positive Reviews\", \"Negative Reviews\"])\n",
    "\n",
    "for i, sentiment in enumerate([\"positive\", \"negative\"], start=1):\n",
    "\n",
    "    # Prepare data for clustering by filtering it based on the sentiment\n",
    "    X = selected_data[selected_data[\"sentiment\"] == sentiment].copy()\n",
    "    X_ = np.vstack(X[\"concat\"].values)\n",
    "    print(f\"Number of {sentiment} reviews: {len(X)}\")\n",
    "\n",
    "    # Clustering\n",
    "    clust = HDBSCANClustering(apply_dim_reduction=True)\n",
    "    X[\"label\"] = clust.fit_transform(X_)\n",
    "\n",
    "    # Evaluation\n",
    "    evaluation.append(evaluate_cluster(X_, X[\"label\"], sentiment))\n",
    "\n",
    "    # Clusters' topic extraction\n",
    "    cluster_text = get_cluster_centroids(X, \"concat\", \"label\", n=2)\n",
    "    cluster_label = {}\n",
    "    for key in cluster_text:\n",
    "        cluster_label[key] = name_cluster(\"\\n\".join(cluster_text[key]))\n",
    "    \n",
    "    # Fill label as \"Other\" for reviews considered as noise by HDBSCAN\n",
    "    X[\"label\"] = X[\"label\"].map(cluster_label).fillna(\"Other\")\n",
    "\n",
    "    # Visualization\n",
    "    visualize_cluster(fig, X, \"concat\", \"label\",\n",
    "                      row=i, sentiment=sentiment, show_outliers=False)\n",
    "\n",
    "    print()\n",
    "\n",
    "fig.update_layout(\n",
    "    height=800,\n",
    "    width=1000,\n",
    "    title=\"Customer Review Clusters using Concatenated Word Vector\",\n",
    "    legend=dict(\n",
    "        yanchor=\"top\",\n",
    "        y=1.0,\n",
    "        xanchor=\"left\",\n",
    "        x=1.05,\n",
    "        tracegroupgap=150\n",
    "    )\n",
    ")\n",
    "fig.show()"
   ]
  },
  {
   "cell_type": "markdown",
   "id": "bvfa9rd1eueO",
   "metadata": {
    "id": "bvfa9rd1eueO"
   },
   "source": [
    "![concat](https://github.com/fandayp/exploratory_projects/blob/main/img/wv_cat.png?raw=true)"
   ]
  },
  {
   "cell_type": "code",
   "execution_count": 112,
   "id": "918d9e4b-c994-4e52-9b27-297bd659a33b",
   "metadata": {
    "colab": {
     "base_uri": "https://localhost:8080/",
     "height": 143
    },
    "executionInfo": {
     "elapsed": 16,
     "status": "ok",
     "timestamp": 1731915528458,
     "user": {
      "displayName": "",
      "userId": ""
     },
     "user_tz": -420
    },
    "id": "lz-vkAwK1Gnd",
    "outputId": "4a215dd2-6a4e-4650-82b8-69930e4e00d5",
    "tags": []
   },
   "outputs": [
    {
     "data": {
      "text/html": [
       "<div>\n",
       "<style scoped>\n",
       "    .dataframe tbody tr th:only-of-type {\n",
       "        vertical-align: middle;\n",
       "    }\n",
       "\n",
       "    .dataframe tbody tr th {\n",
       "        vertical-align: top;\n",
       "    }\n",
       "\n",
       "    .dataframe thead th {\n",
       "        text-align: right;\n",
       "    }\n",
       "</style>\n",
       "<table border=\"1\" class=\"dataframe\">\n",
       "  <thead>\n",
       "    <tr style=\"text-align: right;\">\n",
       "      <th></th>\n",
       "      <th>Positive Reviews</th>\n",
       "      <th>Negative Reviews</th>\n",
       "    </tr>\n",
       "  </thead>\n",
       "  <tbody>\n",
       "    <tr>\n",
       "      <th>silhouette_score</th>\n",
       "      <td>0.030193</td>\n",
       "      <td>0.055074</td>\n",
       "    </tr>\n",
       "    <tr>\n",
       "      <th>davies_bouldin_score</th>\n",
       "      <td>1.959363</td>\n",
       "      <td>1.866525</td>\n",
       "    </tr>\n",
       "    <tr>\n",
       "      <th>calinski_harabasz_score</th>\n",
       "      <td>2.415373</td>\n",
       "      <td>1.483818</td>\n",
       "    </tr>\n",
       "  </tbody>\n",
       "</table>\n",
       "</div>"
      ],
      "text/plain": [
       "                         Positive Reviews  Negative Reviews\n",
       "silhouette_score                 0.030193          0.055074\n",
       "davies_bouldin_score             1.959363          1.866525\n",
       "calinski_harabasz_score          2.415373          1.483818"
      ]
     },
     "execution_count": 112,
     "metadata": {},
     "output_type": "execute_result"
    }
   ],
   "source": [
    "# Evaluation\n",
    "concat_eval = pd.concat(evaluation, axis=1)\n",
    "concat_eval"
   ]
  },
  {
   "cell_type": "code",
   "execution_count": 113,
   "id": "4767af80-48fe-47c4-ada5-e18213d32018",
   "metadata": {
    "tags": []
   },
   "outputs": [
    {
     "data": {
      "text/html": [
       "<div>\n",
       "<style scoped>\n",
       "    .dataframe tbody tr th:only-of-type {\n",
       "        vertical-align: middle;\n",
       "    }\n",
       "\n",
       "    .dataframe tbody tr th {\n",
       "        vertical-align: top;\n",
       "    }\n",
       "\n",
       "    .dataframe thead th {\n",
       "        text-align: right;\n",
       "    }\n",
       "</style>\n",
       "<table border=\"1\" class=\"dataframe\">\n",
       "  <thead>\n",
       "    <tr style=\"text-align: right;\">\n",
       "      <th></th>\n",
       "      <th>Positive Reviews</th>\n",
       "      <th>Negative Reviews</th>\n",
       "    </tr>\n",
       "  </thead>\n",
       "  <tbody>\n",
       "    <tr>\n",
       "      <th>silhouette_score</th>\n",
       "      <td>0.042847</td>\n",
       "      <td>0.026767</td>\n",
       "    </tr>\n",
       "    <tr>\n",
       "      <th>davies_bouldin_score</th>\n",
       "      <td>2.047620</td>\n",
       "      <td>1.513416</td>\n",
       "    </tr>\n",
       "    <tr>\n",
       "      <th>calinski_harabasz_score</th>\n",
       "      <td>2.201999</td>\n",
       "      <td>1.267612</td>\n",
       "    </tr>\n",
       "  </tbody>\n",
       "</table>\n",
       "</div>"
      ],
      "text/plain": [
       "                         Positive Reviews  Negative Reviews\n",
       "silhouette_score                 0.042847          0.026767\n",
       "davies_bouldin_score             2.047620          1.513416\n",
       "calinski_harabasz_score          2.201999          1.267612"
      ]
     },
     "execution_count": 113,
     "metadata": {},
     "output_type": "execute_result"
    }
   ],
   "source": [
    "tfm_eval"
   ]
  },
  {
   "cell_type": "code",
   "execution_count": 114,
   "id": "87fc9e25-b5ab-4618-b1e1-800d5a40127c",
   "metadata": {
    "tags": []
   },
   "outputs": [
    {
     "data": {
      "text/html": [
       "<div>\n",
       "<style scoped>\n",
       "    .dataframe tbody tr th:only-of-type {\n",
       "        vertical-align: middle;\n",
       "    }\n",
       "\n",
       "    .dataframe tbody tr th {\n",
       "        vertical-align: top;\n",
       "    }\n",
       "\n",
       "    .dataframe thead th {\n",
       "        text-align: right;\n",
       "    }\n",
       "</style>\n",
       "<table border=\"1\" class=\"dataframe\">\n",
       "  <thead>\n",
       "    <tr style=\"text-align: right;\">\n",
       "      <th></th>\n",
       "      <th>Positive Reviews</th>\n",
       "      <th>Negative Reviews</th>\n",
       "    </tr>\n",
       "  </thead>\n",
       "  <tbody>\n",
       "    <tr>\n",
       "      <th>silhouette_score</th>\n",
       "      <td>0.044464</td>\n",
       "      <td>0.120030</td>\n",
       "    </tr>\n",
       "    <tr>\n",
       "      <th>davies_bouldin_score</th>\n",
       "      <td>1.302124</td>\n",
       "      <td>1.328076</td>\n",
       "    </tr>\n",
       "    <tr>\n",
       "      <th>calinski_harabasz_score</th>\n",
       "      <td>7.526245</td>\n",
       "      <td>4.203363</td>\n",
       "    </tr>\n",
       "  </tbody>\n",
       "</table>\n",
       "</div>"
      ],
      "text/plain": [
       "                         Positive Reviews  Negative Reviews\n",
       "silhouette_score                 0.044464          0.120030\n",
       "davies_bouldin_score             1.302124          1.328076\n",
       "calinski_harabasz_score          7.526245          4.203363"
      ]
     },
     "execution_count": 114,
     "metadata": {},
     "output_type": "execute_result"
    }
   ],
   "source": [
    "w2v_eval"
   ]
  },
  {
   "cell_type": "markdown",
   "id": "NQQMagIWpXxZ",
   "metadata": {
    "id": "NQQMagIWpXxZ"
   },
   "source": [
    "The result of vector concatenation performed worse than using either the Word2Vec or Transformer model individually. There may be discrepancies in the statistical properties of the word vectors, which, concatenation (and vector normalization) significantly decrease the overall performance. But at least it decreases the outliers count.\n",
    "\n",
    "Since the Word2Vec model trained on our own dataset outperforms the Transformer model, it may be worthwhile to try fine-tuning the `SentenceTransformer` model using our review dataset.\n",
    "\n",
    "Given that this is a clustering task without explicit labels, we can fine-tune the Transformer model using the masked language modeling (MLM) approach. Once the training is complete, we can wrap the model in the `SentenceTransformer` framework to generate sentence-level embeddings."
   ]
  },
  {
   "cell_type": "markdown",
   "id": "bIBgqyRiqJhp",
   "metadata": {
    "id": "bIBgqyRiqJhp"
   },
   "source": [
    "# `SentenceTransformer` Model Fine-tuning"
   ]
  },
  {
   "cell_type": "markdown",
   "id": "u3uoXkgEhjlT",
   "metadata": {
    "id": "u3uoXkgEhjlT"
   },
   "source": [
    "## Dataset preparation"
   ]
  },
  {
   "cell_type": "markdown",
   "id": "FKoY_cyAW_S8",
   "metadata": {
    "id": "FKoY_cyAW_S8"
   },
   "source": [
    "We followed the whole fine-tuning process from the [tutorial here](https://huggingface.co/learn/nlp-course/chapter7/3)."
   ]
  },
  {
   "cell_type": "code",
   "execution_count": 69,
   "id": "FvzOSw6eq0jy",
   "metadata": {
    "id": "FvzOSw6eq0jy",
    "tags": []
   },
   "outputs": [],
   "source": [
    "from transformers import AutoTokenizer, AutoModelForMaskedLM, AutoModel\n",
    "from transformers import DataCollatorForLanguageModeling\n",
    "from transformers import TrainingArguments, Trainer\n",
    "from datasets import Dataset\n",
    "\n",
    "from torch.utils.data import DataLoader\n",
    "\n",
    "import random\n",
    "import os"
   ]
  },
  {
   "cell_type": "code",
   "execution_count": 70,
   "id": "2daeea78-40b9-4032-9e8c-7cc29064133c",
   "metadata": {
    "colab": {
     "base_uri": "https://localhost:8080/"
    },
    "executionInfo": {
     "elapsed": 7,
     "status": "ok",
     "timestamp": 1731937607915,
     "user": {
      "displayName": "",
      "userId": ""
     },
     "user_tz": -420
    },
    "id": "OzH7AGK6rEE5",
    "outputId": "5045d910-cb87-4ce3-f6a2-f1e80adc2f23",
    "tags": []
   },
   "outputs": [
    {
     "name": "stderr",
     "output_type": "stream",
     "text": [
      "Some weights of BertForMaskedLM were not initialized from the model checkpoint at sentence-transformers/all-MiniLM-L6-v2 and are newly initialized: ['cls.predictions.bias', 'cls.predictions.decoder.bias', 'cls.predictions.transform.LayerNorm.bias', 'cls.predictions.transform.LayerNorm.weight', 'cls.predictions.transform.dense.bias', 'cls.predictions.transform.dense.weight']\n",
      "You should probably TRAIN this model on a down-stream task to be able to use it for predictions and inference.\n"
     ]
    },
    {
     "name": "stdout",
     "output_type": "stream",
     "text": [
      "\n",
      "Model's number of parameters is 22M\n"
     ]
    },
    {
     "name": "stderr",
     "output_type": "stream",
     "text": [
      "/opt/conda/lib/python3.10/site-packages/transformers/tokenization_utils_base.py:1601: FutureWarning:\n",
      "\n",
      "`clean_up_tokenization_spaces` was not set. It will be set to `True` by default. This behavior will be depracted in transformers v4.45, and will be then set to `False` by default. For more details check this issue: https://github.com/huggingface/transformers/issues/31884\n",
      "\n"
     ]
    }
   ],
   "source": [
    "model_checkpoint = \"sentence-transformers/all-MiniLM-L6-v2\"\n",
    "\n",
    "transformer_base_model = AutoModelForMaskedLM.from_pretrained(model_checkpoint)\n",
    "n_params = transformer_base_model.num_parameters() // 1_000_000\n",
    "\n",
    "tokenizer = AutoTokenizer.from_pretrained(model_checkpoint)\n",
    "os.environ[\"TOKENIZERS_PARALLELISM\"] = \"false\"\n",
    "\n",
    "print(f\"\\nModel's number of parameters is {n_params}M\")"
   ]
  },
  {
   "cell_type": "code",
   "execution_count": 71,
   "id": "yIzj7ObyRdGJ",
   "metadata": {
    "colab": {
     "base_uri": "https://localhost:8080/"
    },
    "executionInfo": {
     "elapsed": 6,
     "status": "ok",
     "timestamp": 1731936723942,
     "user": {
      "displayName": "",
      "userId": ""
     },
     "user_tz": -420
    },
    "id": "yIzj7ObyRdGJ",
    "outputId": "5f029f91-cdb3-40ae-96fd-0c94074e2d97"
   },
   "outputs": [],
   "source": [
    "# \"\"\" NOTE: This section is just for sanity check \"\"\"\n",
    "\n",
    "# import torch\n",
    "\n",
    "# text = \"This is a great [MASK].\"\n",
    "\n",
    "# inputs = tokenizer(text, return_tensors=\"pt\")\n",
    "# token_logits = transformer_base_model(**inputs).logits\n",
    "# # torch.Size([1, 8, 30522])\n",
    "\n",
    "# print(\"mask_token_id\", tokenizer.mask_token_id)\n",
    "# for key in inputs:\n",
    "#     print(\"\\t\", key, inputs[key])\n",
    "# print()\n",
    "\n",
    "# # Find the location of [MASK] and extract its logits\n",
    "# mask_token_index = torch.where(inputs[\"input_ids\"] == tokenizer.mask_token_id)[1]\n",
    "# mask_token_logits = token_logits[0, mask_token_index, :]\n",
    "\n",
    "# # Pick the [MASK] candidates with the highest logits\n",
    "# top_5_tokens = torch.topk(mask_token_logits, 5, dim=1).indices[0].tolist()\n",
    "\n",
    "# for token in top_5_tokens:\n",
    "#     print(f\"'>>> {text.replace(tokenizer.mask_token, tokenizer.decode([token]))}'\")"
   ]
  },
  {
   "cell_type": "markdown",
   "id": "SWA1YPTgWRHc",
   "metadata": {
    "id": "SWA1YPTgWRHc"
   },
   "source": [
    "Following a common preprocessing step in training masked language model, we concatenate all the examples and then split the whole corpus into chunks of equal size.\n",
    "\n",
    "Note that the average number of tokens in our review sentences is 16 tokens. Hence, we will define the chunk size as 16 tokens."
   ]
  },
  {
   "cell_type": "code",
   "execution_count": 72,
   "id": "-eIl5DuErg6X",
   "metadata": {
    "id": "-eIl5DuErg6X"
   },
   "outputs": [],
   "source": [
    "# Mask the dataset\n",
    "def tokenize_function(examples):\n",
    "    \"\"\" Tokenize sentences \"\"\"\n",
    "\n",
    "    # Encode text\n",
    "    result = tokenizer(examples[\"text\"])\n",
    "\n",
    "    return result\n",
    "\n",
    "def group_texts(examples):\n",
    "    \"\"\" Concatenate tokens and divide them into smaller chunks \"\"\"\n",
    "\n",
    "    chunk_size = 16\n",
    "\n",
    "    # Concatenate all texts\n",
    "    concatenated_examples = {k: sum(examples[k], []) for k in examples.keys()}\n",
    "\n",
    "    # Compute length of concatenated texts\n",
    "    total_length = len(concatenated_examples[list(examples.keys())[0]])\n",
    "\n",
    "    # Drop the last chunk if it's smaller than chunk_size\n",
    "    total_length = (total_length // chunk_size) * chunk_size\n",
    "\n",
    "    # Split by chunks of max_len\n",
    "    result = {\n",
    "        k: [t[i : i + chunk_size] for i in range(0, total_length, chunk_size)]\n",
    "        for k, t in concatenated_examples.items()\n",
    "    }\n",
    "\n",
    "    # Create a new labels column\n",
    "    result[\"labels\"] = result[\"input_ids\"].copy()\n",
    "\n",
    "    return result"
   ]
  },
  {
   "cell_type": "code",
   "execution_count": 73,
   "id": "Zs7Rb4-lsrvo",
   "metadata": {
    "colab": {
     "base_uri": "https://localhost:8080/",
     "height": 150,
     "referenced_widgets": [
      "270d04e5de2a4d7f955ef6dc62529f6c",
      "6d93d68bbf1a4483b65b6bc8a65549fa",
      "4f09beb4e96142e8882fb4b86395cfd2",
      "58f3ed776b6e4c508fe41a092f17413c",
      "6bb4aeca6ad74a1d998ec76b65dc9a87",
      "e307e1411cab401bbf447d94ad7f5997",
      "0d1d9394f8984f5a907197e49689191b",
      "3460218d080c4de6956c0dd95d43015a",
      "509955355f304c629cf8ebc2b4943712",
      "5ef7a57ca5f14f0c8ea0f0bf0fc3604d",
      "a4aee213cbdc4c40bdae7f5c4cca1f4a",
      "4d8c3ec8248a461abf5b599b7860fd09",
      "6c8dac7a72eb44cabdb3216befbf77a3",
      "f557691ee375494389318cc00c41573c",
      "deb69b48493c4e55a6fafa6c181ed65e",
      "171b00b5a4904b3abba9c9b3b93f3946",
      "4d050b06d1984e5bba83201ce0675563",
      "53e6706c8b8849a0984701ec83f28b25",
      "819d212c215840f2a2f62cf8c4f0e64a",
      "202bf3182b3b40099cd748b7eb344ae2",
      "aa080b3cf6b141b890a2ae34651776f3",
      "aa2882c665014530a4d98569a507ecf7"
     ]
    },
    "executionInfo": {
     "elapsed": 82095,
     "status": "ok",
     "timestamp": 1731938597450,
     "user": {
      "displayName": "",
      "userId": ""
     },
     "user_tz": -420
    },
    "id": "Zs7Rb4-lsrvo",
    "outputId": "242f5540-ceb5-434e-ac7a-06113d9ec129"
   },
   "outputs": [
    {
     "data": {
      "application/vnd.jupyter.widget-view+json": {
       "model_id": "5ce3f1fdace84ea59131a0185e8aeeea",
       "version_major": 2,
       "version_minor": 0
      },
      "text/plain": [
       "Map:   0%|          | 0/229781 [00:00<?, ? examples/s]"
      ]
     },
     "metadata": {},
     "output_type": "display_data"
    },
    {
     "data": {
      "application/vnd.jupyter.widget-view+json": {
       "model_id": "28a790688502456bb57dae0bf9a98dee",
       "version_major": 2,
       "version_minor": 0
      },
      "text/plain": [
       "Map:   0%|          | 0/229781 [00:00<?, ? examples/s]"
      ]
     },
     "metadata": {},
     "output_type": "display_data"
    },
    {
     "data": {
      "text/plain": [
       "Dataset({\n",
       "    features: ['input_ids', 'token_type_ids', 'attention_mask', 'labels'],\n",
       "    num_rows: 304734\n",
       "})"
      ]
     },
     "execution_count": 73,
     "metadata": {},
     "output_type": "execute_result"
    }
   ],
   "source": [
    "train_text = train_dataset[\"clean_text\"].values\n",
    "review_dataset = Dataset.from_dict({\"text\": train_text})\n",
    "\n",
    "# Tokenize\n",
    "tokenized_datasets = review_dataset.map(\n",
    "    tokenize_function, batched=True, remove_columns=[\"text\"]\n",
    ")\n",
    "\n",
    "# Concat and divide into chunks\n",
    "lm_datasets = tokenized_datasets.map(group_texts, batched=True)\n",
    "\n",
    "lm_datasets"
   ]
  },
  {
   "cell_type": "markdown",
   "id": "-T3OcgZwlIsP",
   "metadata": {
    "id": "-T3OcgZwlIsP"
   },
   "source": [
    "Notice that our dataset rows grow to around 300k sentences."
   ]
  },
  {
   "cell_type": "markdown",
   "id": "OlV8inq1lj8S",
   "metadata": {
    "id": "OlV8inq1lj8S"
   },
   "source": [
    "Next, we randomly replace words with `[MASK]`."
   ]
  },
  {
   "cell_type": "code",
   "execution_count": 74,
   "id": "DKE6dTrMYqEJ",
   "metadata": {
    "id": "DKE6dTrMYqEJ"
   },
   "outputs": [],
   "source": [
    "# 15% fraction of tokens to mask the amount used for BERT and a common choice in the literature\n",
    "data_collator = DataCollatorForLanguageModeling(tokenizer=tokenizer, mlm_probability=0.15)"
   ]
  },
  {
   "cell_type": "code",
   "execution_count": 75,
   "id": "r2tq1Danz-Vs",
   "metadata": {
    "colab": {
     "base_uri": "https://localhost:8080/"
    },
    "executionInfo": {
     "elapsed": 6,
     "status": "ok",
     "timestamp": 1731937936221,
     "user": {
      "displayName": "",
      "userId": ""
     },
     "user_tz": -420
    },
    "id": "r2tq1Danz-Vs",
    "outputId": "678cfc85-679c-4e39-b21e-07e0dc14947a",
    "tags": []
   },
   "outputs": [
    {
     "name": "stdout",
     "output_type": "stream",
     "text": [
      "\n",
      "'>>> [CLS] sometimes [MASK] road to the pond is flooded so [MASK] have to balance on concrete'\n",
      "\n",
      "'>>> blocks it was like an adventure! [SEP] [CLS] i recommend [MASK] place for tourists and'\n"
     ]
    }
   ],
   "source": [
    "samples = [lm_datasets[i] for i in range(2)]\n",
    "\n",
    "for chunk in data_collator(samples)[\"input_ids\"]:\n",
    "    print(f\"\\n'>>> {tokenizer.decode(chunk)}'\")"
   ]
  },
  {
   "cell_type": "code",
   "execution_count": 76,
   "id": "9PNMRc4AjpQc",
   "metadata": {
    "colab": {
     "base_uri": "https://localhost:8080/"
    },
    "executionInfo": {
     "elapsed": 8,
     "status": "ok",
     "timestamp": 1731938758086,
     "user": {
      "displayName": "",
      "userId": ""
     },
     "user_tz": -420
    },
    "id": "9PNMRc4AjpQc",
    "outputId": "8b16d145-3b24-4989-8cb3-00b3574bfad6",
    "tags": []
   },
   "outputs": [
    {
     "data": {
      "text/plain": [
       "DatasetDict({\n",
       "    train: Dataset({\n",
       "        features: ['input_ids', 'token_type_ids', 'attention_mask', 'labels'],\n",
       "        num_rows: 274260\n",
       "    })\n",
       "    test: Dataset({\n",
       "        features: ['input_ids', 'token_type_ids', 'attention_mask', 'labels'],\n",
       "        num_rows: 30473\n",
       "    })\n",
       "})"
      ]
     },
     "execution_count": 76,
     "metadata": {},
     "output_type": "execute_result"
    }
   ],
   "source": [
    "train_size = int(0.9 * len(lm_datasets))\n",
    "test_size = int(0.1 * len(lm_datasets))\n",
    "\n",
    "finetuning_dataset = lm_datasets.train_test_split(\n",
    "    train_size=train_size, test_size=test_size, seed=2024\n",
    ")\n",
    "finetuning_dataset"
   ]
  },
  {
   "cell_type": "code",
   "execution_count": 77,
   "id": "c561afbe-b66c-41b3-b27f-3d337c814dee",
   "metadata": {
    "tags": []
   },
   "outputs": [],
   "source": [
    "batch_size = 64\n",
    "\n",
    "train_dataloader = DataLoader(\n",
    "    finetuning_dataset[\"train\"],\n",
    "    shuffle=True,\n",
    "    batch_size=batch_size,\n",
    "    collate_fn=data_collator\n",
    ")\n",
    "\n",
    "val_dataloader = DataLoader(\n",
    "    finetuning_dataset[\"test\"], \n",
    "    batch_size=batch_size, \n",
    "    collate_fn=data_collator,\n",
    "    drop_last=True\n",
    ")"
   ]
  },
  {
   "cell_type": "markdown",
   "id": "rmsoLwhzjWTf",
   "metadata": {
    "id": "rmsoLwhzjWTf"
   },
   "source": [
    "## Fine-tuning"
   ]
  },
  {
   "cell_type": "code",
   "execution_count": 78,
   "id": "c6c3e25e-cbba-4292-8867-d0b32ccd79b4",
   "metadata": {
    "tags": []
   },
   "outputs": [],
   "source": [
    "from torch.optim import AdamW\n",
    "from accelerate import Accelerator\n",
    "from transformers import get_scheduler\n",
    "from tqdm.auto import tqdm\n",
    "\n",
    "from sentence_transformers import SentenceTransformer, models\n",
    "\n",
    "import torch\n",
    "import math"
   ]
  },
  {
   "cell_type": "code",
   "execution_count": 79,
   "id": "e5d59e34-4687-4966-a719-652f0dac8823",
   "metadata": {
    "id": "vO2rzsIdqIwa",
    "tags": []
   },
   "outputs": [],
   "source": [
    "class TransformerFineTune(BaseEstimator, TransformerMixin):\n",
    "\n",
    "    def __init__(self,\n",
    "                 model,\n",
    "                 tokenizer,\n",
    "                 lr=1e-5,\n",
    "                 num_train_epochs=3,\n",
    "                 num_update_steps_per_epoch=1000):\n",
    "        \n",
    "        self.tokenizer = tokenizer\n",
    "        \n",
    "        self.epochs = num_train_epochs\n",
    "        self.lr = lr\n",
    "        \n",
    "        self.model = model\n",
    "        self.optimizer = AdamW(model.parameters(), lr=lr)\n",
    "        \n",
    "        self.accelerator = Accelerator()\n",
    "        \n",
    "        self.num_train_epochs = num_train_epochs\n",
    "        self.num_update_steps_per_epoch = num_update_steps_per_epoch\n",
    "        self.num_training_steps = num_train_epochs * num_update_steps_per_epoch\n",
    "\n",
    "        self.lr_scheduler = get_scheduler(\n",
    "            \"linear\",\n",
    "            optimizer=self.optimizer,\n",
    "            num_warmup_steps=0,\n",
    "            num_training_steps=self.num_training_steps,\n",
    "        )\n",
    "        \n",
    "        self.output_dir = \"./fine-tuned\"\n",
    "        \n",
    "    def fit(self, train_dataloader, eval_dataloader):\n",
    "        \n",
    "        model, optimizer, train_dataloader, eval_dataloader = self.accelerator.prepare(\n",
    "            self.model, self.optimizer, train_dataloader, eval_dataloader\n",
    "        )\n",
    "\n",
    "        progress_bar = tqdm(range(self.num_training_steps))\n",
    "\n",
    "        for epoch in range(self.num_train_epochs):\n",
    "            model.train()\n",
    "            for batch in train_dataloader:\n",
    "                \n",
    "                outputs = model(**batch)\n",
    "                loss = outputs.loss\n",
    "                self.accelerator.backward(loss)\n",
    "\n",
    "                optimizer.step()\n",
    "                self.lr_scheduler.step()\n",
    "                optimizer.zero_grad()\n",
    "                \n",
    "                progress_bar.update(1)\n",
    "\n",
    "            model.eval()\n",
    "            losses = []\n",
    "            for step, batch in enumerate(eval_dataloader):\n",
    "                with torch.no_grad():\n",
    "                    outputs = model(**batch)\n",
    "\n",
    "                loss = outputs.loss\n",
    "                losses.append(self.accelerator.gather(loss.repeat(batch_size)))\n",
    "\n",
    "            losses = torch.cat(losses)\n",
    "            try:\n",
    "                perplexity = math.exp(torch.mean(losses))\n",
    "            except OverflowError:\n",
    "                perplexity = float(\"inf\")\n",
    "\n",
    "            print(f\">>> Epoch {epoch}: Perplexity: {perplexity}\")\n",
    "\n",
    "            # Save\n",
    "            self.accelerator.wait_for_everyone()\n",
    "            unwrapped_model = self.accelerator.unwrap_model(model)\n",
    "            unwrapped_model.save_pretrained(self.output_dir, \n",
    "                                            save_function=self.accelerator.save)\n",
    "            if self.accelerator.is_main_process:\n",
    "                self.tokenizer.save_pretrained(self.output_dir)\n",
    "        \n",
    "        fine_tuned_model = models.Transformer(self.output_dir, \n",
    "                                              tokenizer_name_or_path=self.output_dir)\n",
    "        \n",
    "        pooling_model = models.Pooling(fine_tuned_model.get_word_embedding_dimension(), \n",
    "                                       pooling_mode_mean_tokens=True,\n",
    "                                       pooling_mode_cls_token=False,\n",
    "                                       pooling_mode_max_tokens=False)\n",
    "\n",
    "        self.model = SentenceTransformer(modules=[fine_tuned_model, pooling_model])\n",
    "        return self\n",
    "\n",
    "    def transform(self, X):\n",
    "        \"\"\" Transform the data using the transformer model. \"\"\"\n",
    "\n",
    "        # We use the unit vector of the word embedding (magnitude=1)\n",
    "        wv = X.apply(lambda x: self.model.encode(x, normalize_embeddings=True))\n",
    "        return wv"
   ]
  },
  {
   "cell_type": "code",
   "execution_count": 80,
   "id": "Ly6SZbIByJhq",
   "metadata": {
    "id": "Ly6SZbIByJhq"
   },
   "outputs": [
    {
     "data": {
      "application/vnd.jupyter.widget-view+json": {
       "model_id": "455ff8b985294919802c2d467d7ebf79",
       "version_major": 2,
       "version_minor": 0
      },
      "text/plain": [
       "  0%|          | 0/8572 [00:00<?, ?it/s]"
      ]
     },
     "metadata": {},
     "output_type": "display_data"
    },
    {
     "name": "stdout",
     "output_type": "stream",
     "text": [
      ">>> Epoch 0: Perplexity: 44.52650555972225\n",
      ">>> Epoch 1: Perplexity: 37.90721156246386\n"
     ]
    },
    {
     "name": "stderr",
     "output_type": "stream",
     "text": [
      "Some weights of BertModel were not initialized from the model checkpoint at ./fine-tuned and are newly initialized: ['bert.pooler.dense.bias', 'bert.pooler.dense.weight']\n",
      "You should probably TRAIN this model on a down-stream task to be able to use it for predictions and inference.\n"
     ]
    },
    {
     "data": {
      "text/html": [
       "<style>#sk-container-id-2 {\n",
       "  /* Definition of color scheme common for light and dark mode */\n",
       "  --sklearn-color-text: black;\n",
       "  --sklearn-color-line: gray;\n",
       "  /* Definition of color scheme for unfitted estimators */\n",
       "  --sklearn-color-unfitted-level-0: #fff5e6;\n",
       "  --sklearn-color-unfitted-level-1: #f6e4d2;\n",
       "  --sklearn-color-unfitted-level-2: #ffe0b3;\n",
       "  --sklearn-color-unfitted-level-3: chocolate;\n",
       "  /* Definition of color scheme for fitted estimators */\n",
       "  --sklearn-color-fitted-level-0: #f0f8ff;\n",
       "  --sklearn-color-fitted-level-1: #d4ebff;\n",
       "  --sklearn-color-fitted-level-2: #b3dbfd;\n",
       "  --sklearn-color-fitted-level-3: cornflowerblue;\n",
       "\n",
       "  /* Specific color for light theme */\n",
       "  --sklearn-color-text-on-default-background: var(--sg-text-color, var(--theme-code-foreground, var(--jp-content-font-color1, black)));\n",
       "  --sklearn-color-background: var(--sg-background-color, var(--theme-background, var(--jp-layout-color0, white)));\n",
       "  --sklearn-color-border-box: var(--sg-text-color, var(--theme-code-foreground, var(--jp-content-font-color1, black)));\n",
       "  --sklearn-color-icon: #696969;\n",
       "\n",
       "  @media (prefers-color-scheme: dark) {\n",
       "    /* Redefinition of color scheme for dark theme */\n",
       "    --sklearn-color-text-on-default-background: var(--sg-text-color, var(--theme-code-foreground, var(--jp-content-font-color1, white)));\n",
       "    --sklearn-color-background: var(--sg-background-color, var(--theme-background, var(--jp-layout-color0, #111)));\n",
       "    --sklearn-color-border-box: var(--sg-text-color, var(--theme-code-foreground, var(--jp-content-font-color1, white)));\n",
       "    --sklearn-color-icon: #878787;\n",
       "  }\n",
       "}\n",
       "\n",
       "#sk-container-id-2 {\n",
       "  color: var(--sklearn-color-text);\n",
       "}\n",
       "\n",
       "#sk-container-id-2 pre {\n",
       "  padding: 0;\n",
       "}\n",
       "\n",
       "#sk-container-id-2 input.sk-hidden--visually {\n",
       "  border: 0;\n",
       "  clip: rect(1px 1px 1px 1px);\n",
       "  clip: rect(1px, 1px, 1px, 1px);\n",
       "  height: 1px;\n",
       "  margin: -1px;\n",
       "  overflow: hidden;\n",
       "  padding: 0;\n",
       "  position: absolute;\n",
       "  width: 1px;\n",
       "}\n",
       "\n",
       "#sk-container-id-2 div.sk-dashed-wrapped {\n",
       "  border: 1px dashed var(--sklearn-color-line);\n",
       "  margin: 0 0.4em 0.5em 0.4em;\n",
       "  box-sizing: border-box;\n",
       "  padding-bottom: 0.4em;\n",
       "  background-color: var(--sklearn-color-background);\n",
       "}\n",
       "\n",
       "#sk-container-id-2 div.sk-container {\n",
       "  /* jupyter's `normalize.less` sets `[hidden] { display: none; }`\n",
       "     but bootstrap.min.css set `[hidden] { display: none !important; }`\n",
       "     so we also need the `!important` here to be able to override the\n",
       "     default hidden behavior on the sphinx rendered scikit-learn.org.\n",
       "     See: https://github.com/scikit-learn/scikit-learn/issues/21755 */\n",
       "  display: inline-block !important;\n",
       "  position: relative;\n",
       "}\n",
       "\n",
       "#sk-container-id-2 div.sk-text-repr-fallback {\n",
       "  display: none;\n",
       "}\n",
       "\n",
       "div.sk-parallel-item,\n",
       "div.sk-serial,\n",
       "div.sk-item {\n",
       "  /* draw centered vertical line to link estimators */\n",
       "  background-image: linear-gradient(var(--sklearn-color-text-on-default-background), var(--sklearn-color-text-on-default-background));\n",
       "  background-size: 2px 100%;\n",
       "  background-repeat: no-repeat;\n",
       "  background-position: center center;\n",
       "}\n",
       "\n",
       "/* Parallel-specific style estimator block */\n",
       "\n",
       "#sk-container-id-2 div.sk-parallel-item::after {\n",
       "  content: \"\";\n",
       "  width: 100%;\n",
       "  border-bottom: 2px solid var(--sklearn-color-text-on-default-background);\n",
       "  flex-grow: 1;\n",
       "}\n",
       "\n",
       "#sk-container-id-2 div.sk-parallel {\n",
       "  display: flex;\n",
       "  align-items: stretch;\n",
       "  justify-content: center;\n",
       "  background-color: var(--sklearn-color-background);\n",
       "  position: relative;\n",
       "}\n",
       "\n",
       "#sk-container-id-2 div.sk-parallel-item {\n",
       "  display: flex;\n",
       "  flex-direction: column;\n",
       "}\n",
       "\n",
       "#sk-container-id-2 div.sk-parallel-item:first-child::after {\n",
       "  align-self: flex-end;\n",
       "  width: 50%;\n",
       "}\n",
       "\n",
       "#sk-container-id-2 div.sk-parallel-item:last-child::after {\n",
       "  align-self: flex-start;\n",
       "  width: 50%;\n",
       "}\n",
       "\n",
       "#sk-container-id-2 div.sk-parallel-item:only-child::after {\n",
       "  width: 0;\n",
       "}\n",
       "\n",
       "/* Serial-specific style estimator block */\n",
       "\n",
       "#sk-container-id-2 div.sk-serial {\n",
       "  display: flex;\n",
       "  flex-direction: column;\n",
       "  align-items: center;\n",
       "  background-color: var(--sklearn-color-background);\n",
       "  padding-right: 1em;\n",
       "  padding-left: 1em;\n",
       "}\n",
       "\n",
       "\n",
       "/* Toggleable style: style used for estimator/Pipeline/ColumnTransformer box that is\n",
       "clickable and can be expanded/collapsed.\n",
       "- Pipeline and ColumnTransformer use this feature and define the default style\n",
       "- Estimators will overwrite some part of the style using the `sk-estimator` class\n",
       "*/\n",
       "\n",
       "/* Pipeline and ColumnTransformer style (default) */\n",
       "\n",
       "#sk-container-id-2 div.sk-toggleable {\n",
       "  /* Default theme specific background. It is overwritten whether we have a\n",
       "  specific estimator or a Pipeline/ColumnTransformer */\n",
       "  background-color: var(--sklearn-color-background);\n",
       "}\n",
       "\n",
       "/* Toggleable label */\n",
       "#sk-container-id-2 label.sk-toggleable__label {\n",
       "  cursor: pointer;\n",
       "  display: block;\n",
       "  width: 100%;\n",
       "  margin-bottom: 0;\n",
       "  padding: 0.5em;\n",
       "  box-sizing: border-box;\n",
       "  text-align: center;\n",
       "}\n",
       "\n",
       "#sk-container-id-2 label.sk-toggleable__label-arrow:before {\n",
       "  /* Arrow on the left of the label */\n",
       "  content: \"▸\";\n",
       "  float: left;\n",
       "  margin-right: 0.25em;\n",
       "  color: var(--sklearn-color-icon);\n",
       "}\n",
       "\n",
       "#sk-container-id-2 label.sk-toggleable__label-arrow:hover:before {\n",
       "  color: var(--sklearn-color-text);\n",
       "}\n",
       "\n",
       "/* Toggleable content - dropdown */\n",
       "\n",
       "#sk-container-id-2 div.sk-toggleable__content {\n",
       "  max-height: 0;\n",
       "  max-width: 0;\n",
       "  overflow: hidden;\n",
       "  text-align: left;\n",
       "  /* unfitted */\n",
       "  background-color: var(--sklearn-color-unfitted-level-0);\n",
       "}\n",
       "\n",
       "#sk-container-id-2 div.sk-toggleable__content.fitted {\n",
       "  /* fitted */\n",
       "  background-color: var(--sklearn-color-fitted-level-0);\n",
       "}\n",
       "\n",
       "#sk-container-id-2 div.sk-toggleable__content pre {\n",
       "  margin: 0.2em;\n",
       "  border-radius: 0.25em;\n",
       "  color: var(--sklearn-color-text);\n",
       "  /* unfitted */\n",
       "  background-color: var(--sklearn-color-unfitted-level-0);\n",
       "}\n",
       "\n",
       "#sk-container-id-2 div.sk-toggleable__content.fitted pre {\n",
       "  /* unfitted */\n",
       "  background-color: var(--sklearn-color-fitted-level-0);\n",
       "}\n",
       "\n",
       "#sk-container-id-2 input.sk-toggleable__control:checked~div.sk-toggleable__content {\n",
       "  /* Expand drop-down */\n",
       "  max-height: 200px;\n",
       "  max-width: 100%;\n",
       "  overflow: auto;\n",
       "}\n",
       "\n",
       "#sk-container-id-2 input.sk-toggleable__control:checked~label.sk-toggleable__label-arrow:before {\n",
       "  content: \"▾\";\n",
       "}\n",
       "\n",
       "/* Pipeline/ColumnTransformer-specific style */\n",
       "\n",
       "#sk-container-id-2 div.sk-label input.sk-toggleable__control:checked~label.sk-toggleable__label {\n",
       "  color: var(--sklearn-color-text);\n",
       "  background-color: var(--sklearn-color-unfitted-level-2);\n",
       "}\n",
       "\n",
       "#sk-container-id-2 div.sk-label.fitted input.sk-toggleable__control:checked~label.sk-toggleable__label {\n",
       "  background-color: var(--sklearn-color-fitted-level-2);\n",
       "}\n",
       "\n",
       "/* Estimator-specific style */\n",
       "\n",
       "/* Colorize estimator box */\n",
       "#sk-container-id-2 div.sk-estimator input.sk-toggleable__control:checked~label.sk-toggleable__label {\n",
       "  /* unfitted */\n",
       "  background-color: var(--sklearn-color-unfitted-level-2);\n",
       "}\n",
       "\n",
       "#sk-container-id-2 div.sk-estimator.fitted input.sk-toggleable__control:checked~label.sk-toggleable__label {\n",
       "  /* fitted */\n",
       "  background-color: var(--sklearn-color-fitted-level-2);\n",
       "}\n",
       "\n",
       "#sk-container-id-2 div.sk-label label.sk-toggleable__label,\n",
       "#sk-container-id-2 div.sk-label label {\n",
       "  /* The background is the default theme color */\n",
       "  color: var(--sklearn-color-text-on-default-background);\n",
       "}\n",
       "\n",
       "/* On hover, darken the color of the background */\n",
       "#sk-container-id-2 div.sk-label:hover label.sk-toggleable__label {\n",
       "  color: var(--sklearn-color-text);\n",
       "  background-color: var(--sklearn-color-unfitted-level-2);\n",
       "}\n",
       "\n",
       "/* Label box, darken color on hover, fitted */\n",
       "#sk-container-id-2 div.sk-label.fitted:hover label.sk-toggleable__label.fitted {\n",
       "  color: var(--sklearn-color-text);\n",
       "  background-color: var(--sklearn-color-fitted-level-2);\n",
       "}\n",
       "\n",
       "/* Estimator label */\n",
       "\n",
       "#sk-container-id-2 div.sk-label label {\n",
       "  font-family: monospace;\n",
       "  font-weight: bold;\n",
       "  display: inline-block;\n",
       "  line-height: 1.2em;\n",
       "}\n",
       "\n",
       "#sk-container-id-2 div.sk-label-container {\n",
       "  text-align: center;\n",
       "}\n",
       "\n",
       "/* Estimator-specific */\n",
       "#sk-container-id-2 div.sk-estimator {\n",
       "  font-family: monospace;\n",
       "  border: 1px dotted var(--sklearn-color-border-box);\n",
       "  border-radius: 0.25em;\n",
       "  box-sizing: border-box;\n",
       "  margin-bottom: 0.5em;\n",
       "  /* unfitted */\n",
       "  background-color: var(--sklearn-color-unfitted-level-0);\n",
       "}\n",
       "\n",
       "#sk-container-id-2 div.sk-estimator.fitted {\n",
       "  /* fitted */\n",
       "  background-color: var(--sklearn-color-fitted-level-0);\n",
       "}\n",
       "\n",
       "/* on hover */\n",
       "#sk-container-id-2 div.sk-estimator:hover {\n",
       "  /* unfitted */\n",
       "  background-color: var(--sklearn-color-unfitted-level-2);\n",
       "}\n",
       "\n",
       "#sk-container-id-2 div.sk-estimator.fitted:hover {\n",
       "  /* fitted */\n",
       "  background-color: var(--sklearn-color-fitted-level-2);\n",
       "}\n",
       "\n",
       "/* Specification for estimator info (e.g. \"i\" and \"?\") */\n",
       "\n",
       "/* Common style for \"i\" and \"?\" */\n",
       "\n",
       ".sk-estimator-doc-link,\n",
       "a:link.sk-estimator-doc-link,\n",
       "a:visited.sk-estimator-doc-link {\n",
       "  float: right;\n",
       "  font-size: smaller;\n",
       "  line-height: 1em;\n",
       "  font-family: monospace;\n",
       "  background-color: var(--sklearn-color-background);\n",
       "  border-radius: 1em;\n",
       "  height: 1em;\n",
       "  width: 1em;\n",
       "  text-decoration: none !important;\n",
       "  margin-left: 1ex;\n",
       "  /* unfitted */\n",
       "  border: var(--sklearn-color-unfitted-level-1) 1pt solid;\n",
       "  color: var(--sklearn-color-unfitted-level-1);\n",
       "}\n",
       "\n",
       ".sk-estimator-doc-link.fitted,\n",
       "a:link.sk-estimator-doc-link.fitted,\n",
       "a:visited.sk-estimator-doc-link.fitted {\n",
       "  /* fitted */\n",
       "  border: var(--sklearn-color-fitted-level-1) 1pt solid;\n",
       "  color: var(--sklearn-color-fitted-level-1);\n",
       "}\n",
       "\n",
       "/* On hover */\n",
       "div.sk-estimator:hover .sk-estimator-doc-link:hover,\n",
       ".sk-estimator-doc-link:hover,\n",
       "div.sk-label-container:hover .sk-estimator-doc-link:hover,\n",
       ".sk-estimator-doc-link:hover {\n",
       "  /* unfitted */\n",
       "  background-color: var(--sklearn-color-unfitted-level-3);\n",
       "  color: var(--sklearn-color-background);\n",
       "  text-decoration: none;\n",
       "}\n",
       "\n",
       "div.sk-estimator.fitted:hover .sk-estimator-doc-link.fitted:hover,\n",
       ".sk-estimator-doc-link.fitted:hover,\n",
       "div.sk-label-container:hover .sk-estimator-doc-link.fitted:hover,\n",
       ".sk-estimator-doc-link.fitted:hover {\n",
       "  /* fitted */\n",
       "  background-color: var(--sklearn-color-fitted-level-3);\n",
       "  color: var(--sklearn-color-background);\n",
       "  text-decoration: none;\n",
       "}\n",
       "\n",
       "/* Span, style for the box shown on hovering the info icon */\n",
       ".sk-estimator-doc-link span {\n",
       "  display: none;\n",
       "  z-index: 9999;\n",
       "  position: relative;\n",
       "  font-weight: normal;\n",
       "  right: .2ex;\n",
       "  padding: .5ex;\n",
       "  margin: .5ex;\n",
       "  width: min-content;\n",
       "  min-width: 20ex;\n",
       "  max-width: 50ex;\n",
       "  color: var(--sklearn-color-text);\n",
       "  box-shadow: 2pt 2pt 4pt #999;\n",
       "  /* unfitted */\n",
       "  background: var(--sklearn-color-unfitted-level-0);\n",
       "  border: .5pt solid var(--sklearn-color-unfitted-level-3);\n",
       "}\n",
       "\n",
       ".sk-estimator-doc-link.fitted span {\n",
       "  /* fitted */\n",
       "  background: var(--sklearn-color-fitted-level-0);\n",
       "  border: var(--sklearn-color-fitted-level-3);\n",
       "}\n",
       "\n",
       ".sk-estimator-doc-link:hover span {\n",
       "  display: block;\n",
       "}\n",
       "\n",
       "/* \"?\"-specific style due to the `<a>` HTML tag */\n",
       "\n",
       "#sk-container-id-2 a.estimator_doc_link {\n",
       "  float: right;\n",
       "  font-size: 1rem;\n",
       "  line-height: 1em;\n",
       "  font-family: monospace;\n",
       "  background-color: var(--sklearn-color-background);\n",
       "  border-radius: 1rem;\n",
       "  height: 1rem;\n",
       "  width: 1rem;\n",
       "  text-decoration: none;\n",
       "  /* unfitted */\n",
       "  color: var(--sklearn-color-unfitted-level-1);\n",
       "  border: var(--sklearn-color-unfitted-level-1) 1pt solid;\n",
       "}\n",
       "\n",
       "#sk-container-id-2 a.estimator_doc_link.fitted {\n",
       "  /* fitted */\n",
       "  border: var(--sklearn-color-fitted-level-1) 1pt solid;\n",
       "  color: var(--sklearn-color-fitted-level-1);\n",
       "}\n",
       "\n",
       "/* On hover */\n",
       "#sk-container-id-2 a.estimator_doc_link:hover {\n",
       "  /* unfitted */\n",
       "  background-color: var(--sklearn-color-unfitted-level-3);\n",
       "  color: var(--sklearn-color-background);\n",
       "  text-decoration: none;\n",
       "}\n",
       "\n",
       "#sk-container-id-2 a.estimator_doc_link.fitted:hover {\n",
       "  /* fitted */\n",
       "  background-color: var(--sklearn-color-fitted-level-3);\n",
       "}\n",
       "</style><div id=\"sk-container-id-2\" class=\"sk-top-container\"><div class=\"sk-text-repr-fallback\"><pre>TransformerFineTune(lr=5e-05,\n",
       "                    model=SentenceTransformer(\n",
       "  (0): Transformer({&#x27;max_seq_length&#x27;: 512, &#x27;do_lower_case&#x27;: False}) with Transformer model: BertModel \n",
       "  (1): Pooling({&#x27;word_embedding_dimension&#x27;: 384, &#x27;pooling_mode_cls_token&#x27;: False, &#x27;pooling_mode_mean_tokens&#x27;: True, &#x27;pooling_mode_max_tokens&#x27;: False, &#x27;pooling_mode_mean_sqrt_len_tokens&#x27;: False, &#x27;pooling_mode_weightedm...\n",
       "\t100: AddedToken(&quot;[UNK]&quot;, rstrip=False, lstrip=False, single_word=False, normalized=False, special=True),\n",
       "\t101: AddedToken(&quot;[CLS]&quot;, rstrip=False, lstrip=False, single_word=False, normalized=False, special=True),\n",
       "\t102: AddedToken(&quot;[SEP]&quot;, rstrip=False, lstrip=False, single_word=False, normalized=False, special=True),\n",
       "\t103: AddedToken(&quot;[MASK]&quot;, rstrip=False, lstrip=False, single_word=False, normalized=False, special=True),\n",
       "})</pre><b>In a Jupyter environment, please rerun this cell to show the HTML representation or trust the notebook. <br />On GitHub, the HTML representation is unable to render, please try loading this page with nbviewer.org.</b></div><div class=\"sk-container\" hidden><div class=\"sk-item\"><div class=\"sk-estimator  sk-toggleable\"><input class=\"sk-toggleable__control sk-hidden--visually\" id=\"sk-estimator-id-2\" type=\"checkbox\" checked><label for=\"sk-estimator-id-2\" class=\"sk-toggleable__label  sk-toggleable__label-arrow \">&nbsp;TransformerFineTune<span class=\"sk-estimator-doc-link \">i<span>Not fitted</span></span></label><div class=\"sk-toggleable__content \"><pre>TransformerFineTune(lr=5e-05,\n",
       "                    model=SentenceTransformer(\n",
       "  (0): Transformer({&#x27;max_seq_length&#x27;: 512, &#x27;do_lower_case&#x27;: False}) with Transformer model: BertModel \n",
       "  (1): Pooling({&#x27;word_embedding_dimension&#x27;: 384, &#x27;pooling_mode_cls_token&#x27;: False, &#x27;pooling_mode_mean_tokens&#x27;: True, &#x27;pooling_mode_max_tokens&#x27;: False, &#x27;pooling_mode_mean_sqrt_len_tokens&#x27;: False, &#x27;pooling_mode_weightedm...\n",
       "\t100: AddedToken(&quot;[UNK]&quot;, rstrip=False, lstrip=False, single_word=False, normalized=False, special=True),\n",
       "\t101: AddedToken(&quot;[CLS]&quot;, rstrip=False, lstrip=False, single_word=False, normalized=False, special=True),\n",
       "\t102: AddedToken(&quot;[SEP]&quot;, rstrip=False, lstrip=False, single_word=False, normalized=False, special=True),\n",
       "\t103: AddedToken(&quot;[MASK]&quot;, rstrip=False, lstrip=False, single_word=False, normalized=False, special=True),\n",
       "})</pre></div> </div></div></div></div>"
      ],
      "text/plain": [
       "TransformerFineTune(lr=5e-05,\n",
       "                    model=SentenceTransformer(\n",
       "  (0): Transformer({'max_seq_length': 512, 'do_lower_case': False}) with Transformer model: BertModel \n",
       "  (1): Pooling({'word_embedding_dimension': 384, 'pooling_mode_cls_token': False, 'pooling_mode_mean_tokens': True, 'pooling_mode_max_tokens': False, 'pooling_mode_mean_sqrt_len_tokens': False, 'pooling_mode_weightedm...\n",
       "\t100: AddedToken(\"[UNK]\", rstrip=False, lstrip=False, single_word=False, normalized=False, special=True),\n",
       "\t101: AddedToken(\"[CLS]\", rstrip=False, lstrip=False, single_word=False, normalized=False, special=True),\n",
       "\t102: AddedToken(\"[SEP]\", rstrip=False, lstrip=False, single_word=False, normalized=False, special=True),\n",
       "\t103: AddedToken(\"[MASK]\", rstrip=False, lstrip=False, single_word=False, normalized=False, special=True),\n",
       "})"
      ]
     },
     "execution_count": 80,
     "metadata": {},
     "output_type": "execute_result"
    }
   ],
   "source": [
    "# hyperparameters\n",
    "fine_tune_config = {\n",
    "    \"lr\": 5e-5,\n",
    "    \"num_train_epochs\": 2,\n",
    "    \"num_update_steps_per_epoch\": len(train_dataloader)\n",
    "}\n",
    "\n",
    "fine_tuned_encoder = TransformerFineTune(transformer_base_model,\n",
    "                                       tokenizer, \n",
    "                                       **fine_tune_config)\n",
    "\n",
    "fine_tuned_encoder.fit(train_dataloader, val_dataloader)"
   ]
  },
  {
   "cell_type": "markdown",
   "id": "upM1C65tRCN4",
   "metadata": {
    "id": "upM1C65tRCN4"
   },
   "source": [
    "## Clustering"
   ]
  },
  {
   "cell_type": "code",
   "execution_count": 122,
   "id": "e7d449da-2d1b-48a5-81c2-2c568bcf115c",
   "metadata": {
    "tags": []
   },
   "outputs": [
    {
     "name": "stdout",
     "output_type": "stream",
     "text": [
      "Business name: Haleakalā National Park\n",
      "\n",
      "Number of positive reviews: 69\n",
      "Outliers ratio (positive): 18/69\n",
      "\n",
      "Number of negative reviews: 12\n",
      "Outliers ratio (negative): 7/12\n",
      "\n"
     ]
    },
    {
     "data": {
      "application/vnd.plotly.v1+json": {
       "config": {
        "plotlyServerURL": "https://plot.ly"
       },
       "data": [
        {
         "customdata": [
          [
           "the summit at just over 10k feet makes you work for your hikes, especially the climb back out of the crater!  ",
           "'Scenic Summit'"
          ],
          [
           "the summit can be easily reached by car, so that everyone can enjoy the views from the peaks, which usually involve being higher than the clouds and can include the whole island and beyond without.",
           "'Scenic Summit'"
          ]
         ],
         "hovertemplate": "label=%{customdata[1]}<br>clean_text=%{customdata[0]}<extra></extra>",
         "legendgroup": "1",
         "marker": {
          "color": "rgb(228,26,28)",
          "symbol": "circle"
         },
         "mode": "markers",
         "name": "'Scenic Summit'",
         "orientation": "v",
         "showlegend": true,
         "type": "scatter",
         "x": [
          -0.1614953726530075,
          -0.2000160813331604
         ],
         "xaxis": "x",
         "y": [
          -0.29767006635665894,
          -0.3501848876476288
         ],
         "yaxis": "y"
        },
        {
         "customdata": [
          [
           "additionally, i would highly encourage doing one of the listed treks on the top of the mountain to take in the martian landscape fully.",
           "'Mountain trek'"
          ],
          [
           "if there are a very small group of you with two cars, one-way trips from top to bottom or bottom to top may be more enjoyable.",
           "'Mountain trek'"
          ],
          [
           "also folks bicycle to the top, this is considered as one of the greatest bike climbs in the world.",
           "'Mountain trek'"
          ]
         ],
         "hovertemplate": "label=%{customdata[1]}<br>clean_text=%{customdata[0]}<extra></extra>",
         "legendgroup": "1",
         "marker": {
          "color": "rgb(55,126,184)",
          "symbol": "circle"
         },
         "mode": "markers",
         "name": "'Mountain trek'",
         "orientation": "v",
         "showlegend": true,
         "type": "scatter",
         "x": [
          -0.12241744995117188,
          -0.12165874242782593,
          -0.15086044371128082
         ],
         "xaxis": "x",
         "y": [
          -0.07704722136259079,
          -0.2974412143230438,
          -0.21404272317886353
         ],
         "yaxis": "y"
        },
        {
         "customdata": [
          [
           "i highly recommend a visit for sunrise or sunset, too.",
           "'Sunrise view'"
          ],
          [
           "i strongly recommend renting a convertible for the day and drop that top.",
           "'Sunrise view'"
          ],
          [
           "i recommend this place, especially for sundown and most of all, sunrises here are amazing!!!",
           "'Sunrise view'"
          ],
          [
           "i highly recommend reserving a spot to watch sunrise.",
           "'Sunrise view'"
          ],
          [
           "an amazing sight to see, i would highly highly recommend visiting.",
           "'Sunrise view'"
          ],
          [
           "must visit place  stunning sunrise , and be advised to dress very warm.",
           "'Sunrise view'"
          ]
         ],
         "hovertemplate": "label=%{customdata[1]}<br>clean_text=%{customdata[0]}<extra></extra>",
         "legendgroup": "1",
         "marker": {
          "color": "rgb(77,175,74)",
          "symbol": "circle"
         },
         "mode": "markers",
         "name": "'Sunrise view'",
         "orientation": "v",
         "showlegend": true,
         "type": "scatter",
         "x": [
          0.17349912226200104,
          0.005653903353959322,
          0.2897641360759735,
          0.20345664024353027,
          0.15992861986160278,
          0.2054336667060852
         ],
         "xaxis": "x",
         "y": [
          0.008656646125018597,
          -0.053866639733314514,
          0.16420376300811768,
          -0.03424049913883209,
          0.11614945530891418,
          -0.07576528191566467
         ],
         "yaxis": "y"
        },
        {
         "customdata": [
          [
           "we got clouds on our sunrise reservation but the pure quiet and seeing how small we all are is truly breathtaking.",
           "'Nature beauty'"
          ],
          [
           "we did the sunrise and then the bike ride down the mountain very fun and also challenging",
           "'Nature beauty'"
          ]
         ],
         "hovertemplate": "label=%{customdata[1]}<br>clean_text=%{customdata[0]}<extra></extra>",
         "legendgroup": "1",
         "marker": {
          "color": "rgb(152,78,163)",
          "symbol": "circle"
         },
         "mode": "markers",
         "name": "'Nature beauty'",
         "orientation": "v",
         "showlegend": true,
         "type": "scatter",
         "x": [
          -0.14530915021896362,
          -0.369569331407547
         ],
         "xaxis": "x",
         "y": [
          0.3126651346683502,
          0.26478201150894165
         ],
         "yaxis": "y"
        },
        {
         "customdata": [
          [
           "words cannot describe just how amazing our creator made such a lovely place...",
           "'Natural wonder'"
          ],
          [
           "wonderful experience that embraces the spirit of aloha!",
           "'Natural wonder'"
          ],
          [
           "great and awesome amazing experience that only a frew in the world have been.. a must have on your bucket list.....",
           "'Natural wonder'"
          ],
          [
           "crazy cool volcano to visit when you're in maui.",
           "'Natural wonder'"
          ],
          [
           "beautiful volcano....looks like you're on mars....",
           "'Natural wonder'"
          ]
         ],
         "hovertemplate": "label=%{customdata[1]}<br>clean_text=%{customdata[0]}<extra></extra>",
         "legendgroup": "1",
         "marker": {
          "color": "rgb(255,127,0)",
          "symbol": "circle"
         },
         "mode": "markers",
         "name": "'Natural wonder'",
         "orientation": "v",
         "showlegend": true,
         "type": "scatter",
         "x": [
          0.15607906877994537,
          0.24762560427188873,
          0.222306028008461,
          0.342593252658844,
          0.2826984226703644
         ],
         "xaxis": "x",
         "y": [
          0.30242210626602173,
          0.44512784481048584,
          0.3502453565597534,
          -0.10069887340068817,
          0.009221470914781094
         ],
         "yaxis": "y"
        },
        {
         "customdata": [
          [
           "it's a good change of scenery from your maui beaches.",
           "'Majestic sunrise'"
          ],
          [
           "it's a beautiful place, has couple of trails which starts from here.",
           "'Majestic sunrise'"
          ],
          [
           "there's no place on earth like haleakala for sunrise.  ",
           "'Majestic sunrise'"
          ]
         ],
         "hovertemplate": "label=%{customdata[1]}<br>clean_text=%{customdata[0]}<extra></extra>",
         "legendgroup": "1",
         "marker": {
          "color": "rgb(255,255,51)",
          "symbol": "circle"
         },
         "mode": "markers",
         "name": "'Majestic sunrise'",
         "orientation": "v",
         "showlegend": true,
         "type": "scatter",
         "x": [
          0.08802451938390732,
          -0.001940754591487348,
          0.14971217513084412
         ],
         "xaxis": "x",
         "y": [
          -0.2464647889137268,
          -0.17380762100219727,
          -0.1896473467350006
         ],
         "yaxis": "y"
        },
        {
         "customdata": [
          [
           "keep your eyes peeled for the endangered nene and pay your respects to the island and all of it's beauty.",
           "Nature and Wildlife."
          ],
          [
           "words and pictures don't do justice for the beauty you experience here!",
           "Nature and Wildlife."
          ],
          [
           "get above the clouds and feel like you are in the afterlife you believe in.",
           "Nature and Wildlife."
          ],
          [
           "a great place to change your outlook on life.",
           "Nature and Wildlife."
          ]
         ],
         "hovertemplate": "label=%{customdata[1]}<br>clean_text=%{customdata[0]}<extra></extra>",
         "legendgroup": "1",
         "marker": {
          "color": "rgb(166,86,40)",
          "symbol": "circle"
         },
         "mode": "markers",
         "name": "Nature and Wildlife.",
         "orientation": "v",
         "showlegend": true,
         "type": "scatter",
         "x": [
          0.2410728931427002,
          0.3148115873336792,
          0.18117396533489227,
          0.3255261182785034
         ],
         "xaxis": "x",
         "y": [
          -0.1989925503730774,
          -0.05738256126642227,
          -0.30567753314971924,
          -0.0569179430603981
         ],
         "yaxis": "y"
        },
        {
         "customdata": [
          [
           "you don't want to miss this day trip while on the island.",
           "'Island Day Trip'"
          ],
          [
           " i don’t hesitate to pick the best place in hawaii haley color is picked.",
           "'Island Day Trip'"
          ]
         ],
         "hovertemplate": "label=%{customdata[1]}<br>clean_text=%{customdata[0]}<extra></extra>",
         "legendgroup": "1",
         "marker": {
          "color": "rgb(247,129,191)",
          "symbol": "circle"
         },
         "mode": "markers",
         "name": "'Island Day Trip'",
         "orientation": "v",
         "showlegend": true,
         "type": "scatter",
         "x": [
          0.06794122606515884,
          0.15138961374759674
         ],
         "xaxis": "x",
         "y": [
          -0.146667942404747,
          -0.02611358091235161
         ],
         "yaxis": "y"
        },
        {
         "customdata": [
          [
           "it was very windy and cold in december but worth every moment.",
           "'Hiking experience'"
          ],
          [
           "was a cool place, almost had hypothermia from the bad weather though so be super prepared!",
           "'Hiking experience'"
          ],
          [
           "we arrived at the summit when it was sunny, so the wind was not high, and the temperature was cool - not cold as we thought.",
           "'Hiking experience'"
          ],
          [
           "it was a moderate hike during the wet months as it was fairly slippery for 3.7 miles roundtrip, but totally doable.",
           "'Hiking experience'"
          ],
          [
           "great hike to falls trail was muddy and can be very challenging at times.",
           "'Hiking experience'"
          ]
         ],
         "hovertemplate": "label=%{customdata[1]}<br>clean_text=%{customdata[0]}<extra></extra>",
         "legendgroup": "1",
         "marker": {
          "color": "rgb(153,153,153)",
          "symbol": "circle"
         },
         "mode": "markers",
         "name": "'Hiking experience'",
         "orientation": "v",
         "showlegend": true,
         "type": "scatter",
         "x": [
          -0.3092339038848877,
          -0.08390111476182938,
          -0.3677099645137787,
          -0.43929773569107056,
          -0.39074212312698364
         ],
         "xaxis": "x",
         "y": [
          0.3310500681400299,
          0.43486320972442627,
          0.38670194149017334,
          0.16468888521194458,
          -0.009733141399919987
         ],
         "yaxis": "y"
        },
        {
         "customdata": [
          [
           "beautiful drive up the mountain through many distinct environments.",
           "'Scenic drive'"
          ],
          [
           "beautiful drive with amazing scene of the coastline, roaming cattle, and tasty fruit stands.",
           "'Scenic drive'"
          ],
          [
           "the road was a little scary but so worth getting to the top.",
           "'Scenic drive'"
          ],
          [
           "the drive up is a little scary, but totally worth the effort.",
           "'Scenic drive'"
          ],
          [
           "the bamboo forest was dark as you make your way through to some incredible waterfall views.",
           "'Scenic drive'"
          ],
          [
           "long drive up the mountain but well worth the trip.",
           "'Scenic drive'"
          ],
          [
           "it is a long winding drive to the summit, but it is really worth it.",
           "'Scenic drive'"
          ]
         ],
         "hovertemplate": "label=%{customdata[1]}<br>clean_text=%{customdata[0]}<extra></extra>",
         "legendgroup": "1",
         "marker": {
          "color": "rgb(228,26,28)",
          "symbol": "circle"
         },
         "mode": "markers",
         "name": "'Scenic drive'",
         "orientation": "v",
         "showlegend": true,
         "type": "scatter",
         "x": [
          -0.0996328741312027,
          0.018020644783973694,
          -0.4308356046676636,
          -0.37306439876556396,
          -0.10791368037462234,
          -0.3031719923019409,
          -0.24241024255752563
         ],
         "xaxis": "x",
         "y": [
          -0.22109627723693848,
          -0.011198034510016441,
          -0.045654501765966415,
          -0.1488838940858841,
          -0.22948627173900604,
          -0.10321234166622162,
          -0.23283079266548157
         ],
         "yaxis": "y"
        },
        {
         "customdata": [
          [
           "i think the sunsets are prettier, and you'll see more variation of colours; but there's something wonderful about seeing the sunrise from the summit before tackling a day-long hike!  ",
           "'Sunrise hike view'"
          ],
          [
           "there are several lookout points on your way up to the crater which are great and offer amazing views!",
           "'Sunrise hike view'"
          ]
         ],
         "hovertemplate": "label=%{customdata[1]}<br>clean_text=%{customdata[0]}<extra></extra>",
         "legendgroup": "1",
         "marker": {
          "color": "rgb(55,126,184)",
          "symbol": "circle"
         },
         "mode": "markers",
         "name": "'Sunrise hike view'",
         "orientation": "v",
         "showlegend": true,
         "type": "scatter",
         "x": [
          0.03471249341964722,
          0.05360913649201393
         ],
         "xaxis": "x",
         "y": [
          -0.13531161844730377,
          -0.33283814787864685
         ],
         "yaxis": "y"
        },
        {
         "customdata": [
          [
           "i did the sunset and star gazing your on halloween with a full moon!",
           "'Night sky experience'"
          ],
          [
           "truly inner if the highlights of my two week trip here to maui!",
           "'Night sky experience'"
          ]
         ],
         "hovertemplate": "label=%{customdata[1]}<br>clean_text=%{customdata[0]}<extra></extra>",
         "legendgroup": "1",
         "marker": {
          "color": "rgb(77,175,74)",
          "symbol": "circle"
         },
         "mode": "markers",
         "name": "'Night sky experience'",
         "orientation": "v",
         "showlegend": true,
         "type": "scatter",
         "x": [
          0.1774652898311615,
          0.23264457285404205
         ],
         "xaxis": "x",
         "y": [
          0.38278910517692566,
          0.3247292935848236
         ],
         "yaxis": "y"
        },
        {
         "customdata": [
          [
           "the drive up was long for us, but because we took our time to enjoy the changing sceneries.  highly recommended.",
           "'Long drive enjoyment'"
          ],
          [
           "the hike was amazing, but the kids weren't quite up to going 11 miles.",
           "'Long drive enjoyment'"
          ]
         ],
         "hovertemplate": "label=%{customdata[1]}<br>clean_text=%{customdata[0]}<extra></extra>",
         "legendgroup": "1",
         "marker": {
          "color": "rgb(152,78,163)",
          "symbol": "circle"
         },
         "mode": "markers",
         "name": "'Long drive enjoyment'",
         "orientation": "v",
         "showlegend": true,
         "type": "scatter",
         "x": [
          -0.39250317215919495,
          -0.4841124415397644
         ],
         "xaxis": "x",
         "y": [
          0.2102668583393097,
          0.17994777858257294
         ],
         "yaxis": "y"
        },
        {
         "customdata": [
          [
           "ultra rad! wickedly mystic spot!",
           "'Scenic views'"
          ],
          [
           "amazing views of a dormant super volcano sitting above the clouds!",
           "'Scenic views'"
          ],
          [
           " beautiful place beautiful views above the clouds worth seeing if someone else can see this place",
           "'Scenic views'"
          ]
         ],
         "hovertemplate": "label=%{customdata[1]}<br>clean_text=%{customdata[0]}<extra></extra>",
         "legendgroup": "1",
         "marker": {
          "color": "rgb(255,127,0)",
          "symbol": "circle"
         },
         "mode": "markers",
         "name": "'Scenic views'",
         "orientation": "v",
         "showlegend": true,
         "type": "scatter",
         "x": [
          0.33046355843544006,
          0.18472802639007568,
          0.2588309347629547
         ],
         "xaxis": "x",
         "y": [
          0.32632312178611755,
          0.11831854283809662,
          -0.07242771238088608
         ],
         "yaxis": "y"
        },
        {
         "customdata": [
          [
           "the sunset is beautiful, but be sure to wear warm clothes because the temperature drops once the sun starts setting.",
           "'Sunrise/sunset view'"
          ],
          [
           "breathtaking experiences the sunset and sunrise make sure you dress appropriately very very warm clothes",
           "'Sunrise/sunset view'"
          ],
          [
           " to watch the sunrise, blankets are a must... even when the sun rises, you can still see the wonderful scenery.",
           "'Sunrise/sunset view'"
          ]
         ],
         "hovertemplate": "label=%{customdata[1]}<br>clean_text=%{customdata[0]}<extra></extra>",
         "legendgroup": "1",
         "marker": {
          "color": "rgb(255,255,51)",
          "symbol": "circle"
         },
         "mode": "markers",
         "name": "'Sunrise/sunset view'",
         "orientation": "v",
         "showlegend": true,
         "type": "scatter",
         "x": [
          -0.07640601694583893,
          0.17884661257266998,
          0.09619065374135971
         ],
         "xaxis": "x",
         "y": [
          -0.137812077999115,
          -0.07258149236440659,
          -0.17745761573314667
         ],
         "yaxis": "y"
        },
        {
         "customdata": [
          [
           "book ahead, sold out in 23 minutes my first attempt (lost my spot while preparing my account).",
           "'Nature hike'"
          ],
          [
           "wish the crater had more hot lava spewing on us",
           "'Nature hike'"
          ],
          [
           "i was here january 2021 and the waters were raging, so no swimming allowed.",
           "'Nature hike'"
          ],
          [
           "we even had my 73 year old mother on the hike, with little assistance.",
           "'Nature hike'"
          ],
          [
           "kinda wrong to charge kamaina really ridiculous!",
           "'Nature hike'"
          ]
         ],
         "hovertemplate": "label=%{customdata[1]}<br>clean_text=%{customdata[0]}<extra></extra>",
         "legendgroup": "2",
         "marker": {
          "color": "rgb(228,26,28)",
          "symbol": "circle"
         },
         "mode": "markers",
         "name": "'Nature hike'",
         "orientation": "v",
         "showlegend": true,
         "type": "scatter",
         "x": [
          -0.18587297201156616,
          0.21824520826339722,
          -0.332446813583374,
          -0.3024195730686188,
          0.6024943590164185
         ],
         "xaxis": "x2",
         "y": [
          0.48656630516052246,
          -0.4668033719062805,
          -0.09059558808803558,
          -0.1320817768573761,
          0.20291446149349213
         ],
         "yaxis": "y2"
        }
       ],
       "layout": {
        "annotations": [
         {
          "font": {
           "size": 16
          },
          "showarrow": false,
          "text": "Positive Reviews",
          "x": 0.5,
          "xanchor": "center",
          "xref": "paper",
          "y": 1,
          "yanchor": "bottom",
          "yref": "paper"
         },
         {
          "font": {
           "size": 16
          },
          "showarrow": false,
          "text": "Negative Reviews",
          "x": 0.5,
          "xanchor": "center",
          "xref": "paper",
          "y": 0.375,
          "yanchor": "bottom",
          "yref": "paper"
         }
        ],
        "height": 800,
        "legend": {
         "tracegroupgap": 150,
         "x": 1.05,
         "xanchor": "left",
         "y": 1,
         "yanchor": "top"
        },
        "template": {
         "data": {
          "bar": [
           {
            "error_x": {
             "color": "#2a3f5f"
            },
            "error_y": {
             "color": "#2a3f5f"
            },
            "marker": {
             "line": {
              "color": "#E5ECF6",
              "width": 0.5
             },
             "pattern": {
              "fillmode": "overlay",
              "size": 10,
              "solidity": 0.2
             }
            },
            "type": "bar"
           }
          ],
          "barpolar": [
           {
            "marker": {
             "line": {
              "color": "#E5ECF6",
              "width": 0.5
             },
             "pattern": {
              "fillmode": "overlay",
              "size": 10,
              "solidity": 0.2
             }
            },
            "type": "barpolar"
           }
          ],
          "carpet": [
           {
            "aaxis": {
             "endlinecolor": "#2a3f5f",
             "gridcolor": "white",
             "linecolor": "white",
             "minorgridcolor": "white",
             "startlinecolor": "#2a3f5f"
            },
            "baxis": {
             "endlinecolor": "#2a3f5f",
             "gridcolor": "white",
             "linecolor": "white",
             "minorgridcolor": "white",
             "startlinecolor": "#2a3f5f"
            },
            "type": "carpet"
           }
          ],
          "choropleth": [
           {
            "colorbar": {
             "outlinewidth": 0,
             "ticks": ""
            },
            "type": "choropleth"
           }
          ],
          "contour": [
           {
            "colorbar": {
             "outlinewidth": 0,
             "ticks": ""
            },
            "colorscale": [
             [
              0,
              "#0d0887"
             ],
             [
              0.1111111111111111,
              "#46039f"
             ],
             [
              0.2222222222222222,
              "#7201a8"
             ],
             [
              0.3333333333333333,
              "#9c179e"
             ],
             [
              0.4444444444444444,
              "#bd3786"
             ],
             [
              0.5555555555555556,
              "#d8576b"
             ],
             [
              0.6666666666666666,
              "#ed7953"
             ],
             [
              0.7777777777777778,
              "#fb9f3a"
             ],
             [
              0.8888888888888888,
              "#fdca26"
             ],
             [
              1,
              "#f0f921"
             ]
            ],
            "type": "contour"
           }
          ],
          "contourcarpet": [
           {
            "colorbar": {
             "outlinewidth": 0,
             "ticks": ""
            },
            "type": "contourcarpet"
           }
          ],
          "heatmap": [
           {
            "colorbar": {
             "outlinewidth": 0,
             "ticks": ""
            },
            "colorscale": [
             [
              0,
              "#0d0887"
             ],
             [
              0.1111111111111111,
              "#46039f"
             ],
             [
              0.2222222222222222,
              "#7201a8"
             ],
             [
              0.3333333333333333,
              "#9c179e"
             ],
             [
              0.4444444444444444,
              "#bd3786"
             ],
             [
              0.5555555555555556,
              "#d8576b"
             ],
             [
              0.6666666666666666,
              "#ed7953"
             ],
             [
              0.7777777777777778,
              "#fb9f3a"
             ],
             [
              0.8888888888888888,
              "#fdca26"
             ],
             [
              1,
              "#f0f921"
             ]
            ],
            "type": "heatmap"
           }
          ],
          "heatmapgl": [
           {
            "colorbar": {
             "outlinewidth": 0,
             "ticks": ""
            },
            "colorscale": [
             [
              0,
              "#0d0887"
             ],
             [
              0.1111111111111111,
              "#46039f"
             ],
             [
              0.2222222222222222,
              "#7201a8"
             ],
             [
              0.3333333333333333,
              "#9c179e"
             ],
             [
              0.4444444444444444,
              "#bd3786"
             ],
             [
              0.5555555555555556,
              "#d8576b"
             ],
             [
              0.6666666666666666,
              "#ed7953"
             ],
             [
              0.7777777777777778,
              "#fb9f3a"
             ],
             [
              0.8888888888888888,
              "#fdca26"
             ],
             [
              1,
              "#f0f921"
             ]
            ],
            "type": "heatmapgl"
           }
          ],
          "histogram": [
           {
            "marker": {
             "pattern": {
              "fillmode": "overlay",
              "size": 10,
              "solidity": 0.2
             }
            },
            "type": "histogram"
           }
          ],
          "histogram2d": [
           {
            "colorbar": {
             "outlinewidth": 0,
             "ticks": ""
            },
            "colorscale": [
             [
              0,
              "#0d0887"
             ],
             [
              0.1111111111111111,
              "#46039f"
             ],
             [
              0.2222222222222222,
              "#7201a8"
             ],
             [
              0.3333333333333333,
              "#9c179e"
             ],
             [
              0.4444444444444444,
              "#bd3786"
             ],
             [
              0.5555555555555556,
              "#d8576b"
             ],
             [
              0.6666666666666666,
              "#ed7953"
             ],
             [
              0.7777777777777778,
              "#fb9f3a"
             ],
             [
              0.8888888888888888,
              "#fdca26"
             ],
             [
              1,
              "#f0f921"
             ]
            ],
            "type": "histogram2d"
           }
          ],
          "histogram2dcontour": [
           {
            "colorbar": {
             "outlinewidth": 0,
             "ticks": ""
            },
            "colorscale": [
             [
              0,
              "#0d0887"
             ],
             [
              0.1111111111111111,
              "#46039f"
             ],
             [
              0.2222222222222222,
              "#7201a8"
             ],
             [
              0.3333333333333333,
              "#9c179e"
             ],
             [
              0.4444444444444444,
              "#bd3786"
             ],
             [
              0.5555555555555556,
              "#d8576b"
             ],
             [
              0.6666666666666666,
              "#ed7953"
             ],
             [
              0.7777777777777778,
              "#fb9f3a"
             ],
             [
              0.8888888888888888,
              "#fdca26"
             ],
             [
              1,
              "#f0f921"
             ]
            ],
            "type": "histogram2dcontour"
           }
          ],
          "mesh3d": [
           {
            "colorbar": {
             "outlinewidth": 0,
             "ticks": ""
            },
            "type": "mesh3d"
           }
          ],
          "parcoords": [
           {
            "line": {
             "colorbar": {
              "outlinewidth": 0,
              "ticks": ""
             }
            },
            "type": "parcoords"
           }
          ],
          "pie": [
           {
            "automargin": true,
            "type": "pie"
           }
          ],
          "scatter": [
           {
            "fillpattern": {
             "fillmode": "overlay",
             "size": 10,
             "solidity": 0.2
            },
            "type": "scatter"
           }
          ],
          "scatter3d": [
           {
            "line": {
             "colorbar": {
              "outlinewidth": 0,
              "ticks": ""
             }
            },
            "marker": {
             "colorbar": {
              "outlinewidth": 0,
              "ticks": ""
             }
            },
            "type": "scatter3d"
           }
          ],
          "scattercarpet": [
           {
            "marker": {
             "colorbar": {
              "outlinewidth": 0,
              "ticks": ""
             }
            },
            "type": "scattercarpet"
           }
          ],
          "scattergeo": [
           {
            "marker": {
             "colorbar": {
              "outlinewidth": 0,
              "ticks": ""
             }
            },
            "type": "scattergeo"
           }
          ],
          "scattergl": [
           {
            "marker": {
             "colorbar": {
              "outlinewidth": 0,
              "ticks": ""
             }
            },
            "type": "scattergl"
           }
          ],
          "scattermapbox": [
           {
            "marker": {
             "colorbar": {
              "outlinewidth": 0,
              "ticks": ""
             }
            },
            "type": "scattermapbox"
           }
          ],
          "scatterpolar": [
           {
            "marker": {
             "colorbar": {
              "outlinewidth": 0,
              "ticks": ""
             }
            },
            "type": "scatterpolar"
           }
          ],
          "scatterpolargl": [
           {
            "marker": {
             "colorbar": {
              "outlinewidth": 0,
              "ticks": ""
             }
            },
            "type": "scatterpolargl"
           }
          ],
          "scatterternary": [
           {
            "marker": {
             "colorbar": {
              "outlinewidth": 0,
              "ticks": ""
             }
            },
            "type": "scatterternary"
           }
          ],
          "surface": [
           {
            "colorbar": {
             "outlinewidth": 0,
             "ticks": ""
            },
            "colorscale": [
             [
              0,
              "#0d0887"
             ],
             [
              0.1111111111111111,
              "#46039f"
             ],
             [
              0.2222222222222222,
              "#7201a8"
             ],
             [
              0.3333333333333333,
              "#9c179e"
             ],
             [
              0.4444444444444444,
              "#bd3786"
             ],
             [
              0.5555555555555556,
              "#d8576b"
             ],
             [
              0.6666666666666666,
              "#ed7953"
             ],
             [
              0.7777777777777778,
              "#fb9f3a"
             ],
             [
              0.8888888888888888,
              "#fdca26"
             ],
             [
              1,
              "#f0f921"
             ]
            ],
            "type": "surface"
           }
          ],
          "table": [
           {
            "cells": {
             "fill": {
              "color": "#EBF0F8"
             },
             "line": {
              "color": "white"
             }
            },
            "header": {
             "fill": {
              "color": "#C8D4E3"
             },
             "line": {
              "color": "white"
             }
            },
            "type": "table"
           }
          ]
         },
         "layout": {
          "annotationdefaults": {
           "arrowcolor": "#2a3f5f",
           "arrowhead": 0,
           "arrowwidth": 1
          },
          "autotypenumbers": "strict",
          "coloraxis": {
           "colorbar": {
            "outlinewidth": 0,
            "ticks": ""
           }
          },
          "colorscale": {
           "diverging": [
            [
             0,
             "#8e0152"
            ],
            [
             0.1,
             "#c51b7d"
            ],
            [
             0.2,
             "#de77ae"
            ],
            [
             0.3,
             "#f1b6da"
            ],
            [
             0.4,
             "#fde0ef"
            ],
            [
             0.5,
             "#f7f7f7"
            ],
            [
             0.6,
             "#e6f5d0"
            ],
            [
             0.7,
             "#b8e186"
            ],
            [
             0.8,
             "#7fbc41"
            ],
            [
             0.9,
             "#4d9221"
            ],
            [
             1,
             "#276419"
            ]
           ],
           "sequential": [
            [
             0,
             "#0d0887"
            ],
            [
             0.1111111111111111,
             "#46039f"
            ],
            [
             0.2222222222222222,
             "#7201a8"
            ],
            [
             0.3333333333333333,
             "#9c179e"
            ],
            [
             0.4444444444444444,
             "#bd3786"
            ],
            [
             0.5555555555555556,
             "#d8576b"
            ],
            [
             0.6666666666666666,
             "#ed7953"
            ],
            [
             0.7777777777777778,
             "#fb9f3a"
            ],
            [
             0.8888888888888888,
             "#fdca26"
            ],
            [
             1,
             "#f0f921"
            ]
           ],
           "sequentialminus": [
            [
             0,
             "#0d0887"
            ],
            [
             0.1111111111111111,
             "#46039f"
            ],
            [
             0.2222222222222222,
             "#7201a8"
            ],
            [
             0.3333333333333333,
             "#9c179e"
            ],
            [
             0.4444444444444444,
             "#bd3786"
            ],
            [
             0.5555555555555556,
             "#d8576b"
            ],
            [
             0.6666666666666666,
             "#ed7953"
            ],
            [
             0.7777777777777778,
             "#fb9f3a"
            ],
            [
             0.8888888888888888,
             "#fdca26"
            ],
            [
             1,
             "#f0f921"
            ]
           ]
          },
          "colorway": [
           "#636efa",
           "#EF553B",
           "#00cc96",
           "#ab63fa",
           "#FFA15A",
           "#19d3f3",
           "#FF6692",
           "#B6E880",
           "#FF97FF",
           "#FECB52"
          ],
          "font": {
           "color": "#2a3f5f"
          },
          "geo": {
           "bgcolor": "white",
           "lakecolor": "white",
           "landcolor": "#E5ECF6",
           "showlakes": true,
           "showland": true,
           "subunitcolor": "white"
          },
          "hoverlabel": {
           "align": "left"
          },
          "hovermode": "closest",
          "mapbox": {
           "style": "light"
          },
          "paper_bgcolor": "white",
          "plot_bgcolor": "#E5ECF6",
          "polar": {
           "angularaxis": {
            "gridcolor": "white",
            "linecolor": "white",
            "ticks": ""
           },
           "bgcolor": "#E5ECF6",
           "radialaxis": {
            "gridcolor": "white",
            "linecolor": "white",
            "ticks": ""
           }
          },
          "scene": {
           "xaxis": {
            "backgroundcolor": "#E5ECF6",
            "gridcolor": "white",
            "gridwidth": 2,
            "linecolor": "white",
            "showbackground": true,
            "ticks": "",
            "zerolinecolor": "white"
           },
           "yaxis": {
            "backgroundcolor": "#E5ECF6",
            "gridcolor": "white",
            "gridwidth": 2,
            "linecolor": "white",
            "showbackground": true,
            "ticks": "",
            "zerolinecolor": "white"
           },
           "zaxis": {
            "backgroundcolor": "#E5ECF6",
            "gridcolor": "white",
            "gridwidth": 2,
            "linecolor": "white",
            "showbackground": true,
            "ticks": "",
            "zerolinecolor": "white"
           }
          },
          "shapedefaults": {
           "line": {
            "color": "#2a3f5f"
           }
          },
          "ternary": {
           "aaxis": {
            "gridcolor": "white",
            "linecolor": "white",
            "ticks": ""
           },
           "baxis": {
            "gridcolor": "white",
            "linecolor": "white",
            "ticks": ""
           },
           "bgcolor": "#E5ECF6",
           "caxis": {
            "gridcolor": "white",
            "linecolor": "white",
            "ticks": ""
           }
          },
          "title": {
           "x": 0.05
          },
          "xaxis": {
           "automargin": true,
           "gridcolor": "white",
           "linecolor": "white",
           "ticks": "",
           "title": {
            "standoff": 15
           },
           "zerolinecolor": "white",
           "zerolinewidth": 2
          },
          "yaxis": {
           "automargin": true,
           "gridcolor": "white",
           "linecolor": "white",
           "ticks": "",
           "title": {
            "standoff": 15
           },
           "zerolinecolor": "white",
           "zerolinewidth": 2
          }
         }
        },
        "title": {
         "text": "Customer Review Clusters using Concatenated Word Vector"
        },
        "width": 1000,
        "xaxis": {
         "anchor": "y",
         "autorange": true,
         "domain": [
          0,
          1
         ],
         "range": [
          -0.5355820528098515,
          0.3940628639289311
         ],
         "type": "linear"
        },
        "xaxis2": {
         "anchor": "y2",
         "autorange": true,
         "domain": [
          0,
          1
         ],
         "range": [
          -0.3906550236535349,
          0.6607025690865793
         ],
         "type": "linear"
        },
        "yaxis": {
         "anchor": "x",
         "autorange": true,
         "domain": [
          0.625,
          1
         ],
         "range": [
          -0.4107942222773364,
          0.5057371794401935
         ],
         "type": "linear"
        },
        "yaxis2": {
         "anchor": "x2",
         "autorange": true,
         "domain": [
          0,
          0.375
         ],
         "range": [
          -0.5394579383741968,
          0.5592208716284387
         ],
         "type": "linear"
        }
       }
      },
      "image/png": "[encoded data removed]",
      "text/html": [
       "<div>                            <div id=\"4f14beaf-15cb-4077-83bc-1233958fff41\" class=\"plotly-graph-div\" style=\"height:800px; width:1000px;\"></div>            <script type=\"text/javascript\">                require([\"plotly\"], function(Plotly) {                    window.PLOTLYENV=window.PLOTLYENV || {};                                    if (document.getElementById(\"4f14beaf-15cb-4077-83bc-1233958fff41\")) {                    Plotly.newPlot(                        \"4f14beaf-15cb-4077-83bc-1233958fff41\",                        [{\"customdata\":[[\"the summit at just over 10k feet makes you work for your hikes, especially the climb back out of the crater!  \",\"'Scenic Summit'\"],[\"the summit can be easily reached by car, so that everyone can enjoy the views from the peaks, which usually involve being higher than the clouds and can include the whole island and beyond without.\",\"'Scenic Summit'\"]],\"hovertemplate\":\"label=%{customdata[1]}\\u003cbr\\u003eclean_text=%{customdata[0]}\\u003cextra\\u003e\\u003c\\u002fextra\\u003e\",\"legendgroup\":\"1\",\"marker\":{\"color\":\"rgb(228,26,28)\",\"symbol\":\"circle\"},\"mode\":\"markers\",\"name\":\"'Scenic Summit'\",\"orientation\":\"v\",\"showlegend\":true,\"x\":[-0.1614953726530075,-0.2000160813331604],\"xaxis\":\"x\",\"y\":[-0.29767006635665894,-0.3501848876476288],\"yaxis\":\"y\",\"type\":\"scatter\"},{\"customdata\":[[\"additionally, i would highly encourage doing one of the listed treks on the top of the mountain to take in the martian landscape fully.\",\"'Mountain trek'\"],[\"if there are a very small group of you with two cars, one-way trips from top to bottom or bottom to top may be more enjoyable.\",\"'Mountain trek'\"],[\"also folks bicycle to the top, this is considered as one of the greatest bike climbs in the world.\",\"'Mountain trek'\"]],\"hovertemplate\":\"label=%{customdata[1]}\\u003cbr\\u003eclean_text=%{customdata[0]}\\u003cextra\\u003e\\u003c\\u002fextra\\u003e\",\"legendgroup\":\"1\",\"marker\":{\"color\":\"rgb(55,126,184)\",\"symbol\":\"circle\"},\"mode\":\"markers\",\"name\":\"'Mountain trek'\",\"orientation\":\"v\",\"showlegend\":true,\"x\":[-0.12241744995117188,-0.12165874242782593,-0.15086044371128082],\"xaxis\":\"x\",\"y\":[-0.07704722136259079,-0.2974412143230438,-0.21404272317886353],\"yaxis\":\"y\",\"type\":\"scatter\"},{\"customdata\":[[\"i highly recommend a visit for sunrise or sunset, too.\",\"'Sunrise view'\"],[\"i strongly recommend renting a convertible for the day and drop that top.\",\"'Sunrise view'\"],[\"i recommend this place, especially for sundown and most of all, sunrises here are amazing!!!\",\"'Sunrise view'\"],[\"i highly recommend reserving a spot to watch sunrise.\",\"'Sunrise view'\"],[\"an amazing sight to see, i would highly highly recommend visiting.\",\"'Sunrise view'\"],[\"must visit place  stunning sunrise , and be advised to dress very warm.\",\"'Sunrise view'\"]],\"hovertemplate\":\"label=%{customdata[1]}\\u003cbr\\u003eclean_text=%{customdata[0]}\\u003cextra\\u003e\\u003c\\u002fextra\\u003e\",\"legendgroup\":\"1\",\"marker\":{\"color\":\"rgb(77,175,74)\",\"symbol\":\"circle\"},\"mode\":\"markers\",\"name\":\"'Sunrise view'\",\"orientation\":\"v\",\"showlegend\":true,\"x\":[0.17349912226200104,0.005653903353959322,0.2897641360759735,0.20345664024353027,0.15992861986160278,0.2054336667060852],\"xaxis\":\"x\",\"y\":[0.008656646125018597,-0.053866639733314514,0.16420376300811768,-0.03424049913883209,0.11614945530891418,-0.07576528191566467],\"yaxis\":\"y\",\"type\":\"scatter\"},{\"customdata\":[[\"we got clouds on our sunrise reservation but the pure quiet and seeing how small we all are is truly breathtaking.\",\"'Nature beauty'\"],[\"we did the sunrise and then the bike ride down the mountain very fun and also challenging\",\"'Nature beauty'\"]],\"hovertemplate\":\"label=%{customdata[1]}\\u003cbr\\u003eclean_text=%{customdata[0]}\\u003cextra\\u003e\\u003c\\u002fextra\\u003e\",\"legendgroup\":\"1\",\"marker\":{\"color\":\"rgb(152,78,163)\",\"symbol\":\"circle\"},\"mode\":\"markers\",\"name\":\"'Nature beauty'\",\"orientation\":\"v\",\"showlegend\":true,\"x\":[-0.14530915021896362,-0.369569331407547],\"xaxis\":\"x\",\"y\":[0.3126651346683502,0.26478201150894165],\"yaxis\":\"y\",\"type\":\"scatter\"},{\"customdata\":[[\"words cannot describe just how amazing our creator made such a lovely place...\",\"'Natural wonder'\"],[\"wonderful experience that embraces the spirit of aloha!\",\"'Natural wonder'\"],[\"great and awesome amazing experience that only a frew in the world have been.. a must have on your bucket list.....\",\"'Natural wonder'\"],[\"crazy cool volcano to visit when you're in maui.\",\"'Natural wonder'\"],[\"beautiful volcano....looks like you're on mars....\",\"'Natural wonder'\"]],\"hovertemplate\":\"label=%{customdata[1]}\\u003cbr\\u003eclean_text=%{customdata[0]}\\u003cextra\\u003e\\u003c\\u002fextra\\u003e\",\"legendgroup\":\"1\",\"marker\":{\"color\":\"rgb(255,127,0)\",\"symbol\":\"circle\"},\"mode\":\"markers\",\"name\":\"'Natural wonder'\",\"orientation\":\"v\",\"showlegend\":true,\"x\":[0.15607906877994537,0.24762560427188873,0.222306028008461,0.342593252658844,0.2826984226703644],\"xaxis\":\"x\",\"y\":[0.30242210626602173,0.44512784481048584,0.3502453565597534,-0.10069887340068817,0.009221470914781094],\"yaxis\":\"y\",\"type\":\"scatter\"},{\"customdata\":[[\"it's a good change of scenery from your maui beaches.\",\"'Majestic sunrise'\"],[\"it's a beautiful place, has couple of trails which starts from here.\",\"'Majestic sunrise'\"],[\"there's no place on earth like haleakala for sunrise.  \",\"'Majestic sunrise'\"]],\"hovertemplate\":\"label=%{customdata[1]}\\u003cbr\\u003eclean_text=%{customdata[0]}\\u003cextra\\u003e\\u003c\\u002fextra\\u003e\",\"legendgroup\":\"1\",\"marker\":{\"color\":\"rgb(255,255,51)\",\"symbol\":\"circle\"},\"mode\":\"markers\",\"name\":\"'Majestic sunrise'\",\"orientation\":\"v\",\"showlegend\":true,\"x\":[0.08802451938390732,-0.001940754591487348,0.14971217513084412],\"xaxis\":\"x\",\"y\":[-0.2464647889137268,-0.17380762100219727,-0.1896473467350006],\"yaxis\":\"y\",\"type\":\"scatter\"},{\"customdata\":[[\"keep your eyes peeled for the endangered nene and pay your respects to the island and all of it's beauty.\",\"Nature and Wildlife.\"],[\"words and pictures don't do justice for the beauty you experience here!\",\"Nature and Wildlife.\"],[\"get above the clouds and feel like you are in the afterlife you believe in.\",\"Nature and Wildlife.\"],[\"a great place to change your outlook on life.\",\"Nature and Wildlife.\"]],\"hovertemplate\":\"label=%{customdata[1]}\\u003cbr\\u003eclean_text=%{customdata[0]}\\u003cextra\\u003e\\u003c\\u002fextra\\u003e\",\"legendgroup\":\"1\",\"marker\":{\"color\":\"rgb(166,86,40)\",\"symbol\":\"circle\"},\"mode\":\"markers\",\"name\":\"Nature and Wildlife.\",\"orientation\":\"v\",\"showlegend\":true,\"x\":[0.2410728931427002,0.3148115873336792,0.18117396533489227,0.3255261182785034],\"xaxis\":\"x\",\"y\":[-0.1989925503730774,-0.05738256126642227,-0.30567753314971924,-0.0569179430603981],\"yaxis\":\"y\",\"type\":\"scatter\"},{\"customdata\":[[\"you don't want to miss this day trip while on the island.\",\"'Island Day Trip'\"],[\" i don\\u2019t hesitate to pick the best place in hawaii haley color is picked.\",\"'Island Day Trip'\"]],\"hovertemplate\":\"label=%{customdata[1]}\\u003cbr\\u003eclean_text=%{customdata[0]}\\u003cextra\\u003e\\u003c\\u002fextra\\u003e\",\"legendgroup\":\"1\",\"marker\":{\"color\":\"rgb(247,129,191)\",\"symbol\":\"circle\"},\"mode\":\"markers\",\"name\":\"'Island Day Trip'\",\"orientation\":\"v\",\"showlegend\":true,\"x\":[0.06794122606515884,0.15138961374759674],\"xaxis\":\"x\",\"y\":[-0.146667942404747,-0.02611358091235161],\"yaxis\":\"y\",\"type\":\"scatter\"},{\"customdata\":[[\"it was very windy and cold in december but worth every moment.\",\"'Hiking experience'\"],[\"was a cool place, almost had hypothermia from the bad weather though so be super prepared!\",\"'Hiking experience'\"],[\"we arrived at the summit when it was sunny, so the wind was not high, and the temperature was cool - not cold as we thought.\",\"'Hiking experience'\"],[\"it was a moderate hike during the wet months as it was fairly slippery for 3.7 miles roundtrip, but totally doable.\",\"'Hiking experience'\"],[\"great hike to falls trail was muddy and can be very challenging at times.\",\"'Hiking experience'\"]],\"hovertemplate\":\"label=%{customdata[1]}\\u003cbr\\u003eclean_text=%{customdata[0]}\\u003cextra\\u003e\\u003c\\u002fextra\\u003e\",\"legendgroup\":\"1\",\"marker\":{\"color\":\"rgb(153,153,153)\",\"symbol\":\"circle\"},\"mode\":\"markers\",\"name\":\"'Hiking experience'\",\"orientation\":\"v\",\"showlegend\":true,\"x\":[-0.3092339038848877,-0.08390111476182938,-0.3677099645137787,-0.43929773569107056,-0.39074212312698364],\"xaxis\":\"x\",\"y\":[0.3310500681400299,0.43486320972442627,0.38670194149017334,0.16468888521194458,-0.009733141399919987],\"yaxis\":\"y\",\"type\":\"scatter\"},{\"customdata\":[[\"beautiful drive up the mountain through many distinct environments.\",\"'Scenic drive'\"],[\"beautiful drive with amazing scene of the coastline, roaming cattle, and tasty fruit stands.\",\"'Scenic drive'\"],[\"the road was a little scary but so worth getting to the top.\",\"'Scenic drive'\"],[\"the drive up is a little scary, but totally worth the effort.\",\"'Scenic drive'\"],[\"the bamboo forest was dark as you make your way through to some incredible waterfall views.\",\"'Scenic drive'\"],[\"long drive up the mountain but well worth the trip.\",\"'Scenic drive'\"],[\"it is a long winding drive to the summit, but it is really worth it.\",\"'Scenic drive'\"]],\"hovertemplate\":\"label=%{customdata[1]}\\u003cbr\\u003eclean_text=%{customdata[0]}\\u003cextra\\u003e\\u003c\\u002fextra\\u003e\",\"legendgroup\":\"1\",\"marker\":{\"color\":\"rgb(228,26,28)\",\"symbol\":\"circle\"},\"mode\":\"markers\",\"name\":\"'Scenic drive'\",\"orientation\":\"v\",\"showlegend\":true,\"x\":[-0.0996328741312027,0.018020644783973694,-0.4308356046676636,-0.37306439876556396,-0.10791368037462234,-0.3031719923019409,-0.24241024255752563],\"xaxis\":\"x\",\"y\":[-0.22109627723693848,-0.011198034510016441,-0.045654501765966415,-0.1488838940858841,-0.22948627173900604,-0.10321234166622162,-0.23283079266548157],\"yaxis\":\"y\",\"type\":\"scatter\"},{\"customdata\":[[\"i think the sunsets are prettier, and you'll see more variation of colours; but there's something wonderful about seeing the sunrise from the summit before tackling a day-long hike!  \",\"'Sunrise hike view'\"],[\"there are several lookout points on your way up to the crater which are great and offer amazing views!\",\"'Sunrise hike view'\"]],\"hovertemplate\":\"label=%{customdata[1]}\\u003cbr\\u003eclean_text=%{customdata[0]}\\u003cextra\\u003e\\u003c\\u002fextra\\u003e\",\"legendgroup\":\"1\",\"marker\":{\"color\":\"rgb(55,126,184)\",\"symbol\":\"circle\"},\"mode\":\"markers\",\"name\":\"'Sunrise hike view'\",\"orientation\":\"v\",\"showlegend\":true,\"x\":[0.03471249341964722,0.05360913649201393],\"xaxis\":\"x\",\"y\":[-0.13531161844730377,-0.33283814787864685],\"yaxis\":\"y\",\"type\":\"scatter\"},{\"customdata\":[[\"i did the sunset and star gazing your on halloween with a full moon!\",\"'Night sky experience'\"],[\"truly inner if the highlights of my two week trip here to maui!\",\"'Night sky experience'\"]],\"hovertemplate\":\"label=%{customdata[1]}\\u003cbr\\u003eclean_text=%{customdata[0]}\\u003cextra\\u003e\\u003c\\u002fextra\\u003e\",\"legendgroup\":\"1\",\"marker\":{\"color\":\"rgb(77,175,74)\",\"symbol\":\"circle\"},\"mode\":\"markers\",\"name\":\"'Night sky experience'\",\"orientation\":\"v\",\"showlegend\":true,\"x\":[0.1774652898311615,0.23264457285404205],\"xaxis\":\"x\",\"y\":[0.38278910517692566,0.3247292935848236],\"yaxis\":\"y\",\"type\":\"scatter\"},{\"customdata\":[[\"the drive up was long for us, but because we took our time to enjoy the changing sceneries.  highly recommended.\",\"'Long drive enjoyment'\"],[\"the hike was amazing, but the kids weren't quite up to going 11 miles.\",\"'Long drive enjoyment'\"]],\"hovertemplate\":\"label=%{customdata[1]}\\u003cbr\\u003eclean_text=%{customdata[0]}\\u003cextra\\u003e\\u003c\\u002fextra\\u003e\",\"legendgroup\":\"1\",\"marker\":{\"color\":\"rgb(152,78,163)\",\"symbol\":\"circle\"},\"mode\":\"markers\",\"name\":\"'Long drive enjoyment'\",\"orientation\":\"v\",\"showlegend\":true,\"x\":[-0.39250317215919495,-0.4841124415397644],\"xaxis\":\"x\",\"y\":[0.2102668583393097,0.17994777858257294],\"yaxis\":\"y\",\"type\":\"scatter\"},{\"customdata\":[[\"ultra rad! wickedly mystic spot!\",\"'Scenic views'\"],[\"amazing views of a dormant super volcano sitting above the clouds!\",\"'Scenic views'\"],[\" beautiful place beautiful views above the clouds worth seeing if someone else can see this place\",\"'Scenic views'\"]],\"hovertemplate\":\"label=%{customdata[1]}\\u003cbr\\u003eclean_text=%{customdata[0]}\\u003cextra\\u003e\\u003c\\u002fextra\\u003e\",\"legendgroup\":\"1\",\"marker\":{\"color\":\"rgb(255,127,0)\",\"symbol\":\"circle\"},\"mode\":\"markers\",\"name\":\"'Scenic views'\",\"orientation\":\"v\",\"showlegend\":true,\"x\":[0.33046355843544006,0.18472802639007568,0.2588309347629547],\"xaxis\":\"x\",\"y\":[0.32632312178611755,0.11831854283809662,-0.07242771238088608],\"yaxis\":\"y\",\"type\":\"scatter\"},{\"customdata\":[[\"the sunset is beautiful, but be sure to wear warm clothes because the temperature drops once the sun starts setting.\",\"'Sunrise\\u002fsunset view'\"],[\"breathtaking experiences the sunset and sunrise make sure you dress appropriately very very warm clothes\",\"'Sunrise\\u002fsunset view'\"],[\" to watch the sunrise, blankets are a must... even when the sun rises, you can still see the wonderful scenery.\",\"'Sunrise\\u002fsunset view'\"]],\"hovertemplate\":\"label=%{customdata[1]}\\u003cbr\\u003eclean_text=%{customdata[0]}\\u003cextra\\u003e\\u003c\\u002fextra\\u003e\",\"legendgroup\":\"1\",\"marker\":{\"color\":\"rgb(255,255,51)\",\"symbol\":\"circle\"},\"mode\":\"markers\",\"name\":\"'Sunrise\\u002fsunset view'\",\"orientation\":\"v\",\"showlegend\":true,\"x\":[-0.07640601694583893,0.17884661257266998,0.09619065374135971],\"xaxis\":\"x\",\"y\":[-0.137812077999115,-0.07258149236440659,-0.17745761573314667],\"yaxis\":\"y\",\"type\":\"scatter\"},{\"customdata\":[[\"book ahead, sold out in 23 minutes my first attempt (lost my spot while preparing my account).\",\"'Nature hike'\"],[\"wish the crater had more hot lava spewing on us\",\"'Nature hike'\"],[\"i was here january 2021 and the waters were raging, so no swimming allowed.\",\"'Nature hike'\"],[\"we even had my 73 year old mother on the hike, with little assistance.\",\"'Nature hike'\"],[\"kinda wrong to charge kamaina really ridiculous!\",\"'Nature hike'\"]],\"hovertemplate\":\"label=%{customdata[1]}\\u003cbr\\u003eclean_text=%{customdata[0]}\\u003cextra\\u003e\\u003c\\u002fextra\\u003e\",\"legendgroup\":\"2\",\"marker\":{\"color\":\"rgb(228,26,28)\",\"symbol\":\"circle\"},\"mode\":\"markers\",\"name\":\"'Nature hike'\",\"orientation\":\"v\",\"showlegend\":true,\"x\":[-0.18587297201156616,0.21824520826339722,-0.332446813583374,-0.3024195730686188,0.6024943590164185],\"xaxis\":\"x2\",\"y\":[0.48656630516052246,-0.4668033719062805,-0.09059558808803558,-0.1320817768573761,0.20291446149349213],\"yaxis\":\"y2\",\"type\":\"scatter\"}],                        {\"template\":{\"data\":{\"histogram2dcontour\":[{\"type\":\"histogram2dcontour\",\"colorbar\":{\"outlinewidth\":0,\"ticks\":\"\"},\"colorscale\":[[0.0,\"#0d0887\"],[0.1111111111111111,\"#46039f\"],[0.2222222222222222,\"#7201a8\"],[0.3333333333333333,\"#9c179e\"],[0.4444444444444444,\"#bd3786\"],[0.5555555555555556,\"#d8576b\"],[0.6666666666666666,\"#ed7953\"],[0.7777777777777778,\"#fb9f3a\"],[0.8888888888888888,\"#fdca26\"],[1.0,\"#f0f921\"]]}],\"choropleth\":[{\"type\":\"choropleth\",\"colorbar\":{\"outlinewidth\":0,\"ticks\":\"\"}}],\"histogram2d\":[{\"type\":\"histogram2d\",\"colorbar\":{\"outlinewidth\":0,\"ticks\":\"\"},\"colorscale\":[[0.0,\"#0d0887\"],[0.1111111111111111,\"#46039f\"],[0.2222222222222222,\"#7201a8\"],[0.3333333333333333,\"#9c179e\"],[0.4444444444444444,\"#bd3786\"],[0.5555555555555556,\"#d8576b\"],[0.6666666666666666,\"#ed7953\"],[0.7777777777777778,\"#fb9f3a\"],[0.8888888888888888,\"#fdca26\"],[1.0,\"#f0f921\"]]}],\"heatmap\":[{\"type\":\"heatmap\",\"colorbar\":{\"outlinewidth\":0,\"ticks\":\"\"},\"colorscale\":[[0.0,\"#0d0887\"],[0.1111111111111111,\"#46039f\"],[0.2222222222222222,\"#7201a8\"],[0.3333333333333333,\"#9c179e\"],[0.4444444444444444,\"#bd3786\"],[0.5555555555555556,\"#d8576b\"],[0.6666666666666666,\"#ed7953\"],[0.7777777777777778,\"#fb9f3a\"],[0.8888888888888888,\"#fdca26\"],[1.0,\"#f0f921\"]]}],\"heatmapgl\":[{\"type\":\"heatmapgl\",\"colorbar\":{\"outlinewidth\":0,\"ticks\":\"\"},\"colorscale\":[[0.0,\"#0d0887\"],[0.1111111111111111,\"#46039f\"],[0.2222222222222222,\"#7201a8\"],[0.3333333333333333,\"#9c179e\"],[0.4444444444444444,\"#bd3786\"],[0.5555555555555556,\"#d8576b\"],[0.6666666666666666,\"#ed7953\"],[0.7777777777777778,\"#fb9f3a\"],[0.8888888888888888,\"#fdca26\"],[1.0,\"#f0f921\"]]}],\"contourcarpet\":[{\"type\":\"contourcarpet\",\"colorbar\":{\"outlinewidth\":0,\"ticks\":\"\"}}],\"contour\":[{\"type\":\"contour\",\"colorbar\":{\"outlinewidth\":0,\"ticks\":\"\"},\"colorscale\":[[0.0,\"#0d0887\"],[0.1111111111111111,\"#46039f\"],[0.2222222222222222,\"#7201a8\"],[0.3333333333333333,\"#9c179e\"],[0.4444444444444444,\"#bd3786\"],[0.5555555555555556,\"#d8576b\"],[0.6666666666666666,\"#ed7953\"],[0.7777777777777778,\"#fb9f3a\"],[0.8888888888888888,\"#fdca26\"],[1.0,\"#f0f921\"]]}],\"surface\":[{\"type\":\"surface\",\"colorbar\":{\"outlinewidth\":0,\"ticks\":\"\"},\"colorscale\":[[0.0,\"#0d0887\"],[0.1111111111111111,\"#46039f\"],[0.2222222222222222,\"#7201a8\"],[0.3333333333333333,\"#9c179e\"],[0.4444444444444444,\"#bd3786\"],[0.5555555555555556,\"#d8576b\"],[0.6666666666666666,\"#ed7953\"],[0.7777777777777778,\"#fb9f3a\"],[0.8888888888888888,\"#fdca26\"],[1.0,\"#f0f921\"]]}],\"mesh3d\":[{\"type\":\"mesh3d\",\"colorbar\":{\"outlinewidth\":0,\"ticks\":\"\"}}],\"scatter\":[{\"fillpattern\":{\"fillmode\":\"overlay\",\"size\":10,\"solidity\":0.2},\"type\":\"scatter\"}],\"parcoords\":[{\"type\":\"parcoords\",\"line\":{\"colorbar\":{\"outlinewidth\":0,\"ticks\":\"\"}}}],\"scatterpolargl\":[{\"type\":\"scatterpolargl\",\"marker\":{\"colorbar\":{\"outlinewidth\":0,\"ticks\":\"\"}}}],\"bar\":[{\"error_x\":{\"color\":\"#2a3f5f\"},\"error_y\":{\"color\":\"#2a3f5f\"},\"marker\":{\"line\":{\"color\":\"#E5ECF6\",\"width\":0.5},\"pattern\":{\"fillmode\":\"overlay\",\"size\":10,\"solidity\":0.2}},\"type\":\"bar\"}],\"scattergeo\":[{\"type\":\"scattergeo\",\"marker\":{\"colorbar\":{\"outlinewidth\":0,\"ticks\":\"\"}}}],\"scatterpolar\":[{\"type\":\"scatterpolar\",\"marker\":{\"colorbar\":{\"outlinewidth\":0,\"ticks\":\"\"}}}],\"histogram\":[{\"marker\":{\"pattern\":{\"fillmode\":\"overlay\",\"size\":10,\"solidity\":0.2}},\"type\":\"histogram\"}],\"scattergl\":[{\"type\":\"scattergl\",\"marker\":{\"colorbar\":{\"outlinewidth\":0,\"ticks\":\"\"}}}],\"scatter3d\":[{\"type\":\"scatter3d\",\"line\":{\"colorbar\":{\"outlinewidth\":0,\"ticks\":\"\"}},\"marker\":{\"colorbar\":{\"outlinewidth\":0,\"ticks\":\"\"}}}],\"scattermapbox\":[{\"type\":\"scattermapbox\",\"marker\":{\"colorbar\":{\"outlinewidth\":0,\"ticks\":\"\"}}}],\"scatterternary\":[{\"type\":\"scatterternary\",\"marker\":{\"colorbar\":{\"outlinewidth\":0,\"ticks\":\"\"}}}],\"scattercarpet\":[{\"type\":\"scattercarpet\",\"marker\":{\"colorbar\":{\"outlinewidth\":0,\"ticks\":\"\"}}}],\"carpet\":[{\"aaxis\":{\"endlinecolor\":\"#2a3f5f\",\"gridcolor\":\"white\",\"linecolor\":\"white\",\"minorgridcolor\":\"white\",\"startlinecolor\":\"#2a3f5f\"},\"baxis\":{\"endlinecolor\":\"#2a3f5f\",\"gridcolor\":\"white\",\"linecolor\":\"white\",\"minorgridcolor\":\"white\",\"startlinecolor\":\"#2a3f5f\"},\"type\":\"carpet\"}],\"table\":[{\"cells\":{\"fill\":{\"color\":\"#EBF0F8\"},\"line\":{\"color\":\"white\"}},\"header\":{\"fill\":{\"color\":\"#C8D4E3\"},\"line\":{\"color\":\"white\"}},\"type\":\"table\"}],\"barpolar\":[{\"marker\":{\"line\":{\"color\":\"#E5ECF6\",\"width\":0.5},\"pattern\":{\"fillmode\":\"overlay\",\"size\":10,\"solidity\":0.2}},\"type\":\"barpolar\"}],\"pie\":[{\"automargin\":true,\"type\":\"pie\"}]},\"layout\":{\"autotypenumbers\":\"strict\",\"colorway\":[\"#636efa\",\"#EF553B\",\"#00cc96\",\"#ab63fa\",\"#FFA15A\",\"#19d3f3\",\"#FF6692\",\"#B6E880\",\"#FF97FF\",\"#FECB52\"],\"font\":{\"color\":\"#2a3f5f\"},\"hovermode\":\"closest\",\"hoverlabel\":{\"align\":\"left\"},\"paper_bgcolor\":\"white\",\"plot_bgcolor\":\"#E5ECF6\",\"polar\":{\"bgcolor\":\"#E5ECF6\",\"angularaxis\":{\"gridcolor\":\"white\",\"linecolor\":\"white\",\"ticks\":\"\"},\"radialaxis\":{\"gridcolor\":\"white\",\"linecolor\":\"white\",\"ticks\":\"\"}},\"ternary\":{\"bgcolor\":\"#E5ECF6\",\"aaxis\":{\"gridcolor\":\"white\",\"linecolor\":\"white\",\"ticks\":\"\"},\"baxis\":{\"gridcolor\":\"white\",\"linecolor\":\"white\",\"ticks\":\"\"},\"caxis\":{\"gridcolor\":\"white\",\"linecolor\":\"white\",\"ticks\":\"\"}},\"coloraxis\":{\"colorbar\":{\"outlinewidth\":0,\"ticks\":\"\"}},\"colorscale\":{\"sequential\":[[0.0,\"#0d0887\"],[0.1111111111111111,\"#46039f\"],[0.2222222222222222,\"#7201a8\"],[0.3333333333333333,\"#9c179e\"],[0.4444444444444444,\"#bd3786\"],[0.5555555555555556,\"#d8576b\"],[0.6666666666666666,\"#ed7953\"],[0.7777777777777778,\"#fb9f3a\"],[0.8888888888888888,\"#fdca26\"],[1.0,\"#f0f921\"]],\"sequentialminus\":[[0.0,\"#0d0887\"],[0.1111111111111111,\"#46039f\"],[0.2222222222222222,\"#7201a8\"],[0.3333333333333333,\"#9c179e\"],[0.4444444444444444,\"#bd3786\"],[0.5555555555555556,\"#d8576b\"],[0.6666666666666666,\"#ed7953\"],[0.7777777777777778,\"#fb9f3a\"],[0.8888888888888888,\"#fdca26\"],[1.0,\"#f0f921\"]],\"diverging\":[[0,\"#8e0152\"],[0.1,\"#c51b7d\"],[0.2,\"#de77ae\"],[0.3,\"#f1b6da\"],[0.4,\"#fde0ef\"],[0.5,\"#f7f7f7\"],[0.6,\"#e6f5d0\"],[0.7,\"#b8e186\"],[0.8,\"#7fbc41\"],[0.9,\"#4d9221\"],[1,\"#276419\"]]},\"xaxis\":{\"gridcolor\":\"white\",\"linecolor\":\"white\",\"ticks\":\"\",\"title\":{\"standoff\":15},\"zerolinecolor\":\"white\",\"automargin\":true,\"zerolinewidth\":2},\"yaxis\":{\"gridcolor\":\"white\",\"linecolor\":\"white\",\"ticks\":\"\",\"title\":{\"standoff\":15},\"zerolinecolor\":\"white\",\"automargin\":true,\"zerolinewidth\":2},\"scene\":{\"xaxis\":{\"backgroundcolor\":\"#E5ECF6\",\"gridcolor\":\"white\",\"linecolor\":\"white\",\"showbackground\":true,\"ticks\":\"\",\"zerolinecolor\":\"white\",\"gridwidth\":2},\"yaxis\":{\"backgroundcolor\":\"#E5ECF6\",\"gridcolor\":\"white\",\"linecolor\":\"white\",\"showbackground\":true,\"ticks\":\"\",\"zerolinecolor\":\"white\",\"gridwidth\":2},\"zaxis\":{\"backgroundcolor\":\"#E5ECF6\",\"gridcolor\":\"white\",\"linecolor\":\"white\",\"showbackground\":true,\"ticks\":\"\",\"zerolinecolor\":\"white\",\"gridwidth\":2}},\"shapedefaults\":{\"line\":{\"color\":\"#2a3f5f\"}},\"annotationdefaults\":{\"arrowcolor\":\"#2a3f5f\",\"arrowhead\":0,\"arrowwidth\":1},\"geo\":{\"bgcolor\":\"white\",\"landcolor\":\"#E5ECF6\",\"subunitcolor\":\"white\",\"showland\":true,\"showlakes\":true,\"lakecolor\":\"white\"},\"title\":{\"x\":0.05},\"mapbox\":{\"style\":\"light\"}}},\"xaxis\":{\"anchor\":\"y\",\"domain\":[0.0,1.0]},\"yaxis\":{\"anchor\":\"x\",\"domain\":[0.625,1.0]},\"xaxis2\":{\"anchor\":\"y2\",\"domain\":[0.0,1.0]},\"yaxis2\":{\"anchor\":\"x2\",\"domain\":[0.0,0.375]},\"annotations\":[{\"font\":{\"size\":16},\"showarrow\":false,\"text\":\"Positive Reviews\",\"x\":0.5,\"xanchor\":\"center\",\"xref\":\"paper\",\"y\":1.0,\"yanchor\":\"bottom\",\"yref\":\"paper\"},{\"font\":{\"size\":16},\"showarrow\":false,\"text\":\"Negative Reviews\",\"x\":0.5,\"xanchor\":\"center\",\"xref\":\"paper\",\"y\":0.375,\"yanchor\":\"bottom\",\"yref\":\"paper\"}],\"legend\":{\"yanchor\":\"top\",\"y\":1.0,\"xanchor\":\"left\",\"x\":1.05,\"tracegroupgap\":150},\"height\":800,\"width\":1000,\"title\":{\"text\":\"Customer Review Clusters using Concatenated Word Vector\"}},                        {\"responsive\": true}                    ).then(function(){\n",
       "                            \n",
       "var gd = document.getElementById('4f14beaf-15cb-4077-83bc-1233958fff41');\n",
       "var x = new MutationObserver(function (mutations, observer) {{\n",
       "        var display = window.getComputedStyle(gd).display;\n",
       "        if (!display || display === 'none') {{\n",
       "            console.log([gd, 'removed!']);\n",
       "            Plotly.purge(gd);\n",
       "            observer.disconnect();\n",
       "        }}\n",
       "}});\n",
       "\n",
       "// Listen for the removal of the full notebook cells\n",
       "var notebookContainer = gd.closest('#notebook-container');\n",
       "if (notebookContainer) {{\n",
       "    x.observe(notebookContainer, {childList: true});\n",
       "}}\n",
       "\n",
       "// Listen for the clearing of the current output cell\n",
       "var outputEl = gd.closest('.output');\n",
       "if (outputEl) {{\n",
       "    x.observe(outputEl, {childList: true});\n",
       "}}\n",
       "\n",
       "                        })                };                });            </script>        </div>"
      ]
     },
     "metadata": {},
     "output_type": "display_data"
    }
   ],
   "source": [
    "# Filter the dataset based on \"business_id\"\n",
    "selected_data = select_dataset(train_dataset, business_id, sentiment_model)\n",
    "print(f\"Business name: {selected_data['business_name'].unique()[0]}\\n\")\n",
    "\n",
    "# Get the word vector from the pretrained transformer model and word2vec model\n",
    "selected_data[\"fine_tuned\"] = fine_tuned_encoder.transform(selected_data[\"clean_text\"])\n",
    "\n",
    "# Initialize evaluation results\n",
    "evaluation = []\n",
    "\n",
    "# Initialize subplots\n",
    "fig = make_subplots(rows=2, cols=1, \n",
    "                    subplot_titles=[\"Positive Reviews\", \"Negative Reviews\"])\n",
    "\n",
    "for i, sentiment in enumerate([\"positive\", \"negative\"], start=1):\n",
    "\n",
    "    # Prepare data for clustering by filtering it based on the sentiment\n",
    "    X = selected_data[selected_data[\"sentiment\"] == sentiment].copy()\n",
    "    X_ = np.vstack(X[\"fine_tuned\"].values)\n",
    "    print(f\"Number of {sentiment} reviews: {len(X)}\")\n",
    "\n",
    "    # Clustering\n",
    "    clust = HDBSCANClustering(apply_dim_reduction=True)\n",
    "    X[\"label\"] = clust.fit_transform(X_)\n",
    "\n",
    "    # Evaluation\n",
    "    evaluation.append(evaluate_cluster(X_, X[\"label\"], sentiment))\n",
    "\n",
    "    # Clusters' topic extraction\n",
    "    cluster_text = get_cluster_centroids(X, \"fine_tuned\", \"label\", n=2)\n",
    "    cluster_label = {}\n",
    "    for key in cluster_text:\n",
    "        cluster_label[key] = name_cluster(\"\\n\".join(cluster_text[key]))\n",
    "    \n",
    "    # Fill label as \"Other\" for reviews considered as noise by HDBSCAN\n",
    "    X[\"label\"] = X[\"label\"].map(cluster_label).fillna(\"Other\")\n",
    "\n",
    "    # Visualization\n",
    "    visualize_cluster(fig, X, \"fine_tuned\", \"label\",\n",
    "                      row=i, sentiment=sentiment, show_outliers=False)\n",
    "\n",
    "    print()\n",
    "\n",
    "fig.update_layout(\n",
    "    height=800,\n",
    "    width=1000,\n",
    "    title=\"Customer Review Clusters using Concatenated Word Vector\",\n",
    "    legend=dict(\n",
    "        yanchor=\"top\",\n",
    "        y=1.0,\n",
    "        xanchor=\"left\",\n",
    "        x=1.05,\n",
    "        tracegroupgap=150\n",
    "    )\n",
    ")\n",
    "fig.show()"
   ]
  },
  {
   "cell_type": "markdown",
   "id": "4e15a954",
   "metadata": {},
   "source": [
    "![tun](https://github.com/fandayp/exploratory_projects/blob/main/img/wv_tun.png?raw=true)"
   ]
  },
  {
   "cell_type": "code",
   "execution_count": 116,
   "id": "6f86e7c3-c212-44c7-b5be-290df7f931d0",
   "metadata": {
    "tags": []
   },
   "outputs": [
    {
     "data": {
      "text/html": [
       "<div>\n",
       "<style scoped>\n",
       "    .dataframe tbody tr th:only-of-type {\n",
       "        vertical-align: middle;\n",
       "    }\n",
       "\n",
       "    .dataframe tbody tr th {\n",
       "        vertical-align: top;\n",
       "    }\n",
       "\n",
       "    .dataframe thead th {\n",
       "        text-align: right;\n",
       "    }\n",
       "</style>\n",
       "<table border=\"1\" class=\"dataframe\">\n",
       "  <thead>\n",
       "    <tr style=\"text-align: right;\">\n",
       "      <th></th>\n",
       "      <th>Positive Reviews</th>\n",
       "      <th>Negative Reviews</th>\n",
       "    </tr>\n",
       "  </thead>\n",
       "  <tbody>\n",
       "    <tr>\n",
       "      <th>silhouette_score</th>\n",
       "      <td>0.030882</td>\n",
       "      <td>0.093785</td>\n",
       "    </tr>\n",
       "    <tr>\n",
       "      <th>davies_bouldin_score</th>\n",
       "      <td>1.931764</td>\n",
       "      <td>2.050276</td>\n",
       "    </tr>\n",
       "    <tr>\n",
       "      <th>calinski_harabasz_score</th>\n",
       "      <td>2.539025</td>\n",
       "      <td>2.262458</td>\n",
       "    </tr>\n",
       "  </tbody>\n",
       "</table>\n",
       "</div>"
      ],
      "text/plain": [
       "                         Positive Reviews  Negative Reviews\n",
       "silhouette_score                 0.030882          0.093785\n",
       "davies_bouldin_score             1.931764          2.050276\n",
       "calinski_harabasz_score          2.539025          2.262458"
      ]
     },
     "execution_count": 116,
     "metadata": {},
     "output_type": "execute_result"
    }
   ],
   "source": [
    "# Evaluation\n",
    "fine_tuned_eval = pd.concat(evaluation, axis=1)\n",
    "fine_tuned_eval"
   ]
  },
  {
   "cell_type": "code",
   "execution_count": 118,
   "id": "f9cf78f3-2c31-47eb-a370-2c8b4fbd7a19",
   "metadata": {
    "tags": []
   },
   "outputs": [
    {
     "data": {
      "text/html": [
       "<div>\n",
       "<style scoped>\n",
       "    .dataframe tbody tr th:only-of-type {\n",
       "        vertical-align: middle;\n",
       "    }\n",
       "\n",
       "    .dataframe tbody tr th {\n",
       "        vertical-align: top;\n",
       "    }\n",
       "\n",
       "    .dataframe thead th {\n",
       "        text-align: right;\n",
       "    }\n",
       "</style>\n",
       "<table border=\"1\" class=\"dataframe\">\n",
       "  <thead>\n",
       "    <tr style=\"text-align: right;\">\n",
       "      <th></th>\n",
       "      <th>Positive Reviews</th>\n",
       "      <th>Negative Reviews</th>\n",
       "    </tr>\n",
       "  </thead>\n",
       "  <tbody>\n",
       "    <tr>\n",
       "      <th>silhouette_score</th>\n",
       "      <td>0.042847</td>\n",
       "      <td>0.026767</td>\n",
       "    </tr>\n",
       "    <tr>\n",
       "      <th>davies_bouldin_score</th>\n",
       "      <td>2.047620</td>\n",
       "      <td>1.513416</td>\n",
       "    </tr>\n",
       "    <tr>\n",
       "      <th>calinski_harabasz_score</th>\n",
       "      <td>2.201999</td>\n",
       "      <td>1.267612</td>\n",
       "    </tr>\n",
       "  </tbody>\n",
       "</table>\n",
       "</div>"
      ],
      "text/plain": [
       "                         Positive Reviews  Negative Reviews\n",
       "silhouette_score                 0.042847          0.026767\n",
       "davies_bouldin_score             2.047620          1.513416\n",
       "calinski_harabasz_score          2.201999          1.267612"
      ]
     },
     "execution_count": 118,
     "metadata": {},
     "output_type": "execute_result"
    }
   ],
   "source": [
    "tfm_eval"
   ]
  },
  {
   "cell_type": "code",
   "execution_count": 117,
   "id": "514fdb6a-3daf-48f8-808b-fdc54ff353f0",
   "metadata": {
    "tags": []
   },
   "outputs": [
    {
     "data": {
      "text/html": [
       "<div>\n",
       "<style scoped>\n",
       "    .dataframe tbody tr th:only-of-type {\n",
       "        vertical-align: middle;\n",
       "    }\n",
       "\n",
       "    .dataframe tbody tr th {\n",
       "        vertical-align: top;\n",
       "    }\n",
       "\n",
       "    .dataframe thead th {\n",
       "        text-align: right;\n",
       "    }\n",
       "</style>\n",
       "<table border=\"1\" class=\"dataframe\">\n",
       "  <thead>\n",
       "    <tr style=\"text-align: right;\">\n",
       "      <th></th>\n",
       "      <th>Positive Reviews</th>\n",
       "      <th>Negative Reviews</th>\n",
       "    </tr>\n",
       "  </thead>\n",
       "  <tbody>\n",
       "    <tr>\n",
       "      <th>silhouette_score</th>\n",
       "      <td>0.044464</td>\n",
       "      <td>0.120030</td>\n",
       "    </tr>\n",
       "    <tr>\n",
       "      <th>davies_bouldin_score</th>\n",
       "      <td>1.302124</td>\n",
       "      <td>1.328076</td>\n",
       "    </tr>\n",
       "    <tr>\n",
       "      <th>calinski_harabasz_score</th>\n",
       "      <td>7.526245</td>\n",
       "      <td>4.203363</td>\n",
       "    </tr>\n",
       "  </tbody>\n",
       "</table>\n",
       "</div>"
      ],
      "text/plain": [
       "                         Positive Reviews  Negative Reviews\n",
       "silhouette_score                 0.044464          0.120030\n",
       "davies_bouldin_score             1.302124          1.328076\n",
       "calinski_harabasz_score          7.526245          4.203363"
      ]
     },
     "execution_count": 117,
     "metadata": {},
     "output_type": "execute_result"
    }
   ],
   "source": [
    "w2v_eval"
   ]
  },
  {
   "cell_type": "markdown",
   "id": "27a49cb0-ed36-49d8-84d9-cd96fa77de1c",
   "metadata": {},
   "source": [
    "We observe an improvement in the evaluation score for the fine-tuned Transformer model compared to the base Transformer model. However, the Word2Vec model still generally outperforms both.\n",
    "\n",
    "Next, we will conduct an evaluation on a larger test set."
   ]
  },
  {
   "cell_type": "markdown",
   "id": "ie33N9nBfCSE",
   "metadata": {
    "id": "ie33N9nBfCSE"
   },
   "source": [
    "# Evaluation"
   ]
  },
  {
   "cell_type": "code",
   "execution_count": 119,
   "id": "DOz5lYqKfmlf",
   "metadata": {
    "id": "DOz5lYqKfmlf"
   },
   "outputs": [],
   "source": [
    "# Preprocess the test data\n",
    "test_dataset = data_processor.transform(test_df)"
   ]
  },
  {
   "cell_type": "code",
   "execution_count": 120,
   "id": "z9u2kdReTQCB",
   "metadata": {
    "id": "z9u2kdReTQCB"
   },
   "outputs": [],
   "source": [
    "# Evaluate all the models using the test data\n",
    "\n",
    "scores = []\n",
    "for business_idx in test_data:\n",
    "    selected_data = select_dataset(test_dataset, business_idx, sentiment_model)\n",
    "\n",
    "    if len(selected_data):\n",
    "\n",
    "        # Get the word vector from the trained Word2Vec model\n",
    "        selected_data[\"w2v\"] = w2v_encoder.transform(selected_data[\"tokens\"])\n",
    "        selected_data[\"tfm\"] = transformer_encoder.transform(selected_data[\"clean_text\"])\n",
    "        selected_data[\"concat\"] = selected_data[[\"w2v\", \"tfm\"]].apply(\n",
    "                                      lambda x: np.hstack([x[\"w2v\"], x[\"tfm\"]]), axis=1\n",
    "                                  )\n",
    "        \n",
    "        selected_data[\"fine_tuned\"] = fine_tuned_encoder.transform(\n",
    "                                            selected_data[\"clean_text\"])\n",
    "\n",
    "        for i, sentiment in enumerate([\"positive\", \"negative\"], start=1):\n",
    "\n",
    "            # Prepare data for clustering by filtering it based on the sentiment\n",
    "            X = selected_data[selected_data[\"sentiment\"] == sentiment].copy()\n",
    "\n",
    "            if len(X) >= 5:\n",
    "                for model in [\"w2v\", \"tfm\", \"concat\", \"fine_tuned\"]:\n",
    "                    \n",
    "                    X_ = np.vstack(X[model].values)\n",
    "\n",
    "                    # Clustering\n",
    "                    clust = HDBSCANClustering(apply_dim_reduction=True)\n",
    "                    X[f\"{model}_label\"] = clust.fit_transform(X_)\n",
    "\n",
    "                    # Evaluation\n",
    "                    if X[f\"{model}_label\"].nunique() > 1:\n",
    "                        eval_result = evaluate_cluster(X_,\n",
    "                                                       X[f\"{model}_label\"],\n",
    "                                                       sentiment)\n",
    "\n",
    "                        # Make a list of \"model\", \"sentiment\", \"metric\", \"score\"\n",
    "                        for data in eval_result[f\"{sentiment.title()} Reviews\"].items():\n",
    "                            metric, value = data\n",
    "                            scores.append([model, sentiment, metric, value])"
   ]
  },
  {
   "cell_type": "code",
   "execution_count": 121,
   "id": "6xm4QT9OgVQ_",
   "metadata": {
    "id": "6xm4QT9OgVQ_"
   },
   "outputs": [
    {
     "data": {
      "image/png": "[encoded data removed]",
      "text/plain": [
       "<Figure size 1500x1000 with 2 Axes>"
      ]
     },
     "metadata": {},
     "output_type": "display_data"
    }
   ],
   "source": [
    "# Plot the score in a barplot\n",
    "scores_df = pd.DataFrame(scores, columns=[\"model\", \"sentiment\", \"metric\", \"score\"])\n",
    "\n",
    "fig, ax = plt.subplots(2, 1, figsize=(15, 10))\n",
    "for row, sentiment in enumerate([\"positive\", \"negative\"]):\n",
    "\n",
    "    data = scores_df[scores_df[\"sentiment\"] == sentiment]\n",
    "    data_agg = data.groupby([\"model\", \"metric\"])[\"score\"].mean().reset_index()\n",
    "\n",
    "    sns.barplot(data_agg, x=\"model\", y=\"score\", hue=\"metric\", ax=ax[row])\n",
    "\n",
    "    # Add the score above the bar\n",
    "    for container in ax[row].containers:\n",
    "        ax[row].bar_label(container, fmt=\"%.2f\", label_type=\"edge\")\n",
    "\n",
    "    ax[row].set_title(f\"{sentiment.title()} Reviews Clustering\")\n",
    "    ax[row].legend(loc=\"upper right\")\n",
    "\n",
    "fig.tight_layout()\n",
    "plt.show()"
   ]
  },
  {
   "cell_type": "markdown",
   "id": "3_0psmXdwxN8",
   "metadata": {
    "id": "3_0psmXdwxN8"
   },
   "source": [
    "# Summary\n",
    "\n",
    "---\n",
    "\n"
   ]
  },
  {
   "cell_type": "markdown",
   "id": "XZcqCnXpGuS8",
   "metadata": {
    "id": "XZcqCnXpGuS8"
   },
   "source": [
    "In this notebook, we compare various word vector sources for clustering customer reviews.\n",
    "\n",
    "The evaluation results, based on clustering metrics, indicate that the Word2Vec model performs the best among the models tested. Additionally, the fine-tuned Transformer model shows a slight improvement over the pretrained Transformer model.\n",
    "\n",
    "However, it is important to note that we have not performed extensive hyperparameter tuning in this project, and the dataset size is relatively small. A comparison of inference times is also necessary, which we plan to address these in future work."
   ]
  },
  {
   "cell_type": "markdown",
   "id": "_i5vKZuv8bwz",
   "metadata": {
    "id": "_i5vKZuv8bwz"
   },
   "source": [
    "### References\n",
    "\n",
    "*   https://huggingface.co/blog/train-sentence-transformers\n",
    "*   https://github.com/balmasi/g2_reviews_llm_topic_modeling"
   ]
  },
  {
   "cell_type": "markdown",
   "id": "r54UXmod3x37",
   "metadata": {
    "id": "r54UXmod3x37"
   },
   "source": [
    "### Wrap Up!"
   ]
  },
  {
   "cell_type": "code",
   "execution_count": null,
   "id": "R3NGq5mW3wM9",
   "metadata": {
    "colab": {
     "base_uri": "https://localhost:8080/"
    },
    "executionInfo": {
     "elapsed": 5795,
     "status": "ok",
     "timestamp": 1731914008944,
     "user": {
      "displayName": "",
      "userId": ""
     },
     "user_tz": -420
    },
    "id": "R3NGq5mW3wM9",
    "outputId": "1a138072-1d9f-4ddf-b5f7-ff6677b85308"
   },
   "outputs": [],
   "source": [
    "# # Save the train and test set for future projects\n",
    "# upload_csv_to_gcs(train_df, bucket, \"customer_review_train.csv\")\n",
    "# upload_csv_to_gcs(test_df, bucket, \"customer_review_test.csv\")"
   ]
  },
  {
   "cell_type": "code",
   "execution_count": null,
   "id": "1cb6979a-a589-47e4-ab94-da6b247275c9",
   "metadata": {
    "tags": []
   },
   "outputs": [],
   "source": [
    "# cols = [\"processed_text\", \"tokens\"]\n",
    "# processed_dataset[cols].to_parquet(\"processed_dataset_ckpt.parquet\",\n",
    "#                                    index=False)\n",
    "# !gsutil cp \"processed_dataset_ckpt.parquet\" \"gs://customer_review_hawaii/\"\n",
    "# !rm \"processed_dataset_ckpt.parquet\""
   ]
  },
  {
   "cell_type": "code",
   "execution_count": null,
   "id": "LitiDwbo30c2",
   "metadata": {
    "colab": {
     "base_uri": "https://localhost:8080/"
    },
    "executionInfo": {
     "elapsed": 21,
     "status": "ok",
     "timestamp": 1731914008944,
     "user": {
      "displayName": "",
      "userId": ""
     },
     "user_tz": -420
    },
    "id": "LitiDwbo30c2",
    "outputId": "a2b2efa7-a971-4525-a67e-3415ced0c5ae"
   },
   "outputs": [],
   "source": [
    "# # Save Word2Vec Model\n",
    "# w2v_encoder.model.save(\"word2vec_model.model\")"
   ]
  }
 ],
 "metadata": {
  "colab": {
   "name": "customer_review_clustering.ipynb",
   "provenance": [],
   "toc_visible": true
  },
  "environment": {
   "kernel": "conda-base-py",
   "name": "workbench-notebooks.m125",
   "type": "gcloud",
   "uri": "us-docker.pkg.dev/deeplearning-platform-release/gcr.io/workbench-notebooks:m125"
  },
  "kernelspec": {
   "display_name": "Python 3 (ipykernel)",
   "language": "python",
   "name": "conda-base-py"
  },
  "language_info": {
   "codemirror_mode": {
    "name": "ipython",
    "version": 3
   },
   "file_extension": ".py",
   "mimetype": "text/x-python",
   "name": "python",
   "nbconvert_exporter": "python",
   "pygments_lexer": "ipython3",
   "version": "3.10.15"
  },
  "widgets": {
   "application/vnd.jupyter.widget-state+json": {
    "0d1d9394f8984f5a907197e49689191b": {
     "model_module": "@jupyter-widgets/controls",
     "model_module_version": "1.5.0",
     "model_name": "DescriptionStyleModel",
     "state": {
      "_model_module": "@jupyter-widgets/controls",
      "_model_module_version": "1.5.0",
      "_model_name": "DescriptionStyleModel",
      "_view_count": null,
      "_view_module": "@jupyter-widgets/base",
      "_view_module_version": "1.2.0",
      "_view_name": "StyleView",
      "description_width": ""
     }
    },
    "171b00b5a4904b3abba9c9b3b93f3946": {
     "model_module": "@jupyter-widgets/base",
     "model_module_version": "1.2.0",
     "model_name": "LayoutModel",
     "state": {
      "_model_module": "@jupyter-widgets/base",
      "_model_module_version": "1.2.0",
      "_model_name": "LayoutModel",
      "_view_count": null,
      "_view_module": "@jupyter-widgets/base",
      "_view_module_version": "1.2.0",
      "_view_name": "LayoutView",
      "align_content": null,
      "align_items": null,
      "align_self": null,
      "border": null,
      "bottom": null,
      "display": null,
      "flex": null,
      "flex_flow": null,
      "grid_area": null,
      "grid_auto_columns": null,
      "grid_auto_flow": null,
      "grid_auto_rows": null,
      "grid_column": null,
      "grid_gap": null,
      "grid_row": null,
      "grid_template_areas": null,
      "grid_template_columns": null,
      "grid_template_rows": null,
      "height": null,
      "justify_content": null,
      "justify_items": null,
      "left": null,
      "margin": null,
      "max_height": null,
      "max_width": null,
      "min_height": null,
      "min_width": null,
      "object_fit": null,
      "object_position": null,
      "order": null,
      "overflow": null,
      "overflow_x": null,
      "overflow_y": null,
      "padding": null,
      "right": null,
      "top": null,
      "visibility": null,
      "width": null
     }
    },
    "202bf3182b3b40099cd748b7eb344ae2": {
     "model_module": "@jupyter-widgets/controls",
     "model_module_version": "1.5.0",
     "model_name": "ProgressStyleModel",
     "state": {
      "_model_module": "@jupyter-widgets/controls",
      "_model_module_version": "1.5.0",
      "_model_name": "ProgressStyleModel",
      "_view_count": null,
      "_view_module": "@jupyter-widgets/base",
      "_view_module_version": "1.2.0",
      "_view_name": "StyleView",
      "bar_color": null,
      "description_width": ""
     }
    },
    "270d04e5de2a4d7f955ef6dc62529f6c": {
     "model_module": "@jupyter-widgets/controls",
     "model_module_version": "1.5.0",
     "model_name": "HBoxModel",
     "state": {
      "_dom_classes": [],
      "_model_module": "@jupyter-widgets/controls",
      "_model_module_version": "1.5.0",
      "_model_name": "HBoxModel",
      "_view_count": null,
      "_view_module": "@jupyter-widgets/controls",
      "_view_module_version": "1.5.0",
      "_view_name": "HBoxView",
      "box_style": "",
      "children": [
       "IPY_MODEL_6d93d68bbf1a4483b65b6bc8a65549fa",
       "IPY_MODEL_4f09beb4e96142e8882fb4b86395cfd2",
       "IPY_MODEL_58f3ed776b6e4c508fe41a092f17413c"
      ],
      "layout": "IPY_MODEL_6bb4aeca6ad74a1d998ec76b65dc9a87"
     }
    },
    "3460218d080c4de6956c0dd95d43015a": {
     "model_module": "@jupyter-widgets/base",
     "model_module_version": "1.2.0",
     "model_name": "LayoutModel",
     "state": {
      "_model_module": "@jupyter-widgets/base",
      "_model_module_version": "1.2.0",
      "_model_name": "LayoutModel",
      "_view_count": null,
      "_view_module": "@jupyter-widgets/base",
      "_view_module_version": "1.2.0",
      "_view_name": "LayoutView",
      "align_content": null,
      "align_items": null,
      "align_self": null,
      "border": null,
      "bottom": null,
      "display": null,
      "flex": null,
      "flex_flow": null,
      "grid_area": null,
      "grid_auto_columns": null,
      "grid_auto_flow": null,
      "grid_auto_rows": null,
      "grid_column": null,
      "grid_gap": null,
      "grid_row": null,
      "grid_template_areas": null,
      "grid_template_columns": null,
      "grid_template_rows": null,
      "height": null,
      "justify_content": null,
      "justify_items": null,
      "left": null,
      "margin": null,
      "max_height": null,
      "max_width": null,
      "min_height": null,
      "min_width": null,
      "object_fit": null,
      "object_position": null,
      "order": null,
      "overflow": null,
      "overflow_x": null,
      "overflow_y": null,
      "padding": null,
      "right": null,
      "top": null,
      "visibility": null,
      "width": null
     }
    },
    "4d050b06d1984e5bba83201ce0675563": {
     "model_module": "@jupyter-widgets/base",
     "model_module_version": "1.2.0",
     "model_name": "LayoutModel",
     "state": {
      "_model_module": "@jupyter-widgets/base",
      "_model_module_version": "1.2.0",
      "_model_name": "LayoutModel",
      "_view_count": null,
      "_view_module": "@jupyter-widgets/base",
      "_view_module_version": "1.2.0",
      "_view_name": "LayoutView",
      "align_content": null,
      "align_items": null,
      "align_self": null,
      "border": null,
      "bottom": null,
      "display": null,
      "flex": null,
      "flex_flow": null,
      "grid_area": null,
      "grid_auto_columns": null,
      "grid_auto_flow": null,
      "grid_auto_rows": null,
      "grid_column": null,
      "grid_gap": null,
      "grid_row": null,
      "grid_template_areas": null,
      "grid_template_columns": null,
      "grid_template_rows": null,
      "height": null,
      "justify_content": null,
      "justify_items": null,
      "left": null,
      "margin": null,
      "max_height": null,
      "max_width": null,
      "min_height": null,
      "min_width": null,
      "object_fit": null,
      "object_position": null,
      "order": null,
      "overflow": null,
      "overflow_x": null,
      "overflow_y": null,
      "padding": null,
      "right": null,
      "top": null,
      "visibility": null,
      "width": null
     }
    },
    "4d8c3ec8248a461abf5b599b7860fd09": {
     "model_module": "@jupyter-widgets/controls",
     "model_module_version": "1.5.0",
     "model_name": "HBoxModel",
     "state": {
      "_dom_classes": [],
      "_model_module": "@jupyter-widgets/controls",
      "_model_module_version": "1.5.0",
      "_model_name": "HBoxModel",
      "_view_count": null,
      "_view_module": "@jupyter-widgets/controls",
      "_view_module_version": "1.5.0",
      "_view_name": "HBoxView",
      "box_style": "",
      "children": [
       "IPY_MODEL_6c8dac7a72eb44cabdb3216befbf77a3",
       "IPY_MODEL_f557691ee375494389318cc00c41573c",
       "IPY_MODEL_deb69b48493c4e55a6fafa6c181ed65e"
      ],
      "layout": "IPY_MODEL_171b00b5a4904b3abba9c9b3b93f3946"
     }
    },
    "4f09beb4e96142e8882fb4b86395cfd2": {
     "model_module": "@jupyter-widgets/controls",
     "model_module_version": "1.5.0",
     "model_name": "FloatProgressModel",
     "state": {
      "_dom_classes": [],
      "_model_module": "@jupyter-widgets/controls",
      "_model_module_version": "1.5.0",
      "_model_name": "FloatProgressModel",
      "_view_count": null,
      "_view_module": "@jupyter-widgets/controls",
      "_view_module_version": "1.5.0",
      "_view_name": "ProgressView",
      "bar_style": "success",
      "description": "",
      "description_tooltip": null,
      "layout": "IPY_MODEL_3460218d080c4de6956c0dd95d43015a",
      "max": 229781,
      "min": 0,
      "orientation": "horizontal",
      "style": "IPY_MODEL_509955355f304c629cf8ebc2b4943712",
      "value": 229781
     }
    },
    "509955355f304c629cf8ebc2b4943712": {
     "model_module": "@jupyter-widgets/controls",
     "model_module_version": "1.5.0",
     "model_name": "ProgressStyleModel",
     "state": {
      "_model_module": "@jupyter-widgets/controls",
      "_model_module_version": "1.5.0",
      "_model_name": "ProgressStyleModel",
      "_view_count": null,
      "_view_module": "@jupyter-widgets/base",
      "_view_module_version": "1.2.0",
      "_view_name": "StyleView",
      "bar_color": null,
      "description_width": ""
     }
    },
    "53e6706c8b8849a0984701ec83f28b25": {
     "model_module": "@jupyter-widgets/controls",
     "model_module_version": "1.5.0",
     "model_name": "DescriptionStyleModel",
     "state": {
      "_model_module": "@jupyter-widgets/controls",
      "_model_module_version": "1.5.0",
      "_model_name": "DescriptionStyleModel",
      "_view_count": null,
      "_view_module": "@jupyter-widgets/base",
      "_view_module_version": "1.2.0",
      "_view_name": "StyleView",
      "description_width": ""
     }
    },
    "58f3ed776b6e4c508fe41a092f17413c": {
     "model_module": "@jupyter-widgets/controls",
     "model_module_version": "1.5.0",
     "model_name": "HTMLModel",
     "state": {
      "_dom_classes": [],
      "_model_module": "@jupyter-widgets/controls",
      "_model_module_version": "1.5.0",
      "_model_name": "HTMLModel",
      "_view_count": null,
      "_view_module": "@jupyter-widgets/controls",
      "_view_module_version": "1.5.0",
      "_view_name": "HTMLView",
      "description": "",
      "description_tooltip": null,
      "layout": "IPY_MODEL_5ef7a57ca5f14f0c8ea0f0bf0fc3604d",
      "placeholder": "​",
      "style": "IPY_MODEL_a4aee213cbdc4c40bdae7f5c4cca1f4a",
      "value": " 229781/229781 [00:20&lt;00:00, 13245.89 examples/s]"
     }
    },
    "5ef7a57ca5f14f0c8ea0f0bf0fc3604d": {
     "model_module": "@jupyter-widgets/base",
     "model_module_version": "1.2.0",
     "model_name": "LayoutModel",
     "state": {
      "_model_module": "@jupyter-widgets/base",
      "_model_module_version": "1.2.0",
      "_model_name": "LayoutModel",
      "_view_count": null,
      "_view_module": "@jupyter-widgets/base",
      "_view_module_version": "1.2.0",
      "_view_name": "LayoutView",
      "align_content": null,
      "align_items": null,
      "align_self": null,
      "border": null,
      "bottom": null,
      "display": null,
      "flex": null,
      "flex_flow": null,
      "grid_area": null,
      "grid_auto_columns": null,
      "grid_auto_flow": null,
      "grid_auto_rows": null,
      "grid_column": null,
      "grid_gap": null,
      "grid_row": null,
      "grid_template_areas": null,
      "grid_template_columns": null,
      "grid_template_rows": null,
      "height": null,
      "justify_content": null,
      "justify_items": null,
      "left": null,
      "margin": null,
      "max_height": null,
      "max_width": null,
      "min_height": null,
      "min_width": null,
      "object_fit": null,
      "object_position": null,
      "order": null,
      "overflow": null,
      "overflow_x": null,
      "overflow_y": null,
      "padding": null,
      "right": null,
      "top": null,
      "visibility": null,
      "width": null
     }
    },
    "6bb4aeca6ad74a1d998ec76b65dc9a87": {
     "model_module": "@jupyter-widgets/base",
     "model_module_version": "1.2.0",
     "model_name": "LayoutModel",
     "state": {
      "_model_module": "@jupyter-widgets/base",
      "_model_module_version": "1.2.0",
      "_model_name": "LayoutModel",
      "_view_count": null,
      "_view_module": "@jupyter-widgets/base",
      "_view_module_version": "1.2.0",
      "_view_name": "LayoutView",
      "align_content": null,
      "align_items": null,
      "align_self": null,
      "border": null,
      "bottom": null,
      "display": null,
      "flex": null,
      "flex_flow": null,
      "grid_area": null,
      "grid_auto_columns": null,
      "grid_auto_flow": null,
      "grid_auto_rows": null,
      "grid_column": null,
      "grid_gap": null,
      "grid_row": null,
      "grid_template_areas": null,
      "grid_template_columns": null,
      "grid_template_rows": null,
      "height": null,
      "justify_content": null,
      "justify_items": null,
      "left": null,
      "margin": null,
      "max_height": null,
      "max_width": null,
      "min_height": null,
      "min_width": null,
      "object_fit": null,
      "object_position": null,
      "order": null,
      "overflow": null,
      "overflow_x": null,
      "overflow_y": null,
      "padding": null,
      "right": null,
      "top": null,
      "visibility": null,
      "width": null
     }
    },
    "6c8dac7a72eb44cabdb3216befbf77a3": {
     "model_module": "@jupyter-widgets/controls",
     "model_module_version": "1.5.0",
     "model_name": "HTMLModel",
     "state": {
      "_dom_classes": [],
      "_model_module": "@jupyter-widgets/controls",
      "_model_module_version": "1.5.0",
      "_model_name": "HTMLModel",
      "_view_count": null,
      "_view_module": "@jupyter-widgets/controls",
      "_view_module_version": "1.5.0",
      "_view_name": "HTMLView",
      "description": "",
      "description_tooltip": null,
      "layout": "IPY_MODEL_4d050b06d1984e5bba83201ce0675563",
      "placeholder": "​",
      "style": "IPY_MODEL_53e6706c8b8849a0984701ec83f28b25",
      "value": "Map: 100%"
     }
    },
    "6d93d68bbf1a4483b65b6bc8a65549fa": {
     "model_module": "@jupyter-widgets/controls",
     "model_module_version": "1.5.0",
     "model_name": "HTMLModel",
     "state": {
      "_dom_classes": [],
      "_model_module": "@jupyter-widgets/controls",
      "_model_module_version": "1.5.0",
      "_model_name": "HTMLModel",
      "_view_count": null,
      "_view_module": "@jupyter-widgets/controls",
      "_view_module_version": "1.5.0",
      "_view_name": "HTMLView",
      "description": "",
      "description_tooltip": null,
      "layout": "IPY_MODEL_e307e1411cab401bbf447d94ad7f5997",
      "placeholder": "​",
      "style": "IPY_MODEL_0d1d9394f8984f5a907197e49689191b",
      "value": "Map: 100%"
     }
    },
    "819d212c215840f2a2f62cf8c4f0e64a": {
     "model_module": "@jupyter-widgets/base",
     "model_module_version": "1.2.0",
     "model_name": "LayoutModel",
     "state": {
      "_model_module": "@jupyter-widgets/base",
      "_model_module_version": "1.2.0",
      "_model_name": "LayoutModel",
      "_view_count": null,
      "_view_module": "@jupyter-widgets/base",
      "_view_module_version": "1.2.0",
      "_view_name": "LayoutView",
      "align_content": null,
      "align_items": null,
      "align_self": null,
      "border": null,
      "bottom": null,
      "display": null,
      "flex": null,
      "flex_flow": null,
      "grid_area": null,
      "grid_auto_columns": null,
      "grid_auto_flow": null,
      "grid_auto_rows": null,
      "grid_column": null,
      "grid_gap": null,
      "grid_row": null,
      "grid_template_areas": null,
      "grid_template_columns": null,
      "grid_template_rows": null,
      "height": null,
      "justify_content": null,
      "justify_items": null,
      "left": null,
      "margin": null,
      "max_height": null,
      "max_width": null,
      "min_height": null,
      "min_width": null,
      "object_fit": null,
      "object_position": null,
      "order": null,
      "overflow": null,
      "overflow_x": null,
      "overflow_y": null,
      "padding": null,
      "right": null,
      "top": null,
      "visibility": null,
      "width": null
     }
    },
    "a4aee213cbdc4c40bdae7f5c4cca1f4a": {
     "model_module": "@jupyter-widgets/controls",
     "model_module_version": "1.5.0",
     "model_name": "DescriptionStyleModel",
     "state": {
      "_model_module": "@jupyter-widgets/controls",
      "_model_module_version": "1.5.0",
      "_model_name": "DescriptionStyleModel",
      "_view_count": null,
      "_view_module": "@jupyter-widgets/base",
      "_view_module_version": "1.2.0",
      "_view_name": "StyleView",
      "description_width": ""
     }
    },
    "aa080b3cf6b141b890a2ae34651776f3": {
     "model_module": "@jupyter-widgets/base",
     "model_module_version": "1.2.0",
     "model_name": "LayoutModel",
     "state": {
      "_model_module": "@jupyter-widgets/base",
      "_model_module_version": "1.2.0",
      "_model_name": "LayoutModel",
      "_view_count": null,
      "_view_module": "@jupyter-widgets/base",
      "_view_module_version": "1.2.0",
      "_view_name": "LayoutView",
      "align_content": null,
      "align_items": null,
      "align_self": null,
      "border": null,
      "bottom": null,
      "display": null,
      "flex": null,
      "flex_flow": null,
      "grid_area": null,
      "grid_auto_columns": null,
      "grid_auto_flow": null,
      "grid_auto_rows": null,
      "grid_column": null,
      "grid_gap": null,
      "grid_row": null,
      "grid_template_areas": null,
      "grid_template_columns": null,
      "grid_template_rows": null,
      "height": null,
      "justify_content": null,
      "justify_items": null,
      "left": null,
      "margin": null,
      "max_height": null,
      "max_width": null,
      "min_height": null,
      "min_width": null,
      "object_fit": null,
      "object_position": null,
      "order": null,
      "overflow": null,
      "overflow_x": null,
      "overflow_y": null,
      "padding": null,
      "right": null,
      "top": null,
      "visibility": null,
      "width": null
     }
    },
    "aa2882c665014530a4d98569a507ecf7": {
     "model_module": "@jupyter-widgets/controls",
     "model_module_version": "1.5.0",
     "model_name": "DescriptionStyleModel",
     "state": {
      "_model_module": "@jupyter-widgets/controls",
      "_model_module_version": "1.5.0",
      "_model_name": "DescriptionStyleModel",
      "_view_count": null,
      "_view_module": "@jupyter-widgets/base",
      "_view_module_version": "1.2.0",
      "_view_name": "StyleView",
      "description_width": ""
     }
    },
    "deb69b48493c4e55a6fafa6c181ed65e": {
     "model_module": "@jupyter-widgets/controls",
     "model_module_version": "1.5.0",
     "model_name": "HTMLModel",
     "state": {
      "_dom_classes": [],
      "_model_module": "@jupyter-widgets/controls",
      "_model_module_version": "1.5.0",
      "_model_name": "HTMLModel",
      "_view_count": null,
      "_view_module": "@jupyter-widgets/controls",
      "_view_module_version": "1.5.0",
      "_view_name": "HTMLView",
      "description": "",
      "description_tooltip": null,
      "layout": "IPY_MODEL_aa080b3cf6b141b890a2ae34651776f3",
      "placeholder": "​",
      "style": "IPY_MODEL_aa2882c665014530a4d98569a507ecf7",
      "value": " 229781/229781 [01:01&lt;00:00, 4035.83 examples/s]"
     }
    },
    "e307e1411cab401bbf447d94ad7f5997": {
     "model_module": "@jupyter-widgets/base",
     "model_module_version": "1.2.0",
     "model_name": "LayoutModel",
     "state": {
      "_model_module": "@jupyter-widgets/base",
      "_model_module_version": "1.2.0",
      "_model_name": "LayoutModel",
      "_view_count": null,
      "_view_module": "@jupyter-widgets/base",
      "_view_module_version": "1.2.0",
      "_view_name": "LayoutView",
      "align_content": null,
      "align_items": null,
      "align_self": null,
      "border": null,
      "bottom": null,
      "display": null,
      "flex": null,
      "flex_flow": null,
      "grid_area": null,
      "grid_auto_columns": null,
      "grid_auto_flow": null,
      "grid_auto_rows": null,
      "grid_column": null,
      "grid_gap": null,
      "grid_row": null,
      "grid_template_areas": null,
      "grid_template_columns": null,
      "grid_template_rows": null,
      "height": null,
      "justify_content": null,
      "justify_items": null,
      "left": null,
      "margin": null,
      "max_height": null,
      "max_width": null,
      "min_height": null,
      "min_width": null,
      "object_fit": null,
      "object_position": null,
      "order": null,
      "overflow": null,
      "overflow_x": null,
      "overflow_y": null,
      "padding": null,
      "right": null,
      "top": null,
      "visibility": null,
      "width": null
     }
    },
    "f557691ee375494389318cc00c41573c": {
     "model_module": "@jupyter-widgets/controls",
     "model_module_version": "1.5.0",
     "model_name": "FloatProgressModel",
     "state": {
      "_dom_classes": [],
      "_model_module": "@jupyter-widgets/controls",
      "_model_module_version": "1.5.0",
      "_model_name": "FloatProgressModel",
      "_view_count": null,
      "_view_module": "@jupyter-widgets/controls",
      "_view_module_version": "1.5.0",
      "_view_name": "ProgressView",
      "bar_style": "success",
      "description": "",
      "description_tooltip": null,
      "layout": "IPY_MODEL_819d212c215840f2a2f62cf8c4f0e64a",
      "max": 229781,
      "min": 0,
      "orientation": "horizontal",
      "style": "IPY_MODEL_202bf3182b3b40099cd748b7eb344ae2",
      "value": 229781
     }
    }
   }
  }
 },
 "nbformat": 4,
 "nbformat_minor": 5
}
