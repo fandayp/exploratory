{
 "cells": [
  {
   "cell_type": "markdown",
   "id": "TUod_SQ67TEw",
   "metadata": {
    "id": "TUod_SQ67TEw"
   },
   "source": [
    "# Introduction"
   ]
  },
  {
   "cell_type": "markdown",
   "id": "dWKWoQ7KXP2B",
   "metadata": {
    "id": "dWKWoQ7KXP2B"
   },
   "source": [
    "Sleep is arguably one of the most mysterious yet essential aspects of our life. Sleep deprivation can lead to problems such as impaired cognitive function. Unfortunately, sleep disorders affect many people, disrupting both the quantity and quality of sleep. One method for identifying sleep disorders is by **analyzing sleep patterns**.\n",
    "\n",
    "Currently, sleep stage annotation is typically performed by trained experts, a process that can take several hours to annotate a single sleep study session. This creates an opportunity for automation, where machine learning models could significantly reduce the time and effort required for this task.\n",
    "\n",
    "However, one major challenge with using machine learning models in medical environments is their \"black-box\" nature, meaning their decision-making processes are often **not easily interpretable**. Recent research has aimed to address this issue by developing **interpretable models**, such as in this [study](https://arxiv.org/pdf/2105.11043.pdf), which uses transformers to enhance both performance and interpretability in sleep stage classification.\n",
    "\n",
    "Building on this progress, the objective of this project is to employ a transformer-based model as the backbone and further enhance it by:\n",
    "- exploring a **lightweight transformer** architecture ([Linformer](https://arxiv.org/abs/2006.04768)) for faster training and inference.\n",
    "- including **personalization** using subject-specific information, such as gender and age, as sleep patterns are known to vary across different demographics, as mentioned [here](https://www.sleepfoundation.org/stages-of-sleep)."
   ]
  },
  {
   "cell_type": "markdown",
   "id": "nj8A1hzx7bTO",
   "metadata": {
    "id": "nj8A1hzx7bTO"
   },
   "source": [
    "## Dataset"
   ]
  },
  {
   "cell_type": "markdown",
   "id": "dXfTFz1DGnJh",
   "metadata": {
    "id": "dXfTFz1DGnJh"
   },
   "source": [
    "## Definitions\n",
    "\n",
    "Since this project contains a lot of domain-specific terminology, this section is dedicated to listing all the terms in the sleep-staging and transformer modeling domains."
   ]
  },
  {
   "cell_type": "markdown",
   "id": "I5tW2uylGqQg",
   "metadata": {
    "id": "I5tW2uylGqQg"
   },
   "source": [
    "### Sleep-related terminologies\n",
    "\n",
    "- **Polysomnography (PSG)**: a comprehensive diagnostic tool used in sleep studies to record various physiological functions during sleep.\n",
    "- **PSG epoch**: a 30-second frame PSG recording.\n",
    "- **PSG sequence**: several PSG epochs that last one recording session.\n",
    "- **Electroencephalography (EEG)**: a measurement of brain wave activity, which helps to determine different sleep stages. This is one of the component of PSG.\n",
    "- **Fpz-Cz EEG**: the *electrode placement* on the scalp for recording EEG signals, **Fpz** indicates to the midpoint of the forehead, while **Cz** is center of the scalp. See the picture below.\n",
    "\n",
    "<img src=\"https://www.orimtec.com/images/illustration/pop/eeg/electrode_placement_diagram.jpg\" alt=\"EEG 10.20 placement\" width=\"200\" height=\"200\">\n",
    "\n",
    "In general, sleeping stages are divided into eight categories:\n",
    "\n",
    "\n",
    "1. **Wake (W)**: the stage when a person is awake. It is characterized by *low-voltage, mixed-frequency brain waves* on the EEG.\n",
    "2. **Stage 1 Non-REM Sleep (N1)**: the *lightest stage of non-REM sleep*. It marks the transition from wakefulness to sleep.\n",
    "3. **Stage 2 Non-REM Sleep (N2)**: a deeper stage of sleep characterized by *sleep spindles* (sudden bursts of brain activity) and *K-complexes* (large waves that occur in response to external stimuli).\n",
    "4. **Stage 3 Non-REM Sleep (N3)**: the deepest stage of non-REM sleep.\n",
    "5. **Stage 4 Non-REM Sleep (N4)**: historically, N3 and N4 were distinguished as separate stages, but they are now both considered as one stage.\n",
    "6. **Rapid Eye Movement (REM)**: a unique sleep stage characterized by rapid eye movements, paradoxical brain activity (similar to being awake), and muscle atonia (loss of muscle tone).\n",
    "7. **Movement**: refers to periods of muscle activity or movement during sleep.\n",
    "8. **Unknown**: when the sleep stage is not clear or cannot be classified due to poor signal quality, artifacts, or insufficient data.\n",
    "\n",
    "\n"
   ]
  },
  {
   "cell_type": "markdown",
   "id": "XSSpTDR27l55",
   "metadata": {
    "id": "XSSpTDR27l55"
   },
   "source": [
    "# Exploratory Data Analysis"
   ]
  },
  {
   "cell_type": "code",
   "execution_count": 36,
   "id": "-ZKmhHac7rag",
   "metadata": {
    "executionInfo": {
     "elapsed": 2,
     "status": "ok",
     "timestamp": 1732625294063,
     "user": {
      "displayName": "",
      "userId": ""
     },
     "user_tz": -420
    },
    "id": "-ZKmhHac7rag"
   },
   "outputs": [],
   "source": [
    "from google.cloud import storage\n",
    "\n",
    "import matplotlib.pyplot as plt\n",
    "import seaborn as sns\n",
    "\n",
    "import pandas as pd\n",
    "import numpy as np\n",
    "import io\n",
    "import os"
   ]
  },
  {
   "cell_type": "code",
   "execution_count": 23,
   "id": "dfgkxorh7k-Y",
   "metadata": {
    "executionInfo": {
     "elapsed": 5,
     "status": "ok",
     "timestamp": 1732617470855,
     "user": {
      "displayName": "",
      "userId": ""
     },
     "user_tz": -420
    },
    "id": "dfgkxorh7k-Y"
   },
   "outputs": [],
   "source": [
    "# Helper functions\n",
    "\n",
    "def download_data_from_gcs(bucket, file_name):\n",
    "    \"\"\"\n",
    "        A function to download data from GCS.\n",
    "        The original data is of NumPy's .npz type.\n",
    "    \"\"\"\n",
    "\n",
    "    blob = bucket.blob(file_name)\n",
    "    npz_bytes = blob.download_as_bytes()\n",
    "    data = np.load(io.BytesIO(npz_bytes), allow_pickle=True)\n",
    "\n",
    "    return data"
   ]
  },
  {
   "cell_type": "code",
   "execution_count": 4,
   "id": "ZpEY9iO28jbX",
   "metadata": {
    "executionInfo": {
     "elapsed": 2,
     "status": "ok",
     "timestamp": 1732615770566,
     "user": {
      "displayName": "",
      "userId": ""
     },
     "user_tz": -420
    },
    "id": "ZpEY9iO28jbX"
   },
   "outputs": [],
   "source": [
    "# Create a client GCS and get the specified bucket\n",
    "client = storage.Client(project=PROJECT_ID)\n",
    "bucket = client.get_bucket(BUCKET_NAME)"
   ]
  },
  {
   "cell_type": "code",
   "execution_count": 16,
   "id": "i9mc7eyQ8oPk",
   "metadata": {
    "colab": {
     "base_uri": "https://localhost:8080/"
    },
    "executionInfo": {
     "elapsed": 7,
     "status": "ok",
     "timestamp": 1732616341629,
     "user": {
      "displayName": "",
      "userId": ""
     },
     "user_tz": -420
    },
    "id": "i9mc7eyQ8oPk",
    "outputId": "f412bdf4-9e09-48fd-f665-7f5a53e85c89"
   },
   "outputs": [
    {
     "name": "stdout",
     "output_type": "stream",
     "text": [
      "Number of files: 2\n"
     ]
    }
   ],
   "source": [
    "# List the data files.\n",
    "# Note that each file contains one PSG recording for each of the 78 subjects,\n",
    "# with each subject having a 2-day recording.\n",
    "\n",
    "data_files = !gsutil ls gs://{BUCKET_NAME}\n",
    "data_files = [os.path.basename(f) for f in data_files if f[-4:]]\n",
    "print(f\"Number of files: {len(data_files)}\")"
   ]
  },
  {
   "cell_type": "code",
   "execution_count": 24,
   "id": "3OO9U-Ev-atO",
   "metadata": {
    "executionInfo": {
     "elapsed": 4,
     "status": "ok",
     "timestamp": 1732617470855,
     "user": {
      "displayName": "",
      "userId": ""
     },
     "user_tz": -420
    },
    "id": "3OO9U-Ev-atO"
   },
   "outputs": [],
   "source": [
    "# Load the data\n",
    "\n",
    "data = []\n",
    "for f in data_files:\n",
    "    data.append(download_data_from_gcs(bucket, f))"
   ]
  },
  {
   "cell_type": "code",
   "execution_count": 35,
   "id": "g46rmwyU-0_z",
   "metadata": {
    "colab": {
     "base_uri": "https://localhost:8080/"
    },
    "executionInfo": {
     "elapsed": 2,
     "status": "ok",
     "timestamp": 1732618293817,
     "user": {
      "displayName": "",
      "userId": ""
     },
     "user_tz": -420
    },
    "id": "g46rmwyU-0_z",
    "outputId": "c3c590f6-4e77-46a9-e0e4-93158c801383"
   },
   "outputs": [
    {
     "name": "stdout",
     "output_type": "stream",
     "text": [
      "EEG signal shape   : (841, 3000, 1)\n",
      "EEG label shape    : (841,)\n",
      "EEG channel labels : EEG Fpz-Cz\n",
      "Sampling frequency : 100.0 Hz\n",
      "Subject details    : X F X Female_33yr\n"
     ]
    }
   ],
   "source": [
    "# Sneak peak into the structure of the data\n",
    "sample = data[0]\n",
    "\n",
    "print(f\"EEG signal shape   : {sample['x'].shape}\")\n",
    "print(f\"EEG label shape    : {sample['y'].shape}\")\n",
    "print(f\"EEG channel labels : {sample['ch_label']}\")\n",
    "print(f\"Sampling frequency : {sample['fs']} Hz\")\n",
    "print(f\"Subject details    : {sample['header_raw'].item()['local_subject_id']}\")"
   ]
  },
  {
   "cell_type": "markdown",
   "id": "FqzmN0hQ7Bo1",
   "metadata": {
    "id": "FqzmN0hQ7Bo1"
   },
   "source": [
    "# References"
   ]
  },
  {
   "cell_type": "markdown",
   "id": "4_lgJ8Lw7FJE",
   "metadata": {
    "id": "4_lgJ8Lw7FJE"
   },
   "source": [
    "- https://arxiv.org/pdf/2105.11043\n",
    "- https://researchdata.ntu.edu.sg/dataverse/attnSleep\n",
    "- https://www.youtube.com/watch?v=ISNdQcPhsts&t=5553s"
   ]
  }
 ],
 "metadata": {
  "colab": {
   "name": "fandaayp (Nov 26, 2024, 5:01:44 PM)",
   "provenance": []
  },
  "kernelspec": {
   "display_name": "Python 3",
   "language": "python",
   "name": "python3"
  },
  "language_info": {
   "codemirror_mode": {
    "name": "ipython",
    "version": 3
   },
   "file_extension": ".py",
   "mimetype": "text/x-python",
   "name": "python",
   "nbconvert_exporter": "python",
   "pygments_lexer": "ipython3",
   "version": "3.10.10"
  }
 },
 "nbformat": 4,
 "nbformat_minor": 5
}
